{
 "cells": [
  {
   "cell_type": "code",
   "execution_count": 2,
   "metadata": {
    "colab": {
     "base_uri": "https://localhost:8080/",
     "height": 51
    },
    "colab_type": "code",
    "id": "3GcS4Bpi_Fth",
    "outputId": "949d506b-67f4-4333-db12-33689a2eff78"
   },
   "outputs": [
    {
     "name": "stdout",
     "output_type": "stream",
     "text": [
      "Requirement already satisfied: deap in /usr/local/lib/python3.6/dist-packages (1.3.1)\n",
      "Requirement already satisfied: numpy in /usr/local/lib/python3.6/dist-packages (from deap) (1.18.5)\n"
     ]
    }
   ],
   "source": [
    "!pip install deap"
   ]
  },
  {
   "cell_type": "code",
   "execution_count": 3,
   "metadata": {
    "colab": {
     "base_uri": "https://localhost:8080/",
     "height": 34
    },
    "colab_type": "code",
    "id": "zliVa8VX_ejV",
    "outputId": "10164d9a-cec8-49d2-9666-1936239575b2"
   },
   "outputs": [
    {
     "name": "stdout",
     "output_type": "stream",
     "text": [
      "Requirement already satisfied: bitstring in /usr/local/lib/python3.6/dist-packages (3.1.7)\n"
     ]
    }
   ],
   "source": [
    "!pip install bitstring"
   ]
  },
  {
   "cell_type": "code",
   "execution_count": 4,
   "metadata": {
    "colab": {
     "base_uri": "https://localhost:8080/",
     "height": 34
    },
    "colab_type": "code",
    "id": "dSknce3X_gux",
    "outputId": "d2935454-2dab-428b-d239-e20c9e3fc650"
   },
   "outputs": [
    {
     "name": "stdout",
     "output_type": "stream",
     "text": [
      "Requirement already satisfied: transforms3d in /usr/local/lib/python3.6/dist-packages (0.3.1)\n"
     ]
    }
   ],
   "source": [
    "!pip install transforms3d"
   ]
  },
  {
   "cell_type": "code",
   "execution_count": 5,
   "metadata": {
    "colab": {
     "base_uri": "https://localhost:8080/",
     "height": 68
    },
    "colab_type": "code",
    "id": "du9GbswO_jMR",
    "outputId": "97a8f06d-1709-4767-e473-730745daf817"
   },
   "outputs": [
    {
     "name": "stdout",
     "output_type": "stream",
     "text": [
      "Requirement already satisfied: tsaug in /usr/local/lib/python3.6/dist-packages (0.2.1)\n",
      "Requirement already satisfied: numpy>=1.14 in /usr/local/lib/python3.6/dist-packages (from tsaug) (1.18.5)\n",
      "Requirement already satisfied: scipy>=1.1 in /usr/local/lib/python3.6/dist-packages (from tsaug) (1.4.1)\n"
     ]
    }
   ],
   "source": [
    "!pip install tsaug"
   ]
  },
  {
   "cell_type": "code",
   "execution_count": 6,
   "metadata": {
    "colab": {},
    "colab_type": "code",
    "id": "KTuU01uk9xMT"
   },
   "outputs": [],
   "source": [
    "import os\n",
    "import pandas as pd\n",
    "import numpy as np\n",
    "from sklearn.utils import shuffle\n",
    "from scipy import stats \n",
    "import matplotlib.pyplot as plt \n",
    "from sklearn.model_selection import train_test_split\n",
    "from sklearn.preprocessing import MinMaxScaler\n",
    "from tensorflow import keras\n",
    "import tensorflow as tf\n",
    "from tensorflow.keras.preprocessing.sequence import pad_sequences\n",
    "from tensorflow.keras.preprocessing.text import Tokenizer\n",
    "from tensorflow.keras.layers import Dense, Input, LSTM, Embedding, Dropout, Activation\n",
    "from tensorflow.keras.layers import Bidirectional, GlobalMaxPool1D\n",
    "from tensorflow.keras.models import Model, Sequential\n",
    "from tensorflow.compat.v1.keras.layers import CuDNNLSTM\n",
    "from tensorflow.keras.layers import RepeatVector\n",
    "from tensorflow.keras.layers import TimeDistributed\n",
    "from tensorflow.keras import layers\n",
    "from sklearn.metrics import accuracy_score\n",
    "from sklearn.metrics import precision_score\n",
    "from sklearn.metrics import recall_score\n",
    "from sklearn.metrics import f1_score\n",
    "from sklearn.metrics import cohen_kappa_score\n",
    "from sklearn.metrics import mean_squared_error\n",
    "from tensorflow.keras.utils import plot_model\n",
    "from sklearn.impute import KNNImputer\n",
    "from sklearn.metrics import r2_score\n",
    "from sklearn.metrics import max_error\n",
    "from deap import base, creator, tools, algorithms\n",
    "from scipy.stats import bernoulli\n",
    "from bitstring import BitArray\n",
    "from scipy.interpolate import CubicSpline      # for warping\n",
    "from transforms3d.axangles import axangle2mat  # for rotation\n",
    "from tsaug import TimeWarp, Crop, Quantize, Drift, Reverse\n",
    "\n",
    "from math import sqrt\n",
    "from matplotlib import pyplot\n",
    "from sklearn.preprocessing import LabelEncoder"
   ]
  },
  {
   "cell_type": "code",
   "execution_count": 7,
   "metadata": {
    "colab": {
     "base_uri": "https://localhost:8080/",
     "height": 35
    },
    "colab_type": "code",
    "id": "j-X4dVFX-Eit",
    "outputId": "1699a590-a1b9-45a9-bc00-7186eef13feb"
   },
   "outputs": [
    {
     "data": {
      "application/vnd.google.colaboratory.intrinsic+json": {
       "type": "string"
      },
      "text/plain": [
       "'/content'"
      ]
     },
     "execution_count": 7,
     "metadata": {
      "tags": []
     },
     "output_type": "execute_result"
    }
   ],
   "source": [
    "pwd"
   ]
  },
  {
   "cell_type": "code",
   "execution_count": 9,
   "metadata": {
    "colab": {},
    "colab_type": "code",
    "id": "KMW62TDd-IIn"
   },
   "outputs": [],
   "source": [
    "#%%time \n",
    "#!wget -O owid-covid-data.csv https://covid.ourworldindata.org/data/owid-covid-data.csv"
   ]
  },
  {
   "cell_type": "code",
   "execution_count": 10,
   "metadata": {
    "colab": {},
    "colab_type": "code",
    "id": "eK4anJP1-Nh3"
   },
   "outputs": [],
   "source": [
    "df = pd.read_csv('C:/Users/pc lenevo/Desktop/covid_3scenario/data_complet/owid-covid-data.csv') # having First.csv zipped file."
   ]
  },
  {
   "cell_type": "code",
   "execution_count": 11,
   "metadata": {
    "colab": {
     "base_uri": "https://localhost:8080/",
     "height": 816
    },
    "colab_type": "code",
    "id": "BilnmU0Y-Qlv",
    "outputId": "92e23979-d323-45c3-e883-c344b2c6a398"
   },
   "outputs": [
    {
     "name": "stdout",
     "output_type": "stream",
     "text": [
      "<class 'pandas.core.frame.DataFrame'>\n",
      "RangeIndex: 38849 entries, 0 to 38848\n",
      "Data columns (total 40 columns):\n",
      " #   Column                           Non-Null Count  Dtype  \n",
      "---  ------                           --------------  -----  \n",
      " 0   iso_code                         38613 non-null  object \n",
      " 1   continent                        38377 non-null  object \n",
      " 2   location                         38849 non-null  object \n",
      " 3   date                             38849 non-null  object \n",
      " 4   total_cases                      38273 non-null  float64\n",
      " 5   new_cases                        38101 non-null  float64\n",
      " 6   new_cases_smoothed               37320 non-null  float64\n",
      " 7   total_deaths                     38273 non-null  float64\n",
      " 8   new_deaths                       38101 non-null  float64\n",
      " 9   new_deaths_smoothed              37320 non-null  float64\n",
      " 10  total_cases_per_million          38037 non-null  float64\n",
      " 11  new_cases_per_million            38037 non-null  float64\n",
      " 12  new_cases_smoothed_per_million   37255 non-null  float64\n",
      " 13  total_deaths_per_million         38037 non-null  float64\n",
      " 14  new_deaths_per_million           38037 non-null  float64\n",
      " 15  new_deaths_smoothed_per_million  37255 non-null  float64\n",
      " 16  new_tests                        12362 non-null  float64\n",
      " 17  total_tests                      12686 non-null  float64\n",
      " 18  total_tests_per_thousand         12686 non-null  float64\n",
      " 19  new_tests_per_thousand           12362 non-null  float64\n",
      " 20  new_tests_smoothed               13867 non-null  float64\n",
      " 21  new_tests_smoothed_per_thousand  13867 non-null  float64\n",
      " 22  tests_per_case                   12781 non-null  float64\n",
      " 23  positive_rate                    13138 non-null  float64\n",
      " 24  tests_units                      14622 non-null  object \n",
      " 25  stringency_index                 32023 non-null  float64\n",
      " 26  population                       38613 non-null  float64\n",
      " 27  population_density               36902 non-null  float64\n",
      " 28  median_age                       34716 non-null  float64\n",
      " 29  aged_65_older                    34208 non-null  float64\n",
      " 30  aged_70_older                    34537 non-null  float64\n",
      " 31  gdp_per_capita                   34290 non-null  float64\n",
      " 32  extreme_poverty                  22901 non-null  float64\n",
      " 33  cardiovasc_death_rate            34729 non-null  float64\n",
      " 34  diabetes_prevalence              35934 non-null  float64\n",
      " 35  female_smokers                   27401 non-null  float64\n",
      " 36  male_smokers                     27062 non-null  float64\n",
      " 37  handwashing_facilities           16077 non-null  float64\n",
      " 38  hospital_beds_per_thousand       31489 non-null  float64\n",
      " 39  life_expectancy                  38139 non-null  float64\n",
      "dtypes: float64(35), object(5)\n",
      "memory usage: 11.9+ MB\n"
     ]
    }
   ],
   "source": [
    "# Informations dur les données\n",
    "df.info()"
   ]
  },
  {
   "cell_type": "code",
   "execution_count": 12,
   "metadata": {
    "colab": {
     "base_uri": "https://localhost:8080/",
     "height": 309
    },
    "colab_type": "code",
    "id": "sritp8Ed-UiJ",
    "outputId": "0774cac8-6c75-45f0-c962-dee2261ad6ea"
   },
   "outputs": [
    {
     "data": {
      "text/html": [
       "<div>\n",
       "<style scoped>\n",
       "    .dataframe tbody tr th:only-of-type {\n",
       "        vertical-align: middle;\n",
       "    }\n",
       "\n",
       "    .dataframe tbody tr th {\n",
       "        vertical-align: top;\n",
       "    }\n",
       "\n",
       "    .dataframe thead th {\n",
       "        text-align: right;\n",
       "    }\n",
       "</style>\n",
       "<table border=\"1\" class=\"dataframe\">\n",
       "  <thead>\n",
       "    <tr style=\"text-align: right;\">\n",
       "      <th></th>\n",
       "      <th>iso_code</th>\n",
       "      <th>continent</th>\n",
       "      <th>location</th>\n",
       "      <th>date</th>\n",
       "      <th>total_cases</th>\n",
       "      <th>new_cases</th>\n",
       "      <th>new_cases_smoothed</th>\n",
       "      <th>total_deaths</th>\n",
       "      <th>new_deaths</th>\n",
       "      <th>new_deaths_smoothed</th>\n",
       "      <th>total_cases_per_million</th>\n",
       "      <th>new_cases_per_million</th>\n",
       "      <th>new_cases_smoothed_per_million</th>\n",
       "      <th>total_deaths_per_million</th>\n",
       "      <th>new_deaths_per_million</th>\n",
       "      <th>new_deaths_smoothed_per_million</th>\n",
       "      <th>new_tests</th>\n",
       "      <th>total_tests</th>\n",
       "      <th>total_tests_per_thousand</th>\n",
       "      <th>new_tests_per_thousand</th>\n",
       "      <th>new_tests_smoothed</th>\n",
       "      <th>new_tests_smoothed_per_thousand</th>\n",
       "      <th>tests_per_case</th>\n",
       "      <th>positive_rate</th>\n",
       "      <th>tests_units</th>\n",
       "      <th>stringency_index</th>\n",
       "      <th>population</th>\n",
       "      <th>population_density</th>\n",
       "      <th>median_age</th>\n",
       "      <th>aged_65_older</th>\n",
       "      <th>aged_70_older</th>\n",
       "      <th>gdp_per_capita</th>\n",
       "      <th>extreme_poverty</th>\n",
       "      <th>cardiovasc_death_rate</th>\n",
       "      <th>diabetes_prevalence</th>\n",
       "      <th>female_smokers</th>\n",
       "      <th>male_smokers</th>\n",
       "      <th>handwashing_facilities</th>\n",
       "      <th>hospital_beds_per_thousand</th>\n",
       "      <th>life_expectancy</th>\n",
       "    </tr>\n",
       "  </thead>\n",
       "  <tbody>\n",
       "    <tr>\n",
       "      <th>0</th>\n",
       "      <td>AFG</td>\n",
       "      <td>Asia</td>\n",
       "      <td>Afghanistan</td>\n",
       "      <td>2019-12-31</td>\n",
       "      <td>0.0</td>\n",
       "      <td>0.0</td>\n",
       "      <td>NaN</td>\n",
       "      <td>0.0</td>\n",
       "      <td>0.0</td>\n",
       "      <td>NaN</td>\n",
       "      <td>0.0</td>\n",
       "      <td>0.0</td>\n",
       "      <td>NaN</td>\n",
       "      <td>0.0</td>\n",
       "      <td>0.0</td>\n",
       "      <td>NaN</td>\n",
       "      <td>NaN</td>\n",
       "      <td>NaN</td>\n",
       "      <td>NaN</td>\n",
       "      <td>NaN</td>\n",
       "      <td>NaN</td>\n",
       "      <td>NaN</td>\n",
       "      <td>NaN</td>\n",
       "      <td>NaN</td>\n",
       "      <td>NaN</td>\n",
       "      <td>NaN</td>\n",
       "      <td>38928341.0</td>\n",
       "      <td>54.422</td>\n",
       "      <td>18.6</td>\n",
       "      <td>2.581</td>\n",
       "      <td>1.337</td>\n",
       "      <td>1803.987</td>\n",
       "      <td>NaN</td>\n",
       "      <td>597.029</td>\n",
       "      <td>9.59</td>\n",
       "      <td>NaN</td>\n",
       "      <td>NaN</td>\n",
       "      <td>37.746</td>\n",
       "      <td>0.5</td>\n",
       "      <td>64.83</td>\n",
       "    </tr>\n",
       "    <tr>\n",
       "      <th>1</th>\n",
       "      <td>AFG</td>\n",
       "      <td>Asia</td>\n",
       "      <td>Afghanistan</td>\n",
       "      <td>2020-01-01</td>\n",
       "      <td>0.0</td>\n",
       "      <td>0.0</td>\n",
       "      <td>NaN</td>\n",
       "      <td>0.0</td>\n",
       "      <td>0.0</td>\n",
       "      <td>NaN</td>\n",
       "      <td>0.0</td>\n",
       "      <td>0.0</td>\n",
       "      <td>NaN</td>\n",
       "      <td>0.0</td>\n",
       "      <td>0.0</td>\n",
       "      <td>NaN</td>\n",
       "      <td>NaN</td>\n",
       "      <td>NaN</td>\n",
       "      <td>NaN</td>\n",
       "      <td>NaN</td>\n",
       "      <td>NaN</td>\n",
       "      <td>NaN</td>\n",
       "      <td>NaN</td>\n",
       "      <td>NaN</td>\n",
       "      <td>NaN</td>\n",
       "      <td>0.0</td>\n",
       "      <td>38928341.0</td>\n",
       "      <td>54.422</td>\n",
       "      <td>18.6</td>\n",
       "      <td>2.581</td>\n",
       "      <td>1.337</td>\n",
       "      <td>1803.987</td>\n",
       "      <td>NaN</td>\n",
       "      <td>597.029</td>\n",
       "      <td>9.59</td>\n",
       "      <td>NaN</td>\n",
       "      <td>NaN</td>\n",
       "      <td>37.746</td>\n",
       "      <td>0.5</td>\n",
       "      <td>64.83</td>\n",
       "    </tr>\n",
       "    <tr>\n",
       "      <th>2</th>\n",
       "      <td>AFG</td>\n",
       "      <td>Asia</td>\n",
       "      <td>Afghanistan</td>\n",
       "      <td>2020-01-02</td>\n",
       "      <td>0.0</td>\n",
       "      <td>0.0</td>\n",
       "      <td>NaN</td>\n",
       "      <td>0.0</td>\n",
       "      <td>0.0</td>\n",
       "      <td>NaN</td>\n",
       "      <td>0.0</td>\n",
       "      <td>0.0</td>\n",
       "      <td>NaN</td>\n",
       "      <td>0.0</td>\n",
       "      <td>0.0</td>\n",
       "      <td>NaN</td>\n",
       "      <td>NaN</td>\n",
       "      <td>NaN</td>\n",
       "      <td>NaN</td>\n",
       "      <td>NaN</td>\n",
       "      <td>NaN</td>\n",
       "      <td>NaN</td>\n",
       "      <td>NaN</td>\n",
       "      <td>NaN</td>\n",
       "      <td>NaN</td>\n",
       "      <td>0.0</td>\n",
       "      <td>38928341.0</td>\n",
       "      <td>54.422</td>\n",
       "      <td>18.6</td>\n",
       "      <td>2.581</td>\n",
       "      <td>1.337</td>\n",
       "      <td>1803.987</td>\n",
       "      <td>NaN</td>\n",
       "      <td>597.029</td>\n",
       "      <td>9.59</td>\n",
       "      <td>NaN</td>\n",
       "      <td>NaN</td>\n",
       "      <td>37.746</td>\n",
       "      <td>0.5</td>\n",
       "      <td>64.83</td>\n",
       "    </tr>\n",
       "    <tr>\n",
       "      <th>3</th>\n",
       "      <td>AFG</td>\n",
       "      <td>Asia</td>\n",
       "      <td>Afghanistan</td>\n",
       "      <td>2020-01-03</td>\n",
       "      <td>0.0</td>\n",
       "      <td>0.0</td>\n",
       "      <td>NaN</td>\n",
       "      <td>0.0</td>\n",
       "      <td>0.0</td>\n",
       "      <td>NaN</td>\n",
       "      <td>0.0</td>\n",
       "      <td>0.0</td>\n",
       "      <td>NaN</td>\n",
       "      <td>0.0</td>\n",
       "      <td>0.0</td>\n",
       "      <td>NaN</td>\n",
       "      <td>NaN</td>\n",
       "      <td>NaN</td>\n",
       "      <td>NaN</td>\n",
       "      <td>NaN</td>\n",
       "      <td>NaN</td>\n",
       "      <td>NaN</td>\n",
       "      <td>NaN</td>\n",
       "      <td>NaN</td>\n",
       "      <td>NaN</td>\n",
       "      <td>0.0</td>\n",
       "      <td>38928341.0</td>\n",
       "      <td>54.422</td>\n",
       "      <td>18.6</td>\n",
       "      <td>2.581</td>\n",
       "      <td>1.337</td>\n",
       "      <td>1803.987</td>\n",
       "      <td>NaN</td>\n",
       "      <td>597.029</td>\n",
       "      <td>9.59</td>\n",
       "      <td>NaN</td>\n",
       "      <td>NaN</td>\n",
       "      <td>37.746</td>\n",
       "      <td>0.5</td>\n",
       "      <td>64.83</td>\n",
       "    </tr>\n",
       "    <tr>\n",
       "      <th>4</th>\n",
       "      <td>AFG</td>\n",
       "      <td>Asia</td>\n",
       "      <td>Afghanistan</td>\n",
       "      <td>2020-01-04</td>\n",
       "      <td>0.0</td>\n",
       "      <td>0.0</td>\n",
       "      <td>NaN</td>\n",
       "      <td>0.0</td>\n",
       "      <td>0.0</td>\n",
       "      <td>NaN</td>\n",
       "      <td>0.0</td>\n",
       "      <td>0.0</td>\n",
       "      <td>NaN</td>\n",
       "      <td>0.0</td>\n",
       "      <td>0.0</td>\n",
       "      <td>NaN</td>\n",
       "      <td>NaN</td>\n",
       "      <td>NaN</td>\n",
       "      <td>NaN</td>\n",
       "      <td>NaN</td>\n",
       "      <td>NaN</td>\n",
       "      <td>NaN</td>\n",
       "      <td>NaN</td>\n",
       "      <td>NaN</td>\n",
       "      <td>NaN</td>\n",
       "      <td>0.0</td>\n",
       "      <td>38928341.0</td>\n",
       "      <td>54.422</td>\n",
       "      <td>18.6</td>\n",
       "      <td>2.581</td>\n",
       "      <td>1.337</td>\n",
       "      <td>1803.987</td>\n",
       "      <td>NaN</td>\n",
       "      <td>597.029</td>\n",
       "      <td>9.59</td>\n",
       "      <td>NaN</td>\n",
       "      <td>NaN</td>\n",
       "      <td>37.746</td>\n",
       "      <td>0.5</td>\n",
       "      <td>64.83</td>\n",
       "    </tr>\n",
       "  </tbody>\n",
       "</table>\n",
       "</div>"
      ],
      "text/plain": [
       "  iso_code continent  ... hospital_beds_per_thousand life_expectancy\n",
       "0      AFG      Asia  ...                        0.5           64.83\n",
       "1      AFG      Asia  ...                        0.5           64.83\n",
       "2      AFG      Asia  ...                        0.5           64.83\n",
       "3      AFG      Asia  ...                        0.5           64.83\n",
       "4      AFG      Asia  ...                        0.5           64.83\n",
       "\n",
       "[5 rows x 40 columns]"
      ]
     },
     "execution_count": 12,
     "metadata": {
      "tags": []
     },
     "output_type": "execute_result"
    }
   ],
   "source": [
    "# Les 5 premères lignes du dataset \n",
    "df.head(5)"
   ]
  },
  {
   "cell_type": "code",
   "execution_count": 13,
   "metadata": {
    "colab": {
     "base_uri": "https://localhost:8080/",
     "height": 34
    },
    "colab_type": "code",
    "id": "huKKI0G7-VOI",
    "outputId": "057e0e47-15c5-4de0-cfda-2cc4da18cced"
   },
   "outputs": [
    {
     "data": {
      "text/plain": [
       "(8822, 40)"
      ]
     },
     "execution_count": 13,
     "metadata": {
      "tags": []
     },
     "output_type": "execute_result"
    }
   ],
   "source": [
    "df[df.continent  == 'Africa'].shape\n",
    "# soit 54 pays en afrique ,3 mois de COVID = approximativement 4800"
   ]
  },
  {
   "cell_type": "code",
   "execution_count": 14,
   "metadata": {
    "colab": {
     "base_uri": "https://localhost:8080/",
     "height": 34
    },
    "colab_type": "code",
    "id": "huWv9oOY-c4l",
    "outputId": "5b989820-2d97-4340-a810-ff99edea3611"
   },
   "outputs": [
    {
     "data": {
      "text/plain": [
       "(198, 40)"
      ]
     },
     "execution_count": 14,
     "metadata": {
      "tags": []
     },
     "output_type": "execute_result"
    }
   ],
   "source": [
    "#Taille des données de COVID pour le Maroc\n",
    "df[df.location  == 'Morocco'].shape"
   ]
  },
  {
   "cell_type": "code",
   "execution_count": 15,
   "metadata": {
    "colab": {
     "base_uri": "https://localhost:8080/",
     "height": 35
    },
    "colab_type": "code",
    "id": "3qwR0kpL-fNJ",
    "outputId": "b486f516-4160-4906-c317-e6e6fdb3fe9a"
   },
   "outputs": [
    {
     "data": {
      "application/vnd.google.colaboratory.intrinsic+json": {
       "type": "string"
      },
      "text/plain": [
       "'2019-12-31'"
      ]
     },
     "execution_count": 15,
     "metadata": {
      "tags": []
     },
     "output_type": "execute_result"
    }
   ],
   "source": [
    "#Première date d'enregistrement de cas dans le monde \n",
    "df.date.min()"
   ]
  },
  {
   "cell_type": "code",
   "execution_count": 16,
   "metadata": {
    "colab": {
     "base_uri": "https://localhost:8080/",
     "height": 35
    },
    "colab_type": "code",
    "id": "58yqzRyI-f80",
    "outputId": "60d56992-2097-4423-81b9-adcbfa6a7c82"
   },
   "outputs": [
    {
     "data": {
      "application/vnd.google.colaboratory.intrinsic+json": {
       "type": "string"
      },
      "text/plain": [
       "'2020-08-22'"
      ]
     },
     "execution_count": 16,
     "metadata": {
      "tags": []
     },
     "output_type": "execute_result"
    }
   ],
   "source": [
    "# dernière date d'enregistrement pour notre datset\n",
    "df.date.max()"
   ]
  },
  {
   "cell_type": "code",
   "execution_count": 17,
   "metadata": {
    "colab": {
     "base_uri": "https://localhost:8080/",
     "height": 35
    },
    "colab_type": "code",
    "id": "Wensf72i-oCA",
    "outputId": "f2e69851-8b55-4d55-cfab-9e158f1b8d66"
   },
   "outputs": [
    {
     "data": {
      "application/vnd.google.colaboratory.intrinsic+json": {
       "type": "string"
      },
      "text/plain": [
       "'2020-02-07'"
      ]
     },
     "execution_count": 17,
     "metadata": {
      "tags": []
     },
     "output_type": "execute_result"
    }
   ],
   "source": [
    "# Première date d'enregistrement de cas au Maroc \n",
    "df[(df.location  == 'Morocco')].date.min()"
   ]
  },
  {
   "cell_type": "code",
   "execution_count": 18,
   "metadata": {
    "colab": {
     "base_uri": "https://localhost:8080/",
     "height": 35
    },
    "colab_type": "code",
    "id": "DFmNwfSn-omQ",
    "outputId": "09d328c7-8e0f-4c7f-bbae-a5213a468a8b"
   },
   "outputs": [
    {
     "data": {
      "application/vnd.google.colaboratory.intrinsic+json": {
       "type": "string"
      },
      "text/plain": [
       "'2020-08-22'"
      ]
     },
     "execution_count": 18,
     "metadata": {
      "tags": []
     },
     "output_type": "execute_result"
    }
   ],
   "source": [
    "# dernière date d'enregistrement de cas au Maroc \n",
    "df[(df.location  == 'Morocco')].date.max()"
   ]
  },
  {
   "cell_type": "code",
   "execution_count": 19,
   "metadata": {
    "colab": {},
    "colab_type": "code",
    "id": "1dXM84j99Qo-"
   },
   "outputs": [],
   "source": [
    "df.date= pd.to_datetime(df['date'],format='%Y-%m-%d')"
   ]
  },
  {
   "cell_type": "code",
   "execution_count": 20,
   "metadata": {
    "colab": {},
    "colab_type": "code",
    "id": "ZmJozDDA9Qpf"
   },
   "outputs": [],
   "source": [
    "df=df[['new_cases','total_cases','total_deaths','new_deaths', 'population','date','location']]\n"
   ]
  },
  {
   "cell_type": "code",
   "execution_count": 21,
   "metadata": {
    "colab": {},
    "colab_type": "code",
    "id": "pEelLZEx9Qp3"
   },
   "outputs": [],
   "source": [
    "df = df.fillna(df.median())"
   ]
  },
  {
   "cell_type": "code",
   "execution_count": 22,
   "metadata": {
    "colab": {
     "base_uri": "https://localhost:8080/",
     "height": 359
    },
    "colab_type": "code",
    "id": "GkzzotM4FzrD",
    "outputId": "9791147f-4a54-4694-c260-10e33e617302"
   },
   "outputs": [
    {
     "data": {
      "text/html": [
       "<div>\n",
       "<style scoped>\n",
       "    .dataframe tbody tr th:only-of-type {\n",
       "        vertical-align: middle;\n",
       "    }\n",
       "\n",
       "    .dataframe tbody tr th {\n",
       "        vertical-align: top;\n",
       "    }\n",
       "\n",
       "    .dataframe thead th {\n",
       "        text-align: right;\n",
       "    }\n",
       "</style>\n",
       "<table border=\"1\" class=\"dataframe\">\n",
       "  <thead>\n",
       "    <tr style=\"text-align: right;\">\n",
       "      <th></th>\n",
       "      <th>new_cases</th>\n",
       "      <th>total_cases</th>\n",
       "      <th>total_deaths</th>\n",
       "      <th>new_deaths</th>\n",
       "      <th>population</th>\n",
       "      <th>date</th>\n",
       "      <th>location</th>\n",
       "    </tr>\n",
       "  </thead>\n",
       "  <tbody>\n",
       "    <tr>\n",
       "      <th>24138</th>\n",
       "      <td>1499.0</td>\n",
       "      <td>36694.0</td>\n",
       "      <td>556.0</td>\n",
       "      <td>23.0</td>\n",
       "      <td>36910558.0</td>\n",
       "      <td>2020-08-13</td>\n",
       "      <td>Morocco</td>\n",
       "    </tr>\n",
       "    <tr>\n",
       "      <th>24139</th>\n",
       "      <td>1241.0</td>\n",
       "      <td>37935.0</td>\n",
       "      <td>584.0</td>\n",
       "      <td>28.0</td>\n",
       "      <td>36910558.0</td>\n",
       "      <td>2020-08-14</td>\n",
       "      <td>Morocco</td>\n",
       "    </tr>\n",
       "    <tr>\n",
       "      <th>24140</th>\n",
       "      <td>1306.0</td>\n",
       "      <td>39241.0</td>\n",
       "      <td>611.0</td>\n",
       "      <td>27.0</td>\n",
       "      <td>36910558.0</td>\n",
       "      <td>2020-08-15</td>\n",
       "      <td>Morocco</td>\n",
       "    </tr>\n",
       "    <tr>\n",
       "      <th>24141</th>\n",
       "      <td>1776.0</td>\n",
       "      <td>41017.0</td>\n",
       "      <td>632.0</td>\n",
       "      <td>21.0</td>\n",
       "      <td>36910558.0</td>\n",
       "      <td>2020-08-16</td>\n",
       "      <td>Morocco</td>\n",
       "    </tr>\n",
       "    <tr>\n",
       "      <th>24142</th>\n",
       "      <td>1472.0</td>\n",
       "      <td>42489.0</td>\n",
       "      <td>658.0</td>\n",
       "      <td>26.0</td>\n",
       "      <td>36910558.0</td>\n",
       "      <td>2020-08-17</td>\n",
       "      <td>Morocco</td>\n",
       "    </tr>\n",
       "    <tr>\n",
       "      <th>24143</th>\n",
       "      <td>1069.0</td>\n",
       "      <td>43558.0</td>\n",
       "      <td>658.0</td>\n",
       "      <td>0.0</td>\n",
       "      <td>36910558.0</td>\n",
       "      <td>2020-08-18</td>\n",
       "      <td>Morocco</td>\n",
       "    </tr>\n",
       "    <tr>\n",
       "      <th>24144</th>\n",
       "      <td>0.0</td>\n",
       "      <td>43558.0</td>\n",
       "      <td>681.0</td>\n",
       "      <td>23.0</td>\n",
       "      <td>36910558.0</td>\n",
       "      <td>2020-08-19</td>\n",
       "      <td>Morocco</td>\n",
       "    </tr>\n",
       "    <tr>\n",
       "      <th>24145</th>\n",
       "      <td>2755.0</td>\n",
       "      <td>46313.0</td>\n",
       "      <td>743.0</td>\n",
       "      <td>62.0</td>\n",
       "      <td>36910558.0</td>\n",
       "      <td>2020-08-20</td>\n",
       "      <td>Morocco</td>\n",
       "    </tr>\n",
       "    <tr>\n",
       "      <th>24146</th>\n",
       "      <td>1325.0</td>\n",
       "      <td>47638.0</td>\n",
       "      <td>775.0</td>\n",
       "      <td>32.0</td>\n",
       "      <td>36910558.0</td>\n",
       "      <td>2020-08-21</td>\n",
       "      <td>Morocco</td>\n",
       "    </tr>\n",
       "    <tr>\n",
       "      <th>24147</th>\n",
       "      <td>1609.0</td>\n",
       "      <td>49247.0</td>\n",
       "      <td>817.0</td>\n",
       "      <td>42.0</td>\n",
       "      <td>36910558.0</td>\n",
       "      <td>2020-08-22</td>\n",
       "      <td>Morocco</td>\n",
       "    </tr>\n",
       "  </tbody>\n",
       "</table>\n",
       "</div>"
      ],
      "text/plain": [
       "       new_cases  total_cases  total_deaths  ...  population       date location\n",
       "24138     1499.0      36694.0         556.0  ...  36910558.0 2020-08-13  Morocco\n",
       "24139     1241.0      37935.0         584.0  ...  36910558.0 2020-08-14  Morocco\n",
       "24140     1306.0      39241.0         611.0  ...  36910558.0 2020-08-15  Morocco\n",
       "24141     1776.0      41017.0         632.0  ...  36910558.0 2020-08-16  Morocco\n",
       "24142     1472.0      42489.0         658.0  ...  36910558.0 2020-08-17  Morocco\n",
       "24143     1069.0      43558.0         658.0  ...  36910558.0 2020-08-18  Morocco\n",
       "24144        0.0      43558.0         681.0  ...  36910558.0 2020-08-19  Morocco\n",
       "24145     2755.0      46313.0         743.0  ...  36910558.0 2020-08-20  Morocco\n",
       "24146     1325.0      47638.0         775.0  ...  36910558.0 2020-08-21  Morocco\n",
       "24147     1609.0      49247.0         817.0  ...  36910558.0 2020-08-22  Morocco\n",
       "\n",
       "[10 rows x 7 columns]"
      ]
     },
     "execution_count": 22,
     "metadata": {
      "tags": []
     },
     "output_type": "execute_result"
    }
   ],
   "source": [
    "df[(df.location  == 'Morocco')].tail(10)"
   ]
  },
  {
   "cell_type": "code",
   "execution_count": 23,
   "metadata": {
    "colab": {},
    "colab_type": "code",
    "id": "STWuqUsvzEO1"
   },
   "outputs": [],
   "source": [
    "def DA_Jitter(X, sigma=0.05):\n",
    "    myNoise = np.random.normal(loc=0, scale=sigma, size=X.shape)\n",
    "    myNoise =  np.add(myNoise,abs(np.min(myNoise)))\n",
    "    return X+myNoise"
   ]
  },
  {
   "cell_type": "code",
   "execution_count": 24,
   "metadata": {
    "colab": {},
    "colab_type": "code",
    "id": "tmHxUA7xzE3b"
   },
   "outputs": [],
   "source": [
    "def DA_Scaling(X, sigma=0.1):\n",
    "    scalingFactor = np.random.normal(loc=1.0, scale=sigma, size=(1,X.shape[1])) # shape=(1,3)\n",
    "    scalingFactor = np.add(scalingFactor,abs(np.min(scalingFactor)))\n",
    "    myNoise = np.matmul(np.ones((X.shape[0],1)), scalingFactor)\n",
    "    return X*myNoise"
   ]
  },
  {
   "cell_type": "code",
   "execution_count": 25,
   "metadata": {
    "colab": {},
    "colab_type": "code",
    "id": "z_9FeasYzJTF"
   },
   "outputs": [],
   "source": [
    "def DA_Rotation(X):\n",
    "    axis = np.random.uniform(low=-1, high=1, size=X.shape[1])\n",
    "    angle = np.random.uniform(low=-np.pi, high=np.pi)\n",
    "    return np.matmul(X , axangle2mat(axis,angle))"
   ]
  },
  {
   "cell_type": "code",
   "execution_count": 26,
   "metadata": {
    "colab": {},
    "colab_type": "code",
    "id": "5RKSEnq19QqL"
   },
   "outputs": [],
   "source": [
    "#df['month'] = df['date'].dt.month"
   ]
  },
  {
   "cell_type": "code",
   "execution_count": 27,
   "metadata": {
    "colab": {},
    "colab_type": "code",
    "id": "mTTUrl4k9Qqk"
   },
   "outputs": [],
   "source": [
    "# Parametrages sequences \n",
    "nb_seq=1\n",
    "n_out=7\n",
    "nb_col=5"
   ]
  },
  {
   "cell_type": "code",
   "execution_count": 28,
   "metadata": {
    "colab": {},
    "colab_type": "code",
    "id": "c1AqqQNO9Qq2"
   },
   "outputs": [],
   "source": [
    "start_date = '2020-03-02'\n",
    "end_date = '2020-07-13'\n",
    "start_date2 ='2020-07-12'\n",
    "end_date2 = '2020-08-15'"
   ]
  },
  {
   "cell_type": "code",
   "execution_count": 29,
   "metadata": {
    "colab": {},
    "colab_type": "code",
    "id": "iFFh1aOJ9QrD"
   },
   "outputs": [],
   "source": [
    "#mask = (covid_data['date'] >= start_date) & (covid_data['date'] <= end_date) &  (covid_data['location'].isin(['Morocco']))\n",
    "mask1 = (df['date'] >= start_date) & (df['date'] <= end_date) &  (df['location'].isin(['Morocco']))"
   ]
  },
  {
   "cell_type": "code",
   "execution_count": 30,
   "metadata": {
    "colab": {},
    "colab_type": "code",
    "id": "BNajSp2E9QrU"
   },
   "outputs": [],
   "source": [
    "mask2 = (df['date'] >= start_date2) & (df['date'] <= end_date2) &  (df['location'].isin(['Morocco']))"
   ]
  },
  {
   "cell_type": "code",
   "execution_count": 31,
   "metadata": {
    "colab": {},
    "colab_type": "code",
    "id": "WSAgg6em9Qrk"
   },
   "outputs": [],
   "source": [
    "df.sort_values(by=['location'], inplace=True)"
   ]
  },
  {
   "cell_type": "code",
   "execution_count": 32,
   "metadata": {
    "colab": {
     "base_uri": "https://localhost:8080/",
     "height": 34
    },
    "colab_type": "code",
    "id": "ueK-y_mU9Qr0",
    "outputId": "717dcd04-9080-4c38-9aa9-5e3f062ba7a7"
   },
   "outputs": [
    {
     "data": {
      "text/plain": [
       "(134, 7)"
      ]
     },
     "execution_count": 32,
     "metadata": {
      "tags": []
     },
     "output_type": "execute_result"
    }
   ],
   "source": [
    "X_train_1 = df.loc[mask1].sort_index(axis = 0) \n",
    "X_train_1.shape"
   ]
  },
  {
   "cell_type": "code",
   "execution_count": 33,
   "metadata": {
    "colab": {
     "base_uri": "https://localhost:8080/",
     "height": 204
    },
    "colab_type": "code",
    "id": "DsiCWFbe32Ej",
    "outputId": "4fa0f24e-16de-4534-af12-12847edfc5bc"
   },
   "outputs": [
    {
     "data": {
      "text/html": [
       "<div>\n",
       "<style scoped>\n",
       "    .dataframe tbody tr th:only-of-type {\n",
       "        vertical-align: middle;\n",
       "    }\n",
       "\n",
       "    .dataframe tbody tr th {\n",
       "        vertical-align: top;\n",
       "    }\n",
       "\n",
       "    .dataframe thead th {\n",
       "        text-align: right;\n",
       "    }\n",
       "</style>\n",
       "<table border=\"1\" class=\"dataframe\">\n",
       "  <thead>\n",
       "    <tr style=\"text-align: right;\">\n",
       "      <th></th>\n",
       "      <th>new_cases</th>\n",
       "      <th>total_cases</th>\n",
       "      <th>total_deaths</th>\n",
       "      <th>new_deaths</th>\n",
       "      <th>population</th>\n",
       "      <th>date</th>\n",
       "      <th>location</th>\n",
       "    </tr>\n",
       "  </thead>\n",
       "  <tbody>\n",
       "    <tr>\n",
       "      <th>23974</th>\n",
       "      <td>7.0</td>\n",
       "      <td>695.0</td>\n",
       "      <td>11.0</td>\n",
       "      <td>0.0</td>\n",
       "      <td>36910558.0</td>\n",
       "      <td>2020-03-02</td>\n",
       "      <td>Morocco</td>\n",
       "    </tr>\n",
       "    <tr>\n",
       "      <th>23975</th>\n",
       "      <td>1.0</td>\n",
       "      <td>1.0</td>\n",
       "      <td>0.0</td>\n",
       "      <td>0.0</td>\n",
       "      <td>36910558.0</td>\n",
       "      <td>2020-03-03</td>\n",
       "      <td>Morocco</td>\n",
       "    </tr>\n",
       "    <tr>\n",
       "      <th>23976</th>\n",
       "      <td>7.0</td>\n",
       "      <td>695.0</td>\n",
       "      <td>11.0</td>\n",
       "      <td>0.0</td>\n",
       "      <td>36910558.0</td>\n",
       "      <td>2020-03-04</td>\n",
       "      <td>Morocco</td>\n",
       "    </tr>\n",
       "    <tr>\n",
       "      <th>23977</th>\n",
       "      <td>7.0</td>\n",
       "      <td>695.0</td>\n",
       "      <td>11.0</td>\n",
       "      <td>0.0</td>\n",
       "      <td>36910558.0</td>\n",
       "      <td>2020-03-05</td>\n",
       "      <td>Morocco</td>\n",
       "    </tr>\n",
       "    <tr>\n",
       "      <th>23978</th>\n",
       "      <td>1.0</td>\n",
       "      <td>2.0</td>\n",
       "      <td>0.0</td>\n",
       "      <td>0.0</td>\n",
       "      <td>36910558.0</td>\n",
       "      <td>2020-03-06</td>\n",
       "      <td>Morocco</td>\n",
       "    </tr>\n",
       "  </tbody>\n",
       "</table>\n",
       "</div>"
      ],
      "text/plain": [
       "       new_cases  total_cases  total_deaths  ...  population       date location\n",
       "23974        7.0        695.0          11.0  ...  36910558.0 2020-03-02  Morocco\n",
       "23975        1.0          1.0           0.0  ...  36910558.0 2020-03-03  Morocco\n",
       "23976        7.0        695.0          11.0  ...  36910558.0 2020-03-04  Morocco\n",
       "23977        7.0        695.0          11.0  ...  36910558.0 2020-03-05  Morocco\n",
       "23978        1.0          2.0           0.0  ...  36910558.0 2020-03-06  Morocco\n",
       "\n",
       "[5 rows x 7 columns]"
      ]
     },
     "execution_count": 33,
     "metadata": {
      "tags": []
     },
     "output_type": "execute_result"
    }
   ],
   "source": [
    "X_train_1.head(5)"
   ]
  },
  {
   "cell_type": "code",
   "execution_count": 34,
   "metadata": {
    "colab": {
     "base_uri": "https://localhost:8080/",
     "height": 204
    },
    "colab_type": "code",
    "id": "5Lhcdb3Qh1vH",
    "outputId": "f0eb2144-768b-4581-ada3-70ed112d2666"
   },
   "outputs": [
    {
     "data": {
      "text/html": [
       "<div>\n",
       "<style scoped>\n",
       "    .dataframe tbody tr th:only-of-type {\n",
       "        vertical-align: middle;\n",
       "    }\n",
       "\n",
       "    .dataframe tbody tr th {\n",
       "        vertical-align: top;\n",
       "    }\n",
       "\n",
       "    .dataframe thead th {\n",
       "        text-align: right;\n",
       "    }\n",
       "</style>\n",
       "<table border=\"1\" class=\"dataframe\">\n",
       "  <thead>\n",
       "    <tr style=\"text-align: right;\">\n",
       "      <th></th>\n",
       "      <th>new_cases</th>\n",
       "      <th>total_cases</th>\n",
       "      <th>total_deaths</th>\n",
       "      <th>new_deaths</th>\n",
       "      <th>population</th>\n",
       "      <th>date</th>\n",
       "      <th>location</th>\n",
       "    </tr>\n",
       "  </thead>\n",
       "  <tbody>\n",
       "    <tr>\n",
       "      <th>24103</th>\n",
       "      <td>442.0</td>\n",
       "      <td>14771.0</td>\n",
       "      <td>242.0</td>\n",
       "      <td>7.0</td>\n",
       "      <td>36910558.0</td>\n",
       "      <td>2020-07-09</td>\n",
       "      <td>Morocco</td>\n",
       "    </tr>\n",
       "    <tr>\n",
       "      <th>24104</th>\n",
       "      <td>178.0</td>\n",
       "      <td>14949.0</td>\n",
       "      <td>242.0</td>\n",
       "      <td>0.0</td>\n",
       "      <td>36910558.0</td>\n",
       "      <td>2020-07-10</td>\n",
       "      <td>Morocco</td>\n",
       "    </tr>\n",
       "    <tr>\n",
       "      <th>24105</th>\n",
       "      <td>379.0</td>\n",
       "      <td>15328.0</td>\n",
       "      <td>243.0</td>\n",
       "      <td>1.0</td>\n",
       "      <td>36910558.0</td>\n",
       "      <td>2020-07-11</td>\n",
       "      <td>Morocco</td>\n",
       "    </tr>\n",
       "    <tr>\n",
       "      <th>24106</th>\n",
       "      <td>214.0</td>\n",
       "      <td>15542.0</td>\n",
       "      <td>245.0</td>\n",
       "      <td>2.0</td>\n",
       "      <td>36910558.0</td>\n",
       "      <td>2020-07-12</td>\n",
       "      <td>Morocco</td>\n",
       "    </tr>\n",
       "    <tr>\n",
       "      <th>24107</th>\n",
       "      <td>203.0</td>\n",
       "      <td>15745.0</td>\n",
       "      <td>250.0</td>\n",
       "      <td>5.0</td>\n",
       "      <td>36910558.0</td>\n",
       "      <td>2020-07-13</td>\n",
       "      <td>Morocco</td>\n",
       "    </tr>\n",
       "  </tbody>\n",
       "</table>\n",
       "</div>"
      ],
      "text/plain": [
       "       new_cases  total_cases  total_deaths  ...  population       date location\n",
       "24103      442.0      14771.0         242.0  ...  36910558.0 2020-07-09  Morocco\n",
       "24104      178.0      14949.0         242.0  ...  36910558.0 2020-07-10  Morocco\n",
       "24105      379.0      15328.0         243.0  ...  36910558.0 2020-07-11  Morocco\n",
       "24106      214.0      15542.0         245.0  ...  36910558.0 2020-07-12  Morocco\n",
       "24107      203.0      15745.0         250.0  ...  36910558.0 2020-07-13  Morocco\n",
       "\n",
       "[5 rows x 7 columns]"
      ]
     },
     "execution_count": 34,
     "metadata": {
      "tags": []
     },
     "output_type": "execute_result"
    }
   ],
   "source": [
    "X_train_1.tail(5)"
   ]
  },
  {
   "cell_type": "code",
   "execution_count": 35,
   "metadata": {
    "colab": {},
    "colab_type": "code",
    "id": "KEaisHeXpMbA"
   },
   "outputs": [],
   "source": [
    "#Date to add test set \n",
    "data_add_test = X_train_1[X_train_1.location =='Morocco'].tail(nb_seq)"
   ]
  },
  {
   "cell_type": "code",
   "execution_count": 36,
   "metadata": {
    "colab": {
     "base_uri": "https://localhost:8080/",
     "height": 120
    },
    "colab_type": "code",
    "id": "KqtxPk6izf4G",
    "outputId": "eee09c7a-2858-4c3d-c64d-02edfeebc214"
   },
   "outputs": [
    {
     "data": {
      "application/vnd.google.colaboratory.intrinsic+json": {
       "type": "string"
      },
      "text/plain": [
       "\"\\n# AUGMENTATION \\n\\nstart_date = '2020-06-25'\\nend_date = '2020-07-31'\\nmask = (df['date'] >= start_date) & (df['date'] <= end_date) &  (df['location'].isin(['Morocco']))\\nX_1 = df.loc[mask].sort_index(axis = 0) \\nX_2 = X_3 = X_4 =X_5=X_6=X_7=X_8= X_1\\n\\nX_2[['new_cases']] = DA_Jitter(X_2[['new_cases']], sigma=1000)\\nX_2[['total_cases']] = X_2['total_cases'] + X_2['new_cases']\\nX_2[['new_deaths']] = DA_Jitter(X_2[['new_deaths']], sigma=10)\\nX_2[['total_deaths']] = X_2['total_deaths'] + X_2['new_deaths']\\n\\nX_3[['new_cases']] = DA_Jitter(X_3[['new_cases']], sigma=500)\\nX_3[['total_cases']] = X_3['total_cases'] + X_3['new_cases']\\nX_3[['new_deaths']] = DA_Jitter(X_3['new_deaths'], sigma=20)\\nX_3[['total_deaths']] = X_3['total_deaths'] + X_3['new_deaths']\\n\\nX_4[['new_cases']] = DA_Jitter(X_4[['new_cases']], sigma=1000)\\nX_4[['total_cases']] = X_4['total_cases'] + X_4['new_cases']\\nX_4[['new_deaths']] = DA_Jitter(X_4[['new_deaths']], sigma=30)\\nX_4[['total_deaths']] = X_4['total_deaths'] + X_4['new_deaths']\\n\\nX_5[['new_cases']] = DA_Jitter(X_5[['new_cases']], sigma=1000)\\nX_5[['total_cases']] = X_5['total_cases'] + X_5['new_cases']\\nX_5[['new_deaths']] = DA_Jitter(X_5[['new_deaths']], sigma=40)\\nX_5[['total_deaths']] = X_5['total_deaths'] + X_5['new_deaths']\\n\\nX_6[['new_cases']] = DA_Jitter(X_6[['new_cases']], sigma=1000)\\nX_6[['total_cases']] = X_6['total_cases'] + X_6['new_cases']\\nX_6[['new_deaths']] = DA_Jitter(X_6[['new_deaths']], sigma=50)\\nX_6[['total_deaths']] = X_6['total_deaths'] + X_6['new_deaths']\\n\\n\\n#X_7[['new_cases','total_cases','total_deaths', 'new_deaths', 'population']] = DA_Scaling(X_6[['new_cases','total_cases','total_deaths', 'new_deaths', 'population']], sigma=2000)\\n#X_8[['new_cases','total_cases','total_deaths', 'new_deaths', 'population']] = DA_Scaling(X_7[['new_cases','total_cases','total_deaths', 'new_deaths', 'population']], sigma=3000)\\n#X_4 = pd.DataFrame(X_4,columns=cols_need)\\n#print(X_1.shape)\\nX_train = pd.concat([X_train, X_2,X_3,X_4,X_5,X_6], ignore_index=True)\\n\""
      ]
     },
     "execution_count": 36,
     "metadata": {
      "tags": []
     },
     "output_type": "execute_result"
    }
   ],
   "source": [
    "'''\n",
    "# AUGMENTATION \n",
    "\n",
    "start_date = '2020-06-25'\n",
    "end_date = '2020-07-31'\n",
    "mask = (df['date'] >= start_date) & (df['date'] <= end_date) &  (df['location'].isin(['Morocco']))\n",
    "X_1 = df.loc[mask].sort_index(axis = 0) \n",
    "X_2 = X_3 = X_4 =X_5=X_6=X_7=X_8= X_1\n",
    "\n",
    "X_2[['new_cases']] = DA_Jitter(X_2[['new_cases']], sigma=1000)\n",
    "X_2[['total_cases']] = X_2['total_cases'] + X_2['new_cases']\n",
    "X_2[['new_deaths']] = DA_Jitter(X_2[['new_deaths']], sigma=10)\n",
    "X_2[['total_deaths']] = X_2['total_deaths'] + X_2['new_deaths']\n",
    "\n",
    "X_3[['new_cases']] = DA_Jitter(X_3[['new_cases']], sigma=500)\n",
    "X_3[['total_cases']] = X_3['total_cases'] + X_3['new_cases']\n",
    "X_3[['new_deaths']] = DA_Jitter(X_3['new_deaths'], sigma=20)\n",
    "X_3[['total_deaths']] = X_3['total_deaths'] + X_3['new_deaths']\n",
    "\n",
    "X_4[['new_cases']] = DA_Jitter(X_4[['new_cases']], sigma=1000)\n",
    "X_4[['total_cases']] = X_4['total_cases'] + X_4['new_cases']\n",
    "X_4[['new_deaths']] = DA_Jitter(X_4[['new_deaths']], sigma=30)\n",
    "X_4[['total_deaths']] = X_4['total_deaths'] + X_4['new_deaths']\n",
    "\n",
    "X_5[['new_cases']] = DA_Jitter(X_5[['new_cases']], sigma=1000)\n",
    "X_5[['total_cases']] = X_5['total_cases'] + X_5['new_cases']\n",
    "X_5[['new_deaths']] = DA_Jitter(X_5[['new_deaths']], sigma=40)\n",
    "X_5[['total_deaths']] = X_5['total_deaths'] + X_5['new_deaths']\n",
    "\n",
    "X_6[['new_cases']] = DA_Jitter(X_6[['new_cases']], sigma=1000)\n",
    "X_6[['total_cases']] = X_6['total_cases'] + X_6['new_cases']\n",
    "X_6[['new_deaths']] = DA_Jitter(X_6[['new_deaths']], sigma=50)\n",
    "X_6[['total_deaths']] = X_6['total_deaths'] + X_6['new_deaths']\n",
    "\n",
    "\n",
    "#X_7[['new_cases','total_cases','total_deaths', 'new_deaths', 'population']] = DA_Scaling(X_6[['new_cases','total_cases','total_deaths', 'new_deaths', 'population']], sigma=2000)\n",
    "#X_8[['new_cases','total_cases','total_deaths', 'new_deaths', 'population']] = DA_Scaling(X_7[['new_cases','total_cases','total_deaths', 'new_deaths', 'population']], sigma=3000)\n",
    "#X_4 = pd.DataFrame(X_4,columns=cols_need)\n",
    "#print(X_1.shape)\n",
    "X_train = pd.concat([X_train, X_2,X_3,X_4,X_5,X_6], ignore_index=True)\n",
    "'''"
   ]
  },
  {
   "cell_type": "code",
   "execution_count": 37,
   "metadata": {
    "colab": {
     "base_uri": "https://localhost:8080/",
     "height": 34
    },
    "colab_type": "code",
    "id": "8BNVbElqyyTQ",
    "outputId": "9237aa22-7c0e-4075-d163-09adb8fcd342"
   },
   "outputs": [
    {
     "data": {
      "text/plain": [
       "(134, 7)"
      ]
     },
     "execution_count": 37,
     "metadata": {
      "tags": []
     },
     "output_type": "execute_result"
    }
   ],
   "source": [
    "X_train_1.shape"
   ]
  },
  {
   "cell_type": "code",
   "execution_count": 38,
   "metadata": {
    "colab": {
     "base_uri": "https://localhost:8080/",
     "height": 359
    },
    "colab_type": "code",
    "id": "MJCEETGWvFsw",
    "outputId": "d0ea295c-6564-44f2-81d0-0d35e3512169"
   },
   "outputs": [
    {
     "data": {
      "text/html": [
       "<div>\n",
       "<style scoped>\n",
       "    .dataframe tbody tr th:only-of-type {\n",
       "        vertical-align: middle;\n",
       "    }\n",
       "\n",
       "    .dataframe tbody tr th {\n",
       "        vertical-align: top;\n",
       "    }\n",
       "\n",
       "    .dataframe thead th {\n",
       "        text-align: right;\n",
       "    }\n",
       "</style>\n",
       "<table border=\"1\" class=\"dataframe\">\n",
       "  <thead>\n",
       "    <tr style=\"text-align: right;\">\n",
       "      <th></th>\n",
       "      <th>new_cases</th>\n",
       "      <th>total_cases</th>\n",
       "      <th>total_deaths</th>\n",
       "      <th>new_deaths</th>\n",
       "      <th>population</th>\n",
       "      <th>date</th>\n",
       "      <th>location</th>\n",
       "    </tr>\n",
       "  </thead>\n",
       "  <tbody>\n",
       "    <tr>\n",
       "      <th>23974</th>\n",
       "      <td>7.0</td>\n",
       "      <td>695.0</td>\n",
       "      <td>11.0</td>\n",
       "      <td>0.0</td>\n",
       "      <td>36910558.0</td>\n",
       "      <td>2020-03-02</td>\n",
       "      <td>Morocco</td>\n",
       "    </tr>\n",
       "    <tr>\n",
       "      <th>23975</th>\n",
       "      <td>1.0</td>\n",
       "      <td>1.0</td>\n",
       "      <td>0.0</td>\n",
       "      <td>0.0</td>\n",
       "      <td>36910558.0</td>\n",
       "      <td>2020-03-03</td>\n",
       "      <td>Morocco</td>\n",
       "    </tr>\n",
       "    <tr>\n",
       "      <th>23976</th>\n",
       "      <td>7.0</td>\n",
       "      <td>695.0</td>\n",
       "      <td>11.0</td>\n",
       "      <td>0.0</td>\n",
       "      <td>36910558.0</td>\n",
       "      <td>2020-03-04</td>\n",
       "      <td>Morocco</td>\n",
       "    </tr>\n",
       "    <tr>\n",
       "      <th>23977</th>\n",
       "      <td>7.0</td>\n",
       "      <td>695.0</td>\n",
       "      <td>11.0</td>\n",
       "      <td>0.0</td>\n",
       "      <td>36910558.0</td>\n",
       "      <td>2020-03-05</td>\n",
       "      <td>Morocco</td>\n",
       "    </tr>\n",
       "    <tr>\n",
       "      <th>23978</th>\n",
       "      <td>1.0</td>\n",
       "      <td>2.0</td>\n",
       "      <td>0.0</td>\n",
       "      <td>0.0</td>\n",
       "      <td>36910558.0</td>\n",
       "      <td>2020-03-06</td>\n",
       "      <td>Morocco</td>\n",
       "    </tr>\n",
       "    <tr>\n",
       "      <th>23979</th>\n",
       "      <td>7.0</td>\n",
       "      <td>695.0</td>\n",
       "      <td>11.0</td>\n",
       "      <td>0.0</td>\n",
       "      <td>36910558.0</td>\n",
       "      <td>2020-03-07</td>\n",
       "      <td>Morocco</td>\n",
       "    </tr>\n",
       "    <tr>\n",
       "      <th>23980</th>\n",
       "      <td>7.0</td>\n",
       "      <td>695.0</td>\n",
       "      <td>11.0</td>\n",
       "      <td>0.0</td>\n",
       "      <td>36910558.0</td>\n",
       "      <td>2020-03-08</td>\n",
       "      <td>Morocco</td>\n",
       "    </tr>\n",
       "    <tr>\n",
       "      <th>23981</th>\n",
       "      <td>7.0</td>\n",
       "      <td>695.0</td>\n",
       "      <td>11.0</td>\n",
       "      <td>0.0</td>\n",
       "      <td>36910558.0</td>\n",
       "      <td>2020-03-09</td>\n",
       "      <td>Morocco</td>\n",
       "    </tr>\n",
       "    <tr>\n",
       "      <th>23982</th>\n",
       "      <td>7.0</td>\n",
       "      <td>695.0</td>\n",
       "      <td>11.0</td>\n",
       "      <td>0.0</td>\n",
       "      <td>36910558.0</td>\n",
       "      <td>2020-03-10</td>\n",
       "      <td>Morocco</td>\n",
       "    </tr>\n",
       "    <tr>\n",
       "      <th>23983</th>\n",
       "      <td>7.0</td>\n",
       "      <td>695.0</td>\n",
       "      <td>11.0</td>\n",
       "      <td>0.0</td>\n",
       "      <td>36910558.0</td>\n",
       "      <td>2020-03-11</td>\n",
       "      <td>Morocco</td>\n",
       "    </tr>\n",
       "  </tbody>\n",
       "</table>\n",
       "</div>"
      ],
      "text/plain": [
       "       new_cases  total_cases  total_deaths  ...  population       date location\n",
       "23974        7.0        695.0          11.0  ...  36910558.0 2020-03-02  Morocco\n",
       "23975        1.0          1.0           0.0  ...  36910558.0 2020-03-03  Morocco\n",
       "23976        7.0        695.0          11.0  ...  36910558.0 2020-03-04  Morocco\n",
       "23977        7.0        695.0          11.0  ...  36910558.0 2020-03-05  Morocco\n",
       "23978        1.0          2.0           0.0  ...  36910558.0 2020-03-06  Morocco\n",
       "23979        7.0        695.0          11.0  ...  36910558.0 2020-03-07  Morocco\n",
       "23980        7.0        695.0          11.0  ...  36910558.0 2020-03-08  Morocco\n",
       "23981        7.0        695.0          11.0  ...  36910558.0 2020-03-09  Morocco\n",
       "23982        7.0        695.0          11.0  ...  36910558.0 2020-03-10  Morocco\n",
       "23983        7.0        695.0          11.0  ...  36910558.0 2020-03-11  Morocco\n",
       "\n",
       "[10 rows x 7 columns]"
      ]
     },
     "execution_count": 38,
     "metadata": {
      "tags": []
     },
     "output_type": "execute_result"
    }
   ],
   "source": [
    "X_train_1.head(10)"
   ]
  },
  {
   "cell_type": "code",
   "execution_count": 39,
   "metadata": {
    "colab": {
     "base_uri": "https://localhost:8080/",
     "height": 359
    },
    "colab_type": "code",
    "id": "KWOBTgcGvLwG",
    "outputId": "eea47b88-9d50-4727-c2ce-32092d19040a"
   },
   "outputs": [
    {
     "data": {
      "text/html": [
       "<div>\n",
       "<style scoped>\n",
       "    .dataframe tbody tr th:only-of-type {\n",
       "        vertical-align: middle;\n",
       "    }\n",
       "\n",
       "    .dataframe tbody tr th {\n",
       "        vertical-align: top;\n",
       "    }\n",
       "\n",
       "    .dataframe thead th {\n",
       "        text-align: right;\n",
       "    }\n",
       "</style>\n",
       "<table border=\"1\" class=\"dataframe\">\n",
       "  <thead>\n",
       "    <tr style=\"text-align: right;\">\n",
       "      <th></th>\n",
       "      <th>new_cases</th>\n",
       "      <th>total_cases</th>\n",
       "      <th>total_deaths</th>\n",
       "      <th>new_deaths</th>\n",
       "      <th>population</th>\n",
       "      <th>date</th>\n",
       "      <th>location</th>\n",
       "    </tr>\n",
       "  </thead>\n",
       "  <tbody>\n",
       "    <tr>\n",
       "      <th>24098</th>\n",
       "      <td>319.0</td>\n",
       "      <td>13288.0</td>\n",
       "      <td>230.0</td>\n",
       "      <td>1.0</td>\n",
       "      <td>36910558.0</td>\n",
       "      <td>2020-07-04</td>\n",
       "      <td>Morocco</td>\n",
       "    </tr>\n",
       "    <tr>\n",
       "      <th>24099</th>\n",
       "      <td>534.0</td>\n",
       "      <td>13822.0</td>\n",
       "      <td>232.0</td>\n",
       "      <td>2.0</td>\n",
       "      <td>36910558.0</td>\n",
       "      <td>2020-07-05</td>\n",
       "      <td>Morocco</td>\n",
       "    </tr>\n",
       "    <tr>\n",
       "      <th>24100</th>\n",
       "      <td>393.0</td>\n",
       "      <td>14215.0</td>\n",
       "      <td>235.0</td>\n",
       "      <td>3.0</td>\n",
       "      <td>36910558.0</td>\n",
       "      <td>2020-07-06</td>\n",
       "      <td>Morocco</td>\n",
       "    </tr>\n",
       "    <tr>\n",
       "      <th>24101</th>\n",
       "      <td>114.0</td>\n",
       "      <td>14329.0</td>\n",
       "      <td>235.0</td>\n",
       "      <td>0.0</td>\n",
       "      <td>36910558.0</td>\n",
       "      <td>2020-07-07</td>\n",
       "      <td>Morocco</td>\n",
       "    </tr>\n",
       "    <tr>\n",
       "      <th>24102</th>\n",
       "      <td>0.0</td>\n",
       "      <td>14329.0</td>\n",
       "      <td>235.0</td>\n",
       "      <td>0.0</td>\n",
       "      <td>36910558.0</td>\n",
       "      <td>2020-07-08</td>\n",
       "      <td>Morocco</td>\n",
       "    </tr>\n",
       "    <tr>\n",
       "      <th>24103</th>\n",
       "      <td>442.0</td>\n",
       "      <td>14771.0</td>\n",
       "      <td>242.0</td>\n",
       "      <td>7.0</td>\n",
       "      <td>36910558.0</td>\n",
       "      <td>2020-07-09</td>\n",
       "      <td>Morocco</td>\n",
       "    </tr>\n",
       "    <tr>\n",
       "      <th>24104</th>\n",
       "      <td>178.0</td>\n",
       "      <td>14949.0</td>\n",
       "      <td>242.0</td>\n",
       "      <td>0.0</td>\n",
       "      <td>36910558.0</td>\n",
       "      <td>2020-07-10</td>\n",
       "      <td>Morocco</td>\n",
       "    </tr>\n",
       "    <tr>\n",
       "      <th>24105</th>\n",
       "      <td>379.0</td>\n",
       "      <td>15328.0</td>\n",
       "      <td>243.0</td>\n",
       "      <td>1.0</td>\n",
       "      <td>36910558.0</td>\n",
       "      <td>2020-07-11</td>\n",
       "      <td>Morocco</td>\n",
       "    </tr>\n",
       "    <tr>\n",
       "      <th>24106</th>\n",
       "      <td>214.0</td>\n",
       "      <td>15542.0</td>\n",
       "      <td>245.0</td>\n",
       "      <td>2.0</td>\n",
       "      <td>36910558.0</td>\n",
       "      <td>2020-07-12</td>\n",
       "      <td>Morocco</td>\n",
       "    </tr>\n",
       "    <tr>\n",
       "      <th>24107</th>\n",
       "      <td>203.0</td>\n",
       "      <td>15745.0</td>\n",
       "      <td>250.0</td>\n",
       "      <td>5.0</td>\n",
       "      <td>36910558.0</td>\n",
       "      <td>2020-07-13</td>\n",
       "      <td>Morocco</td>\n",
       "    </tr>\n",
       "  </tbody>\n",
       "</table>\n",
       "</div>"
      ],
      "text/plain": [
       "       new_cases  total_cases  total_deaths  ...  population       date location\n",
       "24098      319.0      13288.0         230.0  ...  36910558.0 2020-07-04  Morocco\n",
       "24099      534.0      13822.0         232.0  ...  36910558.0 2020-07-05  Morocco\n",
       "24100      393.0      14215.0         235.0  ...  36910558.0 2020-07-06  Morocco\n",
       "24101      114.0      14329.0         235.0  ...  36910558.0 2020-07-07  Morocco\n",
       "24102        0.0      14329.0         235.0  ...  36910558.0 2020-07-08  Morocco\n",
       "24103      442.0      14771.0         242.0  ...  36910558.0 2020-07-09  Morocco\n",
       "24104      178.0      14949.0         242.0  ...  36910558.0 2020-07-10  Morocco\n",
       "24105      379.0      15328.0         243.0  ...  36910558.0 2020-07-11  Morocco\n",
       "24106      214.0      15542.0         245.0  ...  36910558.0 2020-07-12  Morocco\n",
       "24107      203.0      15745.0         250.0  ...  36910558.0 2020-07-13  Morocco\n",
       "\n",
       "[10 rows x 7 columns]"
      ]
     },
     "execution_count": 39,
     "metadata": {
      "tags": []
     },
     "output_type": "execute_result"
    }
   ],
   "source": [
    "X_train_1.tail(10)"
   ]
  },
  {
   "cell_type": "code",
   "execution_count": 40,
   "metadata": {
    "colab": {
     "base_uri": "https://localhost:8080/",
     "height": 34
    },
    "colab_type": "code",
    "id": "-2jZ7FV29QsE",
    "outputId": "45092867-2f36-429f-a2f7-3ddbca0cc238"
   },
   "outputs": [
    {
     "data": {
      "text/plain": [
       "(35, 7)"
      ]
     },
     "execution_count": 40,
     "metadata": {
      "tags": []
     },
     "output_type": "execute_result"
    }
   ],
   "source": [
    "X_test_1 = df.loc[mask2].sort_index(axis = 0) \n",
    "\n",
    "X_test_1.shape"
   ]
  },
  {
   "cell_type": "code",
   "execution_count": 41,
   "metadata": {
    "colab": {
     "base_uri": "https://localhost:8080/",
     "height": 1000
    },
    "colab_type": "code",
    "id": "dGpg_7GdWKRH",
    "outputId": "ad907efe-af9a-41d1-9fb9-a0a407934da4"
   },
   "outputs": [
    {
     "data": {
      "text/html": [
       "<div>\n",
       "<style scoped>\n",
       "    .dataframe tbody tr th:only-of-type {\n",
       "        vertical-align: middle;\n",
       "    }\n",
       "\n",
       "    .dataframe tbody tr th {\n",
       "        vertical-align: top;\n",
       "    }\n",
       "\n",
       "    .dataframe thead th {\n",
       "        text-align: right;\n",
       "    }\n",
       "</style>\n",
       "<table border=\"1\" class=\"dataframe\">\n",
       "  <thead>\n",
       "    <tr style=\"text-align: right;\">\n",
       "      <th></th>\n",
       "      <th>new_cases</th>\n",
       "      <th>total_cases</th>\n",
       "      <th>total_deaths</th>\n",
       "      <th>new_deaths</th>\n",
       "      <th>population</th>\n",
       "      <th>date</th>\n",
       "      <th>location</th>\n",
       "    </tr>\n",
       "  </thead>\n",
       "  <tbody>\n",
       "    <tr>\n",
       "      <th>24106</th>\n",
       "      <td>214.0</td>\n",
       "      <td>15542.0</td>\n",
       "      <td>245.0</td>\n",
       "      <td>2.0</td>\n",
       "      <td>36910558.0</td>\n",
       "      <td>2020-07-12</td>\n",
       "      <td>Morocco</td>\n",
       "    </tr>\n",
       "    <tr>\n",
       "      <th>24107</th>\n",
       "      <td>203.0</td>\n",
       "      <td>15745.0</td>\n",
       "      <td>250.0</td>\n",
       "      <td>5.0</td>\n",
       "      <td>36910558.0</td>\n",
       "      <td>2020-07-13</td>\n",
       "      <td>Morocco</td>\n",
       "    </tr>\n",
       "    <tr>\n",
       "      <th>24108</th>\n",
       "      <td>191.0</td>\n",
       "      <td>15936.0</td>\n",
       "      <td>255.0</td>\n",
       "      <td>5.0</td>\n",
       "      <td>36910558.0</td>\n",
       "      <td>2020-07-14</td>\n",
       "      <td>Morocco</td>\n",
       "    </tr>\n",
       "    <tr>\n",
       "      <th>24109</th>\n",
       "      <td>161.0</td>\n",
       "      <td>16097.0</td>\n",
       "      <td>257.0</td>\n",
       "      <td>2.0</td>\n",
       "      <td>36910558.0</td>\n",
       "      <td>2020-07-15</td>\n",
       "      <td>Morocco</td>\n",
       "    </tr>\n",
       "    <tr>\n",
       "      <th>24110</th>\n",
       "      <td>165.0</td>\n",
       "      <td>16262.0</td>\n",
       "      <td>259.0</td>\n",
       "      <td>2.0</td>\n",
       "      <td>36910558.0</td>\n",
       "      <td>2020-07-16</td>\n",
       "      <td>Morocco</td>\n",
       "    </tr>\n",
       "    <tr>\n",
       "      <th>24111</th>\n",
       "      <td>162.0</td>\n",
       "      <td>16424.0</td>\n",
       "      <td>260.0</td>\n",
       "      <td>1.0</td>\n",
       "      <td>36910558.0</td>\n",
       "      <td>2020-07-17</td>\n",
       "      <td>Morocco</td>\n",
       "    </tr>\n",
       "    <tr>\n",
       "      <th>24112</th>\n",
       "      <td>302.0</td>\n",
       "      <td>16726.0</td>\n",
       "      <td>264.0</td>\n",
       "      <td>4.0</td>\n",
       "      <td>36910558.0</td>\n",
       "      <td>2020-07-18</td>\n",
       "      <td>Morocco</td>\n",
       "    </tr>\n",
       "    <tr>\n",
       "      <th>24113</th>\n",
       "      <td>289.0</td>\n",
       "      <td>17015.0</td>\n",
       "      <td>269.0</td>\n",
       "      <td>5.0</td>\n",
       "      <td>36910558.0</td>\n",
       "      <td>2020-07-19</td>\n",
       "      <td>Morocco</td>\n",
       "    </tr>\n",
       "    <tr>\n",
       "      <th>24114</th>\n",
       "      <td>221.0</td>\n",
       "      <td>17236.0</td>\n",
       "      <td>273.0</td>\n",
       "      <td>4.0</td>\n",
       "      <td>36910558.0</td>\n",
       "      <td>2020-07-20</td>\n",
       "      <td>Morocco</td>\n",
       "    </tr>\n",
       "    <tr>\n",
       "      <th>24115</th>\n",
       "      <td>326.0</td>\n",
       "      <td>17562.0</td>\n",
       "      <td>276.0</td>\n",
       "      <td>3.0</td>\n",
       "      <td>36910558.0</td>\n",
       "      <td>2020-07-21</td>\n",
       "      <td>Morocco</td>\n",
       "    </tr>\n",
       "    <tr>\n",
       "      <th>24116</th>\n",
       "      <td>180.0</td>\n",
       "      <td>17742.0</td>\n",
       "      <td>280.0</td>\n",
       "      <td>4.0</td>\n",
       "      <td>36910558.0</td>\n",
       "      <td>2020-07-22</td>\n",
       "      <td>Morocco</td>\n",
       "    </tr>\n",
       "    <tr>\n",
       "      <th>24117</th>\n",
       "      <td>220.0</td>\n",
       "      <td>17962.0</td>\n",
       "      <td>285.0</td>\n",
       "      <td>5.0</td>\n",
       "      <td>36910558.0</td>\n",
       "      <td>2020-07-23</td>\n",
       "      <td>Morocco</td>\n",
       "    </tr>\n",
       "    <tr>\n",
       "      <th>24118</th>\n",
       "      <td>302.0</td>\n",
       "      <td>18264.0</td>\n",
       "      <td>292.0</td>\n",
       "      <td>7.0</td>\n",
       "      <td>36910558.0</td>\n",
       "      <td>2020-07-24</td>\n",
       "      <td>Morocco</td>\n",
       "    </tr>\n",
       "    <tr>\n",
       "      <th>24119</th>\n",
       "      <td>570.0</td>\n",
       "      <td>18834.0</td>\n",
       "      <td>299.0</td>\n",
       "      <td>7.0</td>\n",
       "      <td>36910558.0</td>\n",
       "      <td>2020-07-25</td>\n",
       "      <td>Morocco</td>\n",
       "    </tr>\n",
       "    <tr>\n",
       "      <th>24120</th>\n",
       "      <td>811.0</td>\n",
       "      <td>19645.0</td>\n",
       "      <td>305.0</td>\n",
       "      <td>6.0</td>\n",
       "      <td>36910558.0</td>\n",
       "      <td>2020-07-26</td>\n",
       "      <td>Morocco</td>\n",
       "    </tr>\n",
       "    <tr>\n",
       "      <th>24121</th>\n",
       "      <td>633.0</td>\n",
       "      <td>20278.0</td>\n",
       "      <td>313.0</td>\n",
       "      <td>8.0</td>\n",
       "      <td>36910558.0</td>\n",
       "      <td>2020-07-27</td>\n",
       "      <td>Morocco</td>\n",
       "    </tr>\n",
       "    <tr>\n",
       "      <th>24122</th>\n",
       "      <td>609.0</td>\n",
       "      <td>20887.0</td>\n",
       "      <td>316.0</td>\n",
       "      <td>3.0</td>\n",
       "      <td>36910558.0</td>\n",
       "      <td>2020-07-28</td>\n",
       "      <td>Morocco</td>\n",
       "    </tr>\n",
       "    <tr>\n",
       "      <th>24123</th>\n",
       "      <td>500.0</td>\n",
       "      <td>21387.0</td>\n",
       "      <td>327.0</td>\n",
       "      <td>11.0</td>\n",
       "      <td>36910558.0</td>\n",
       "      <td>2020-07-29</td>\n",
       "      <td>Morocco</td>\n",
       "    </tr>\n",
       "    <tr>\n",
       "      <th>24124</th>\n",
       "      <td>826.0</td>\n",
       "      <td>22213.0</td>\n",
       "      <td>334.0</td>\n",
       "      <td>7.0</td>\n",
       "      <td>36910558.0</td>\n",
       "      <td>2020-07-30</td>\n",
       "      <td>Morocco</td>\n",
       "    </tr>\n",
       "    <tr>\n",
       "      <th>24125</th>\n",
       "      <td>1046.0</td>\n",
       "      <td>23259.0</td>\n",
       "      <td>346.0</td>\n",
       "      <td>12.0</td>\n",
       "      <td>36910558.0</td>\n",
       "      <td>2020-07-31</td>\n",
       "      <td>Morocco</td>\n",
       "    </tr>\n",
       "    <tr>\n",
       "      <th>24126</th>\n",
       "      <td>1063.0</td>\n",
       "      <td>24322.0</td>\n",
       "      <td>353.0</td>\n",
       "      <td>7.0</td>\n",
       "      <td>36910558.0</td>\n",
       "      <td>2020-08-01</td>\n",
       "      <td>Morocco</td>\n",
       "    </tr>\n",
       "    <tr>\n",
       "      <th>24127</th>\n",
       "      <td>693.0</td>\n",
       "      <td>25015.0</td>\n",
       "      <td>367.0</td>\n",
       "      <td>14.0</td>\n",
       "      <td>36910558.0</td>\n",
       "      <td>2020-08-02</td>\n",
       "      <td>Morocco</td>\n",
       "    </tr>\n",
       "    <tr>\n",
       "      <th>24128</th>\n",
       "      <td>522.0</td>\n",
       "      <td>25537.0</td>\n",
       "      <td>382.0</td>\n",
       "      <td>15.0</td>\n",
       "      <td>36910558.0</td>\n",
       "      <td>2020-08-03</td>\n",
       "      <td>Morocco</td>\n",
       "    </tr>\n",
       "    <tr>\n",
       "      <th>24129</th>\n",
       "      <td>659.0</td>\n",
       "      <td>26196.0</td>\n",
       "      <td>401.0</td>\n",
       "      <td>19.0</td>\n",
       "      <td>36910558.0</td>\n",
       "      <td>2020-08-04</td>\n",
       "      <td>Morocco</td>\n",
       "    </tr>\n",
       "    <tr>\n",
       "      <th>24130</th>\n",
       "      <td>1021.0</td>\n",
       "      <td>27217.0</td>\n",
       "      <td>417.0</td>\n",
       "      <td>16.0</td>\n",
       "      <td>36910558.0</td>\n",
       "      <td>2020-08-05</td>\n",
       "      <td>Morocco</td>\n",
       "    </tr>\n",
       "    <tr>\n",
       "      <th>24131</th>\n",
       "      <td>1283.0</td>\n",
       "      <td>28500.0</td>\n",
       "      <td>435.0</td>\n",
       "      <td>18.0</td>\n",
       "      <td>36910558.0</td>\n",
       "      <td>2020-08-06</td>\n",
       "      <td>Morocco</td>\n",
       "    </tr>\n",
       "    <tr>\n",
       "      <th>24132</th>\n",
       "      <td>1144.0</td>\n",
       "      <td>29644.0</td>\n",
       "      <td>449.0</td>\n",
       "      <td>14.0</td>\n",
       "      <td>36910558.0</td>\n",
       "      <td>2020-08-07</td>\n",
       "      <td>Morocco</td>\n",
       "    </tr>\n",
       "    <tr>\n",
       "      <th>24133</th>\n",
       "      <td>1018.0</td>\n",
       "      <td>30662.0</td>\n",
       "      <td>461.0</td>\n",
       "      <td>12.0</td>\n",
       "      <td>36910558.0</td>\n",
       "      <td>2020-08-08</td>\n",
       "      <td>Morocco</td>\n",
       "    </tr>\n",
       "    <tr>\n",
       "      <th>24134</th>\n",
       "      <td>1345.0</td>\n",
       "      <td>32007.0</td>\n",
       "      <td>480.0</td>\n",
       "      <td>19.0</td>\n",
       "      <td>36910558.0</td>\n",
       "      <td>2020-08-09</td>\n",
       "      <td>Morocco</td>\n",
       "    </tr>\n",
       "    <tr>\n",
       "      <th>24135</th>\n",
       "      <td>1230.0</td>\n",
       "      <td>33237.0</td>\n",
       "      <td>498.0</td>\n",
       "      <td>18.0</td>\n",
       "      <td>36910558.0</td>\n",
       "      <td>2020-08-10</td>\n",
       "      <td>Morocco</td>\n",
       "    </tr>\n",
       "    <tr>\n",
       "      <th>24136</th>\n",
       "      <td>826.0</td>\n",
       "      <td>34063.0</td>\n",
       "      <td>516.0</td>\n",
       "      <td>18.0</td>\n",
       "      <td>36910558.0</td>\n",
       "      <td>2020-08-11</td>\n",
       "      <td>Morocco</td>\n",
       "    </tr>\n",
       "    <tr>\n",
       "      <th>24137</th>\n",
       "      <td>1132.0</td>\n",
       "      <td>35195.0</td>\n",
       "      <td>533.0</td>\n",
       "      <td>17.0</td>\n",
       "      <td>36910558.0</td>\n",
       "      <td>2020-08-12</td>\n",
       "      <td>Morocco</td>\n",
       "    </tr>\n",
       "    <tr>\n",
       "      <th>24138</th>\n",
       "      <td>1499.0</td>\n",
       "      <td>36694.0</td>\n",
       "      <td>556.0</td>\n",
       "      <td>23.0</td>\n",
       "      <td>36910558.0</td>\n",
       "      <td>2020-08-13</td>\n",
       "      <td>Morocco</td>\n",
       "    </tr>\n",
       "    <tr>\n",
       "      <th>24139</th>\n",
       "      <td>1241.0</td>\n",
       "      <td>37935.0</td>\n",
       "      <td>584.0</td>\n",
       "      <td>28.0</td>\n",
       "      <td>36910558.0</td>\n",
       "      <td>2020-08-14</td>\n",
       "      <td>Morocco</td>\n",
       "    </tr>\n",
       "    <tr>\n",
       "      <th>24140</th>\n",
       "      <td>1306.0</td>\n",
       "      <td>39241.0</td>\n",
       "      <td>611.0</td>\n",
       "      <td>27.0</td>\n",
       "      <td>36910558.0</td>\n",
       "      <td>2020-08-15</td>\n",
       "      <td>Morocco</td>\n",
       "    </tr>\n",
       "  </tbody>\n",
       "</table>\n",
       "</div>"
      ],
      "text/plain": [
       "       new_cases  total_cases  total_deaths  ...  population       date location\n",
       "24106      214.0      15542.0         245.0  ...  36910558.0 2020-07-12  Morocco\n",
       "24107      203.0      15745.0         250.0  ...  36910558.0 2020-07-13  Morocco\n",
       "24108      191.0      15936.0         255.0  ...  36910558.0 2020-07-14  Morocco\n",
       "24109      161.0      16097.0         257.0  ...  36910558.0 2020-07-15  Morocco\n",
       "24110      165.0      16262.0         259.0  ...  36910558.0 2020-07-16  Morocco\n",
       "24111      162.0      16424.0         260.0  ...  36910558.0 2020-07-17  Morocco\n",
       "24112      302.0      16726.0         264.0  ...  36910558.0 2020-07-18  Morocco\n",
       "24113      289.0      17015.0         269.0  ...  36910558.0 2020-07-19  Morocco\n",
       "24114      221.0      17236.0         273.0  ...  36910558.0 2020-07-20  Morocco\n",
       "24115      326.0      17562.0         276.0  ...  36910558.0 2020-07-21  Morocco\n",
       "24116      180.0      17742.0         280.0  ...  36910558.0 2020-07-22  Morocco\n",
       "24117      220.0      17962.0         285.0  ...  36910558.0 2020-07-23  Morocco\n",
       "24118      302.0      18264.0         292.0  ...  36910558.0 2020-07-24  Morocco\n",
       "24119      570.0      18834.0         299.0  ...  36910558.0 2020-07-25  Morocco\n",
       "24120      811.0      19645.0         305.0  ...  36910558.0 2020-07-26  Morocco\n",
       "24121      633.0      20278.0         313.0  ...  36910558.0 2020-07-27  Morocco\n",
       "24122      609.0      20887.0         316.0  ...  36910558.0 2020-07-28  Morocco\n",
       "24123      500.0      21387.0         327.0  ...  36910558.0 2020-07-29  Morocco\n",
       "24124      826.0      22213.0         334.0  ...  36910558.0 2020-07-30  Morocco\n",
       "24125     1046.0      23259.0         346.0  ...  36910558.0 2020-07-31  Morocco\n",
       "24126     1063.0      24322.0         353.0  ...  36910558.0 2020-08-01  Morocco\n",
       "24127      693.0      25015.0         367.0  ...  36910558.0 2020-08-02  Morocco\n",
       "24128      522.0      25537.0         382.0  ...  36910558.0 2020-08-03  Morocco\n",
       "24129      659.0      26196.0         401.0  ...  36910558.0 2020-08-04  Morocco\n",
       "24130     1021.0      27217.0         417.0  ...  36910558.0 2020-08-05  Morocco\n",
       "24131     1283.0      28500.0         435.0  ...  36910558.0 2020-08-06  Morocco\n",
       "24132     1144.0      29644.0         449.0  ...  36910558.0 2020-08-07  Morocco\n",
       "24133     1018.0      30662.0         461.0  ...  36910558.0 2020-08-08  Morocco\n",
       "24134     1345.0      32007.0         480.0  ...  36910558.0 2020-08-09  Morocco\n",
       "24135     1230.0      33237.0         498.0  ...  36910558.0 2020-08-10  Morocco\n",
       "24136      826.0      34063.0         516.0  ...  36910558.0 2020-08-11  Morocco\n",
       "24137     1132.0      35195.0         533.0  ...  36910558.0 2020-08-12  Morocco\n",
       "24138     1499.0      36694.0         556.0  ...  36910558.0 2020-08-13  Morocco\n",
       "24139     1241.0      37935.0         584.0  ...  36910558.0 2020-08-14  Morocco\n",
       "24140     1306.0      39241.0         611.0  ...  36910558.0 2020-08-15  Morocco\n",
       "\n",
       "[35 rows x 7 columns]"
      ]
     },
     "execution_count": 41,
     "metadata": {
      "tags": []
     },
     "output_type": "execute_result"
    }
   ],
   "source": [
    "X_test_1"
   ]
  },
  {
   "cell_type": "code",
   "execution_count": 42,
   "metadata": {
    "colab": {},
    "colab_type": "code",
    "id": "4dyBHilfVuy1"
   },
   "outputs": [],
   "source": [
    "#raise SystemExit(\"Stop right there!\")"
   ]
  },
  {
   "cell_type": "code",
   "execution_count": 43,
   "metadata": {
    "colab": {
     "base_uri": "https://localhost:8080/",
     "height": 1000
    },
    "colab_type": "code",
    "id": "WS0uP5g3Soe-",
    "outputId": "5fba4b3f-275b-409e-b4df-6c55a0f6b8f6"
   },
   "outputs": [
    {
     "data": {
      "text/html": [
       "<div>\n",
       "<style scoped>\n",
       "    .dataframe tbody tr th:only-of-type {\n",
       "        vertical-align: middle;\n",
       "    }\n",
       "\n",
       "    .dataframe tbody tr th {\n",
       "        vertical-align: top;\n",
       "    }\n",
       "\n",
       "    .dataframe thead th {\n",
       "        text-align: right;\n",
       "    }\n",
       "</style>\n",
       "<table border=\"1\" class=\"dataframe\">\n",
       "  <thead>\n",
       "    <tr style=\"text-align: right;\">\n",
       "      <th></th>\n",
       "      <th>new_cases</th>\n",
       "      <th>total_cases</th>\n",
       "      <th>total_deaths</th>\n",
       "      <th>new_deaths</th>\n",
       "      <th>population</th>\n",
       "      <th>date</th>\n",
       "      <th>location</th>\n",
       "    </tr>\n",
       "  </thead>\n",
       "  <tbody>\n",
       "    <tr>\n",
       "      <th>24106</th>\n",
       "      <td>214.0</td>\n",
       "      <td>15542.0</td>\n",
       "      <td>245.0</td>\n",
       "      <td>2.0</td>\n",
       "      <td>36910558.0</td>\n",
       "      <td>2020-07-12</td>\n",
       "      <td>Morocco</td>\n",
       "    </tr>\n",
       "    <tr>\n",
       "      <th>24107</th>\n",
       "      <td>203.0</td>\n",
       "      <td>15745.0</td>\n",
       "      <td>250.0</td>\n",
       "      <td>5.0</td>\n",
       "      <td>36910558.0</td>\n",
       "      <td>2020-07-13</td>\n",
       "      <td>Morocco</td>\n",
       "    </tr>\n",
       "    <tr>\n",
       "      <th>24108</th>\n",
       "      <td>191.0</td>\n",
       "      <td>15936.0</td>\n",
       "      <td>255.0</td>\n",
       "      <td>5.0</td>\n",
       "      <td>36910558.0</td>\n",
       "      <td>2020-07-14</td>\n",
       "      <td>Morocco</td>\n",
       "    </tr>\n",
       "    <tr>\n",
       "      <th>24109</th>\n",
       "      <td>161.0</td>\n",
       "      <td>16097.0</td>\n",
       "      <td>257.0</td>\n",
       "      <td>2.0</td>\n",
       "      <td>36910558.0</td>\n",
       "      <td>2020-07-15</td>\n",
       "      <td>Morocco</td>\n",
       "    </tr>\n",
       "    <tr>\n",
       "      <th>24110</th>\n",
       "      <td>165.0</td>\n",
       "      <td>16262.0</td>\n",
       "      <td>259.0</td>\n",
       "      <td>2.0</td>\n",
       "      <td>36910558.0</td>\n",
       "      <td>2020-07-16</td>\n",
       "      <td>Morocco</td>\n",
       "    </tr>\n",
       "    <tr>\n",
       "      <th>24111</th>\n",
       "      <td>162.0</td>\n",
       "      <td>16424.0</td>\n",
       "      <td>260.0</td>\n",
       "      <td>1.0</td>\n",
       "      <td>36910558.0</td>\n",
       "      <td>2020-07-17</td>\n",
       "      <td>Morocco</td>\n",
       "    </tr>\n",
       "    <tr>\n",
       "      <th>24112</th>\n",
       "      <td>302.0</td>\n",
       "      <td>16726.0</td>\n",
       "      <td>264.0</td>\n",
       "      <td>4.0</td>\n",
       "      <td>36910558.0</td>\n",
       "      <td>2020-07-18</td>\n",
       "      <td>Morocco</td>\n",
       "    </tr>\n",
       "    <tr>\n",
       "      <th>24113</th>\n",
       "      <td>289.0</td>\n",
       "      <td>17015.0</td>\n",
       "      <td>269.0</td>\n",
       "      <td>5.0</td>\n",
       "      <td>36910558.0</td>\n",
       "      <td>2020-07-19</td>\n",
       "      <td>Morocco</td>\n",
       "    </tr>\n",
       "    <tr>\n",
       "      <th>24114</th>\n",
       "      <td>221.0</td>\n",
       "      <td>17236.0</td>\n",
       "      <td>273.0</td>\n",
       "      <td>4.0</td>\n",
       "      <td>36910558.0</td>\n",
       "      <td>2020-07-20</td>\n",
       "      <td>Morocco</td>\n",
       "    </tr>\n",
       "    <tr>\n",
       "      <th>24115</th>\n",
       "      <td>326.0</td>\n",
       "      <td>17562.0</td>\n",
       "      <td>276.0</td>\n",
       "      <td>3.0</td>\n",
       "      <td>36910558.0</td>\n",
       "      <td>2020-07-21</td>\n",
       "      <td>Morocco</td>\n",
       "    </tr>\n",
       "    <tr>\n",
       "      <th>24116</th>\n",
       "      <td>180.0</td>\n",
       "      <td>17742.0</td>\n",
       "      <td>280.0</td>\n",
       "      <td>4.0</td>\n",
       "      <td>36910558.0</td>\n",
       "      <td>2020-07-22</td>\n",
       "      <td>Morocco</td>\n",
       "    </tr>\n",
       "    <tr>\n",
       "      <th>24117</th>\n",
       "      <td>220.0</td>\n",
       "      <td>17962.0</td>\n",
       "      <td>285.0</td>\n",
       "      <td>5.0</td>\n",
       "      <td>36910558.0</td>\n",
       "      <td>2020-07-23</td>\n",
       "      <td>Morocco</td>\n",
       "    </tr>\n",
       "    <tr>\n",
       "      <th>24118</th>\n",
       "      <td>302.0</td>\n",
       "      <td>18264.0</td>\n",
       "      <td>292.0</td>\n",
       "      <td>7.0</td>\n",
       "      <td>36910558.0</td>\n",
       "      <td>2020-07-24</td>\n",
       "      <td>Morocco</td>\n",
       "    </tr>\n",
       "    <tr>\n",
       "      <th>24119</th>\n",
       "      <td>570.0</td>\n",
       "      <td>18834.0</td>\n",
       "      <td>299.0</td>\n",
       "      <td>7.0</td>\n",
       "      <td>36910558.0</td>\n",
       "      <td>2020-07-25</td>\n",
       "      <td>Morocco</td>\n",
       "    </tr>\n",
       "    <tr>\n",
       "      <th>24120</th>\n",
       "      <td>811.0</td>\n",
       "      <td>19645.0</td>\n",
       "      <td>305.0</td>\n",
       "      <td>6.0</td>\n",
       "      <td>36910558.0</td>\n",
       "      <td>2020-07-26</td>\n",
       "      <td>Morocco</td>\n",
       "    </tr>\n",
       "    <tr>\n",
       "      <th>24121</th>\n",
       "      <td>633.0</td>\n",
       "      <td>20278.0</td>\n",
       "      <td>313.0</td>\n",
       "      <td>8.0</td>\n",
       "      <td>36910558.0</td>\n",
       "      <td>2020-07-27</td>\n",
       "      <td>Morocco</td>\n",
       "    </tr>\n",
       "    <tr>\n",
       "      <th>24122</th>\n",
       "      <td>609.0</td>\n",
       "      <td>20887.0</td>\n",
       "      <td>316.0</td>\n",
       "      <td>3.0</td>\n",
       "      <td>36910558.0</td>\n",
       "      <td>2020-07-28</td>\n",
       "      <td>Morocco</td>\n",
       "    </tr>\n",
       "    <tr>\n",
       "      <th>24123</th>\n",
       "      <td>500.0</td>\n",
       "      <td>21387.0</td>\n",
       "      <td>327.0</td>\n",
       "      <td>11.0</td>\n",
       "      <td>36910558.0</td>\n",
       "      <td>2020-07-29</td>\n",
       "      <td>Morocco</td>\n",
       "    </tr>\n",
       "    <tr>\n",
       "      <th>24124</th>\n",
       "      <td>826.0</td>\n",
       "      <td>22213.0</td>\n",
       "      <td>334.0</td>\n",
       "      <td>7.0</td>\n",
       "      <td>36910558.0</td>\n",
       "      <td>2020-07-30</td>\n",
       "      <td>Morocco</td>\n",
       "    </tr>\n",
       "    <tr>\n",
       "      <th>24125</th>\n",
       "      <td>1046.0</td>\n",
       "      <td>23259.0</td>\n",
       "      <td>346.0</td>\n",
       "      <td>12.0</td>\n",
       "      <td>36910558.0</td>\n",
       "      <td>2020-07-31</td>\n",
       "      <td>Morocco</td>\n",
       "    </tr>\n",
       "    <tr>\n",
       "      <th>24126</th>\n",
       "      <td>1063.0</td>\n",
       "      <td>24322.0</td>\n",
       "      <td>353.0</td>\n",
       "      <td>7.0</td>\n",
       "      <td>36910558.0</td>\n",
       "      <td>2020-08-01</td>\n",
       "      <td>Morocco</td>\n",
       "    </tr>\n",
       "    <tr>\n",
       "      <th>24127</th>\n",
       "      <td>693.0</td>\n",
       "      <td>25015.0</td>\n",
       "      <td>367.0</td>\n",
       "      <td>14.0</td>\n",
       "      <td>36910558.0</td>\n",
       "      <td>2020-08-02</td>\n",
       "      <td>Morocco</td>\n",
       "    </tr>\n",
       "    <tr>\n",
       "      <th>24128</th>\n",
       "      <td>522.0</td>\n",
       "      <td>25537.0</td>\n",
       "      <td>382.0</td>\n",
       "      <td>15.0</td>\n",
       "      <td>36910558.0</td>\n",
       "      <td>2020-08-03</td>\n",
       "      <td>Morocco</td>\n",
       "    </tr>\n",
       "    <tr>\n",
       "      <th>24129</th>\n",
       "      <td>659.0</td>\n",
       "      <td>26196.0</td>\n",
       "      <td>401.0</td>\n",
       "      <td>19.0</td>\n",
       "      <td>36910558.0</td>\n",
       "      <td>2020-08-04</td>\n",
       "      <td>Morocco</td>\n",
       "    </tr>\n",
       "    <tr>\n",
       "      <th>24130</th>\n",
       "      <td>1021.0</td>\n",
       "      <td>27217.0</td>\n",
       "      <td>417.0</td>\n",
       "      <td>16.0</td>\n",
       "      <td>36910558.0</td>\n",
       "      <td>2020-08-05</td>\n",
       "      <td>Morocco</td>\n",
       "    </tr>\n",
       "    <tr>\n",
       "      <th>24131</th>\n",
       "      <td>1283.0</td>\n",
       "      <td>28500.0</td>\n",
       "      <td>435.0</td>\n",
       "      <td>18.0</td>\n",
       "      <td>36910558.0</td>\n",
       "      <td>2020-08-06</td>\n",
       "      <td>Morocco</td>\n",
       "    </tr>\n",
       "    <tr>\n",
       "      <th>24132</th>\n",
       "      <td>1144.0</td>\n",
       "      <td>29644.0</td>\n",
       "      <td>449.0</td>\n",
       "      <td>14.0</td>\n",
       "      <td>36910558.0</td>\n",
       "      <td>2020-08-07</td>\n",
       "      <td>Morocco</td>\n",
       "    </tr>\n",
       "    <tr>\n",
       "      <th>24133</th>\n",
       "      <td>1018.0</td>\n",
       "      <td>30662.0</td>\n",
       "      <td>461.0</td>\n",
       "      <td>12.0</td>\n",
       "      <td>36910558.0</td>\n",
       "      <td>2020-08-08</td>\n",
       "      <td>Morocco</td>\n",
       "    </tr>\n",
       "    <tr>\n",
       "      <th>24134</th>\n",
       "      <td>1345.0</td>\n",
       "      <td>32007.0</td>\n",
       "      <td>480.0</td>\n",
       "      <td>19.0</td>\n",
       "      <td>36910558.0</td>\n",
       "      <td>2020-08-09</td>\n",
       "      <td>Morocco</td>\n",
       "    </tr>\n",
       "    <tr>\n",
       "      <th>24135</th>\n",
       "      <td>1230.0</td>\n",
       "      <td>33237.0</td>\n",
       "      <td>498.0</td>\n",
       "      <td>18.0</td>\n",
       "      <td>36910558.0</td>\n",
       "      <td>2020-08-10</td>\n",
       "      <td>Morocco</td>\n",
       "    </tr>\n",
       "    <tr>\n",
       "      <th>24136</th>\n",
       "      <td>826.0</td>\n",
       "      <td>34063.0</td>\n",
       "      <td>516.0</td>\n",
       "      <td>18.0</td>\n",
       "      <td>36910558.0</td>\n",
       "      <td>2020-08-11</td>\n",
       "      <td>Morocco</td>\n",
       "    </tr>\n",
       "    <tr>\n",
       "      <th>24137</th>\n",
       "      <td>1132.0</td>\n",
       "      <td>35195.0</td>\n",
       "      <td>533.0</td>\n",
       "      <td>17.0</td>\n",
       "      <td>36910558.0</td>\n",
       "      <td>2020-08-12</td>\n",
       "      <td>Morocco</td>\n",
       "    </tr>\n",
       "    <tr>\n",
       "      <th>24138</th>\n",
       "      <td>1499.0</td>\n",
       "      <td>36694.0</td>\n",
       "      <td>556.0</td>\n",
       "      <td>23.0</td>\n",
       "      <td>36910558.0</td>\n",
       "      <td>2020-08-13</td>\n",
       "      <td>Morocco</td>\n",
       "    </tr>\n",
       "    <tr>\n",
       "      <th>24139</th>\n",
       "      <td>1241.0</td>\n",
       "      <td>37935.0</td>\n",
       "      <td>584.0</td>\n",
       "      <td>28.0</td>\n",
       "      <td>36910558.0</td>\n",
       "      <td>2020-08-14</td>\n",
       "      <td>Morocco</td>\n",
       "    </tr>\n",
       "    <tr>\n",
       "      <th>24140</th>\n",
       "      <td>1306.0</td>\n",
       "      <td>39241.0</td>\n",
       "      <td>611.0</td>\n",
       "      <td>27.0</td>\n",
       "      <td>36910558.0</td>\n",
       "      <td>2020-08-15</td>\n",
       "      <td>Morocco</td>\n",
       "    </tr>\n",
       "  </tbody>\n",
       "</table>\n",
       "</div>"
      ],
      "text/plain": [
       "       new_cases  total_cases  total_deaths  ...  population       date location\n",
       "24106      214.0      15542.0         245.0  ...  36910558.0 2020-07-12  Morocco\n",
       "24107      203.0      15745.0         250.0  ...  36910558.0 2020-07-13  Morocco\n",
       "24108      191.0      15936.0         255.0  ...  36910558.0 2020-07-14  Morocco\n",
       "24109      161.0      16097.0         257.0  ...  36910558.0 2020-07-15  Morocco\n",
       "24110      165.0      16262.0         259.0  ...  36910558.0 2020-07-16  Morocco\n",
       "24111      162.0      16424.0         260.0  ...  36910558.0 2020-07-17  Morocco\n",
       "24112      302.0      16726.0         264.0  ...  36910558.0 2020-07-18  Morocco\n",
       "24113      289.0      17015.0         269.0  ...  36910558.0 2020-07-19  Morocco\n",
       "24114      221.0      17236.0         273.0  ...  36910558.0 2020-07-20  Morocco\n",
       "24115      326.0      17562.0         276.0  ...  36910558.0 2020-07-21  Morocco\n",
       "24116      180.0      17742.0         280.0  ...  36910558.0 2020-07-22  Morocco\n",
       "24117      220.0      17962.0         285.0  ...  36910558.0 2020-07-23  Morocco\n",
       "24118      302.0      18264.0         292.0  ...  36910558.0 2020-07-24  Morocco\n",
       "24119      570.0      18834.0         299.0  ...  36910558.0 2020-07-25  Morocco\n",
       "24120      811.0      19645.0         305.0  ...  36910558.0 2020-07-26  Morocco\n",
       "24121      633.0      20278.0         313.0  ...  36910558.0 2020-07-27  Morocco\n",
       "24122      609.0      20887.0         316.0  ...  36910558.0 2020-07-28  Morocco\n",
       "24123      500.0      21387.0         327.0  ...  36910558.0 2020-07-29  Morocco\n",
       "24124      826.0      22213.0         334.0  ...  36910558.0 2020-07-30  Morocco\n",
       "24125     1046.0      23259.0         346.0  ...  36910558.0 2020-07-31  Morocco\n",
       "24126     1063.0      24322.0         353.0  ...  36910558.0 2020-08-01  Morocco\n",
       "24127      693.0      25015.0         367.0  ...  36910558.0 2020-08-02  Morocco\n",
       "24128      522.0      25537.0         382.0  ...  36910558.0 2020-08-03  Morocco\n",
       "24129      659.0      26196.0         401.0  ...  36910558.0 2020-08-04  Morocco\n",
       "24130     1021.0      27217.0         417.0  ...  36910558.0 2020-08-05  Morocco\n",
       "24131     1283.0      28500.0         435.0  ...  36910558.0 2020-08-06  Morocco\n",
       "24132     1144.0      29644.0         449.0  ...  36910558.0 2020-08-07  Morocco\n",
       "24133     1018.0      30662.0         461.0  ...  36910558.0 2020-08-08  Morocco\n",
       "24134     1345.0      32007.0         480.0  ...  36910558.0 2020-08-09  Morocco\n",
       "24135     1230.0      33237.0         498.0  ...  36910558.0 2020-08-10  Morocco\n",
       "24136      826.0      34063.0         516.0  ...  36910558.0 2020-08-11  Morocco\n",
       "24137     1132.0      35195.0         533.0  ...  36910558.0 2020-08-12  Morocco\n",
       "24138     1499.0      36694.0         556.0  ...  36910558.0 2020-08-13  Morocco\n",
       "24139     1241.0      37935.0         584.0  ...  36910558.0 2020-08-14  Morocco\n",
       "24140     1306.0      39241.0         611.0  ...  36910558.0 2020-08-15  Morocco\n",
       "\n",
       "[35 rows x 7 columns]"
      ]
     },
     "execution_count": 43,
     "metadata": {
      "tags": []
     },
     "output_type": "execute_result"
    }
   ],
   "source": [
    "X_test_1"
   ]
  },
  {
   "cell_type": "code",
   "execution_count": 44,
   "metadata": {
    "colab": {},
    "colab_type": "code",
    "id": "TT0yYI-dppyl"
   },
   "outputs": [],
   "source": [
    "X_test_1 = pd.concat([pd.DataFrame(data_add_test),X_test_1], ignore_index=True)\n",
    "X_test_1 = X_test_1.sort_index(axis = 0)"
   ]
  },
  {
   "cell_type": "code",
   "execution_count": 45,
   "metadata": {
    "colab": {
     "base_uri": "https://localhost:8080/",
     "height": 1000
    },
    "colab_type": "code",
    "id": "fBFYIySlvQHt",
    "outputId": "b7b8570e-03d9-46ac-ba34-925eb5953cd2"
   },
   "outputs": [
    {
     "data": {
      "text/html": [
       "<div>\n",
       "<style scoped>\n",
       "    .dataframe tbody tr th:only-of-type {\n",
       "        vertical-align: middle;\n",
       "    }\n",
       "\n",
       "    .dataframe tbody tr th {\n",
       "        vertical-align: top;\n",
       "    }\n",
       "\n",
       "    .dataframe thead th {\n",
       "        text-align: right;\n",
       "    }\n",
       "</style>\n",
       "<table border=\"1\" class=\"dataframe\">\n",
       "  <thead>\n",
       "    <tr style=\"text-align: right;\">\n",
       "      <th></th>\n",
       "      <th>new_cases</th>\n",
       "      <th>total_cases</th>\n",
       "      <th>total_deaths</th>\n",
       "      <th>new_deaths</th>\n",
       "      <th>population</th>\n",
       "      <th>date</th>\n",
       "      <th>location</th>\n",
       "    </tr>\n",
       "  </thead>\n",
       "  <tbody>\n",
       "    <tr>\n",
       "      <th>0</th>\n",
       "      <td>203.0</td>\n",
       "      <td>15745.0</td>\n",
       "      <td>250.0</td>\n",
       "      <td>5.0</td>\n",
       "      <td>36910558.0</td>\n",
       "      <td>2020-07-13</td>\n",
       "      <td>Morocco</td>\n",
       "    </tr>\n",
       "    <tr>\n",
       "      <th>1</th>\n",
       "      <td>214.0</td>\n",
       "      <td>15542.0</td>\n",
       "      <td>245.0</td>\n",
       "      <td>2.0</td>\n",
       "      <td>36910558.0</td>\n",
       "      <td>2020-07-12</td>\n",
       "      <td>Morocco</td>\n",
       "    </tr>\n",
       "    <tr>\n",
       "      <th>2</th>\n",
       "      <td>203.0</td>\n",
       "      <td>15745.0</td>\n",
       "      <td>250.0</td>\n",
       "      <td>5.0</td>\n",
       "      <td>36910558.0</td>\n",
       "      <td>2020-07-13</td>\n",
       "      <td>Morocco</td>\n",
       "    </tr>\n",
       "    <tr>\n",
       "      <th>3</th>\n",
       "      <td>191.0</td>\n",
       "      <td>15936.0</td>\n",
       "      <td>255.0</td>\n",
       "      <td>5.0</td>\n",
       "      <td>36910558.0</td>\n",
       "      <td>2020-07-14</td>\n",
       "      <td>Morocco</td>\n",
       "    </tr>\n",
       "    <tr>\n",
       "      <th>4</th>\n",
       "      <td>161.0</td>\n",
       "      <td>16097.0</td>\n",
       "      <td>257.0</td>\n",
       "      <td>2.0</td>\n",
       "      <td>36910558.0</td>\n",
       "      <td>2020-07-15</td>\n",
       "      <td>Morocco</td>\n",
       "    </tr>\n",
       "    <tr>\n",
       "      <th>5</th>\n",
       "      <td>165.0</td>\n",
       "      <td>16262.0</td>\n",
       "      <td>259.0</td>\n",
       "      <td>2.0</td>\n",
       "      <td>36910558.0</td>\n",
       "      <td>2020-07-16</td>\n",
       "      <td>Morocco</td>\n",
       "    </tr>\n",
       "    <tr>\n",
       "      <th>6</th>\n",
       "      <td>162.0</td>\n",
       "      <td>16424.0</td>\n",
       "      <td>260.0</td>\n",
       "      <td>1.0</td>\n",
       "      <td>36910558.0</td>\n",
       "      <td>2020-07-17</td>\n",
       "      <td>Morocco</td>\n",
       "    </tr>\n",
       "    <tr>\n",
       "      <th>7</th>\n",
       "      <td>302.0</td>\n",
       "      <td>16726.0</td>\n",
       "      <td>264.0</td>\n",
       "      <td>4.0</td>\n",
       "      <td>36910558.0</td>\n",
       "      <td>2020-07-18</td>\n",
       "      <td>Morocco</td>\n",
       "    </tr>\n",
       "    <tr>\n",
       "      <th>8</th>\n",
       "      <td>289.0</td>\n",
       "      <td>17015.0</td>\n",
       "      <td>269.0</td>\n",
       "      <td>5.0</td>\n",
       "      <td>36910558.0</td>\n",
       "      <td>2020-07-19</td>\n",
       "      <td>Morocco</td>\n",
       "    </tr>\n",
       "    <tr>\n",
       "      <th>9</th>\n",
       "      <td>221.0</td>\n",
       "      <td>17236.0</td>\n",
       "      <td>273.0</td>\n",
       "      <td>4.0</td>\n",
       "      <td>36910558.0</td>\n",
       "      <td>2020-07-20</td>\n",
       "      <td>Morocco</td>\n",
       "    </tr>\n",
       "    <tr>\n",
       "      <th>10</th>\n",
       "      <td>326.0</td>\n",
       "      <td>17562.0</td>\n",
       "      <td>276.0</td>\n",
       "      <td>3.0</td>\n",
       "      <td>36910558.0</td>\n",
       "      <td>2020-07-21</td>\n",
       "      <td>Morocco</td>\n",
       "    </tr>\n",
       "    <tr>\n",
       "      <th>11</th>\n",
       "      <td>180.0</td>\n",
       "      <td>17742.0</td>\n",
       "      <td>280.0</td>\n",
       "      <td>4.0</td>\n",
       "      <td>36910558.0</td>\n",
       "      <td>2020-07-22</td>\n",
       "      <td>Morocco</td>\n",
       "    </tr>\n",
       "    <tr>\n",
       "      <th>12</th>\n",
       "      <td>220.0</td>\n",
       "      <td>17962.0</td>\n",
       "      <td>285.0</td>\n",
       "      <td>5.0</td>\n",
       "      <td>36910558.0</td>\n",
       "      <td>2020-07-23</td>\n",
       "      <td>Morocco</td>\n",
       "    </tr>\n",
       "    <tr>\n",
       "      <th>13</th>\n",
       "      <td>302.0</td>\n",
       "      <td>18264.0</td>\n",
       "      <td>292.0</td>\n",
       "      <td>7.0</td>\n",
       "      <td>36910558.0</td>\n",
       "      <td>2020-07-24</td>\n",
       "      <td>Morocco</td>\n",
       "    </tr>\n",
       "    <tr>\n",
       "      <th>14</th>\n",
       "      <td>570.0</td>\n",
       "      <td>18834.0</td>\n",
       "      <td>299.0</td>\n",
       "      <td>7.0</td>\n",
       "      <td>36910558.0</td>\n",
       "      <td>2020-07-25</td>\n",
       "      <td>Morocco</td>\n",
       "    </tr>\n",
       "    <tr>\n",
       "      <th>15</th>\n",
       "      <td>811.0</td>\n",
       "      <td>19645.0</td>\n",
       "      <td>305.0</td>\n",
       "      <td>6.0</td>\n",
       "      <td>36910558.0</td>\n",
       "      <td>2020-07-26</td>\n",
       "      <td>Morocco</td>\n",
       "    </tr>\n",
       "    <tr>\n",
       "      <th>16</th>\n",
       "      <td>633.0</td>\n",
       "      <td>20278.0</td>\n",
       "      <td>313.0</td>\n",
       "      <td>8.0</td>\n",
       "      <td>36910558.0</td>\n",
       "      <td>2020-07-27</td>\n",
       "      <td>Morocco</td>\n",
       "    </tr>\n",
       "    <tr>\n",
       "      <th>17</th>\n",
       "      <td>609.0</td>\n",
       "      <td>20887.0</td>\n",
       "      <td>316.0</td>\n",
       "      <td>3.0</td>\n",
       "      <td>36910558.0</td>\n",
       "      <td>2020-07-28</td>\n",
       "      <td>Morocco</td>\n",
       "    </tr>\n",
       "    <tr>\n",
       "      <th>18</th>\n",
       "      <td>500.0</td>\n",
       "      <td>21387.0</td>\n",
       "      <td>327.0</td>\n",
       "      <td>11.0</td>\n",
       "      <td>36910558.0</td>\n",
       "      <td>2020-07-29</td>\n",
       "      <td>Morocco</td>\n",
       "    </tr>\n",
       "    <tr>\n",
       "      <th>19</th>\n",
       "      <td>826.0</td>\n",
       "      <td>22213.0</td>\n",
       "      <td>334.0</td>\n",
       "      <td>7.0</td>\n",
       "      <td>36910558.0</td>\n",
       "      <td>2020-07-30</td>\n",
       "      <td>Morocco</td>\n",
       "    </tr>\n",
       "    <tr>\n",
       "      <th>20</th>\n",
       "      <td>1046.0</td>\n",
       "      <td>23259.0</td>\n",
       "      <td>346.0</td>\n",
       "      <td>12.0</td>\n",
       "      <td>36910558.0</td>\n",
       "      <td>2020-07-31</td>\n",
       "      <td>Morocco</td>\n",
       "    </tr>\n",
       "    <tr>\n",
       "      <th>21</th>\n",
       "      <td>1063.0</td>\n",
       "      <td>24322.0</td>\n",
       "      <td>353.0</td>\n",
       "      <td>7.0</td>\n",
       "      <td>36910558.0</td>\n",
       "      <td>2020-08-01</td>\n",
       "      <td>Morocco</td>\n",
       "    </tr>\n",
       "    <tr>\n",
       "      <th>22</th>\n",
       "      <td>693.0</td>\n",
       "      <td>25015.0</td>\n",
       "      <td>367.0</td>\n",
       "      <td>14.0</td>\n",
       "      <td>36910558.0</td>\n",
       "      <td>2020-08-02</td>\n",
       "      <td>Morocco</td>\n",
       "    </tr>\n",
       "    <tr>\n",
       "      <th>23</th>\n",
       "      <td>522.0</td>\n",
       "      <td>25537.0</td>\n",
       "      <td>382.0</td>\n",
       "      <td>15.0</td>\n",
       "      <td>36910558.0</td>\n",
       "      <td>2020-08-03</td>\n",
       "      <td>Morocco</td>\n",
       "    </tr>\n",
       "    <tr>\n",
       "      <th>24</th>\n",
       "      <td>659.0</td>\n",
       "      <td>26196.0</td>\n",
       "      <td>401.0</td>\n",
       "      <td>19.0</td>\n",
       "      <td>36910558.0</td>\n",
       "      <td>2020-08-04</td>\n",
       "      <td>Morocco</td>\n",
       "    </tr>\n",
       "    <tr>\n",
       "      <th>25</th>\n",
       "      <td>1021.0</td>\n",
       "      <td>27217.0</td>\n",
       "      <td>417.0</td>\n",
       "      <td>16.0</td>\n",
       "      <td>36910558.0</td>\n",
       "      <td>2020-08-05</td>\n",
       "      <td>Morocco</td>\n",
       "    </tr>\n",
       "    <tr>\n",
       "      <th>26</th>\n",
       "      <td>1283.0</td>\n",
       "      <td>28500.0</td>\n",
       "      <td>435.0</td>\n",
       "      <td>18.0</td>\n",
       "      <td>36910558.0</td>\n",
       "      <td>2020-08-06</td>\n",
       "      <td>Morocco</td>\n",
       "    </tr>\n",
       "    <tr>\n",
       "      <th>27</th>\n",
       "      <td>1144.0</td>\n",
       "      <td>29644.0</td>\n",
       "      <td>449.0</td>\n",
       "      <td>14.0</td>\n",
       "      <td>36910558.0</td>\n",
       "      <td>2020-08-07</td>\n",
       "      <td>Morocco</td>\n",
       "    </tr>\n",
       "    <tr>\n",
       "      <th>28</th>\n",
       "      <td>1018.0</td>\n",
       "      <td>30662.0</td>\n",
       "      <td>461.0</td>\n",
       "      <td>12.0</td>\n",
       "      <td>36910558.0</td>\n",
       "      <td>2020-08-08</td>\n",
       "      <td>Morocco</td>\n",
       "    </tr>\n",
       "    <tr>\n",
       "      <th>29</th>\n",
       "      <td>1345.0</td>\n",
       "      <td>32007.0</td>\n",
       "      <td>480.0</td>\n",
       "      <td>19.0</td>\n",
       "      <td>36910558.0</td>\n",
       "      <td>2020-08-09</td>\n",
       "      <td>Morocco</td>\n",
       "    </tr>\n",
       "    <tr>\n",
       "      <th>30</th>\n",
       "      <td>1230.0</td>\n",
       "      <td>33237.0</td>\n",
       "      <td>498.0</td>\n",
       "      <td>18.0</td>\n",
       "      <td>36910558.0</td>\n",
       "      <td>2020-08-10</td>\n",
       "      <td>Morocco</td>\n",
       "    </tr>\n",
       "    <tr>\n",
       "      <th>31</th>\n",
       "      <td>826.0</td>\n",
       "      <td>34063.0</td>\n",
       "      <td>516.0</td>\n",
       "      <td>18.0</td>\n",
       "      <td>36910558.0</td>\n",
       "      <td>2020-08-11</td>\n",
       "      <td>Morocco</td>\n",
       "    </tr>\n",
       "    <tr>\n",
       "      <th>32</th>\n",
       "      <td>1132.0</td>\n",
       "      <td>35195.0</td>\n",
       "      <td>533.0</td>\n",
       "      <td>17.0</td>\n",
       "      <td>36910558.0</td>\n",
       "      <td>2020-08-12</td>\n",
       "      <td>Morocco</td>\n",
       "    </tr>\n",
       "    <tr>\n",
       "      <th>33</th>\n",
       "      <td>1499.0</td>\n",
       "      <td>36694.0</td>\n",
       "      <td>556.0</td>\n",
       "      <td>23.0</td>\n",
       "      <td>36910558.0</td>\n",
       "      <td>2020-08-13</td>\n",
       "      <td>Morocco</td>\n",
       "    </tr>\n",
       "    <tr>\n",
       "      <th>34</th>\n",
       "      <td>1241.0</td>\n",
       "      <td>37935.0</td>\n",
       "      <td>584.0</td>\n",
       "      <td>28.0</td>\n",
       "      <td>36910558.0</td>\n",
       "      <td>2020-08-14</td>\n",
       "      <td>Morocco</td>\n",
       "    </tr>\n",
       "    <tr>\n",
       "      <th>35</th>\n",
       "      <td>1306.0</td>\n",
       "      <td>39241.0</td>\n",
       "      <td>611.0</td>\n",
       "      <td>27.0</td>\n",
       "      <td>36910558.0</td>\n",
       "      <td>2020-08-15</td>\n",
       "      <td>Morocco</td>\n",
       "    </tr>\n",
       "  </tbody>\n",
       "</table>\n",
       "</div>"
      ],
      "text/plain": [
       "    new_cases  total_cases  total_deaths  ...  population       date location\n",
       "0       203.0      15745.0         250.0  ...  36910558.0 2020-07-13  Morocco\n",
       "1       214.0      15542.0         245.0  ...  36910558.0 2020-07-12  Morocco\n",
       "2       203.0      15745.0         250.0  ...  36910558.0 2020-07-13  Morocco\n",
       "3       191.0      15936.0         255.0  ...  36910558.0 2020-07-14  Morocco\n",
       "4       161.0      16097.0         257.0  ...  36910558.0 2020-07-15  Morocco\n",
       "5       165.0      16262.0         259.0  ...  36910558.0 2020-07-16  Morocco\n",
       "6       162.0      16424.0         260.0  ...  36910558.0 2020-07-17  Morocco\n",
       "7       302.0      16726.0         264.0  ...  36910558.0 2020-07-18  Morocco\n",
       "8       289.0      17015.0         269.0  ...  36910558.0 2020-07-19  Morocco\n",
       "9       221.0      17236.0         273.0  ...  36910558.0 2020-07-20  Morocco\n",
       "10      326.0      17562.0         276.0  ...  36910558.0 2020-07-21  Morocco\n",
       "11      180.0      17742.0         280.0  ...  36910558.0 2020-07-22  Morocco\n",
       "12      220.0      17962.0         285.0  ...  36910558.0 2020-07-23  Morocco\n",
       "13      302.0      18264.0         292.0  ...  36910558.0 2020-07-24  Morocco\n",
       "14      570.0      18834.0         299.0  ...  36910558.0 2020-07-25  Morocco\n",
       "15      811.0      19645.0         305.0  ...  36910558.0 2020-07-26  Morocco\n",
       "16      633.0      20278.0         313.0  ...  36910558.0 2020-07-27  Morocco\n",
       "17      609.0      20887.0         316.0  ...  36910558.0 2020-07-28  Morocco\n",
       "18      500.0      21387.0         327.0  ...  36910558.0 2020-07-29  Morocco\n",
       "19      826.0      22213.0         334.0  ...  36910558.0 2020-07-30  Morocco\n",
       "20     1046.0      23259.0         346.0  ...  36910558.0 2020-07-31  Morocco\n",
       "21     1063.0      24322.0         353.0  ...  36910558.0 2020-08-01  Morocco\n",
       "22      693.0      25015.0         367.0  ...  36910558.0 2020-08-02  Morocco\n",
       "23      522.0      25537.0         382.0  ...  36910558.0 2020-08-03  Morocco\n",
       "24      659.0      26196.0         401.0  ...  36910558.0 2020-08-04  Morocco\n",
       "25     1021.0      27217.0         417.0  ...  36910558.0 2020-08-05  Morocco\n",
       "26     1283.0      28500.0         435.0  ...  36910558.0 2020-08-06  Morocco\n",
       "27     1144.0      29644.0         449.0  ...  36910558.0 2020-08-07  Morocco\n",
       "28     1018.0      30662.0         461.0  ...  36910558.0 2020-08-08  Morocco\n",
       "29     1345.0      32007.0         480.0  ...  36910558.0 2020-08-09  Morocco\n",
       "30     1230.0      33237.0         498.0  ...  36910558.0 2020-08-10  Morocco\n",
       "31      826.0      34063.0         516.0  ...  36910558.0 2020-08-11  Morocco\n",
       "32     1132.0      35195.0         533.0  ...  36910558.0 2020-08-12  Morocco\n",
       "33     1499.0      36694.0         556.0  ...  36910558.0 2020-08-13  Morocco\n",
       "34     1241.0      37935.0         584.0  ...  36910558.0 2020-08-14  Morocco\n",
       "35     1306.0      39241.0         611.0  ...  36910558.0 2020-08-15  Morocco\n",
       "\n",
       "[36 rows x 7 columns]"
      ]
     },
     "execution_count": 45,
     "metadata": {
      "tags": []
     },
     "output_type": "execute_result"
    }
   ],
   "source": [
    "X_test_1"
   ]
  },
  {
   "cell_type": "code",
   "execution_count": 46,
   "metadata": {
    "colab": {},
    "colab_type": "code",
    "id": "3rrEQ5Gl9QsT"
   },
   "outputs": [],
   "source": [
    "X_test_1['timestamp'] = pd.to_datetime(X_test_1['date'], infer_datetime_format=True)\n",
    "X_test_1.set_index('timestamp', inplace=True)\n",
    "\n",
    "X_train_1['timestamp'] = pd.to_datetime(X_train_1['date'], infer_datetime_format=True)\n",
    "X_train_1.set_index('timestamp', inplace=True)"
   ]
  },
  {
   "cell_type": "code",
   "execution_count": 47,
   "metadata": {
    "colab": {},
    "colab_type": "code",
    "id": "RDMJvlLt9Qsi"
   },
   "outputs": [],
   "source": [
    "X_train_1=X_train_1[['new_cases','total_cases','total_deaths', 'new_deaths', 'population']]\n",
    "\n",
    "X_test_1=X_test_1[['new_cases','total_cases','total_deaths', 'new_deaths', 'population']]\n",
    "Y_test_1=X_test_1[['new_cases']]\n",
    "\n",
    "Y_train_1 =X_train_1[['new_cases']]"
   ]
  },
  {
   "cell_type": "code",
   "execution_count": 48,
   "metadata": {
    "colab": {},
    "colab_type": "code",
    "id": "0omRI18IzoLI"
   },
   "outputs": [],
   "source": [
    "days=X_test_1[nb_seq:].index\n",
    "days=days.sort_values()"
   ]
  },
  {
   "cell_type": "code",
   "execution_count": 49,
   "metadata": {
    "colab": {},
    "colab_type": "code",
    "id": "zxU8sOHz9Qs2"
   },
   "outputs": [],
   "source": [
    "#days=days[nb_seq:]"
   ]
  },
  {
   "cell_type": "code",
   "execution_count": 50,
   "metadata": {
    "colab": {
     "base_uri": "https://localhost:8080/",
     "height": 85
    },
    "colab_type": "code",
    "id": "jZPsUAAk9QtA",
    "outputId": "d5e6dfe5-404f-4de0-8068-536a13520c5c"
   },
   "outputs": [
    {
     "name": "stdout",
     "output_type": "stream",
     "text": [
      "(134, 5)\n",
      "(134, 1)\n",
      "(36, 5)\n",
      "(36, 1)\n"
     ]
    }
   ],
   "source": [
    "print(X_train_1.shape)\n",
    "print(Y_train_1.shape)\n",
    "print(X_test_1.shape)\n",
    "print(Y_test_1.shape)"
   ]
  },
  {
   "cell_type": "code",
   "execution_count": 51,
   "metadata": {
    "colab": {},
    "colab_type": "code",
    "id": "9aEHENxE9QtJ"
   },
   "outputs": [],
   "source": [
    "from sklearn.preprocessing import MinMaxScaler\n",
    "\n",
    "scaler = MinMaxScaler(feature_range=(0, 1))\n",
    "scaler2= MinMaxScaler(feature_range=(0, 1))"
   ]
  },
  {
   "cell_type": "code",
   "execution_count": 52,
   "metadata": {
    "colab": {},
    "colab_type": "code",
    "id": "rd2PWxHzdHk-"
   },
   "outputs": [],
   "source": [
    "# convert series to supervised learning\n",
    "def series_to_supervised(data, n_in=1, n_out=1, dropnan=True):\n",
    "    n_vars = 1 if type(data) is list else data.shape[1]\n",
    "    df = pd.DataFrame(data)\n",
    "    cols, names = list(), list()\n",
    "    # input sequence (t-n, ... t-1)\n",
    "    for i in range(n_in, 0, -1):\n",
    "        cols.append(df.shift(i))\n",
    "        names += [('var%d(t-%d)' % (j+1, i)) for j in range(n_vars)]\n",
    "    # forecast sequence (t, t+1, ... t+n)\n",
    "    for i in range(0, n_out):\n",
    "        cols.append(df.shift(-i))\n",
    "        if i == 0:\n",
    "            names += [('var%d(t)' % (j+1)) for j in range(n_vars)]\n",
    "        else:\n",
    "            names += [('var%d(t+%d)' % (j+1, i)) for j in range(n_vars)]\n",
    "    # put it all together\n",
    "    agg = pd.concat(cols, axis=1)\n",
    "    agg.columns = names\n",
    "    # drop rows with NaN values\n",
    "    if dropnan:\n",
    "        agg.dropna(inplace=True)\n",
    "    return agg"
   ]
  },
  {
   "cell_type": "code",
   "execution_count": 53,
   "metadata": {
    "colab": {
     "base_uri": "https://localhost:8080/",
     "height": 323
    },
    "colab_type": "code",
    "id": "W2TLWcHE9QtP",
    "outputId": "c4d980cf-7c77-4fe7-9f9e-27db7db32e46"
   },
   "outputs": [
    {
     "name": "stdout",
     "output_type": "stream",
     "text": [
      "     var1(t-1)  var2(t-1)  var3(t-1)  ...  var3(t+6)  var4(t+6)  var5(t+6)\n",
      "1     0.010886   0.044080      0.044  ...      0.044   0.000000        0.0\n",
      "2     0.001555   0.000000      0.000  ...      0.044   0.000000        0.0\n",
      "3     0.010886   0.044080      0.044  ...      0.044   0.000000        0.0\n",
      "4     0.010886   0.044080      0.044  ...      0.004   0.066667        0.0\n",
      "5     0.001555   0.000064      0.000  ...      0.004   0.000000        0.0\n",
      "..         ...        ...        ...  ...        ...        ...        ...\n",
      "123   0.160187   0.802528      0.912  ...      0.968   0.466667        0.0\n",
      "124   0.517885   0.823679      0.916  ...      0.968   0.000000        0.0\n",
      "125   0.496112   0.843940      0.920  ...      0.972   0.066667        0.0\n",
      "126   0.830482   0.877858      0.928  ...      0.980   0.133333        0.0\n",
      "127   0.611198   0.902820      0.940  ...      1.000   0.333333        0.0\n",
      "\n",
      "[127 rows x 40 columns]\n",
      "(127, 40)\n",
      "(29, 40)\n",
      "(127, 8)\n",
      "(29, 8)\n"
     ]
    }
   ],
   "source": [
    "\n",
    "# ensure all data is float\n",
    "X_train_1 = X_train_1.astype('float32')\n",
    "# ensure all data is float\n",
    "X_test_1 = X_test_1.astype('float32')\n",
    "# ensure all data is float\n",
    "Y_test_1 = Y_test_1.astype('float32')\n",
    "# ensure all data is float\n",
    "Y_train_1 = Y_train_1.astype('float32')\n",
    "\n",
    "# normalize features\n",
    "\n",
    "X_train_1= scaler.fit_transform(X_train_1)\n",
    "X_test_1= scaler.fit_transform(X_test_1)\n",
    "Y_train_1= scaler2.fit_transform(Y_train_1)\n",
    "Y_test_1= scaler2.fit_transform(Y_test_1)\n",
    "\n",
    "# reframe as supervised learning\n",
    "# on doit toujours vers une conversion vers n_out ensuite con choisit le nombre de colonnes dont nous avons besoins\n",
    "X_train_1 = series_to_supervised(X_train_1, nb_seq, n_out)\n",
    "X_test_1 = series_to_supervised(X_test_1, nb_seq, n_out)\n",
    "print(X_train_1)\n",
    "print(X_train_1.shape)\n",
    "print(X_test_1.shape)\n",
    "Y_train_1 = series_to_supervised(Y_train_1, nb_seq, n_out)\n",
    "Y_test_1 = series_to_supervised(Y_test_1, nb_seq, n_out)\n",
    "print(Y_train_1.shape)\n",
    "print(Y_test_1.shape)\n"
   ]
  },
  {
   "cell_type": "code",
   "execution_count": 54,
   "metadata": {
    "colab": {
     "base_uri": "https://localhost:8080/",
     "height": 561
    },
    "colab_type": "code",
    "id": "cYXt69kl_9da",
    "outputId": "a05e23f8-da2b-437c-b459-3da49497d939"
   },
   "outputs": [
    {
     "name": "stdout",
     "output_type": "stream",
     "text": [
      "    var1(t-1)  var2(t-1)  var3(t-1)  ...  var3(t+6)  var4(t+6)  var5(t+6)\n",
      "1    0.031390   0.008566   0.013661  ...   0.051913   0.111111        0.0\n",
      "2    0.039611   0.000000   0.000000  ...   0.065574   0.148148        0.0\n",
      "3    0.031390   0.008566   0.013661  ...   0.076503   0.111111        0.0\n",
      "4    0.022422   0.016625   0.027322  ...   0.084699   0.074074        0.0\n",
      "5    0.000000   0.023419   0.032787  ...   0.095628   0.111111        0.0\n",
      "6    0.002990   0.030381   0.038251  ...   0.109290   0.148148        0.0\n",
      "7    0.000747   0.037217   0.040984  ...   0.128415   0.222222        0.0\n",
      "8    0.105381   0.049960   0.051913  ...   0.147541   0.222222        0.0\n",
      "9    0.095665   0.062154   0.065574  ...   0.163934   0.185185        0.0\n",
      "10   0.044843   0.071480   0.076503  ...   0.185792   0.259259        0.0\n",
      "11   0.123318   0.085236   0.084699  ...   0.193989   0.074074        0.0\n",
      "12   0.014200   0.092831   0.095628  ...   0.224044   0.370370        0.0\n",
      "13   0.044096   0.102114   0.109290  ...   0.243169   0.222222        0.0\n",
      "14   0.105381   0.114857   0.128415  ...   0.275956   0.407407        0.0\n",
      "15   0.305680   0.138909   0.147541  ...   0.295082   0.222222        0.0\n",
      "16   0.485800   0.173130   0.163934  ...   0.333333   0.481481        0.0\n",
      "17   0.352765   0.199840   0.185792  ...   0.374317   0.518519        0.0\n",
      "18   0.334828   0.225537   0.193989  ...   0.426229   0.666667        0.0\n",
      "19   0.253363   0.246635   0.224044  ...   0.469945   0.555556        0.0\n",
      "20   0.497010   0.281489   0.243169  ...   0.519126   0.629630        0.0\n",
      "21   0.661435   0.325626   0.275956  ...   0.557377   0.481481        0.0\n",
      "22   0.674141   0.370480   0.295082  ...   0.590164   0.407407        0.0\n",
      "23   0.397608   0.399721   0.333333  ...   0.642076   0.666667        0.0\n",
      "24   0.269806   0.421748   0.374317  ...   0.691257   0.629630        0.0\n",
      "25   0.372197   0.449555   0.426229  ...   0.740437   0.629630        0.0\n",
      "26   0.642750   0.492637   0.469945  ...   0.786885   0.592593        0.0\n",
      "27   0.838565   0.546774   0.519126  ...   0.849727   0.814815        0.0\n",
      "28   0.734679   0.595046   0.557377  ...   0.926229   1.000000        0.0\n",
      "29   0.640508   0.638002   0.590164  ...   1.000000   0.962963        0.0\n",
      "\n",
      "[29 rows x 40 columns]\n"
     ]
    }
   ],
   "source": [
    "print(X_test_1)"
   ]
  },
  {
   "cell_type": "code",
   "execution_count": 55,
   "metadata": {
    "colab": {},
    "colab_type": "code",
    "id": "8Dcz-maG0iU6"
   },
   "outputs": [],
   "source": [
    "#col_y_need_train = df.filter(regex=(\"d.*\"))"
   ]
  },
  {
   "cell_type": "code",
   "execution_count": 56,
   "metadata": {
    "colab": {
     "base_uri": "https://localhost:8080/",
     "height": 456
    },
    "colab_type": "code",
    "id": "HbSgu1Up9QtY",
    "outputId": "df3fd086-0485-45a9-aa42-051444cc9151"
   },
   "outputs": [
    {
     "data": {
      "text/html": [
       "<div>\n",
       "<style scoped>\n",
       "    .dataframe tbody tr th:only-of-type {\n",
       "        vertical-align: middle;\n",
       "    }\n",
       "\n",
       "    .dataframe tbody tr th {\n",
       "        vertical-align: top;\n",
       "    }\n",
       "\n",
       "    .dataframe thead th {\n",
       "        text-align: right;\n",
       "    }\n",
       "</style>\n",
       "<table border=\"1\" class=\"dataframe\">\n",
       "  <thead>\n",
       "    <tr style=\"text-align: right;\">\n",
       "      <th></th>\n",
       "      <th>var1(t-1)</th>\n",
       "      <th>var2(t-1)</th>\n",
       "      <th>var3(t-1)</th>\n",
       "      <th>var4(t-1)</th>\n",
       "      <th>var5(t-1)</th>\n",
       "      <th>var1(t)</th>\n",
       "      <th>var2(t)</th>\n",
       "      <th>var3(t)</th>\n",
       "      <th>var4(t)</th>\n",
       "      <th>var5(t)</th>\n",
       "      <th>var1(t+1)</th>\n",
       "      <th>var2(t+1)</th>\n",
       "      <th>var3(t+1)</th>\n",
       "      <th>var4(t+1)</th>\n",
       "      <th>var5(t+1)</th>\n",
       "      <th>var1(t+2)</th>\n",
       "      <th>var2(t+2)</th>\n",
       "      <th>var3(t+2)</th>\n",
       "      <th>var4(t+2)</th>\n",
       "      <th>var5(t+2)</th>\n",
       "      <th>var1(t+3)</th>\n",
       "      <th>var2(t+3)</th>\n",
       "      <th>var3(t+3)</th>\n",
       "      <th>var4(t+3)</th>\n",
       "      <th>var5(t+3)</th>\n",
       "      <th>var1(t+4)</th>\n",
       "      <th>var2(t+4)</th>\n",
       "      <th>var3(t+4)</th>\n",
       "      <th>var4(t+4)</th>\n",
       "      <th>var5(t+4)</th>\n",
       "      <th>var1(t+5)</th>\n",
       "      <th>var2(t+5)</th>\n",
       "      <th>var3(t+5)</th>\n",
       "      <th>var4(t+5)</th>\n",
       "      <th>var5(t+5)</th>\n",
       "      <th>var1(t+6)</th>\n",
       "      <th>var2(t+6)</th>\n",
       "      <th>var3(t+6)</th>\n",
       "      <th>var4(t+6)</th>\n",
       "      <th>var5(t+6)</th>\n",
       "    </tr>\n",
       "  </thead>\n",
       "  <tbody>\n",
       "    <tr>\n",
       "      <th>1</th>\n",
       "      <td>0.010886</td>\n",
       "      <td>0.044080</td>\n",
       "      <td>0.044</td>\n",
       "      <td>0.000000</td>\n",
       "      <td>0.0</td>\n",
       "      <td>0.001555</td>\n",
       "      <td>0.000000</td>\n",
       "      <td>0.000</td>\n",
       "      <td>0.000000</td>\n",
       "      <td>0.0</td>\n",
       "      <td>0.010886</td>\n",
       "      <td>0.044080</td>\n",
       "      <td>0.044</td>\n",
       "      <td>0.000000</td>\n",
       "      <td>0.0</td>\n",
       "      <td>0.010886</td>\n",
       "      <td>0.044080</td>\n",
       "      <td>0.044</td>\n",
       "      <td>0.000000</td>\n",
       "      <td>0.0</td>\n",
       "      <td>0.001555</td>\n",
       "      <td>0.000064</td>\n",
       "      <td>0.000</td>\n",
       "      <td>0.000000</td>\n",
       "      <td>0.0</td>\n",
       "      <td>0.010886</td>\n",
       "      <td>0.044080</td>\n",
       "      <td>0.044</td>\n",
       "      <td>0.000000</td>\n",
       "      <td>0.0</td>\n",
       "      <td>0.010886</td>\n",
       "      <td>0.044080</td>\n",
       "      <td>0.044</td>\n",
       "      <td>0.000000</td>\n",
       "      <td>0.0</td>\n",
       "      <td>0.010886</td>\n",
       "      <td>0.044080</td>\n",
       "      <td>0.044</td>\n",
       "      <td>0.000000</td>\n",
       "      <td>0.0</td>\n",
       "    </tr>\n",
       "    <tr>\n",
       "      <th>2</th>\n",
       "      <td>0.001555</td>\n",
       "      <td>0.000000</td>\n",
       "      <td>0.000</td>\n",
       "      <td>0.000000</td>\n",
       "      <td>0.0</td>\n",
       "      <td>0.010886</td>\n",
       "      <td>0.044080</td>\n",
       "      <td>0.044</td>\n",
       "      <td>0.000000</td>\n",
       "      <td>0.0</td>\n",
       "      <td>0.010886</td>\n",
       "      <td>0.044080</td>\n",
       "      <td>0.044</td>\n",
       "      <td>0.000000</td>\n",
       "      <td>0.0</td>\n",
       "      <td>0.001555</td>\n",
       "      <td>0.000064</td>\n",
       "      <td>0.000</td>\n",
       "      <td>0.000000</td>\n",
       "      <td>0.0</td>\n",
       "      <td>0.010886</td>\n",
       "      <td>0.044080</td>\n",
       "      <td>0.044</td>\n",
       "      <td>0.000000</td>\n",
       "      <td>0.0</td>\n",
       "      <td>0.010886</td>\n",
       "      <td>0.044080</td>\n",
       "      <td>0.044</td>\n",
       "      <td>0.000000</td>\n",
       "      <td>0.0</td>\n",
       "      <td>0.010886</td>\n",
       "      <td>0.044080</td>\n",
       "      <td>0.044</td>\n",
       "      <td>0.000000</td>\n",
       "      <td>0.0</td>\n",
       "      <td>0.010886</td>\n",
       "      <td>0.044080</td>\n",
       "      <td>0.044</td>\n",
       "      <td>0.000000</td>\n",
       "      <td>0.0</td>\n",
       "    </tr>\n",
       "    <tr>\n",
       "      <th>3</th>\n",
       "      <td>0.010886</td>\n",
       "      <td>0.044080</td>\n",
       "      <td>0.044</td>\n",
       "      <td>0.000000</td>\n",
       "      <td>0.0</td>\n",
       "      <td>0.010886</td>\n",
       "      <td>0.044080</td>\n",
       "      <td>0.044</td>\n",
       "      <td>0.000000</td>\n",
       "      <td>0.0</td>\n",
       "      <td>0.001555</td>\n",
       "      <td>0.000064</td>\n",
       "      <td>0.000</td>\n",
       "      <td>0.000000</td>\n",
       "      <td>0.0</td>\n",
       "      <td>0.010886</td>\n",
       "      <td>0.044080</td>\n",
       "      <td>0.044</td>\n",
       "      <td>0.000000</td>\n",
       "      <td>0.0</td>\n",
       "      <td>0.010886</td>\n",
       "      <td>0.044080</td>\n",
       "      <td>0.044</td>\n",
       "      <td>0.000000</td>\n",
       "      <td>0.0</td>\n",
       "      <td>0.010886</td>\n",
       "      <td>0.044080</td>\n",
       "      <td>0.044</td>\n",
       "      <td>0.000000</td>\n",
       "      <td>0.0</td>\n",
       "      <td>0.010886</td>\n",
       "      <td>0.044080</td>\n",
       "      <td>0.044</td>\n",
       "      <td>0.000000</td>\n",
       "      <td>0.0</td>\n",
       "      <td>0.010886</td>\n",
       "      <td>0.044080</td>\n",
       "      <td>0.044</td>\n",
       "      <td>0.000000</td>\n",
       "      <td>0.0</td>\n",
       "    </tr>\n",
       "    <tr>\n",
       "      <th>4</th>\n",
       "      <td>0.010886</td>\n",
       "      <td>0.044080</td>\n",
       "      <td>0.044</td>\n",
       "      <td>0.000000</td>\n",
       "      <td>0.0</td>\n",
       "      <td>0.001555</td>\n",
       "      <td>0.000064</td>\n",
       "      <td>0.000</td>\n",
       "      <td>0.000000</td>\n",
       "      <td>0.0</td>\n",
       "      <td>0.010886</td>\n",
       "      <td>0.044080</td>\n",
       "      <td>0.044</td>\n",
       "      <td>0.000000</td>\n",
       "      <td>0.0</td>\n",
       "      <td>0.010886</td>\n",
       "      <td>0.044080</td>\n",
       "      <td>0.044</td>\n",
       "      <td>0.000000</td>\n",
       "      <td>0.0</td>\n",
       "      <td>0.010886</td>\n",
       "      <td>0.044080</td>\n",
       "      <td>0.044</td>\n",
       "      <td>0.000000</td>\n",
       "      <td>0.0</td>\n",
       "      <td>0.010886</td>\n",
       "      <td>0.044080</td>\n",
       "      <td>0.044</td>\n",
       "      <td>0.000000</td>\n",
       "      <td>0.0</td>\n",
       "      <td>0.010886</td>\n",
       "      <td>0.044080</td>\n",
       "      <td>0.044</td>\n",
       "      <td>0.000000</td>\n",
       "      <td>0.0</td>\n",
       "      <td>0.004666</td>\n",
       "      <td>0.000254</td>\n",
       "      <td>0.004</td>\n",
       "      <td>0.066667</td>\n",
       "      <td>0.0</td>\n",
       "    </tr>\n",
       "    <tr>\n",
       "      <th>5</th>\n",
       "      <td>0.001555</td>\n",
       "      <td>0.000064</td>\n",
       "      <td>0.000</td>\n",
       "      <td>0.000000</td>\n",
       "      <td>0.0</td>\n",
       "      <td>0.010886</td>\n",
       "      <td>0.044080</td>\n",
       "      <td>0.044</td>\n",
       "      <td>0.000000</td>\n",
       "      <td>0.0</td>\n",
       "      <td>0.010886</td>\n",
       "      <td>0.044080</td>\n",
       "      <td>0.044</td>\n",
       "      <td>0.000000</td>\n",
       "      <td>0.0</td>\n",
       "      <td>0.010886</td>\n",
       "      <td>0.044080</td>\n",
       "      <td>0.044</td>\n",
       "      <td>0.000000</td>\n",
       "      <td>0.0</td>\n",
       "      <td>0.010886</td>\n",
       "      <td>0.044080</td>\n",
       "      <td>0.044</td>\n",
       "      <td>0.000000</td>\n",
       "      <td>0.0</td>\n",
       "      <td>0.010886</td>\n",
       "      <td>0.044080</td>\n",
       "      <td>0.044</td>\n",
       "      <td>0.000000</td>\n",
       "      <td>0.0</td>\n",
       "      <td>0.004666</td>\n",
       "      <td>0.000254</td>\n",
       "      <td>0.004</td>\n",
       "      <td>0.066667</td>\n",
       "      <td>0.0</td>\n",
       "      <td>0.001555</td>\n",
       "      <td>0.000318</td>\n",
       "      <td>0.004</td>\n",
       "      <td>0.000000</td>\n",
       "      <td>0.0</td>\n",
       "    </tr>\n",
       "    <tr>\n",
       "      <th>...</th>\n",
       "      <td>...</td>\n",
       "      <td>...</td>\n",
       "      <td>...</td>\n",
       "      <td>...</td>\n",
       "      <td>...</td>\n",
       "      <td>...</td>\n",
       "      <td>...</td>\n",
       "      <td>...</td>\n",
       "      <td>...</td>\n",
       "      <td>...</td>\n",
       "      <td>...</td>\n",
       "      <td>...</td>\n",
       "      <td>...</td>\n",
       "      <td>...</td>\n",
       "      <td>...</td>\n",
       "      <td>...</td>\n",
       "      <td>...</td>\n",
       "      <td>...</td>\n",
       "      <td>...</td>\n",
       "      <td>...</td>\n",
       "      <td>...</td>\n",
       "      <td>...</td>\n",
       "      <td>...</td>\n",
       "      <td>...</td>\n",
       "      <td>...</td>\n",
       "      <td>...</td>\n",
       "      <td>...</td>\n",
       "      <td>...</td>\n",
       "      <td>...</td>\n",
       "      <td>...</td>\n",
       "      <td>...</td>\n",
       "      <td>...</td>\n",
       "      <td>...</td>\n",
       "      <td>...</td>\n",
       "      <td>...</td>\n",
       "      <td>...</td>\n",
       "      <td>...</td>\n",
       "      <td>...</td>\n",
       "      <td>...</td>\n",
       "      <td>...</td>\n",
       "    </tr>\n",
       "    <tr>\n",
       "      <th>123</th>\n",
       "      <td>0.160187</td>\n",
       "      <td>0.802528</td>\n",
       "      <td>0.912</td>\n",
       "      <td>0.000000</td>\n",
       "      <td>0.0</td>\n",
       "      <td>0.517885</td>\n",
       "      <td>0.823679</td>\n",
       "      <td>0.916</td>\n",
       "      <td>0.066667</td>\n",
       "      <td>0.0</td>\n",
       "      <td>0.496112</td>\n",
       "      <td>0.843940</td>\n",
       "      <td>0.920</td>\n",
       "      <td>0.066667</td>\n",
       "      <td>0.0</td>\n",
       "      <td>0.830482</td>\n",
       "      <td>0.877858</td>\n",
       "      <td>0.928</td>\n",
       "      <td>0.133333</td>\n",
       "      <td>0.0</td>\n",
       "      <td>0.611198</td>\n",
       "      <td>0.902820</td>\n",
       "      <td>0.940</td>\n",
       "      <td>0.200000</td>\n",
       "      <td>0.0</td>\n",
       "      <td>0.177294</td>\n",
       "      <td>0.910061</td>\n",
       "      <td>0.940</td>\n",
       "      <td>0.000000</td>\n",
       "      <td>0.0</td>\n",
       "      <td>0.000000</td>\n",
       "      <td>0.910061</td>\n",
       "      <td>0.940</td>\n",
       "      <td>0.000000</td>\n",
       "      <td>0.0</td>\n",
       "      <td>0.687403</td>\n",
       "      <td>0.938135</td>\n",
       "      <td>0.968</td>\n",
       "      <td>0.466667</td>\n",
       "      <td>0.0</td>\n",
       "    </tr>\n",
       "    <tr>\n",
       "      <th>124</th>\n",
       "      <td>0.517885</td>\n",
       "      <td>0.823679</td>\n",
       "      <td>0.916</td>\n",
       "      <td>0.066667</td>\n",
       "      <td>0.0</td>\n",
       "      <td>0.496112</td>\n",
       "      <td>0.843940</td>\n",
       "      <td>0.920</td>\n",
       "      <td>0.066667</td>\n",
       "      <td>0.0</td>\n",
       "      <td>0.830482</td>\n",
       "      <td>0.877858</td>\n",
       "      <td>0.928</td>\n",
       "      <td>0.133333</td>\n",
       "      <td>0.0</td>\n",
       "      <td>0.611198</td>\n",
       "      <td>0.902820</td>\n",
       "      <td>0.940</td>\n",
       "      <td>0.200000</td>\n",
       "      <td>0.0</td>\n",
       "      <td>0.177294</td>\n",
       "      <td>0.910061</td>\n",
       "      <td>0.940</td>\n",
       "      <td>0.000000</td>\n",
       "      <td>0.0</td>\n",
       "      <td>0.000000</td>\n",
       "      <td>0.910061</td>\n",
       "      <td>0.940</td>\n",
       "      <td>0.000000</td>\n",
       "      <td>0.0</td>\n",
       "      <td>0.687403</td>\n",
       "      <td>0.938135</td>\n",
       "      <td>0.968</td>\n",
       "      <td>0.466667</td>\n",
       "      <td>0.0</td>\n",
       "      <td>0.276827</td>\n",
       "      <td>0.949441</td>\n",
       "      <td>0.968</td>\n",
       "      <td>0.000000</td>\n",
       "      <td>0.0</td>\n",
       "    </tr>\n",
       "    <tr>\n",
       "      <th>125</th>\n",
       "      <td>0.496112</td>\n",
       "      <td>0.843940</td>\n",
       "      <td>0.920</td>\n",
       "      <td>0.066667</td>\n",
       "      <td>0.0</td>\n",
       "      <td>0.830482</td>\n",
       "      <td>0.877858</td>\n",
       "      <td>0.928</td>\n",
       "      <td>0.133333</td>\n",
       "      <td>0.0</td>\n",
       "      <td>0.611198</td>\n",
       "      <td>0.902820</td>\n",
       "      <td>0.940</td>\n",
       "      <td>0.200000</td>\n",
       "      <td>0.0</td>\n",
       "      <td>0.177294</td>\n",
       "      <td>0.910061</td>\n",
       "      <td>0.940</td>\n",
       "      <td>0.000000</td>\n",
       "      <td>0.0</td>\n",
       "      <td>0.000000</td>\n",
       "      <td>0.910061</td>\n",
       "      <td>0.940</td>\n",
       "      <td>0.000000</td>\n",
       "      <td>0.0</td>\n",
       "      <td>0.687403</td>\n",
       "      <td>0.938135</td>\n",
       "      <td>0.968</td>\n",
       "      <td>0.466667</td>\n",
       "      <td>0.0</td>\n",
       "      <td>0.276827</td>\n",
       "      <td>0.949441</td>\n",
       "      <td>0.968</td>\n",
       "      <td>0.000000</td>\n",
       "      <td>0.0</td>\n",
       "      <td>0.589425</td>\n",
       "      <td>0.973514</td>\n",
       "      <td>0.972</td>\n",
       "      <td>0.066667</td>\n",
       "      <td>0.0</td>\n",
       "    </tr>\n",
       "    <tr>\n",
       "      <th>126</th>\n",
       "      <td>0.830482</td>\n",
       "      <td>0.877858</td>\n",
       "      <td>0.928</td>\n",
       "      <td>0.133333</td>\n",
       "      <td>0.0</td>\n",
       "      <td>0.611198</td>\n",
       "      <td>0.902820</td>\n",
       "      <td>0.940</td>\n",
       "      <td>0.200000</td>\n",
       "      <td>0.0</td>\n",
       "      <td>0.177294</td>\n",
       "      <td>0.910061</td>\n",
       "      <td>0.940</td>\n",
       "      <td>0.000000</td>\n",
       "      <td>0.0</td>\n",
       "      <td>0.000000</td>\n",
       "      <td>0.910061</td>\n",
       "      <td>0.940</td>\n",
       "      <td>0.000000</td>\n",
       "      <td>0.0</td>\n",
       "      <td>0.687403</td>\n",
       "      <td>0.938135</td>\n",
       "      <td>0.968</td>\n",
       "      <td>0.466667</td>\n",
       "      <td>0.0</td>\n",
       "      <td>0.276827</td>\n",
       "      <td>0.949441</td>\n",
       "      <td>0.968</td>\n",
       "      <td>0.000000</td>\n",
       "      <td>0.0</td>\n",
       "      <td>0.589425</td>\n",
       "      <td>0.973514</td>\n",
       "      <td>0.972</td>\n",
       "      <td>0.066667</td>\n",
       "      <td>0.0</td>\n",
       "      <td>0.332815</td>\n",
       "      <td>0.987106</td>\n",
       "      <td>0.980</td>\n",
       "      <td>0.133333</td>\n",
       "      <td>0.0</td>\n",
       "    </tr>\n",
       "    <tr>\n",
       "      <th>127</th>\n",
       "      <td>0.611198</td>\n",
       "      <td>0.902820</td>\n",
       "      <td>0.940</td>\n",
       "      <td>0.200000</td>\n",
       "      <td>0.0</td>\n",
       "      <td>0.177294</td>\n",
       "      <td>0.910061</td>\n",
       "      <td>0.940</td>\n",
       "      <td>0.000000</td>\n",
       "      <td>0.0</td>\n",
       "      <td>0.000000</td>\n",
       "      <td>0.910061</td>\n",
       "      <td>0.940</td>\n",
       "      <td>0.000000</td>\n",
       "      <td>0.0</td>\n",
       "      <td>0.687403</td>\n",
       "      <td>0.938135</td>\n",
       "      <td>0.968</td>\n",
       "      <td>0.466667</td>\n",
       "      <td>0.0</td>\n",
       "      <td>0.276827</td>\n",
       "      <td>0.949441</td>\n",
       "      <td>0.968</td>\n",
       "      <td>0.000000</td>\n",
       "      <td>0.0</td>\n",
       "      <td>0.589425</td>\n",
       "      <td>0.973514</td>\n",
       "      <td>0.972</td>\n",
       "      <td>0.066667</td>\n",
       "      <td>0.0</td>\n",
       "      <td>0.332815</td>\n",
       "      <td>0.987106</td>\n",
       "      <td>0.980</td>\n",
       "      <td>0.133333</td>\n",
       "      <td>0.0</td>\n",
       "      <td>0.315708</td>\n",
       "      <td>1.000000</td>\n",
       "      <td>1.000</td>\n",
       "      <td>0.333333</td>\n",
       "      <td>0.0</td>\n",
       "    </tr>\n",
       "  </tbody>\n",
       "</table>\n",
       "<p>127 rows × 40 columns</p>\n",
       "</div>"
      ],
      "text/plain": [
       "     var1(t-1)  var2(t-1)  var3(t-1)  ...  var3(t+6)  var4(t+6)  var5(t+6)\n",
       "1     0.010886   0.044080      0.044  ...      0.044   0.000000        0.0\n",
       "2     0.001555   0.000000      0.000  ...      0.044   0.000000        0.0\n",
       "3     0.010886   0.044080      0.044  ...      0.044   0.000000        0.0\n",
       "4     0.010886   0.044080      0.044  ...      0.004   0.066667        0.0\n",
       "5     0.001555   0.000064      0.000  ...      0.004   0.000000        0.0\n",
       "..         ...        ...        ...  ...        ...        ...        ...\n",
       "123   0.160187   0.802528      0.912  ...      0.968   0.466667        0.0\n",
       "124   0.517885   0.823679      0.916  ...      0.968   0.000000        0.0\n",
       "125   0.496112   0.843940      0.920  ...      0.972   0.066667        0.0\n",
       "126   0.830482   0.877858      0.928  ...      0.980   0.133333        0.0\n",
       "127   0.611198   0.902820      0.940  ...      1.000   0.333333        0.0\n",
       "\n",
       "[127 rows x 40 columns]"
      ]
     },
     "execution_count": 56,
     "metadata": {
      "tags": []
     },
     "output_type": "execute_result"
    }
   ],
   "source": [
    "#col_y_need_train=X_train.columns[[35,40,45,50,55,60,65]]\n",
    "#col_y_need_test=X_test.columns[[35,40,45,50,55,60,65]]\n",
    "X_train_1"
   ]
  },
  {
   "cell_type": "code",
   "execution_count": 57,
   "metadata": {
    "colab": {
     "base_uri": "https://localhost:8080/",
     "height": 204
    },
    "colab_type": "code",
    "id": "q05jJm5-9Qtq",
    "outputId": "1e84264c-74ea-4d32-89f9-e1531f241655"
   },
   "outputs": [
    {
     "data": {
      "text/html": [
       "<div>\n",
       "<style scoped>\n",
       "    .dataframe tbody tr th:only-of-type {\n",
       "        vertical-align: middle;\n",
       "    }\n",
       "\n",
       "    .dataframe tbody tr th {\n",
       "        vertical-align: top;\n",
       "    }\n",
       "\n",
       "    .dataframe thead th {\n",
       "        text-align: right;\n",
       "    }\n",
       "</style>\n",
       "<table border=\"1\" class=\"dataframe\">\n",
       "  <thead>\n",
       "    <tr style=\"text-align: right;\">\n",
       "      <th></th>\n",
       "      <th>var1(t-1)</th>\n",
       "      <th>var1(t)</th>\n",
       "      <th>var1(t+1)</th>\n",
       "      <th>var1(t+2)</th>\n",
       "      <th>var1(t+3)</th>\n",
       "      <th>var1(t+4)</th>\n",
       "      <th>var1(t+5)</th>\n",
       "      <th>var1(t+6)</th>\n",
       "    </tr>\n",
       "  </thead>\n",
       "  <tbody>\n",
       "    <tr>\n",
       "      <th>1</th>\n",
       "      <td>0.010886</td>\n",
       "      <td>0.001555</td>\n",
       "      <td>0.010886</td>\n",
       "      <td>0.010886</td>\n",
       "      <td>0.001555</td>\n",
       "      <td>0.010886</td>\n",
       "      <td>0.010886</td>\n",
       "      <td>0.010886</td>\n",
       "    </tr>\n",
       "    <tr>\n",
       "      <th>2</th>\n",
       "      <td>0.001555</td>\n",
       "      <td>0.010886</td>\n",
       "      <td>0.010886</td>\n",
       "      <td>0.001555</td>\n",
       "      <td>0.010886</td>\n",
       "      <td>0.010886</td>\n",
       "      <td>0.010886</td>\n",
       "      <td>0.010886</td>\n",
       "    </tr>\n",
       "    <tr>\n",
       "      <th>3</th>\n",
       "      <td>0.010886</td>\n",
       "      <td>0.010886</td>\n",
       "      <td>0.001555</td>\n",
       "      <td>0.010886</td>\n",
       "      <td>0.010886</td>\n",
       "      <td>0.010886</td>\n",
       "      <td>0.010886</td>\n",
       "      <td>0.010886</td>\n",
       "    </tr>\n",
       "    <tr>\n",
       "      <th>4</th>\n",
       "      <td>0.010886</td>\n",
       "      <td>0.001555</td>\n",
       "      <td>0.010886</td>\n",
       "      <td>0.010886</td>\n",
       "      <td>0.010886</td>\n",
       "      <td>0.010886</td>\n",
       "      <td>0.010886</td>\n",
       "      <td>0.004666</td>\n",
       "    </tr>\n",
       "    <tr>\n",
       "      <th>5</th>\n",
       "      <td>0.001555</td>\n",
       "      <td>0.010886</td>\n",
       "      <td>0.010886</td>\n",
       "      <td>0.010886</td>\n",
       "      <td>0.010886</td>\n",
       "      <td>0.010886</td>\n",
       "      <td>0.004666</td>\n",
       "      <td>0.001555</td>\n",
       "    </tr>\n",
       "  </tbody>\n",
       "</table>\n",
       "</div>"
      ],
      "text/plain": [
       "   var1(t-1)   var1(t)  var1(t+1)  ...  var1(t+4)  var1(t+5)  var1(t+6)\n",
       "1   0.010886  0.001555   0.010886  ...   0.010886   0.010886   0.010886\n",
       "2   0.001555  0.010886   0.010886  ...   0.010886   0.010886   0.010886\n",
       "3   0.010886  0.010886   0.001555  ...   0.010886   0.010886   0.010886\n",
       "4   0.010886  0.001555   0.010886  ...   0.010886   0.010886   0.004666\n",
       "5   0.001555  0.010886   0.010886  ...   0.010886   0.004666   0.001555\n",
       "\n",
       "[5 rows x 8 columns]"
      ]
     },
     "execution_count": 57,
     "metadata": {
      "tags": []
     },
     "output_type": "execute_result"
    }
   ],
   "source": [
    "Y_train_1.head(5)"
   ]
  },
  {
   "cell_type": "code",
   "execution_count": 58,
   "metadata": {
    "colab": {},
    "colab_type": "code",
    "id": "MHjdzxPrIcbM"
   },
   "outputs": [],
   "source": [
    "#raise SystemExit(\"Stop right there!\")"
   ]
  },
  {
   "cell_type": "code",
   "execution_count": 59,
   "metadata": {
    "colab": {},
    "colab_type": "code",
    "id": "VHWuvjKEsO81"
   },
   "outputs": [],
   "source": [
    "# regex : var[1-i]\\(t\\-\\d{1,2}\\)$\n",
    "#i = 1 if nb_seq== 7 else 2 if nb_seq== 6 else 3 if nb_seq== 5 else 4 if nb_seq== 4 else 5 if nb_seq== 3 else 6 if nb_seq== 2 else 7 if nb_seq== 1 else 0\n",
    "col_take= 'var[1-j]\\(t\\-[1-i]\\)$'\n",
    "col_take = col_take.replace(\"i\", str(nb_seq))\n",
    "col_take = col_take.replace(\"j\", str(nb_col))\n",
    "regex_find = col_take"
   ]
  },
  {
   "cell_type": "code",
   "execution_count": 60,
   "metadata": {
    "colab": {},
    "colab_type": "code",
    "id": "uoBVVOfjcAWl"
   },
   "outputs": [],
   "source": [
    "col_x_need_train =X_train_1.filter(regex=regex_find,axis=1).head(1)"
   ]
  },
  {
   "cell_type": "code",
   "execution_count": 61,
   "metadata": {
    "colab": {
     "base_uri": "https://localhost:8080/",
     "height": 80
    },
    "colab_type": "code",
    "id": "5GN1s0yvickp",
    "outputId": "6c900234-22f1-4012-d381-8785960f79a3"
   },
   "outputs": [
    {
     "data": {
      "text/html": [
       "<div>\n",
       "<style scoped>\n",
       "    .dataframe tbody tr th:only-of-type {\n",
       "        vertical-align: middle;\n",
       "    }\n",
       "\n",
       "    .dataframe tbody tr th {\n",
       "        vertical-align: top;\n",
       "    }\n",
       "\n",
       "    .dataframe thead th {\n",
       "        text-align: right;\n",
       "    }\n",
       "</style>\n",
       "<table border=\"1\" class=\"dataframe\">\n",
       "  <thead>\n",
       "    <tr style=\"text-align: right;\">\n",
       "      <th></th>\n",
       "      <th>var1(t-1)</th>\n",
       "      <th>var2(t-1)</th>\n",
       "      <th>var3(t-1)</th>\n",
       "      <th>var4(t-1)</th>\n",
       "      <th>var5(t-1)</th>\n",
       "    </tr>\n",
       "  </thead>\n",
       "  <tbody>\n",
       "    <tr>\n",
       "      <th>1</th>\n",
       "      <td>0.010886</td>\n",
       "      <td>0.04408</td>\n",
       "      <td>0.044</td>\n",
       "      <td>0.0</td>\n",
       "      <td>0.0</td>\n",
       "    </tr>\n",
       "  </tbody>\n",
       "</table>\n",
       "</div>"
      ],
      "text/plain": [
       "   var1(t-1)  var2(t-1)  var3(t-1)  var4(t-1)  var5(t-1)\n",
       "1   0.010886    0.04408      0.044        0.0        0.0"
      ]
     },
     "execution_count": 61,
     "metadata": {
      "tags": []
     },
     "output_type": "execute_result"
    }
   ],
   "source": [
    "col_x_need_train"
   ]
  },
  {
   "cell_type": "code",
   "execution_count": 62,
   "metadata": {
    "colab": {
     "base_uri": "https://localhost:8080/",
     "height": 80
    },
    "colab_type": "code",
    "id": "pppynxRkncZs",
    "outputId": "326926d3-1974-4bf3-fcca-290a9e156b92"
   },
   "outputs": [
    {
     "data": {
      "text/html": [
       "<div>\n",
       "<style scoped>\n",
       "    .dataframe tbody tr th:only-of-type {\n",
       "        vertical-align: middle;\n",
       "    }\n",
       "\n",
       "    .dataframe tbody tr th {\n",
       "        vertical-align: top;\n",
       "    }\n",
       "\n",
       "    .dataframe thead th {\n",
       "        text-align: right;\n",
       "    }\n",
       "</style>\n",
       "<table border=\"1\" class=\"dataframe\">\n",
       "  <thead>\n",
       "    <tr style=\"text-align: right;\">\n",
       "      <th></th>\n",
       "      <th>var1(t)</th>\n",
       "      <th>var1(t+1)</th>\n",
       "      <th>var1(t+2)</th>\n",
       "      <th>var1(t+3)</th>\n",
       "      <th>var1(t+4)</th>\n",
       "      <th>var1(t+5)</th>\n",
       "      <th>var1(t+6)</th>\n",
       "    </tr>\n",
       "  </thead>\n",
       "  <tbody>\n",
       "    <tr>\n",
       "      <th>1</th>\n",
       "      <td>0.001555</td>\n",
       "      <td>0.010886</td>\n",
       "      <td>0.010886</td>\n",
       "      <td>0.001555</td>\n",
       "      <td>0.010886</td>\n",
       "      <td>0.010886</td>\n",
       "      <td>0.010886</td>\n",
       "    </tr>\n",
       "  </tbody>\n",
       "</table>\n",
       "</div>"
      ],
      "text/plain": [
       "    var1(t)  var1(t+1)  var1(t+2)  var1(t+3)  var1(t+4)  var1(t+5)  var1(t+6)\n",
       "1  0.001555   0.010886   0.010886   0.001555   0.010886   0.010886   0.010886"
      ]
     },
     "execution_count": 62,
     "metadata": {
      "tags": []
     },
     "output_type": "execute_result"
    }
   ],
   "source": [
    "#col_take2= 'var[1-i](\\(t\\+\\d{1}\\)|(\\(t\\)))$'\n",
    "col_take2= 'var1(\\(t\\+\\d{1}\\)|(\\(t\\)))$'\n",
    "#col_take2 = col_take2.replace(\"i\", str(nb_seq))\n",
    "regex_find2 = col_take2\n",
    "Y_train_1.filter(regex=regex_find2,axis=1).head(1)"
   ]
  },
  {
   "cell_type": "code",
   "execution_count": 63,
   "metadata": {
    "colab": {},
    "colab_type": "code",
    "id": "ANB0h6aIi_US"
   },
   "outputs": [],
   "source": [
    "#raise SystemExit(\"Stop right there!\")"
   ]
  },
  {
   "cell_type": "code",
   "execution_count": 64,
   "metadata": {
    "colab": {},
    "colab_type": "code",
    "id": "1-OQ97TjJhvq"
   },
   "outputs": [],
   "source": [
    "#col_x_need_train=X_train.columns[[0,1,2,3,4,5,6,7,8,9,10,11,12,13,14,15,16,17,18,19,20,21,22,23,24,25,26,27,28,29,30,31,32,33,34]]\n",
    "#col_x_need_test=X_test.columns[[0,1,2,3,4,5,6,7,8,9,10,11,12,13,14,15,16,17,18,19,20,21,22,23,24,25,26,27,28,29,30,31,32,33,34]]"
   ]
  },
  {
   "cell_type": "code",
   "execution_count": 65,
   "metadata": {
    "colab": {},
    "colab_type": "code",
    "id": "DrNN8HnZLQHp"
   },
   "outputs": [],
   "source": [
    "#col_x_need_train"
   ]
  },
  {
   "cell_type": "code",
   "execution_count": 66,
   "metadata": {
    "colab": {
     "base_uri": "https://localhost:8080/",
     "height": 51
    },
    "colab_type": "code",
    "id": "SL10kb5XJRk3",
    "outputId": "61adc2c0-b9c0-44e7-b3dc-6247e5aa7fd0"
   },
   "outputs": [
    {
     "name": "stdout",
     "output_type": "stream",
     "text": [
      "(127, 7)\n",
      "(29, 7)\n"
     ]
    }
   ],
   "source": [
    "# drop columns we don't want to predict\n",
    "Y_train_1 = Y_train_1.filter(regex='var[1-7](\\(t\\+\\d{1}\\)|(\\(t\\)))$',axis=1)\n",
    "Y_test_1=Y_test_1.filter(regex='var[1-7](\\(t\\+\\d{1}\\)|(\\(t\\)))$',axis=1)\n",
    "print(Y_train_1.shape)\n",
    "print(Y_test_1.shape)\n"
   ]
  },
  {
   "cell_type": "code",
   "execution_count": 67,
   "metadata": {
    "colab": {
     "base_uri": "https://localhost:8080/",
     "height": 204
    },
    "colab_type": "code",
    "id": "SZUaUtU7oEfA",
    "outputId": "71e3da44-d1ca-446e-f5fc-355fe0becc77"
   },
   "outputs": [
    {
     "data": {
      "text/html": [
       "<div>\n",
       "<style scoped>\n",
       "    .dataframe tbody tr th:only-of-type {\n",
       "        vertical-align: middle;\n",
       "    }\n",
       "\n",
       "    .dataframe tbody tr th {\n",
       "        vertical-align: top;\n",
       "    }\n",
       "\n",
       "    .dataframe thead th {\n",
       "        text-align: right;\n",
       "    }\n",
       "</style>\n",
       "<table border=\"1\" class=\"dataframe\">\n",
       "  <thead>\n",
       "    <tr style=\"text-align: right;\">\n",
       "      <th></th>\n",
       "      <th>var1(t)</th>\n",
       "      <th>var1(t+1)</th>\n",
       "      <th>var1(t+2)</th>\n",
       "      <th>var1(t+3)</th>\n",
       "      <th>var1(t+4)</th>\n",
       "      <th>var1(t+5)</th>\n",
       "      <th>var1(t+6)</th>\n",
       "    </tr>\n",
       "  </thead>\n",
       "  <tbody>\n",
       "    <tr>\n",
       "      <th>1</th>\n",
       "      <td>0.001555</td>\n",
       "      <td>0.010886</td>\n",
       "      <td>0.010886</td>\n",
       "      <td>0.001555</td>\n",
       "      <td>0.010886</td>\n",
       "      <td>0.010886</td>\n",
       "      <td>0.010886</td>\n",
       "    </tr>\n",
       "    <tr>\n",
       "      <th>2</th>\n",
       "      <td>0.010886</td>\n",
       "      <td>0.010886</td>\n",
       "      <td>0.001555</td>\n",
       "      <td>0.010886</td>\n",
       "      <td>0.010886</td>\n",
       "      <td>0.010886</td>\n",
       "      <td>0.010886</td>\n",
       "    </tr>\n",
       "    <tr>\n",
       "      <th>3</th>\n",
       "      <td>0.010886</td>\n",
       "      <td>0.001555</td>\n",
       "      <td>0.010886</td>\n",
       "      <td>0.010886</td>\n",
       "      <td>0.010886</td>\n",
       "      <td>0.010886</td>\n",
       "      <td>0.010886</td>\n",
       "    </tr>\n",
       "    <tr>\n",
       "      <th>4</th>\n",
       "      <td>0.001555</td>\n",
       "      <td>0.010886</td>\n",
       "      <td>0.010886</td>\n",
       "      <td>0.010886</td>\n",
       "      <td>0.010886</td>\n",
       "      <td>0.010886</td>\n",
       "      <td>0.004666</td>\n",
       "    </tr>\n",
       "    <tr>\n",
       "      <th>5</th>\n",
       "      <td>0.010886</td>\n",
       "      <td>0.010886</td>\n",
       "      <td>0.010886</td>\n",
       "      <td>0.010886</td>\n",
       "      <td>0.010886</td>\n",
       "      <td>0.004666</td>\n",
       "      <td>0.001555</td>\n",
       "    </tr>\n",
       "  </tbody>\n",
       "</table>\n",
       "</div>"
      ],
      "text/plain": [
       "    var1(t)  var1(t+1)  var1(t+2)  var1(t+3)  var1(t+4)  var1(t+5)  var1(t+6)\n",
       "1  0.001555   0.010886   0.010886   0.001555   0.010886   0.010886   0.010886\n",
       "2  0.010886   0.010886   0.001555   0.010886   0.010886   0.010886   0.010886\n",
       "3  0.010886   0.001555   0.010886   0.010886   0.010886   0.010886   0.010886\n",
       "4  0.001555   0.010886   0.010886   0.010886   0.010886   0.010886   0.004666\n",
       "5  0.010886   0.010886   0.010886   0.010886   0.010886   0.004666   0.001555"
      ]
     },
     "execution_count": 67,
     "metadata": {
      "tags": []
     },
     "output_type": "execute_result"
    }
   ],
   "source": [
    "Y_train_1.head(5)"
   ]
  },
  {
   "cell_type": "code",
   "execution_count": 68,
   "metadata": {
    "colab": {
     "base_uri": "https://localhost:8080/",
     "height": 453
    },
    "colab_type": "code",
    "id": "aKFreTgy9Qt5",
    "outputId": "13d3ba22-a909-4f60-d17e-cec7ab415ae3"
   },
   "outputs": [
    {
     "name": "stdout",
     "output_type": "stream",
     "text": [
      "(127, 5)\n",
      "(29, 5)\n"
     ]
    },
    {
     "data": {
      "text/html": [
       "<div>\n",
       "<style scoped>\n",
       "    .dataframe tbody tr th:only-of-type {\n",
       "        vertical-align: middle;\n",
       "    }\n",
       "\n",
       "    .dataframe tbody tr th {\n",
       "        vertical-align: top;\n",
       "    }\n",
       "\n",
       "    .dataframe thead th {\n",
       "        text-align: right;\n",
       "    }\n",
       "</style>\n",
       "<table border=\"1\" class=\"dataframe\">\n",
       "  <thead>\n",
       "    <tr style=\"text-align: right;\">\n",
       "      <th></th>\n",
       "      <th>var1(t-1)</th>\n",
       "      <th>var2(t-1)</th>\n",
       "      <th>var3(t-1)</th>\n",
       "      <th>var4(t-1)</th>\n",
       "      <th>var5(t-1)</th>\n",
       "    </tr>\n",
       "  </thead>\n",
       "  <tbody>\n",
       "    <tr>\n",
       "      <th>1</th>\n",
       "      <td>0.010886</td>\n",
       "      <td>0.044080</td>\n",
       "      <td>0.044</td>\n",
       "      <td>0.000000</td>\n",
       "      <td>0.0</td>\n",
       "    </tr>\n",
       "    <tr>\n",
       "      <th>2</th>\n",
       "      <td>0.001555</td>\n",
       "      <td>0.000000</td>\n",
       "      <td>0.000</td>\n",
       "      <td>0.000000</td>\n",
       "      <td>0.0</td>\n",
       "    </tr>\n",
       "    <tr>\n",
       "      <th>3</th>\n",
       "      <td>0.010886</td>\n",
       "      <td>0.044080</td>\n",
       "      <td>0.044</td>\n",
       "      <td>0.000000</td>\n",
       "      <td>0.0</td>\n",
       "    </tr>\n",
       "    <tr>\n",
       "      <th>4</th>\n",
       "      <td>0.010886</td>\n",
       "      <td>0.044080</td>\n",
       "      <td>0.044</td>\n",
       "      <td>0.000000</td>\n",
       "      <td>0.0</td>\n",
       "    </tr>\n",
       "    <tr>\n",
       "      <th>5</th>\n",
       "      <td>0.001555</td>\n",
       "      <td>0.000064</td>\n",
       "      <td>0.000</td>\n",
       "      <td>0.000000</td>\n",
       "      <td>0.0</td>\n",
       "    </tr>\n",
       "    <tr>\n",
       "      <th>...</th>\n",
       "      <td>...</td>\n",
       "      <td>...</td>\n",
       "      <td>...</td>\n",
       "      <td>...</td>\n",
       "      <td>...</td>\n",
       "    </tr>\n",
       "    <tr>\n",
       "      <th>123</th>\n",
       "      <td>0.160187</td>\n",
       "      <td>0.802528</td>\n",
       "      <td>0.912</td>\n",
       "      <td>0.000000</td>\n",
       "      <td>0.0</td>\n",
       "    </tr>\n",
       "    <tr>\n",
       "      <th>124</th>\n",
       "      <td>0.517885</td>\n",
       "      <td>0.823679</td>\n",
       "      <td>0.916</td>\n",
       "      <td>0.066667</td>\n",
       "      <td>0.0</td>\n",
       "    </tr>\n",
       "    <tr>\n",
       "      <th>125</th>\n",
       "      <td>0.496112</td>\n",
       "      <td>0.843940</td>\n",
       "      <td>0.920</td>\n",
       "      <td>0.066667</td>\n",
       "      <td>0.0</td>\n",
       "    </tr>\n",
       "    <tr>\n",
       "      <th>126</th>\n",
       "      <td>0.830482</td>\n",
       "      <td>0.877858</td>\n",
       "      <td>0.928</td>\n",
       "      <td>0.133333</td>\n",
       "      <td>0.0</td>\n",
       "    </tr>\n",
       "    <tr>\n",
       "      <th>127</th>\n",
       "      <td>0.611198</td>\n",
       "      <td>0.902820</td>\n",
       "      <td>0.940</td>\n",
       "      <td>0.200000</td>\n",
       "      <td>0.0</td>\n",
       "    </tr>\n",
       "  </tbody>\n",
       "</table>\n",
       "<p>127 rows × 5 columns</p>\n",
       "</div>"
      ],
      "text/plain": [
       "     var1(t-1)  var2(t-1)  var3(t-1)  var4(t-1)  var5(t-1)\n",
       "1     0.010886   0.044080      0.044   0.000000        0.0\n",
       "2     0.001555   0.000000      0.000   0.000000        0.0\n",
       "3     0.010886   0.044080      0.044   0.000000        0.0\n",
       "4     0.010886   0.044080      0.044   0.000000        0.0\n",
       "5     0.001555   0.000064      0.000   0.000000        0.0\n",
       "..         ...        ...        ...        ...        ...\n",
       "123   0.160187   0.802528      0.912   0.000000        0.0\n",
       "124   0.517885   0.823679      0.916   0.066667        0.0\n",
       "125   0.496112   0.843940      0.920   0.066667        0.0\n",
       "126   0.830482   0.877858      0.928   0.133333        0.0\n",
       "127   0.611198   0.902820      0.940   0.200000        0.0\n",
       "\n",
       "[127 rows x 5 columns]"
      ]
     },
     "execution_count": 68,
     "metadata": {
      "tags": []
     },
     "output_type": "execute_result"
    }
   ],
   "source": [
    "# drop columns we don't want to predict\n",
    "X_train_1 = X_train_1.filter(regex=regex_find,axis=1)\n",
    "X_test_1=X_test_1.filter(regex=regex_find,axis=1)\n",
    "print(X_train_1.shape)\n",
    "print(X_test_1.shape)\n",
    "X_train_1\n"
   ]
  },
  {
   "cell_type": "code",
   "execution_count": 69,
   "metadata": {
    "colab": {
     "base_uri": "https://localhost:8080/",
     "height": 948
    },
    "colab_type": "code",
    "id": "dvLCFaExBN5m",
    "outputId": "6fcbddfa-f394-4e4e-c4db-0f8e05072aa0"
   },
   "outputs": [
    {
     "data": {
      "text/html": [
       "<div>\n",
       "<style scoped>\n",
       "    .dataframe tbody tr th:only-of-type {\n",
       "        vertical-align: middle;\n",
       "    }\n",
       "\n",
       "    .dataframe tbody tr th {\n",
       "        vertical-align: top;\n",
       "    }\n",
       "\n",
       "    .dataframe thead th {\n",
       "        text-align: right;\n",
       "    }\n",
       "</style>\n",
       "<table border=\"1\" class=\"dataframe\">\n",
       "  <thead>\n",
       "    <tr style=\"text-align: right;\">\n",
       "      <th></th>\n",
       "      <th>var1(t-1)</th>\n",
       "      <th>var2(t-1)</th>\n",
       "      <th>var3(t-1)</th>\n",
       "      <th>var4(t-1)</th>\n",
       "      <th>var5(t-1)</th>\n",
       "    </tr>\n",
       "  </thead>\n",
       "  <tbody>\n",
       "    <tr>\n",
       "      <th>1</th>\n",
       "      <td>0.031390</td>\n",
       "      <td>0.008566</td>\n",
       "      <td>0.013661</td>\n",
       "      <td>0.148148</td>\n",
       "      <td>0.0</td>\n",
       "    </tr>\n",
       "    <tr>\n",
       "      <th>2</th>\n",
       "      <td>0.039611</td>\n",
       "      <td>0.000000</td>\n",
       "      <td>0.000000</td>\n",
       "      <td>0.037037</td>\n",
       "      <td>0.0</td>\n",
       "    </tr>\n",
       "    <tr>\n",
       "      <th>3</th>\n",
       "      <td>0.031390</td>\n",
       "      <td>0.008566</td>\n",
       "      <td>0.013661</td>\n",
       "      <td>0.148148</td>\n",
       "      <td>0.0</td>\n",
       "    </tr>\n",
       "    <tr>\n",
       "      <th>4</th>\n",
       "      <td>0.022422</td>\n",
       "      <td>0.016625</td>\n",
       "      <td>0.027322</td>\n",
       "      <td>0.148148</td>\n",
       "      <td>0.0</td>\n",
       "    </tr>\n",
       "    <tr>\n",
       "      <th>5</th>\n",
       "      <td>0.000000</td>\n",
       "      <td>0.023419</td>\n",
       "      <td>0.032787</td>\n",
       "      <td>0.037037</td>\n",
       "      <td>0.0</td>\n",
       "    </tr>\n",
       "    <tr>\n",
       "      <th>6</th>\n",
       "      <td>0.002990</td>\n",
       "      <td>0.030381</td>\n",
       "      <td>0.038251</td>\n",
       "      <td>0.037037</td>\n",
       "      <td>0.0</td>\n",
       "    </tr>\n",
       "    <tr>\n",
       "      <th>7</th>\n",
       "      <td>0.000747</td>\n",
       "      <td>0.037217</td>\n",
       "      <td>0.040984</td>\n",
       "      <td>0.000000</td>\n",
       "      <td>0.0</td>\n",
       "    </tr>\n",
       "    <tr>\n",
       "      <th>8</th>\n",
       "      <td>0.105381</td>\n",
       "      <td>0.049960</td>\n",
       "      <td>0.051913</td>\n",
       "      <td>0.111111</td>\n",
       "      <td>0.0</td>\n",
       "    </tr>\n",
       "    <tr>\n",
       "      <th>9</th>\n",
       "      <td>0.095665</td>\n",
       "      <td>0.062154</td>\n",
       "      <td>0.065574</td>\n",
       "      <td>0.148148</td>\n",
       "      <td>0.0</td>\n",
       "    </tr>\n",
       "    <tr>\n",
       "      <th>10</th>\n",
       "      <td>0.044843</td>\n",
       "      <td>0.071480</td>\n",
       "      <td>0.076503</td>\n",
       "      <td>0.111111</td>\n",
       "      <td>0.0</td>\n",
       "    </tr>\n",
       "    <tr>\n",
       "      <th>11</th>\n",
       "      <td>0.123318</td>\n",
       "      <td>0.085236</td>\n",
       "      <td>0.084699</td>\n",
       "      <td>0.074074</td>\n",
       "      <td>0.0</td>\n",
       "    </tr>\n",
       "    <tr>\n",
       "      <th>12</th>\n",
       "      <td>0.014200</td>\n",
       "      <td>0.092831</td>\n",
       "      <td>0.095628</td>\n",
       "      <td>0.111111</td>\n",
       "      <td>0.0</td>\n",
       "    </tr>\n",
       "    <tr>\n",
       "      <th>13</th>\n",
       "      <td>0.044096</td>\n",
       "      <td>0.102114</td>\n",
       "      <td>0.109290</td>\n",
       "      <td>0.148148</td>\n",
       "      <td>0.0</td>\n",
       "    </tr>\n",
       "    <tr>\n",
       "      <th>14</th>\n",
       "      <td>0.105381</td>\n",
       "      <td>0.114857</td>\n",
       "      <td>0.128415</td>\n",
       "      <td>0.222222</td>\n",
       "      <td>0.0</td>\n",
       "    </tr>\n",
       "    <tr>\n",
       "      <th>15</th>\n",
       "      <td>0.305680</td>\n",
       "      <td>0.138909</td>\n",
       "      <td>0.147541</td>\n",
       "      <td>0.222222</td>\n",
       "      <td>0.0</td>\n",
       "    </tr>\n",
       "    <tr>\n",
       "      <th>16</th>\n",
       "      <td>0.485800</td>\n",
       "      <td>0.173130</td>\n",
       "      <td>0.163934</td>\n",
       "      <td>0.185185</td>\n",
       "      <td>0.0</td>\n",
       "    </tr>\n",
       "    <tr>\n",
       "      <th>17</th>\n",
       "      <td>0.352765</td>\n",
       "      <td>0.199840</td>\n",
       "      <td>0.185792</td>\n",
       "      <td>0.259259</td>\n",
       "      <td>0.0</td>\n",
       "    </tr>\n",
       "    <tr>\n",
       "      <th>18</th>\n",
       "      <td>0.334828</td>\n",
       "      <td>0.225537</td>\n",
       "      <td>0.193989</td>\n",
       "      <td>0.074074</td>\n",
       "      <td>0.0</td>\n",
       "    </tr>\n",
       "    <tr>\n",
       "      <th>19</th>\n",
       "      <td>0.253363</td>\n",
       "      <td>0.246635</td>\n",
       "      <td>0.224044</td>\n",
       "      <td>0.370370</td>\n",
       "      <td>0.0</td>\n",
       "    </tr>\n",
       "    <tr>\n",
       "      <th>20</th>\n",
       "      <td>0.497010</td>\n",
       "      <td>0.281489</td>\n",
       "      <td>0.243169</td>\n",
       "      <td>0.222222</td>\n",
       "      <td>0.0</td>\n",
       "    </tr>\n",
       "    <tr>\n",
       "      <th>21</th>\n",
       "      <td>0.661435</td>\n",
       "      <td>0.325626</td>\n",
       "      <td>0.275956</td>\n",
       "      <td>0.407407</td>\n",
       "      <td>0.0</td>\n",
       "    </tr>\n",
       "    <tr>\n",
       "      <th>22</th>\n",
       "      <td>0.674141</td>\n",
       "      <td>0.370480</td>\n",
       "      <td>0.295082</td>\n",
       "      <td>0.222222</td>\n",
       "      <td>0.0</td>\n",
       "    </tr>\n",
       "    <tr>\n",
       "      <th>23</th>\n",
       "      <td>0.397608</td>\n",
       "      <td>0.399721</td>\n",
       "      <td>0.333333</td>\n",
       "      <td>0.481481</td>\n",
       "      <td>0.0</td>\n",
       "    </tr>\n",
       "    <tr>\n",
       "      <th>24</th>\n",
       "      <td>0.269806</td>\n",
       "      <td>0.421748</td>\n",
       "      <td>0.374317</td>\n",
       "      <td>0.518519</td>\n",
       "      <td>0.0</td>\n",
       "    </tr>\n",
       "    <tr>\n",
       "      <th>25</th>\n",
       "      <td>0.372197</td>\n",
       "      <td>0.449555</td>\n",
       "      <td>0.426229</td>\n",
       "      <td>0.666667</td>\n",
       "      <td>0.0</td>\n",
       "    </tr>\n",
       "    <tr>\n",
       "      <th>26</th>\n",
       "      <td>0.642750</td>\n",
       "      <td>0.492637</td>\n",
       "      <td>0.469945</td>\n",
       "      <td>0.555556</td>\n",
       "      <td>0.0</td>\n",
       "    </tr>\n",
       "    <tr>\n",
       "      <th>27</th>\n",
       "      <td>0.838565</td>\n",
       "      <td>0.546774</td>\n",
       "      <td>0.519126</td>\n",
       "      <td>0.629630</td>\n",
       "      <td>0.0</td>\n",
       "    </tr>\n",
       "    <tr>\n",
       "      <th>28</th>\n",
       "      <td>0.734679</td>\n",
       "      <td>0.595046</td>\n",
       "      <td>0.557377</td>\n",
       "      <td>0.481481</td>\n",
       "      <td>0.0</td>\n",
       "    </tr>\n",
       "    <tr>\n",
       "      <th>29</th>\n",
       "      <td>0.640508</td>\n",
       "      <td>0.638002</td>\n",
       "      <td>0.590164</td>\n",
       "      <td>0.407407</td>\n",
       "      <td>0.0</td>\n",
       "    </tr>\n",
       "  </tbody>\n",
       "</table>\n",
       "</div>"
      ],
      "text/plain": [
       "    var1(t-1)  var2(t-1)  var3(t-1)  var4(t-1)  var5(t-1)\n",
       "1    0.031390   0.008566   0.013661   0.148148        0.0\n",
       "2    0.039611   0.000000   0.000000   0.037037        0.0\n",
       "3    0.031390   0.008566   0.013661   0.148148        0.0\n",
       "4    0.022422   0.016625   0.027322   0.148148        0.0\n",
       "5    0.000000   0.023419   0.032787   0.037037        0.0\n",
       "6    0.002990   0.030381   0.038251   0.037037        0.0\n",
       "7    0.000747   0.037217   0.040984   0.000000        0.0\n",
       "8    0.105381   0.049960   0.051913   0.111111        0.0\n",
       "9    0.095665   0.062154   0.065574   0.148148        0.0\n",
       "10   0.044843   0.071480   0.076503   0.111111        0.0\n",
       "11   0.123318   0.085236   0.084699   0.074074        0.0\n",
       "12   0.014200   0.092831   0.095628   0.111111        0.0\n",
       "13   0.044096   0.102114   0.109290   0.148148        0.0\n",
       "14   0.105381   0.114857   0.128415   0.222222        0.0\n",
       "15   0.305680   0.138909   0.147541   0.222222        0.0\n",
       "16   0.485800   0.173130   0.163934   0.185185        0.0\n",
       "17   0.352765   0.199840   0.185792   0.259259        0.0\n",
       "18   0.334828   0.225537   0.193989   0.074074        0.0\n",
       "19   0.253363   0.246635   0.224044   0.370370        0.0\n",
       "20   0.497010   0.281489   0.243169   0.222222        0.0\n",
       "21   0.661435   0.325626   0.275956   0.407407        0.0\n",
       "22   0.674141   0.370480   0.295082   0.222222        0.0\n",
       "23   0.397608   0.399721   0.333333   0.481481        0.0\n",
       "24   0.269806   0.421748   0.374317   0.518519        0.0\n",
       "25   0.372197   0.449555   0.426229   0.666667        0.0\n",
       "26   0.642750   0.492637   0.469945   0.555556        0.0\n",
       "27   0.838565   0.546774   0.519126   0.629630        0.0\n",
       "28   0.734679   0.595046   0.557377   0.481481        0.0\n",
       "29   0.640508   0.638002   0.590164   0.407407        0.0"
      ]
     },
     "execution_count": 69,
     "metadata": {
      "tags": []
     },
     "output_type": "execute_result"
    }
   ],
   "source": [
    "X_test_1"
   ]
  },
  {
   "cell_type": "code",
   "execution_count": 70,
   "metadata": {
    "colab": {
     "base_uri": "https://localhost:8080/",
     "height": 34
    },
    "colab_type": "code",
    "id": "HLhC2Nm39QuD",
    "outputId": "ccedb520-340f-4887-f2f5-c05e16f9b6ef"
   },
   "outputs": [
    {
     "name": "stdout",
     "output_type": "stream",
     "text": [
      "(29, 5)\n"
     ]
    }
   ],
   "source": [
    "print(X_test_1.shape)"
   ]
  },
  {
   "cell_type": "code",
   "execution_count": 71,
   "metadata": {
    "colab": {},
    "colab_type": "code",
    "id": "Ata5gkZB9QuL"
   },
   "outputs": [],
   "source": [
    "nb_col=5"
   ]
  },
  {
   "cell_type": "code",
   "execution_count": 72,
   "metadata": {
    "colab": {
     "base_uri": "https://localhost:8080/",
     "height": 80
    },
    "colab_type": "code",
    "id": "CeszEGTM_qcH",
    "outputId": "dcc05c02-ac7a-4c76-c5bd-d88ff7985321"
   },
   "outputs": [
    {
     "data": {
      "text/html": [
       "<div>\n",
       "<style scoped>\n",
       "    .dataframe tbody tr th:only-of-type {\n",
       "        vertical-align: middle;\n",
       "    }\n",
       "\n",
       "    .dataframe tbody tr th {\n",
       "        vertical-align: top;\n",
       "    }\n",
       "\n",
       "    .dataframe thead th {\n",
       "        text-align: right;\n",
       "    }\n",
       "</style>\n",
       "<table border=\"1\" class=\"dataframe\">\n",
       "  <thead>\n",
       "    <tr style=\"text-align: right;\">\n",
       "      <th></th>\n",
       "      <th>var1(t-1)</th>\n",
       "      <th>var2(t-1)</th>\n",
       "      <th>var3(t-1)</th>\n",
       "      <th>var4(t-1)</th>\n",
       "      <th>var5(t-1)</th>\n",
       "    </tr>\n",
       "  </thead>\n",
       "  <tbody>\n",
       "    <tr>\n",
       "      <th>1</th>\n",
       "      <td>0.03139</td>\n",
       "      <td>0.008566</td>\n",
       "      <td>0.013661</td>\n",
       "      <td>0.148148</td>\n",
       "      <td>0.0</td>\n",
       "    </tr>\n",
       "  </tbody>\n",
       "</table>\n",
       "</div>"
      ],
      "text/plain": [
       "   var1(t-1)  var2(t-1)  var3(t-1)  var4(t-1)  var5(t-1)\n",
       "1    0.03139   0.008566   0.013661   0.148148        0.0"
      ]
     },
     "execution_count": 72,
     "metadata": {
      "tags": []
     },
     "output_type": "execute_result"
    }
   ],
   "source": [
    "X_test_1.head(1)"
   ]
  },
  {
   "cell_type": "code",
   "execution_count": 73,
   "metadata": {
    "colab": {
     "base_uri": "https://localhost:8080/",
     "height": 948
    },
    "colab_type": "code",
    "id": "wRQ4QzRI82xU",
    "outputId": "df3976d3-6a98-4ac3-f731-822aea33cdb7"
   },
   "outputs": [
    {
     "data": {
      "text/html": [
       "<div>\n",
       "<style scoped>\n",
       "    .dataframe tbody tr th:only-of-type {\n",
       "        vertical-align: middle;\n",
       "    }\n",
       "\n",
       "    .dataframe tbody tr th {\n",
       "        vertical-align: top;\n",
       "    }\n",
       "\n",
       "    .dataframe thead th {\n",
       "        text-align: right;\n",
       "    }\n",
       "</style>\n",
       "<table border=\"1\" class=\"dataframe\">\n",
       "  <thead>\n",
       "    <tr style=\"text-align: right;\">\n",
       "      <th></th>\n",
       "      <th>var1(t)</th>\n",
       "      <th>var1(t+1)</th>\n",
       "      <th>var1(t+2)</th>\n",
       "      <th>var1(t+3)</th>\n",
       "      <th>var1(t+4)</th>\n",
       "      <th>var1(t+5)</th>\n",
       "      <th>var1(t+6)</th>\n",
       "    </tr>\n",
       "  </thead>\n",
       "  <tbody>\n",
       "    <tr>\n",
       "      <th>1</th>\n",
       "      <td>0.039611</td>\n",
       "      <td>0.031390</td>\n",
       "      <td>0.022422</td>\n",
       "      <td>0.000000</td>\n",
       "      <td>0.002990</td>\n",
       "      <td>0.000747</td>\n",
       "      <td>0.105381</td>\n",
       "    </tr>\n",
       "    <tr>\n",
       "      <th>2</th>\n",
       "      <td>0.031390</td>\n",
       "      <td>0.022422</td>\n",
       "      <td>0.000000</td>\n",
       "      <td>0.002990</td>\n",
       "      <td>0.000747</td>\n",
       "      <td>0.105381</td>\n",
       "      <td>0.095665</td>\n",
       "    </tr>\n",
       "    <tr>\n",
       "      <th>3</th>\n",
       "      <td>0.022422</td>\n",
       "      <td>0.000000</td>\n",
       "      <td>0.002990</td>\n",
       "      <td>0.000747</td>\n",
       "      <td>0.105381</td>\n",
       "      <td>0.095665</td>\n",
       "      <td>0.044843</td>\n",
       "    </tr>\n",
       "    <tr>\n",
       "      <th>4</th>\n",
       "      <td>0.000000</td>\n",
       "      <td>0.002990</td>\n",
       "      <td>0.000747</td>\n",
       "      <td>0.105381</td>\n",
       "      <td>0.095665</td>\n",
       "      <td>0.044843</td>\n",
       "      <td>0.123318</td>\n",
       "    </tr>\n",
       "    <tr>\n",
       "      <th>5</th>\n",
       "      <td>0.002990</td>\n",
       "      <td>0.000747</td>\n",
       "      <td>0.105381</td>\n",
       "      <td>0.095665</td>\n",
       "      <td>0.044843</td>\n",
       "      <td>0.123318</td>\n",
       "      <td>0.014200</td>\n",
       "    </tr>\n",
       "    <tr>\n",
       "      <th>6</th>\n",
       "      <td>0.000747</td>\n",
       "      <td>0.105381</td>\n",
       "      <td>0.095665</td>\n",
       "      <td>0.044843</td>\n",
       "      <td>0.123318</td>\n",
       "      <td>0.014200</td>\n",
       "      <td>0.044096</td>\n",
       "    </tr>\n",
       "    <tr>\n",
       "      <th>7</th>\n",
       "      <td>0.105381</td>\n",
       "      <td>0.095665</td>\n",
       "      <td>0.044843</td>\n",
       "      <td>0.123318</td>\n",
       "      <td>0.014200</td>\n",
       "      <td>0.044096</td>\n",
       "      <td>0.105381</td>\n",
       "    </tr>\n",
       "    <tr>\n",
       "      <th>8</th>\n",
       "      <td>0.095665</td>\n",
       "      <td>0.044843</td>\n",
       "      <td>0.123318</td>\n",
       "      <td>0.014200</td>\n",
       "      <td>0.044096</td>\n",
       "      <td>0.105381</td>\n",
       "      <td>0.305680</td>\n",
       "    </tr>\n",
       "    <tr>\n",
       "      <th>9</th>\n",
       "      <td>0.044843</td>\n",
       "      <td>0.123318</td>\n",
       "      <td>0.014200</td>\n",
       "      <td>0.044096</td>\n",
       "      <td>0.105381</td>\n",
       "      <td>0.305680</td>\n",
       "      <td>0.485800</td>\n",
       "    </tr>\n",
       "    <tr>\n",
       "      <th>10</th>\n",
       "      <td>0.123318</td>\n",
       "      <td>0.014200</td>\n",
       "      <td>0.044096</td>\n",
       "      <td>0.105381</td>\n",
       "      <td>0.305680</td>\n",
       "      <td>0.485800</td>\n",
       "      <td>0.352765</td>\n",
       "    </tr>\n",
       "    <tr>\n",
       "      <th>11</th>\n",
       "      <td>0.014200</td>\n",
       "      <td>0.044096</td>\n",
       "      <td>0.105381</td>\n",
       "      <td>0.305680</td>\n",
       "      <td>0.485800</td>\n",
       "      <td>0.352765</td>\n",
       "      <td>0.334828</td>\n",
       "    </tr>\n",
       "    <tr>\n",
       "      <th>12</th>\n",
       "      <td>0.044096</td>\n",
       "      <td>0.105381</td>\n",
       "      <td>0.305680</td>\n",
       "      <td>0.485800</td>\n",
       "      <td>0.352765</td>\n",
       "      <td>0.334828</td>\n",
       "      <td>0.253363</td>\n",
       "    </tr>\n",
       "    <tr>\n",
       "      <th>13</th>\n",
       "      <td>0.105381</td>\n",
       "      <td>0.305680</td>\n",
       "      <td>0.485800</td>\n",
       "      <td>0.352765</td>\n",
       "      <td>0.334828</td>\n",
       "      <td>0.253363</td>\n",
       "      <td>0.497010</td>\n",
       "    </tr>\n",
       "    <tr>\n",
       "      <th>14</th>\n",
       "      <td>0.305680</td>\n",
       "      <td>0.485800</td>\n",
       "      <td>0.352765</td>\n",
       "      <td>0.334828</td>\n",
       "      <td>0.253363</td>\n",
       "      <td>0.497010</td>\n",
       "      <td>0.661435</td>\n",
       "    </tr>\n",
       "    <tr>\n",
       "      <th>15</th>\n",
       "      <td>0.485800</td>\n",
       "      <td>0.352765</td>\n",
       "      <td>0.334828</td>\n",
       "      <td>0.253363</td>\n",
       "      <td>0.497010</td>\n",
       "      <td>0.661435</td>\n",
       "      <td>0.674141</td>\n",
       "    </tr>\n",
       "    <tr>\n",
       "      <th>16</th>\n",
       "      <td>0.352765</td>\n",
       "      <td>0.334828</td>\n",
       "      <td>0.253363</td>\n",
       "      <td>0.497010</td>\n",
       "      <td>0.661435</td>\n",
       "      <td>0.674141</td>\n",
       "      <td>0.397608</td>\n",
       "    </tr>\n",
       "    <tr>\n",
       "      <th>17</th>\n",
       "      <td>0.334828</td>\n",
       "      <td>0.253363</td>\n",
       "      <td>0.497010</td>\n",
       "      <td>0.661435</td>\n",
       "      <td>0.674141</td>\n",
       "      <td>0.397608</td>\n",
       "      <td>0.269806</td>\n",
       "    </tr>\n",
       "    <tr>\n",
       "      <th>18</th>\n",
       "      <td>0.253363</td>\n",
       "      <td>0.497010</td>\n",
       "      <td>0.661435</td>\n",
       "      <td>0.674141</td>\n",
       "      <td>0.397608</td>\n",
       "      <td>0.269806</td>\n",
       "      <td>0.372197</td>\n",
       "    </tr>\n",
       "    <tr>\n",
       "      <th>19</th>\n",
       "      <td>0.497010</td>\n",
       "      <td>0.661435</td>\n",
       "      <td>0.674141</td>\n",
       "      <td>0.397608</td>\n",
       "      <td>0.269806</td>\n",
       "      <td>0.372197</td>\n",
       "      <td>0.642750</td>\n",
       "    </tr>\n",
       "    <tr>\n",
       "      <th>20</th>\n",
       "      <td>0.661435</td>\n",
       "      <td>0.674141</td>\n",
       "      <td>0.397608</td>\n",
       "      <td>0.269806</td>\n",
       "      <td>0.372197</td>\n",
       "      <td>0.642750</td>\n",
       "      <td>0.838565</td>\n",
       "    </tr>\n",
       "    <tr>\n",
       "      <th>21</th>\n",
       "      <td>0.674141</td>\n",
       "      <td>0.397608</td>\n",
       "      <td>0.269806</td>\n",
       "      <td>0.372197</td>\n",
       "      <td>0.642750</td>\n",
       "      <td>0.838565</td>\n",
       "      <td>0.734679</td>\n",
       "    </tr>\n",
       "    <tr>\n",
       "      <th>22</th>\n",
       "      <td>0.397608</td>\n",
       "      <td>0.269806</td>\n",
       "      <td>0.372197</td>\n",
       "      <td>0.642750</td>\n",
       "      <td>0.838565</td>\n",
       "      <td>0.734679</td>\n",
       "      <td>0.640508</td>\n",
       "    </tr>\n",
       "    <tr>\n",
       "      <th>23</th>\n",
       "      <td>0.269806</td>\n",
       "      <td>0.372197</td>\n",
       "      <td>0.642750</td>\n",
       "      <td>0.838565</td>\n",
       "      <td>0.734679</td>\n",
       "      <td>0.640508</td>\n",
       "      <td>0.884903</td>\n",
       "    </tr>\n",
       "    <tr>\n",
       "      <th>24</th>\n",
       "      <td>0.372197</td>\n",
       "      <td>0.642750</td>\n",
       "      <td>0.838565</td>\n",
       "      <td>0.734679</td>\n",
       "      <td>0.640508</td>\n",
       "      <td>0.884903</td>\n",
       "      <td>0.798954</td>\n",
       "    </tr>\n",
       "    <tr>\n",
       "      <th>25</th>\n",
       "      <td>0.642750</td>\n",
       "      <td>0.838565</td>\n",
       "      <td>0.734679</td>\n",
       "      <td>0.640508</td>\n",
       "      <td>0.884903</td>\n",
       "      <td>0.798954</td>\n",
       "      <td>0.497010</td>\n",
       "    </tr>\n",
       "    <tr>\n",
       "      <th>26</th>\n",
       "      <td>0.838565</td>\n",
       "      <td>0.734679</td>\n",
       "      <td>0.640508</td>\n",
       "      <td>0.884903</td>\n",
       "      <td>0.798954</td>\n",
       "      <td>0.497010</td>\n",
       "      <td>0.725710</td>\n",
       "    </tr>\n",
       "    <tr>\n",
       "      <th>27</th>\n",
       "      <td>0.734679</td>\n",
       "      <td>0.640508</td>\n",
       "      <td>0.884903</td>\n",
       "      <td>0.798954</td>\n",
       "      <td>0.497010</td>\n",
       "      <td>0.725710</td>\n",
       "      <td>1.000000</td>\n",
       "    </tr>\n",
       "    <tr>\n",
       "      <th>28</th>\n",
       "      <td>0.640508</td>\n",
       "      <td>0.884903</td>\n",
       "      <td>0.798954</td>\n",
       "      <td>0.497010</td>\n",
       "      <td>0.725710</td>\n",
       "      <td>1.000000</td>\n",
       "      <td>0.807175</td>\n",
       "    </tr>\n",
       "    <tr>\n",
       "      <th>29</th>\n",
       "      <td>0.884903</td>\n",
       "      <td>0.798954</td>\n",
       "      <td>0.497010</td>\n",
       "      <td>0.725710</td>\n",
       "      <td>1.000000</td>\n",
       "      <td>0.807175</td>\n",
       "      <td>0.855755</td>\n",
       "    </tr>\n",
       "  </tbody>\n",
       "</table>\n",
       "</div>"
      ],
      "text/plain": [
       "     var1(t)  var1(t+1)  var1(t+2)  var1(t+3)  var1(t+4)  var1(t+5)  var1(t+6)\n",
       "1   0.039611   0.031390   0.022422   0.000000   0.002990   0.000747   0.105381\n",
       "2   0.031390   0.022422   0.000000   0.002990   0.000747   0.105381   0.095665\n",
       "3   0.022422   0.000000   0.002990   0.000747   0.105381   0.095665   0.044843\n",
       "4   0.000000   0.002990   0.000747   0.105381   0.095665   0.044843   0.123318\n",
       "5   0.002990   0.000747   0.105381   0.095665   0.044843   0.123318   0.014200\n",
       "6   0.000747   0.105381   0.095665   0.044843   0.123318   0.014200   0.044096\n",
       "7   0.105381   0.095665   0.044843   0.123318   0.014200   0.044096   0.105381\n",
       "8   0.095665   0.044843   0.123318   0.014200   0.044096   0.105381   0.305680\n",
       "9   0.044843   0.123318   0.014200   0.044096   0.105381   0.305680   0.485800\n",
       "10  0.123318   0.014200   0.044096   0.105381   0.305680   0.485800   0.352765\n",
       "11  0.014200   0.044096   0.105381   0.305680   0.485800   0.352765   0.334828\n",
       "12  0.044096   0.105381   0.305680   0.485800   0.352765   0.334828   0.253363\n",
       "13  0.105381   0.305680   0.485800   0.352765   0.334828   0.253363   0.497010\n",
       "14  0.305680   0.485800   0.352765   0.334828   0.253363   0.497010   0.661435\n",
       "15  0.485800   0.352765   0.334828   0.253363   0.497010   0.661435   0.674141\n",
       "16  0.352765   0.334828   0.253363   0.497010   0.661435   0.674141   0.397608\n",
       "17  0.334828   0.253363   0.497010   0.661435   0.674141   0.397608   0.269806\n",
       "18  0.253363   0.497010   0.661435   0.674141   0.397608   0.269806   0.372197\n",
       "19  0.497010   0.661435   0.674141   0.397608   0.269806   0.372197   0.642750\n",
       "20  0.661435   0.674141   0.397608   0.269806   0.372197   0.642750   0.838565\n",
       "21  0.674141   0.397608   0.269806   0.372197   0.642750   0.838565   0.734679\n",
       "22  0.397608   0.269806   0.372197   0.642750   0.838565   0.734679   0.640508\n",
       "23  0.269806   0.372197   0.642750   0.838565   0.734679   0.640508   0.884903\n",
       "24  0.372197   0.642750   0.838565   0.734679   0.640508   0.884903   0.798954\n",
       "25  0.642750   0.838565   0.734679   0.640508   0.884903   0.798954   0.497010\n",
       "26  0.838565   0.734679   0.640508   0.884903   0.798954   0.497010   0.725710\n",
       "27  0.734679   0.640508   0.884903   0.798954   0.497010   0.725710   1.000000\n",
       "28  0.640508   0.884903   0.798954   0.497010   0.725710   1.000000   0.807175\n",
       "29  0.884903   0.798954   0.497010   0.725710   1.000000   0.807175   0.855755"
      ]
     },
     "execution_count": 73,
     "metadata": {
      "tags": []
     },
     "output_type": "execute_result"
    }
   ],
   "source": [
    "Y_test_1"
   ]
  },
  {
   "cell_type": "code",
   "execution_count": 74,
   "metadata": {
    "colab": {
     "base_uri": "https://localhost:8080/",
     "height": 34
    },
    "colab_type": "code",
    "id": "07DmJEff9QuR",
    "outputId": "ca5eb670-5116-4451-edfe-96a0942ed6a6"
   },
   "outputs": [
    {
     "name": "stdout",
     "output_type": "stream",
     "text": [
      "(29, 1, 5) (29, 7) (127, 1, 5) (127, 7)\n"
     ]
    }
   ],
   "source": [
    "\n",
    "X_train=X_train_1.values\n",
    "X_test=X_test_1.values\n",
    "\n",
    "Y_train=Y_train_1.values\n",
    "Y_test=Y_test_1.values\n",
    "\n",
    "# reshape input to be 3D [samples, timesteps, features]\n",
    "X_test = X_test.reshape(X_test.shape[0], 1, X_test.shape[1])\n",
    "X_train = X_train.reshape(X_train.shape[0], 1, X_train.shape[1])\n",
    "\n",
    "print(X_test.shape, Y_test.shape, X_train.shape, Y_train.shape)\n"
   ]
  },
  {
   "cell_type": "code",
   "execution_count": 75,
   "metadata": {
    "colab": {
     "base_uri": "https://localhost:8080/",
     "height": 34
    },
    "colab_type": "code",
    "id": "eJREoCRk9QuY",
    "outputId": "a998e9cd-75f3-48f2-a0a1-e5d85fd10e71"
   },
   "outputs": [
    {
     "name": "stdout",
     "output_type": "stream",
     "text": [
      "(29, 1, 5) (29, 7) (127, 1, 5) (127, 7)\n"
     ]
    }
   ],
   "source": [
    "\n",
    "n_input = X_train.shape[1] * X_train.shape[2]\n",
    "X_train= X_train.reshape((X_train.shape[0], n_input))\n",
    "n_input2 = X_test.shape[1] * X_test.shape[2]\n",
    "X_test= X_test.reshape((X_test.shape[0], n_input2))\n",
    "'''\n",
    "print(X_test.shape, Y_test.shape, X_train.shape, Y_train.shape)"
   ]
  },
  {
   "cell_type": "code",
   "execution_count": 76,
   "metadata": {
    "colab": {},
    "colab_type": "code",
    "id": "ub47_80krKWx"
   },
   "outputs": [],
   "source": [
    "# evaluate one or more weekly forecasts against expected values\n",
    "def evaluate_forecasts(actual, predicted):\n",
    "\tscores = list()\n",
    "\t# calculate an RMSE score for each day\n",
    "\tfor i in range(actual.shape[1]):\n",
    "\t\t# calculate mse\n",
    "\t\tmse = mean_squared_error(actual[:, i], predicted[:, i])\n",
    "\t\t# calculate rmse\n",
    "\t\trmse = sqrt(mse)\n",
    "\t\t# store\n",
    "\t\tscores.append(rmse)\n",
    "\t# calculate overall RMSE\n",
    "\ts = 0\n",
    "\tfor row in range(actual.shape[0]):\n",
    "\t\tfor col in range(actual.shape[1]):\n",
    "\t\t\ts += (actual[row, col] - predicted[row, col])**2\n",
    "\tscore = sqrt(s / (actual.shape[0] * actual.shape[1]))\n",
    "\treturn score, scores"
   ]
  },
  {
   "cell_type": "code",
   "execution_count": 77,
   "metadata": {
    "colab": {},
    "colab_type": "code",
    "id": "NB-CCOIZrapK"
   },
   "outputs": [],
   "source": [
    "# summarize scores\n",
    "def summarize_scores(name, score, scores):\n",
    "\ts_scores = ', '.join(['%.1f' % s for s in scores])\n",
    "\tprint('%s: [%.3f] %s' % (name, score, s_scores))"
   ]
  },
  {
   "cell_type": "code",
   "execution_count": 78,
   "metadata": {
    "colab": {
     "base_uri": "https://localhost:8080/",
     "height": 51
    },
    "colab_type": "code",
    "id": "ZHOezS_-j1ZK",
    "outputId": "1e0f5db7-df72-4b06-9232-6cbbacba8f86"
   },
   "outputs": [
    {
     "data": {
      "text/plain": [
       "array([0.03961136, 0.03139014, 0.02242152, 0.        , 0.00298954,\n",
       "       0.00074738, 0.10538117], dtype=float32)"
      ]
     },
     "execution_count": 78,
     "metadata": {
      "tags": []
     },
     "output_type": "execute_result"
    }
   ],
   "source": [
    "Y_test[0]"
   ]
  },
  {
   "cell_type": "code",
   "execution_count": 79,
   "metadata": {
    "colab": {
     "base_uri": "https://localhost:8080/",
     "height": 1000
    },
    "colab_type": "code",
    "id": "FPUs6FDUj-kn",
    "outputId": "c5688814-7c45-47c7-8b18-9514c0f84509"
   },
   "outputs": [
    {
     "name": "stdout",
     "output_type": "stream",
     "text": [
      "(127, 1, 5)\n",
      "Epoch 1/1000\n",
      "127/127 [==============================] - 1s 9ms/step - loss: 0.0347 - val_loss: 0.1280\n",
      "Epoch 2/1000\n",
      "127/127 [==============================] - 1s 6ms/step - loss: 0.0235 - val_loss: 0.1072\n",
      "Epoch 3/1000\n",
      "127/127 [==============================] - 1s 6ms/step - loss: 0.0225 - val_loss: 0.0797\n",
      "Epoch 4/1000\n",
      "127/127 [==============================] - 1s 6ms/step - loss: 0.0219 - val_loss: 0.1198\n",
      "Epoch 5/1000\n",
      "127/127 [==============================] - 1s 6ms/step - loss: 0.0221 - val_loss: 0.0936\n",
      "Epoch 6/1000\n",
      "127/127 [==============================] - 1s 6ms/step - loss: 0.0223 - val_loss: 0.0795\n",
      "Epoch 7/1000\n",
      "127/127 [==============================] - 1s 5ms/step - loss: 0.0219 - val_loss: 0.0879\n",
      "Epoch 8/1000\n",
      "127/127 [==============================] - 1s 6ms/step - loss: 0.0220 - val_loss: 0.0610\n",
      "Epoch 9/1000\n",
      "127/127 [==============================] - 1s 6ms/step - loss: 0.0224 - val_loss: 0.0776\n",
      "Epoch 10/1000\n",
      "127/127 [==============================] - 1s 5ms/step - loss: 0.0218 - val_loss: 0.0689\n",
      "Epoch 11/1000\n",
      "127/127 [==============================] - 1s 5ms/step - loss: 0.0215 - val_loss: 0.0845\n",
      "Epoch 12/1000\n",
      "127/127 [==============================] - 1s 5ms/step - loss: 0.0210 - val_loss: 0.0853\n",
      "Epoch 13/1000\n",
      "127/127 [==============================] - 1s 6ms/step - loss: 0.0211 - val_loss: 0.1015\n",
      "Epoch 14/1000\n",
      "127/127 [==============================] - 1s 5ms/step - loss: 0.0212 - val_loss: 0.0800\n",
      "Epoch 15/1000\n",
      "127/127 [==============================] - 1s 6ms/step - loss: 0.0206 - val_loss: 0.0622\n",
      "Epoch 16/1000\n",
      "127/127 [==============================] - 1s 6ms/step - loss: 0.0206 - val_loss: 0.0839\n",
      "Epoch 17/1000\n",
      "127/127 [==============================] - 1s 6ms/step - loss: 0.0209 - val_loss: 0.0745\n",
      "Epoch 18/1000\n",
      "127/127 [==============================] - 1s 6ms/step - loss: 0.0204 - val_loss: 0.0805\n",
      "Epoch 19/1000\n",
      "127/127 [==============================] - 1s 6ms/step - loss: 0.0205 - val_loss: 0.0771\n",
      "Epoch 20/1000\n",
      "127/127 [==============================] - 1s 6ms/step - loss: 0.0201 - val_loss: 0.0984\n",
      "Epoch 21/1000\n",
      "127/127 [==============================] - 1s 6ms/step - loss: 0.0196 - val_loss: 0.0950\n",
      "Epoch 22/1000\n",
      "127/127 [==============================] - 1s 6ms/step - loss: 0.0200 - val_loss: 0.0938\n",
      "Epoch 23/1000\n",
      "127/127 [==============================] - 1s 6ms/step - loss: 0.0193 - val_loss: 0.1017\n",
      "Epoch 24/1000\n",
      "127/127 [==============================] - 1s 6ms/step - loss: 0.0193 - val_loss: 0.0985\n",
      "Epoch 25/1000\n",
      "127/127 [==============================] - 1s 5ms/step - loss: 0.0190 - val_loss: 0.1021\n",
      "Epoch 26/1000\n",
      "127/127 [==============================] - 1s 6ms/step - loss: 0.0182 - val_loss: 0.1045\n",
      "Epoch 27/1000\n",
      "127/127 [==============================] - 1s 6ms/step - loss: 0.0189 - val_loss: 0.1213\n",
      "Epoch 28/1000\n",
      "127/127 [==============================] - 1s 6ms/step - loss: 0.0187 - val_loss: 0.1091\n",
      "Model: \"sequential\"\n",
      "_________________________________________________________________\n",
      "Layer (type)                 Output Shape              Param #   \n",
      "=================================================================\n",
      "lstm (LSTM)                  (None, 1, 300)            367200    \n",
      "_________________________________________________________________\n",
      "lstm_1 (LSTM)                (None, 200)               400800    \n",
      "_________________________________________________________________\n",
      "dense (Dense)                (None, 7)                 1407      \n",
      "=================================================================\n",
      "Total params: 769,407\n",
      "Trainable params: 769,407\n",
      "Non-trainable params: 0\n",
      "_________________________________________________________________\n"
     ]
    },
    {
     "data": {
      "image/png": "[encoded data removed]",
      "text/plain": [
       "<Figure size 432x288 with 1 Axes>"
      ]
     },
     "metadata": {
      "needs_background": "light",
      "tags": []
     },
     "output_type": "display_data"
    },
    {
     "name": "stdout",
     "output_type": "stream",
     "text": [
      "(127, 7)\n",
      "(127, 7)\n",
      "(127, 7)\n",
      "score_train: [176.184] 162.2, 169.9, 175.4, 176.3, 177.4, 181.2, 189.6\n",
      "(29, 1, 5)\n",
      "score_test: [442.005] 407.2, 358.3, 221.4, 388.0, 560.3, 511.9, 545.7\n"
     ]
    }
   ],
   "source": [
    "from tensorflow.keras.callbacks import EarlyStopping\n",
    "\n",
    "print(X_train.shape)\n",
    "model = keras.Sequential()  \n",
    "model.add(LSTM(300, activation='relu',return_sequences=True, input_shape=(X_train.shape[1], X_train.shape[2])))\n",
    "model.add(LSTM(200, activation='relu'))\n",
    "#model.add(Dropout(0.2))\n",
    "model.add(Dense(n_out))\n",
    "model.compile(optimizer='adam', loss='mse')\n",
    "\n",
    "history = model.fit(X_train, Y_train, epochs=1000,batch_size=1, validation_data=(X_test[[0,7,14,21,28]], Y_test[[0,7,14,21,28]]), \n",
    "                callbacks=[EarlyStopping(monitor='val_loss', patience=20)], verbose=1)\n",
    "model.summary()\n",
    "# plot history\n",
    "pyplot.plot(history.history['loss'], label='train')\n",
    "pyplot.plot(history.history['val_loss'], label='test')\n",
    "pyplot.legend()\n",
    "pyplot.show()\n",
    "\n",
    "pred_train = model.predict(X_train)\n",
    "print(pred_train.shape)\n",
    "pred_train = pred_train.reshape(-1,n_out)\n",
    "\n",
    "print(Y_train.shape)\n",
    "print(pred_train.shape)\n",
    "score_train ,scores_train = evaluate_forecasts(scaler2.inverse_transform(Y_train) ,scaler2.inverse_transform(pred_train))\n",
    "summarize_scores('score_train', score_train, scores_train) \n",
    "\n",
    "print(X_test.shape)\n",
    "prediction = model.predict(X_test) \n",
    "prediction = prediction.reshape(-1, n_out)\n",
    "\n",
    "\n",
    "score_test ,scores_test = evaluate_forecasts(scaler2.inverse_transform(Y_test[[0,7,14,21,28]]) ,scaler2.inverse_transform(prediction[[0,7,14,21,28]]))\n",
    "summarize_scores('score_test', score_test, scores_test) \n"
   ]
  },
  {
   "cell_type": "code",
   "execution_count": 80,
   "metadata": {
    "colab": {
     "base_uri": "https://localhost:8080/",
     "height": 255
    },
    "colab_type": "code",
    "id": "O0JXetbKkUyO",
    "outputId": "9511e13c-9fb4-4f0c-ba3b-04df0dc190d6"
   },
   "outputs": [
    {
     "name": "stdout",
     "output_type": "stream",
     "text": [
      "Model: \"sequential\"\n",
      "_________________________________________________________________\n",
      "Layer (type)                 Output Shape              Param #   \n",
      "=================================================================\n",
      "lstm (LSTM)                  (None, 1, 300)            367200    \n",
      "_________________________________________________________________\n",
      "lstm_1 (LSTM)                (None, 200)               400800    \n",
      "_________________________________________________________________\n",
      "dense (Dense)                (None, 7)                 1407      \n",
      "=================================================================\n",
      "Total params: 769,407\n",
      "Trainable params: 769,407\n",
      "Non-trainable params: 0\n",
      "_________________________________________________________________\n"
     ]
    }
   ],
   "source": [
    "model.summary()"
   ]
  },
  {
   "cell_type": "code",
   "execution_count": 81,
   "metadata": {
    "colab": {
     "base_uri": "https://localhost:8080/",
     "height": 34
    },
    "colab_type": "code",
    "id": "o6Rka0jF9Qun",
    "outputId": "9ab8d02b-12c7-4bda-f23c-4d6645e93b24"
   },
   "outputs": [
    {
     "data": {
      "text/plain": [
       "(5, 7)"
      ]
     },
     "execution_count": 81,
     "metadata": {
      "tags": []
     },
     "output_type": "execute_result"
    }
   ],
   "source": [
    "from sklearn.metrics import mean_squared_error\n",
    "from sklearn.metrics import mean_absolute_error\n",
    "\n",
    "\n",
    "# make a prediction\n",
    "yhat = model.predict(X_test[[0,7,14,21,28]])\n",
    "yhat.shape "
   ]
  },
  {
   "cell_type": "code",
   "execution_count": 82,
   "metadata": {
    "colab": {},
    "colab_type": "code",
    "id": "CY6FfnRNkQEd"
   },
   "outputs": [],
   "source": [
    "yhat = yhat.reshape(-1, yhat.shape[-1])"
   ]
  },
  {
   "cell_type": "code",
   "execution_count": 83,
   "metadata": {
    "colab": {},
    "colab_type": "code",
    "id": "ATgV091YkhFP"
   },
   "outputs": [],
   "source": [
    "#yhat"
   ]
  },
  {
   "cell_type": "code",
   "execution_count": 84,
   "metadata": {
    "colab": {},
    "colab_type": "code",
    "id": "bRqbH081j3q4"
   },
   "outputs": [],
   "source": [
    "# invert scaling for forecast\n",
    "y_test_pred = scaler2.inverse_transform(yhat)\n",
    "#print(inv_yhat)\n",
    "# invert scaling for actual\n",
    "Y_test_true =Y_test[[0,7,14,21,28]]\n",
    "Y_test_true = Y_test_true.reshape(-1, Y_test_true.shape[-1])\n",
    "y_test_true= scaler2.inverse_transform(Y_test_true)\n",
    "#print(inv_y)"
   ]
  },
  {
   "cell_type": "code",
   "execution_count": 85,
   "metadata": {
    "colab": {
     "base_uri": "https://localhost:8080/",
     "height": 187
    },
    "colab_type": "code",
    "id": "EdfBSFCL6bR_",
    "outputId": "4cf75de6-ee66-4b77-e25f-de56b66cda99"
   },
   "outputs": [
    {
     "data": {
      "text/plain": [
       "DatetimeIndex(['2020-07-12', '2020-07-13', '2020-07-14', '2020-07-15',\n",
       "               '2020-07-16', '2020-07-17', '2020-07-18', '2020-07-19',\n",
       "               '2020-07-20', '2020-07-21', '2020-07-22', '2020-07-23',\n",
       "               '2020-07-24', '2020-07-25', '2020-07-26', '2020-07-27',\n",
       "               '2020-07-28', '2020-07-29', '2020-07-30', '2020-07-31',\n",
       "               '2020-08-01', '2020-08-02', '2020-08-03', '2020-08-04',\n",
       "               '2020-08-05', '2020-08-06', '2020-08-07', '2020-08-08',\n",
       "               '2020-08-09', '2020-08-10', '2020-08-11', '2020-08-12',\n",
       "               '2020-08-13', '2020-08-14', '2020-08-15'],\n",
       "              dtype='datetime64[ns]', name='timestamp', freq=None)"
      ]
     },
     "execution_count": 85,
     "metadata": {
      "tags": []
     },
     "output_type": "execute_result"
    }
   ],
   "source": [
    "days"
   ]
  },
  {
   "cell_type": "code",
   "execution_count": 86,
   "metadata": {
    "colab": {},
    "colab_type": "code",
    "id": "4M0t6w-y9Qu1"
   },
   "outputs": [],
   "source": [
    "test_res=pd.DataFrame()\n",
    "test_res['Prediction']=y_test_pred.flatten()[0:35]\n",
    "test_res['real']=y_test_true.flatten()[0:35]\n",
    "test_res.set_index(days,inplace=True)"
   ]
  },
  {
   "cell_type": "code",
   "execution_count": 87,
   "metadata": {
    "colab": {
     "base_uri": "https://localhost:8080/",
     "height": 1000
    },
    "colab_type": "code",
    "id": "WA9i7Thc9Qu6",
    "outputId": "06202c5a-d57d-463e-d985-53dfdc8e33e1"
   },
   "outputs": [
    {
     "data": {
      "text/html": [
       "<div>\n",
       "<style scoped>\n",
       "    .dataframe tbody tr th:only-of-type {\n",
       "        vertical-align: middle;\n",
       "    }\n",
       "\n",
       "    .dataframe tbody tr th {\n",
       "        vertical-align: top;\n",
       "    }\n",
       "\n",
       "    .dataframe thead th {\n",
       "        text-align: right;\n",
       "    }\n",
       "</style>\n",
       "<table border=\"1\" class=\"dataframe\">\n",
       "  <thead>\n",
       "    <tr style=\"text-align: right;\">\n",
       "      <th></th>\n",
       "      <th>Prediction</th>\n",
       "      <th>real</th>\n",
       "    </tr>\n",
       "    <tr>\n",
       "      <th>timestamp</th>\n",
       "      <th></th>\n",
       "      <th></th>\n",
       "    </tr>\n",
       "  </thead>\n",
       "  <tbody>\n",
       "    <tr>\n",
       "      <th>2020-07-12</th>\n",
       "      <td>219.630325</td>\n",
       "      <td>214.000000</td>\n",
       "    </tr>\n",
       "    <tr>\n",
       "      <th>2020-07-13</th>\n",
       "      <td>221.857330</td>\n",
       "      <td>203.000015</td>\n",
       "    </tr>\n",
       "    <tr>\n",
       "      <th>2020-07-14</th>\n",
       "      <td>221.011398</td>\n",
       "      <td>190.999985</td>\n",
       "    </tr>\n",
       "    <tr>\n",
       "      <th>2020-07-15</th>\n",
       "      <td>234.962982</td>\n",
       "      <td>161.000000</td>\n",
       "    </tr>\n",
       "    <tr>\n",
       "      <th>2020-07-16</th>\n",
       "      <td>249.481796</td>\n",
       "      <td>165.000000</td>\n",
       "    </tr>\n",
       "    <tr>\n",
       "      <th>2020-07-17</th>\n",
       "      <td>249.457047</td>\n",
       "      <td>162.000000</td>\n",
       "    </tr>\n",
       "    <tr>\n",
       "      <th>2020-07-18</th>\n",
       "      <td>259.742432</td>\n",
       "      <td>302.000000</td>\n",
       "    </tr>\n",
       "    <tr>\n",
       "      <th>2020-07-19</th>\n",
       "      <td>274.591400</td>\n",
       "      <td>289.000000</td>\n",
       "    </tr>\n",
       "    <tr>\n",
       "      <th>2020-07-20</th>\n",
       "      <td>287.733673</td>\n",
       "      <td>220.999985</td>\n",
       "    </tr>\n",
       "    <tr>\n",
       "      <th>2020-07-21</th>\n",
       "      <td>290.380951</td>\n",
       "      <td>326.000000</td>\n",
       "    </tr>\n",
       "    <tr>\n",
       "      <th>2020-07-22</th>\n",
       "      <td>310.395508</td>\n",
       "      <td>180.000000</td>\n",
       "    </tr>\n",
       "    <tr>\n",
       "      <th>2020-07-23</th>\n",
       "      <td>312.081543</td>\n",
       "      <td>220.000000</td>\n",
       "    </tr>\n",
       "    <tr>\n",
       "      <th>2020-07-24</th>\n",
       "      <td>312.521729</td>\n",
       "      <td>302.000000</td>\n",
       "    </tr>\n",
       "    <tr>\n",
       "      <th>2020-07-25</th>\n",
       "      <td>318.946472</td>\n",
       "      <td>570.000000</td>\n",
       "    </tr>\n",
       "    <tr>\n",
       "      <th>2020-07-26</th>\n",
       "      <td>355.227203</td>\n",
       "      <td>811.000061</td>\n",
       "    </tr>\n",
       "    <tr>\n",
       "      <th>2020-07-27</th>\n",
       "      <td>360.384308</td>\n",
       "      <td>633.000000</td>\n",
       "    </tr>\n",
       "    <tr>\n",
       "      <th>2020-07-28</th>\n",
       "      <td>358.839142</td>\n",
       "      <td>609.000000</td>\n",
       "    </tr>\n",
       "    <tr>\n",
       "      <th>2020-07-29</th>\n",
       "      <td>387.394867</td>\n",
       "      <td>499.999969</td>\n",
       "    </tr>\n",
       "    <tr>\n",
       "      <th>2020-07-30</th>\n",
       "      <td>399.494812</td>\n",
       "      <td>826.000000</td>\n",
       "    </tr>\n",
       "    <tr>\n",
       "      <th>2020-07-31</th>\n",
       "      <td>394.727173</td>\n",
       "      <td>1046.000000</td>\n",
       "    </tr>\n",
       "    <tr>\n",
       "      <th>2020-08-01</th>\n",
       "      <td>383.281067</td>\n",
       "      <td>1063.000000</td>\n",
       "    </tr>\n",
       "    <tr>\n",
       "      <th>2020-08-02</th>\n",
       "      <td>513.922974</td>\n",
       "      <td>693.000061</td>\n",
       "    </tr>\n",
       "    <tr>\n",
       "      <th>2020-08-03</th>\n",
       "      <td>418.761017</td>\n",
       "      <td>522.000000</td>\n",
       "    </tr>\n",
       "    <tr>\n",
       "      <th>2020-08-04</th>\n",
       "      <td>399.265320</td>\n",
       "      <td>659.000000</td>\n",
       "    </tr>\n",
       "    <tr>\n",
       "      <th>2020-08-05</th>\n",
       "      <td>432.883850</td>\n",
       "      <td>1021.000000</td>\n",
       "    </tr>\n",
       "    <tr>\n",
       "      <th>2020-08-06</th>\n",
       "      <td>533.523743</td>\n",
       "      <td>1283.000000</td>\n",
       "    </tr>\n",
       "    <tr>\n",
       "      <th>2020-08-07</th>\n",
       "      <td>497.950653</td>\n",
       "      <td>1144.000000</td>\n",
       "    </tr>\n",
       "    <tr>\n",
       "      <th>2020-08-08</th>\n",
       "      <td>434.614807</td>\n",
       "      <td>1018.000000</td>\n",
       "    </tr>\n",
       "    <tr>\n",
       "      <th>2020-08-09</th>\n",
       "      <td>577.460938</td>\n",
       "      <td>1345.000122</td>\n",
       "    </tr>\n",
       "    <tr>\n",
       "      <th>2020-08-10</th>\n",
       "      <td>487.005066</td>\n",
       "      <td>1230.000000</td>\n",
       "    </tr>\n",
       "    <tr>\n",
       "      <th>2020-08-11</th>\n",
       "      <td>489.943939</td>\n",
       "      <td>826.000000</td>\n",
       "    </tr>\n",
       "    <tr>\n",
       "      <th>2020-08-12</th>\n",
       "      <td>522.438416</td>\n",
       "      <td>1132.000000</td>\n",
       "    </tr>\n",
       "    <tr>\n",
       "      <th>2020-08-13</th>\n",
       "      <td>598.619019</td>\n",
       "      <td>1499.000122</td>\n",
       "    </tr>\n",
       "    <tr>\n",
       "      <th>2020-08-14</th>\n",
       "      <td>562.220520</td>\n",
       "      <td>1241.000000</td>\n",
       "    </tr>\n",
       "    <tr>\n",
       "      <th>2020-08-15</th>\n",
       "      <td>517.303528</td>\n",
       "      <td>1306.000000</td>\n",
       "    </tr>\n",
       "  </tbody>\n",
       "</table>\n",
       "</div>"
      ],
      "text/plain": [
       "            Prediction         real\n",
       "timestamp                          \n",
       "2020-07-12  219.630325   214.000000\n",
       "2020-07-13  221.857330   203.000015\n",
       "2020-07-14  221.011398   190.999985\n",
       "2020-07-15  234.962982   161.000000\n",
       "2020-07-16  249.481796   165.000000\n",
       "2020-07-17  249.457047   162.000000\n",
       "2020-07-18  259.742432   302.000000\n",
       "2020-07-19  274.591400   289.000000\n",
       "2020-07-20  287.733673   220.999985\n",
       "2020-07-21  290.380951   326.000000\n",
       "2020-07-22  310.395508   180.000000\n",
       "2020-07-23  312.081543   220.000000\n",
       "2020-07-24  312.521729   302.000000\n",
       "2020-07-25  318.946472   570.000000\n",
       "2020-07-26  355.227203   811.000061\n",
       "2020-07-27  360.384308   633.000000\n",
       "2020-07-28  358.839142   609.000000\n",
       "2020-07-29  387.394867   499.999969\n",
       "2020-07-30  399.494812   826.000000\n",
       "2020-07-31  394.727173  1046.000000\n",
       "2020-08-01  383.281067  1063.000000\n",
       "2020-08-02  513.922974   693.000061\n",
       "2020-08-03  418.761017   522.000000\n",
       "2020-08-04  399.265320   659.000000\n",
       "2020-08-05  432.883850  1021.000000\n",
       "2020-08-06  533.523743  1283.000000\n",
       "2020-08-07  497.950653  1144.000000\n",
       "2020-08-08  434.614807  1018.000000\n",
       "2020-08-09  577.460938  1345.000122\n",
       "2020-08-10  487.005066  1230.000000\n",
       "2020-08-11  489.943939   826.000000\n",
       "2020-08-12  522.438416  1132.000000\n",
       "2020-08-13  598.619019  1499.000122\n",
       "2020-08-14  562.220520  1241.000000\n",
       "2020-08-15  517.303528  1306.000000"
      ]
     },
     "execution_count": 87,
     "metadata": {
      "tags": []
     },
     "output_type": "execute_result"
    }
   ],
   "source": [
    "test_res"
   ]
  },
  {
   "cell_type": "code",
   "execution_count": 88,
   "metadata": {
    "colab": {
     "base_uri": "https://localhost:8080/",
     "height": 418
    },
    "colab_type": "code",
    "id": "d1pT_ju99QvG",
    "outputId": "25c2c8f6-25a3-4baf-90b9-f5a9e1a03203"
   },
   "outputs": [
    {
     "data": {
      "image/png": "[encoded data removed]",
      "text/plain": [
       "<Figure size 1080x504 with 1 Axes>"
      ]
     },
     "metadata": {
      "needs_background": "light",
      "tags": []
     },
     "output_type": "display_data"
    }
   ],
   "source": [
    "\n",
    "import pandas as pd\n",
    "import numpy as np; np.random.seed(1)\n",
    "import matplotlib.pyplot as plt\n",
    "\n",
    "fig, ax = plt.subplots(figsize=(15,7))\n",
    "plt.plot(test_res.index, test_res['real'],  label='Actual Values')\n",
    "plt.plot(test_res.index, test_res['Prediction'], label='Predicted Values')\n",
    "# If you don't like the break in the graph, change 90 to 89 in the above line\n",
    "plt.gcf().autofmt_xdate()\n",
    "plt.legend()\n",
    "plt.show()\n",
    "\n",
    "\n"
   ]
  },
  {
   "cell_type": "code",
   "execution_count": 89,
   "metadata": {
    "colab": {
     "base_uri": "https://localhost:8080/",
     "height": 119
    },
    "colab_type": "code",
    "id": "Yinhn68bce83",
    "outputId": "fc672bfb-6280-4024-f81b-f776fb06c38d"
   },
   "outputs": [
    {
     "name": "stdout",
     "output_type": "stream",
     "text": [
      "Test Metrics\n",
      "MSE: 195368.55\n",
      "RMSE: 442.01\n",
      "MAE: 335.01\n",
      "R Squared: -0.09\n",
      "Max Error: 900.38\n"
     ]
    }
   ],
   "source": [
    "import numpy as np \n",
    "from sklearn import metrics\n",
    "print('Test Metrics')\n",
    "print('MSE:', round(metrics.mean_squared_error(test_res['real'], test_res['Prediction']), 2))\n",
    "print('RMSE:',round( np.sqrt(metrics.mean_squared_error(test_res['real'], test_res['Prediction'])), 2))\n",
    "print('MAE:', round(metrics.mean_absolute_error(test_res['real'], test_res['Prediction']), 2))\n",
    "print('R Squared:', round( metrics.r2_score(test_res['real'], test_res['Prediction']), 2))\n",
    "print('Max Error:',round(  metrics.max_error(test_res['real'], test_res['Prediction']), 2))\n"
   ]
  },
  {
   "cell_type": "code",
   "execution_count": 90,
   "metadata": {
    "colab": {
     "base_uri": "https://localhost:8080/",
     "height": 34
    },
    "colab_type": "code",
    "id": "7ar1xh7-3-Oa",
    "outputId": "49b57341-c663-4dce-df4d-7e7fdff971a5"
   },
   "outputs": [
    {
     "data": {
      "text/plain": [
       "(127, 7)"
      ]
     },
     "execution_count": 90,
     "metadata": {
      "tags": []
     },
     "output_type": "execute_result"
    }
   ],
   "source": [
    "# make a prediction\n",
    "y_train_pred = model.predict(X_train)\n",
    "y_train_pred .shape"
   ]
  },
  {
   "cell_type": "code",
   "execution_count": 91,
   "metadata": {
    "colab": {
     "base_uri": "https://localhost:8080/",
     "height": 34
    },
    "colab_type": "code",
    "id": "2bt8X-nT4UPx",
    "outputId": "533afdc4-87b9-403b-bc36-ae2abf424c72"
   },
   "outputs": [
    {
     "data": {
      "text/plain": [
       "(127, 7)"
      ]
     },
     "execution_count": 91,
     "metadata": {
      "tags": []
     },
     "output_type": "execute_result"
    }
   ],
   "source": [
    "y_train_pred = y_train_pred.reshape(y_train_pred.shape[0], y_train_pred.shape[1])\n",
    "y_train_pred.shape"
   ]
  },
  {
   "cell_type": "code",
   "execution_count": 92,
   "metadata": {
    "colab": {},
    "colab_type": "code",
    "id": "8fqgcl4LaD3K"
   },
   "outputs": [],
   "source": [
    "\n",
    "# invert scaling for forecast\n",
    "\n",
    "y_train_pred = scaler2.inverse_transform(y_train_pred)\n",
    "Y_train_true = Y_train.reshape((len(Y_train), n_out))\n",
    "\n",
    "y_train_real = scaler2.inverse_transform(Y_train_true )"
   ]
  },
  {
   "cell_type": "code",
   "execution_count": 93,
   "metadata": {
    "colab": {},
    "colab_type": "code",
    "id": "gMyemZvlBLLR"
   },
   "outputs": [],
   "source": [
    "\n",
    "# Flatten for final errors\n",
    "Y_train_pred_bis = y_train_pred.flatten()\n",
    "Y_train_real_bis = y_train_real.flatten()"
   ]
  },
  {
   "cell_type": "code",
   "execution_count": 94,
   "metadata": {
    "colab": {
     "base_uri": "https://localhost:8080/",
     "height": 51
    },
    "colab_type": "code",
    "id": "iASDypR9BjEx",
    "outputId": "471b5bca-c443-4dd5-cf05-38f4a95e1170"
   },
   "outputs": [
    {
     "data": {
      "text/plain": [
       "array([205.40662, 187.12167, 187.27599, 196.30402, 214.47162, 213.03151,\n",
       "       231.89828], dtype=float32)"
      ]
     },
     "execution_count": 94,
     "metadata": {
      "tags": []
     },
     "output_type": "execute_result"
    }
   ],
   "source": [
    "y_train_pred[0]"
   ]
  },
  {
   "cell_type": "code",
   "execution_count": 95,
   "metadata": {
    "colab": {},
    "colab_type": "code",
    "id": "d8xsDUPiBQZw"
   },
   "outputs": [],
   "source": [
    "#For plot \n",
    "filter_indices = [0,5,11,17,23,29,35,41,47,53,59]\n",
    "y_train_pred = y_train_pred [filter_indices ]"
   ]
  },
  {
   "cell_type": "code",
   "execution_count": 96,
   "metadata": {
    "colab": {},
    "colab_type": "code",
    "id": "vlpVvivQBNIj"
   },
   "outputs": [],
   "source": [
    "# Part of train dataset\n",
    "y_train_real= y_train_real[filter_indices]\n",
    "Y_train_pred = y_train_pred.flatten()\n",
    "Y_train_real = y_train_real.flatten()"
   ]
  },
  {
   "cell_type": "code",
   "execution_count": 97,
   "metadata": {
    "colab": {
     "base_uri": "https://localhost:8080/",
     "height": 34
    },
    "colab_type": "code",
    "id": "wVL4cb5FbOYU",
    "outputId": "54ba6faf-ca4e-46ca-89b6-0a63fb5cef71"
   },
   "outputs": [
    {
     "data": {
      "text/plain": [
       "(127, 1, 5)"
      ]
     },
     "execution_count": 97,
     "metadata": {
      "tags": []
     },
     "output_type": "execute_result"
    }
   ],
   "source": [
    "mask = (df['date'] >= start_date) & (df['date'] <= end_date) &  (df['location'].isin(['Morocco']))\n",
    "date_train = df.loc[mask].date.sort_index(axis = 0) \n",
    "X_train.shape"
   ]
  },
  {
   "cell_type": "code",
   "execution_count": 98,
   "metadata": {
    "colab": {
     "base_uri": "https://localhost:8080/",
     "height": 153
    },
    "colab_type": "code",
    "id": "BVGITNMNCkOx",
    "outputId": "baac9ea4-90a8-4081-c9e7-e69934f6d8c3"
   },
   "outputs": [
    {
     "data": {
      "text/plain": [
       "23974   2020-03-02\n",
       "23975   2020-03-03\n",
       "23976   2020-03-04\n",
       "23977   2020-03-05\n",
       "23978   2020-03-06\n",
       "23979   2020-03-07\n",
       "23980   2020-03-08\n",
       "Name: date, dtype: datetime64[ns]"
      ]
     },
     "execution_count": 98,
     "metadata": {
      "tags": []
     },
     "output_type": "execute_result"
    }
   ],
   "source": [
    "date_train.head(7)"
   ]
  },
  {
   "cell_type": "code",
   "execution_count": 99,
   "metadata": {
    "colab": {
     "base_uri": "https://localhost:8080/",
     "height": 34
    },
    "colab_type": "code",
    "id": "p4vhRCj1dp_d",
    "outputId": "6c944b9d-61f6-481b-9a38-7746a4fbec69"
   },
   "outputs": [
    {
     "data": {
      "text/plain": [
       "133"
      ]
     },
     "execution_count": 99,
     "metadata": {
      "tags": []
     },
     "output_type": "execute_result"
    }
   ],
   "source": [
    "taille_x = date_train.shape[0] - nb_seq\n",
    "taille_x "
   ]
  },
  {
   "cell_type": "code",
   "execution_count": 100,
   "metadata": {
    "colab": {},
    "colab_type": "code",
    "id": "RyiMOEmybx2V"
   },
   "outputs": [],
   "source": [
    "date_train = date_train.values.flatten()"
   ]
  },
  {
   "cell_type": "code",
   "execution_count": 101,
   "metadata": {
    "colab": {},
    "colab_type": "code",
    "id": "Gxq3TvRLcFSh"
   },
   "outputs": [],
   "source": [
    "prediction_train = pd.DataFrame(columns=['date_to_prediction','true_value','predict'])"
   ]
  },
  {
   "cell_type": "code",
   "execution_count": 102,
   "metadata": {
    "colab": {
     "base_uri": "https://localhost:8080/",
     "height": 34
    },
    "colab_type": "code",
    "id": "eiKGrG4Ii6en",
    "outputId": "6343ebcd-734b-4f1a-90cb-c9467001eb38"
   },
   "outputs": [
    {
     "data": {
      "text/plain": [
       "(77,)"
      ]
     },
     "execution_count": 102,
     "metadata": {
      "tags": []
     },
     "output_type": "execute_result"
    }
   ],
   "source": [
    "Y_train_pred.shape"
   ]
  },
  {
   "cell_type": "code",
   "execution_count": 103,
   "metadata": {
    "colab": {
     "base_uri": "https://localhost:8080/",
     "height": 34
    },
    "colab_type": "code",
    "id": "0LQJBwfPjN_2",
    "outputId": "0ed68c54-c166-45a1-de2d-e03556ac6750"
   },
   "outputs": [
    {
     "data": {
      "text/plain": [
       "(77,)"
      ]
     },
     "execution_count": 103,
     "metadata": {
      "tags": []
     },
     "output_type": "execute_result"
    }
   ],
   "source": [
    "Y_train_real.shape"
   ]
  },
  {
   "cell_type": "code",
   "execution_count": 104,
   "metadata": {
    "colab": {
     "base_uri": "https://localhost:8080/",
     "height": 34
    },
    "colab_type": "code",
    "id": "uycdPz5Yjevr",
    "outputId": "f4f5ba74-0909-46cc-ac32-8ae8698502b6"
   },
   "outputs": [
    {
     "data": {
      "text/plain": [
       "(134,)"
      ]
     },
     "execution_count": 104,
     "metadata": {
      "tags": []
     },
     "output_type": "execute_result"
    }
   ],
   "source": [
    "date_train.shape"
   ]
  },
  {
   "cell_type": "code",
   "execution_count": 105,
   "metadata": {
    "colab": {
     "base_uri": "https://localhost:8080/",
     "height": 34
    },
    "colab_type": "code",
    "id": "73zLQfJI8gJS",
    "outputId": "67c5db7c-771a-4a6f-a3a4-c112db74824e"
   },
   "outputs": [
    {
     "data": {
      "text/plain": [
       "(133,)"
      ]
     },
     "execution_count": 105,
     "metadata": {
      "tags": []
     },
     "output_type": "execute_result"
    }
   ],
   "source": [
    "date_train[nb_seq:].shape"
   ]
  },
  {
   "cell_type": "code",
   "execution_count": 106,
   "metadata": {
    "colab": {
     "base_uri": "https://localhost:8080/",
     "height": 34
    },
    "colab_type": "code",
    "id": "Qwj36E7E1UdD",
    "outputId": "bea1d9ba-529b-463a-f9da-8e641ee9dd13"
   },
   "outputs": [
    {
     "data": {
      "text/plain": [
       "-56"
      ]
     },
     "execution_count": 106,
     "metadata": {
      "tags": []
     },
     "output_type": "execute_result"
    }
   ],
   "source": [
    "suite_size = Y_train_real.shape[0]- date_train[nb_seq:].shape[0]\n",
    "suite_size "
   ]
  },
  {
   "cell_type": "code",
   "execution_count": 107,
   "metadata": {
    "colab": {
     "base_uri": "https://localhost:8080/",
     "height": 34
    },
    "colab_type": "code",
    "id": "Mazim5ta2d0m",
    "outputId": "ff9aceb0-bafe-4576-dfcc-ba4fb31bb7f8"
   },
   "outputs": [
    {
     "data": {
      "text/plain": [
       "(56,)"
      ]
     },
     "execution_count": 107,
     "metadata": {
      "tags": []
     },
     "output_type": "execute_result"
    }
   ],
   "source": [
    "Y_train_real[:-suite_size].shape"
   ]
  },
  {
   "cell_type": "code",
   "execution_count": 108,
   "metadata": {
    "colab": {
     "base_uri": "https://localhost:8080/",
     "height": 34
    },
    "colab_type": "code",
    "id": "KZdJEoPB61IL",
    "outputId": "cde1b798-6924-4573-9d90-7abaff269fef"
   },
   "outputs": [
    {
     "data": {
      "text/plain": [
       "(133,)"
      ]
     },
     "execution_count": 108,
     "metadata": {
      "tags": []
     },
     "output_type": "execute_result"
    }
   ],
   "source": [
    "date_train[nb_seq:].shape"
   ]
  },
  {
   "cell_type": "code",
   "execution_count": 109,
   "metadata": {
    "colab": {
     "base_uri": "https://localhost:8080/",
     "height": 34
    },
    "colab_type": "code",
    "id": "TAxKWC6-66LL",
    "outputId": "4e39c20b-428e-446c-85bc-5adf9d09337c"
   },
   "outputs": [
    {
     "data": {
      "text/plain": [
       "(56,)"
      ]
     },
     "execution_count": 109,
     "metadata": {
      "tags": []
     },
     "output_type": "execute_result"
    }
   ],
   "source": [
    "Y_train_pred[:-suite_size].shape"
   ]
  },
  {
   "cell_type": "code",
   "execution_count": 110,
   "metadata": {
    "colab": {
     "base_uri": "https://localhost:8080/",
     "height": 34
    },
    "colab_type": "code",
    "id": "o--CWWcb69x4",
    "outputId": "c40c1abd-1e28-4115-a898-14ed37804c67"
   },
   "outputs": [
    {
     "data": {
      "text/plain": [
       "(56,)"
      ]
     },
     "execution_count": 110,
     "metadata": {
      "tags": []
     },
     "output_type": "execute_result"
    }
   ],
   "source": [
    "Y_train_real[:-suite_size].shape"
   ]
  },
  {
   "cell_type": "code",
   "execution_count": 111,
   "metadata": {
    "colab": {},
    "colab_type": "code",
    "id": "QjaDIQYGTMOh"
   },
   "outputs": [],
   "source": [
    "date_trainX = date_train[nb_seq:]"
   ]
  },
  {
   "cell_type": "code",
   "execution_count": 112,
   "metadata": {
    "colab": {
     "base_uri": "https://localhost:8080/",
     "height": 34
    },
    "colab_type": "code",
    "id": "4POl8PunTixf",
    "outputId": "85d7542c-b2bb-44c8-d026-3465ec343440"
   },
   "outputs": [
    {
     "data": {
      "text/plain": [
       "(77,)"
      ]
     },
     "execution_count": 112,
     "metadata": {
      "tags": []
     },
     "output_type": "execute_result"
    }
   ],
   "source": [
    "date_trainX[0:Y_train_pred.shape[0]].shape"
   ]
  },
  {
   "cell_type": "code",
   "execution_count": 113,
   "metadata": {
    "colab": {},
    "colab_type": "code",
    "id": "qTkkDa2AZC9n"
   },
   "outputs": [],
   "source": [
    "prediction_train['date_to_prediction'] = date_trainX[0:Y_train_pred.shape[0]]\n",
    "prediction_train['predict'] = Y_train_pred\n",
    "prediction_train['true_value'] = Y_train_real\n"
   ]
  },
  {
   "cell_type": "code",
   "execution_count": 114,
   "metadata": {
    "colab": {},
    "colab_type": "code",
    "id": "BGidw3_SgNwa"
   },
   "outputs": [],
   "source": [
    "prediction_train['date_to_prediction'] = pd.to_datetime(prediction_train['date_to_prediction'], infer_datetime_format=True)"
   ]
  },
  {
   "cell_type": "code",
   "execution_count": 115,
   "metadata": {
    "colab": {},
    "colab_type": "code",
    "id": "-ZPGwmwagGDF"
   },
   "outputs": [],
   "source": [
    "prediction_train.set_index('date_to_prediction',inplace=True)"
   ]
  },
  {
   "cell_type": "code",
   "execution_count": 116,
   "metadata": {
    "colab": {
     "base_uri": "https://localhost:8080/",
     "height": 700
    },
    "colab_type": "code",
    "id": "dkR4xh_Wfr4z",
    "outputId": "eef37fa9-9a78-4e77-f3d1-8f6c546310d9"
   },
   "outputs": [
    {
     "data": {
      "text/html": [
       "<div>\n",
       "<style scoped>\n",
       "    .dataframe tbody tr th:only-of-type {\n",
       "        vertical-align: middle;\n",
       "    }\n",
       "\n",
       "    .dataframe tbody tr th {\n",
       "        vertical-align: top;\n",
       "    }\n",
       "\n",
       "    .dataframe thead th {\n",
       "        text-align: right;\n",
       "    }\n",
       "</style>\n",
       "<table border=\"1\" class=\"dataframe\">\n",
       "  <thead>\n",
       "    <tr style=\"text-align: right;\">\n",
       "      <th></th>\n",
       "      <th>true_value</th>\n",
       "      <th>predict</th>\n",
       "    </tr>\n",
       "    <tr>\n",
       "      <th>date_to_prediction</th>\n",
       "      <th></th>\n",
       "      <th></th>\n",
       "    </tr>\n",
       "  </thead>\n",
       "  <tbody>\n",
       "    <tr>\n",
       "      <th>2020-03-03</th>\n",
       "      <td>163.080872</td>\n",
       "      <td>205.406616</td>\n",
       "    </tr>\n",
       "    <tr>\n",
       "      <th>2020-03-04</th>\n",
       "      <td>175.566101</td>\n",
       "      <td>187.121674</td>\n",
       "    </tr>\n",
       "    <tr>\n",
       "      <th>2020-03-05</th>\n",
       "      <td>175.566101</td>\n",
       "      <td>187.275986</td>\n",
       "    </tr>\n",
       "    <tr>\n",
       "      <th>2020-03-06</th>\n",
       "      <td>163.080872</td>\n",
       "      <td>196.304016</td>\n",
       "    </tr>\n",
       "    <tr>\n",
       "      <th>2020-03-07</th>\n",
       "      <td>175.566101</td>\n",
       "      <td>214.471619</td>\n",
       "    </tr>\n",
       "    <tr>\n",
       "      <th>2020-03-08</th>\n",
       "      <td>175.566101</td>\n",
       "      <td>213.031509</td>\n",
       "    </tr>\n",
       "    <tr>\n",
       "      <th>2020-03-09</th>\n",
       "      <td>175.566101</td>\n",
       "      <td>231.898285</td>\n",
       "    </tr>\n",
       "    <tr>\n",
       "      <th>2020-03-10</th>\n",
       "      <td>175.566101</td>\n",
       "      <td>205.406616</td>\n",
       "    </tr>\n",
       "    <tr>\n",
       "      <th>2020-03-11</th>\n",
       "      <td>175.566101</td>\n",
       "      <td>187.121674</td>\n",
       "    </tr>\n",
       "    <tr>\n",
       "      <th>2020-03-12</th>\n",
       "      <td>175.566101</td>\n",
       "      <td>187.275986</td>\n",
       "    </tr>\n",
       "    <tr>\n",
       "      <th>2020-03-13</th>\n",
       "      <td>175.566101</td>\n",
       "      <td>196.304016</td>\n",
       "    </tr>\n",
       "    <tr>\n",
       "      <th>2020-03-14</th>\n",
       "      <td>167.242615</td>\n",
       "      <td>214.471619</td>\n",
       "    </tr>\n",
       "    <tr>\n",
       "      <th>2020-03-15</th>\n",
       "      <td>163.080872</td>\n",
       "      <td>213.031509</td>\n",
       "    </tr>\n",
       "    <tr>\n",
       "      <th>2020-03-16</th>\n",
       "      <td>163.080872</td>\n",
       "      <td>231.898285</td>\n",
       "    </tr>\n",
       "    <tr>\n",
       "      <th>2020-03-17</th>\n",
       "      <td>163.080872</td>\n",
       "      <td>193.934311</td>\n",
       "    </tr>\n",
       "    <tr>\n",
       "      <th>2020-03-18</th>\n",
       "      <td>183.889587</td>\n",
       "      <td>176.739349</td>\n",
       "    </tr>\n",
       "    <tr>\n",
       "      <th>2020-03-19</th>\n",
       "      <td>181.808701</td>\n",
       "      <td>176.630661</td>\n",
       "    </tr>\n",
       "    <tr>\n",
       "      <th>2020-03-20</th>\n",
       "      <td>179.727844</td>\n",
       "      <td>184.416107</td>\n",
       "    </tr>\n",
       "    <tr>\n",
       "      <th>2020-03-21</th>\n",
       "      <td>175.566101</td>\n",
       "      <td>203.130554</td>\n",
       "    </tr>\n",
       "    <tr>\n",
       "      <th>2020-03-22</th>\n",
       "      <td>181.808701</td>\n",
       "      <td>202.988541</td>\n",
       "    </tr>\n",
       "  </tbody>\n",
       "</table>\n",
       "</div>"
      ],
      "text/plain": [
       "                    true_value     predict\n",
       "date_to_prediction                        \n",
       "2020-03-03          163.080872  205.406616\n",
       "2020-03-04          175.566101  187.121674\n",
       "2020-03-05          175.566101  187.275986\n",
       "2020-03-06          163.080872  196.304016\n",
       "2020-03-07          175.566101  214.471619\n",
       "2020-03-08          175.566101  213.031509\n",
       "2020-03-09          175.566101  231.898285\n",
       "2020-03-10          175.566101  205.406616\n",
       "2020-03-11          175.566101  187.121674\n",
       "2020-03-12          175.566101  187.275986\n",
       "2020-03-13          175.566101  196.304016\n",
       "2020-03-14          167.242615  214.471619\n",
       "2020-03-15          163.080872  213.031509\n",
       "2020-03-16          163.080872  231.898285\n",
       "2020-03-17          163.080872  193.934311\n",
       "2020-03-18          183.889587  176.739349\n",
       "2020-03-19          181.808701  176.630661\n",
       "2020-03-20          179.727844  184.416107\n",
       "2020-03-21          175.566101  203.130554\n",
       "2020-03-22          181.808701  202.988541"
      ]
     },
     "execution_count": 116,
     "metadata": {
      "tags": []
     },
     "output_type": "execute_result"
    }
   ],
   "source": [
    "prediction_train.head(20)"
   ]
  },
  {
   "cell_type": "code",
   "execution_count": 117,
   "metadata": {
    "colab": {
     "base_uri": "https://localhost:8080/",
     "height": 390
    },
    "colab_type": "code",
    "id": "qrAAcYr1kJDS",
    "outputId": "d608eed9-e655-432d-d602-584166933579"
   },
   "outputs": [
    {
     "data": {
      "text/html": [
       "<div>\n",
       "<style scoped>\n",
       "    .dataframe tbody tr th:only-of-type {\n",
       "        vertical-align: middle;\n",
       "    }\n",
       "\n",
       "    .dataframe tbody tr th {\n",
       "        vertical-align: top;\n",
       "    }\n",
       "\n",
       "    .dataframe thead th {\n",
       "        text-align: right;\n",
       "    }\n",
       "</style>\n",
       "<table border=\"1\" class=\"dataframe\">\n",
       "  <thead>\n",
       "    <tr style=\"text-align: right;\">\n",
       "      <th></th>\n",
       "      <th>true_value</th>\n",
       "      <th>predict</th>\n",
       "    </tr>\n",
       "    <tr>\n",
       "      <th>date_to_prediction</th>\n",
       "      <th></th>\n",
       "      <th></th>\n",
       "    </tr>\n",
       "  </thead>\n",
       "  <tbody>\n",
       "    <tr>\n",
       "      <th>2020-05-09</th>\n",
       "      <td>435.674957</td>\n",
       "      <td>526.621094</td>\n",
       "    </tr>\n",
       "    <tr>\n",
       "      <th>2020-05-10</th>\n",
       "      <td>304.580078</td>\n",
       "      <td>521.593445</td>\n",
       "    </tr>\n",
       "    <tr>\n",
       "      <th>2020-05-11</th>\n",
       "      <td>373.248840</td>\n",
       "      <td>540.641296</td>\n",
       "    </tr>\n",
       "    <tr>\n",
       "      <th>2020-05-12</th>\n",
       "      <td>373.248840</td>\n",
       "      <td>375.898438</td>\n",
       "    </tr>\n",
       "    <tr>\n",
       "      <th>2020-05-13</th>\n",
       "      <td>464.807190</td>\n",
       "      <td>385.028778</td>\n",
       "    </tr>\n",
       "    <tr>\n",
       "      <th>2020-05-14</th>\n",
       "      <td>493.939331</td>\n",
       "      <td>395.959656</td>\n",
       "    </tr>\n",
       "    <tr>\n",
       "      <th>2020-05-15</th>\n",
       "      <td>523.071533</td>\n",
       "      <td>411.015289</td>\n",
       "    </tr>\n",
       "    <tr>\n",
       "      <th>2020-05-16</th>\n",
       "      <td>452.321930</td>\n",
       "      <td>390.403229</td>\n",
       "    </tr>\n",
       "    <tr>\n",
       "      <th>2020-05-17</th>\n",
       "      <td>527.233276</td>\n",
       "      <td>398.449341</td>\n",
       "    </tr>\n",
       "    <tr>\n",
       "      <th>2020-05-18</th>\n",
       "      <td>554.284607</td>\n",
       "      <td>438.518799</td>\n",
       "    </tr>\n",
       "  </tbody>\n",
       "</table>\n",
       "</div>"
      ],
      "text/plain": [
       "                    true_value     predict\n",
       "date_to_prediction                        \n",
       "2020-05-09          435.674957  526.621094\n",
       "2020-05-10          304.580078  521.593445\n",
       "2020-05-11          373.248840  540.641296\n",
       "2020-05-12          373.248840  375.898438\n",
       "2020-05-13          464.807190  385.028778\n",
       "2020-05-14          493.939331  395.959656\n",
       "2020-05-15          523.071533  411.015289\n",
       "2020-05-16          452.321930  390.403229\n",
       "2020-05-17          527.233276  398.449341\n",
       "2020-05-18          554.284607  438.518799"
      ]
     },
     "execution_count": 117,
     "metadata": {
      "tags": []
     },
     "output_type": "execute_result"
    }
   ],
   "source": [
    "prediction_train.tail(10)"
   ]
  },
  {
   "cell_type": "code",
   "execution_count": 118,
   "metadata": {
    "colab": {
     "base_uri": "https://localhost:8080/",
     "height": 404
    },
    "colab_type": "code",
    "id": "DmuakLBwcSGK",
    "outputId": "a9ae6a7b-b8c2-4ad2-f1b9-c177f41cb9ba"
   },
   "outputs": [
    {
     "data": {
      "application/vnd.google.colaboratory.intrinsic+json": {
       "type": "string"
      },
      "text/plain": [
       "\"\\nfig, ax = plt.subplots(figsize=(15,7))\\nplt.plot(test_res.index, test_res['real'],  label='Actual Values')\\nplt.plot(test_res.index, test_res['Prediction'], label='Predicted Values')\\n# If you don't like the break in the graph, change 90 to 89 in the above line\\nplt.gcf().autofmt_xdate()\\nplt.legend()\\nplt.show()\\n\""
      ]
     },
     "execution_count": 118,
     "metadata": {
      "tags": []
     },
     "output_type": "execute_result"
    },
    {
     "data": {
      "image/png": "[encoded data removed]",
      "text/plain": [
       "<Figure size 1080x360 with 1 Axes>"
      ]
     },
     "metadata": {
      "needs_background": "light",
      "tags": []
     },
     "output_type": "display_data"
    }
   ],
   "source": [
    "# Prédiction du train vs la réalité \n",
    "prediction_train.plot(figsize=(15,5))\n",
    "'''\n",
    "fig, ax = plt.subplots(figsize=(15,7))\n",
    "plt.plot(test_res.index, test_res['real'],  label='Actual Values')\n",
    "plt.plot(test_res.index, test_res['Prediction'], label='Predicted Values')\n",
    "# If you don't like the break in the graph, change 90 to 89 in the above line\n",
    "plt.gcf().autofmt_xdate()\n",
    "plt.legend()\n",
    "plt.show()\n",
    "'''"
   ]
  },
  {
   "cell_type": "code",
   "execution_count": 119,
   "metadata": {
    "colab": {
     "base_uri": "https://localhost:8080/",
     "height": 119
    },
    "colab_type": "code",
    "id": "sRONIqi8cTFb",
    "outputId": "930fc67b-1d9d-4784-ba53-e573a82e4589"
   },
   "outputs": [
    {
     "name": "stdout",
     "output_type": "stream",
     "text": [
      "Trains Metrics\n",
      "MSE 31040.67\n",
      "RMSE 176.18\n",
      "MAE 110.43\n",
      "R2 0.44\n",
      "maxError 989.80\n"
     ]
    }
   ],
   "source": [
    "print('Trains Metrics')\n",
    "loss = tf.keras.losses.mean_squared_error(Y_train_real_bis, Y_train_pred_bis )\n",
    "print('MSE',\"{:.2f}\".format(loss))\n",
    "rmse = tf.sqrt(tf.losses.mean_squared_error(Y_train_real_bis, Y_train_pred_bis ))\n",
    "print('RMSE',\"{:.2f}\".format(rmse))\n",
    "loss2 = tf.keras.losses.MAE(Y_train_real_bis, Y_train_pred_bis )\n",
    "print('MAE',\"{:.2f}\".format(loss2))\n",
    "r2 =r2_score(Y_train_real_bis, Y_train_pred_bis )\n",
    "print('R2',\"{:.2f}\".format(r2))\n",
    "maxerror=max_error(Y_train_real_bis, Y_train_pred_bis )\n",
    "print('maxError',\"{:.2f}\".format(maxerror))"
   ]
  }
 ],
 "metadata": {
  "colab": {
   "collapsed_sections": [],
   "name": "LSTM-covid-7-7-datasetComplet.ipynb",
   "provenance": []
  },
  "kernelspec": {
   "display_name": "Python 3",
   "language": "python",
   "name": "python3"
  },
  "language_info": {
   "codemirror_mode": {
    "name": "ipython",
    "version": 3
   },
   "file_extension": ".py",
   "mimetype": "text/x-python",
   "name": "python",
   "nbconvert_exporter": "python",
   "pygments_lexer": "ipython3",
   "version": "3.7.6"
  }
 },
 "nbformat": 4,
 "nbformat_minor": 1
}
