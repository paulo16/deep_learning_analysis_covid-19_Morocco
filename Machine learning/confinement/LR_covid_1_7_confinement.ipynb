{
 "cells": [
  {
   "cell_type": "code",
   "execution_count": 1,
   "metadata": {
    "colab": {
     "base_uri": "https://localhost:8080/",
     "height": 51
    },
    "colab_type": "code",
    "id": "3GcS4Bpi_Fth",
    "outputId": "f32407e3-7a93-46d5-87f3-a31f203b34ef"
   },
   "outputs": [
    {
     "name": "stdout",
     "output_type": "stream",
     "text": [
      "Requirement already satisfied: deap in c:\\users\\pc lenevo\\.conda\\envs\\imanenv\\lib\\site-packages (1.3.1)\n",
      "Requirement already satisfied: numpy in c:\\users\\pc lenevo\\.conda\\envs\\imanenv\\lib\\site-packages (from deap) (1.18.1)\n"
     ]
    }
   ],
   "source": [
    "!pip install deap"
   ]
  },
  {
   "cell_type": "code",
   "execution_count": 2,
   "metadata": {
    "colab": {
     "base_uri": "https://localhost:8080/",
     "height": 34
    },
    "colab_type": "code",
    "id": "zliVa8VX_ejV",
    "outputId": "b2aed142-d7e8-4aca-90b1-3587fd30746a"
   },
   "outputs": [
    {
     "name": "stdout",
     "output_type": "stream",
     "text": [
      "Requirement already satisfied: bitstring in c:\\users\\pc lenevo\\.conda\\envs\\imanenv\\lib\\site-packages (3.1.7)\n"
     ]
    }
   ],
   "source": [
    "!pip install bitstring"
   ]
  },
  {
   "cell_type": "code",
   "execution_count": 3,
   "metadata": {
    "colab": {
     "base_uri": "https://localhost:8080/",
     "height": 34
    },
    "colab_type": "code",
    "id": "dSknce3X_gux",
    "outputId": "492e886a-f52b-4278-bdb5-d67c719911fd"
   },
   "outputs": [
    {
     "name": "stdout",
     "output_type": "stream",
     "text": [
      "Requirement already satisfied: transforms3d in c:\\users\\pc lenevo\\.conda\\envs\\imanenv\\lib\\site-packages (0.3.1)\n"
     ]
    }
   ],
   "source": [
    "!pip install transforms3d"
   ]
  },
  {
   "cell_type": "code",
   "execution_count": 4,
   "metadata": {
    "colab": {
     "base_uri": "https://localhost:8080/",
     "height": 68
    },
    "colab_type": "code",
    "id": "du9GbswO_jMR",
    "outputId": "de4cf0f4-4311-4780-d82a-6e4e867ef112"
   },
   "outputs": [
    {
     "name": "stdout",
     "output_type": "stream",
     "text": [
      "Requirement already satisfied: tsaug in c:\\users\\pc lenevo\\.conda\\envs\\imanenv\\lib\\site-packages (0.2.1)\n",
      "Requirement already satisfied: scipy>=1.1 in c:\\users\\pc lenevo\\.conda\\envs\\imanenv\\lib\\site-packages (from tsaug) (1.4.1)\n",
      "Requirement already satisfied: numpy>=1.14 in c:\\users\\pc lenevo\\.conda\\envs\\imanenv\\lib\\site-packages (from tsaug) (1.18.1)\n"
     ]
    }
   ],
   "source": [
    "!pip install tsaug"
   ]
  },
  {
   "cell_type": "code",
   "execution_count": 5,
   "metadata": {
    "colab": {},
    "colab_type": "code",
    "id": "KTuU01uk9xMT"
   },
   "outputs": [],
   "source": [
    "import os\n",
    "import pandas as pd\n",
    "import numpy as np\n",
    "from sklearn.utils import shuffle\n",
    "from scipy import stats \n",
    "import matplotlib.pyplot as plt \n",
    "from sklearn.model_selection import train_test_split\n",
    "from sklearn.preprocessing import MinMaxScaler\n",
    "from tensorflow import keras\n",
    "import tensorflow as tf\n",
    "from tensorflow.keras.preprocessing.sequence import pad_sequences\n",
    "from tensorflow.keras.preprocessing.text import Tokenizer\n",
    "from tensorflow.keras.layers import Dense, Input, LSTM, Embedding, Dropout, Activation\n",
    "from tensorflow.keras.layers import Bidirectional, GlobalMaxPool1D\n",
    "from tensorflow.keras.models import Model, Sequential\n",
    "from tensorflow.compat.v1.keras.layers import CuDNNLSTM\n",
    "from tensorflow.keras.layers import RepeatVector\n",
    "from tensorflow.keras.layers import TimeDistributed\n",
    "from tensorflow.keras import layers\n",
    "from sklearn.metrics import accuracy_score\n",
    "from sklearn.metrics import precision_score\n",
    "from sklearn.metrics import recall_score\n",
    "from sklearn.metrics import f1_score\n",
    "from sklearn.metrics import cohen_kappa_score\n",
    "from sklearn.metrics import mean_squared_error\n",
    "from tensorflow.keras.utils import plot_model\n",
    "from sklearn.impute import KNNImputer\n",
    "from sklearn.metrics import r2_score\n",
    "from sklearn.metrics import max_error\n",
    "from deap import base, creator, tools, algorithms\n",
    "from scipy.stats import bernoulli\n",
    "from bitstring import BitArray\n",
    "from scipy.interpolate import CubicSpline      # for warping\n",
    "from transforms3d.axangles import axangle2mat  # for rotation\n",
    "from tsaug import TimeWarp, Crop, Quantize, Drift, Reverse\n",
    "\n",
    "from math import sqrt\n",
    "from matplotlib import pyplot\n",
    "from sklearn.preprocessing import LabelEncoder"
   ]
  },
  {
   "cell_type": "code",
   "execution_count": 6,
   "metadata": {
    "colab": {
     "base_uri": "https://localhost:8080/",
     "height": 35
    },
    "colab_type": "code",
    "id": "j-X4dVFX-Eit",
    "outputId": "d400e2bc-160b-4332-85d3-14df8864a498"
   },
   "outputs": [
    {
     "data": {
      "text/plain": [
       "'C:\\\\Users\\\\pc lenevo\\\\Desktop\\\\covid_3scenario\\\\data_confinement'"
      ]
     },
     "execution_count": 6,
     "metadata": {},
     "output_type": "execute_result"
    }
   ],
   "source": [
    "pwd"
   ]
  },
  {
   "cell_type": "code",
   "execution_count": 7,
   "metadata": {
    "colab": {
     "base_uri": "https://localhost:8080/",
     "height": 34
    },
    "colab_type": "code",
    "id": "KwKY3ugucazu",
    "outputId": "75dc6d45-c8a2-494b-824a-21cc295e5b7d"
   },
   "outputs": [
    {
     "name": "stdout",
     "output_type": "stream",
     "text": [
      "[WinError 3] Le chemin d’accès spécifié est introuvable: '/content/drive/My Drive/Colab Notebooks/covid-dataset/'\n",
      "C:\\Users\\pc lenevo\\Desktop\\covid_3scenario\\data_confinement\n"
     ]
    }
   ],
   "source": [
    "%cd \"/content/drive/My Drive/Colab Notebooks/covid-dataset/\""
   ]
  },
  {
   "cell_type": "code",
   "execution_count": 8,
   "metadata": {
    "colab": {},
    "colab_type": "code",
    "id": "KMW62TDd-IIn"
   },
   "outputs": [],
   "source": [
    "#%%time \n",
    "#!wget -O owid-covid-data.csv https://covid.ourworldindata.org/data/owid-covid-data.csv"
   ]
  },
  {
   "cell_type": "code",
   "execution_count": 9,
   "metadata": {
    "colab": {},
    "colab_type": "code",
    "id": "eK4anJP1-Nh3"
   },
   "outputs": [],
   "source": [
    "df = pd.read_csv('C:/Users/pc lenevo/Desktop/covid_3scenario/data_confinement/owid-covid-data.csv') # having First.csv zipped file."
   ]
  },
  {
   "cell_type": "code",
   "execution_count": 10,
   "metadata": {
    "colab": {
     "base_uri": "https://localhost:8080/",
     "height": 748
    },
    "colab_type": "code",
    "id": "BilnmU0Y-Qlv",
    "outputId": "460a9134-75c1-4b9f-c319-7abfd315bb70"
   },
   "outputs": [
    {
     "name": "stdout",
     "output_type": "stream",
     "text": [
      "<class 'pandas.core.frame.DataFrame'>\n",
      "RangeIndex: 36984 entries, 0 to 36983\n",
      "Data columns (total 36 columns):\n",
      " #   Column                           Non-Null Count  Dtype  \n",
      "---  ------                           --------------  -----  \n",
      " 0   iso_code                         36920 non-null  object \n",
      " 1   continent                        36691 non-null  object \n",
      " 2   location                         36984 non-null  object \n",
      " 3   date                             36984 non-null  object \n",
      " 4   total_cases                      36632 non-null  float64\n",
      " 5   new_cases                        36632 non-null  float64\n",
      " 6   total_deaths                     36632 non-null  float64\n",
      " 7   new_deaths                       36632 non-null  float64\n",
      " 8   total_cases_per_million          36568 non-null  float64\n",
      " 9   new_cases_per_million            36568 non-null  float64\n",
      " 10  total_deaths_per_million         36568 non-null  float64\n",
      " 11  new_deaths_per_million           36568 non-null  float64\n",
      " 12  new_tests                        11606 non-null  float64\n",
      " 13  total_tests                      11950 non-null  float64\n",
      " 14  total_tests_per_thousand         11950 non-null  float64\n",
      " 15  new_tests_per_thousand           11606 non-null  float64\n",
      " 16  new_tests_smoothed               13068 non-null  float64\n",
      " 17  new_tests_smoothed_per_thousand  13068 non-null  float64\n",
      " 18  tests_per_case                   12206 non-null  float64\n",
      " 19  positive_rate                    12555 non-null  float64\n",
      " 20  tests_units                      13816 non-null  object \n",
      " 21  stringency_index                 30679 non-null  float64\n",
      " 22  population                       36920 non-null  float64\n",
      " 23  population_density               35290 non-null  float64\n",
      " 24  median_age                       33233 non-null  float64\n",
      " 25  aged_65_older                    32746 non-null  float64\n",
      " 26  aged_70_older                    33061 non-null  float64\n",
      " 27  gdp_per_capita                   32816 non-null  float64\n",
      " 28  extreme_poverty                  21946 non-null  float64\n",
      " 29  cardiovasc_death_rate            33251 non-null  float64\n",
      " 30  diabetes_prevalence              34382 non-null  float64\n",
      " 31  female_smokers                   26280 non-null  float64\n",
      " 32  male_smokers                     25960 non-null  float64\n",
      " 33  handwashing_facilities           15328 non-null  float64\n",
      " 34  hospital_beds_per_thousand       30164 non-null  float64\n",
      " 35  life_expectancy                  36467 non-null  float64\n",
      "dtypes: float64(31), object(5)\n",
      "memory usage: 10.2+ MB\n"
     ]
    }
   ],
   "source": [
    "# Informations dur les données\n",
    "df.info()"
   ]
  },
  {
   "cell_type": "code",
   "execution_count": 11,
   "metadata": {
    "colab": {
     "base_uri": "https://localhost:8080/",
     "height": 309
    },
    "colab_type": "code",
    "id": "sritp8Ed-UiJ",
    "outputId": "146750cf-41fe-4d31-906c-e3b74ead2397"
   },
   "outputs": [
    {
     "data": {
      "text/html": [
       "<div>\n",
       "<style scoped>\n",
       "    .dataframe tbody tr th:only-of-type {\n",
       "        vertical-align: middle;\n",
       "    }\n",
       "\n",
       "    .dataframe tbody tr th {\n",
       "        vertical-align: top;\n",
       "    }\n",
       "\n",
       "    .dataframe thead th {\n",
       "        text-align: right;\n",
       "    }\n",
       "</style>\n",
       "<table border=\"1\" class=\"dataframe\">\n",
       "  <thead>\n",
       "    <tr style=\"text-align: right;\">\n",
       "      <th></th>\n",
       "      <th>iso_code</th>\n",
       "      <th>continent</th>\n",
       "      <th>location</th>\n",
       "      <th>date</th>\n",
       "      <th>total_cases</th>\n",
       "      <th>new_cases</th>\n",
       "      <th>total_deaths</th>\n",
       "      <th>new_deaths</th>\n",
       "      <th>total_cases_per_million</th>\n",
       "      <th>new_cases_per_million</th>\n",
       "      <th>...</th>\n",
       "      <th>aged_70_older</th>\n",
       "      <th>gdp_per_capita</th>\n",
       "      <th>extreme_poverty</th>\n",
       "      <th>cardiovasc_death_rate</th>\n",
       "      <th>diabetes_prevalence</th>\n",
       "      <th>female_smokers</th>\n",
       "      <th>male_smokers</th>\n",
       "      <th>handwashing_facilities</th>\n",
       "      <th>hospital_beds_per_thousand</th>\n",
       "      <th>life_expectancy</th>\n",
       "    </tr>\n",
       "  </thead>\n",
       "  <tbody>\n",
       "    <tr>\n",
       "      <th>0</th>\n",
       "      <td>AFG</td>\n",
       "      <td>Asia</td>\n",
       "      <td>Afghanistan</td>\n",
       "      <td>2019-12-31</td>\n",
       "      <td>0.0</td>\n",
       "      <td>0.0</td>\n",
       "      <td>0.0</td>\n",
       "      <td>0.0</td>\n",
       "      <td>0.0</td>\n",
       "      <td>0.0</td>\n",
       "      <td>...</td>\n",
       "      <td>1.337</td>\n",
       "      <td>1803.987</td>\n",
       "      <td>NaN</td>\n",
       "      <td>597.029</td>\n",
       "      <td>9.59</td>\n",
       "      <td>NaN</td>\n",
       "      <td>NaN</td>\n",
       "      <td>37.746</td>\n",
       "      <td>0.5</td>\n",
       "      <td>64.83</td>\n",
       "    </tr>\n",
       "    <tr>\n",
       "      <th>1</th>\n",
       "      <td>AFG</td>\n",
       "      <td>Asia</td>\n",
       "      <td>Afghanistan</td>\n",
       "      <td>2020-01-01</td>\n",
       "      <td>0.0</td>\n",
       "      <td>0.0</td>\n",
       "      <td>0.0</td>\n",
       "      <td>0.0</td>\n",
       "      <td>0.0</td>\n",
       "      <td>0.0</td>\n",
       "      <td>...</td>\n",
       "      <td>1.337</td>\n",
       "      <td>1803.987</td>\n",
       "      <td>NaN</td>\n",
       "      <td>597.029</td>\n",
       "      <td>9.59</td>\n",
       "      <td>NaN</td>\n",
       "      <td>NaN</td>\n",
       "      <td>37.746</td>\n",
       "      <td>0.5</td>\n",
       "      <td>64.83</td>\n",
       "    </tr>\n",
       "    <tr>\n",
       "      <th>2</th>\n",
       "      <td>AFG</td>\n",
       "      <td>Asia</td>\n",
       "      <td>Afghanistan</td>\n",
       "      <td>2020-01-02</td>\n",
       "      <td>0.0</td>\n",
       "      <td>0.0</td>\n",
       "      <td>0.0</td>\n",
       "      <td>0.0</td>\n",
       "      <td>0.0</td>\n",
       "      <td>0.0</td>\n",
       "      <td>...</td>\n",
       "      <td>1.337</td>\n",
       "      <td>1803.987</td>\n",
       "      <td>NaN</td>\n",
       "      <td>597.029</td>\n",
       "      <td>9.59</td>\n",
       "      <td>NaN</td>\n",
       "      <td>NaN</td>\n",
       "      <td>37.746</td>\n",
       "      <td>0.5</td>\n",
       "      <td>64.83</td>\n",
       "    </tr>\n",
       "    <tr>\n",
       "      <th>3</th>\n",
       "      <td>AFG</td>\n",
       "      <td>Asia</td>\n",
       "      <td>Afghanistan</td>\n",
       "      <td>2020-01-03</td>\n",
       "      <td>0.0</td>\n",
       "      <td>0.0</td>\n",
       "      <td>0.0</td>\n",
       "      <td>0.0</td>\n",
       "      <td>0.0</td>\n",
       "      <td>0.0</td>\n",
       "      <td>...</td>\n",
       "      <td>1.337</td>\n",
       "      <td>1803.987</td>\n",
       "      <td>NaN</td>\n",
       "      <td>597.029</td>\n",
       "      <td>9.59</td>\n",
       "      <td>NaN</td>\n",
       "      <td>NaN</td>\n",
       "      <td>37.746</td>\n",
       "      <td>0.5</td>\n",
       "      <td>64.83</td>\n",
       "    </tr>\n",
       "    <tr>\n",
       "      <th>4</th>\n",
       "      <td>AFG</td>\n",
       "      <td>Asia</td>\n",
       "      <td>Afghanistan</td>\n",
       "      <td>2020-01-04</td>\n",
       "      <td>0.0</td>\n",
       "      <td>0.0</td>\n",
       "      <td>0.0</td>\n",
       "      <td>0.0</td>\n",
       "      <td>0.0</td>\n",
       "      <td>0.0</td>\n",
       "      <td>...</td>\n",
       "      <td>1.337</td>\n",
       "      <td>1803.987</td>\n",
       "      <td>NaN</td>\n",
       "      <td>597.029</td>\n",
       "      <td>9.59</td>\n",
       "      <td>NaN</td>\n",
       "      <td>NaN</td>\n",
       "      <td>37.746</td>\n",
       "      <td>0.5</td>\n",
       "      <td>64.83</td>\n",
       "    </tr>\n",
       "  </tbody>\n",
       "</table>\n",
       "<p>5 rows × 36 columns</p>\n",
       "</div>"
      ],
      "text/plain": [
       "  iso_code continent     location        date  total_cases  new_cases  \\\n",
       "0      AFG      Asia  Afghanistan  2019-12-31          0.0        0.0   \n",
       "1      AFG      Asia  Afghanistan  2020-01-01          0.0        0.0   \n",
       "2      AFG      Asia  Afghanistan  2020-01-02          0.0        0.0   \n",
       "3      AFG      Asia  Afghanistan  2020-01-03          0.0        0.0   \n",
       "4      AFG      Asia  Afghanistan  2020-01-04          0.0        0.0   \n",
       "\n",
       "   total_deaths  new_deaths  total_cases_per_million  new_cases_per_million  \\\n",
       "0           0.0         0.0                      0.0                    0.0   \n",
       "1           0.0         0.0                      0.0                    0.0   \n",
       "2           0.0         0.0                      0.0                    0.0   \n",
       "3           0.0         0.0                      0.0                    0.0   \n",
       "4           0.0         0.0                      0.0                    0.0   \n",
       "\n",
       "   ...  aged_70_older  gdp_per_capita  extreme_poverty  cardiovasc_death_rate  \\\n",
       "0  ...          1.337        1803.987              NaN                597.029   \n",
       "1  ...          1.337        1803.987              NaN                597.029   \n",
       "2  ...          1.337        1803.987              NaN                597.029   \n",
       "3  ...          1.337        1803.987              NaN                597.029   \n",
       "4  ...          1.337        1803.987              NaN                597.029   \n",
       "\n",
       "   diabetes_prevalence  female_smokers  male_smokers  handwashing_facilities  \\\n",
       "0                 9.59             NaN           NaN                  37.746   \n",
       "1                 9.59             NaN           NaN                  37.746   \n",
       "2                 9.59             NaN           NaN                  37.746   \n",
       "3                 9.59             NaN           NaN                  37.746   \n",
       "4                 9.59             NaN           NaN                  37.746   \n",
       "\n",
       "   hospital_beds_per_thousand  life_expectancy  \n",
       "0                         0.5            64.83  \n",
       "1                         0.5            64.83  \n",
       "2                         0.5            64.83  \n",
       "3                         0.5            64.83  \n",
       "4                         0.5            64.83  \n",
       "\n",
       "[5 rows x 36 columns]"
      ]
     },
     "execution_count": 11,
     "metadata": {},
     "output_type": "execute_result"
    }
   ],
   "source": [
    "# Les 5 premères lignes du dataset \n",
    "df.head(5)"
   ]
  },
  {
   "cell_type": "code",
   "execution_count": 12,
   "metadata": {
    "colab": {
     "base_uri": "https://localhost:8080/",
     "height": 34
    },
    "colab_type": "code",
    "id": "huKKI0G7-VOI",
    "outputId": "68242528-bd7e-40c2-fcae-5795596810ec"
   },
   "outputs": [
    {
     "data": {
      "text/plain": [
       "(8414, 36)"
      ]
     },
     "execution_count": 12,
     "metadata": {},
     "output_type": "execute_result"
    }
   ],
   "source": [
    "df[df.continent  == 'Africa'].shape\n",
    "# soit 54 pays en afrique ,3 mois de COVID = approximativement 4800"
   ]
  },
  {
   "cell_type": "code",
   "execution_count": 13,
   "metadata": {
    "colab": {
     "base_uri": "https://localhost:8080/",
     "height": 34
    },
    "colab_type": "code",
    "id": "huWv9oOY-c4l",
    "outputId": "0d42a747-816b-467a-e896-0ca2b1e8fc36"
   },
   "outputs": [
    {
     "data": {
      "text/plain": [
       "(191, 36)"
      ]
     },
     "execution_count": 13,
     "metadata": {},
     "output_type": "execute_result"
    }
   ],
   "source": [
    "#Taille des données de COVID pour le Maroc\n",
    "df[df.location  == 'Morocco'].shape"
   ]
  },
  {
   "cell_type": "code",
   "execution_count": 14,
   "metadata": {
    "colab": {
     "base_uri": "https://localhost:8080/",
     "height": 35
    },
    "colab_type": "code",
    "id": "3qwR0kpL-fNJ",
    "outputId": "970df48d-cc70-49ed-fa00-288385732117"
   },
   "outputs": [
    {
     "data": {
      "text/plain": [
       "'2019-12-31'"
      ]
     },
     "execution_count": 14,
     "metadata": {},
     "output_type": "execute_result"
    }
   ],
   "source": [
    "#Première date d'enregistrement de cas dans le monde \n",
    "df.date.min()"
   ]
  },
  {
   "cell_type": "code",
   "execution_count": 15,
   "metadata": {
    "colab": {
     "base_uri": "https://localhost:8080/",
     "height": 35
    },
    "colab_type": "code",
    "id": "58yqzRyI-f80",
    "outputId": "87534ce2-0c7b-4b60-cae4-e4042e38dfc5"
   },
   "outputs": [
    {
     "data": {
      "text/plain": [
       "'2020-08-15'"
      ]
     },
     "execution_count": 15,
     "metadata": {},
     "output_type": "execute_result"
    }
   ],
   "source": [
    "# dernière date d'enregistrement pour notre datset\n",
    "df.date.max()"
   ]
  },
  {
   "cell_type": "code",
   "execution_count": 16,
   "metadata": {
    "colab": {
     "base_uri": "https://localhost:8080/",
     "height": 35
    },
    "colab_type": "code",
    "id": "Wensf72i-oCA",
    "outputId": "6f28b957-9b07-4386-e2f9-ec0494a7704b"
   },
   "outputs": [
    {
     "data": {
      "text/plain": [
       "'2020-02-07'"
      ]
     },
     "execution_count": 16,
     "metadata": {},
     "output_type": "execute_result"
    }
   ],
   "source": [
    "# Première date d'enregistrement de cas au Maroc \n",
    "df[(df.location  == 'Morocco')].date.min()"
   ]
  },
  {
   "cell_type": "code",
   "execution_count": 17,
   "metadata": {
    "colab": {
     "base_uri": "https://localhost:8080/",
     "height": 35
    },
    "colab_type": "code",
    "id": "DFmNwfSn-omQ",
    "outputId": "21872625-bd84-4417-c750-4c791ef3ce24"
   },
   "outputs": [
    {
     "data": {
      "text/plain": [
       "'2020-08-15'"
      ]
     },
     "execution_count": 17,
     "metadata": {},
     "output_type": "execute_result"
    }
   ],
   "source": [
    "# dernière date d'enregistrement de cas au Maroc \n",
    "df[(df.location  == 'Morocco')].date.max()"
   ]
  },
  {
   "cell_type": "code",
   "execution_count": 18,
   "metadata": {
    "colab": {},
    "colab_type": "code",
    "id": "1dXM84j99Qo-"
   },
   "outputs": [],
   "source": [
    "df.date= pd.to_datetime(df['date'],format='%Y-%m-%d')"
   ]
  },
  {
   "cell_type": "code",
   "execution_count": 19,
   "metadata": {
    "colab": {},
    "colab_type": "code",
    "id": "ZmJozDDA9Qpf"
   },
   "outputs": [],
   "source": [
    "df=df[['new_cases','total_cases','total_deaths','new_deaths', 'population','date','location']]\n"
   ]
  },
  {
   "cell_type": "code",
   "execution_count": 20,
   "metadata": {
    "colab": {},
    "colab_type": "code",
    "id": "pEelLZEx9Qp3"
   },
   "outputs": [],
   "source": [
    "df = df.fillna(df.median())"
   ]
  },
  {
   "cell_type": "code",
   "execution_count": 21,
   "metadata": {
    "colab": {
     "base_uri": "https://localhost:8080/",
     "height": 359
    },
    "colab_type": "code",
    "id": "GkzzotM4FzrD",
    "outputId": "c229bb18-f9b0-48df-c1f9-eacb528f2b9e"
   },
   "outputs": [
    {
     "data": {
      "text/html": [
       "<div>\n",
       "<style scoped>\n",
       "    .dataframe tbody tr th:only-of-type {\n",
       "        vertical-align: middle;\n",
       "    }\n",
       "\n",
       "    .dataframe tbody tr th {\n",
       "        vertical-align: top;\n",
       "    }\n",
       "\n",
       "    .dataframe thead th {\n",
       "        text-align: right;\n",
       "    }\n",
       "</style>\n",
       "<table border=\"1\" class=\"dataframe\">\n",
       "  <thead>\n",
       "    <tr style=\"text-align: right;\">\n",
       "      <th></th>\n",
       "      <th>new_cases</th>\n",
       "      <th>total_cases</th>\n",
       "      <th>total_deaths</th>\n",
       "      <th>new_deaths</th>\n",
       "      <th>population</th>\n",
       "      <th>date</th>\n",
       "      <th>location</th>\n",
       "    </tr>\n",
       "  </thead>\n",
       "  <tbody>\n",
       "    <tr>\n",
       "      <th>23085</th>\n",
       "      <td>1283.0</td>\n",
       "      <td>28500.0</td>\n",
       "      <td>435.0</td>\n",
       "      <td>18.0</td>\n",
       "      <td>36910558.0</td>\n",
       "      <td>2020-08-06</td>\n",
       "      <td>Morocco</td>\n",
       "    </tr>\n",
       "    <tr>\n",
       "      <th>23086</th>\n",
       "      <td>1144.0</td>\n",
       "      <td>29644.0</td>\n",
       "      <td>449.0</td>\n",
       "      <td>14.0</td>\n",
       "      <td>36910558.0</td>\n",
       "      <td>2020-08-07</td>\n",
       "      <td>Morocco</td>\n",
       "    </tr>\n",
       "    <tr>\n",
       "      <th>23087</th>\n",
       "      <td>1018.0</td>\n",
       "      <td>30662.0</td>\n",
       "      <td>461.0</td>\n",
       "      <td>12.0</td>\n",
       "      <td>36910558.0</td>\n",
       "      <td>2020-08-08</td>\n",
       "      <td>Morocco</td>\n",
       "    </tr>\n",
       "    <tr>\n",
       "      <th>23088</th>\n",
       "      <td>1345.0</td>\n",
       "      <td>32007.0</td>\n",
       "      <td>480.0</td>\n",
       "      <td>19.0</td>\n",
       "      <td>36910558.0</td>\n",
       "      <td>2020-08-09</td>\n",
       "      <td>Morocco</td>\n",
       "    </tr>\n",
       "    <tr>\n",
       "      <th>23089</th>\n",
       "      <td>1230.0</td>\n",
       "      <td>33237.0</td>\n",
       "      <td>498.0</td>\n",
       "      <td>18.0</td>\n",
       "      <td>36910558.0</td>\n",
       "      <td>2020-08-10</td>\n",
       "      <td>Morocco</td>\n",
       "    </tr>\n",
       "    <tr>\n",
       "      <th>23090</th>\n",
       "      <td>826.0</td>\n",
       "      <td>34063.0</td>\n",
       "      <td>516.0</td>\n",
       "      <td>18.0</td>\n",
       "      <td>36910558.0</td>\n",
       "      <td>2020-08-11</td>\n",
       "      <td>Morocco</td>\n",
       "    </tr>\n",
       "    <tr>\n",
       "      <th>23091</th>\n",
       "      <td>1132.0</td>\n",
       "      <td>35195.0</td>\n",
       "      <td>533.0</td>\n",
       "      <td>17.0</td>\n",
       "      <td>36910558.0</td>\n",
       "      <td>2020-08-12</td>\n",
       "      <td>Morocco</td>\n",
       "    </tr>\n",
       "    <tr>\n",
       "      <th>23092</th>\n",
       "      <td>1499.0</td>\n",
       "      <td>36694.0</td>\n",
       "      <td>556.0</td>\n",
       "      <td>23.0</td>\n",
       "      <td>36910558.0</td>\n",
       "      <td>2020-08-13</td>\n",
       "      <td>Morocco</td>\n",
       "    </tr>\n",
       "    <tr>\n",
       "      <th>23093</th>\n",
       "      <td>1241.0</td>\n",
       "      <td>37935.0</td>\n",
       "      <td>584.0</td>\n",
       "      <td>28.0</td>\n",
       "      <td>36910558.0</td>\n",
       "      <td>2020-08-14</td>\n",
       "      <td>Morocco</td>\n",
       "    </tr>\n",
       "    <tr>\n",
       "      <th>23094</th>\n",
       "      <td>1306.0</td>\n",
       "      <td>39241.0</td>\n",
       "      <td>611.0</td>\n",
       "      <td>27.0</td>\n",
       "      <td>36910558.0</td>\n",
       "      <td>2020-08-15</td>\n",
       "      <td>Morocco</td>\n",
       "    </tr>\n",
       "  </tbody>\n",
       "</table>\n",
       "</div>"
      ],
      "text/plain": [
       "       new_cases  total_cases  total_deaths  new_deaths  population  \\\n",
       "23085     1283.0      28500.0         435.0        18.0  36910558.0   \n",
       "23086     1144.0      29644.0         449.0        14.0  36910558.0   \n",
       "23087     1018.0      30662.0         461.0        12.0  36910558.0   \n",
       "23088     1345.0      32007.0         480.0        19.0  36910558.0   \n",
       "23089     1230.0      33237.0         498.0        18.0  36910558.0   \n",
       "23090      826.0      34063.0         516.0        18.0  36910558.0   \n",
       "23091     1132.0      35195.0         533.0        17.0  36910558.0   \n",
       "23092     1499.0      36694.0         556.0        23.0  36910558.0   \n",
       "23093     1241.0      37935.0         584.0        28.0  36910558.0   \n",
       "23094     1306.0      39241.0         611.0        27.0  36910558.0   \n",
       "\n",
       "            date location  \n",
       "23085 2020-08-06  Morocco  \n",
       "23086 2020-08-07  Morocco  \n",
       "23087 2020-08-08  Morocco  \n",
       "23088 2020-08-09  Morocco  \n",
       "23089 2020-08-10  Morocco  \n",
       "23090 2020-08-11  Morocco  \n",
       "23091 2020-08-12  Morocco  \n",
       "23092 2020-08-13  Morocco  \n",
       "23093 2020-08-14  Morocco  \n",
       "23094 2020-08-15  Morocco  "
      ]
     },
     "execution_count": 21,
     "metadata": {},
     "output_type": "execute_result"
    }
   ],
   "source": [
    "df[(df.location  == 'Morocco')].tail(10)"
   ]
  },
  {
   "cell_type": "code",
   "execution_count": 22,
   "metadata": {
    "colab": {},
    "colab_type": "code",
    "id": "STWuqUsvzEO1"
   },
   "outputs": [],
   "source": [
    "def DA_Jitter(X, sigma=0.05):\n",
    "    myNoise = np.random.normal(loc=0, scale=sigma, size=X.shape)\n",
    "    myNoise =  np.add(myNoise,abs(np.min(myNoise)))\n",
    "    return X+myNoise"
   ]
  },
  {
   "cell_type": "code",
   "execution_count": 23,
   "metadata": {
    "colab": {},
    "colab_type": "code",
    "id": "tmHxUA7xzE3b"
   },
   "outputs": [],
   "source": [
    "def DA_Scaling(X, sigma=0.1):\n",
    "    scalingFactor = np.random.normal(loc=1.0, scale=sigma, size=(1,X.shape[1])) # shape=(1,3)\n",
    "    scalingFactor = np.add(scalingFactor,abs(np.min(scalingFactor)))\n",
    "    myNoise = np.matmul(np.ones((X.shape[0],1)), scalingFactor)\n",
    "    return X*myNoise"
   ]
  },
  {
   "cell_type": "code",
   "execution_count": 24,
   "metadata": {
    "colab": {},
    "colab_type": "code",
    "id": "z_9FeasYzJTF"
   },
   "outputs": [],
   "source": [
    "def DA_Rotation(X):\n",
    "    axis = np.random.uniform(low=-1, high=1, size=X.shape[1])\n",
    "    angle = np.random.uniform(low=-np.pi, high=np.pi)\n",
    "    return np.matmul(X , axangle2mat(axis,angle))"
   ]
  },
  {
   "cell_type": "code",
   "execution_count": 25,
   "metadata": {
    "colab": {},
    "colab_type": "code",
    "id": "5RKSEnq19QqL"
   },
   "outputs": [],
   "source": [
    "#df['month'] = df['date'].dt.month"
   ]
  },
  {
   "cell_type": "code",
   "execution_count": 26,
   "metadata": {
    "colab": {},
    "colab_type": "code",
    "id": "mTTUrl4k9Qqk"
   },
   "outputs": [],
   "source": [
    "# Parametrages sequences \n",
    "nb_seq=1\n",
    "n_out=7\n",
    "nb_col=5"
   ]
  },
  {
   "cell_type": "code",
   "execution_count": 27,
   "metadata": {
    "colab": {},
    "colab_type": "code",
    "id": "c1AqqQNO9Qq2"
   },
   "outputs": [],
   "source": [
    "start_date = '2020-03-02'\n",
    "end_date = '2020-05-24'\n",
    "start_date2 = '2020-05-25'\n",
    "end_date2 = '2020-06-14'"
   ]
  },
  {
   "cell_type": "code",
   "execution_count": 28,
   "metadata": {
    "colab": {},
    "colab_type": "code",
    "id": "iFFh1aOJ9QrD"
   },
   "outputs": [],
   "source": [
    "#mask = (covid_data['date'] >= start_date) & (covid_data['date'] <= end_date) &  (covid_data['location'].isin(['Morocco']))\n",
    "mask1 = (df['date'] >= start_date) & (df['date'] <= end_date) &  (df['location'].isin(['Morocco']))"
   ]
  },
  {
   "cell_type": "code",
   "execution_count": 29,
   "metadata": {
    "colab": {},
    "colab_type": "code",
    "id": "BNajSp2E9QrU"
   },
   "outputs": [],
   "source": [
    "mask2 = (df['date'] >= start_date2) & (df['date'] <= end_date2) &  (df['location'].isin(['Morocco']))"
   ]
  },
  {
   "cell_type": "code",
   "execution_count": 30,
   "metadata": {
    "colab": {},
    "colab_type": "code",
    "id": "WSAgg6em9Qrk"
   },
   "outputs": [],
   "source": [
    "df.sort_values(by=['location'], inplace=True)\n"
   ]
  },
  {
   "cell_type": "code",
   "execution_count": 31,
   "metadata": {
    "colab": {
     "base_uri": "https://localhost:8080/",
     "height": 34
    },
    "colab_type": "code",
    "id": "ueK-y_mU9Qr0",
    "outputId": "30a2a0e6-3feb-497e-b265-088a868106c4"
   },
   "outputs": [
    {
     "data": {
      "text/plain": [
       "(84, 7)"
      ]
     },
     "execution_count": 31,
     "metadata": {},
     "output_type": "execute_result"
    }
   ],
   "source": [
    "X_train = df.loc[mask1].sort_index(axis = 0) \n",
    "X_train.shape"
   ]
  },
  {
   "cell_type": "code",
   "execution_count": 32,
   "metadata": {
    "colab": {
     "base_uri": "https://localhost:8080/",
     "height": 204
    },
    "colab_type": "code",
    "id": "DsiCWFbe32Ej",
    "outputId": "f4599135-39d4-44b2-b0a5-2153951a1c81"
   },
   "outputs": [
    {
     "data": {
      "text/html": [
       "<div>\n",
       "<style scoped>\n",
       "    .dataframe tbody tr th:only-of-type {\n",
       "        vertical-align: middle;\n",
       "    }\n",
       "\n",
       "    .dataframe tbody tr th {\n",
       "        vertical-align: top;\n",
       "    }\n",
       "\n",
       "    .dataframe thead th {\n",
       "        text-align: right;\n",
       "    }\n",
       "</style>\n",
       "<table border=\"1\" class=\"dataframe\">\n",
       "  <thead>\n",
       "    <tr style=\"text-align: right;\">\n",
       "      <th></th>\n",
       "      <th>new_cases</th>\n",
       "      <th>total_cases</th>\n",
       "      <th>total_deaths</th>\n",
       "      <th>new_deaths</th>\n",
       "      <th>population</th>\n",
       "      <th>date</th>\n",
       "      <th>location</th>\n",
       "    </tr>\n",
       "  </thead>\n",
       "  <tbody>\n",
       "    <tr>\n",
       "      <th>22928</th>\n",
       "      <td>7.0</td>\n",
       "      <td>615.0</td>\n",
       "      <td>10.0</td>\n",
       "      <td>0.0</td>\n",
       "      <td>36910558.0</td>\n",
       "      <td>2020-03-02</td>\n",
       "      <td>Morocco</td>\n",
       "    </tr>\n",
       "    <tr>\n",
       "      <th>22929</th>\n",
       "      <td>1.0</td>\n",
       "      <td>1.0</td>\n",
       "      <td>0.0</td>\n",
       "      <td>0.0</td>\n",
       "      <td>36910558.0</td>\n",
       "      <td>2020-03-03</td>\n",
       "      <td>Morocco</td>\n",
       "    </tr>\n",
       "    <tr>\n",
       "      <th>22930</th>\n",
       "      <td>7.0</td>\n",
       "      <td>615.0</td>\n",
       "      <td>10.0</td>\n",
       "      <td>0.0</td>\n",
       "      <td>36910558.0</td>\n",
       "      <td>2020-03-04</td>\n",
       "      <td>Morocco</td>\n",
       "    </tr>\n",
       "    <tr>\n",
       "      <th>22931</th>\n",
       "      <td>7.0</td>\n",
       "      <td>615.0</td>\n",
       "      <td>10.0</td>\n",
       "      <td>0.0</td>\n",
       "      <td>36910558.0</td>\n",
       "      <td>2020-03-05</td>\n",
       "      <td>Morocco</td>\n",
       "    </tr>\n",
       "    <tr>\n",
       "      <th>22932</th>\n",
       "      <td>1.0</td>\n",
       "      <td>2.0</td>\n",
       "      <td>0.0</td>\n",
       "      <td>0.0</td>\n",
       "      <td>36910558.0</td>\n",
       "      <td>2020-03-06</td>\n",
       "      <td>Morocco</td>\n",
       "    </tr>\n",
       "  </tbody>\n",
       "</table>\n",
       "</div>"
      ],
      "text/plain": [
       "       new_cases  total_cases  total_deaths  new_deaths  population  \\\n",
       "22928        7.0        615.0          10.0         0.0  36910558.0   \n",
       "22929        1.0          1.0           0.0         0.0  36910558.0   \n",
       "22930        7.0        615.0          10.0         0.0  36910558.0   \n",
       "22931        7.0        615.0          10.0         0.0  36910558.0   \n",
       "22932        1.0          2.0           0.0         0.0  36910558.0   \n",
       "\n",
       "            date location  \n",
       "22928 2020-03-02  Morocco  \n",
       "22929 2020-03-03  Morocco  \n",
       "22930 2020-03-04  Morocco  \n",
       "22931 2020-03-05  Morocco  \n",
       "22932 2020-03-06  Morocco  "
      ]
     },
     "execution_count": 32,
     "metadata": {},
     "output_type": "execute_result"
    }
   ],
   "source": [
    "X_train.head(5)"
   ]
  },
  {
   "cell_type": "code",
   "execution_count": 33,
   "metadata": {
    "colab": {
     "base_uri": "https://localhost:8080/",
     "height": 204
    },
    "colab_type": "code",
    "id": "5Lhcdb3Qh1vH",
    "outputId": "b2933539-05c6-47a3-99e7-92cd2325ebd5"
   },
   "outputs": [
    {
     "data": {
      "text/html": [
       "<div>\n",
       "<style scoped>\n",
       "    .dataframe tbody tr th:only-of-type {\n",
       "        vertical-align: middle;\n",
       "    }\n",
       "\n",
       "    .dataframe tbody tr th {\n",
       "        vertical-align: top;\n",
       "    }\n",
       "\n",
       "    .dataframe thead th {\n",
       "        text-align: right;\n",
       "    }\n",
       "</style>\n",
       "<table border=\"1\" class=\"dataframe\">\n",
       "  <thead>\n",
       "    <tr style=\"text-align: right;\">\n",
       "      <th></th>\n",
       "      <th>new_cases</th>\n",
       "      <th>total_cases</th>\n",
       "      <th>total_deaths</th>\n",
       "      <th>new_deaths</th>\n",
       "      <th>population</th>\n",
       "      <th>date</th>\n",
       "      <th>location</th>\n",
       "    </tr>\n",
       "  </thead>\n",
       "  <tbody>\n",
       "    <tr>\n",
       "      <th>23007</th>\n",
       "      <td>71.0</td>\n",
       "      <td>7023.0</td>\n",
       "      <td>193.0</td>\n",
       "      <td>1.0</td>\n",
       "      <td>36910558.0</td>\n",
       "      <td>2020-05-20</td>\n",
       "      <td>Morocco</td>\n",
       "    </tr>\n",
       "    <tr>\n",
       "      <th>23008</th>\n",
       "      <td>110.0</td>\n",
       "      <td>7133.0</td>\n",
       "      <td>194.0</td>\n",
       "      <td>1.0</td>\n",
       "      <td>36910558.0</td>\n",
       "      <td>2020-05-21</td>\n",
       "      <td>Morocco</td>\n",
       "    </tr>\n",
       "    <tr>\n",
       "      <th>23009</th>\n",
       "      <td>78.0</td>\n",
       "      <td>7211.0</td>\n",
       "      <td>196.0</td>\n",
       "      <td>2.0</td>\n",
       "      <td>36910558.0</td>\n",
       "      <td>2020-05-22</td>\n",
       "      <td>Morocco</td>\n",
       "    </tr>\n",
       "    <tr>\n",
       "      <th>23010</th>\n",
       "      <td>121.0</td>\n",
       "      <td>7332.0</td>\n",
       "      <td>197.0</td>\n",
       "      <td>1.0</td>\n",
       "      <td>36910558.0</td>\n",
       "      <td>2020-05-23</td>\n",
       "      <td>Morocco</td>\n",
       "    </tr>\n",
       "    <tr>\n",
       "      <th>23011</th>\n",
       "      <td>74.0</td>\n",
       "      <td>7406.0</td>\n",
       "      <td>198.0</td>\n",
       "      <td>1.0</td>\n",
       "      <td>36910558.0</td>\n",
       "      <td>2020-05-24</td>\n",
       "      <td>Morocco</td>\n",
       "    </tr>\n",
       "  </tbody>\n",
       "</table>\n",
       "</div>"
      ],
      "text/plain": [
       "       new_cases  total_cases  total_deaths  new_deaths  population  \\\n",
       "23007       71.0       7023.0         193.0         1.0  36910558.0   \n",
       "23008      110.0       7133.0         194.0         1.0  36910558.0   \n",
       "23009       78.0       7211.0         196.0         2.0  36910558.0   \n",
       "23010      121.0       7332.0         197.0         1.0  36910558.0   \n",
       "23011       74.0       7406.0         198.0         1.0  36910558.0   \n",
       "\n",
       "            date location  \n",
       "23007 2020-05-20  Morocco  \n",
       "23008 2020-05-21  Morocco  \n",
       "23009 2020-05-22  Morocco  \n",
       "23010 2020-05-23  Morocco  \n",
       "23011 2020-05-24  Morocco  "
      ]
     },
     "execution_count": 33,
     "metadata": {},
     "output_type": "execute_result"
    }
   ],
   "source": [
    "X_train.tail(5)"
   ]
  },
  {
   "cell_type": "code",
   "execution_count": 34,
   "metadata": {
    "colab": {},
    "colab_type": "code",
    "id": "KEaisHeXpMbA"
   },
   "outputs": [],
   "source": [
    "#Date to add test set \n",
    "data_add_test = X_train[X_train.location =='Morocco'].tail(nb_seq)"
   ]
  },
  {
   "cell_type": "code",
   "execution_count": 35,
   "metadata": {
    "colab": {
     "base_uri": "https://localhost:8080/",
     "height": 120
    },
    "colab_type": "code",
    "id": "KqtxPk6izf4G",
    "outputId": "92b884c4-d00a-4214-8f09-9a442ae186ba"
   },
   "outputs": [
    {
     "data": {
      "text/plain": [
       "\"\\n# AUGMENTATION \\n\\nstart_date = '2020-06-25'\\nend_date = '2020-07-31'\\nmask = (df['date'] >= start_date) & (df['date'] <= end_date) &  (df['location'].isin(['Morocco']))\\nX_1 = df.loc[mask].sort_index(axis = 0) \\nX_2 = X_3 = X_4 =X_5=X_6=X_7=X_8= X_1\\n\\nX_2[['new_cases']] = DA_Jitter(X_2[['new_cases']], sigma=1000)\\nX_2[['total_cases']] = X_2['total_cases'] + X_2['new_cases']\\nX_2[['new_deaths']] = DA_Jitter(X_2[['new_deaths']], sigma=10)\\nX_2[['total_deaths']] = X_2['total_deaths'] + X_2['new_deaths']\\n\\nX_3[['new_cases']] = DA_Jitter(X_3[['new_cases']], sigma=500)\\nX_3[['total_cases']] = X_3['total_cases'] + X_3['new_cases']\\nX_3[['new_deaths']] = DA_Jitter(X_3['new_deaths'], sigma=20)\\nX_3[['total_deaths']] = X_3['total_deaths'] + X_3['new_deaths']\\n\\nX_4[['new_cases']] = DA_Jitter(X_4[['new_cases']], sigma=1000)\\nX_4[['total_cases']] = X_4['total_cases'] + X_4['new_cases']\\nX_4[['new_deaths']] = DA_Jitter(X_4[['new_deaths']], sigma=30)\\nX_4[['total_deaths']] = X_4['total_deaths'] + X_4['new_deaths']\\n\\nX_5[['new_cases']] = DA_Jitter(X_5[['new_cases']], sigma=1000)\\nX_5[['total_cases']] = X_5['total_cases'] + X_5['new_cases']\\nX_5[['new_deaths']] = DA_Jitter(X_5[['new_deaths']], sigma=40)\\nX_5[['total_deaths']] = X_5['total_deaths'] + X_5['new_deaths']\\n\\nX_6[['new_cases']] = DA_Jitter(X_6[['new_cases']], sigma=1000)\\nX_6[['total_cases']] = X_6['total_cases'] + X_6['new_cases']\\nX_6[['new_deaths']] = DA_Jitter(X_6[['new_deaths']], sigma=50)\\nX_6[['total_deaths']] = X_6['total_deaths'] + X_6['new_deaths']\\n\\n\\n#X_7[['new_cases','total_cases','total_deaths', 'new_deaths', 'population']] = DA_Scaling(X_6[['new_cases','total_cases','total_deaths', 'new_deaths', 'population']], sigma=2000)\\n#X_8[['new_cases','total_cases','total_deaths', 'new_deaths', 'population']] = DA_Scaling(X_7[['new_cases','total_cases','total_deaths', 'new_deaths', 'population']], sigma=3000)\\n#X_4 = pd.DataFrame(X_4,columns=cols_need)\\n#print(X_1.shape)\\nX_train = pd.concat([X_train, X_2,X_3,X_4,X_5,X_6], ignore_index=True)\\n\""
      ]
     },
     "execution_count": 35,
     "metadata": {},
     "output_type": "execute_result"
    }
   ],
   "source": [
    "'''\n",
    "# AUGMENTATION \n",
    "\n",
    "start_date = '2020-06-25'\n",
    "end_date = '2020-07-31'\n",
    "mask = (df['date'] >= start_date) & (df['date'] <= end_date) &  (df['location'].isin(['Morocco']))\n",
    "X_1 = df.loc[mask].sort_index(axis = 0) \n",
    "X_2 = X_3 = X_4 =X_5=X_6=X_7=X_8= X_1\n",
    "\n",
    "X_2[['new_cases']] = DA_Jitter(X_2[['new_cases']], sigma=1000)\n",
    "X_2[['total_cases']] = X_2['total_cases'] + X_2['new_cases']\n",
    "X_2[['new_deaths']] = DA_Jitter(X_2[['new_deaths']], sigma=10)\n",
    "X_2[['total_deaths']] = X_2['total_deaths'] + X_2['new_deaths']\n",
    "\n",
    "X_3[['new_cases']] = DA_Jitter(X_3[['new_cases']], sigma=500)\n",
    "X_3[['total_cases']] = X_3['total_cases'] + X_3['new_cases']\n",
    "X_3[['new_deaths']] = DA_Jitter(X_3['new_deaths'], sigma=20)\n",
    "X_3[['total_deaths']] = X_3['total_deaths'] + X_3['new_deaths']\n",
    "\n",
    "X_4[['new_cases']] = DA_Jitter(X_4[['new_cases']], sigma=1000)\n",
    "X_4[['total_cases']] = X_4['total_cases'] + X_4['new_cases']\n",
    "X_4[['new_deaths']] = DA_Jitter(X_4[['new_deaths']], sigma=30)\n",
    "X_4[['total_deaths']] = X_4['total_deaths'] + X_4['new_deaths']\n",
    "\n",
    "X_5[['new_cases']] = DA_Jitter(X_5[['new_cases']], sigma=1000)\n",
    "X_5[['total_cases']] = X_5['total_cases'] + X_5['new_cases']\n",
    "X_5[['new_deaths']] = DA_Jitter(X_5[['new_deaths']], sigma=40)\n",
    "X_5[['total_deaths']] = X_5['total_deaths'] + X_5['new_deaths']\n",
    "\n",
    "X_6[['new_cases']] = DA_Jitter(X_6[['new_cases']], sigma=1000)\n",
    "X_6[['total_cases']] = X_6['total_cases'] + X_6['new_cases']\n",
    "X_6[['new_deaths']] = DA_Jitter(X_6[['new_deaths']], sigma=50)\n",
    "X_6[['total_deaths']] = X_6['total_deaths'] + X_6['new_deaths']\n",
    "\n",
    "\n",
    "#X_7[['new_cases','total_cases','total_deaths', 'new_deaths', 'population']] = DA_Scaling(X_6[['new_cases','total_cases','total_deaths', 'new_deaths', 'population']], sigma=2000)\n",
    "#X_8[['new_cases','total_cases','total_deaths', 'new_deaths', 'population']] = DA_Scaling(X_7[['new_cases','total_cases','total_deaths', 'new_deaths', 'population']], sigma=3000)\n",
    "#X_4 = pd.DataFrame(X_4,columns=cols_need)\n",
    "#print(X_1.shape)\n",
    "X_train = pd.concat([X_train, X_2,X_3,X_4,X_5,X_6], ignore_index=True)\n",
    "'''"
   ]
  },
  {
   "cell_type": "code",
   "execution_count": 36,
   "metadata": {
    "colab": {
     "base_uri": "https://localhost:8080/",
     "height": 34
    },
    "colab_type": "code",
    "id": "8BNVbElqyyTQ",
    "outputId": "22aa13b2-7598-475e-8f22-8252a4638ea2"
   },
   "outputs": [
    {
     "data": {
      "text/plain": [
       "(84, 7)"
      ]
     },
     "execution_count": 36,
     "metadata": {},
     "output_type": "execute_result"
    }
   ],
   "source": [
    "X_train.shape"
   ]
  },
  {
   "cell_type": "code",
   "execution_count": 37,
   "metadata": {
    "colab": {
     "base_uri": "https://localhost:8080/",
     "height": 359
    },
    "colab_type": "code",
    "id": "MJCEETGWvFsw",
    "outputId": "d7c98ae4-7187-4944-9e17-f2c266e42a10"
   },
   "outputs": [
    {
     "data": {
      "text/html": [
       "<div>\n",
       "<style scoped>\n",
       "    .dataframe tbody tr th:only-of-type {\n",
       "        vertical-align: middle;\n",
       "    }\n",
       "\n",
       "    .dataframe tbody tr th {\n",
       "        vertical-align: top;\n",
       "    }\n",
       "\n",
       "    .dataframe thead th {\n",
       "        text-align: right;\n",
       "    }\n",
       "</style>\n",
       "<table border=\"1\" class=\"dataframe\">\n",
       "  <thead>\n",
       "    <tr style=\"text-align: right;\">\n",
       "      <th></th>\n",
       "      <th>new_cases</th>\n",
       "      <th>total_cases</th>\n",
       "      <th>total_deaths</th>\n",
       "      <th>new_deaths</th>\n",
       "      <th>population</th>\n",
       "      <th>date</th>\n",
       "      <th>location</th>\n",
       "    </tr>\n",
       "  </thead>\n",
       "  <tbody>\n",
       "    <tr>\n",
       "      <th>22928</th>\n",
       "      <td>7.0</td>\n",
       "      <td>615.0</td>\n",
       "      <td>10.0</td>\n",
       "      <td>0.0</td>\n",
       "      <td>36910558.0</td>\n",
       "      <td>2020-03-02</td>\n",
       "      <td>Morocco</td>\n",
       "    </tr>\n",
       "    <tr>\n",
       "      <th>22929</th>\n",
       "      <td>1.0</td>\n",
       "      <td>1.0</td>\n",
       "      <td>0.0</td>\n",
       "      <td>0.0</td>\n",
       "      <td>36910558.0</td>\n",
       "      <td>2020-03-03</td>\n",
       "      <td>Morocco</td>\n",
       "    </tr>\n",
       "    <tr>\n",
       "      <th>22930</th>\n",
       "      <td>7.0</td>\n",
       "      <td>615.0</td>\n",
       "      <td>10.0</td>\n",
       "      <td>0.0</td>\n",
       "      <td>36910558.0</td>\n",
       "      <td>2020-03-04</td>\n",
       "      <td>Morocco</td>\n",
       "    </tr>\n",
       "    <tr>\n",
       "      <th>22931</th>\n",
       "      <td>7.0</td>\n",
       "      <td>615.0</td>\n",
       "      <td>10.0</td>\n",
       "      <td>0.0</td>\n",
       "      <td>36910558.0</td>\n",
       "      <td>2020-03-05</td>\n",
       "      <td>Morocco</td>\n",
       "    </tr>\n",
       "    <tr>\n",
       "      <th>22932</th>\n",
       "      <td>1.0</td>\n",
       "      <td>2.0</td>\n",
       "      <td>0.0</td>\n",
       "      <td>0.0</td>\n",
       "      <td>36910558.0</td>\n",
       "      <td>2020-03-06</td>\n",
       "      <td>Morocco</td>\n",
       "    </tr>\n",
       "    <tr>\n",
       "      <th>22933</th>\n",
       "      <td>7.0</td>\n",
       "      <td>615.0</td>\n",
       "      <td>10.0</td>\n",
       "      <td>0.0</td>\n",
       "      <td>36910558.0</td>\n",
       "      <td>2020-03-07</td>\n",
       "      <td>Morocco</td>\n",
       "    </tr>\n",
       "    <tr>\n",
       "      <th>22934</th>\n",
       "      <td>7.0</td>\n",
       "      <td>615.0</td>\n",
       "      <td>10.0</td>\n",
       "      <td>0.0</td>\n",
       "      <td>36910558.0</td>\n",
       "      <td>2020-03-08</td>\n",
       "      <td>Morocco</td>\n",
       "    </tr>\n",
       "    <tr>\n",
       "      <th>22935</th>\n",
       "      <td>7.0</td>\n",
       "      <td>615.0</td>\n",
       "      <td>10.0</td>\n",
       "      <td>0.0</td>\n",
       "      <td>36910558.0</td>\n",
       "      <td>2020-03-09</td>\n",
       "      <td>Morocco</td>\n",
       "    </tr>\n",
       "    <tr>\n",
       "      <th>22936</th>\n",
       "      <td>7.0</td>\n",
       "      <td>615.0</td>\n",
       "      <td>10.0</td>\n",
       "      <td>0.0</td>\n",
       "      <td>36910558.0</td>\n",
       "      <td>2020-03-10</td>\n",
       "      <td>Morocco</td>\n",
       "    </tr>\n",
       "    <tr>\n",
       "      <th>22937</th>\n",
       "      <td>7.0</td>\n",
       "      <td>615.0</td>\n",
       "      <td>10.0</td>\n",
       "      <td>0.0</td>\n",
       "      <td>36910558.0</td>\n",
       "      <td>2020-03-11</td>\n",
       "      <td>Morocco</td>\n",
       "    </tr>\n",
       "  </tbody>\n",
       "</table>\n",
       "</div>"
      ],
      "text/plain": [
       "       new_cases  total_cases  total_deaths  new_deaths  population  \\\n",
       "22928        7.0        615.0          10.0         0.0  36910558.0   \n",
       "22929        1.0          1.0           0.0         0.0  36910558.0   \n",
       "22930        7.0        615.0          10.0         0.0  36910558.0   \n",
       "22931        7.0        615.0          10.0         0.0  36910558.0   \n",
       "22932        1.0          2.0           0.0         0.0  36910558.0   \n",
       "22933        7.0        615.0          10.0         0.0  36910558.0   \n",
       "22934        7.0        615.0          10.0         0.0  36910558.0   \n",
       "22935        7.0        615.0          10.0         0.0  36910558.0   \n",
       "22936        7.0        615.0          10.0         0.0  36910558.0   \n",
       "22937        7.0        615.0          10.0         0.0  36910558.0   \n",
       "\n",
       "            date location  \n",
       "22928 2020-03-02  Morocco  \n",
       "22929 2020-03-03  Morocco  \n",
       "22930 2020-03-04  Morocco  \n",
       "22931 2020-03-05  Morocco  \n",
       "22932 2020-03-06  Morocco  \n",
       "22933 2020-03-07  Morocco  \n",
       "22934 2020-03-08  Morocco  \n",
       "22935 2020-03-09  Morocco  \n",
       "22936 2020-03-10  Morocco  \n",
       "22937 2020-03-11  Morocco  "
      ]
     },
     "execution_count": 37,
     "metadata": {},
     "output_type": "execute_result"
    }
   ],
   "source": [
    "X_train.head(10)"
   ]
  },
  {
   "cell_type": "code",
   "execution_count": 38,
   "metadata": {
    "colab": {
     "base_uri": "https://localhost:8080/",
     "height": 359
    },
    "colab_type": "code",
    "id": "KWOBTgcGvLwG",
    "outputId": "b0a2bb7d-99d5-46eb-8ef6-3e50a64aad67"
   },
   "outputs": [
    {
     "data": {
      "text/html": [
       "<div>\n",
       "<style scoped>\n",
       "    .dataframe tbody tr th:only-of-type {\n",
       "        vertical-align: middle;\n",
       "    }\n",
       "\n",
       "    .dataframe tbody tr th {\n",
       "        vertical-align: top;\n",
       "    }\n",
       "\n",
       "    .dataframe thead th {\n",
       "        text-align: right;\n",
       "    }\n",
       "</style>\n",
       "<table border=\"1\" class=\"dataframe\">\n",
       "  <thead>\n",
       "    <tr style=\"text-align: right;\">\n",
       "      <th></th>\n",
       "      <th>new_cases</th>\n",
       "      <th>total_cases</th>\n",
       "      <th>total_deaths</th>\n",
       "      <th>new_deaths</th>\n",
       "      <th>population</th>\n",
       "      <th>date</th>\n",
       "      <th>location</th>\n",
       "    </tr>\n",
       "  </thead>\n",
       "  <tbody>\n",
       "    <tr>\n",
       "      <th>23002</th>\n",
       "      <td>95.0</td>\n",
       "      <td>6607.0</td>\n",
       "      <td>190.0</td>\n",
       "      <td>2.0</td>\n",
       "      <td>36910558.0</td>\n",
       "      <td>2020-05-15</td>\n",
       "      <td>Morocco</td>\n",
       "    </tr>\n",
       "    <tr>\n",
       "      <th>23003</th>\n",
       "      <td>45.0</td>\n",
       "      <td>6652.0</td>\n",
       "      <td>190.0</td>\n",
       "      <td>0.0</td>\n",
       "      <td>36910558.0</td>\n",
       "      <td>2020-05-16</td>\n",
       "      <td>Morocco</td>\n",
       "    </tr>\n",
       "    <tr>\n",
       "      <th>23004</th>\n",
       "      <td>89.0</td>\n",
       "      <td>6741.0</td>\n",
       "      <td>192.0</td>\n",
       "      <td>2.0</td>\n",
       "      <td>36910558.0</td>\n",
       "      <td>2020-05-17</td>\n",
       "      <td>Morocco</td>\n",
       "    </tr>\n",
       "    <tr>\n",
       "      <th>23005</th>\n",
       "      <td>129.0</td>\n",
       "      <td>6870.0</td>\n",
       "      <td>192.0</td>\n",
       "      <td>0.0</td>\n",
       "      <td>36910558.0</td>\n",
       "      <td>2020-05-18</td>\n",
       "      <td>Morocco</td>\n",
       "    </tr>\n",
       "    <tr>\n",
       "      <th>23006</th>\n",
       "      <td>82.0</td>\n",
       "      <td>6952.0</td>\n",
       "      <td>192.0</td>\n",
       "      <td>0.0</td>\n",
       "      <td>36910558.0</td>\n",
       "      <td>2020-05-19</td>\n",
       "      <td>Morocco</td>\n",
       "    </tr>\n",
       "    <tr>\n",
       "      <th>23007</th>\n",
       "      <td>71.0</td>\n",
       "      <td>7023.0</td>\n",
       "      <td>193.0</td>\n",
       "      <td>1.0</td>\n",
       "      <td>36910558.0</td>\n",
       "      <td>2020-05-20</td>\n",
       "      <td>Morocco</td>\n",
       "    </tr>\n",
       "    <tr>\n",
       "      <th>23008</th>\n",
       "      <td>110.0</td>\n",
       "      <td>7133.0</td>\n",
       "      <td>194.0</td>\n",
       "      <td>1.0</td>\n",
       "      <td>36910558.0</td>\n",
       "      <td>2020-05-21</td>\n",
       "      <td>Morocco</td>\n",
       "    </tr>\n",
       "    <tr>\n",
       "      <th>23009</th>\n",
       "      <td>78.0</td>\n",
       "      <td>7211.0</td>\n",
       "      <td>196.0</td>\n",
       "      <td>2.0</td>\n",
       "      <td>36910558.0</td>\n",
       "      <td>2020-05-22</td>\n",
       "      <td>Morocco</td>\n",
       "    </tr>\n",
       "    <tr>\n",
       "      <th>23010</th>\n",
       "      <td>121.0</td>\n",
       "      <td>7332.0</td>\n",
       "      <td>197.0</td>\n",
       "      <td>1.0</td>\n",
       "      <td>36910558.0</td>\n",
       "      <td>2020-05-23</td>\n",
       "      <td>Morocco</td>\n",
       "    </tr>\n",
       "    <tr>\n",
       "      <th>23011</th>\n",
       "      <td>74.0</td>\n",
       "      <td>7406.0</td>\n",
       "      <td>198.0</td>\n",
       "      <td>1.0</td>\n",
       "      <td>36910558.0</td>\n",
       "      <td>2020-05-24</td>\n",
       "      <td>Morocco</td>\n",
       "    </tr>\n",
       "  </tbody>\n",
       "</table>\n",
       "</div>"
      ],
      "text/plain": [
       "       new_cases  total_cases  total_deaths  new_deaths  population  \\\n",
       "23002       95.0       6607.0         190.0         2.0  36910558.0   \n",
       "23003       45.0       6652.0         190.0         0.0  36910558.0   \n",
       "23004       89.0       6741.0         192.0         2.0  36910558.0   \n",
       "23005      129.0       6870.0         192.0         0.0  36910558.0   \n",
       "23006       82.0       6952.0         192.0         0.0  36910558.0   \n",
       "23007       71.0       7023.0         193.0         1.0  36910558.0   \n",
       "23008      110.0       7133.0         194.0         1.0  36910558.0   \n",
       "23009       78.0       7211.0         196.0         2.0  36910558.0   \n",
       "23010      121.0       7332.0         197.0         1.0  36910558.0   \n",
       "23011       74.0       7406.0         198.0         1.0  36910558.0   \n",
       "\n",
       "            date location  \n",
       "23002 2020-05-15  Morocco  \n",
       "23003 2020-05-16  Morocco  \n",
       "23004 2020-05-17  Morocco  \n",
       "23005 2020-05-18  Morocco  \n",
       "23006 2020-05-19  Morocco  \n",
       "23007 2020-05-20  Morocco  \n",
       "23008 2020-05-21  Morocco  \n",
       "23009 2020-05-22  Morocco  \n",
       "23010 2020-05-23  Morocco  \n",
       "23011 2020-05-24  Morocco  "
      ]
     },
     "execution_count": 38,
     "metadata": {},
     "output_type": "execute_result"
    }
   ],
   "source": [
    "X_train.tail(10)"
   ]
  },
  {
   "cell_type": "code",
   "execution_count": 39,
   "metadata": {
    "colab": {
     "base_uri": "https://localhost:8080/",
     "height": 34
    },
    "colab_type": "code",
    "id": "-2jZ7FV29QsE",
    "outputId": "2d7cf3ba-a641-43b0-d672-14724ddb9f0d"
   },
   "outputs": [
    {
     "data": {
      "text/plain": [
       "(21, 7)"
      ]
     },
     "execution_count": 39,
     "metadata": {},
     "output_type": "execute_result"
    }
   ],
   "source": [
    "X_test = df.loc[mask2].sort_index(axis = 0) \n",
    "\n",
    "X_test.shape"
   ]
  },
  {
   "cell_type": "code",
   "execution_count": 40,
   "metadata": {
    "colab": {},
    "colab_type": "code",
    "id": "TT0yYI-dppyl"
   },
   "outputs": [],
   "source": [
    "X_test = pd.concat([pd.DataFrame(data_add_test),X_test], ignore_index=True)\n",
    "X_test = X_test.sort_index(axis = 0)"
   ]
  },
  {
   "cell_type": "code",
   "execution_count": 41,
   "metadata": {
    "colab": {
     "base_uri": "https://localhost:8080/",
     "height": 731
    },
    "colab_type": "code",
    "id": "fBFYIySlvQHt",
    "outputId": "314ad927-5acc-47b5-f426-180702d0e1e9"
   },
   "outputs": [
    {
     "data": {
      "text/html": [
       "<div>\n",
       "<style scoped>\n",
       "    .dataframe tbody tr th:only-of-type {\n",
       "        vertical-align: middle;\n",
       "    }\n",
       "\n",
       "    .dataframe tbody tr th {\n",
       "        vertical-align: top;\n",
       "    }\n",
       "\n",
       "    .dataframe thead th {\n",
       "        text-align: right;\n",
       "    }\n",
       "</style>\n",
       "<table border=\"1\" class=\"dataframe\">\n",
       "  <thead>\n",
       "    <tr style=\"text-align: right;\">\n",
       "      <th></th>\n",
       "      <th>new_cases</th>\n",
       "      <th>total_cases</th>\n",
       "      <th>total_deaths</th>\n",
       "      <th>new_deaths</th>\n",
       "      <th>population</th>\n",
       "      <th>date</th>\n",
       "      <th>location</th>\n",
       "    </tr>\n",
       "  </thead>\n",
       "  <tbody>\n",
       "    <tr>\n",
       "      <th>0</th>\n",
       "      <td>74.0</td>\n",
       "      <td>7406.0</td>\n",
       "      <td>198.0</td>\n",
       "      <td>1.0</td>\n",
       "      <td>36910558.0</td>\n",
       "      <td>2020-05-24</td>\n",
       "      <td>Morocco</td>\n",
       "    </tr>\n",
       "    <tr>\n",
       "      <th>1</th>\n",
       "      <td>27.0</td>\n",
       "      <td>7433.0</td>\n",
       "      <td>199.0</td>\n",
       "      <td>1.0</td>\n",
       "      <td>36910558.0</td>\n",
       "      <td>2020-05-25</td>\n",
       "      <td>Morocco</td>\n",
       "    </tr>\n",
       "    <tr>\n",
       "      <th>2</th>\n",
       "      <td>99.0</td>\n",
       "      <td>7532.0</td>\n",
       "      <td>200.0</td>\n",
       "      <td>1.0</td>\n",
       "      <td>36910558.0</td>\n",
       "      <td>2020-05-26</td>\n",
       "      <td>Morocco</td>\n",
       "    </tr>\n",
       "    <tr>\n",
       "      <th>3</th>\n",
       "      <td>45.0</td>\n",
       "      <td>7577.0</td>\n",
       "      <td>202.0</td>\n",
       "      <td>2.0</td>\n",
       "      <td>36910558.0</td>\n",
       "      <td>2020-05-27</td>\n",
       "      <td>Morocco</td>\n",
       "    </tr>\n",
       "    <tr>\n",
       "      <th>4</th>\n",
       "      <td>24.0</td>\n",
       "      <td>7601.0</td>\n",
       "      <td>202.0</td>\n",
       "      <td>0.0</td>\n",
       "      <td>36910558.0</td>\n",
       "      <td>2020-05-28</td>\n",
       "      <td>Morocco</td>\n",
       "    </tr>\n",
       "    <tr>\n",
       "      <th>5</th>\n",
       "      <td>42.0</td>\n",
       "      <td>7643.0</td>\n",
       "      <td>202.0</td>\n",
       "      <td>0.0</td>\n",
       "      <td>36910558.0</td>\n",
       "      <td>2020-05-29</td>\n",
       "      <td>Morocco</td>\n",
       "    </tr>\n",
       "    <tr>\n",
       "      <th>6</th>\n",
       "      <td>71.0</td>\n",
       "      <td>7714.0</td>\n",
       "      <td>202.0</td>\n",
       "      <td>0.0</td>\n",
       "      <td>36910558.0</td>\n",
       "      <td>2020-05-30</td>\n",
       "      <td>Morocco</td>\n",
       "    </tr>\n",
       "    <tr>\n",
       "      <th>7</th>\n",
       "      <td>66.0</td>\n",
       "      <td>7780.0</td>\n",
       "      <td>204.0</td>\n",
       "      <td>2.0</td>\n",
       "      <td>36910558.0</td>\n",
       "      <td>2020-05-31</td>\n",
       "      <td>Morocco</td>\n",
       "    </tr>\n",
       "    <tr>\n",
       "      <th>8</th>\n",
       "      <td>27.0</td>\n",
       "      <td>7807.0</td>\n",
       "      <td>205.0</td>\n",
       "      <td>1.0</td>\n",
       "      <td>36910558.0</td>\n",
       "      <td>2020-06-01</td>\n",
       "      <td>Morocco</td>\n",
       "    </tr>\n",
       "    <tr>\n",
       "      <th>9</th>\n",
       "      <td>26.0</td>\n",
       "      <td>7833.0</td>\n",
       "      <td>205.0</td>\n",
       "      <td>0.0</td>\n",
       "      <td>36910558.0</td>\n",
       "      <td>2020-06-02</td>\n",
       "      <td>Morocco</td>\n",
       "    </tr>\n",
       "    <tr>\n",
       "      <th>10</th>\n",
       "      <td>33.0</td>\n",
       "      <td>7866.0</td>\n",
       "      <td>206.0</td>\n",
       "      <td>1.0</td>\n",
       "      <td>36910558.0</td>\n",
       "      <td>2020-06-03</td>\n",
       "      <td>Morocco</td>\n",
       "    </tr>\n",
       "    <tr>\n",
       "      <th>11</th>\n",
       "      <td>56.0</td>\n",
       "      <td>7922.0</td>\n",
       "      <td>206.0</td>\n",
       "      <td>0.0</td>\n",
       "      <td>36910558.0</td>\n",
       "      <td>2020-06-04</td>\n",
       "      <td>Morocco</td>\n",
       "    </tr>\n",
       "    <tr>\n",
       "      <th>12</th>\n",
       "      <td>81.0</td>\n",
       "      <td>8003.0</td>\n",
       "      <td>208.0</td>\n",
       "      <td>2.0</td>\n",
       "      <td>36910558.0</td>\n",
       "      <td>2020-06-05</td>\n",
       "      <td>Morocco</td>\n",
       "    </tr>\n",
       "    <tr>\n",
       "      <th>13</th>\n",
       "      <td>68.0</td>\n",
       "      <td>8071.0</td>\n",
       "      <td>208.0</td>\n",
       "      <td>0.0</td>\n",
       "      <td>36910558.0</td>\n",
       "      <td>2020-06-06</td>\n",
       "      <td>Morocco</td>\n",
       "    </tr>\n",
       "    <tr>\n",
       "      <th>14</th>\n",
       "      <td>61.0</td>\n",
       "      <td>8132.0</td>\n",
       "      <td>208.0</td>\n",
       "      <td>0.0</td>\n",
       "      <td>36910558.0</td>\n",
       "      <td>2020-06-07</td>\n",
       "      <td>Morocco</td>\n",
       "    </tr>\n",
       "    <tr>\n",
       "      <th>15</th>\n",
       "      <td>92.0</td>\n",
       "      <td>8224.0</td>\n",
       "      <td>208.0</td>\n",
       "      <td>0.0</td>\n",
       "      <td>36910558.0</td>\n",
       "      <td>2020-06-08</td>\n",
       "      <td>Morocco</td>\n",
       "    </tr>\n",
       "    <tr>\n",
       "      <th>16</th>\n",
       "      <td>78.0</td>\n",
       "      <td>8302.0</td>\n",
       "      <td>208.0</td>\n",
       "      <td>0.0</td>\n",
       "      <td>36910558.0</td>\n",
       "      <td>2020-06-09</td>\n",
       "      <td>Morocco</td>\n",
       "    </tr>\n",
       "    <tr>\n",
       "      <th>17</th>\n",
       "      <td>135.0</td>\n",
       "      <td>8437.0</td>\n",
       "      <td>210.0</td>\n",
       "      <td>2.0</td>\n",
       "      <td>36910558.0</td>\n",
       "      <td>2020-06-10</td>\n",
       "      <td>Morocco</td>\n",
       "    </tr>\n",
       "    <tr>\n",
       "      <th>18</th>\n",
       "      <td>18.0</td>\n",
       "      <td>8455.0</td>\n",
       "      <td>210.0</td>\n",
       "      <td>0.0</td>\n",
       "      <td>36910558.0</td>\n",
       "      <td>2020-06-11</td>\n",
       "      <td>Morocco</td>\n",
       "    </tr>\n",
       "    <tr>\n",
       "      <th>19</th>\n",
       "      <td>82.0</td>\n",
       "      <td>8537.0</td>\n",
       "      <td>211.0</td>\n",
       "      <td>1.0</td>\n",
       "      <td>36910558.0</td>\n",
       "      <td>2020-06-12</td>\n",
       "      <td>Morocco</td>\n",
       "    </tr>\n",
       "    <tr>\n",
       "      <th>20</th>\n",
       "      <td>73.0</td>\n",
       "      <td>8610.0</td>\n",
       "      <td>212.0</td>\n",
       "      <td>1.0</td>\n",
       "      <td>36910558.0</td>\n",
       "      <td>2020-06-13</td>\n",
       "      <td>Morocco</td>\n",
       "    </tr>\n",
       "    <tr>\n",
       "      <th>21</th>\n",
       "      <td>82.0</td>\n",
       "      <td>8692.0</td>\n",
       "      <td>212.0</td>\n",
       "      <td>0.0</td>\n",
       "      <td>36910558.0</td>\n",
       "      <td>2020-06-14</td>\n",
       "      <td>Morocco</td>\n",
       "    </tr>\n",
       "  </tbody>\n",
       "</table>\n",
       "</div>"
      ],
      "text/plain": [
       "    new_cases  total_cases  total_deaths  new_deaths  population       date  \\\n",
       "0        74.0       7406.0         198.0         1.0  36910558.0 2020-05-24   \n",
       "1        27.0       7433.0         199.0         1.0  36910558.0 2020-05-25   \n",
       "2        99.0       7532.0         200.0         1.0  36910558.0 2020-05-26   \n",
       "3        45.0       7577.0         202.0         2.0  36910558.0 2020-05-27   \n",
       "4        24.0       7601.0         202.0         0.0  36910558.0 2020-05-28   \n",
       "5        42.0       7643.0         202.0         0.0  36910558.0 2020-05-29   \n",
       "6        71.0       7714.0         202.0         0.0  36910558.0 2020-05-30   \n",
       "7        66.0       7780.0         204.0         2.0  36910558.0 2020-05-31   \n",
       "8        27.0       7807.0         205.0         1.0  36910558.0 2020-06-01   \n",
       "9        26.0       7833.0         205.0         0.0  36910558.0 2020-06-02   \n",
       "10       33.0       7866.0         206.0         1.0  36910558.0 2020-06-03   \n",
       "11       56.0       7922.0         206.0         0.0  36910558.0 2020-06-04   \n",
       "12       81.0       8003.0         208.0         2.0  36910558.0 2020-06-05   \n",
       "13       68.0       8071.0         208.0         0.0  36910558.0 2020-06-06   \n",
       "14       61.0       8132.0         208.0         0.0  36910558.0 2020-06-07   \n",
       "15       92.0       8224.0         208.0         0.0  36910558.0 2020-06-08   \n",
       "16       78.0       8302.0         208.0         0.0  36910558.0 2020-06-09   \n",
       "17      135.0       8437.0         210.0         2.0  36910558.0 2020-06-10   \n",
       "18       18.0       8455.0         210.0         0.0  36910558.0 2020-06-11   \n",
       "19       82.0       8537.0         211.0         1.0  36910558.0 2020-06-12   \n",
       "20       73.0       8610.0         212.0         1.0  36910558.0 2020-06-13   \n",
       "21       82.0       8692.0         212.0         0.0  36910558.0 2020-06-14   \n",
       "\n",
       "   location  \n",
       "0   Morocco  \n",
       "1   Morocco  \n",
       "2   Morocco  \n",
       "3   Morocco  \n",
       "4   Morocco  \n",
       "5   Morocco  \n",
       "6   Morocco  \n",
       "7   Morocco  \n",
       "8   Morocco  \n",
       "9   Morocco  \n",
       "10  Morocco  \n",
       "11  Morocco  \n",
       "12  Morocco  \n",
       "13  Morocco  \n",
       "14  Morocco  \n",
       "15  Morocco  \n",
       "16  Morocco  \n",
       "17  Morocco  \n",
       "18  Morocco  \n",
       "19  Morocco  \n",
       "20  Morocco  \n",
       "21  Morocco  "
      ]
     },
     "execution_count": 41,
     "metadata": {},
     "output_type": "execute_result"
    }
   ],
   "source": [
    "X_test"
   ]
  },
  {
   "cell_type": "code",
   "execution_count": 42,
   "metadata": {
    "colab": {},
    "colab_type": "code",
    "id": "3rrEQ5Gl9QsT"
   },
   "outputs": [],
   "source": [
    "X_test['timestamp'] = pd.to_datetime(X_test['date'], infer_datetime_format=True)\n",
    "X_test.set_index('timestamp', inplace=True)\n",
    "\n",
    "X_train['timestamp'] = pd.to_datetime(X_train['date'], infer_datetime_format=True)\n",
    "X_train.set_index('timestamp', inplace=True)"
   ]
  },
  {
   "cell_type": "code",
   "execution_count": 43,
   "metadata": {
    "colab": {},
    "colab_type": "code",
    "id": "RDMJvlLt9Qsi"
   },
   "outputs": [],
   "source": [
    "X_train=X_train[['new_cases','total_cases','total_deaths', 'new_deaths', 'population']]\n",
    "\n",
    "X_test=X_test[['new_cases','total_cases','total_deaths', 'new_deaths', 'population']]\n",
    "Y_test=X_test[['new_cases']]\n",
    "\n",
    "Y_train=X_train[['new_cases']]"
   ]
  },
  {
   "cell_type": "code",
   "execution_count": 44,
   "metadata": {
    "colab": {},
    "colab_type": "code",
    "id": "0omRI18IzoLI"
   },
   "outputs": [],
   "source": [
    "days=X_test[nb_seq:].index\n",
    "days=days.sort_values()"
   ]
  },
  {
   "cell_type": "code",
   "execution_count": 45,
   "metadata": {
    "colab": {},
    "colab_type": "code",
    "id": "zxU8sOHz9Qs2"
   },
   "outputs": [],
   "source": [
    "#days=days[nb_seq:]"
   ]
  },
  {
   "cell_type": "code",
   "execution_count": 46,
   "metadata": {
    "colab": {
     "base_uri": "https://localhost:8080/",
     "height": 85
    },
    "colab_type": "code",
    "id": "jZPsUAAk9QtA",
    "outputId": "5c4caeb7-be9b-4eb8-9595-4ca7851cfa8d"
   },
   "outputs": [
    {
     "name": "stdout",
     "output_type": "stream",
     "text": [
      "(84, 5)\n",
      "(84, 1)\n",
      "(22, 5)\n",
      "(22, 1)\n"
     ]
    }
   ],
   "source": [
    "print(X_train.shape)\n",
    "print(Y_train.shape)\n",
    "print(X_test.shape)\n",
    "print(Y_test.shape)"
   ]
  },
  {
   "cell_type": "code",
   "execution_count": 47,
   "metadata": {
    "colab": {},
    "colab_type": "code",
    "id": "9aEHENxE9QtJ"
   },
   "outputs": [],
   "source": [
    "from sklearn.preprocessing import MinMaxScaler\n",
    "\n",
    "scaler = MinMaxScaler(feature_range=(0, 1))\n",
    "scaler2= MinMaxScaler(feature_range=(0, 1))"
   ]
  },
  {
   "cell_type": "code",
   "execution_count": 48,
   "metadata": {
    "colab": {},
    "colab_type": "code",
    "id": "rd2PWxHzdHk-"
   },
   "outputs": [],
   "source": [
    "# convert series to supervised learning\n",
    "def series_to_supervised(data, n_in=1, n_out=1, dropnan=True):\n",
    "    n_vars = 1 if type(data) is list else data.shape[1]\n",
    "    df = pd.DataFrame(data)\n",
    "    cols, names = list(), list()\n",
    "    # input sequence (t-n, ... t-1)\n",
    "    for i in range(n_in, 0, -1):\n",
    "        cols.append(df.shift(i))\n",
    "        names += [('var%d(t-%d)' % (j+1, i)) for j in range(n_vars)]\n",
    "    # forecast sequence (t, t+1, ... t+n)\n",
    "    for i in range(0, n_out):\n",
    "        cols.append(df.shift(-i))\n",
    "        if i == 0:\n",
    "            names += [('var%d(t)' % (j+1)) for j in range(n_vars)]\n",
    "        else:\n",
    "            names += [('var%d(t+%d)' % (j+1, i)) for j in range(n_vars)]\n",
    "    # put it all together\n",
    "    agg = pd.concat(cols, axis=1)\n",
    "    agg.columns = names\n",
    "    # drop rows with NaN values\n",
    "    if dropnan:\n",
    "        agg.dropna(inplace=True)\n",
    "    return agg"
   ]
  },
  {
   "cell_type": "code",
   "execution_count": 49,
   "metadata": {
    "colab": {
     "base_uri": "https://localhost:8080/",
     "height": 323
    },
    "colab_type": "code",
    "id": "W2TLWcHE9QtP",
    "outputId": "80c09542-302f-4e82-ef8e-e741d77881d8"
   },
   "outputs": [
    {
     "name": "stdout",
     "output_type": "stream",
     "text": [
      "    var1(t-1)  var2(t-1)  var3(t-1)  var4(t-1)  var5(t-1)   var1(t)   var2(t)  \\\n",
      "1    0.024911   0.082917   0.050505   0.000000        0.0  0.003559  0.000000   \n",
      "2    0.003559   0.000000   0.000000   0.000000        0.0  0.024911  0.082917   \n",
      "3    0.024911   0.082917   0.050505   0.000000        0.0  0.024911  0.082917   \n",
      "4    0.024911   0.082917   0.050505   0.000000        0.0  0.003559  0.000135   \n",
      "5    0.003559   0.000135   0.000000   0.000000        0.0  0.024911  0.082917   \n",
      "..        ...        ...        ...        ...        ...       ...       ...   \n",
      "73   0.487544   0.866577   0.949495   0.000000        0.0  0.334520  0.879271   \n",
      "74   0.334520   0.879271   0.949495   0.000000        0.0  0.338078  0.892100   \n",
      "75   0.338078   0.892100   0.959596   0.133333        0.0  0.160142  0.898177   \n",
      "76   0.160142   0.898177   0.959596   0.000000        0.0  0.316726  0.910196   \n",
      "77   0.316726   0.910196   0.969697   0.133333        0.0  0.459075  0.927616   \n",
      "\n",
      "     var3(t)   var4(t)  var5(t)  ...  var1(t+5)  var2(t+5)  var3(t+5)  \\\n",
      "1   0.000000  0.000000      0.0  ...   0.024911   0.082917   0.050505   \n",
      "2   0.050505  0.000000      0.0  ...   0.024911   0.082917   0.050505   \n",
      "3   0.050505  0.000000      0.0  ...   0.024911   0.082917   0.050505   \n",
      "4   0.000000  0.000000      0.0  ...   0.024911   0.082917   0.050505   \n",
      "5   0.050505  0.000000      0.0  ...   0.010676   0.000540   0.005051   \n",
      "..       ...       ...      ...  ...        ...        ...        ...   \n",
      "73  0.949495  0.000000      0.0  ...   0.291815   0.938690   0.969697   \n",
      "74  0.959596  0.133333      0.0  ...   0.252669   0.948278   0.974747   \n",
      "75  0.959596  0.000000      0.0  ...   0.391459   0.963133   0.979798   \n",
      "76  0.969697  0.133333      0.0  ...   0.277580   0.973666   0.989899   \n",
      "77  0.969697  0.000000      0.0  ...   0.430605   0.990007   0.994950   \n",
      "\n",
      "    var4(t+5)  var5(t+5)  var1(t+6)  var2(t+6)  var3(t+6)  var4(t+6)  \\\n",
      "1    0.000000        0.0   0.024911   0.082917   0.050505   0.000000   \n",
      "2    0.000000        0.0   0.024911   0.082917   0.050505   0.000000   \n",
      "3    0.000000        0.0   0.024911   0.082917   0.050505   0.000000   \n",
      "4    0.000000        0.0   0.010676   0.000540   0.005051   0.066667   \n",
      "5    0.066667        0.0   0.003559   0.000675   0.005051   0.000000   \n",
      "..        ...        ...        ...        ...        ...        ...   \n",
      "73   0.000000        0.0   0.252669   0.948278   0.974747   0.066667   \n",
      "74   0.066667        0.0   0.391459   0.963133   0.979798   0.066667   \n",
      "75   0.066667        0.0   0.277580   0.973666   0.989899   0.133333   \n",
      "76   0.133333        0.0   0.430605   0.990007   0.994950   0.066667   \n",
      "77   0.066667        0.0   0.263345   1.000000   1.000000   0.066667   \n",
      "\n",
      "    var5(t+6)  \n",
      "1         0.0  \n",
      "2         0.0  \n",
      "3         0.0  \n",
      "4         0.0  \n",
      "5         0.0  \n",
      "..        ...  \n",
      "73        0.0  \n",
      "74        0.0  \n",
      "75        0.0  \n",
      "76        0.0  \n",
      "77        0.0  \n",
      "\n",
      "[77 rows x 40 columns]\n",
      "(77, 40)\n",
      "(15, 40)\n",
      "(77, 8)\n",
      "(15, 8)\n"
     ]
    }
   ],
   "source": [
    "\n",
    "X_train=X_train\n",
    "X_test=X_test\n",
    "Y_train=Y_train\n",
    "Y_test=Y_test\n",
    "\n",
    "# ensure all data is float\n",
    "X_train = X_train.astype('float32')\n",
    "# ensure all data is float\n",
    "X_test = X_test.astype('float32')\n",
    "# ensure all data is float\n",
    "Y_test = Y_test.astype('float32')\n",
    "# ensure all data is float\n",
    "Y_train = Y_train.astype('float32')\n",
    "\n",
    "# normalize features\n",
    "\n",
    "X_train= scaler.fit_transform(X_train)\n",
    "X_test= scaler.fit_transform(X_test)\n",
    "Y_train= scaler2.fit_transform(Y_train)\n",
    "Y_test= scaler2.fit_transform(Y_test)\n",
    "\n",
    "# reframe as supervised learning\n",
    "# on doit toujours vers une conversion vers n_out ensuite con choisit le nombre de colonnes dont nous avons besoins\n",
    "X_train = series_to_supervised(X_train, nb_seq, n_out)\n",
    "X_test = series_to_supervised(X_test, nb_seq, n_out)\n",
    "print(X_train)\n",
    "print(X_train.shape)\n",
    "print(X_test.shape)\n",
    "Y_train = series_to_supervised(Y_train, nb_seq, n_out)\n",
    "Y_test = series_to_supervised(Y_test, nb_seq, n_out)\n",
    "print(Y_train.shape)\n",
    "print(Y_test.shape)\n"
   ]
  },
  {
   "cell_type": "code",
   "execution_count": 50,
   "metadata": {
    "colab": {
     "base_uri": "https://localhost:8080/",
     "height": 323
    },
    "colab_type": "code",
    "id": "cYXt69kl_9da",
    "outputId": "35f2d969-cc98-46a7-aaff-5aac3d0c0958"
   },
   "outputs": [
    {
     "name": "stdout",
     "output_type": "stream",
     "text": [
      "    var1(t-1)  var2(t-1)  var3(t-1)  var4(t-1)  var5(t-1)   var1(t)   var2(t)  \\\n",
      "1    0.478633   0.000000   0.000000        0.5        0.0  0.076923  0.020995   \n",
      "2    0.076923   0.020995   0.071429        0.5        0.0  0.692308  0.097978   \n",
      "3    0.692308   0.097978   0.142858        0.5        0.0  0.230769  0.132970   \n",
      "4    0.230769   0.132970   0.285714        1.0        0.0  0.051282  0.151633   \n",
      "5    0.051282   0.151633   0.285714        0.0        0.0  0.205128  0.184292   \n",
      "6    0.205128   0.184292   0.285714        0.0        0.0  0.452991  0.239502   \n",
      "7    0.452991   0.239502   0.285714        0.0        0.0  0.410256  0.290824   \n",
      "8    0.410256   0.290824   0.428572        1.0        0.0  0.076923  0.311820   \n",
      "9    0.076923   0.311820   0.500000        0.5        0.0  0.068376  0.332037   \n",
      "10   0.068376   0.332037   0.500000        0.0        0.0  0.128205  0.357698   \n",
      "11   0.128205   0.357698   0.571429        0.5        0.0  0.324786  0.401244   \n",
      "12   0.324786   0.401244   0.571429        0.0        0.0  0.538462  0.464230   \n",
      "13   0.538462   0.464230   0.714286        1.0        0.0  0.427350  0.517107   \n",
      "14   0.427350   0.517107   0.714286        0.0        0.0  0.367521  0.564541   \n",
      "15   0.367521   0.564541   0.714286        0.0        0.0  0.632479  0.636081   \n",
      "\n",
      "     var3(t)  var4(t)  var5(t)  ...  var1(t+5)  var2(t+5)  var3(t+5)  \\\n",
      "1   0.071429      0.5      0.0  ...   0.452991   0.239502   0.285714   \n",
      "2   0.142858      0.5      0.0  ...   0.410256   0.290824   0.428572   \n",
      "3   0.285714      1.0      0.0  ...   0.076923   0.311820   0.500000   \n",
      "4   0.285714      0.0      0.0  ...   0.068376   0.332037   0.500000   \n",
      "5   0.285714      0.0      0.0  ...   0.128205   0.357698   0.571429   \n",
      "6   0.285714      0.0      0.0  ...   0.324786   0.401244   0.571429   \n",
      "7   0.428572      1.0      0.0  ...   0.538462   0.464230   0.714286   \n",
      "8   0.500000      0.5      0.0  ...   0.427350   0.517107   0.714286   \n",
      "9   0.500000      0.0      0.0  ...   0.367521   0.564541   0.714286   \n",
      "10  0.571429      0.5      0.0  ...   0.632479   0.636081   0.714286   \n",
      "11  0.571429      0.0      0.0  ...   0.512821   0.696734   0.714286   \n",
      "12  0.714286      1.0      0.0  ...   1.000000   0.801711   0.857143   \n",
      "13  0.714286      0.0      0.0  ...   0.000000   0.815708   0.857143   \n",
      "14  0.714286      0.0      0.0  ...   0.547009   0.879471   0.928572   \n",
      "15  0.714286      0.0      0.0  ...   0.470086   0.936236   1.000000   \n",
      "\n",
      "    var4(t+5)  var5(t+5)  var1(t+6)  var2(t+6)  var3(t+6)  var4(t+6)  \\\n",
      "1         0.0        0.0   0.410256   0.290824   0.428572        1.0   \n",
      "2         1.0        0.0   0.076923   0.311820   0.500000        0.5   \n",
      "3         0.5        0.0   0.068376   0.332037   0.500000        0.0   \n",
      "4         0.0        0.0   0.128205   0.357698   0.571429        0.5   \n",
      "5         0.5        0.0   0.324786   0.401244   0.571429        0.0   \n",
      "6         0.0        0.0   0.538462   0.464230   0.714286        1.0   \n",
      "7         1.0        0.0   0.427350   0.517107   0.714286        0.0   \n",
      "8         0.0        0.0   0.367521   0.564541   0.714286        0.0   \n",
      "9         0.0        0.0   0.632479   0.636081   0.714286        0.0   \n",
      "10        0.0        0.0   0.512821   0.696734   0.714286        0.0   \n",
      "11        0.0        0.0   1.000000   0.801711   0.857143        1.0   \n",
      "12        1.0        0.0   0.000000   0.815708   0.857143        0.0   \n",
      "13        0.0        0.0   0.547009   0.879471   0.928572        0.5   \n",
      "14        0.5        0.0   0.470086   0.936236   1.000000        0.5   \n",
      "15        0.5        0.0   0.547009   1.000000   1.000000        0.0   \n",
      "\n",
      "    var5(t+6)  \n",
      "1         0.0  \n",
      "2         0.0  \n",
      "3         0.0  \n",
      "4         0.0  \n",
      "5         0.0  \n",
      "6         0.0  \n",
      "7         0.0  \n",
      "8         0.0  \n",
      "9         0.0  \n",
      "10        0.0  \n",
      "11        0.0  \n",
      "12        0.0  \n",
      "13        0.0  \n",
      "14        0.0  \n",
      "15        0.0  \n",
      "\n",
      "[15 rows x 40 columns]\n"
     ]
    }
   ],
   "source": [
    "print(X_test)"
   ]
  },
  {
   "cell_type": "code",
   "execution_count": 51,
   "metadata": {
    "colab": {},
    "colab_type": "code",
    "id": "8Dcz-maG0iU6"
   },
   "outputs": [],
   "source": [
    "#col_y_need_train = df.filter(regex=(\"d.*\"))"
   ]
  },
  {
   "cell_type": "code",
   "execution_count": 52,
   "metadata": {
    "colab": {
     "base_uri": "https://localhost:8080/",
     "height": 456
    },
    "colab_type": "code",
    "id": "HbSgu1Up9QtY",
    "outputId": "69fce894-8534-4efc-aecf-1fc769cb22c5"
   },
   "outputs": [
    {
     "data": {
      "text/html": [
       "<div>\n",
       "<style scoped>\n",
       "    .dataframe tbody tr th:only-of-type {\n",
       "        vertical-align: middle;\n",
       "    }\n",
       "\n",
       "    .dataframe tbody tr th {\n",
       "        vertical-align: top;\n",
       "    }\n",
       "\n",
       "    .dataframe thead th {\n",
       "        text-align: right;\n",
       "    }\n",
       "</style>\n",
       "<table border=\"1\" class=\"dataframe\">\n",
       "  <thead>\n",
       "    <tr style=\"text-align: right;\">\n",
       "      <th></th>\n",
       "      <th>var1(t-1)</th>\n",
       "      <th>var2(t-1)</th>\n",
       "      <th>var3(t-1)</th>\n",
       "      <th>var4(t-1)</th>\n",
       "      <th>var5(t-1)</th>\n",
       "      <th>var1(t)</th>\n",
       "      <th>var2(t)</th>\n",
       "      <th>var3(t)</th>\n",
       "      <th>var4(t)</th>\n",
       "      <th>var5(t)</th>\n",
       "      <th>...</th>\n",
       "      <th>var1(t+5)</th>\n",
       "      <th>var2(t+5)</th>\n",
       "      <th>var3(t+5)</th>\n",
       "      <th>var4(t+5)</th>\n",
       "      <th>var5(t+5)</th>\n",
       "      <th>var1(t+6)</th>\n",
       "      <th>var2(t+6)</th>\n",
       "      <th>var3(t+6)</th>\n",
       "      <th>var4(t+6)</th>\n",
       "      <th>var5(t+6)</th>\n",
       "    </tr>\n",
       "  </thead>\n",
       "  <tbody>\n",
       "    <tr>\n",
       "      <th>1</th>\n",
       "      <td>0.024911</td>\n",
       "      <td>0.082917</td>\n",
       "      <td>0.050505</td>\n",
       "      <td>0.000000</td>\n",
       "      <td>0.0</td>\n",
       "      <td>0.003559</td>\n",
       "      <td>0.000000</td>\n",
       "      <td>0.000000</td>\n",
       "      <td>0.000000</td>\n",
       "      <td>0.0</td>\n",
       "      <td>...</td>\n",
       "      <td>0.024911</td>\n",
       "      <td>0.082917</td>\n",
       "      <td>0.050505</td>\n",
       "      <td>0.000000</td>\n",
       "      <td>0.0</td>\n",
       "      <td>0.024911</td>\n",
       "      <td>0.082917</td>\n",
       "      <td>0.050505</td>\n",
       "      <td>0.000000</td>\n",
       "      <td>0.0</td>\n",
       "    </tr>\n",
       "    <tr>\n",
       "      <th>2</th>\n",
       "      <td>0.003559</td>\n",
       "      <td>0.000000</td>\n",
       "      <td>0.000000</td>\n",
       "      <td>0.000000</td>\n",
       "      <td>0.0</td>\n",
       "      <td>0.024911</td>\n",
       "      <td>0.082917</td>\n",
       "      <td>0.050505</td>\n",
       "      <td>0.000000</td>\n",
       "      <td>0.0</td>\n",
       "      <td>...</td>\n",
       "      <td>0.024911</td>\n",
       "      <td>0.082917</td>\n",
       "      <td>0.050505</td>\n",
       "      <td>0.000000</td>\n",
       "      <td>0.0</td>\n",
       "      <td>0.024911</td>\n",
       "      <td>0.082917</td>\n",
       "      <td>0.050505</td>\n",
       "      <td>0.000000</td>\n",
       "      <td>0.0</td>\n",
       "    </tr>\n",
       "    <tr>\n",
       "      <th>3</th>\n",
       "      <td>0.024911</td>\n",
       "      <td>0.082917</td>\n",
       "      <td>0.050505</td>\n",
       "      <td>0.000000</td>\n",
       "      <td>0.0</td>\n",
       "      <td>0.024911</td>\n",
       "      <td>0.082917</td>\n",
       "      <td>0.050505</td>\n",
       "      <td>0.000000</td>\n",
       "      <td>0.0</td>\n",
       "      <td>...</td>\n",
       "      <td>0.024911</td>\n",
       "      <td>0.082917</td>\n",
       "      <td>0.050505</td>\n",
       "      <td>0.000000</td>\n",
       "      <td>0.0</td>\n",
       "      <td>0.024911</td>\n",
       "      <td>0.082917</td>\n",
       "      <td>0.050505</td>\n",
       "      <td>0.000000</td>\n",
       "      <td>0.0</td>\n",
       "    </tr>\n",
       "    <tr>\n",
       "      <th>4</th>\n",
       "      <td>0.024911</td>\n",
       "      <td>0.082917</td>\n",
       "      <td>0.050505</td>\n",
       "      <td>0.000000</td>\n",
       "      <td>0.0</td>\n",
       "      <td>0.003559</td>\n",
       "      <td>0.000135</td>\n",
       "      <td>0.000000</td>\n",
       "      <td>0.000000</td>\n",
       "      <td>0.0</td>\n",
       "      <td>...</td>\n",
       "      <td>0.024911</td>\n",
       "      <td>0.082917</td>\n",
       "      <td>0.050505</td>\n",
       "      <td>0.000000</td>\n",
       "      <td>0.0</td>\n",
       "      <td>0.010676</td>\n",
       "      <td>0.000540</td>\n",
       "      <td>0.005051</td>\n",
       "      <td>0.066667</td>\n",
       "      <td>0.0</td>\n",
       "    </tr>\n",
       "    <tr>\n",
       "      <th>5</th>\n",
       "      <td>0.003559</td>\n",
       "      <td>0.000135</td>\n",
       "      <td>0.000000</td>\n",
       "      <td>0.000000</td>\n",
       "      <td>0.0</td>\n",
       "      <td>0.024911</td>\n",
       "      <td>0.082917</td>\n",
       "      <td>0.050505</td>\n",
       "      <td>0.000000</td>\n",
       "      <td>0.0</td>\n",
       "      <td>...</td>\n",
       "      <td>0.010676</td>\n",
       "      <td>0.000540</td>\n",
       "      <td>0.005051</td>\n",
       "      <td>0.066667</td>\n",
       "      <td>0.0</td>\n",
       "      <td>0.003559</td>\n",
       "      <td>0.000675</td>\n",
       "      <td>0.005051</td>\n",
       "      <td>0.000000</td>\n",
       "      <td>0.0</td>\n",
       "    </tr>\n",
       "    <tr>\n",
       "      <th>...</th>\n",
       "      <td>...</td>\n",
       "      <td>...</td>\n",
       "      <td>...</td>\n",
       "      <td>...</td>\n",
       "      <td>...</td>\n",
       "      <td>...</td>\n",
       "      <td>...</td>\n",
       "      <td>...</td>\n",
       "      <td>...</td>\n",
       "      <td>...</td>\n",
       "      <td>...</td>\n",
       "      <td>...</td>\n",
       "      <td>...</td>\n",
       "      <td>...</td>\n",
       "      <td>...</td>\n",
       "      <td>...</td>\n",
       "      <td>...</td>\n",
       "      <td>...</td>\n",
       "      <td>...</td>\n",
       "      <td>...</td>\n",
       "      <td>...</td>\n",
       "    </tr>\n",
       "    <tr>\n",
       "      <th>73</th>\n",
       "      <td>0.487544</td>\n",
       "      <td>0.866577</td>\n",
       "      <td>0.949495</td>\n",
       "      <td>0.000000</td>\n",
       "      <td>0.0</td>\n",
       "      <td>0.334520</td>\n",
       "      <td>0.879271</td>\n",
       "      <td>0.949495</td>\n",
       "      <td>0.000000</td>\n",
       "      <td>0.0</td>\n",
       "      <td>...</td>\n",
       "      <td>0.291815</td>\n",
       "      <td>0.938690</td>\n",
       "      <td>0.969697</td>\n",
       "      <td>0.000000</td>\n",
       "      <td>0.0</td>\n",
       "      <td>0.252669</td>\n",
       "      <td>0.948278</td>\n",
       "      <td>0.974747</td>\n",
       "      <td>0.066667</td>\n",
       "      <td>0.0</td>\n",
       "    </tr>\n",
       "    <tr>\n",
       "      <th>74</th>\n",
       "      <td>0.334520</td>\n",
       "      <td>0.879271</td>\n",
       "      <td>0.949495</td>\n",
       "      <td>0.000000</td>\n",
       "      <td>0.0</td>\n",
       "      <td>0.338078</td>\n",
       "      <td>0.892100</td>\n",
       "      <td>0.959596</td>\n",
       "      <td>0.133333</td>\n",
       "      <td>0.0</td>\n",
       "      <td>...</td>\n",
       "      <td>0.252669</td>\n",
       "      <td>0.948278</td>\n",
       "      <td>0.974747</td>\n",
       "      <td>0.066667</td>\n",
       "      <td>0.0</td>\n",
       "      <td>0.391459</td>\n",
       "      <td>0.963133</td>\n",
       "      <td>0.979798</td>\n",
       "      <td>0.066667</td>\n",
       "      <td>0.0</td>\n",
       "    </tr>\n",
       "    <tr>\n",
       "      <th>75</th>\n",
       "      <td>0.338078</td>\n",
       "      <td>0.892100</td>\n",
       "      <td>0.959596</td>\n",
       "      <td>0.133333</td>\n",
       "      <td>0.0</td>\n",
       "      <td>0.160142</td>\n",
       "      <td>0.898177</td>\n",
       "      <td>0.959596</td>\n",
       "      <td>0.000000</td>\n",
       "      <td>0.0</td>\n",
       "      <td>...</td>\n",
       "      <td>0.391459</td>\n",
       "      <td>0.963133</td>\n",
       "      <td>0.979798</td>\n",
       "      <td>0.066667</td>\n",
       "      <td>0.0</td>\n",
       "      <td>0.277580</td>\n",
       "      <td>0.973666</td>\n",
       "      <td>0.989899</td>\n",
       "      <td>0.133333</td>\n",
       "      <td>0.0</td>\n",
       "    </tr>\n",
       "    <tr>\n",
       "      <th>76</th>\n",
       "      <td>0.160142</td>\n",
       "      <td>0.898177</td>\n",
       "      <td>0.959596</td>\n",
       "      <td>0.000000</td>\n",
       "      <td>0.0</td>\n",
       "      <td>0.316726</td>\n",
       "      <td>0.910196</td>\n",
       "      <td>0.969697</td>\n",
       "      <td>0.133333</td>\n",
       "      <td>0.0</td>\n",
       "      <td>...</td>\n",
       "      <td>0.277580</td>\n",
       "      <td>0.973666</td>\n",
       "      <td>0.989899</td>\n",
       "      <td>0.133333</td>\n",
       "      <td>0.0</td>\n",
       "      <td>0.430605</td>\n",
       "      <td>0.990007</td>\n",
       "      <td>0.994950</td>\n",
       "      <td>0.066667</td>\n",
       "      <td>0.0</td>\n",
       "    </tr>\n",
       "    <tr>\n",
       "      <th>77</th>\n",
       "      <td>0.316726</td>\n",
       "      <td>0.910196</td>\n",
       "      <td>0.969697</td>\n",
       "      <td>0.133333</td>\n",
       "      <td>0.0</td>\n",
       "      <td>0.459075</td>\n",
       "      <td>0.927616</td>\n",
       "      <td>0.969697</td>\n",
       "      <td>0.000000</td>\n",
       "      <td>0.0</td>\n",
       "      <td>...</td>\n",
       "      <td>0.430605</td>\n",
       "      <td>0.990007</td>\n",
       "      <td>0.994950</td>\n",
       "      <td>0.066667</td>\n",
       "      <td>0.0</td>\n",
       "      <td>0.263345</td>\n",
       "      <td>1.000000</td>\n",
       "      <td>1.000000</td>\n",
       "      <td>0.066667</td>\n",
       "      <td>0.0</td>\n",
       "    </tr>\n",
       "  </tbody>\n",
       "</table>\n",
       "<p>77 rows × 40 columns</p>\n",
       "</div>"
      ],
      "text/plain": [
       "    var1(t-1)  var2(t-1)  var3(t-1)  var4(t-1)  var5(t-1)   var1(t)   var2(t)  \\\n",
       "1    0.024911   0.082917   0.050505   0.000000        0.0  0.003559  0.000000   \n",
       "2    0.003559   0.000000   0.000000   0.000000        0.0  0.024911  0.082917   \n",
       "3    0.024911   0.082917   0.050505   0.000000        0.0  0.024911  0.082917   \n",
       "4    0.024911   0.082917   0.050505   0.000000        0.0  0.003559  0.000135   \n",
       "5    0.003559   0.000135   0.000000   0.000000        0.0  0.024911  0.082917   \n",
       "..        ...        ...        ...        ...        ...       ...       ...   \n",
       "73   0.487544   0.866577   0.949495   0.000000        0.0  0.334520  0.879271   \n",
       "74   0.334520   0.879271   0.949495   0.000000        0.0  0.338078  0.892100   \n",
       "75   0.338078   0.892100   0.959596   0.133333        0.0  0.160142  0.898177   \n",
       "76   0.160142   0.898177   0.959596   0.000000        0.0  0.316726  0.910196   \n",
       "77   0.316726   0.910196   0.969697   0.133333        0.0  0.459075  0.927616   \n",
       "\n",
       "     var3(t)   var4(t)  var5(t)  ...  var1(t+5)  var2(t+5)  var3(t+5)  \\\n",
       "1   0.000000  0.000000      0.0  ...   0.024911   0.082917   0.050505   \n",
       "2   0.050505  0.000000      0.0  ...   0.024911   0.082917   0.050505   \n",
       "3   0.050505  0.000000      0.0  ...   0.024911   0.082917   0.050505   \n",
       "4   0.000000  0.000000      0.0  ...   0.024911   0.082917   0.050505   \n",
       "5   0.050505  0.000000      0.0  ...   0.010676   0.000540   0.005051   \n",
       "..       ...       ...      ...  ...        ...        ...        ...   \n",
       "73  0.949495  0.000000      0.0  ...   0.291815   0.938690   0.969697   \n",
       "74  0.959596  0.133333      0.0  ...   0.252669   0.948278   0.974747   \n",
       "75  0.959596  0.000000      0.0  ...   0.391459   0.963133   0.979798   \n",
       "76  0.969697  0.133333      0.0  ...   0.277580   0.973666   0.989899   \n",
       "77  0.969697  0.000000      0.0  ...   0.430605   0.990007   0.994950   \n",
       "\n",
       "    var4(t+5)  var5(t+5)  var1(t+6)  var2(t+6)  var3(t+6)  var4(t+6)  \\\n",
       "1    0.000000        0.0   0.024911   0.082917   0.050505   0.000000   \n",
       "2    0.000000        0.0   0.024911   0.082917   0.050505   0.000000   \n",
       "3    0.000000        0.0   0.024911   0.082917   0.050505   0.000000   \n",
       "4    0.000000        0.0   0.010676   0.000540   0.005051   0.066667   \n",
       "5    0.066667        0.0   0.003559   0.000675   0.005051   0.000000   \n",
       "..        ...        ...        ...        ...        ...        ...   \n",
       "73   0.000000        0.0   0.252669   0.948278   0.974747   0.066667   \n",
       "74   0.066667        0.0   0.391459   0.963133   0.979798   0.066667   \n",
       "75   0.066667        0.0   0.277580   0.973666   0.989899   0.133333   \n",
       "76   0.133333        0.0   0.430605   0.990007   0.994950   0.066667   \n",
       "77   0.066667        0.0   0.263345   1.000000   1.000000   0.066667   \n",
       "\n",
       "    var5(t+6)  \n",
       "1         0.0  \n",
       "2         0.0  \n",
       "3         0.0  \n",
       "4         0.0  \n",
       "5         0.0  \n",
       "..        ...  \n",
       "73        0.0  \n",
       "74        0.0  \n",
       "75        0.0  \n",
       "76        0.0  \n",
       "77        0.0  \n",
       "\n",
       "[77 rows x 40 columns]"
      ]
     },
     "execution_count": 52,
     "metadata": {},
     "output_type": "execute_result"
    }
   ],
   "source": [
    "#col_y_need_train=X_train.columns[[35,40,45,50,55,60,65]]\n",
    "#col_y_need_test=X_test.columns[[35,40,45,50,55,60,65]]\n",
    "X_train"
   ]
  },
  {
   "cell_type": "code",
   "execution_count": 53,
   "metadata": {
    "colab": {
     "base_uri": "https://localhost:8080/",
     "height": 204
    },
    "colab_type": "code",
    "id": "q05jJm5-9Qtq",
    "outputId": "23b18c55-d116-4ebd-fb29-44b43c7e79c3"
   },
   "outputs": [
    {
     "data": {
      "text/html": [
       "<div>\n",
       "<style scoped>\n",
       "    .dataframe tbody tr th:only-of-type {\n",
       "        vertical-align: middle;\n",
       "    }\n",
       "\n",
       "    .dataframe tbody tr th {\n",
       "        vertical-align: top;\n",
       "    }\n",
       "\n",
       "    .dataframe thead th {\n",
       "        text-align: right;\n",
       "    }\n",
       "</style>\n",
       "<table border=\"1\" class=\"dataframe\">\n",
       "  <thead>\n",
       "    <tr style=\"text-align: right;\">\n",
       "      <th></th>\n",
       "      <th>var1(t-1)</th>\n",
       "      <th>var1(t)</th>\n",
       "      <th>var1(t+1)</th>\n",
       "      <th>var1(t+2)</th>\n",
       "      <th>var1(t+3)</th>\n",
       "      <th>var1(t+4)</th>\n",
       "      <th>var1(t+5)</th>\n",
       "      <th>var1(t+6)</th>\n",
       "    </tr>\n",
       "  </thead>\n",
       "  <tbody>\n",
       "    <tr>\n",
       "      <th>1</th>\n",
       "      <td>0.024911</td>\n",
       "      <td>0.003559</td>\n",
       "      <td>0.024911</td>\n",
       "      <td>0.024911</td>\n",
       "      <td>0.003559</td>\n",
       "      <td>0.024911</td>\n",
       "      <td>0.024911</td>\n",
       "      <td>0.024911</td>\n",
       "    </tr>\n",
       "    <tr>\n",
       "      <th>2</th>\n",
       "      <td>0.003559</td>\n",
       "      <td>0.024911</td>\n",
       "      <td>0.024911</td>\n",
       "      <td>0.003559</td>\n",
       "      <td>0.024911</td>\n",
       "      <td>0.024911</td>\n",
       "      <td>0.024911</td>\n",
       "      <td>0.024911</td>\n",
       "    </tr>\n",
       "    <tr>\n",
       "      <th>3</th>\n",
       "      <td>0.024911</td>\n",
       "      <td>0.024911</td>\n",
       "      <td>0.003559</td>\n",
       "      <td>0.024911</td>\n",
       "      <td>0.024911</td>\n",
       "      <td>0.024911</td>\n",
       "      <td>0.024911</td>\n",
       "      <td>0.024911</td>\n",
       "    </tr>\n",
       "    <tr>\n",
       "      <th>4</th>\n",
       "      <td>0.024911</td>\n",
       "      <td>0.003559</td>\n",
       "      <td>0.024911</td>\n",
       "      <td>0.024911</td>\n",
       "      <td>0.024911</td>\n",
       "      <td>0.024911</td>\n",
       "      <td>0.024911</td>\n",
       "      <td>0.010676</td>\n",
       "    </tr>\n",
       "    <tr>\n",
       "      <th>5</th>\n",
       "      <td>0.003559</td>\n",
       "      <td>0.024911</td>\n",
       "      <td>0.024911</td>\n",
       "      <td>0.024911</td>\n",
       "      <td>0.024911</td>\n",
       "      <td>0.024911</td>\n",
       "      <td>0.010676</td>\n",
       "      <td>0.003559</td>\n",
       "    </tr>\n",
       "  </tbody>\n",
       "</table>\n",
       "</div>"
      ],
      "text/plain": [
       "   var1(t-1)   var1(t)  var1(t+1)  var1(t+2)  var1(t+3)  var1(t+4)  var1(t+5)  \\\n",
       "1   0.024911  0.003559   0.024911   0.024911   0.003559   0.024911   0.024911   \n",
       "2   0.003559  0.024911   0.024911   0.003559   0.024911   0.024911   0.024911   \n",
       "3   0.024911  0.024911   0.003559   0.024911   0.024911   0.024911   0.024911   \n",
       "4   0.024911  0.003559   0.024911   0.024911   0.024911   0.024911   0.024911   \n",
       "5   0.003559  0.024911   0.024911   0.024911   0.024911   0.024911   0.010676   \n",
       "\n",
       "   var1(t+6)  \n",
       "1   0.024911  \n",
       "2   0.024911  \n",
       "3   0.024911  \n",
       "4   0.010676  \n",
       "5   0.003559  "
      ]
     },
     "execution_count": 53,
     "metadata": {},
     "output_type": "execute_result"
    }
   ],
   "source": [
    "Y_train.head(5)"
   ]
  },
  {
   "cell_type": "code",
   "execution_count": 54,
   "metadata": {
    "colab": {},
    "colab_type": "code",
    "id": "MHjdzxPrIcbM"
   },
   "outputs": [],
   "source": [
    "#raise SystemExit(\"Stop right there!\")"
   ]
  },
  {
   "cell_type": "code",
   "execution_count": 55,
   "metadata": {
    "colab": {},
    "colab_type": "code",
    "id": "VHWuvjKEsO81"
   },
   "outputs": [],
   "source": [
    "# regex : var[1-i]\\(t\\-\\d{1,2}\\)$\n",
    "#i = 1 if nb_seq== 7 else 2 if nb_seq== 6 else 3 if nb_seq== 5 else 4 if nb_seq== 4 else 5 if nb_seq== 3 else 6 if nb_seq== 2 else 7 if nb_seq== 1 else 0\n",
    "col_take= 'var[1-j]\\(t\\-[1-i]\\)$'\n",
    "col_take = col_take.replace(\"i\", str(nb_seq))\n",
    "col_take = col_take.replace(\"j\", str(nb_col))\n",
    "regex_find = col_take"
   ]
  },
  {
   "cell_type": "code",
   "execution_count": 56,
   "metadata": {
    "colab": {},
    "colab_type": "code",
    "id": "uoBVVOfjcAWl"
   },
   "outputs": [],
   "source": [
    "col_x_need_train =X_train.filter(regex=regex_find,axis=1).head(1)"
   ]
  },
  {
   "cell_type": "code",
   "execution_count": 57,
   "metadata": {
    "colab": {
     "base_uri": "https://localhost:8080/",
     "height": 80
    },
    "colab_type": "code",
    "id": "5GN1s0yvickp",
    "outputId": "ed072923-32db-4120-cbd8-6acae1ba4303"
   },
   "outputs": [
    {
     "data": {
      "text/html": [
       "<div>\n",
       "<style scoped>\n",
       "    .dataframe tbody tr th:only-of-type {\n",
       "        vertical-align: middle;\n",
       "    }\n",
       "\n",
       "    .dataframe tbody tr th {\n",
       "        vertical-align: top;\n",
       "    }\n",
       "\n",
       "    .dataframe thead th {\n",
       "        text-align: right;\n",
       "    }\n",
       "</style>\n",
       "<table border=\"1\" class=\"dataframe\">\n",
       "  <thead>\n",
       "    <tr style=\"text-align: right;\">\n",
       "      <th></th>\n",
       "      <th>var1(t-1)</th>\n",
       "      <th>var2(t-1)</th>\n",
       "      <th>var3(t-1)</th>\n",
       "      <th>var4(t-1)</th>\n",
       "      <th>var5(t-1)</th>\n",
       "    </tr>\n",
       "  </thead>\n",
       "  <tbody>\n",
       "    <tr>\n",
       "      <th>1</th>\n",
       "      <td>0.024911</td>\n",
       "      <td>0.082917</td>\n",
       "      <td>0.050505</td>\n",
       "      <td>0.0</td>\n",
       "      <td>0.0</td>\n",
       "    </tr>\n",
       "  </tbody>\n",
       "</table>\n",
       "</div>"
      ],
      "text/plain": [
       "   var1(t-1)  var2(t-1)  var3(t-1)  var4(t-1)  var5(t-1)\n",
       "1   0.024911   0.082917   0.050505        0.0        0.0"
      ]
     },
     "execution_count": 57,
     "metadata": {},
     "output_type": "execute_result"
    }
   ],
   "source": [
    "col_x_need_train"
   ]
  },
  {
   "cell_type": "code",
   "execution_count": 58,
   "metadata": {
    "colab": {
     "base_uri": "https://localhost:8080/",
     "height": 80
    },
    "colab_type": "code",
    "id": "pppynxRkncZs",
    "outputId": "d0bd3b2c-e897-4aa0-e265-300f96ac4bef"
   },
   "outputs": [
    {
     "data": {
      "text/html": [
       "<div>\n",
       "<style scoped>\n",
       "    .dataframe tbody tr th:only-of-type {\n",
       "        vertical-align: middle;\n",
       "    }\n",
       "\n",
       "    .dataframe tbody tr th {\n",
       "        vertical-align: top;\n",
       "    }\n",
       "\n",
       "    .dataframe thead th {\n",
       "        text-align: right;\n",
       "    }\n",
       "</style>\n",
       "<table border=\"1\" class=\"dataframe\">\n",
       "  <thead>\n",
       "    <tr style=\"text-align: right;\">\n",
       "      <th></th>\n",
       "      <th>var1(t)</th>\n",
       "      <th>var1(t+1)</th>\n",
       "      <th>var1(t+2)</th>\n",
       "      <th>var1(t+3)</th>\n",
       "      <th>var1(t+4)</th>\n",
       "      <th>var1(t+5)</th>\n",
       "      <th>var1(t+6)</th>\n",
       "    </tr>\n",
       "  </thead>\n",
       "  <tbody>\n",
       "    <tr>\n",
       "      <th>1</th>\n",
       "      <td>0.003559</td>\n",
       "      <td>0.024911</td>\n",
       "      <td>0.024911</td>\n",
       "      <td>0.003559</td>\n",
       "      <td>0.024911</td>\n",
       "      <td>0.024911</td>\n",
       "      <td>0.024911</td>\n",
       "    </tr>\n",
       "  </tbody>\n",
       "</table>\n",
       "</div>"
      ],
      "text/plain": [
       "    var1(t)  var1(t+1)  var1(t+2)  var1(t+3)  var1(t+4)  var1(t+5)  var1(t+6)\n",
       "1  0.003559   0.024911   0.024911   0.003559   0.024911   0.024911   0.024911"
      ]
     },
     "execution_count": 58,
     "metadata": {},
     "output_type": "execute_result"
    }
   ],
   "source": [
    "#col_take2= 'var[1-i](\\(t\\+\\d{1}\\)|(\\(t\\)))$'\n",
    "col_take2= 'var1(\\(t\\+\\d{1}\\)|(\\(t\\)))$'\n",
    "#col_take2 = col_take2.replace(\"i\", str(nb_seq))\n",
    "regex_find2 = col_take2\n",
    "Y_train.filter(regex=regex_find2,axis=1).head(1)"
   ]
  },
  {
   "cell_type": "code",
   "execution_count": 59,
   "metadata": {
    "colab": {},
    "colab_type": "code",
    "id": "ANB0h6aIi_US"
   },
   "outputs": [],
   "source": [
    "#raise SystemExit(\"Stop right there!\")"
   ]
  },
  {
   "cell_type": "code",
   "execution_count": 60,
   "metadata": {
    "colab": {},
    "colab_type": "code",
    "id": "1-OQ97TjJhvq"
   },
   "outputs": [],
   "source": [
    "#col_x_need_train=X_train.columns[[0,1,2,3,4,5,6,7,8,9,10,11,12,13,14,15,16,17,18,19,20,21,22,23,24,25,26,27,28,29,30,31,32,33,34]]\n",
    "#col_x_need_test=X_test.columns[[0,1,2,3,4,5,6,7,8,9,10,11,12,13,14,15,16,17,18,19,20,21,22,23,24,25,26,27,28,29,30,31,32,33,34]]"
   ]
  },
  {
   "cell_type": "code",
   "execution_count": 61,
   "metadata": {
    "colab": {},
    "colab_type": "code",
    "id": "DrNN8HnZLQHp"
   },
   "outputs": [],
   "source": [
    "#col_x_need_train"
   ]
  },
  {
   "cell_type": "code",
   "execution_count": 62,
   "metadata": {
    "colab": {
     "base_uri": "https://localhost:8080/",
     "height": 51
    },
    "colab_type": "code",
    "id": "SL10kb5XJRk3",
    "outputId": "2d4de092-c53a-4139-fc63-66fcacb5a80d"
   },
   "outputs": [
    {
     "name": "stdout",
     "output_type": "stream",
     "text": [
      "(77, 7)\n",
      "(15, 7)\n"
     ]
    }
   ],
   "source": [
    "# drop columns we don't want to predict\n",
    "Y_train = Y_train.filter(regex='var[1-7](\\(t\\+\\d{1}\\)|(\\(t\\)))$',axis=1)\n",
    "Y_test=Y_test.filter(regex='var[1-7](\\(t\\+\\d{1}\\)|(\\(t\\)))$',axis=1)\n",
    "Y_train\n",
    "print(Y_train.shape)\n",
    "print(Y_test.shape)\n"
   ]
  },
  {
   "cell_type": "code",
   "execution_count": 63,
   "metadata": {
    "colab": {
     "base_uri": "https://localhost:8080/",
     "height": 204
    },
    "colab_type": "code",
    "id": "SZUaUtU7oEfA",
    "outputId": "f9b6338f-1525-4bbc-d5b8-19ca6eaf5d68"
   },
   "outputs": [
    {
     "data": {
      "text/html": [
       "<div>\n",
       "<style scoped>\n",
       "    .dataframe tbody tr th:only-of-type {\n",
       "        vertical-align: middle;\n",
       "    }\n",
       "\n",
       "    .dataframe tbody tr th {\n",
       "        vertical-align: top;\n",
       "    }\n",
       "\n",
       "    .dataframe thead th {\n",
       "        text-align: right;\n",
       "    }\n",
       "</style>\n",
       "<table border=\"1\" class=\"dataframe\">\n",
       "  <thead>\n",
       "    <tr style=\"text-align: right;\">\n",
       "      <th></th>\n",
       "      <th>var1(t)</th>\n",
       "      <th>var1(t+1)</th>\n",
       "      <th>var1(t+2)</th>\n",
       "      <th>var1(t+3)</th>\n",
       "      <th>var1(t+4)</th>\n",
       "      <th>var1(t+5)</th>\n",
       "      <th>var1(t+6)</th>\n",
       "    </tr>\n",
       "  </thead>\n",
       "  <tbody>\n",
       "    <tr>\n",
       "      <th>1</th>\n",
       "      <td>0.003559</td>\n",
       "      <td>0.024911</td>\n",
       "      <td>0.024911</td>\n",
       "      <td>0.003559</td>\n",
       "      <td>0.024911</td>\n",
       "      <td>0.024911</td>\n",
       "      <td>0.024911</td>\n",
       "    </tr>\n",
       "    <tr>\n",
       "      <th>2</th>\n",
       "      <td>0.024911</td>\n",
       "      <td>0.024911</td>\n",
       "      <td>0.003559</td>\n",
       "      <td>0.024911</td>\n",
       "      <td>0.024911</td>\n",
       "      <td>0.024911</td>\n",
       "      <td>0.024911</td>\n",
       "    </tr>\n",
       "    <tr>\n",
       "      <th>3</th>\n",
       "      <td>0.024911</td>\n",
       "      <td>0.003559</td>\n",
       "      <td>0.024911</td>\n",
       "      <td>0.024911</td>\n",
       "      <td>0.024911</td>\n",
       "      <td>0.024911</td>\n",
       "      <td>0.024911</td>\n",
       "    </tr>\n",
       "    <tr>\n",
       "      <th>4</th>\n",
       "      <td>0.003559</td>\n",
       "      <td>0.024911</td>\n",
       "      <td>0.024911</td>\n",
       "      <td>0.024911</td>\n",
       "      <td>0.024911</td>\n",
       "      <td>0.024911</td>\n",
       "      <td>0.010676</td>\n",
       "    </tr>\n",
       "    <tr>\n",
       "      <th>5</th>\n",
       "      <td>0.024911</td>\n",
       "      <td>0.024911</td>\n",
       "      <td>0.024911</td>\n",
       "      <td>0.024911</td>\n",
       "      <td>0.024911</td>\n",
       "      <td>0.010676</td>\n",
       "      <td>0.003559</td>\n",
       "    </tr>\n",
       "  </tbody>\n",
       "</table>\n",
       "</div>"
      ],
      "text/plain": [
       "    var1(t)  var1(t+1)  var1(t+2)  var1(t+3)  var1(t+4)  var1(t+5)  var1(t+6)\n",
       "1  0.003559   0.024911   0.024911   0.003559   0.024911   0.024911   0.024911\n",
       "2  0.024911   0.024911   0.003559   0.024911   0.024911   0.024911   0.024911\n",
       "3  0.024911   0.003559   0.024911   0.024911   0.024911   0.024911   0.024911\n",
       "4  0.003559   0.024911   0.024911   0.024911   0.024911   0.024911   0.010676\n",
       "5  0.024911   0.024911   0.024911   0.024911   0.024911   0.010676   0.003559"
      ]
     },
     "execution_count": 63,
     "metadata": {},
     "output_type": "execute_result"
    }
   ],
   "source": [
    "Y_train.head(5)"
   ]
  },
  {
   "cell_type": "code",
   "execution_count": 64,
   "metadata": {
    "colab": {
     "base_uri": "https://localhost:8080/",
     "height": 453
    },
    "colab_type": "code",
    "id": "aKFreTgy9Qt5",
    "outputId": "1e3da73c-5b38-4893-c139-74852d404af2"
   },
   "outputs": [
    {
     "name": "stdout",
     "output_type": "stream",
     "text": [
      "(77, 5)\n",
      "(15, 5)\n"
     ]
    },
    {
     "data": {
      "text/html": [
       "<div>\n",
       "<style scoped>\n",
       "    .dataframe tbody tr th:only-of-type {\n",
       "        vertical-align: middle;\n",
       "    }\n",
       "\n",
       "    .dataframe tbody tr th {\n",
       "        vertical-align: top;\n",
       "    }\n",
       "\n",
       "    .dataframe thead th {\n",
       "        text-align: right;\n",
       "    }\n",
       "</style>\n",
       "<table border=\"1\" class=\"dataframe\">\n",
       "  <thead>\n",
       "    <tr style=\"text-align: right;\">\n",
       "      <th></th>\n",
       "      <th>var1(t-1)</th>\n",
       "      <th>var2(t-1)</th>\n",
       "      <th>var3(t-1)</th>\n",
       "      <th>var4(t-1)</th>\n",
       "      <th>var5(t-1)</th>\n",
       "    </tr>\n",
       "  </thead>\n",
       "  <tbody>\n",
       "    <tr>\n",
       "      <th>1</th>\n",
       "      <td>0.024911</td>\n",
       "      <td>0.082917</td>\n",
       "      <td>0.050505</td>\n",
       "      <td>0.000000</td>\n",
       "      <td>0.0</td>\n",
       "    </tr>\n",
       "    <tr>\n",
       "      <th>2</th>\n",
       "      <td>0.003559</td>\n",
       "      <td>0.000000</td>\n",
       "      <td>0.000000</td>\n",
       "      <td>0.000000</td>\n",
       "      <td>0.0</td>\n",
       "    </tr>\n",
       "    <tr>\n",
       "      <th>3</th>\n",
       "      <td>0.024911</td>\n",
       "      <td>0.082917</td>\n",
       "      <td>0.050505</td>\n",
       "      <td>0.000000</td>\n",
       "      <td>0.0</td>\n",
       "    </tr>\n",
       "    <tr>\n",
       "      <th>4</th>\n",
       "      <td>0.024911</td>\n",
       "      <td>0.082917</td>\n",
       "      <td>0.050505</td>\n",
       "      <td>0.000000</td>\n",
       "      <td>0.0</td>\n",
       "    </tr>\n",
       "    <tr>\n",
       "      <th>5</th>\n",
       "      <td>0.003559</td>\n",
       "      <td>0.000135</td>\n",
       "      <td>0.000000</td>\n",
       "      <td>0.000000</td>\n",
       "      <td>0.0</td>\n",
       "    </tr>\n",
       "    <tr>\n",
       "      <th>...</th>\n",
       "      <td>...</td>\n",
       "      <td>...</td>\n",
       "      <td>...</td>\n",
       "      <td>...</td>\n",
       "      <td>...</td>\n",
       "    </tr>\n",
       "    <tr>\n",
       "      <th>73</th>\n",
       "      <td>0.487544</td>\n",
       "      <td>0.866577</td>\n",
       "      <td>0.949495</td>\n",
       "      <td>0.000000</td>\n",
       "      <td>0.0</td>\n",
       "    </tr>\n",
       "    <tr>\n",
       "      <th>74</th>\n",
       "      <td>0.334520</td>\n",
       "      <td>0.879271</td>\n",
       "      <td>0.949495</td>\n",
       "      <td>0.000000</td>\n",
       "      <td>0.0</td>\n",
       "    </tr>\n",
       "    <tr>\n",
       "      <th>75</th>\n",
       "      <td>0.338078</td>\n",
       "      <td>0.892100</td>\n",
       "      <td>0.959596</td>\n",
       "      <td>0.133333</td>\n",
       "      <td>0.0</td>\n",
       "    </tr>\n",
       "    <tr>\n",
       "      <th>76</th>\n",
       "      <td>0.160142</td>\n",
       "      <td>0.898177</td>\n",
       "      <td>0.959596</td>\n",
       "      <td>0.000000</td>\n",
       "      <td>0.0</td>\n",
       "    </tr>\n",
       "    <tr>\n",
       "      <th>77</th>\n",
       "      <td>0.316726</td>\n",
       "      <td>0.910196</td>\n",
       "      <td>0.969697</td>\n",
       "      <td>0.133333</td>\n",
       "      <td>0.0</td>\n",
       "    </tr>\n",
       "  </tbody>\n",
       "</table>\n",
       "<p>77 rows × 5 columns</p>\n",
       "</div>"
      ],
      "text/plain": [
       "    var1(t-1)  var2(t-1)  var3(t-1)  var4(t-1)  var5(t-1)\n",
       "1    0.024911   0.082917   0.050505   0.000000        0.0\n",
       "2    0.003559   0.000000   0.000000   0.000000        0.0\n",
       "3    0.024911   0.082917   0.050505   0.000000        0.0\n",
       "4    0.024911   0.082917   0.050505   0.000000        0.0\n",
       "5    0.003559   0.000135   0.000000   0.000000        0.0\n",
       "..        ...        ...        ...        ...        ...\n",
       "73   0.487544   0.866577   0.949495   0.000000        0.0\n",
       "74   0.334520   0.879271   0.949495   0.000000        0.0\n",
       "75   0.338078   0.892100   0.959596   0.133333        0.0\n",
       "76   0.160142   0.898177   0.959596   0.000000        0.0\n",
       "77   0.316726   0.910196   0.969697   0.133333        0.0\n",
       "\n",
       "[77 rows x 5 columns]"
      ]
     },
     "execution_count": 64,
     "metadata": {},
     "output_type": "execute_result"
    }
   ],
   "source": [
    "# drop columns we don't want to predict\n",
    "X_train = X_train.filter(regex=regex_find,axis=1)\n",
    "X_test=X_test.filter(regex=regex_find,axis=1)\n",
    "print(X_train.shape)\n",
    "print(X_test.shape)\n",
    "X_train\n"
   ]
  },
  {
   "cell_type": "code",
   "execution_count": 65,
   "metadata": {
    "colab": {
     "base_uri": "https://localhost:8080/",
     "height": 514
    },
    "colab_type": "code",
    "id": "dvLCFaExBN5m",
    "outputId": "ee0451db-802c-47a6-95a2-912d44467b9e"
   },
   "outputs": [
    {
     "data": {
      "text/html": [
       "<div>\n",
       "<style scoped>\n",
       "    .dataframe tbody tr th:only-of-type {\n",
       "        vertical-align: middle;\n",
       "    }\n",
       "\n",
       "    .dataframe tbody tr th {\n",
       "        vertical-align: top;\n",
       "    }\n",
       "\n",
       "    .dataframe thead th {\n",
       "        text-align: right;\n",
       "    }\n",
       "</style>\n",
       "<table border=\"1\" class=\"dataframe\">\n",
       "  <thead>\n",
       "    <tr style=\"text-align: right;\">\n",
       "      <th></th>\n",
       "      <th>var1(t-1)</th>\n",
       "      <th>var2(t-1)</th>\n",
       "      <th>var3(t-1)</th>\n",
       "      <th>var4(t-1)</th>\n",
       "      <th>var5(t-1)</th>\n",
       "    </tr>\n",
       "  </thead>\n",
       "  <tbody>\n",
       "    <tr>\n",
       "      <th>1</th>\n",
       "      <td>0.478633</td>\n",
       "      <td>0.000000</td>\n",
       "      <td>0.000000</td>\n",
       "      <td>0.5</td>\n",
       "      <td>0.0</td>\n",
       "    </tr>\n",
       "    <tr>\n",
       "      <th>2</th>\n",
       "      <td>0.076923</td>\n",
       "      <td>0.020995</td>\n",
       "      <td>0.071429</td>\n",
       "      <td>0.5</td>\n",
       "      <td>0.0</td>\n",
       "    </tr>\n",
       "    <tr>\n",
       "      <th>3</th>\n",
       "      <td>0.692308</td>\n",
       "      <td>0.097978</td>\n",
       "      <td>0.142858</td>\n",
       "      <td>0.5</td>\n",
       "      <td>0.0</td>\n",
       "    </tr>\n",
       "    <tr>\n",
       "      <th>4</th>\n",
       "      <td>0.230769</td>\n",
       "      <td>0.132970</td>\n",
       "      <td>0.285714</td>\n",
       "      <td>1.0</td>\n",
       "      <td>0.0</td>\n",
       "    </tr>\n",
       "    <tr>\n",
       "      <th>5</th>\n",
       "      <td>0.051282</td>\n",
       "      <td>0.151633</td>\n",
       "      <td>0.285714</td>\n",
       "      <td>0.0</td>\n",
       "      <td>0.0</td>\n",
       "    </tr>\n",
       "    <tr>\n",
       "      <th>6</th>\n",
       "      <td>0.205128</td>\n",
       "      <td>0.184292</td>\n",
       "      <td>0.285714</td>\n",
       "      <td>0.0</td>\n",
       "      <td>0.0</td>\n",
       "    </tr>\n",
       "    <tr>\n",
       "      <th>7</th>\n",
       "      <td>0.452991</td>\n",
       "      <td>0.239502</td>\n",
       "      <td>0.285714</td>\n",
       "      <td>0.0</td>\n",
       "      <td>0.0</td>\n",
       "    </tr>\n",
       "    <tr>\n",
       "      <th>8</th>\n",
       "      <td>0.410256</td>\n",
       "      <td>0.290824</td>\n",
       "      <td>0.428572</td>\n",
       "      <td>1.0</td>\n",
       "      <td>0.0</td>\n",
       "    </tr>\n",
       "    <tr>\n",
       "      <th>9</th>\n",
       "      <td>0.076923</td>\n",
       "      <td>0.311820</td>\n",
       "      <td>0.500000</td>\n",
       "      <td>0.5</td>\n",
       "      <td>0.0</td>\n",
       "    </tr>\n",
       "    <tr>\n",
       "      <th>10</th>\n",
       "      <td>0.068376</td>\n",
       "      <td>0.332037</td>\n",
       "      <td>0.500000</td>\n",
       "      <td>0.0</td>\n",
       "      <td>0.0</td>\n",
       "    </tr>\n",
       "    <tr>\n",
       "      <th>11</th>\n",
       "      <td>0.128205</td>\n",
       "      <td>0.357698</td>\n",
       "      <td>0.571429</td>\n",
       "      <td>0.5</td>\n",
       "      <td>0.0</td>\n",
       "    </tr>\n",
       "    <tr>\n",
       "      <th>12</th>\n",
       "      <td>0.324786</td>\n",
       "      <td>0.401244</td>\n",
       "      <td>0.571429</td>\n",
       "      <td>0.0</td>\n",
       "      <td>0.0</td>\n",
       "    </tr>\n",
       "    <tr>\n",
       "      <th>13</th>\n",
       "      <td>0.538462</td>\n",
       "      <td>0.464230</td>\n",
       "      <td>0.714286</td>\n",
       "      <td>1.0</td>\n",
       "      <td>0.0</td>\n",
       "    </tr>\n",
       "    <tr>\n",
       "      <th>14</th>\n",
       "      <td>0.427350</td>\n",
       "      <td>0.517107</td>\n",
       "      <td>0.714286</td>\n",
       "      <td>0.0</td>\n",
       "      <td>0.0</td>\n",
       "    </tr>\n",
       "    <tr>\n",
       "      <th>15</th>\n",
       "      <td>0.367521</td>\n",
       "      <td>0.564541</td>\n",
       "      <td>0.714286</td>\n",
       "      <td>0.0</td>\n",
       "      <td>0.0</td>\n",
       "    </tr>\n",
       "  </tbody>\n",
       "</table>\n",
       "</div>"
      ],
      "text/plain": [
       "    var1(t-1)  var2(t-1)  var3(t-1)  var4(t-1)  var5(t-1)\n",
       "1    0.478633   0.000000   0.000000        0.5        0.0\n",
       "2    0.076923   0.020995   0.071429        0.5        0.0\n",
       "3    0.692308   0.097978   0.142858        0.5        0.0\n",
       "4    0.230769   0.132970   0.285714        1.0        0.0\n",
       "5    0.051282   0.151633   0.285714        0.0        0.0\n",
       "6    0.205128   0.184292   0.285714        0.0        0.0\n",
       "7    0.452991   0.239502   0.285714        0.0        0.0\n",
       "8    0.410256   0.290824   0.428572        1.0        0.0\n",
       "9    0.076923   0.311820   0.500000        0.5        0.0\n",
       "10   0.068376   0.332037   0.500000        0.0        0.0\n",
       "11   0.128205   0.357698   0.571429        0.5        0.0\n",
       "12   0.324786   0.401244   0.571429        0.0        0.0\n",
       "13   0.538462   0.464230   0.714286        1.0        0.0\n",
       "14   0.427350   0.517107   0.714286        0.0        0.0\n",
       "15   0.367521   0.564541   0.714286        0.0        0.0"
      ]
     },
     "execution_count": 65,
     "metadata": {},
     "output_type": "execute_result"
    }
   ],
   "source": [
    "X_test"
   ]
  },
  {
   "cell_type": "code",
   "execution_count": 66,
   "metadata": {
    "colab": {
     "base_uri": "https://localhost:8080/",
     "height": 34
    },
    "colab_type": "code",
    "id": "HLhC2Nm39QuD",
    "outputId": "adb2462f-89e3-4154-f48c-94a4e1cf0ad2"
   },
   "outputs": [
    {
     "name": "stdout",
     "output_type": "stream",
     "text": [
      "(15, 5)\n"
     ]
    }
   ],
   "source": [
    "print(X_test.shape)"
   ]
  },
  {
   "cell_type": "code",
   "execution_count": 67,
   "metadata": {
    "colab": {},
    "colab_type": "code",
    "id": "Ata5gkZB9QuL"
   },
   "outputs": [],
   "source": [
    "nb_col=5"
   ]
  },
  {
   "cell_type": "code",
   "execution_count": 68,
   "metadata": {
    "colab": {
     "base_uri": "https://localhost:8080/",
     "height": 80
    },
    "colab_type": "code",
    "id": "CeszEGTM_qcH",
    "outputId": "0f435e43-54e9-447a-9b8a-de6cea1dc831"
   },
   "outputs": [
    {
     "data": {
      "text/html": [
       "<div>\n",
       "<style scoped>\n",
       "    .dataframe tbody tr th:only-of-type {\n",
       "        vertical-align: middle;\n",
       "    }\n",
       "\n",
       "    .dataframe tbody tr th {\n",
       "        vertical-align: top;\n",
       "    }\n",
       "\n",
       "    .dataframe thead th {\n",
       "        text-align: right;\n",
       "    }\n",
       "</style>\n",
       "<table border=\"1\" class=\"dataframe\">\n",
       "  <thead>\n",
       "    <tr style=\"text-align: right;\">\n",
       "      <th></th>\n",
       "      <th>var1(t-1)</th>\n",
       "      <th>var2(t-1)</th>\n",
       "      <th>var3(t-1)</th>\n",
       "      <th>var4(t-1)</th>\n",
       "      <th>var5(t-1)</th>\n",
       "    </tr>\n",
       "  </thead>\n",
       "  <tbody>\n",
       "    <tr>\n",
       "      <th>1</th>\n",
       "      <td>0.478633</td>\n",
       "      <td>0.0</td>\n",
       "      <td>0.0</td>\n",
       "      <td>0.5</td>\n",
       "      <td>0.0</td>\n",
       "    </tr>\n",
       "  </tbody>\n",
       "</table>\n",
       "</div>"
      ],
      "text/plain": [
       "   var1(t-1)  var2(t-1)  var3(t-1)  var4(t-1)  var5(t-1)\n",
       "1   0.478633        0.0        0.0        0.5        0.0"
      ]
     },
     "execution_count": 68,
     "metadata": {},
     "output_type": "execute_result"
    }
   ],
   "source": [
    "X_test.head(1)"
   ]
  },
  {
   "cell_type": "code",
   "execution_count": 69,
   "metadata": {
    "colab": {
     "base_uri": "https://localhost:8080/",
     "height": 514
    },
    "colab_type": "code",
    "id": "wRQ4QzRI82xU",
    "outputId": "a4e46ca4-ff25-45d4-c029-db2dbd9962e3"
   },
   "outputs": [
    {
     "data": {
      "text/html": [
       "<div>\n",
       "<style scoped>\n",
       "    .dataframe tbody tr th:only-of-type {\n",
       "        vertical-align: middle;\n",
       "    }\n",
       "\n",
       "    .dataframe tbody tr th {\n",
       "        vertical-align: top;\n",
       "    }\n",
       "\n",
       "    .dataframe thead th {\n",
       "        text-align: right;\n",
       "    }\n",
       "</style>\n",
       "<table border=\"1\" class=\"dataframe\">\n",
       "  <thead>\n",
       "    <tr style=\"text-align: right;\">\n",
       "      <th></th>\n",
       "      <th>var1(t)</th>\n",
       "      <th>var1(t+1)</th>\n",
       "      <th>var1(t+2)</th>\n",
       "      <th>var1(t+3)</th>\n",
       "      <th>var1(t+4)</th>\n",
       "      <th>var1(t+5)</th>\n",
       "      <th>var1(t+6)</th>\n",
       "    </tr>\n",
       "  </thead>\n",
       "  <tbody>\n",
       "    <tr>\n",
       "      <th>1</th>\n",
       "      <td>0.076923</td>\n",
       "      <td>0.692308</td>\n",
       "      <td>0.230769</td>\n",
       "      <td>0.051282</td>\n",
       "      <td>0.205128</td>\n",
       "      <td>0.452991</td>\n",
       "      <td>0.410256</td>\n",
       "    </tr>\n",
       "    <tr>\n",
       "      <th>2</th>\n",
       "      <td>0.692308</td>\n",
       "      <td>0.230769</td>\n",
       "      <td>0.051282</td>\n",
       "      <td>0.205128</td>\n",
       "      <td>0.452991</td>\n",
       "      <td>0.410256</td>\n",
       "      <td>0.076923</td>\n",
       "    </tr>\n",
       "    <tr>\n",
       "      <th>3</th>\n",
       "      <td>0.230769</td>\n",
       "      <td>0.051282</td>\n",
       "      <td>0.205128</td>\n",
       "      <td>0.452991</td>\n",
       "      <td>0.410256</td>\n",
       "      <td>0.076923</td>\n",
       "      <td>0.068376</td>\n",
       "    </tr>\n",
       "    <tr>\n",
       "      <th>4</th>\n",
       "      <td>0.051282</td>\n",
       "      <td>0.205128</td>\n",
       "      <td>0.452991</td>\n",
       "      <td>0.410256</td>\n",
       "      <td>0.076923</td>\n",
       "      <td>0.068376</td>\n",
       "      <td>0.128205</td>\n",
       "    </tr>\n",
       "    <tr>\n",
       "      <th>5</th>\n",
       "      <td>0.205128</td>\n",
       "      <td>0.452991</td>\n",
       "      <td>0.410256</td>\n",
       "      <td>0.076923</td>\n",
       "      <td>0.068376</td>\n",
       "      <td>0.128205</td>\n",
       "      <td>0.324786</td>\n",
       "    </tr>\n",
       "    <tr>\n",
       "      <th>6</th>\n",
       "      <td>0.452991</td>\n",
       "      <td>0.410256</td>\n",
       "      <td>0.076923</td>\n",
       "      <td>0.068376</td>\n",
       "      <td>0.128205</td>\n",
       "      <td>0.324786</td>\n",
       "      <td>0.538462</td>\n",
       "    </tr>\n",
       "    <tr>\n",
       "      <th>7</th>\n",
       "      <td>0.410256</td>\n",
       "      <td>0.076923</td>\n",
       "      <td>0.068376</td>\n",
       "      <td>0.128205</td>\n",
       "      <td>0.324786</td>\n",
       "      <td>0.538462</td>\n",
       "      <td>0.427350</td>\n",
       "    </tr>\n",
       "    <tr>\n",
       "      <th>8</th>\n",
       "      <td>0.076923</td>\n",
       "      <td>0.068376</td>\n",
       "      <td>0.128205</td>\n",
       "      <td>0.324786</td>\n",
       "      <td>0.538462</td>\n",
       "      <td>0.427350</td>\n",
       "      <td>0.367521</td>\n",
       "    </tr>\n",
       "    <tr>\n",
       "      <th>9</th>\n",
       "      <td>0.068376</td>\n",
       "      <td>0.128205</td>\n",
       "      <td>0.324786</td>\n",
       "      <td>0.538462</td>\n",
       "      <td>0.427350</td>\n",
       "      <td>0.367521</td>\n",
       "      <td>0.632479</td>\n",
       "    </tr>\n",
       "    <tr>\n",
       "      <th>10</th>\n",
       "      <td>0.128205</td>\n",
       "      <td>0.324786</td>\n",
       "      <td>0.538462</td>\n",
       "      <td>0.427350</td>\n",
       "      <td>0.367521</td>\n",
       "      <td>0.632479</td>\n",
       "      <td>0.512821</td>\n",
       "    </tr>\n",
       "    <tr>\n",
       "      <th>11</th>\n",
       "      <td>0.324786</td>\n",
       "      <td>0.538462</td>\n",
       "      <td>0.427350</td>\n",
       "      <td>0.367521</td>\n",
       "      <td>0.632479</td>\n",
       "      <td>0.512821</td>\n",
       "      <td>1.000000</td>\n",
       "    </tr>\n",
       "    <tr>\n",
       "      <th>12</th>\n",
       "      <td>0.538462</td>\n",
       "      <td>0.427350</td>\n",
       "      <td>0.367521</td>\n",
       "      <td>0.632479</td>\n",
       "      <td>0.512821</td>\n",
       "      <td>1.000000</td>\n",
       "      <td>0.000000</td>\n",
       "    </tr>\n",
       "    <tr>\n",
       "      <th>13</th>\n",
       "      <td>0.427350</td>\n",
       "      <td>0.367521</td>\n",
       "      <td>0.632479</td>\n",
       "      <td>0.512821</td>\n",
       "      <td>1.000000</td>\n",
       "      <td>0.000000</td>\n",
       "      <td>0.547009</td>\n",
       "    </tr>\n",
       "    <tr>\n",
       "      <th>14</th>\n",
       "      <td>0.367521</td>\n",
       "      <td>0.632479</td>\n",
       "      <td>0.512821</td>\n",
       "      <td>1.000000</td>\n",
       "      <td>0.000000</td>\n",
       "      <td>0.547009</td>\n",
       "      <td>0.470086</td>\n",
       "    </tr>\n",
       "    <tr>\n",
       "      <th>15</th>\n",
       "      <td>0.632479</td>\n",
       "      <td>0.512821</td>\n",
       "      <td>1.000000</td>\n",
       "      <td>0.000000</td>\n",
       "      <td>0.547009</td>\n",
       "      <td>0.470086</td>\n",
       "      <td>0.547009</td>\n",
       "    </tr>\n",
       "  </tbody>\n",
       "</table>\n",
       "</div>"
      ],
      "text/plain": [
       "     var1(t)  var1(t+1)  var1(t+2)  var1(t+3)  var1(t+4)  var1(t+5)  var1(t+6)\n",
       "1   0.076923   0.692308   0.230769   0.051282   0.205128   0.452991   0.410256\n",
       "2   0.692308   0.230769   0.051282   0.205128   0.452991   0.410256   0.076923\n",
       "3   0.230769   0.051282   0.205128   0.452991   0.410256   0.076923   0.068376\n",
       "4   0.051282   0.205128   0.452991   0.410256   0.076923   0.068376   0.128205\n",
       "5   0.205128   0.452991   0.410256   0.076923   0.068376   0.128205   0.324786\n",
       "6   0.452991   0.410256   0.076923   0.068376   0.128205   0.324786   0.538462\n",
       "7   0.410256   0.076923   0.068376   0.128205   0.324786   0.538462   0.427350\n",
       "8   0.076923   0.068376   0.128205   0.324786   0.538462   0.427350   0.367521\n",
       "9   0.068376   0.128205   0.324786   0.538462   0.427350   0.367521   0.632479\n",
       "10  0.128205   0.324786   0.538462   0.427350   0.367521   0.632479   0.512821\n",
       "11  0.324786   0.538462   0.427350   0.367521   0.632479   0.512821   1.000000\n",
       "12  0.538462   0.427350   0.367521   0.632479   0.512821   1.000000   0.000000\n",
       "13  0.427350   0.367521   0.632479   0.512821   1.000000   0.000000   0.547009\n",
       "14  0.367521   0.632479   0.512821   1.000000   0.000000   0.547009   0.470086\n",
       "15  0.632479   0.512821   1.000000   0.000000   0.547009   0.470086   0.547009"
      ]
     },
     "execution_count": 69,
     "metadata": {},
     "output_type": "execute_result"
    }
   ],
   "source": [
    "Y_test"
   ]
  },
  {
   "cell_type": "code",
   "execution_count": 70,
   "metadata": {
    "colab": {
     "base_uri": "https://localhost:8080/",
     "height": 34
    },
    "colab_type": "code",
    "id": "07DmJEff9QuR",
    "outputId": "7e23b06d-62bd-4f45-ae41-ea9b0ba745d6"
   },
   "outputs": [
    {
     "name": "stdout",
     "output_type": "stream",
     "text": [
      "(15, 1, 5) (15, 7) (77, 1, 5) (77, 7)\n"
     ]
    }
   ],
   "source": [
    "\n",
    "X_train=X_train.values\n",
    "X_test=X_test.values\n",
    "\n",
    "Y_train=Y_train.values\n",
    "Y_test=Y_test.values\n",
    "\n",
    "# reshape input to be 3D [samples, timesteps, features]\n",
    "X_test = X_test.reshape(X_test.shape[0], 1, X_test.shape[1])\n",
    "X_train = X_train.reshape(X_train.shape[0], 1, X_train.shape[1])\n",
    "\n",
    "print(X_test.shape, Y_test.shape, X_train.shape, Y_train.shape)\n"
   ]
  },
  {
   "cell_type": "code",
   "execution_count": 71,
   "metadata": {
    "colab": {
     "base_uri": "https://localhost:8080/",
     "height": 34
    },
    "colab_type": "code",
    "id": "eJREoCRk9QuY",
    "outputId": "b2c48ed7-9cb1-4f8e-bf50-e97be39dc2fc"
   },
   "outputs": [
    {
     "name": "stdout",
     "output_type": "stream",
     "text": [
      "(15, 5) (15, 7) (77, 5) (77, 7)\n"
     ]
    }
   ],
   "source": [
    "\n",
    "n_input = X_train.shape[1] * X_train.shape[2]\n",
    "X_train= X_train.reshape((X_train.shape[0], n_input))\n",
    "n_input2 = X_test.shape[1] * X_test.shape[2]\n",
    "X_test= X_test.reshape((X_test.shape[0], n_input2))\n",
    "\n",
    "print(X_test.shape, Y_test.shape, X_train.shape, Y_train.shape)"
   ]
  },
  {
   "cell_type": "code",
   "execution_count": 72,
   "metadata": {
    "colab": {},
    "colab_type": "code",
    "id": "ub47_80krKWx"
   },
   "outputs": [],
   "source": [
    "# evaluate one or more weekly forecasts against expected values\n",
    "def evaluate_forecasts(actual, predicted):\n",
    "\tscores = list()\n",
    "\t# calculate an RMSE score for each day\n",
    "\tfor i in range(actual.shape[1]):\n",
    "\t\t# calculate mse\n",
    "\t\tmse = mean_squared_error(actual[:, i], predicted[:, i])\n",
    "\t\t# calculate rmse\n",
    "\t\trmse = sqrt(mse)\n",
    "\t\t# store\n",
    "\t\tscores.append(rmse)\n",
    "\t# calculate overall RMSE\n",
    "\ts = 0\n",
    "\tfor row in range(actual.shape[0]):\n",
    "\t\tfor col in range(actual.shape[1]):\n",
    "\t\t\ts += (actual[row, col] - predicted[row, col])**2\n",
    "\tscore = sqrt(s / (actual.shape[0] * actual.shape[1]))\n",
    "\treturn score, scores"
   ]
  },
  {
   "cell_type": "code",
   "execution_count": 73,
   "metadata": {
    "colab": {},
    "colab_type": "code",
    "id": "NB-CCOIZrapK"
   },
   "outputs": [],
   "source": [
    "# summarize scores\n",
    "def summarize_scores(name, score, scores):\n",
    "\ts_scores = ', '.join(['%.1f' % s for s in scores])\n",
    "\tprint('%s: [%.3f] %s' % (name, score, s_scores))"
   ]
  },
  {
   "cell_type": "code",
   "execution_count": 74,
   "metadata": {
    "colab": {
     "base_uri": "https://localhost:8080/",
     "height": 51
    },
    "colab_type": "code",
    "id": "ZHOezS_-j1ZK",
    "outputId": "a3e201f3-8627-4425-8f0f-08b86276a0be"
   },
   "outputs": [
    {
     "data": {
      "text/plain": [
       "array([0.07692309, 0.6923078 , 0.23076923, 0.05128206, 0.20512821,\n",
       "       0.4529915 , 0.41025645], dtype=float32)"
      ]
     },
     "execution_count": 74,
     "metadata": {},
     "output_type": "execute_result"
    }
   ],
   "source": [
    "Y_test[0]"
   ]
  },
  {
   "cell_type": "code",
   "execution_count": 75,
   "metadata": {
    "colab": {
     "base_uri": "https://localhost:8080/",
     "height": 51
    },
    "colab_type": "code",
    "id": "Wow-x_Bi_i7k",
    "outputId": "aa687555-1aaa-4d87-95b9-e2d93f11774d"
   },
   "outputs": [
    {
     "data": {
      "text/plain": [
       "array([0.41025645, 0.2908244 , 0.4285717 , 1.        , 0.        ],\n",
       "      dtype=float32)"
      ]
     },
     "execution_count": 75,
     "metadata": {},
     "output_type": "execute_result"
    }
   ],
   "source": [
    "X_test[7]"
   ]
  },
  {
   "cell_type": "code",
   "execution_count": 76,
   "metadata": {},
   "outputs": [],
   "source": [
    "# IMPORT ML Regressor\n",
    "from sklearn.linear_model import LinearRegression # Linear regression\n",
    "from sklearn.ensemble import RandomForestRegressor # random forest regression\n",
    "from sklearn.neural_network import MLPRegressor # neural network regression\n",
    "from sklearn.svm import SVR # support vector regression"
   ]
  },
  {
   "cell_type": "code",
   "execution_count": 77,
   "metadata": {},
   "outputs": [
    {
     "data": {
      "text/plain": [
       "LinearRegression(copy_X=True, fit_intercept=True, n_jobs=None, normalize=False)"
      ]
     },
     "execution_count": 77,
     "metadata": {},
     "output_type": "execute_result"
    }
   ],
   "source": [
    "lr = LinearRegression()\n",
    "lr.fit(X_train, Y_train)"
   ]
  },
  {
   "cell_type": "code",
   "execution_count": 78,
   "metadata": {
    "colab": {
     "base_uri": "https://localhost:8080/",
     "height": 34
    },
    "colab_type": "code",
    "id": "o6Rka0jF9Qun",
    "outputId": "0bf47b5c-c51d-44cc-c535-718d40fd68ba"
   },
   "outputs": [
    {
     "data": {
      "text/plain": [
       "(3, 7)"
      ]
     },
     "execution_count": 78,
     "metadata": {},
     "output_type": "execute_result"
    }
   ],
   "source": [
    "from sklearn.metrics import mean_squared_error\n",
    "from sklearn.metrics import mean_absolute_error\n",
    "\n",
    "\n",
    "# make a prediction\n",
    "yhat = lr.predict(X_test[[0,7,14]])\n",
    "yhat.shape "
   ]
  },
  {
   "cell_type": "code",
   "execution_count": 79,
   "metadata": {
    "colab": {},
    "colab_type": "code",
    "id": "CY6FfnRNkQEd"
   },
   "outputs": [],
   "source": [
    "yhat = yhat.reshape(-1, yhat.shape[-1])"
   ]
  },
  {
   "cell_type": "code",
   "execution_count": 80,
   "metadata": {
    "colab": {},
    "colab_type": "code",
    "id": "ATgV091YkhFP"
   },
   "outputs": [],
   "source": [
    "#yhat"
   ]
  },
  {
   "cell_type": "code",
   "execution_count": 81,
   "metadata": {
    "colab": {},
    "colab_type": "code",
    "id": "bRqbH081j3q4"
   },
   "outputs": [],
   "source": [
    "# invert scaling for forecast\n",
    "y_test_pred = scaler2.inverse_transform(yhat)\n",
    "#print(inv_yhat)\n",
    "# invert scaling for actual\n",
    "Y_test_true =Y_test[[0,7,14]]\n",
    "Y_test_true = Y_test_true.reshape(-1, Y_test_true.shape[-1])\n",
    "y_test_true= scaler2.inverse_transform(Y_test_true)\n",
    "#print(inv_y)"
   ]
  },
  {
   "cell_type": "code",
   "execution_count": 82,
   "metadata": {
    "colab": {
     "base_uri": "https://localhost:8080/",
     "height": 136
    },
    "colab_type": "code",
    "id": "EdfBSFCL6bR_",
    "outputId": "e20a926c-a963-4b3b-f49a-2242c02acbda"
   },
   "outputs": [
    {
     "data": {
      "text/plain": [
       "DatetimeIndex(['2020-05-25', '2020-05-26', '2020-05-27', '2020-05-28',\n",
       "               '2020-05-29', '2020-05-30', '2020-05-31', '2020-06-01',\n",
       "               '2020-06-02', '2020-06-03', '2020-06-04', '2020-06-05',\n",
       "               '2020-06-06', '2020-06-07', '2020-06-08', '2020-06-09',\n",
       "               '2020-06-10', '2020-06-11', '2020-06-12', '2020-06-13',\n",
       "               '2020-06-14'],\n",
       "              dtype='datetime64[ns]', name='timestamp', freq=None)"
      ]
     },
     "execution_count": 82,
     "metadata": {},
     "output_type": "execute_result"
    }
   ],
   "source": [
    "days"
   ]
  },
  {
   "cell_type": "code",
   "execution_count": 83,
   "metadata": {
    "colab": {},
    "colab_type": "code",
    "id": "4M0t6w-y9Qu1"
   },
   "outputs": [],
   "source": [
    "test_res=pd.DataFrame()\n",
    "test_res['Prediction']=y_test_pred.flatten()[0:21]\n",
    "test_res['real']=y_test_true.flatten()[0:21]\n",
    "test_res.set_index(days,inplace=True)"
   ]
  },
  {
   "cell_type": "code",
   "execution_count": 84,
   "metadata": {
    "colab": {
     "base_uri": "https://localhost:8080/",
     "height": 731
    },
    "colab_type": "code",
    "id": "WA9i7Thc9Qu6",
    "outputId": "61da7330-2532-4842-d9a9-eccebf938bf8"
   },
   "outputs": [
    {
     "data": {
      "text/html": [
       "<div>\n",
       "<style scoped>\n",
       "    .dataframe tbody tr th:only-of-type {\n",
       "        vertical-align: middle;\n",
       "    }\n",
       "\n",
       "    .dataframe tbody tr th {\n",
       "        vertical-align: top;\n",
       "    }\n",
       "\n",
       "    .dataframe thead th {\n",
       "        text-align: right;\n",
       "    }\n",
       "</style>\n",
       "<table border=\"1\" class=\"dataframe\">\n",
       "  <thead>\n",
       "    <tr style=\"text-align: right;\">\n",
       "      <th></th>\n",
       "      <th>Prediction</th>\n",
       "      <th>real</th>\n",
       "    </tr>\n",
       "    <tr>\n",
       "      <th>timestamp</th>\n",
       "      <th></th>\n",
       "      <th></th>\n",
       "    </tr>\n",
       "  </thead>\n",
       "  <tbody>\n",
       "    <tr>\n",
       "      <th>2020-05-25</th>\n",
       "      <td>32.779461</td>\n",
       "      <td>27.0</td>\n",
       "    </tr>\n",
       "    <tr>\n",
       "      <th>2020-05-26</th>\n",
       "      <td>33.273598</td>\n",
       "      <td>99.0</td>\n",
       "    </tr>\n",
       "    <tr>\n",
       "      <th>2020-05-27</th>\n",
       "      <td>29.373581</td>\n",
       "      <td>45.0</td>\n",
       "    </tr>\n",
       "    <tr>\n",
       "      <th>2020-05-28</th>\n",
       "      <td>29.101583</td>\n",
       "      <td>24.0</td>\n",
       "    </tr>\n",
       "    <tr>\n",
       "      <th>2020-05-29</th>\n",
       "      <td>28.126863</td>\n",
       "      <td>42.0</td>\n",
       "    </tr>\n",
       "    <tr>\n",
       "      <th>2020-05-30</th>\n",
       "      <td>30.786980</td>\n",
       "      <td>71.0</td>\n",
       "    </tr>\n",
       "    <tr>\n",
       "      <th>2020-05-31</th>\n",
       "      <td>27.056343</td>\n",
       "      <td>66.0</td>\n",
       "    </tr>\n",
       "    <tr>\n",
       "      <th>2020-06-01</th>\n",
       "      <td>38.247780</td>\n",
       "      <td>27.0</td>\n",
       "    </tr>\n",
       "    <tr>\n",
       "      <th>2020-06-02</th>\n",
       "      <td>48.710251</td>\n",
       "      <td>26.0</td>\n",
       "    </tr>\n",
       "    <tr>\n",
       "      <th>2020-06-03</th>\n",
       "      <td>50.379166</td>\n",
       "      <td>33.0</td>\n",
       "    </tr>\n",
       "    <tr>\n",
       "      <th>2020-06-04</th>\n",
       "      <td>56.129120</td>\n",
       "      <td>56.0</td>\n",
       "    </tr>\n",
       "    <tr>\n",
       "      <th>2020-06-05</th>\n",
       "      <td>54.347107</td>\n",
       "      <td>81.0</td>\n",
       "    </tr>\n",
       "    <tr>\n",
       "      <th>2020-06-06</th>\n",
       "      <td>55.872665</td>\n",
       "      <td>68.0</td>\n",
       "    </tr>\n",
       "    <tr>\n",
       "      <th>2020-06-07</th>\n",
       "      <td>57.945221</td>\n",
       "      <td>61.0</td>\n",
       "    </tr>\n",
       "    <tr>\n",
       "      <th>2020-06-08</th>\n",
       "      <td>67.062927</td>\n",
       "      <td>92.0</td>\n",
       "    </tr>\n",
       "    <tr>\n",
       "      <th>2020-06-09</th>\n",
       "      <td>65.006256</td>\n",
       "      <td>78.0</td>\n",
       "    </tr>\n",
       "    <tr>\n",
       "      <th>2020-06-10</th>\n",
       "      <td>64.132668</td>\n",
       "      <td>135.0</td>\n",
       "    </tr>\n",
       "    <tr>\n",
       "      <th>2020-06-11</th>\n",
       "      <td>63.379902</td>\n",
       "      <td>18.0</td>\n",
       "    </tr>\n",
       "    <tr>\n",
       "      <th>2020-06-12</th>\n",
       "      <td>62.954090</td>\n",
       "      <td>82.0</td>\n",
       "    </tr>\n",
       "    <tr>\n",
       "      <th>2020-06-13</th>\n",
       "      <td>62.683685</td>\n",
       "      <td>73.0</td>\n",
       "    </tr>\n",
       "    <tr>\n",
       "      <th>2020-06-14</th>\n",
       "      <td>62.103775</td>\n",
       "      <td>82.0</td>\n",
       "    </tr>\n",
       "  </tbody>\n",
       "</table>\n",
       "</div>"
      ],
      "text/plain": [
       "            Prediction   real\n",
       "timestamp                    \n",
       "2020-05-25   32.779461   27.0\n",
       "2020-05-26   33.273598   99.0\n",
       "2020-05-27   29.373581   45.0\n",
       "2020-05-28   29.101583   24.0\n",
       "2020-05-29   28.126863   42.0\n",
       "2020-05-30   30.786980   71.0\n",
       "2020-05-31   27.056343   66.0\n",
       "2020-06-01   38.247780   27.0\n",
       "2020-06-02   48.710251   26.0\n",
       "2020-06-03   50.379166   33.0\n",
       "2020-06-04   56.129120   56.0\n",
       "2020-06-05   54.347107   81.0\n",
       "2020-06-06   55.872665   68.0\n",
       "2020-06-07   57.945221   61.0\n",
       "2020-06-08   67.062927   92.0\n",
       "2020-06-09   65.006256   78.0\n",
       "2020-06-10   64.132668  135.0\n",
       "2020-06-11   63.379902   18.0\n",
       "2020-06-12   62.954090   82.0\n",
       "2020-06-13   62.683685   73.0\n",
       "2020-06-14   62.103775   82.0"
      ]
     },
     "execution_count": 84,
     "metadata": {},
     "output_type": "execute_result"
    }
   ],
   "source": [
    "test_res"
   ]
  },
  {
   "cell_type": "code",
   "execution_count": 85,
   "metadata": {
    "colab": {
     "base_uri": "https://localhost:8080/",
     "height": 420
    },
    "colab_type": "code",
    "id": "d1pT_ju99QvG",
    "outputId": "912fca32-f34b-4fb2-86eb-f5a82da5f372"
   },
   "outputs": [
    {
     "data": {
      "image/png": "[encoded data removed]",
      "text/plain": [
       "<Figure size 1080x504 with 1 Axes>"
      ]
     },
     "metadata": {
      "needs_background": "light"
     },
     "output_type": "display_data"
    }
   ],
   "source": [
    "\n",
    "import pandas as pd\n",
    "import numpy as np; np.random.seed(1)\n",
    "import matplotlib.pyplot as plt\n",
    "\n",
    "fig, ax = plt.subplots(figsize=(15,7))\n",
    "plt.plot(test_res.index, test_res['real'],  label='Actual Values')\n",
    "plt.plot(test_res.index, test_res['Prediction'], label='Predicted Values')\n",
    "# If you don't like the break in the graph, change 90 to 89 in the above line\n",
    "plt.gcf().autofmt_xdate()\n",
    "plt.legend()\n",
    "plt.show()\n",
    "\n",
    "\n"
   ]
  },
  {
   "cell_type": "code",
   "execution_count": 86,
   "metadata": {
    "colab": {
     "base_uri": "https://localhost:8080/",
     "height": 119
    },
    "colab_type": "code",
    "id": "Yinhn68bce83",
    "outputId": "f9e1cad1-e6e4-46cd-c7c9-98f97ee18c18"
   },
   "outputs": [
    {
     "name": "stdout",
     "output_type": "stream",
     "text": [
      "Test Metrics\n",
      "MSE: 880.86\n",
      "RMSE: 29.68\n",
      "MAE: 22.95\n",
      "R Squared: -0.03\n",
      "Max Error: 70.87\n"
     ]
    }
   ],
   "source": [
    "import numpy as np \n",
    "from sklearn import metrics\n",
    "print('Test Metrics')\n",
    "print('MSE:', round(metrics.mean_squared_error(test_res['real'], test_res['Prediction']), 2))\n",
    "print('RMSE:',round( np.sqrt(metrics.mean_squared_error(test_res['real'], test_res['Prediction'])), 2))\n",
    "print('MAE:', round(metrics.mean_absolute_error(test_res['real'], test_res['Prediction']), 2))\n",
    "print('R Squared:', round( metrics.r2_score(test_res['real'], test_res['Prediction']), 2))\n",
    "print('Max Error:',round(  metrics.max_error(test_res['real'], test_res['Prediction']), 2))\n"
   ]
  },
  {
   "cell_type": "code",
   "execution_count": 87,
   "metadata": {
    "colab": {
     "base_uri": "https://localhost:8080/",
     "height": 34
    },
    "colab_type": "code",
    "id": "7ar1xh7-3-Oa",
    "outputId": "6516febf-3e0e-4a9d-e1d6-69b9aea540e8"
   },
   "outputs": [
    {
     "data": {
      "text/plain": [
       "(77, 7)"
      ]
     },
     "execution_count": 87,
     "metadata": {},
     "output_type": "execute_result"
    }
   ],
   "source": [
    "# make a prediction\n",
    "y_train_pred = lr.predict(X_train)\n",
    "y_train_pred .shape"
   ]
  },
  {
   "cell_type": "code",
   "execution_count": 88,
   "metadata": {
    "colab": {
     "base_uri": "https://localhost:8080/",
     "height": 34
    },
    "colab_type": "code",
    "id": "2bt8X-nT4UPx",
    "outputId": "2f0a7971-e1e2-464b-fadd-d4938dd27e04"
   },
   "outputs": [
    {
     "data": {
      "text/plain": [
       "(77, 7)"
      ]
     },
     "execution_count": 88,
     "metadata": {},
     "output_type": "execute_result"
    }
   ],
   "source": [
    "y_train_pred = y_train_pred.reshape(y_train_pred.shape[0], y_train_pred.shape[1])\n",
    "y_train_pred.shape"
   ]
  },
  {
   "cell_type": "code",
   "execution_count": 89,
   "metadata": {
    "colab": {},
    "colab_type": "code",
    "id": "8fqgcl4LaD3K"
   },
   "outputs": [],
   "source": [
    "\n",
    "# invert scaling for forecast\n",
    "\n",
    "y_train_pred = scaler2.inverse_transform(y_train_pred)\n",
    "Y_train_true = Y_train.reshape((len(Y_train), n_out))\n",
    "\n",
    "y_train_real = scaler2.inverse_transform(Y_train_true )"
   ]
  },
  {
   "cell_type": "code",
   "execution_count": 90,
   "metadata": {
    "colab": {},
    "colab_type": "code",
    "id": "gMyemZvlBLLR"
   },
   "outputs": [],
   "source": [
    "\n",
    "# Flatten for final errors\n",
    "Y_train_pred_bis = y_train_pred.flatten()\n",
    "Y_train_real_bis = y_train_real.flatten()"
   ]
  },
  {
   "cell_type": "code",
   "execution_count": 91,
   "metadata": {
    "colab": {
     "base_uri": "https://localhost:8080/",
     "height": 51
    },
    "colab_type": "code",
    "id": "iASDypR9BjEx",
    "outputId": "ebfd653e-cef4-4405-b81b-f446929a1977"
   },
   "outputs": [
    {
     "data": {
      "text/plain": [
       "array([24.435396, 24.065372, 24.563229, 25.218397, 26.380457, 27.49808 ,\n",
       "       28.62793 ], dtype=float32)"
      ]
     },
     "execution_count": 91,
     "metadata": {},
     "output_type": "execute_result"
    }
   ],
   "source": [
    "y_train_pred[0]"
   ]
  },
  {
   "cell_type": "code",
   "execution_count": 92,
   "metadata": {
    "colab": {},
    "colab_type": "code",
    "id": "d8xsDUPiBQZw"
   },
   "outputs": [],
   "source": [
    "#For plot \n",
    "filter_indices = [0,5,11,17,23,29,35,41,47,53,59]\n",
    "y_train_pred = y_train_pred [filter_indices ]"
   ]
  },
  {
   "cell_type": "code",
   "execution_count": 93,
   "metadata": {
    "colab": {},
    "colab_type": "code",
    "id": "vlpVvivQBNIj"
   },
   "outputs": [],
   "source": [
    "# Part of train dataset\n",
    "y_train_real= y_train_real[filter_indices]\n",
    "Y_train_pred = y_train_pred.flatten()\n",
    "Y_train_real = y_train_real.flatten()"
   ]
  },
  {
   "cell_type": "code",
   "execution_count": 94,
   "metadata": {
    "colab": {
     "base_uri": "https://localhost:8080/",
     "height": 34
    },
    "colab_type": "code",
    "id": "wVL4cb5FbOYU",
    "outputId": "b0bc2b7a-f442-45de-ea34-5bf687cf8b56"
   },
   "outputs": [
    {
     "data": {
      "text/plain": [
       "(77, 5)"
      ]
     },
     "execution_count": 94,
     "metadata": {},
     "output_type": "execute_result"
    }
   ],
   "source": [
    "mask = (df['date'] >= start_date) & (df['date'] <= end_date) &  (df['location'].isin(['Morocco']))\n",
    "date_train = df.loc[mask].date.sort_index(axis = 0) \n",
    "X_train.shape"
   ]
  },
  {
   "cell_type": "code",
   "execution_count": 95,
   "metadata": {
    "colab": {
     "base_uri": "https://localhost:8080/",
     "height": 153
    },
    "colab_type": "code",
    "id": "BVGITNMNCkOx",
    "outputId": "06be3d04-1479-4056-8967-096636288af9"
   },
   "outputs": [
    {
     "data": {
      "text/plain": [
       "22928   2020-03-02\n",
       "22929   2020-03-03\n",
       "22930   2020-03-04\n",
       "22931   2020-03-05\n",
       "22932   2020-03-06\n",
       "22933   2020-03-07\n",
       "22934   2020-03-08\n",
       "Name: date, dtype: datetime64[ns]"
      ]
     },
     "execution_count": 95,
     "metadata": {},
     "output_type": "execute_result"
    }
   ],
   "source": [
    "date_train.head(7)"
   ]
  },
  {
   "cell_type": "code",
   "execution_count": 96,
   "metadata": {
    "colab": {
     "base_uri": "https://localhost:8080/",
     "height": 34
    },
    "colab_type": "code",
    "id": "p4vhRCj1dp_d",
    "outputId": "59f229ef-ed11-41c0-a9f9-3e5d26e496be"
   },
   "outputs": [
    {
     "data": {
      "text/plain": [
       "83"
      ]
     },
     "execution_count": 96,
     "metadata": {},
     "output_type": "execute_result"
    }
   ],
   "source": [
    "taille_x = date_train.shape[0] - nb_seq\n",
    "taille_x "
   ]
  },
  {
   "cell_type": "code",
   "execution_count": 97,
   "metadata": {
    "colab": {},
    "colab_type": "code",
    "id": "RyiMOEmybx2V"
   },
   "outputs": [],
   "source": [
    "date_train = date_train.values.flatten()"
   ]
  },
  {
   "cell_type": "code",
   "execution_count": 98,
   "metadata": {
    "colab": {},
    "colab_type": "code",
    "id": "Gxq3TvRLcFSh"
   },
   "outputs": [],
   "source": [
    "prediction_train = pd.DataFrame(columns=['date_to_prediction','true_value','predict'])"
   ]
  },
  {
   "cell_type": "code",
   "execution_count": 99,
   "metadata": {
    "colab": {
     "base_uri": "https://localhost:8080/",
     "height": 34
    },
    "colab_type": "code",
    "id": "eiKGrG4Ii6en",
    "outputId": "33bbcf76-2456-40b4-acee-93465a656089"
   },
   "outputs": [
    {
     "data": {
      "text/plain": [
       "(77,)"
      ]
     },
     "execution_count": 99,
     "metadata": {},
     "output_type": "execute_result"
    }
   ],
   "source": [
    "Y_train_pred.shape"
   ]
  },
  {
   "cell_type": "code",
   "execution_count": 100,
   "metadata": {
    "colab": {
     "base_uri": "https://localhost:8080/",
     "height": 34
    },
    "colab_type": "code",
    "id": "0LQJBwfPjN_2",
    "outputId": "0da14d58-2ef1-44cb-ae75-d494c33542e1"
   },
   "outputs": [
    {
     "data": {
      "text/plain": [
       "(77,)"
      ]
     },
     "execution_count": 100,
     "metadata": {},
     "output_type": "execute_result"
    }
   ],
   "source": [
    "Y_train_real.shape"
   ]
  },
  {
   "cell_type": "code",
   "execution_count": 101,
   "metadata": {
    "colab": {
     "base_uri": "https://localhost:8080/",
     "height": 34
    },
    "colab_type": "code",
    "id": "uycdPz5Yjevr",
    "outputId": "9f5c8c8c-4d41-4bcb-bf90-e70146a62101"
   },
   "outputs": [
    {
     "data": {
      "text/plain": [
       "(84,)"
      ]
     },
     "execution_count": 101,
     "metadata": {},
     "output_type": "execute_result"
    }
   ],
   "source": [
    "date_train.shape"
   ]
  },
  {
   "cell_type": "code",
   "execution_count": 102,
   "metadata": {
    "colab": {
     "base_uri": "https://localhost:8080/",
     "height": 34
    },
    "colab_type": "code",
    "id": "73zLQfJI8gJS",
    "outputId": "213375df-9bdc-499a-a3b3-14aac47bf8b5"
   },
   "outputs": [
    {
     "data": {
      "text/plain": [
       "(83,)"
      ]
     },
     "execution_count": 102,
     "metadata": {},
     "output_type": "execute_result"
    }
   ],
   "source": [
    "date_train[nb_seq:].shape"
   ]
  },
  {
   "cell_type": "code",
   "execution_count": 103,
   "metadata": {
    "colab": {
     "base_uri": "https://localhost:8080/",
     "height": 34
    },
    "colab_type": "code",
    "id": "Qwj36E7E1UdD",
    "outputId": "9cafeae9-d123-4c18-fea8-468adcca7910"
   },
   "outputs": [
    {
     "data": {
      "text/plain": [
       "-6"
      ]
     },
     "execution_count": 103,
     "metadata": {},
     "output_type": "execute_result"
    }
   ],
   "source": [
    "suite_size = Y_train_real.shape[0]- date_train[nb_seq:].shape[0]\n",
    "suite_size "
   ]
  },
  {
   "cell_type": "code",
   "execution_count": 104,
   "metadata": {
    "colab": {
     "base_uri": "https://localhost:8080/",
     "height": 34
    },
    "colab_type": "code",
    "id": "Mazim5ta2d0m",
    "outputId": "5106ea73-7790-4c1a-a039-79e890d28388"
   },
   "outputs": [
    {
     "data": {
      "text/plain": [
       "(6,)"
      ]
     },
     "execution_count": 104,
     "metadata": {},
     "output_type": "execute_result"
    }
   ],
   "source": [
    "Y_train_real[:-suite_size].shape"
   ]
  },
  {
   "cell_type": "code",
   "execution_count": 105,
   "metadata": {
    "colab": {
     "base_uri": "https://localhost:8080/",
     "height": 34
    },
    "colab_type": "code",
    "id": "KZdJEoPB61IL",
    "outputId": "2b799962-de51-45f8-8cad-ac2f447ba2db"
   },
   "outputs": [
    {
     "data": {
      "text/plain": [
       "(83,)"
      ]
     },
     "execution_count": 105,
     "metadata": {},
     "output_type": "execute_result"
    }
   ],
   "source": [
    "date_train[nb_seq:].shape"
   ]
  },
  {
   "cell_type": "code",
   "execution_count": 106,
   "metadata": {
    "colab": {
     "base_uri": "https://localhost:8080/",
     "height": 34
    },
    "colab_type": "code",
    "id": "TAxKWC6-66LL",
    "outputId": "28dd8dc7-e086-4e94-eb29-8054d929c5d9"
   },
   "outputs": [
    {
     "data": {
      "text/plain": [
       "(6,)"
      ]
     },
     "execution_count": 106,
     "metadata": {},
     "output_type": "execute_result"
    }
   ],
   "source": [
    "Y_train_pred[:-suite_size].shape"
   ]
  },
  {
   "cell_type": "code",
   "execution_count": 107,
   "metadata": {
    "colab": {
     "base_uri": "https://localhost:8080/",
     "height": 34
    },
    "colab_type": "code",
    "id": "o--CWWcb69x4",
    "outputId": "b5c3a76e-3cbc-4682-b534-e8014d58f598"
   },
   "outputs": [
    {
     "data": {
      "text/plain": [
       "(6,)"
      ]
     },
     "execution_count": 107,
     "metadata": {},
     "output_type": "execute_result"
    }
   ],
   "source": [
    "Y_train_real[:-suite_size].shape"
   ]
  },
  {
   "cell_type": "code",
   "execution_count": 108,
   "metadata": {
    "colab": {},
    "colab_type": "code",
    "id": "QjaDIQYGTMOh"
   },
   "outputs": [],
   "source": [
    "date_trainX = date_train[nb_seq:]"
   ]
  },
  {
   "cell_type": "code",
   "execution_count": 109,
   "metadata": {
    "colab": {
     "base_uri": "https://localhost:8080/",
     "height": 34
    },
    "colab_type": "code",
    "id": "4POl8PunTixf",
    "outputId": "c9458991-a23b-467a-f809-291a9e3bc548"
   },
   "outputs": [
    {
     "data": {
      "text/plain": [
       "(77,)"
      ]
     },
     "execution_count": 109,
     "metadata": {},
     "output_type": "execute_result"
    }
   ],
   "source": [
    "date_trainX[0:Y_train_pred.shape[0]].shape"
   ]
  },
  {
   "cell_type": "code",
   "execution_count": 110,
   "metadata": {
    "colab": {},
    "colab_type": "code",
    "id": "qTkkDa2AZC9n"
   },
   "outputs": [],
   "source": [
    "prediction_train['date_to_prediction'] = date_trainX[0:Y_train_pred.shape[0]]\n",
    "prediction_train['predict'] = Y_train_pred\n",
    "prediction_train['true_value'] = Y_train_real\n"
   ]
  },
  {
   "cell_type": "code",
   "execution_count": 111,
   "metadata": {
    "colab": {},
    "colab_type": "code",
    "id": "BGidw3_SgNwa"
   },
   "outputs": [],
   "source": [
    "prediction_train['date_to_prediction'] = pd.to_datetime(prediction_train['date_to_prediction'], infer_datetime_format=True)"
   ]
  },
  {
   "cell_type": "code",
   "execution_count": 112,
   "metadata": {
    "colab": {},
    "colab_type": "code",
    "id": "-ZPGwmwagGDF"
   },
   "outputs": [],
   "source": [
    "prediction_train.set_index('date_to_prediction',inplace=True)"
   ]
  },
  {
   "cell_type": "code",
   "execution_count": 113,
   "metadata": {
    "colab": {
     "base_uri": "https://localhost:8080/",
     "height": 700
    },
    "colab_type": "code",
    "id": "dkR4xh_Wfr4z",
    "outputId": "3f264885-ca27-4d42-efb7-10d9b60ba756"
   },
   "outputs": [
    {
     "data": {
      "text/html": [
       "<div>\n",
       "<style scoped>\n",
       "    .dataframe tbody tr th:only-of-type {\n",
       "        vertical-align: middle;\n",
       "    }\n",
       "\n",
       "    .dataframe tbody tr th {\n",
       "        vertical-align: top;\n",
       "    }\n",
       "\n",
       "    .dataframe thead th {\n",
       "        text-align: right;\n",
       "    }\n",
       "</style>\n",
       "<table border=\"1\" class=\"dataframe\">\n",
       "  <thead>\n",
       "    <tr style=\"text-align: right;\">\n",
       "      <th></th>\n",
       "      <th>true_value</th>\n",
       "      <th>predict</th>\n",
       "    </tr>\n",
       "    <tr>\n",
       "      <th>date_to_prediction</th>\n",
       "      <th></th>\n",
       "      <th></th>\n",
       "    </tr>\n",
       "  </thead>\n",
       "  <tbody>\n",
       "    <tr>\n",
       "      <th>2020-03-03</th>\n",
       "      <td>18.416370</td>\n",
       "      <td>24.435396</td>\n",
       "    </tr>\n",
       "    <tr>\n",
       "      <th>2020-03-04</th>\n",
       "      <td>20.914591</td>\n",
       "      <td>24.065372</td>\n",
       "    </tr>\n",
       "    <tr>\n",
       "      <th>2020-03-05</th>\n",
       "      <td>20.914591</td>\n",
       "      <td>24.563229</td>\n",
       "    </tr>\n",
       "    <tr>\n",
       "      <th>2020-03-06</th>\n",
       "      <td>18.416370</td>\n",
       "      <td>25.218397</td>\n",
       "    </tr>\n",
       "    <tr>\n",
       "      <th>2020-03-07</th>\n",
       "      <td>20.914591</td>\n",
       "      <td>26.380457</td>\n",
       "    </tr>\n",
       "    <tr>\n",
       "      <th>2020-03-08</th>\n",
       "      <td>20.914591</td>\n",
       "      <td>27.498079</td>\n",
       "    </tr>\n",
       "    <tr>\n",
       "      <th>2020-03-09</th>\n",
       "      <td>20.914591</td>\n",
       "      <td>28.627930</td>\n",
       "    </tr>\n",
       "    <tr>\n",
       "      <th>2020-03-10</th>\n",
       "      <td>20.914591</td>\n",
       "      <td>24.435396</td>\n",
       "    </tr>\n",
       "    <tr>\n",
       "      <th>2020-03-11</th>\n",
       "      <td>20.914591</td>\n",
       "      <td>24.065372</td>\n",
       "    </tr>\n",
       "    <tr>\n",
       "      <th>2020-03-12</th>\n",
       "      <td>20.914591</td>\n",
       "      <td>24.563229</td>\n",
       "    </tr>\n",
       "    <tr>\n",
       "      <th>2020-03-13</th>\n",
       "      <td>20.914591</td>\n",
       "      <td>25.218397</td>\n",
       "    </tr>\n",
       "    <tr>\n",
       "      <th>2020-03-14</th>\n",
       "      <td>19.249111</td>\n",
       "      <td>26.380457</td>\n",
       "    </tr>\n",
       "    <tr>\n",
       "      <th>2020-03-15</th>\n",
       "      <td>18.416370</td>\n",
       "      <td>27.498079</td>\n",
       "    </tr>\n",
       "    <tr>\n",
       "      <th>2020-03-16</th>\n",
       "      <td>18.416370</td>\n",
       "      <td>28.627930</td>\n",
       "    </tr>\n",
       "    <tr>\n",
       "      <th>2020-03-17</th>\n",
       "      <td>18.416370</td>\n",
       "      <td>26.008236</td>\n",
       "    </tr>\n",
       "    <tr>\n",
       "      <th>2020-03-18</th>\n",
       "      <td>22.580070</td>\n",
       "      <td>26.229124</td>\n",
       "    </tr>\n",
       "    <tr>\n",
       "      <th>2020-03-19</th>\n",
       "      <td>22.163700</td>\n",
       "      <td>27.768385</td>\n",
       "    </tr>\n",
       "    <tr>\n",
       "      <th>2020-03-20</th>\n",
       "      <td>21.747330</td>\n",
       "      <td>28.774883</td>\n",
       "    </tr>\n",
       "    <tr>\n",
       "      <th>2020-03-21</th>\n",
       "      <td>20.914591</td>\n",
       "      <td>30.674013</td>\n",
       "    </tr>\n",
       "    <tr>\n",
       "      <th>2020-03-22</th>\n",
       "      <td>22.163700</td>\n",
       "      <td>31.903599</td>\n",
       "    </tr>\n",
       "  </tbody>\n",
       "</table>\n",
       "</div>"
      ],
      "text/plain": [
       "                    true_value    predict\n",
       "date_to_prediction                       \n",
       "2020-03-03           18.416370  24.435396\n",
       "2020-03-04           20.914591  24.065372\n",
       "2020-03-05           20.914591  24.563229\n",
       "2020-03-06           18.416370  25.218397\n",
       "2020-03-07           20.914591  26.380457\n",
       "2020-03-08           20.914591  27.498079\n",
       "2020-03-09           20.914591  28.627930\n",
       "2020-03-10           20.914591  24.435396\n",
       "2020-03-11           20.914591  24.065372\n",
       "2020-03-12           20.914591  24.563229\n",
       "2020-03-13           20.914591  25.218397\n",
       "2020-03-14           19.249111  26.380457\n",
       "2020-03-15           18.416370  27.498079\n",
       "2020-03-16           18.416370  28.627930\n",
       "2020-03-17           18.416370  26.008236\n",
       "2020-03-18           22.580070  26.229124\n",
       "2020-03-19           22.163700  27.768385\n",
       "2020-03-20           21.747330  28.774883\n",
       "2020-03-21           20.914591  30.674013\n",
       "2020-03-22           22.163700  31.903599"
      ]
     },
     "execution_count": 113,
     "metadata": {},
     "output_type": "execute_result"
    }
   ],
   "source": [
    "prediction_train.head(20)"
   ]
  },
  {
   "cell_type": "code",
   "execution_count": 114,
   "metadata": {
    "colab": {
     "base_uri": "https://localhost:8080/",
     "height": 390
    },
    "colab_type": "code",
    "id": "qrAAcYr1kJDS",
    "outputId": "0c159a3c-bc25-42c6-b4c4-5780012176aa"
   },
   "outputs": [
    {
     "data": {
      "text/html": [
       "<div>\n",
       "<style scoped>\n",
       "    .dataframe tbody tr th:only-of-type {\n",
       "        vertical-align: middle;\n",
       "    }\n",
       "\n",
       "    .dataframe tbody tr th {\n",
       "        vertical-align: top;\n",
       "    }\n",
       "\n",
       "    .dataframe thead th {\n",
       "        text-align: right;\n",
       "    }\n",
       "</style>\n",
       "<table border=\"1\" class=\"dataframe\">\n",
       "  <thead>\n",
       "    <tr style=\"text-align: right;\">\n",
       "      <th></th>\n",
       "      <th>true_value</th>\n",
       "      <th>predict</th>\n",
       "    </tr>\n",
       "    <tr>\n",
       "      <th>date_to_prediction</th>\n",
       "      <th></th>\n",
       "      <th></th>\n",
       "    </tr>\n",
       "  </thead>\n",
       "  <tbody>\n",
       "    <tr>\n",
       "      <th>2020-05-09</th>\n",
       "      <td>72.960846</td>\n",
       "      <td>83.784286</td>\n",
       "    </tr>\n",
       "    <tr>\n",
       "      <th>2020-05-10</th>\n",
       "      <td>46.729534</td>\n",
       "      <td>84.311874</td>\n",
       "    </tr>\n",
       "    <tr>\n",
       "      <th>2020-05-11</th>\n",
       "      <td>60.469746</td>\n",
       "      <td>82.572365</td>\n",
       "    </tr>\n",
       "    <tr>\n",
       "      <th>2020-05-12</th>\n",
       "      <td>60.469746</td>\n",
       "      <td>70.094368</td>\n",
       "    </tr>\n",
       "    <tr>\n",
       "      <th>2020-05-13</th>\n",
       "      <td>78.790031</td>\n",
       "      <td>73.879036</td>\n",
       "    </tr>\n",
       "    <tr>\n",
       "      <th>2020-05-14</th>\n",
       "      <td>84.619209</td>\n",
       "      <td>77.835052</td>\n",
       "    </tr>\n",
       "    <tr>\n",
       "      <th>2020-05-15</th>\n",
       "      <td>90.448395</td>\n",
       "      <td>80.761566</td>\n",
       "    </tr>\n",
       "    <tr>\n",
       "      <th>2020-05-16</th>\n",
       "      <td>76.291809</td>\n",
       "      <td>81.287453</td>\n",
       "    </tr>\n",
       "    <tr>\n",
       "      <th>2020-05-17</th>\n",
       "      <td>91.281128</td>\n",
       "      <td>80.495193</td>\n",
       "    </tr>\n",
       "    <tr>\n",
       "      <th>2020-05-18</th>\n",
       "      <td>96.693947</td>\n",
       "      <td>84.495758</td>\n",
       "    </tr>\n",
       "  </tbody>\n",
       "</table>\n",
       "</div>"
      ],
      "text/plain": [
       "                    true_value    predict\n",
       "date_to_prediction                       \n",
       "2020-05-09           72.960846  83.784286\n",
       "2020-05-10           46.729534  84.311874\n",
       "2020-05-11           60.469746  82.572365\n",
       "2020-05-12           60.469746  70.094368\n",
       "2020-05-13           78.790031  73.879036\n",
       "2020-05-14           84.619209  77.835052\n",
       "2020-05-15           90.448395  80.761566\n",
       "2020-05-16           76.291809  81.287453\n",
       "2020-05-17           91.281128  80.495193\n",
       "2020-05-18           96.693947  84.495758"
      ]
     },
     "execution_count": 114,
     "metadata": {},
     "output_type": "execute_result"
    }
   ],
   "source": [
    "prediction_train.tail(10)"
   ]
  },
  {
   "cell_type": "code",
   "execution_count": 115,
   "metadata": {
    "colab": {
     "base_uri": "https://localhost:8080/",
     "height": 407
    },
    "colab_type": "code",
    "id": "DmuakLBwcSGK",
    "outputId": "bb5fdc23-7051-4b39-c048-c591eebec025"
   },
   "outputs": [
    {
     "data": {
      "text/plain": [
       "\"\\nfig, ax = plt.subplots(figsize=(15,7))\\nplt.plot(test_res.index, test_res['real'],  label='Actual Values')\\nplt.plot(test_res.index, test_res['Prediction'], label='Predicted Values')\\n# If you don't like the break in the graph, change 90 to 89 in the above line\\nplt.gcf().autofmt_xdate()\\nplt.legend()\\nplt.show()\\n\""
      ]
     },
     "execution_count": 115,
     "metadata": {},
     "output_type": "execute_result"
    },
    {
     "data": {
      "image/png": "[encoded data removed]",
      "text/plain": [
       "<Figure size 1080x360 with 1 Axes>"
      ]
     },
     "metadata": {
      "needs_background": "light"
     },
     "output_type": "display_data"
    }
   ],
   "source": [
    "# Prédiction du train vs la réalité \n",
    "prediction_train.plot(figsize=(15,5))\n",
    "'''\n",
    "fig, ax = plt.subplots(figsize=(15,7))\n",
    "plt.plot(test_res.index, test_res['real'],  label='Actual Values')\n",
    "plt.plot(test_res.index, test_res['Prediction'], label='Predicted Values')\n",
    "# If you don't like the break in the graph, change 90 to 89 in the above line\n",
    "plt.gcf().autofmt_xdate()\n",
    "plt.legend()\n",
    "plt.show()\n",
    "'''"
   ]
  },
  {
   "cell_type": "code",
   "execution_count": 116,
   "metadata": {},
   "outputs": [
    {
     "name": "stdout",
     "output_type": "stream",
     "text": [
      "Train results\n",
      "MAE: 11.83\n",
      "MSE: 272.3\n",
      "RMSE: 16.501492\n",
      "R Squared: 0.68\n",
      "Max Error: 64.99\n"
     ]
    }
   ],
   "source": [
    "from sklearn import metrics\n",
    "print('Train results')\n",
    "print('MAE:', round(metrics.mean_absolute_error(Y_train_real_bis, Y_train_pred_bis), 2))\n",
    "print('MSE:', round(metrics.mean_squared_error(Y_train_real_bis, Y_train_pred_bis), 2))\n",
    "print('RMSE:', np.sqrt(metrics.mean_squared_error(Y_train_real_bis, Y_train_pred_bis)))\n",
    "print('R Squared:', round( metrics.r2_score(Y_train_real_bis, Y_train_pred_bis), 2))\n",
    "print('Max Error:',round(  metrics.max_error(Y_train_real_bis, Y_train_pred_bis), 2))"
   ]
  },
  {
   "cell_type": "code",
   "execution_count": 117,
   "metadata": {},
   "outputs": [],
   "source": [
    "test_res.to_csv('./LR_res1.csv')"
   ]
  },
  {
   "cell_type": "code",
   "execution_count": 118,
   "metadata": {},
   "outputs": [],
   "source": [
    "prediction_train.to_csv('./LR_res_train1.csv')"
   ]
  }
 ],
 "metadata": {
  "colab": {
   "collapsed_sections": [],
   "name": "Copie de LSTM-covid-7-7-une-semaine-test-confinement.ipynb",
   "provenance": []
  },
  "kernelspec": {
   "display_name": "Python 3",
   "language": "python",
   "name": "python3"
  },
  "language_info": {
   "codemirror_mode": {
    "name": "ipython",
    "version": 3
   },
   "file_extension": ".py",
   "mimetype": "text/x-python",
   "name": "python",
   "nbconvert_exporter": "python",
   "pygments_lexer": "ipython3",
   "version": "3.7.6"
  }
 },
 "nbformat": 4,
 "nbformat_minor": 1
}
