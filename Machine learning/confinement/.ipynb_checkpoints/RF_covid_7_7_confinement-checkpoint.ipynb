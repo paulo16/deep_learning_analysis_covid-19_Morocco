{
 "cells": [
  {
   "cell_type": "code",
   "execution_count": null,
   "metadata": {
    "colab": {},
    "colab_type": "code",
    "id": "JR6J3O-xcGd8"
   },
   "outputs": [],
   "source": []
  },
  {
   "cell_type": "code",
   "execution_count": 2,
   "metadata": {
    "colab": {
     "base_uri": "https://localhost:8080/",
     "height": 51
    },
    "colab_type": "code",
    "id": "3GcS4Bpi_Fth",
    "outputId": "8ab267b5-6c24-4848-8c99-63d134226069"
   },
   "outputs": [
    {
     "name": "stdout",
     "output_type": "stream",
     "text": [
      "Requirement already satisfied: deap in /usr/local/lib/python3.6/dist-packages (1.3.1)\n",
      "Requirement already satisfied: numpy in /usr/local/lib/python3.6/dist-packages (from deap) (1.18.5)\n"
     ]
    }
   ],
   "source": [
    "!pip install deap"
   ]
  },
  {
   "cell_type": "code",
   "execution_count": 3,
   "metadata": {
    "colab": {
     "base_uri": "https://localhost:8080/",
     "height": 34
    },
    "colab_type": "code",
    "id": "zliVa8VX_ejV",
    "outputId": "9089306a-189a-41e3-e686-592efe89d2ca"
   },
   "outputs": [
    {
     "name": "stdout",
     "output_type": "stream",
     "text": [
      "Requirement already satisfied: bitstring in /usr/local/lib/python3.6/dist-packages (3.1.7)\n"
     ]
    }
   ],
   "source": [
    "!pip install bitstring"
   ]
  },
  {
   "cell_type": "code",
   "execution_count": 4,
   "metadata": {
    "colab": {
     "base_uri": "https://localhost:8080/",
     "height": 34
    },
    "colab_type": "code",
    "id": "dSknce3X_gux",
    "outputId": "3b0bc541-fc69-4271-f177-439f234b47b8"
   },
   "outputs": [
    {
     "name": "stdout",
     "output_type": "stream",
     "text": [
      "Requirement already satisfied: transforms3d in /usr/local/lib/python3.6/dist-packages (0.3.1)\n"
     ]
    }
   ],
   "source": [
    "!pip install transforms3d"
   ]
  },
  {
   "cell_type": "code",
   "execution_count": 5,
   "metadata": {
    "colab": {
     "base_uri": "https://localhost:8080/",
     "height": 68
    },
    "colab_type": "code",
    "id": "du9GbswO_jMR",
    "outputId": "cf909d90-5d1d-41ed-b0a4-3b27b149f180"
   },
   "outputs": [
    {
     "name": "stdout",
     "output_type": "stream",
     "text": [
      "Requirement already satisfied: tsaug in /usr/local/lib/python3.6/dist-packages (0.2.1)\n",
      "Requirement already satisfied: numpy>=1.14 in /usr/local/lib/python3.6/dist-packages (from tsaug) (1.18.5)\n",
      "Requirement already satisfied: scipy>=1.1 in /usr/local/lib/python3.6/dist-packages (from tsaug) (1.4.1)\n"
     ]
    }
   ],
   "source": [
    "!pip install tsaug"
   ]
  },
  {
   "cell_type": "code",
   "execution_count": 6,
   "metadata": {
    "colab": {},
    "colab_type": "code",
    "id": "KTuU01uk9xMT"
   },
   "outputs": [],
   "source": [
    "import os\n",
    "import pandas as pd\n",
    "import numpy as np\n",
    "from sklearn.utils import shuffle\n",
    "from scipy import stats \n",
    "import matplotlib.pyplot as plt \n",
    "from sklearn.model_selection import train_test_split\n",
    "from sklearn.preprocessing import MinMaxScaler\n",
    "from tensorflow import keras\n",
    "import tensorflow as tf\n",
    "from tensorflow.keras.preprocessing.sequence import pad_sequences\n",
    "from tensorflow.keras.preprocessing.text import Tokenizer\n",
    "from tensorflow.keras.layers import Dense, Input, LSTM, Embedding, Dropout, Activation\n",
    "from tensorflow.keras.layers import Bidirectional, GlobalMaxPool1D\n",
    "from tensorflow.keras.models import Model, Sequential\n",
    "from tensorflow.compat.v1.keras.layers import CuDNNLSTM\n",
    "from tensorflow.keras.layers import RepeatVector\n",
    "from tensorflow.keras.layers import TimeDistributed\n",
    "from tensorflow.keras import layers\n",
    "from sklearn.metrics import accuracy_score\n",
    "from sklearn.metrics import precision_score\n",
    "from sklearn.metrics import recall_score\n",
    "from sklearn.metrics import f1_score\n",
    "from sklearn.metrics import cohen_kappa_score\n",
    "from sklearn.metrics import mean_squared_error\n",
    "from tensorflow.keras.utils import plot_model\n",
    "from sklearn.impute import KNNImputer\n",
    "from sklearn.metrics import r2_score\n",
    "from sklearn.metrics import max_error\n",
    "from deap import base, creator, tools, algorithms\n",
    "from scipy.stats import bernoulli\n",
    "from bitstring import BitArray\n",
    "from scipy.interpolate import CubicSpline      # for warping\n",
    "from transforms3d.axangles import axangle2mat  # for rotation\n",
    "from tsaug import TimeWarp, Crop, Quantize, Drift, Reverse\n",
    "\n",
    "from math import sqrt\n",
    "from matplotlib import pyplot\n",
    "from sklearn.preprocessing import LabelEncoder"
   ]
  },
  {
   "cell_type": "code",
   "execution_count": 7,
   "metadata": {
    "colab": {
     "base_uri": "https://localhost:8080/",
     "height": 35
    },
    "colab_type": "code",
    "id": "j-X4dVFX-Eit",
    "outputId": "776eb2e4-a9fd-448e-9b53-76b3f4a633ee"
   },
   "outputs": [
    {
     "data": {
      "application/vnd.google.colaboratory.intrinsic+json": {
       "type": "string"
      },
      "text/plain": [
       "'/content'"
      ]
     },
     "execution_count": 7,
     "metadata": {
      "tags": []
     },
     "output_type": "execute_result"
    }
   ],
   "source": [
    "pwd"
   ]
  },
  {
   "cell_type": "code",
   "execution_count": 9,
   "metadata": {
    "colab": {},
    "colab_type": "code",
    "id": "KMW62TDd-IIn"
   },
   "outputs": [],
   "source": [
    "#%%time \n",
    "#!wget -O owid-covid-data.csv https://covid.ourworldindata.org/data/owid-covid-data.csv"
   ]
  },
  {
   "cell_type": "code",
   "execution_count": 10,
   "metadata": {
    "colab": {},
    "colab_type": "code",
    "id": "eK4anJP1-Nh3"
   },
   "outputs": [],
   "source": [
    "df = pd.read_csv('C:/Users/pc lenevo/Desktop/covid_3scenario/data_confinement/owid-covid-data.csv') # having First.csv zipped file."
   ]
  },
  {
   "cell_type": "code",
   "execution_count": 11,
   "metadata": {
    "colab": {
     "base_uri": "https://localhost:8080/",
     "height": 748
    },
    "colab_type": "code",
    "id": "BilnmU0Y-Qlv",
    "outputId": "2e66a8cf-fe16-4152-9784-8f5e0e8f2277"
   },
   "outputs": [
    {
     "name": "stdout",
     "output_type": "stream",
     "text": [
      "<class 'pandas.core.frame.DataFrame'>\n",
      "RangeIndex: 36557 entries, 0 to 36556\n",
      "Data columns (total 36 columns):\n",
      " #   Column                           Non-Null Count  Dtype  \n",
      "---  ------                           --------------  -----  \n",
      " 0   iso_code                         36493 non-null  object \n",
      " 1   continent                        36266 non-null  object \n",
      " 2   location                         36557 non-null  object \n",
      " 3   date                             36557 non-null  object \n",
      " 4   total_cases                      36212 non-null  float64\n",
      " 5   new_cases                        36212 non-null  float64\n",
      " 6   total_deaths                     36212 non-null  float64\n",
      " 7   new_deaths                       36212 non-null  float64\n",
      " 8   total_cases_per_million          36148 non-null  float64\n",
      " 9   new_cases_per_million            36148 non-null  float64\n",
      " 10  total_deaths_per_million         36148 non-null  float64\n",
      " 11  new_deaths_per_million           36148 non-null  float64\n",
      " 12  new_tests                        11468 non-null  float64\n",
      " 13  total_tests                      11820 non-null  float64\n",
      " 14  total_tests_per_thousand         11820 non-null  float64\n",
      " 15  new_tests_per_thousand           11468 non-null  float64\n",
      " 16  new_tests_smoothed               12912 non-null  float64\n",
      " 17  new_tests_smoothed_per_thousand  12912 non-null  float64\n",
      " 18  tests_per_case                   12049 non-null  float64\n",
      " 19  positive_rate                    12398 non-null  float64\n",
      " 20  tests_units                      13658 non-null  object \n",
      " 21  stringency_index                 30266 non-null  float64\n",
      " 22  population                       36493 non-null  float64\n",
      " 23  population_density               34885 non-null  float64\n",
      " 24  median_age                       32854 non-null  float64\n",
      " 25  aged_65_older                    32373 non-null  float64\n",
      " 26  aged_70_older                    32684 non-null  float64\n",
      " 27  gdp_per_capita                   32443 non-null  float64\n",
      " 28  extreme_poverty                  21702 non-null  float64\n",
      " 29  cardiovasc_death_rate            32879 non-null  float64\n",
      " 30  diabetes_prevalence              33989 non-null  float64\n",
      " 31  female_smokers                   25998 non-null  float64\n",
      " 32  male_smokers                     25682 non-null  float64\n",
      " 33  handwashing_facilities           15144 non-null  float64\n",
      " 34  hospital_beds_per_thousand       29834 non-null  float64\n",
      " 35  life_expectancy                  36046 non-null  float64\n",
      "dtypes: float64(31), object(5)\n",
      "memory usage: 10.0+ MB\n"
     ]
    }
   ],
   "source": [
    "# Informations dur les données\n",
    "df.info()"
   ]
  },
  {
   "cell_type": "code",
   "execution_count": 12,
   "metadata": {
    "colab": {
     "base_uri": "https://localhost:8080/",
     "height": 309
    },
    "colab_type": "code",
    "id": "sritp8Ed-UiJ",
    "outputId": "0e5f81d6-cfbe-451f-f16e-2bde0456e7c4"
   },
   "outputs": [
    {
     "data": {
      "text/html": [
       "<div>\n",
       "<style scoped>\n",
       "    .dataframe tbody tr th:only-of-type {\n",
       "        vertical-align: middle;\n",
       "    }\n",
       "\n",
       "    .dataframe tbody tr th {\n",
       "        vertical-align: top;\n",
       "    }\n",
       "\n",
       "    .dataframe thead th {\n",
       "        text-align: right;\n",
       "    }\n",
       "</style>\n",
       "<table border=\"1\" class=\"dataframe\">\n",
       "  <thead>\n",
       "    <tr style=\"text-align: right;\">\n",
       "      <th></th>\n",
       "      <th>iso_code</th>\n",
       "      <th>continent</th>\n",
       "      <th>location</th>\n",
       "      <th>date</th>\n",
       "      <th>total_cases</th>\n",
       "      <th>new_cases</th>\n",
       "      <th>total_deaths</th>\n",
       "      <th>new_deaths</th>\n",
       "      <th>total_cases_per_million</th>\n",
       "      <th>new_cases_per_million</th>\n",
       "      <th>total_deaths_per_million</th>\n",
       "      <th>new_deaths_per_million</th>\n",
       "      <th>new_tests</th>\n",
       "      <th>total_tests</th>\n",
       "      <th>total_tests_per_thousand</th>\n",
       "      <th>new_tests_per_thousand</th>\n",
       "      <th>new_tests_smoothed</th>\n",
       "      <th>new_tests_smoothed_per_thousand</th>\n",
       "      <th>tests_per_case</th>\n",
       "      <th>positive_rate</th>\n",
       "      <th>tests_units</th>\n",
       "      <th>stringency_index</th>\n",
       "      <th>population</th>\n",
       "      <th>population_density</th>\n",
       "      <th>median_age</th>\n",
       "      <th>aged_65_older</th>\n",
       "      <th>aged_70_older</th>\n",
       "      <th>gdp_per_capita</th>\n",
       "      <th>extreme_poverty</th>\n",
       "      <th>cardiovasc_death_rate</th>\n",
       "      <th>diabetes_prevalence</th>\n",
       "      <th>female_smokers</th>\n",
       "      <th>male_smokers</th>\n",
       "      <th>handwashing_facilities</th>\n",
       "      <th>hospital_beds_per_thousand</th>\n",
       "      <th>life_expectancy</th>\n",
       "    </tr>\n",
       "  </thead>\n",
       "  <tbody>\n",
       "    <tr>\n",
       "      <th>0</th>\n",
       "      <td>AFG</td>\n",
       "      <td>Asia</td>\n",
       "      <td>Afghanistan</td>\n",
       "      <td>2019-12-31</td>\n",
       "      <td>0.0</td>\n",
       "      <td>0.0</td>\n",
       "      <td>0.0</td>\n",
       "      <td>0.0</td>\n",
       "      <td>0.0</td>\n",
       "      <td>0.0</td>\n",
       "      <td>0.0</td>\n",
       "      <td>0.0</td>\n",
       "      <td>NaN</td>\n",
       "      <td>NaN</td>\n",
       "      <td>NaN</td>\n",
       "      <td>NaN</td>\n",
       "      <td>NaN</td>\n",
       "      <td>NaN</td>\n",
       "      <td>NaN</td>\n",
       "      <td>NaN</td>\n",
       "      <td>NaN</td>\n",
       "      <td>NaN</td>\n",
       "      <td>38928341.0</td>\n",
       "      <td>54.422</td>\n",
       "      <td>18.6</td>\n",
       "      <td>2.581</td>\n",
       "      <td>1.337</td>\n",
       "      <td>1803.987</td>\n",
       "      <td>NaN</td>\n",
       "      <td>597.029</td>\n",
       "      <td>9.59</td>\n",
       "      <td>NaN</td>\n",
       "      <td>NaN</td>\n",
       "      <td>37.746</td>\n",
       "      <td>0.5</td>\n",
       "      <td>64.83</td>\n",
       "    </tr>\n",
       "    <tr>\n",
       "      <th>1</th>\n",
       "      <td>AFG</td>\n",
       "      <td>Asia</td>\n",
       "      <td>Afghanistan</td>\n",
       "      <td>2020-01-01</td>\n",
       "      <td>0.0</td>\n",
       "      <td>0.0</td>\n",
       "      <td>0.0</td>\n",
       "      <td>0.0</td>\n",
       "      <td>0.0</td>\n",
       "      <td>0.0</td>\n",
       "      <td>0.0</td>\n",
       "      <td>0.0</td>\n",
       "      <td>NaN</td>\n",
       "      <td>NaN</td>\n",
       "      <td>NaN</td>\n",
       "      <td>NaN</td>\n",
       "      <td>NaN</td>\n",
       "      <td>NaN</td>\n",
       "      <td>NaN</td>\n",
       "      <td>NaN</td>\n",
       "      <td>NaN</td>\n",
       "      <td>0.0</td>\n",
       "      <td>38928341.0</td>\n",
       "      <td>54.422</td>\n",
       "      <td>18.6</td>\n",
       "      <td>2.581</td>\n",
       "      <td>1.337</td>\n",
       "      <td>1803.987</td>\n",
       "      <td>NaN</td>\n",
       "      <td>597.029</td>\n",
       "      <td>9.59</td>\n",
       "      <td>NaN</td>\n",
       "      <td>NaN</td>\n",
       "      <td>37.746</td>\n",
       "      <td>0.5</td>\n",
       "      <td>64.83</td>\n",
       "    </tr>\n",
       "    <tr>\n",
       "      <th>2</th>\n",
       "      <td>AFG</td>\n",
       "      <td>Asia</td>\n",
       "      <td>Afghanistan</td>\n",
       "      <td>2020-01-02</td>\n",
       "      <td>0.0</td>\n",
       "      <td>0.0</td>\n",
       "      <td>0.0</td>\n",
       "      <td>0.0</td>\n",
       "      <td>0.0</td>\n",
       "      <td>0.0</td>\n",
       "      <td>0.0</td>\n",
       "      <td>0.0</td>\n",
       "      <td>NaN</td>\n",
       "      <td>NaN</td>\n",
       "      <td>NaN</td>\n",
       "      <td>NaN</td>\n",
       "      <td>NaN</td>\n",
       "      <td>NaN</td>\n",
       "      <td>NaN</td>\n",
       "      <td>NaN</td>\n",
       "      <td>NaN</td>\n",
       "      <td>0.0</td>\n",
       "      <td>38928341.0</td>\n",
       "      <td>54.422</td>\n",
       "      <td>18.6</td>\n",
       "      <td>2.581</td>\n",
       "      <td>1.337</td>\n",
       "      <td>1803.987</td>\n",
       "      <td>NaN</td>\n",
       "      <td>597.029</td>\n",
       "      <td>9.59</td>\n",
       "      <td>NaN</td>\n",
       "      <td>NaN</td>\n",
       "      <td>37.746</td>\n",
       "      <td>0.5</td>\n",
       "      <td>64.83</td>\n",
       "    </tr>\n",
       "    <tr>\n",
       "      <th>3</th>\n",
       "      <td>AFG</td>\n",
       "      <td>Asia</td>\n",
       "      <td>Afghanistan</td>\n",
       "      <td>2020-01-03</td>\n",
       "      <td>0.0</td>\n",
       "      <td>0.0</td>\n",
       "      <td>0.0</td>\n",
       "      <td>0.0</td>\n",
       "      <td>0.0</td>\n",
       "      <td>0.0</td>\n",
       "      <td>0.0</td>\n",
       "      <td>0.0</td>\n",
       "      <td>NaN</td>\n",
       "      <td>NaN</td>\n",
       "      <td>NaN</td>\n",
       "      <td>NaN</td>\n",
       "      <td>NaN</td>\n",
       "      <td>NaN</td>\n",
       "      <td>NaN</td>\n",
       "      <td>NaN</td>\n",
       "      <td>NaN</td>\n",
       "      <td>0.0</td>\n",
       "      <td>38928341.0</td>\n",
       "      <td>54.422</td>\n",
       "      <td>18.6</td>\n",
       "      <td>2.581</td>\n",
       "      <td>1.337</td>\n",
       "      <td>1803.987</td>\n",
       "      <td>NaN</td>\n",
       "      <td>597.029</td>\n",
       "      <td>9.59</td>\n",
       "      <td>NaN</td>\n",
       "      <td>NaN</td>\n",
       "      <td>37.746</td>\n",
       "      <td>0.5</td>\n",
       "      <td>64.83</td>\n",
       "    </tr>\n",
       "    <tr>\n",
       "      <th>4</th>\n",
       "      <td>AFG</td>\n",
       "      <td>Asia</td>\n",
       "      <td>Afghanistan</td>\n",
       "      <td>2020-01-04</td>\n",
       "      <td>0.0</td>\n",
       "      <td>0.0</td>\n",
       "      <td>0.0</td>\n",
       "      <td>0.0</td>\n",
       "      <td>0.0</td>\n",
       "      <td>0.0</td>\n",
       "      <td>0.0</td>\n",
       "      <td>0.0</td>\n",
       "      <td>NaN</td>\n",
       "      <td>NaN</td>\n",
       "      <td>NaN</td>\n",
       "      <td>NaN</td>\n",
       "      <td>NaN</td>\n",
       "      <td>NaN</td>\n",
       "      <td>NaN</td>\n",
       "      <td>NaN</td>\n",
       "      <td>NaN</td>\n",
       "      <td>0.0</td>\n",
       "      <td>38928341.0</td>\n",
       "      <td>54.422</td>\n",
       "      <td>18.6</td>\n",
       "      <td>2.581</td>\n",
       "      <td>1.337</td>\n",
       "      <td>1803.987</td>\n",
       "      <td>NaN</td>\n",
       "      <td>597.029</td>\n",
       "      <td>9.59</td>\n",
       "      <td>NaN</td>\n",
       "      <td>NaN</td>\n",
       "      <td>37.746</td>\n",
       "      <td>0.5</td>\n",
       "      <td>64.83</td>\n",
       "    </tr>\n",
       "  </tbody>\n",
       "</table>\n",
       "</div>"
      ],
      "text/plain": [
       "  iso_code continent  ... hospital_beds_per_thousand life_expectancy\n",
       "0      AFG      Asia  ...                        0.5           64.83\n",
       "1      AFG      Asia  ...                        0.5           64.83\n",
       "2      AFG      Asia  ...                        0.5           64.83\n",
       "3      AFG      Asia  ...                        0.5           64.83\n",
       "4      AFG      Asia  ...                        0.5           64.83\n",
       "\n",
       "[5 rows x 36 columns]"
      ]
     },
     "execution_count": 12,
     "metadata": {
      "tags": []
     },
     "output_type": "execute_result"
    }
   ],
   "source": [
    "# Les 5 premères lignes du dataset \n",
    "df.head(5)"
   ]
  },
  {
   "cell_type": "code",
   "execution_count": 13,
   "metadata": {
    "colab": {
     "base_uri": "https://localhost:8080/",
     "height": 34
    },
    "colab_type": "code",
    "id": "huKKI0G7-VOI",
    "outputId": "3ef3eadd-c15e-4d4f-9642-5fb5680db965"
   },
   "outputs": [
    {
     "data": {
      "text/plain": [
       "(8304, 36)"
      ]
     },
     "execution_count": 13,
     "metadata": {
      "tags": []
     },
     "output_type": "execute_result"
    }
   ],
   "source": [
    "df[df.continent  == 'Africa'].shape\n",
    "# soit 54 pays en afrique ,3 mois de COVID = approximativement 4800"
   ]
  },
  {
   "cell_type": "code",
   "execution_count": 14,
   "metadata": {
    "colab": {
     "base_uri": "https://localhost:8080/",
     "height": 34
    },
    "colab_type": "code",
    "id": "huWv9oOY-c4l",
    "outputId": "192daeb5-99a7-434b-950d-0b4fb2349eed"
   },
   "outputs": [
    {
     "data": {
      "text/plain": [
       "(189, 36)"
      ]
     },
     "execution_count": 14,
     "metadata": {
      "tags": []
     },
     "output_type": "execute_result"
    }
   ],
   "source": [
    "#Taille des données de COVID pour le Maroc\n",
    "df[df.location  == 'Morocco'].shape"
   ]
  },
  {
   "cell_type": "code",
   "execution_count": 15,
   "metadata": {
    "colab": {
     "base_uri": "https://localhost:8080/",
     "height": 35
    },
    "colab_type": "code",
    "id": "3qwR0kpL-fNJ",
    "outputId": "1decc4a9-1be9-43f1-9d28-eb42bab67a30"
   },
   "outputs": [
    {
     "data": {
      "application/vnd.google.colaboratory.intrinsic+json": {
       "type": "string"
      },
      "text/plain": [
       "'2019-12-31'"
      ]
     },
     "execution_count": 15,
     "metadata": {
      "tags": []
     },
     "output_type": "execute_result"
    }
   ],
   "source": [
    "#Première date d'enregistrement de cas dans le monde \n",
    "df.date.min()"
   ]
  },
  {
   "cell_type": "code",
   "execution_count": 16,
   "metadata": {
    "colab": {
     "base_uri": "https://localhost:8080/",
     "height": 35
    },
    "colab_type": "code",
    "id": "58yqzRyI-f80",
    "outputId": "8ca70701-00bc-4896-93b0-edfa9eb05247"
   },
   "outputs": [
    {
     "data": {
      "application/vnd.google.colaboratory.intrinsic+json": {
       "type": "string"
      },
      "text/plain": [
       "'2020-08-13'"
      ]
     },
     "execution_count": 16,
     "metadata": {
      "tags": []
     },
     "output_type": "execute_result"
    }
   ],
   "source": [
    "# dernière date d'enregistrement pour notre datset\n",
    "df.date.max()"
   ]
  },
  {
   "cell_type": "code",
   "execution_count": 17,
   "metadata": {
    "colab": {
     "base_uri": "https://localhost:8080/",
     "height": 35
    },
    "colab_type": "code",
    "id": "Wensf72i-oCA",
    "outputId": "7604bc29-4121-43eb-e95d-6a7d4020132a"
   },
   "outputs": [
    {
     "data": {
      "application/vnd.google.colaboratory.intrinsic+json": {
       "type": "string"
      },
      "text/plain": [
       "'2020-02-07'"
      ]
     },
     "execution_count": 17,
     "metadata": {
      "tags": []
     },
     "output_type": "execute_result"
    }
   ],
   "source": [
    "# Première date d'enregistrement de cas au Maroc \n",
    "df[(df.location  == 'Morocco')].date.min()"
   ]
  },
  {
   "cell_type": "code",
   "execution_count": 18,
   "metadata": {
    "colab": {
     "base_uri": "https://localhost:8080/",
     "height": 35
    },
    "colab_type": "code",
    "id": "DFmNwfSn-omQ",
    "outputId": "146f6d4a-89f5-45c3-e867-a1dda2b24505"
   },
   "outputs": [
    {
     "data": {
      "application/vnd.google.colaboratory.intrinsic+json": {
       "type": "string"
      },
      "text/plain": [
       "'2020-08-13'"
      ]
     },
     "execution_count": 18,
     "metadata": {
      "tags": []
     },
     "output_type": "execute_result"
    }
   ],
   "source": [
    "# dernière date d'enregistrement de cas au Maroc \n",
    "df[(df.location  == 'Morocco')].date.max()"
   ]
  },
  {
   "cell_type": "code",
   "execution_count": 19,
   "metadata": {
    "colab": {},
    "colab_type": "code",
    "id": "1dXM84j99Qo-"
   },
   "outputs": [],
   "source": [
    "df.date= pd.to_datetime(df['date'],format='%Y-%m-%d')"
   ]
  },
  {
   "cell_type": "code",
   "execution_count": 20,
   "metadata": {
    "colab": {},
    "colab_type": "code",
    "id": "ZmJozDDA9Qpf"
   },
   "outputs": [],
   "source": [
    "df=df[['new_cases','total_cases','total_deaths','new_deaths', 'population','date','location']]\n"
   ]
  },
  {
   "cell_type": "code",
   "execution_count": 21,
   "metadata": {
    "colab": {},
    "colab_type": "code",
    "id": "pEelLZEx9Qp3"
   },
   "outputs": [],
   "source": [
    "df = df.fillna(df.median())"
   ]
  },
  {
   "cell_type": "code",
   "execution_count": 22,
   "metadata": {
    "colab": {
     "base_uri": "https://localhost:8080/",
     "height": 359
    },
    "colab_type": "code",
    "id": "GkzzotM4FzrD",
    "outputId": "86c4cfc8-1daf-4c01-a14e-ecec01674e10"
   },
   "outputs": [
    {
     "data": {
      "text/html": [
       "<div>\n",
       "<style scoped>\n",
       "    .dataframe tbody tr th:only-of-type {\n",
       "        vertical-align: middle;\n",
       "    }\n",
       "\n",
       "    .dataframe tbody tr th {\n",
       "        vertical-align: top;\n",
       "    }\n",
       "\n",
       "    .dataframe thead th {\n",
       "        text-align: right;\n",
       "    }\n",
       "</style>\n",
       "<table border=\"1\" class=\"dataframe\">\n",
       "  <thead>\n",
       "    <tr style=\"text-align: right;\">\n",
       "      <th></th>\n",
       "      <th>new_cases</th>\n",
       "      <th>total_cases</th>\n",
       "      <th>total_deaths</th>\n",
       "      <th>new_deaths</th>\n",
       "      <th>population</th>\n",
       "      <th>date</th>\n",
       "      <th>location</th>\n",
       "    </tr>\n",
       "  </thead>\n",
       "  <tbody>\n",
       "    <tr>\n",
       "      <th>22816</th>\n",
       "      <td>659.0</td>\n",
       "      <td>26196.0</td>\n",
       "      <td>401.0</td>\n",
       "      <td>19.0</td>\n",
       "      <td>36910558.0</td>\n",
       "      <td>2020-08-04</td>\n",
       "      <td>Morocco</td>\n",
       "    </tr>\n",
       "    <tr>\n",
       "      <th>22817</th>\n",
       "      <td>1021.0</td>\n",
       "      <td>27217.0</td>\n",
       "      <td>417.0</td>\n",
       "      <td>16.0</td>\n",
       "      <td>36910558.0</td>\n",
       "      <td>2020-08-05</td>\n",
       "      <td>Morocco</td>\n",
       "    </tr>\n",
       "    <tr>\n",
       "      <th>22818</th>\n",
       "      <td>1283.0</td>\n",
       "      <td>28500.0</td>\n",
       "      <td>435.0</td>\n",
       "      <td>18.0</td>\n",
       "      <td>36910558.0</td>\n",
       "      <td>2020-08-06</td>\n",
       "      <td>Morocco</td>\n",
       "    </tr>\n",
       "    <tr>\n",
       "      <th>22819</th>\n",
       "      <td>1144.0</td>\n",
       "      <td>29644.0</td>\n",
       "      <td>449.0</td>\n",
       "      <td>14.0</td>\n",
       "      <td>36910558.0</td>\n",
       "      <td>2020-08-07</td>\n",
       "      <td>Morocco</td>\n",
       "    </tr>\n",
       "    <tr>\n",
       "      <th>22820</th>\n",
       "      <td>1018.0</td>\n",
       "      <td>30662.0</td>\n",
       "      <td>461.0</td>\n",
       "      <td>12.0</td>\n",
       "      <td>36910558.0</td>\n",
       "      <td>2020-08-08</td>\n",
       "      <td>Morocco</td>\n",
       "    </tr>\n",
       "    <tr>\n",
       "      <th>22821</th>\n",
       "      <td>1345.0</td>\n",
       "      <td>32007.0</td>\n",
       "      <td>480.0</td>\n",
       "      <td>19.0</td>\n",
       "      <td>36910558.0</td>\n",
       "      <td>2020-08-09</td>\n",
       "      <td>Morocco</td>\n",
       "    </tr>\n",
       "    <tr>\n",
       "      <th>22822</th>\n",
       "      <td>1230.0</td>\n",
       "      <td>33237.0</td>\n",
       "      <td>498.0</td>\n",
       "      <td>18.0</td>\n",
       "      <td>36910558.0</td>\n",
       "      <td>2020-08-10</td>\n",
       "      <td>Morocco</td>\n",
       "    </tr>\n",
       "    <tr>\n",
       "      <th>22823</th>\n",
       "      <td>826.0</td>\n",
       "      <td>34063.0</td>\n",
       "      <td>516.0</td>\n",
       "      <td>18.0</td>\n",
       "      <td>36910558.0</td>\n",
       "      <td>2020-08-11</td>\n",
       "      <td>Morocco</td>\n",
       "    </tr>\n",
       "    <tr>\n",
       "      <th>22824</th>\n",
       "      <td>1132.0</td>\n",
       "      <td>35195.0</td>\n",
       "      <td>533.0</td>\n",
       "      <td>17.0</td>\n",
       "      <td>36910558.0</td>\n",
       "      <td>2020-08-12</td>\n",
       "      <td>Morocco</td>\n",
       "    </tr>\n",
       "    <tr>\n",
       "      <th>22825</th>\n",
       "      <td>1499.0</td>\n",
       "      <td>36694.0</td>\n",
       "      <td>556.0</td>\n",
       "      <td>23.0</td>\n",
       "      <td>36910558.0</td>\n",
       "      <td>2020-08-13</td>\n",
       "      <td>Morocco</td>\n",
       "    </tr>\n",
       "  </tbody>\n",
       "</table>\n",
       "</div>"
      ],
      "text/plain": [
       "       new_cases  total_cases  total_deaths  ...  population       date location\n",
       "22816      659.0      26196.0         401.0  ...  36910558.0 2020-08-04  Morocco\n",
       "22817     1021.0      27217.0         417.0  ...  36910558.0 2020-08-05  Morocco\n",
       "22818     1283.0      28500.0         435.0  ...  36910558.0 2020-08-06  Morocco\n",
       "22819     1144.0      29644.0         449.0  ...  36910558.0 2020-08-07  Morocco\n",
       "22820     1018.0      30662.0         461.0  ...  36910558.0 2020-08-08  Morocco\n",
       "22821     1345.0      32007.0         480.0  ...  36910558.0 2020-08-09  Morocco\n",
       "22822     1230.0      33237.0         498.0  ...  36910558.0 2020-08-10  Morocco\n",
       "22823      826.0      34063.0         516.0  ...  36910558.0 2020-08-11  Morocco\n",
       "22824     1132.0      35195.0         533.0  ...  36910558.0 2020-08-12  Morocco\n",
       "22825     1499.0      36694.0         556.0  ...  36910558.0 2020-08-13  Morocco\n",
       "\n",
       "[10 rows x 7 columns]"
      ]
     },
     "execution_count": 22,
     "metadata": {
      "tags": []
     },
     "output_type": "execute_result"
    }
   ],
   "source": [
    "df[(df.location  == 'Morocco')].tail(10)"
   ]
  },
  {
   "cell_type": "code",
   "execution_count": 23,
   "metadata": {
    "colab": {},
    "colab_type": "code",
    "id": "STWuqUsvzEO1"
   },
   "outputs": [],
   "source": [
    "def DA_Jitter(X, sigma=0.05):\n",
    "    myNoise = np.random.normal(loc=0, scale=sigma, size=X.shape)\n",
    "    myNoise =  np.add(myNoise,abs(np.min(myNoise)))\n",
    "    return X+myNoise"
   ]
  },
  {
   "cell_type": "code",
   "execution_count": 24,
   "metadata": {
    "colab": {},
    "colab_type": "code",
    "id": "tmHxUA7xzE3b"
   },
   "outputs": [],
   "source": [
    "def DA_Scaling(X, sigma=0.1):\n",
    "    scalingFactor = np.random.normal(loc=1.0, scale=sigma, size=(1,X.shape[1])) # shape=(1,3)\n",
    "    scalingFactor = np.add(scalingFactor,abs(np.min(scalingFactor)))\n",
    "    myNoise = np.matmul(np.ones((X.shape[0],1)), scalingFactor)\n",
    "    return X*myNoise"
   ]
  },
  {
   "cell_type": "code",
   "execution_count": 25,
   "metadata": {
    "colab": {},
    "colab_type": "code",
    "id": "z_9FeasYzJTF"
   },
   "outputs": [],
   "source": [
    "def DA_Rotation(X):\n",
    "    axis = np.random.uniform(low=-1, high=1, size=X.shape[1])\n",
    "    angle = np.random.uniform(low=-np.pi, high=np.pi)\n",
    "    return np.matmul(X , axangle2mat(axis,angle))"
   ]
  },
  {
   "cell_type": "code",
   "execution_count": 26,
   "metadata": {
    "colab": {},
    "colab_type": "code",
    "id": "5RKSEnq19QqL"
   },
   "outputs": [],
   "source": [
    "#df['month'] = df['date'].dt.month"
   ]
  },
  {
   "cell_type": "code",
   "execution_count": 27,
   "metadata": {
    "colab": {},
    "colab_type": "code",
    "id": "mTTUrl4k9Qqk"
   },
   "outputs": [],
   "source": [
    "# Parametrages sequences \n",
    "nb_seq=7\n",
    "n_out=7\n",
    "nb_col=5"
   ]
  },
  {
   "cell_type": "code",
   "execution_count": 28,
   "metadata": {
    "colab": {},
    "colab_type": "code",
    "id": "c1AqqQNO9Qq2"
   },
   "outputs": [],
   "source": [
    "start_date = '2020-03-02'\n",
    "end_date = '2020-05-24'\n",
    "start_date2 = '2020-05-25'\n",
    "end_date2 = '2020-06-14'"
   ]
  },
  {
   "cell_type": "code",
   "execution_count": 29,
   "metadata": {
    "colab": {},
    "colab_type": "code",
    "id": "iFFh1aOJ9QrD"
   },
   "outputs": [],
   "source": [
    "#mask = (covid_data['date'] >= start_date) & (covid_data['date'] <= end_date) &  (covid_data['location'].isin(['Morocco']))\n",
    "mask1 = (df['date'] >= start_date) & (df['date'] <= end_date) &  (df['location'].isin(['Morocco']))"
   ]
  },
  {
   "cell_type": "code",
   "execution_count": 30,
   "metadata": {
    "colab": {},
    "colab_type": "code",
    "id": "BNajSp2E9QrU"
   },
   "outputs": [],
   "source": [
    "mask2 = (df['date'] >= start_date2) & (df['date'] <= end_date2) &  (df['location'].isin(['Morocco']))"
   ]
  },
  {
   "cell_type": "code",
   "execution_count": 31,
   "metadata": {
    "colab": {},
    "colab_type": "code",
    "id": "WSAgg6em9Qrk"
   },
   "outputs": [],
   "source": [
    "df.sort_values(by=['location'], inplace=True)\n"
   ]
  },
  {
   "cell_type": "code",
   "execution_count": 32,
   "metadata": {
    "colab": {
     "base_uri": "https://localhost:8080/",
     "height": 34
    },
    "colab_type": "code",
    "id": "ueK-y_mU9Qr0",
    "outputId": "2ea53927-44ba-4d3c-bfc4-9b9b59eaa3fb"
   },
   "outputs": [
    {
     "data": {
      "text/plain": [
       "(84, 7)"
      ]
     },
     "execution_count": 32,
     "metadata": {
      "tags": []
     },
     "output_type": "execute_result"
    }
   ],
   "source": [
    "X_train = df.loc[mask1].sort_index(axis = 0) \n",
    "X_train.shape"
   ]
  },
  {
   "cell_type": "code",
   "execution_count": 33,
   "metadata": {
    "colab": {
     "base_uri": "https://localhost:8080/",
     "height": 204
    },
    "colab_type": "code",
    "id": "DsiCWFbe32Ej",
    "outputId": "4758bd54-3b1c-4ec2-e4c4-35fa5f530b68"
   },
   "outputs": [
    {
     "data": {
      "text/html": [
       "<div>\n",
       "<style scoped>\n",
       "    .dataframe tbody tr th:only-of-type {\n",
       "        vertical-align: middle;\n",
       "    }\n",
       "\n",
       "    .dataframe tbody tr th {\n",
       "        vertical-align: top;\n",
       "    }\n",
       "\n",
       "    .dataframe thead th {\n",
       "        text-align: right;\n",
       "    }\n",
       "</style>\n",
       "<table border=\"1\" class=\"dataframe\">\n",
       "  <thead>\n",
       "    <tr style=\"text-align: right;\">\n",
       "      <th></th>\n",
       "      <th>new_cases</th>\n",
       "      <th>total_cases</th>\n",
       "      <th>total_deaths</th>\n",
       "      <th>new_deaths</th>\n",
       "      <th>population</th>\n",
       "      <th>date</th>\n",
       "      <th>location</th>\n",
       "    </tr>\n",
       "  </thead>\n",
       "  <tbody>\n",
       "    <tr>\n",
       "      <th>22661</th>\n",
       "      <td>6.0</td>\n",
       "      <td>589.0</td>\n",
       "      <td>10.0</td>\n",
       "      <td>0.0</td>\n",
       "      <td>36910558.0</td>\n",
       "      <td>2020-03-02</td>\n",
       "      <td>Morocco</td>\n",
       "    </tr>\n",
       "    <tr>\n",
       "      <th>22662</th>\n",
       "      <td>1.0</td>\n",
       "      <td>1.0</td>\n",
       "      <td>0.0</td>\n",
       "      <td>0.0</td>\n",
       "      <td>36910558.0</td>\n",
       "      <td>2020-03-03</td>\n",
       "      <td>Morocco</td>\n",
       "    </tr>\n",
       "    <tr>\n",
       "      <th>22663</th>\n",
       "      <td>6.0</td>\n",
       "      <td>589.0</td>\n",
       "      <td>10.0</td>\n",
       "      <td>0.0</td>\n",
       "      <td>36910558.0</td>\n",
       "      <td>2020-03-04</td>\n",
       "      <td>Morocco</td>\n",
       "    </tr>\n",
       "    <tr>\n",
       "      <th>22664</th>\n",
       "      <td>6.0</td>\n",
       "      <td>589.0</td>\n",
       "      <td>10.0</td>\n",
       "      <td>0.0</td>\n",
       "      <td>36910558.0</td>\n",
       "      <td>2020-03-05</td>\n",
       "      <td>Morocco</td>\n",
       "    </tr>\n",
       "    <tr>\n",
       "      <th>22665</th>\n",
       "      <td>1.0</td>\n",
       "      <td>2.0</td>\n",
       "      <td>0.0</td>\n",
       "      <td>0.0</td>\n",
       "      <td>36910558.0</td>\n",
       "      <td>2020-03-06</td>\n",
       "      <td>Morocco</td>\n",
       "    </tr>\n",
       "  </tbody>\n",
       "</table>\n",
       "</div>"
      ],
      "text/plain": [
       "       new_cases  total_cases  total_deaths  ...  population       date location\n",
       "22661        6.0        589.0          10.0  ...  36910558.0 2020-03-02  Morocco\n",
       "22662        1.0          1.0           0.0  ...  36910558.0 2020-03-03  Morocco\n",
       "22663        6.0        589.0          10.0  ...  36910558.0 2020-03-04  Morocco\n",
       "22664        6.0        589.0          10.0  ...  36910558.0 2020-03-05  Morocco\n",
       "22665        1.0          2.0           0.0  ...  36910558.0 2020-03-06  Morocco\n",
       "\n",
       "[5 rows x 7 columns]"
      ]
     },
     "execution_count": 33,
     "metadata": {
      "tags": []
     },
     "output_type": "execute_result"
    }
   ],
   "source": [
    "X_train.head(5)"
   ]
  },
  {
   "cell_type": "code",
   "execution_count": 34,
   "metadata": {
    "colab": {
     "base_uri": "https://localhost:8080/",
     "height": 204
    },
    "colab_type": "code",
    "id": "5Lhcdb3Qh1vH",
    "outputId": "ff0a5f1d-33f6-4b71-85a4-3590b736cc84"
   },
   "outputs": [
    {
     "data": {
      "text/html": [
       "<div>\n",
       "<style scoped>\n",
       "    .dataframe tbody tr th:only-of-type {\n",
       "        vertical-align: middle;\n",
       "    }\n",
       "\n",
       "    .dataframe tbody tr th {\n",
       "        vertical-align: top;\n",
       "    }\n",
       "\n",
       "    .dataframe thead th {\n",
       "        text-align: right;\n",
       "    }\n",
       "</style>\n",
       "<table border=\"1\" class=\"dataframe\">\n",
       "  <thead>\n",
       "    <tr style=\"text-align: right;\">\n",
       "      <th></th>\n",
       "      <th>new_cases</th>\n",
       "      <th>total_cases</th>\n",
       "      <th>total_deaths</th>\n",
       "      <th>new_deaths</th>\n",
       "      <th>population</th>\n",
       "      <th>date</th>\n",
       "      <th>location</th>\n",
       "    </tr>\n",
       "  </thead>\n",
       "  <tbody>\n",
       "    <tr>\n",
       "      <th>22740</th>\n",
       "      <td>71.0</td>\n",
       "      <td>7023.0</td>\n",
       "      <td>193.0</td>\n",
       "      <td>1.0</td>\n",
       "      <td>36910558.0</td>\n",
       "      <td>2020-05-20</td>\n",
       "      <td>Morocco</td>\n",
       "    </tr>\n",
       "    <tr>\n",
       "      <th>22741</th>\n",
       "      <td>110.0</td>\n",
       "      <td>7133.0</td>\n",
       "      <td>194.0</td>\n",
       "      <td>1.0</td>\n",
       "      <td>36910558.0</td>\n",
       "      <td>2020-05-21</td>\n",
       "      <td>Morocco</td>\n",
       "    </tr>\n",
       "    <tr>\n",
       "      <th>22742</th>\n",
       "      <td>78.0</td>\n",
       "      <td>7211.0</td>\n",
       "      <td>196.0</td>\n",
       "      <td>2.0</td>\n",
       "      <td>36910558.0</td>\n",
       "      <td>2020-05-22</td>\n",
       "      <td>Morocco</td>\n",
       "    </tr>\n",
       "    <tr>\n",
       "      <th>22743</th>\n",
       "      <td>121.0</td>\n",
       "      <td>7332.0</td>\n",
       "      <td>197.0</td>\n",
       "      <td>1.0</td>\n",
       "      <td>36910558.0</td>\n",
       "      <td>2020-05-23</td>\n",
       "      <td>Morocco</td>\n",
       "    </tr>\n",
       "    <tr>\n",
       "      <th>22744</th>\n",
       "      <td>74.0</td>\n",
       "      <td>7406.0</td>\n",
       "      <td>198.0</td>\n",
       "      <td>1.0</td>\n",
       "      <td>36910558.0</td>\n",
       "      <td>2020-05-24</td>\n",
       "      <td>Morocco</td>\n",
       "    </tr>\n",
       "  </tbody>\n",
       "</table>\n",
       "</div>"
      ],
      "text/plain": [
       "       new_cases  total_cases  total_deaths  ...  population       date location\n",
       "22740       71.0       7023.0         193.0  ...  36910558.0 2020-05-20  Morocco\n",
       "22741      110.0       7133.0         194.0  ...  36910558.0 2020-05-21  Morocco\n",
       "22742       78.0       7211.0         196.0  ...  36910558.0 2020-05-22  Morocco\n",
       "22743      121.0       7332.0         197.0  ...  36910558.0 2020-05-23  Morocco\n",
       "22744       74.0       7406.0         198.0  ...  36910558.0 2020-05-24  Morocco\n",
       "\n",
       "[5 rows x 7 columns]"
      ]
     },
     "execution_count": 34,
     "metadata": {
      "tags": []
     },
     "output_type": "execute_result"
    }
   ],
   "source": [
    "X_train.tail(5)"
   ]
  },
  {
   "cell_type": "code",
   "execution_count": 35,
   "metadata": {
    "colab": {},
    "colab_type": "code",
    "id": "KEaisHeXpMbA"
   },
   "outputs": [],
   "source": [
    "#Date to add test set \n",
    "data_add_test = X_train[X_train.location =='Morocco'].tail(nb_seq)"
   ]
  },
  {
   "cell_type": "code",
   "execution_count": 36,
   "metadata": {
    "colab": {
     "base_uri": "https://localhost:8080/",
     "height": 120
    },
    "colab_type": "code",
    "id": "KqtxPk6izf4G",
    "outputId": "1532f680-6cac-4614-94e6-283ac5dc1f1f"
   },
   "outputs": [
    {
     "data": {
      "application/vnd.google.colaboratory.intrinsic+json": {
       "type": "string"
      },
      "text/plain": [
       "\"\\n# AUGMENTATION \\n\\nstart_date = '2020-06-25'\\nend_date = '2020-07-31'\\nmask = (df['date'] >= start_date) & (df['date'] <= end_date) &  (df['location'].isin(['Morocco']))\\nX_1 = df.loc[mask].sort_index(axis = 0) \\nX_2 = X_3 = X_4 =X_5=X_6=X_7=X_8= X_1\\n\\nX_2[['new_cases']] = DA_Jitter(X_2[['new_cases']], sigma=1000)\\nX_2[['total_cases']] = X_2['total_cases'] + X_2['new_cases']\\nX_2[['new_deaths']] = DA_Jitter(X_2[['new_deaths']], sigma=10)\\nX_2[['total_deaths']] = X_2['total_deaths'] + X_2['new_deaths']\\n\\nX_3[['new_cases']] = DA_Jitter(X_3[['new_cases']], sigma=500)\\nX_3[['total_cases']] = X_3['total_cases'] + X_3['new_cases']\\nX_3[['new_deaths']] = DA_Jitter(X_3['new_deaths'], sigma=20)\\nX_3[['total_deaths']] = X_3['total_deaths'] + X_3['new_deaths']\\n\\nX_4[['new_cases']] = DA_Jitter(X_4[['new_cases']], sigma=1000)\\nX_4[['total_cases']] = X_4['total_cases'] + X_4['new_cases']\\nX_4[['new_deaths']] = DA_Jitter(X_4[['new_deaths']], sigma=30)\\nX_4[['total_deaths']] = X_4['total_deaths'] + X_4['new_deaths']\\n\\nX_5[['new_cases']] = DA_Jitter(X_5[['new_cases']], sigma=1000)\\nX_5[['total_cases']] = X_5['total_cases'] + X_5['new_cases']\\nX_5[['new_deaths']] = DA_Jitter(X_5[['new_deaths']], sigma=40)\\nX_5[['total_deaths']] = X_5['total_deaths'] + X_5['new_deaths']\\n\\nX_6[['new_cases']] = DA_Jitter(X_6[['new_cases']], sigma=1000)\\nX_6[['total_cases']] = X_6['total_cases'] + X_6['new_cases']\\nX_6[['new_deaths']] = DA_Jitter(X_6[['new_deaths']], sigma=50)\\nX_6[['total_deaths']] = X_6['total_deaths'] + X_6['new_deaths']\\n\\n\\n#X_7[['new_cases','total_cases','total_deaths', 'new_deaths', 'population']] = DA_Scaling(X_6[['new_cases','total_cases','total_deaths', 'new_deaths', 'population']], sigma=2000)\\n#X_8[['new_cases','total_cases','total_deaths', 'new_deaths', 'population']] = DA_Scaling(X_7[['new_cases','total_cases','total_deaths', 'new_deaths', 'population']], sigma=3000)\\n#X_4 = pd.DataFrame(X_4,columns=cols_need)\\n#print(X_1.shape)\\nX_train = pd.concat([X_train, X_2,X_3,X_4,X_5,X_6], ignore_index=True)\\n\""
      ]
     },
     "execution_count": 36,
     "metadata": {
      "tags": []
     },
     "output_type": "execute_result"
    }
   ],
   "source": [
    "'''\n",
    "# AUGMENTATION \n",
    "\n",
    "start_date = '2020-06-25'\n",
    "end_date = '2020-07-31'\n",
    "mask = (df['date'] >= start_date) & (df['date'] <= end_date) &  (df['location'].isin(['Morocco']))\n",
    "X_1 = df.loc[mask].sort_index(axis = 0) \n",
    "X_2 = X_3 = X_4 =X_5=X_6=X_7=X_8= X_1\n",
    "\n",
    "X_2[['new_cases']] = DA_Jitter(X_2[['new_cases']], sigma=1000)\n",
    "X_2[['total_cases']] = X_2['total_cases'] + X_2['new_cases']\n",
    "X_2[['new_deaths']] = DA_Jitter(X_2[['new_deaths']], sigma=10)\n",
    "X_2[['total_deaths']] = X_2['total_deaths'] + X_2['new_deaths']\n",
    "\n",
    "X_3[['new_cases']] = DA_Jitter(X_3[['new_cases']], sigma=500)\n",
    "X_3[['total_cases']] = X_3['total_cases'] + X_3['new_cases']\n",
    "X_3[['new_deaths']] = DA_Jitter(X_3['new_deaths'], sigma=20)\n",
    "X_3[['total_deaths']] = X_3['total_deaths'] + X_3['new_deaths']\n",
    "\n",
    "X_4[['new_cases']] = DA_Jitter(X_4[['new_cases']], sigma=1000)\n",
    "X_4[['total_cases']] = X_4['total_cases'] + X_4['new_cases']\n",
    "X_4[['new_deaths']] = DA_Jitter(X_4[['new_deaths']], sigma=30)\n",
    "X_4[['total_deaths']] = X_4['total_deaths'] + X_4['new_deaths']\n",
    "\n",
    "X_5[['new_cases']] = DA_Jitter(X_5[['new_cases']], sigma=1000)\n",
    "X_5[['total_cases']] = X_5['total_cases'] + X_5['new_cases']\n",
    "X_5[['new_deaths']] = DA_Jitter(X_5[['new_deaths']], sigma=40)\n",
    "X_5[['total_deaths']] = X_5['total_deaths'] + X_5['new_deaths']\n",
    "\n",
    "X_6[['new_cases']] = DA_Jitter(X_6[['new_cases']], sigma=1000)\n",
    "X_6[['total_cases']] = X_6['total_cases'] + X_6['new_cases']\n",
    "X_6[['new_deaths']] = DA_Jitter(X_6[['new_deaths']], sigma=50)\n",
    "X_6[['total_deaths']] = X_6['total_deaths'] + X_6['new_deaths']\n",
    "\n",
    "\n",
    "#X_7[['new_cases','total_cases','total_deaths', 'new_deaths', 'population']] = DA_Scaling(X_6[['new_cases','total_cases','total_deaths', 'new_deaths', 'population']], sigma=2000)\n",
    "#X_8[['new_cases','total_cases','total_deaths', 'new_deaths', 'population']] = DA_Scaling(X_7[['new_cases','total_cases','total_deaths', 'new_deaths', 'population']], sigma=3000)\n",
    "#X_4 = pd.DataFrame(X_4,columns=cols_need)\n",
    "#print(X_1.shape)\n",
    "X_train = pd.concat([X_train, X_2,X_3,X_4,X_5,X_6], ignore_index=True)\n",
    "'''"
   ]
  },
  {
   "cell_type": "code",
   "execution_count": 37,
   "metadata": {
    "colab": {
     "base_uri": "https://localhost:8080/",
     "height": 34
    },
    "colab_type": "code",
    "id": "8BNVbElqyyTQ",
    "outputId": "06582dd4-b21e-4b7c-8745-aa1db3e89d43"
   },
   "outputs": [
    {
     "data": {
      "text/plain": [
       "(84, 7)"
      ]
     },
     "execution_count": 37,
     "metadata": {
      "tags": []
     },
     "output_type": "execute_result"
    }
   ],
   "source": [
    "X_train.shape"
   ]
  },
  {
   "cell_type": "code",
   "execution_count": 38,
   "metadata": {
    "colab": {
     "base_uri": "https://localhost:8080/",
     "height": 359
    },
    "colab_type": "code",
    "id": "MJCEETGWvFsw",
    "outputId": "b1ef9e39-b8ae-4f1c-c5af-25eaf8684154"
   },
   "outputs": [
    {
     "data": {
      "text/html": [
       "<div>\n",
       "<style scoped>\n",
       "    .dataframe tbody tr th:only-of-type {\n",
       "        vertical-align: middle;\n",
       "    }\n",
       "\n",
       "    .dataframe tbody tr th {\n",
       "        vertical-align: top;\n",
       "    }\n",
       "\n",
       "    .dataframe thead th {\n",
       "        text-align: right;\n",
       "    }\n",
       "</style>\n",
       "<table border=\"1\" class=\"dataframe\">\n",
       "  <thead>\n",
       "    <tr style=\"text-align: right;\">\n",
       "      <th></th>\n",
       "      <th>new_cases</th>\n",
       "      <th>total_cases</th>\n",
       "      <th>total_deaths</th>\n",
       "      <th>new_deaths</th>\n",
       "      <th>population</th>\n",
       "      <th>date</th>\n",
       "      <th>location</th>\n",
       "    </tr>\n",
       "  </thead>\n",
       "  <tbody>\n",
       "    <tr>\n",
       "      <th>22661</th>\n",
       "      <td>6.0</td>\n",
       "      <td>589.0</td>\n",
       "      <td>10.0</td>\n",
       "      <td>0.0</td>\n",
       "      <td>36910558.0</td>\n",
       "      <td>2020-03-02</td>\n",
       "      <td>Morocco</td>\n",
       "    </tr>\n",
       "    <tr>\n",
       "      <th>22662</th>\n",
       "      <td>1.0</td>\n",
       "      <td>1.0</td>\n",
       "      <td>0.0</td>\n",
       "      <td>0.0</td>\n",
       "      <td>36910558.0</td>\n",
       "      <td>2020-03-03</td>\n",
       "      <td>Morocco</td>\n",
       "    </tr>\n",
       "    <tr>\n",
       "      <th>22663</th>\n",
       "      <td>6.0</td>\n",
       "      <td>589.0</td>\n",
       "      <td>10.0</td>\n",
       "      <td>0.0</td>\n",
       "      <td>36910558.0</td>\n",
       "      <td>2020-03-04</td>\n",
       "      <td>Morocco</td>\n",
       "    </tr>\n",
       "    <tr>\n",
       "      <th>22664</th>\n",
       "      <td>6.0</td>\n",
       "      <td>589.0</td>\n",
       "      <td>10.0</td>\n",
       "      <td>0.0</td>\n",
       "      <td>36910558.0</td>\n",
       "      <td>2020-03-05</td>\n",
       "      <td>Morocco</td>\n",
       "    </tr>\n",
       "    <tr>\n",
       "      <th>22665</th>\n",
       "      <td>1.0</td>\n",
       "      <td>2.0</td>\n",
       "      <td>0.0</td>\n",
       "      <td>0.0</td>\n",
       "      <td>36910558.0</td>\n",
       "      <td>2020-03-06</td>\n",
       "      <td>Morocco</td>\n",
       "    </tr>\n",
       "    <tr>\n",
       "      <th>22666</th>\n",
       "      <td>6.0</td>\n",
       "      <td>589.0</td>\n",
       "      <td>10.0</td>\n",
       "      <td>0.0</td>\n",
       "      <td>36910558.0</td>\n",
       "      <td>2020-03-07</td>\n",
       "      <td>Morocco</td>\n",
       "    </tr>\n",
       "    <tr>\n",
       "      <th>22667</th>\n",
       "      <td>6.0</td>\n",
       "      <td>589.0</td>\n",
       "      <td>10.0</td>\n",
       "      <td>0.0</td>\n",
       "      <td>36910558.0</td>\n",
       "      <td>2020-03-08</td>\n",
       "      <td>Morocco</td>\n",
       "    </tr>\n",
       "    <tr>\n",
       "      <th>22668</th>\n",
       "      <td>6.0</td>\n",
       "      <td>589.0</td>\n",
       "      <td>10.0</td>\n",
       "      <td>0.0</td>\n",
       "      <td>36910558.0</td>\n",
       "      <td>2020-03-09</td>\n",
       "      <td>Morocco</td>\n",
       "    </tr>\n",
       "    <tr>\n",
       "      <th>22669</th>\n",
       "      <td>6.0</td>\n",
       "      <td>589.0</td>\n",
       "      <td>10.0</td>\n",
       "      <td>0.0</td>\n",
       "      <td>36910558.0</td>\n",
       "      <td>2020-03-10</td>\n",
       "      <td>Morocco</td>\n",
       "    </tr>\n",
       "    <tr>\n",
       "      <th>22670</th>\n",
       "      <td>6.0</td>\n",
       "      <td>589.0</td>\n",
       "      <td>10.0</td>\n",
       "      <td>0.0</td>\n",
       "      <td>36910558.0</td>\n",
       "      <td>2020-03-11</td>\n",
       "      <td>Morocco</td>\n",
       "    </tr>\n",
       "  </tbody>\n",
       "</table>\n",
       "</div>"
      ],
      "text/plain": [
       "       new_cases  total_cases  total_deaths  ...  population       date location\n",
       "22661        6.0        589.0          10.0  ...  36910558.0 2020-03-02  Morocco\n",
       "22662        1.0          1.0           0.0  ...  36910558.0 2020-03-03  Morocco\n",
       "22663        6.0        589.0          10.0  ...  36910558.0 2020-03-04  Morocco\n",
       "22664        6.0        589.0          10.0  ...  36910558.0 2020-03-05  Morocco\n",
       "22665        1.0          2.0           0.0  ...  36910558.0 2020-03-06  Morocco\n",
       "22666        6.0        589.0          10.0  ...  36910558.0 2020-03-07  Morocco\n",
       "22667        6.0        589.0          10.0  ...  36910558.0 2020-03-08  Morocco\n",
       "22668        6.0        589.0          10.0  ...  36910558.0 2020-03-09  Morocco\n",
       "22669        6.0        589.0          10.0  ...  36910558.0 2020-03-10  Morocco\n",
       "22670        6.0        589.0          10.0  ...  36910558.0 2020-03-11  Morocco\n",
       "\n",
       "[10 rows x 7 columns]"
      ]
     },
     "execution_count": 38,
     "metadata": {
      "tags": []
     },
     "output_type": "execute_result"
    }
   ],
   "source": [
    "X_train.head(10)"
   ]
  },
  {
   "cell_type": "code",
   "execution_count": 39,
   "metadata": {
    "colab": {
     "base_uri": "https://localhost:8080/",
     "height": 359
    },
    "colab_type": "code",
    "id": "KWOBTgcGvLwG",
    "outputId": "be87a759-e356-4388-ed1d-1a352cb9faa3"
   },
   "outputs": [
    {
     "data": {
      "text/html": [
       "<div>\n",
       "<style scoped>\n",
       "    .dataframe tbody tr th:only-of-type {\n",
       "        vertical-align: middle;\n",
       "    }\n",
       "\n",
       "    .dataframe tbody tr th {\n",
       "        vertical-align: top;\n",
       "    }\n",
       "\n",
       "    .dataframe thead th {\n",
       "        text-align: right;\n",
       "    }\n",
       "</style>\n",
       "<table border=\"1\" class=\"dataframe\">\n",
       "  <thead>\n",
       "    <tr style=\"text-align: right;\">\n",
       "      <th></th>\n",
       "      <th>new_cases</th>\n",
       "      <th>total_cases</th>\n",
       "      <th>total_deaths</th>\n",
       "      <th>new_deaths</th>\n",
       "      <th>population</th>\n",
       "      <th>date</th>\n",
       "      <th>location</th>\n",
       "    </tr>\n",
       "  </thead>\n",
       "  <tbody>\n",
       "    <tr>\n",
       "      <th>22735</th>\n",
       "      <td>95.0</td>\n",
       "      <td>6607.0</td>\n",
       "      <td>190.0</td>\n",
       "      <td>2.0</td>\n",
       "      <td>36910558.0</td>\n",
       "      <td>2020-05-15</td>\n",
       "      <td>Morocco</td>\n",
       "    </tr>\n",
       "    <tr>\n",
       "      <th>22736</th>\n",
       "      <td>45.0</td>\n",
       "      <td>6652.0</td>\n",
       "      <td>190.0</td>\n",
       "      <td>0.0</td>\n",
       "      <td>36910558.0</td>\n",
       "      <td>2020-05-16</td>\n",
       "      <td>Morocco</td>\n",
       "    </tr>\n",
       "    <tr>\n",
       "      <th>22737</th>\n",
       "      <td>89.0</td>\n",
       "      <td>6741.0</td>\n",
       "      <td>192.0</td>\n",
       "      <td>2.0</td>\n",
       "      <td>36910558.0</td>\n",
       "      <td>2020-05-17</td>\n",
       "      <td>Morocco</td>\n",
       "    </tr>\n",
       "    <tr>\n",
       "      <th>22738</th>\n",
       "      <td>129.0</td>\n",
       "      <td>6870.0</td>\n",
       "      <td>192.0</td>\n",
       "      <td>0.0</td>\n",
       "      <td>36910558.0</td>\n",
       "      <td>2020-05-18</td>\n",
       "      <td>Morocco</td>\n",
       "    </tr>\n",
       "    <tr>\n",
       "      <th>22739</th>\n",
       "      <td>82.0</td>\n",
       "      <td>6952.0</td>\n",
       "      <td>192.0</td>\n",
       "      <td>0.0</td>\n",
       "      <td>36910558.0</td>\n",
       "      <td>2020-05-19</td>\n",
       "      <td>Morocco</td>\n",
       "    </tr>\n",
       "    <tr>\n",
       "      <th>22740</th>\n",
       "      <td>71.0</td>\n",
       "      <td>7023.0</td>\n",
       "      <td>193.0</td>\n",
       "      <td>1.0</td>\n",
       "      <td>36910558.0</td>\n",
       "      <td>2020-05-20</td>\n",
       "      <td>Morocco</td>\n",
       "    </tr>\n",
       "    <tr>\n",
       "      <th>22741</th>\n",
       "      <td>110.0</td>\n",
       "      <td>7133.0</td>\n",
       "      <td>194.0</td>\n",
       "      <td>1.0</td>\n",
       "      <td>36910558.0</td>\n",
       "      <td>2020-05-21</td>\n",
       "      <td>Morocco</td>\n",
       "    </tr>\n",
       "    <tr>\n",
       "      <th>22742</th>\n",
       "      <td>78.0</td>\n",
       "      <td>7211.0</td>\n",
       "      <td>196.0</td>\n",
       "      <td>2.0</td>\n",
       "      <td>36910558.0</td>\n",
       "      <td>2020-05-22</td>\n",
       "      <td>Morocco</td>\n",
       "    </tr>\n",
       "    <tr>\n",
       "      <th>22743</th>\n",
       "      <td>121.0</td>\n",
       "      <td>7332.0</td>\n",
       "      <td>197.0</td>\n",
       "      <td>1.0</td>\n",
       "      <td>36910558.0</td>\n",
       "      <td>2020-05-23</td>\n",
       "      <td>Morocco</td>\n",
       "    </tr>\n",
       "    <tr>\n",
       "      <th>22744</th>\n",
       "      <td>74.0</td>\n",
       "      <td>7406.0</td>\n",
       "      <td>198.0</td>\n",
       "      <td>1.0</td>\n",
       "      <td>36910558.0</td>\n",
       "      <td>2020-05-24</td>\n",
       "      <td>Morocco</td>\n",
       "    </tr>\n",
       "  </tbody>\n",
       "</table>\n",
       "</div>"
      ],
      "text/plain": [
       "       new_cases  total_cases  total_deaths  ...  population       date location\n",
       "22735       95.0       6607.0         190.0  ...  36910558.0 2020-05-15  Morocco\n",
       "22736       45.0       6652.0         190.0  ...  36910558.0 2020-05-16  Morocco\n",
       "22737       89.0       6741.0         192.0  ...  36910558.0 2020-05-17  Morocco\n",
       "22738      129.0       6870.0         192.0  ...  36910558.0 2020-05-18  Morocco\n",
       "22739       82.0       6952.0         192.0  ...  36910558.0 2020-05-19  Morocco\n",
       "22740       71.0       7023.0         193.0  ...  36910558.0 2020-05-20  Morocco\n",
       "22741      110.0       7133.0         194.0  ...  36910558.0 2020-05-21  Morocco\n",
       "22742       78.0       7211.0         196.0  ...  36910558.0 2020-05-22  Morocco\n",
       "22743      121.0       7332.0         197.0  ...  36910558.0 2020-05-23  Morocco\n",
       "22744       74.0       7406.0         198.0  ...  36910558.0 2020-05-24  Morocco\n",
       "\n",
       "[10 rows x 7 columns]"
      ]
     },
     "execution_count": 39,
     "metadata": {
      "tags": []
     },
     "output_type": "execute_result"
    }
   ],
   "source": [
    "X_train.tail(10)"
   ]
  },
  {
   "cell_type": "code",
   "execution_count": 40,
   "metadata": {
    "colab": {
     "base_uri": "https://localhost:8080/",
     "height": 34
    },
    "colab_type": "code",
    "id": "-2jZ7FV29QsE",
    "outputId": "cf298e4f-e171-4def-df9b-cb1b220a8e8b"
   },
   "outputs": [
    {
     "data": {
      "text/plain": [
       "(21, 7)"
      ]
     },
     "execution_count": 40,
     "metadata": {
      "tags": []
     },
     "output_type": "execute_result"
    }
   ],
   "source": [
    "X_test = df.loc[mask2].sort_index(axis = 0) \n",
    "\n",
    "X_test.shape"
   ]
  },
  {
   "cell_type": "code",
   "execution_count": 41,
   "metadata": {
    "colab": {},
    "colab_type": "code",
    "id": "TT0yYI-dppyl"
   },
   "outputs": [],
   "source": [
    "X_test = pd.concat([pd.DataFrame(data_add_test),X_test], ignore_index=True)\n",
    "X_test = X_test.sort_index(axis = 0)"
   ]
  },
  {
   "cell_type": "code",
   "execution_count": 42,
   "metadata": {
    "colab": {
     "base_uri": "https://localhost:8080/",
     "height": 917
    },
    "colab_type": "code",
    "id": "fBFYIySlvQHt",
    "outputId": "42538ca9-7914-4d52-e957-b21f06af7434"
   },
   "outputs": [
    {
     "data": {
      "text/html": [
       "<div>\n",
       "<style scoped>\n",
       "    .dataframe tbody tr th:only-of-type {\n",
       "        vertical-align: middle;\n",
       "    }\n",
       "\n",
       "    .dataframe tbody tr th {\n",
       "        vertical-align: top;\n",
       "    }\n",
       "\n",
       "    .dataframe thead th {\n",
       "        text-align: right;\n",
       "    }\n",
       "</style>\n",
       "<table border=\"1\" class=\"dataframe\">\n",
       "  <thead>\n",
       "    <tr style=\"text-align: right;\">\n",
       "      <th></th>\n",
       "      <th>new_cases</th>\n",
       "      <th>total_cases</th>\n",
       "      <th>total_deaths</th>\n",
       "      <th>new_deaths</th>\n",
       "      <th>population</th>\n",
       "      <th>date</th>\n",
       "      <th>location</th>\n",
       "    </tr>\n",
       "  </thead>\n",
       "  <tbody>\n",
       "    <tr>\n",
       "      <th>0</th>\n",
       "      <td>129.0</td>\n",
       "      <td>6870.0</td>\n",
       "      <td>192.0</td>\n",
       "      <td>0.0</td>\n",
       "      <td>36910558.0</td>\n",
       "      <td>2020-05-18</td>\n",
       "      <td>Morocco</td>\n",
       "    </tr>\n",
       "    <tr>\n",
       "      <th>1</th>\n",
       "      <td>82.0</td>\n",
       "      <td>6952.0</td>\n",
       "      <td>192.0</td>\n",
       "      <td>0.0</td>\n",
       "      <td>36910558.0</td>\n",
       "      <td>2020-05-19</td>\n",
       "      <td>Morocco</td>\n",
       "    </tr>\n",
       "    <tr>\n",
       "      <th>2</th>\n",
       "      <td>71.0</td>\n",
       "      <td>7023.0</td>\n",
       "      <td>193.0</td>\n",
       "      <td>1.0</td>\n",
       "      <td>36910558.0</td>\n",
       "      <td>2020-05-20</td>\n",
       "      <td>Morocco</td>\n",
       "    </tr>\n",
       "    <tr>\n",
       "      <th>3</th>\n",
       "      <td>110.0</td>\n",
       "      <td>7133.0</td>\n",
       "      <td>194.0</td>\n",
       "      <td>1.0</td>\n",
       "      <td>36910558.0</td>\n",
       "      <td>2020-05-21</td>\n",
       "      <td>Morocco</td>\n",
       "    </tr>\n",
       "    <tr>\n",
       "      <th>4</th>\n",
       "      <td>78.0</td>\n",
       "      <td>7211.0</td>\n",
       "      <td>196.0</td>\n",
       "      <td>2.0</td>\n",
       "      <td>36910558.0</td>\n",
       "      <td>2020-05-22</td>\n",
       "      <td>Morocco</td>\n",
       "    </tr>\n",
       "    <tr>\n",
       "      <th>5</th>\n",
       "      <td>121.0</td>\n",
       "      <td>7332.0</td>\n",
       "      <td>197.0</td>\n",
       "      <td>1.0</td>\n",
       "      <td>36910558.0</td>\n",
       "      <td>2020-05-23</td>\n",
       "      <td>Morocco</td>\n",
       "    </tr>\n",
       "    <tr>\n",
       "      <th>6</th>\n",
       "      <td>74.0</td>\n",
       "      <td>7406.0</td>\n",
       "      <td>198.0</td>\n",
       "      <td>1.0</td>\n",
       "      <td>36910558.0</td>\n",
       "      <td>2020-05-24</td>\n",
       "      <td>Morocco</td>\n",
       "    </tr>\n",
       "    <tr>\n",
       "      <th>7</th>\n",
       "      <td>27.0</td>\n",
       "      <td>7433.0</td>\n",
       "      <td>199.0</td>\n",
       "      <td>1.0</td>\n",
       "      <td>36910558.0</td>\n",
       "      <td>2020-05-25</td>\n",
       "      <td>Morocco</td>\n",
       "    </tr>\n",
       "    <tr>\n",
       "      <th>8</th>\n",
       "      <td>99.0</td>\n",
       "      <td>7532.0</td>\n",
       "      <td>200.0</td>\n",
       "      <td>1.0</td>\n",
       "      <td>36910558.0</td>\n",
       "      <td>2020-05-26</td>\n",
       "      <td>Morocco</td>\n",
       "    </tr>\n",
       "    <tr>\n",
       "      <th>9</th>\n",
       "      <td>45.0</td>\n",
       "      <td>7577.0</td>\n",
       "      <td>202.0</td>\n",
       "      <td>2.0</td>\n",
       "      <td>36910558.0</td>\n",
       "      <td>2020-05-27</td>\n",
       "      <td>Morocco</td>\n",
       "    </tr>\n",
       "    <tr>\n",
       "      <th>10</th>\n",
       "      <td>24.0</td>\n",
       "      <td>7601.0</td>\n",
       "      <td>202.0</td>\n",
       "      <td>0.0</td>\n",
       "      <td>36910558.0</td>\n",
       "      <td>2020-05-28</td>\n",
       "      <td>Morocco</td>\n",
       "    </tr>\n",
       "    <tr>\n",
       "      <th>11</th>\n",
       "      <td>42.0</td>\n",
       "      <td>7643.0</td>\n",
       "      <td>202.0</td>\n",
       "      <td>0.0</td>\n",
       "      <td>36910558.0</td>\n",
       "      <td>2020-05-29</td>\n",
       "      <td>Morocco</td>\n",
       "    </tr>\n",
       "    <tr>\n",
       "      <th>12</th>\n",
       "      <td>71.0</td>\n",
       "      <td>7714.0</td>\n",
       "      <td>202.0</td>\n",
       "      <td>0.0</td>\n",
       "      <td>36910558.0</td>\n",
       "      <td>2020-05-30</td>\n",
       "      <td>Morocco</td>\n",
       "    </tr>\n",
       "    <tr>\n",
       "      <th>13</th>\n",
       "      <td>66.0</td>\n",
       "      <td>7780.0</td>\n",
       "      <td>204.0</td>\n",
       "      <td>2.0</td>\n",
       "      <td>36910558.0</td>\n",
       "      <td>2020-05-31</td>\n",
       "      <td>Morocco</td>\n",
       "    </tr>\n",
       "    <tr>\n",
       "      <th>14</th>\n",
       "      <td>27.0</td>\n",
       "      <td>7807.0</td>\n",
       "      <td>205.0</td>\n",
       "      <td>1.0</td>\n",
       "      <td>36910558.0</td>\n",
       "      <td>2020-06-01</td>\n",
       "      <td>Morocco</td>\n",
       "    </tr>\n",
       "    <tr>\n",
       "      <th>15</th>\n",
       "      <td>26.0</td>\n",
       "      <td>7833.0</td>\n",
       "      <td>205.0</td>\n",
       "      <td>0.0</td>\n",
       "      <td>36910558.0</td>\n",
       "      <td>2020-06-02</td>\n",
       "      <td>Morocco</td>\n",
       "    </tr>\n",
       "    <tr>\n",
       "      <th>16</th>\n",
       "      <td>33.0</td>\n",
       "      <td>7866.0</td>\n",
       "      <td>206.0</td>\n",
       "      <td>1.0</td>\n",
       "      <td>36910558.0</td>\n",
       "      <td>2020-06-03</td>\n",
       "      <td>Morocco</td>\n",
       "    </tr>\n",
       "    <tr>\n",
       "      <th>17</th>\n",
       "      <td>56.0</td>\n",
       "      <td>7922.0</td>\n",
       "      <td>206.0</td>\n",
       "      <td>0.0</td>\n",
       "      <td>36910558.0</td>\n",
       "      <td>2020-06-04</td>\n",
       "      <td>Morocco</td>\n",
       "    </tr>\n",
       "    <tr>\n",
       "      <th>18</th>\n",
       "      <td>81.0</td>\n",
       "      <td>8003.0</td>\n",
       "      <td>208.0</td>\n",
       "      <td>2.0</td>\n",
       "      <td>36910558.0</td>\n",
       "      <td>2020-06-05</td>\n",
       "      <td>Morocco</td>\n",
       "    </tr>\n",
       "    <tr>\n",
       "      <th>19</th>\n",
       "      <td>68.0</td>\n",
       "      <td>8071.0</td>\n",
       "      <td>208.0</td>\n",
       "      <td>0.0</td>\n",
       "      <td>36910558.0</td>\n",
       "      <td>2020-06-06</td>\n",
       "      <td>Morocco</td>\n",
       "    </tr>\n",
       "    <tr>\n",
       "      <th>20</th>\n",
       "      <td>61.0</td>\n",
       "      <td>8132.0</td>\n",
       "      <td>208.0</td>\n",
       "      <td>0.0</td>\n",
       "      <td>36910558.0</td>\n",
       "      <td>2020-06-07</td>\n",
       "      <td>Morocco</td>\n",
       "    </tr>\n",
       "    <tr>\n",
       "      <th>21</th>\n",
       "      <td>92.0</td>\n",
       "      <td>8224.0</td>\n",
       "      <td>208.0</td>\n",
       "      <td>0.0</td>\n",
       "      <td>36910558.0</td>\n",
       "      <td>2020-06-08</td>\n",
       "      <td>Morocco</td>\n",
       "    </tr>\n",
       "    <tr>\n",
       "      <th>22</th>\n",
       "      <td>78.0</td>\n",
       "      <td>8302.0</td>\n",
       "      <td>208.0</td>\n",
       "      <td>0.0</td>\n",
       "      <td>36910558.0</td>\n",
       "      <td>2020-06-09</td>\n",
       "      <td>Morocco</td>\n",
       "    </tr>\n",
       "    <tr>\n",
       "      <th>23</th>\n",
       "      <td>135.0</td>\n",
       "      <td>8437.0</td>\n",
       "      <td>210.0</td>\n",
       "      <td>2.0</td>\n",
       "      <td>36910558.0</td>\n",
       "      <td>2020-06-10</td>\n",
       "      <td>Morocco</td>\n",
       "    </tr>\n",
       "    <tr>\n",
       "      <th>24</th>\n",
       "      <td>18.0</td>\n",
       "      <td>8455.0</td>\n",
       "      <td>210.0</td>\n",
       "      <td>0.0</td>\n",
       "      <td>36910558.0</td>\n",
       "      <td>2020-06-11</td>\n",
       "      <td>Morocco</td>\n",
       "    </tr>\n",
       "    <tr>\n",
       "      <th>25</th>\n",
       "      <td>82.0</td>\n",
       "      <td>8537.0</td>\n",
       "      <td>211.0</td>\n",
       "      <td>1.0</td>\n",
       "      <td>36910558.0</td>\n",
       "      <td>2020-06-12</td>\n",
       "      <td>Morocco</td>\n",
       "    </tr>\n",
       "    <tr>\n",
       "      <th>26</th>\n",
       "      <td>73.0</td>\n",
       "      <td>8610.0</td>\n",
       "      <td>212.0</td>\n",
       "      <td>1.0</td>\n",
       "      <td>36910558.0</td>\n",
       "      <td>2020-06-13</td>\n",
       "      <td>Morocco</td>\n",
       "    </tr>\n",
       "    <tr>\n",
       "      <th>27</th>\n",
       "      <td>82.0</td>\n",
       "      <td>8692.0</td>\n",
       "      <td>212.0</td>\n",
       "      <td>0.0</td>\n",
       "      <td>36910558.0</td>\n",
       "      <td>2020-06-14</td>\n",
       "      <td>Morocco</td>\n",
       "    </tr>\n",
       "  </tbody>\n",
       "</table>\n",
       "</div>"
      ],
      "text/plain": [
       "    new_cases  total_cases  total_deaths  ...  population       date location\n",
       "0       129.0       6870.0         192.0  ...  36910558.0 2020-05-18  Morocco\n",
       "1        82.0       6952.0         192.0  ...  36910558.0 2020-05-19  Morocco\n",
       "2        71.0       7023.0         193.0  ...  36910558.0 2020-05-20  Morocco\n",
       "3       110.0       7133.0         194.0  ...  36910558.0 2020-05-21  Morocco\n",
       "4        78.0       7211.0         196.0  ...  36910558.0 2020-05-22  Morocco\n",
       "5       121.0       7332.0         197.0  ...  36910558.0 2020-05-23  Morocco\n",
       "6        74.0       7406.0         198.0  ...  36910558.0 2020-05-24  Morocco\n",
       "7        27.0       7433.0         199.0  ...  36910558.0 2020-05-25  Morocco\n",
       "8        99.0       7532.0         200.0  ...  36910558.0 2020-05-26  Morocco\n",
       "9        45.0       7577.0         202.0  ...  36910558.0 2020-05-27  Morocco\n",
       "10       24.0       7601.0         202.0  ...  36910558.0 2020-05-28  Morocco\n",
       "11       42.0       7643.0         202.0  ...  36910558.0 2020-05-29  Morocco\n",
       "12       71.0       7714.0         202.0  ...  36910558.0 2020-05-30  Morocco\n",
       "13       66.0       7780.0         204.0  ...  36910558.0 2020-05-31  Morocco\n",
       "14       27.0       7807.0         205.0  ...  36910558.0 2020-06-01  Morocco\n",
       "15       26.0       7833.0         205.0  ...  36910558.0 2020-06-02  Morocco\n",
       "16       33.0       7866.0         206.0  ...  36910558.0 2020-06-03  Morocco\n",
       "17       56.0       7922.0         206.0  ...  36910558.0 2020-06-04  Morocco\n",
       "18       81.0       8003.0         208.0  ...  36910558.0 2020-06-05  Morocco\n",
       "19       68.0       8071.0         208.0  ...  36910558.0 2020-06-06  Morocco\n",
       "20       61.0       8132.0         208.0  ...  36910558.0 2020-06-07  Morocco\n",
       "21       92.0       8224.0         208.0  ...  36910558.0 2020-06-08  Morocco\n",
       "22       78.0       8302.0         208.0  ...  36910558.0 2020-06-09  Morocco\n",
       "23      135.0       8437.0         210.0  ...  36910558.0 2020-06-10  Morocco\n",
       "24       18.0       8455.0         210.0  ...  36910558.0 2020-06-11  Morocco\n",
       "25       82.0       8537.0         211.0  ...  36910558.0 2020-06-12  Morocco\n",
       "26       73.0       8610.0         212.0  ...  36910558.0 2020-06-13  Morocco\n",
       "27       82.0       8692.0         212.0  ...  36910558.0 2020-06-14  Morocco\n",
       "\n",
       "[28 rows x 7 columns]"
      ]
     },
     "execution_count": 42,
     "metadata": {
      "tags": []
     },
     "output_type": "execute_result"
    }
   ],
   "source": [
    "X_test"
   ]
  },
  {
   "cell_type": "code",
   "execution_count": 43,
   "metadata": {
    "colab": {},
    "colab_type": "code",
    "id": "3rrEQ5Gl9QsT"
   },
   "outputs": [],
   "source": [
    "X_test['timestamp'] = pd.to_datetime(X_test['date'], infer_datetime_format=True)\n",
    "X_test.set_index('timestamp', inplace=True)\n",
    "\n",
    "X_train['timestamp'] = pd.to_datetime(X_train['date'], infer_datetime_format=True)\n",
    "X_train.set_index('timestamp', inplace=True)"
   ]
  },
  {
   "cell_type": "code",
   "execution_count": 44,
   "metadata": {
    "colab": {},
    "colab_type": "code",
    "id": "RDMJvlLt9Qsi"
   },
   "outputs": [],
   "source": [
    "X_train=X_train[['new_cases','total_cases','total_deaths', 'new_deaths', 'population']]\n",
    "\n",
    "X_test=X_test[['new_cases','total_cases','total_deaths', 'new_deaths', 'population']]\n",
    "Y_test=X_test[['new_cases']]\n",
    "\n",
    "Y_train=X_train[['new_cases']]"
   ]
  },
  {
   "cell_type": "code",
   "execution_count": 45,
   "metadata": {
    "colab": {},
    "colab_type": "code",
    "id": "0omRI18IzoLI"
   },
   "outputs": [],
   "source": [
    "days=X_test[nb_seq:].index\n",
    "days=days.sort_values()"
   ]
  },
  {
   "cell_type": "code",
   "execution_count": 46,
   "metadata": {
    "colab": {},
    "colab_type": "code",
    "id": "zxU8sOHz9Qs2"
   },
   "outputs": [],
   "source": [
    "#days=days[nb_seq:]"
   ]
  },
  {
   "cell_type": "code",
   "execution_count": 47,
   "metadata": {
    "colab": {
     "base_uri": "https://localhost:8080/",
     "height": 85
    },
    "colab_type": "code",
    "id": "jZPsUAAk9QtA",
    "outputId": "8e24a925-0406-4fba-e3da-ae5740e51d36"
   },
   "outputs": [
    {
     "name": "stdout",
     "output_type": "stream",
     "text": [
      "(84, 5)\n",
      "(84, 1)\n",
      "(28, 5)\n",
      "(28, 1)\n"
     ]
    }
   ],
   "source": [
    "print(X_train.shape)\n",
    "print(Y_train.shape)\n",
    "print(X_test.shape)\n",
    "print(Y_test.shape)"
   ]
  },
  {
   "cell_type": "code",
   "execution_count": 48,
   "metadata": {
    "colab": {},
    "colab_type": "code",
    "id": "9aEHENxE9QtJ"
   },
   "outputs": [],
   "source": [
    "from sklearn.preprocessing import MinMaxScaler\n",
    "\n",
    "scaler = MinMaxScaler(feature_range=(0, 1))\n",
    "scaler2= MinMaxScaler(feature_range=(0, 1))"
   ]
  },
  {
   "cell_type": "code",
   "execution_count": 49,
   "metadata": {
    "colab": {},
    "colab_type": "code",
    "id": "rd2PWxHzdHk-"
   },
   "outputs": [],
   "source": [
    "# convert series to supervised learning\n",
    "def series_to_supervised(data, n_in=1, n_out=1, dropnan=True):\n",
    "    n_vars = 1 if type(data) is list else data.shape[1]\n",
    "    df = pd.DataFrame(data)\n",
    "    cols, names = list(), list()\n",
    "    # input sequence (t-n, ... t-1)\n",
    "    for i in range(n_in, 0, -1):\n",
    "        cols.append(df.shift(i))\n",
    "        names += [('var%d(t-%d)' % (j+1, i)) for j in range(n_vars)]\n",
    "    # forecast sequence (t, t+1, ... t+n)\n",
    "    for i in range(0, n_out):\n",
    "        cols.append(df.shift(-i))\n",
    "        if i == 0:\n",
    "            names += [('var%d(t)' % (j+1)) for j in range(n_vars)]\n",
    "        else:\n",
    "            names += [('var%d(t+%d)' % (j+1, i)) for j in range(n_vars)]\n",
    "    # put it all together\n",
    "    agg = pd.concat(cols, axis=1)\n",
    "    agg.columns = names\n",
    "    # drop rows with NaN values\n",
    "    if dropnan:\n",
    "        agg.dropna(inplace=True)\n",
    "    return agg"
   ]
  },
  {
   "cell_type": "code",
   "execution_count": 50,
   "metadata": {
    "colab": {
     "base_uri": "https://localhost:8080/",
     "height": 323
    },
    "colab_type": "code",
    "id": "W2TLWcHE9QtP",
    "outputId": "349fc89e-3102-44f3-9e90-3c70605a690a"
   },
   "outputs": [
    {
     "name": "stdout",
     "output_type": "stream",
     "text": [
      "    var1(t-7)  var2(t-7)  var3(t-7)  ...  var3(t+6)  var4(t+6)  var5(t+6)\n",
      "7    0.021352   0.079406   0.050505  ...   0.005051   0.000000        0.0\n",
      "8    0.003559   0.000000   0.000000  ...   0.005051   0.000000        0.0\n",
      "9    0.021352   0.079406   0.050505  ...   0.005051   0.000000        0.0\n",
      "10   0.021352   0.079406   0.050505  ...   0.010101   0.066667        0.0\n",
      "11   0.003559   0.000135   0.000000  ...   0.010101   0.000000        0.0\n",
      "..        ...        ...        ...  ...        ...        ...        ...\n",
      "73   0.672598   0.730182   0.924242  ...   0.974747   0.066667        0.0\n",
      "74   0.498221   0.749088   0.924242  ...   0.979798   0.066667        0.0\n",
      "75   0.580071   0.771101   0.939394  ...   0.989899   0.133333        0.0\n",
      "76   0.708185   0.797974   0.939394  ...   0.994950   0.066667        0.0\n",
      "77   0.544484   0.818636   0.949495  ...   1.000000   0.066667        0.0\n",
      "\n",
      "[71 rows x 70 columns]\n",
      "(71, 70)\n",
      "(15, 70)\n",
      "(71, 14)\n",
      "(15, 14)\n"
     ]
    }
   ],
   "source": [
    "\n",
    "X_train=X_train\n",
    "X_test=X_test\n",
    "Y_train=Y_train\n",
    "Y_test=Y_test\n",
    "\n",
    "# ensure all data is float\n",
    "X_train = X_train.astype('float32')\n",
    "# ensure all data is float\n",
    "X_test = X_test.astype('float32')\n",
    "# ensure all data is float\n",
    "Y_test = Y_test.astype('float32')\n",
    "# ensure all data is float\n",
    "Y_train = Y_train.astype('float32')\n",
    "\n",
    "# normalize features\n",
    "\n",
    "X_train= scaler.fit_transform(X_train)\n",
    "X_test= scaler.fit_transform(X_test)\n",
    "Y_train= scaler2.fit_transform(Y_train)\n",
    "Y_test= scaler2.fit_transform(Y_test)\n",
    "\n",
    "# reframe as supervised learning\n",
    "# on doit toujours vers une conversion vers n_out ensuite con choisit le nombre de colonnes dont nous avons besoins\n",
    "X_train = series_to_supervised(X_train, nb_seq, n_out)\n",
    "X_test = series_to_supervised(X_test, nb_seq, n_out)\n",
    "print(X_train)\n",
    "print(X_train.shape)\n",
    "print(X_test.shape)\n",
    "Y_train = series_to_supervised(Y_train, nb_seq, n_out)\n",
    "Y_test = series_to_supervised(Y_test, nb_seq, n_out)\n",
    "print(Y_train.shape)\n",
    "print(Y_test.shape)\n"
   ]
  },
  {
   "cell_type": "code",
   "execution_count": 51,
   "metadata": {
    "colab": {
     "base_uri": "https://localhost:8080/",
     "height": 323
    },
    "colab_type": "code",
    "id": "cYXt69kl_9da",
    "outputId": "a70e1356-4d78-46a7-a572-fbb473de3fdc"
   },
   "outputs": [
    {
     "name": "stdout",
     "output_type": "stream",
     "text": [
      "    var1(t-7)  var2(t-7)  var3(t-7)  ...  var3(t+6)  var4(t+6)  var5(t+6)\n",
      "7    0.948718   0.000000   0.000000  ...   0.599999        1.0        0.0\n",
      "8    0.547009   0.045006   0.000000  ...   0.650000        0.5        0.0\n",
      "9    0.452991   0.083974   0.050000  ...   0.650000        0.0        0.0\n",
      "10   0.786325   0.144347   0.099999  ...   0.700000        0.5        0.0\n",
      "11   0.512821   0.187157   0.200000  ...   0.700000        0.0        0.0\n",
      "12   0.880342   0.253568   0.250000  ...   0.800000        1.0        0.0\n",
      "13   0.478633   0.294182   0.300000  ...   0.800000        0.0        0.0\n",
      "14   0.076923   0.309001   0.349999  ...   0.800000        0.0        0.0\n",
      "15   0.692308   0.363337   0.400000  ...   0.800000        0.0        0.0\n",
      "16   0.230769   0.388035   0.500000  ...   0.800000        0.0        0.0\n",
      "17   0.051282   0.401207   0.500000  ...   0.900000        1.0        0.0\n",
      "18   0.205128   0.424259   0.500000  ...   0.900000        0.0        0.0\n",
      "19   0.452991   0.463227   0.500000  ...   0.950000        0.5        0.0\n",
      "20   0.410256   0.499451   0.599999  ...   1.000000        0.5        0.0\n",
      "21   0.076923   0.514270   0.650000  ...   1.000000        0.0        0.0\n",
      "\n",
      "[15 rows x 70 columns]\n"
     ]
    }
   ],
   "source": [
    "print(X_test)"
   ]
  },
  {
   "cell_type": "code",
   "execution_count": 52,
   "metadata": {
    "colab": {},
    "colab_type": "code",
    "id": "8Dcz-maG0iU6"
   },
   "outputs": [],
   "source": [
    "#col_y_need_train = df.filter(regex=(\"d.*\"))"
   ]
  },
  {
   "cell_type": "code",
   "execution_count": 53,
   "metadata": {
    "colab": {
     "base_uri": "https://localhost:8080/",
     "height": 456
    },
    "colab_type": "code",
    "id": "HbSgu1Up9QtY",
    "outputId": "df6dac52-4e48-4c6a-d813-b1682d6a48df"
   },
   "outputs": [
    {
     "data": {
      "text/html": [
       "<div>\n",
       "<style scoped>\n",
       "    .dataframe tbody tr th:only-of-type {\n",
       "        vertical-align: middle;\n",
       "    }\n",
       "\n",
       "    .dataframe tbody tr th {\n",
       "        vertical-align: top;\n",
       "    }\n",
       "\n",
       "    .dataframe thead th {\n",
       "        text-align: right;\n",
       "    }\n",
       "</style>\n",
       "<table border=\"1\" class=\"dataframe\">\n",
       "  <thead>\n",
       "    <tr style=\"text-align: right;\">\n",
       "      <th></th>\n",
       "      <th>var1(t-7)</th>\n",
       "      <th>var2(t-7)</th>\n",
       "      <th>var3(t-7)</th>\n",
       "      <th>var4(t-7)</th>\n",
       "      <th>var5(t-7)</th>\n",
       "      <th>var1(t-6)</th>\n",
       "      <th>var2(t-6)</th>\n",
       "      <th>var3(t-6)</th>\n",
       "      <th>var4(t-6)</th>\n",
       "      <th>var5(t-6)</th>\n",
       "      <th>var1(t-5)</th>\n",
       "      <th>var2(t-5)</th>\n",
       "      <th>var3(t-5)</th>\n",
       "      <th>var4(t-5)</th>\n",
       "      <th>var5(t-5)</th>\n",
       "      <th>var1(t-4)</th>\n",
       "      <th>var2(t-4)</th>\n",
       "      <th>var3(t-4)</th>\n",
       "      <th>var4(t-4)</th>\n",
       "      <th>var5(t-4)</th>\n",
       "      <th>var1(t-3)</th>\n",
       "      <th>var2(t-3)</th>\n",
       "      <th>var3(t-3)</th>\n",
       "      <th>var4(t-3)</th>\n",
       "      <th>var5(t-3)</th>\n",
       "      <th>var1(t-2)</th>\n",
       "      <th>var2(t-2)</th>\n",
       "      <th>var3(t-2)</th>\n",
       "      <th>var4(t-2)</th>\n",
       "      <th>var5(t-2)</th>\n",
       "      <th>var1(t-1)</th>\n",
       "      <th>var2(t-1)</th>\n",
       "      <th>var3(t-1)</th>\n",
       "      <th>var4(t-1)</th>\n",
       "      <th>var5(t-1)</th>\n",
       "      <th>var1(t)</th>\n",
       "      <th>var2(t)</th>\n",
       "      <th>var3(t)</th>\n",
       "      <th>var4(t)</th>\n",
       "      <th>var5(t)</th>\n",
       "      <th>var1(t+1)</th>\n",
       "      <th>var2(t+1)</th>\n",
       "      <th>var3(t+1)</th>\n",
       "      <th>var4(t+1)</th>\n",
       "      <th>var5(t+1)</th>\n",
       "      <th>var1(t+2)</th>\n",
       "      <th>var2(t+2)</th>\n",
       "      <th>var3(t+2)</th>\n",
       "      <th>var4(t+2)</th>\n",
       "      <th>var5(t+2)</th>\n",
       "      <th>var1(t+3)</th>\n",
       "      <th>var2(t+3)</th>\n",
       "      <th>var3(t+3)</th>\n",
       "      <th>var4(t+3)</th>\n",
       "      <th>var5(t+3)</th>\n",
       "      <th>var1(t+4)</th>\n",
       "      <th>var2(t+4)</th>\n",
       "      <th>var3(t+4)</th>\n",
       "      <th>var4(t+4)</th>\n",
       "      <th>var5(t+4)</th>\n",
       "      <th>var1(t+5)</th>\n",
       "      <th>var2(t+5)</th>\n",
       "      <th>var3(t+5)</th>\n",
       "      <th>var4(t+5)</th>\n",
       "      <th>var5(t+5)</th>\n",
       "      <th>var1(t+6)</th>\n",
       "      <th>var2(t+6)</th>\n",
       "      <th>var3(t+6)</th>\n",
       "      <th>var4(t+6)</th>\n",
       "      <th>var5(t+6)</th>\n",
       "    </tr>\n",
       "  </thead>\n",
       "  <tbody>\n",
       "    <tr>\n",
       "      <th>7</th>\n",
       "      <td>0.021352</td>\n",
       "      <td>0.079406</td>\n",
       "      <td>0.050505</td>\n",
       "      <td>0.000000</td>\n",
       "      <td>0.0</td>\n",
       "      <td>0.003559</td>\n",
       "      <td>0.000000</td>\n",
       "      <td>0.000000</td>\n",
       "      <td>0.000000</td>\n",
       "      <td>0.0</td>\n",
       "      <td>0.021352</td>\n",
       "      <td>0.079406</td>\n",
       "      <td>0.050505</td>\n",
       "      <td>0.000000</td>\n",
       "      <td>0.0</td>\n",
       "      <td>0.021352</td>\n",
       "      <td>0.079406</td>\n",
       "      <td>0.050505</td>\n",
       "      <td>0.000000</td>\n",
       "      <td>0.0</td>\n",
       "      <td>0.003559</td>\n",
       "      <td>0.000135</td>\n",
       "      <td>0.000000</td>\n",
       "      <td>0.000000</td>\n",
       "      <td>0.0</td>\n",
       "      <td>0.021352</td>\n",
       "      <td>0.079406</td>\n",
       "      <td>0.050505</td>\n",
       "      <td>0.000000</td>\n",
       "      <td>0.0</td>\n",
       "      <td>0.021352</td>\n",
       "      <td>0.079406</td>\n",
       "      <td>0.050505</td>\n",
       "      <td>0.000000</td>\n",
       "      <td>0.0</td>\n",
       "      <td>0.021352</td>\n",
       "      <td>0.079406</td>\n",
       "      <td>0.050505</td>\n",
       "      <td>0.000000</td>\n",
       "      <td>0.0</td>\n",
       "      <td>0.021352</td>\n",
       "      <td>0.079406</td>\n",
       "      <td>0.050505</td>\n",
       "      <td>0.000000</td>\n",
       "      <td>0.0</td>\n",
       "      <td>0.021352</td>\n",
       "      <td>0.079406</td>\n",
       "      <td>0.050505</td>\n",
       "      <td>0.000000</td>\n",
       "      <td>0.0</td>\n",
       "      <td>0.010676</td>\n",
       "      <td>0.000540</td>\n",
       "      <td>0.005051</td>\n",
       "      <td>0.066667</td>\n",
       "      <td>0.0</td>\n",
       "      <td>0.003559</td>\n",
       "      <td>0.000675</td>\n",
       "      <td>0.005051</td>\n",
       "      <td>0.000000</td>\n",
       "      <td>0.0</td>\n",
       "      <td>0.003559</td>\n",
       "      <td>0.000810</td>\n",
       "      <td>0.005051</td>\n",
       "      <td>0.000000</td>\n",
       "      <td>0.0</td>\n",
       "      <td>0.039146</td>\n",
       "      <td>0.002296</td>\n",
       "      <td>0.005051</td>\n",
       "      <td>0.000000</td>\n",
       "      <td>0.0</td>\n",
       "    </tr>\n",
       "    <tr>\n",
       "      <th>8</th>\n",
       "      <td>0.003559</td>\n",
       "      <td>0.000000</td>\n",
       "      <td>0.000000</td>\n",
       "      <td>0.000000</td>\n",
       "      <td>0.0</td>\n",
       "      <td>0.021352</td>\n",
       "      <td>0.079406</td>\n",
       "      <td>0.050505</td>\n",
       "      <td>0.000000</td>\n",
       "      <td>0.0</td>\n",
       "      <td>0.021352</td>\n",
       "      <td>0.079406</td>\n",
       "      <td>0.050505</td>\n",
       "      <td>0.000000</td>\n",
       "      <td>0.0</td>\n",
       "      <td>0.003559</td>\n",
       "      <td>0.000135</td>\n",
       "      <td>0.000000</td>\n",
       "      <td>0.000000</td>\n",
       "      <td>0.0</td>\n",
       "      <td>0.021352</td>\n",
       "      <td>0.079406</td>\n",
       "      <td>0.050505</td>\n",
       "      <td>0.000000</td>\n",
       "      <td>0.0</td>\n",
       "      <td>0.021352</td>\n",
       "      <td>0.079406</td>\n",
       "      <td>0.050505</td>\n",
       "      <td>0.000000</td>\n",
       "      <td>0.0</td>\n",
       "      <td>0.021352</td>\n",
       "      <td>0.079406</td>\n",
       "      <td>0.050505</td>\n",
       "      <td>0.000000</td>\n",
       "      <td>0.0</td>\n",
       "      <td>0.021352</td>\n",
       "      <td>0.079406</td>\n",
       "      <td>0.050505</td>\n",
       "      <td>0.000000</td>\n",
       "      <td>0.0</td>\n",
       "      <td>0.021352</td>\n",
       "      <td>0.079406</td>\n",
       "      <td>0.050505</td>\n",
       "      <td>0.000000</td>\n",
       "      <td>0.0</td>\n",
       "      <td>0.010676</td>\n",
       "      <td>0.000540</td>\n",
       "      <td>0.005051</td>\n",
       "      <td>0.066667</td>\n",
       "      <td>0.0</td>\n",
       "      <td>0.003559</td>\n",
       "      <td>0.000675</td>\n",
       "      <td>0.005051</td>\n",
       "      <td>0.000000</td>\n",
       "      <td>0.0</td>\n",
       "      <td>0.003559</td>\n",
       "      <td>0.000810</td>\n",
       "      <td>0.005051</td>\n",
       "      <td>0.000000</td>\n",
       "      <td>0.0</td>\n",
       "      <td>0.039146</td>\n",
       "      <td>0.002296</td>\n",
       "      <td>0.005051</td>\n",
       "      <td>0.000000</td>\n",
       "      <td>0.0</td>\n",
       "      <td>0.035587</td>\n",
       "      <td>0.003646</td>\n",
       "      <td>0.005051</td>\n",
       "      <td>0.000000</td>\n",
       "      <td>0.0</td>\n",
       "    </tr>\n",
       "    <tr>\n",
       "      <th>9</th>\n",
       "      <td>0.021352</td>\n",
       "      <td>0.079406</td>\n",
       "      <td>0.050505</td>\n",
       "      <td>0.000000</td>\n",
       "      <td>0.0</td>\n",
       "      <td>0.021352</td>\n",
       "      <td>0.079406</td>\n",
       "      <td>0.050505</td>\n",
       "      <td>0.000000</td>\n",
       "      <td>0.0</td>\n",
       "      <td>0.003559</td>\n",
       "      <td>0.000135</td>\n",
       "      <td>0.000000</td>\n",
       "      <td>0.000000</td>\n",
       "      <td>0.0</td>\n",
       "      <td>0.021352</td>\n",
       "      <td>0.079406</td>\n",
       "      <td>0.050505</td>\n",
       "      <td>0.000000</td>\n",
       "      <td>0.0</td>\n",
       "      <td>0.021352</td>\n",
       "      <td>0.079406</td>\n",
       "      <td>0.050505</td>\n",
       "      <td>0.000000</td>\n",
       "      <td>0.0</td>\n",
       "      <td>0.021352</td>\n",
       "      <td>0.079406</td>\n",
       "      <td>0.050505</td>\n",
       "      <td>0.000000</td>\n",
       "      <td>0.0</td>\n",
       "      <td>0.021352</td>\n",
       "      <td>0.079406</td>\n",
       "      <td>0.050505</td>\n",
       "      <td>0.000000</td>\n",
       "      <td>0.0</td>\n",
       "      <td>0.021352</td>\n",
       "      <td>0.079406</td>\n",
       "      <td>0.050505</td>\n",
       "      <td>0.000000</td>\n",
       "      <td>0.0</td>\n",
       "      <td>0.010676</td>\n",
       "      <td>0.000540</td>\n",
       "      <td>0.005051</td>\n",
       "      <td>0.066667</td>\n",
       "      <td>0.0</td>\n",
       "      <td>0.003559</td>\n",
       "      <td>0.000675</td>\n",
       "      <td>0.005051</td>\n",
       "      <td>0.000000</td>\n",
       "      <td>0.0</td>\n",
       "      <td>0.003559</td>\n",
       "      <td>0.000810</td>\n",
       "      <td>0.005051</td>\n",
       "      <td>0.000000</td>\n",
       "      <td>0.0</td>\n",
       "      <td>0.039146</td>\n",
       "      <td>0.002296</td>\n",
       "      <td>0.005051</td>\n",
       "      <td>0.000000</td>\n",
       "      <td>0.0</td>\n",
       "      <td>0.035587</td>\n",
       "      <td>0.003646</td>\n",
       "      <td>0.005051</td>\n",
       "      <td>0.000000</td>\n",
       "      <td>0.0</td>\n",
       "      <td>0.032028</td>\n",
       "      <td>0.004862</td>\n",
       "      <td>0.005051</td>\n",
       "      <td>0.000000</td>\n",
       "      <td>0.0</td>\n",
       "    </tr>\n",
       "    <tr>\n",
       "      <th>10</th>\n",
       "      <td>0.021352</td>\n",
       "      <td>0.079406</td>\n",
       "      <td>0.050505</td>\n",
       "      <td>0.000000</td>\n",
       "      <td>0.0</td>\n",
       "      <td>0.003559</td>\n",
       "      <td>0.000135</td>\n",
       "      <td>0.000000</td>\n",
       "      <td>0.000000</td>\n",
       "      <td>0.0</td>\n",
       "      <td>0.021352</td>\n",
       "      <td>0.079406</td>\n",
       "      <td>0.050505</td>\n",
       "      <td>0.000000</td>\n",
       "      <td>0.0</td>\n",
       "      <td>0.021352</td>\n",
       "      <td>0.079406</td>\n",
       "      <td>0.050505</td>\n",
       "      <td>0.000000</td>\n",
       "      <td>0.0</td>\n",
       "      <td>0.021352</td>\n",
       "      <td>0.079406</td>\n",
       "      <td>0.050505</td>\n",
       "      <td>0.000000</td>\n",
       "      <td>0.0</td>\n",
       "      <td>0.021352</td>\n",
       "      <td>0.079406</td>\n",
       "      <td>0.050505</td>\n",
       "      <td>0.000000</td>\n",
       "      <td>0.0</td>\n",
       "      <td>0.021352</td>\n",
       "      <td>0.079406</td>\n",
       "      <td>0.050505</td>\n",
       "      <td>0.000000</td>\n",
       "      <td>0.0</td>\n",
       "      <td>0.010676</td>\n",
       "      <td>0.000540</td>\n",
       "      <td>0.005051</td>\n",
       "      <td>0.066667</td>\n",
       "      <td>0.0</td>\n",
       "      <td>0.003559</td>\n",
       "      <td>0.000675</td>\n",
       "      <td>0.005051</td>\n",
       "      <td>0.000000</td>\n",
       "      <td>0.0</td>\n",
       "      <td>0.003559</td>\n",
       "      <td>0.000810</td>\n",
       "      <td>0.005051</td>\n",
       "      <td>0.000000</td>\n",
       "      <td>0.0</td>\n",
       "      <td>0.039146</td>\n",
       "      <td>0.002296</td>\n",
       "      <td>0.005051</td>\n",
       "      <td>0.000000</td>\n",
       "      <td>0.0</td>\n",
       "      <td>0.035587</td>\n",
       "      <td>0.003646</td>\n",
       "      <td>0.005051</td>\n",
       "      <td>0.000000</td>\n",
       "      <td>0.0</td>\n",
       "      <td>0.032028</td>\n",
       "      <td>0.004862</td>\n",
       "      <td>0.005051</td>\n",
       "      <td>0.000000</td>\n",
       "      <td>0.0</td>\n",
       "      <td>0.024911</td>\n",
       "      <td>0.005807</td>\n",
       "      <td>0.010101</td>\n",
       "      <td>0.066667</td>\n",
       "      <td>0.0</td>\n",
       "    </tr>\n",
       "    <tr>\n",
       "      <th>11</th>\n",
       "      <td>0.003559</td>\n",
       "      <td>0.000135</td>\n",
       "      <td>0.000000</td>\n",
       "      <td>0.000000</td>\n",
       "      <td>0.0</td>\n",
       "      <td>0.021352</td>\n",
       "      <td>0.079406</td>\n",
       "      <td>0.050505</td>\n",
       "      <td>0.000000</td>\n",
       "      <td>0.0</td>\n",
       "      <td>0.021352</td>\n",
       "      <td>0.079406</td>\n",
       "      <td>0.050505</td>\n",
       "      <td>0.000000</td>\n",
       "      <td>0.0</td>\n",
       "      <td>0.021352</td>\n",
       "      <td>0.079406</td>\n",
       "      <td>0.050505</td>\n",
       "      <td>0.000000</td>\n",
       "      <td>0.0</td>\n",
       "      <td>0.021352</td>\n",
       "      <td>0.079406</td>\n",
       "      <td>0.050505</td>\n",
       "      <td>0.000000</td>\n",
       "      <td>0.0</td>\n",
       "      <td>0.021352</td>\n",
       "      <td>0.079406</td>\n",
       "      <td>0.050505</td>\n",
       "      <td>0.000000</td>\n",
       "      <td>0.0</td>\n",
       "      <td>0.010676</td>\n",
       "      <td>0.000540</td>\n",
       "      <td>0.005051</td>\n",
       "      <td>0.066667</td>\n",
       "      <td>0.0</td>\n",
       "      <td>0.003559</td>\n",
       "      <td>0.000675</td>\n",
       "      <td>0.005051</td>\n",
       "      <td>0.000000</td>\n",
       "      <td>0.0</td>\n",
       "      <td>0.003559</td>\n",
       "      <td>0.000810</td>\n",
       "      <td>0.005051</td>\n",
       "      <td>0.000000</td>\n",
       "      <td>0.0</td>\n",
       "      <td>0.039146</td>\n",
       "      <td>0.002296</td>\n",
       "      <td>0.005051</td>\n",
       "      <td>0.000000</td>\n",
       "      <td>0.0</td>\n",
       "      <td>0.035587</td>\n",
       "      <td>0.003646</td>\n",
       "      <td>0.005051</td>\n",
       "      <td>0.000000</td>\n",
       "      <td>0.0</td>\n",
       "      <td>0.032028</td>\n",
       "      <td>0.004862</td>\n",
       "      <td>0.005051</td>\n",
       "      <td>0.000000</td>\n",
       "      <td>0.0</td>\n",
       "      <td>0.024911</td>\n",
       "      <td>0.005807</td>\n",
       "      <td>0.010101</td>\n",
       "      <td>0.066667</td>\n",
       "      <td>0.0</td>\n",
       "      <td>0.035587</td>\n",
       "      <td>0.007157</td>\n",
       "      <td>0.010101</td>\n",
       "      <td>0.000000</td>\n",
       "      <td>0.0</td>\n",
       "    </tr>\n",
       "    <tr>\n",
       "      <th>...</th>\n",
       "      <td>...</td>\n",
       "      <td>...</td>\n",
       "      <td>...</td>\n",
       "      <td>...</td>\n",
       "      <td>...</td>\n",
       "      <td>...</td>\n",
       "      <td>...</td>\n",
       "      <td>...</td>\n",
       "      <td>...</td>\n",
       "      <td>...</td>\n",
       "      <td>...</td>\n",
       "      <td>...</td>\n",
       "      <td>...</td>\n",
       "      <td>...</td>\n",
       "      <td>...</td>\n",
       "      <td>...</td>\n",
       "      <td>...</td>\n",
       "      <td>...</td>\n",
       "      <td>...</td>\n",
       "      <td>...</td>\n",
       "      <td>...</td>\n",
       "      <td>...</td>\n",
       "      <td>...</td>\n",
       "      <td>...</td>\n",
       "      <td>...</td>\n",
       "      <td>...</td>\n",
       "      <td>...</td>\n",
       "      <td>...</td>\n",
       "      <td>...</td>\n",
       "      <td>...</td>\n",
       "      <td>...</td>\n",
       "      <td>...</td>\n",
       "      <td>...</td>\n",
       "      <td>...</td>\n",
       "      <td>...</td>\n",
       "      <td>...</td>\n",
       "      <td>...</td>\n",
       "      <td>...</td>\n",
       "      <td>...</td>\n",
       "      <td>...</td>\n",
       "      <td>...</td>\n",
       "      <td>...</td>\n",
       "      <td>...</td>\n",
       "      <td>...</td>\n",
       "      <td>...</td>\n",
       "      <td>...</td>\n",
       "      <td>...</td>\n",
       "      <td>...</td>\n",
       "      <td>...</td>\n",
       "      <td>...</td>\n",
       "      <td>...</td>\n",
       "      <td>...</td>\n",
       "      <td>...</td>\n",
       "      <td>...</td>\n",
       "      <td>...</td>\n",
       "      <td>...</td>\n",
       "      <td>...</td>\n",
       "      <td>...</td>\n",
       "      <td>...</td>\n",
       "      <td>...</td>\n",
       "      <td>...</td>\n",
       "      <td>...</td>\n",
       "      <td>...</td>\n",
       "      <td>...</td>\n",
       "      <td>...</td>\n",
       "      <td>...</td>\n",
       "      <td>...</td>\n",
       "      <td>...</td>\n",
       "      <td>...</td>\n",
       "      <td>...</td>\n",
       "    </tr>\n",
       "    <tr>\n",
       "      <th>73</th>\n",
       "      <td>0.672598</td>\n",
       "      <td>0.730182</td>\n",
       "      <td>0.924242</td>\n",
       "      <td>0.133333</td>\n",
       "      <td>0.0</td>\n",
       "      <td>0.498221</td>\n",
       "      <td>0.749088</td>\n",
       "      <td>0.924242</td>\n",
       "      <td>0.000000</td>\n",
       "      <td>0.0</td>\n",
       "      <td>0.580071</td>\n",
       "      <td>0.771101</td>\n",
       "      <td>0.939394</td>\n",
       "      <td>0.200000</td>\n",
       "      <td>0.0</td>\n",
       "      <td>0.708185</td>\n",
       "      <td>0.797974</td>\n",
       "      <td>0.939394</td>\n",
       "      <td>0.000000</td>\n",
       "      <td>0.0</td>\n",
       "      <td>0.544484</td>\n",
       "      <td>0.818636</td>\n",
       "      <td>0.949495</td>\n",
       "      <td>0.133333</td>\n",
       "      <td>0.0</td>\n",
       "      <td>0.775801</td>\n",
       "      <td>0.848076</td>\n",
       "      <td>0.949495</td>\n",
       "      <td>0.000000</td>\n",
       "      <td>0.0</td>\n",
       "      <td>0.487544</td>\n",
       "      <td>0.866577</td>\n",
       "      <td>0.949495</td>\n",
       "      <td>0.000000</td>\n",
       "      <td>0.0</td>\n",
       "      <td>0.334520</td>\n",
       "      <td>0.879271</td>\n",
       "      <td>0.949495</td>\n",
       "      <td>0.000000</td>\n",
       "      <td>0.0</td>\n",
       "      <td>0.338078</td>\n",
       "      <td>0.892100</td>\n",
       "      <td>0.959596</td>\n",
       "      <td>0.133333</td>\n",
       "      <td>0.0</td>\n",
       "      <td>0.160142</td>\n",
       "      <td>0.898177</td>\n",
       "      <td>0.959596</td>\n",
       "      <td>0.000000</td>\n",
       "      <td>0.0</td>\n",
       "      <td>0.316726</td>\n",
       "      <td>0.910196</td>\n",
       "      <td>0.969697</td>\n",
       "      <td>0.133333</td>\n",
       "      <td>0.0</td>\n",
       "      <td>0.459075</td>\n",
       "      <td>0.927616</td>\n",
       "      <td>0.969697</td>\n",
       "      <td>0.000000</td>\n",
       "      <td>0.0</td>\n",
       "      <td>0.291815</td>\n",
       "      <td>0.938690</td>\n",
       "      <td>0.969697</td>\n",
       "      <td>0.000000</td>\n",
       "      <td>0.0</td>\n",
       "      <td>0.252669</td>\n",
       "      <td>0.948278</td>\n",
       "      <td>0.974747</td>\n",
       "      <td>0.066667</td>\n",
       "      <td>0.0</td>\n",
       "    </tr>\n",
       "    <tr>\n",
       "      <th>74</th>\n",
       "      <td>0.498221</td>\n",
       "      <td>0.749088</td>\n",
       "      <td>0.924242</td>\n",
       "      <td>0.000000</td>\n",
       "      <td>0.0</td>\n",
       "      <td>0.580071</td>\n",
       "      <td>0.771101</td>\n",
       "      <td>0.939394</td>\n",
       "      <td>0.200000</td>\n",
       "      <td>0.0</td>\n",
       "      <td>0.708185</td>\n",
       "      <td>0.797974</td>\n",
       "      <td>0.939394</td>\n",
       "      <td>0.000000</td>\n",
       "      <td>0.0</td>\n",
       "      <td>0.544484</td>\n",
       "      <td>0.818636</td>\n",
       "      <td>0.949495</td>\n",
       "      <td>0.133333</td>\n",
       "      <td>0.0</td>\n",
       "      <td>0.775801</td>\n",
       "      <td>0.848076</td>\n",
       "      <td>0.949495</td>\n",
       "      <td>0.000000</td>\n",
       "      <td>0.0</td>\n",
       "      <td>0.487544</td>\n",
       "      <td>0.866577</td>\n",
       "      <td>0.949495</td>\n",
       "      <td>0.000000</td>\n",
       "      <td>0.0</td>\n",
       "      <td>0.334520</td>\n",
       "      <td>0.879271</td>\n",
       "      <td>0.949495</td>\n",
       "      <td>0.000000</td>\n",
       "      <td>0.0</td>\n",
       "      <td>0.338078</td>\n",
       "      <td>0.892100</td>\n",
       "      <td>0.959596</td>\n",
       "      <td>0.133333</td>\n",
       "      <td>0.0</td>\n",
       "      <td>0.160142</td>\n",
       "      <td>0.898177</td>\n",
       "      <td>0.959596</td>\n",
       "      <td>0.000000</td>\n",
       "      <td>0.0</td>\n",
       "      <td>0.316726</td>\n",
       "      <td>0.910196</td>\n",
       "      <td>0.969697</td>\n",
       "      <td>0.133333</td>\n",
       "      <td>0.0</td>\n",
       "      <td>0.459075</td>\n",
       "      <td>0.927616</td>\n",
       "      <td>0.969697</td>\n",
       "      <td>0.000000</td>\n",
       "      <td>0.0</td>\n",
       "      <td>0.291815</td>\n",
       "      <td>0.938690</td>\n",
       "      <td>0.969697</td>\n",
       "      <td>0.000000</td>\n",
       "      <td>0.0</td>\n",
       "      <td>0.252669</td>\n",
       "      <td>0.948278</td>\n",
       "      <td>0.974747</td>\n",
       "      <td>0.066667</td>\n",
       "      <td>0.0</td>\n",
       "      <td>0.391459</td>\n",
       "      <td>0.963133</td>\n",
       "      <td>0.979798</td>\n",
       "      <td>0.066667</td>\n",
       "      <td>0.0</td>\n",
       "    </tr>\n",
       "    <tr>\n",
       "      <th>75</th>\n",
       "      <td>0.580071</td>\n",
       "      <td>0.771101</td>\n",
       "      <td>0.939394</td>\n",
       "      <td>0.200000</td>\n",
       "      <td>0.0</td>\n",
       "      <td>0.708185</td>\n",
       "      <td>0.797974</td>\n",
       "      <td>0.939394</td>\n",
       "      <td>0.000000</td>\n",
       "      <td>0.0</td>\n",
       "      <td>0.544484</td>\n",
       "      <td>0.818636</td>\n",
       "      <td>0.949495</td>\n",
       "      <td>0.133333</td>\n",
       "      <td>0.0</td>\n",
       "      <td>0.775801</td>\n",
       "      <td>0.848076</td>\n",
       "      <td>0.949495</td>\n",
       "      <td>0.000000</td>\n",
       "      <td>0.0</td>\n",
       "      <td>0.487544</td>\n",
       "      <td>0.866577</td>\n",
       "      <td>0.949495</td>\n",
       "      <td>0.000000</td>\n",
       "      <td>0.0</td>\n",
       "      <td>0.334520</td>\n",
       "      <td>0.879271</td>\n",
       "      <td>0.949495</td>\n",
       "      <td>0.000000</td>\n",
       "      <td>0.0</td>\n",
       "      <td>0.338078</td>\n",
       "      <td>0.892100</td>\n",
       "      <td>0.959596</td>\n",
       "      <td>0.133333</td>\n",
       "      <td>0.0</td>\n",
       "      <td>0.160142</td>\n",
       "      <td>0.898177</td>\n",
       "      <td>0.959596</td>\n",
       "      <td>0.000000</td>\n",
       "      <td>0.0</td>\n",
       "      <td>0.316726</td>\n",
       "      <td>0.910196</td>\n",
       "      <td>0.969697</td>\n",
       "      <td>0.133333</td>\n",
       "      <td>0.0</td>\n",
       "      <td>0.459075</td>\n",
       "      <td>0.927616</td>\n",
       "      <td>0.969697</td>\n",
       "      <td>0.000000</td>\n",
       "      <td>0.0</td>\n",
       "      <td>0.291815</td>\n",
       "      <td>0.938690</td>\n",
       "      <td>0.969697</td>\n",
       "      <td>0.000000</td>\n",
       "      <td>0.0</td>\n",
       "      <td>0.252669</td>\n",
       "      <td>0.948278</td>\n",
       "      <td>0.974747</td>\n",
       "      <td>0.066667</td>\n",
       "      <td>0.0</td>\n",
       "      <td>0.391459</td>\n",
       "      <td>0.963133</td>\n",
       "      <td>0.979798</td>\n",
       "      <td>0.066667</td>\n",
       "      <td>0.0</td>\n",
       "      <td>0.277580</td>\n",
       "      <td>0.973666</td>\n",
       "      <td>0.989899</td>\n",
       "      <td>0.133333</td>\n",
       "      <td>0.0</td>\n",
       "    </tr>\n",
       "    <tr>\n",
       "      <th>76</th>\n",
       "      <td>0.708185</td>\n",
       "      <td>0.797974</td>\n",
       "      <td>0.939394</td>\n",
       "      <td>0.000000</td>\n",
       "      <td>0.0</td>\n",
       "      <td>0.544484</td>\n",
       "      <td>0.818636</td>\n",
       "      <td>0.949495</td>\n",
       "      <td>0.133333</td>\n",
       "      <td>0.0</td>\n",
       "      <td>0.775801</td>\n",
       "      <td>0.848076</td>\n",
       "      <td>0.949495</td>\n",
       "      <td>0.000000</td>\n",
       "      <td>0.0</td>\n",
       "      <td>0.487544</td>\n",
       "      <td>0.866577</td>\n",
       "      <td>0.949495</td>\n",
       "      <td>0.000000</td>\n",
       "      <td>0.0</td>\n",
       "      <td>0.334520</td>\n",
       "      <td>0.879271</td>\n",
       "      <td>0.949495</td>\n",
       "      <td>0.000000</td>\n",
       "      <td>0.0</td>\n",
       "      <td>0.338078</td>\n",
       "      <td>0.892100</td>\n",
       "      <td>0.959596</td>\n",
       "      <td>0.133333</td>\n",
       "      <td>0.0</td>\n",
       "      <td>0.160142</td>\n",
       "      <td>0.898177</td>\n",
       "      <td>0.959596</td>\n",
       "      <td>0.000000</td>\n",
       "      <td>0.0</td>\n",
       "      <td>0.316726</td>\n",
       "      <td>0.910196</td>\n",
       "      <td>0.969697</td>\n",
       "      <td>0.133333</td>\n",
       "      <td>0.0</td>\n",
       "      <td>0.459075</td>\n",
       "      <td>0.927616</td>\n",
       "      <td>0.969697</td>\n",
       "      <td>0.000000</td>\n",
       "      <td>0.0</td>\n",
       "      <td>0.291815</td>\n",
       "      <td>0.938690</td>\n",
       "      <td>0.969697</td>\n",
       "      <td>0.000000</td>\n",
       "      <td>0.0</td>\n",
       "      <td>0.252669</td>\n",
       "      <td>0.948278</td>\n",
       "      <td>0.974747</td>\n",
       "      <td>0.066667</td>\n",
       "      <td>0.0</td>\n",
       "      <td>0.391459</td>\n",
       "      <td>0.963133</td>\n",
       "      <td>0.979798</td>\n",
       "      <td>0.066667</td>\n",
       "      <td>0.0</td>\n",
       "      <td>0.277580</td>\n",
       "      <td>0.973666</td>\n",
       "      <td>0.989899</td>\n",
       "      <td>0.133333</td>\n",
       "      <td>0.0</td>\n",
       "      <td>0.430605</td>\n",
       "      <td>0.990007</td>\n",
       "      <td>0.994950</td>\n",
       "      <td>0.066667</td>\n",
       "      <td>0.0</td>\n",
       "    </tr>\n",
       "    <tr>\n",
       "      <th>77</th>\n",
       "      <td>0.544484</td>\n",
       "      <td>0.818636</td>\n",
       "      <td>0.949495</td>\n",
       "      <td>0.133333</td>\n",
       "      <td>0.0</td>\n",
       "      <td>0.775801</td>\n",
       "      <td>0.848076</td>\n",
       "      <td>0.949495</td>\n",
       "      <td>0.000000</td>\n",
       "      <td>0.0</td>\n",
       "      <td>0.487544</td>\n",
       "      <td>0.866577</td>\n",
       "      <td>0.949495</td>\n",
       "      <td>0.000000</td>\n",
       "      <td>0.0</td>\n",
       "      <td>0.334520</td>\n",
       "      <td>0.879271</td>\n",
       "      <td>0.949495</td>\n",
       "      <td>0.000000</td>\n",
       "      <td>0.0</td>\n",
       "      <td>0.338078</td>\n",
       "      <td>0.892100</td>\n",
       "      <td>0.959596</td>\n",
       "      <td>0.133333</td>\n",
       "      <td>0.0</td>\n",
       "      <td>0.160142</td>\n",
       "      <td>0.898177</td>\n",
       "      <td>0.959596</td>\n",
       "      <td>0.000000</td>\n",
       "      <td>0.0</td>\n",
       "      <td>0.316726</td>\n",
       "      <td>0.910196</td>\n",
       "      <td>0.969697</td>\n",
       "      <td>0.133333</td>\n",
       "      <td>0.0</td>\n",
       "      <td>0.459075</td>\n",
       "      <td>0.927616</td>\n",
       "      <td>0.969697</td>\n",
       "      <td>0.000000</td>\n",
       "      <td>0.0</td>\n",
       "      <td>0.291815</td>\n",
       "      <td>0.938690</td>\n",
       "      <td>0.969697</td>\n",
       "      <td>0.000000</td>\n",
       "      <td>0.0</td>\n",
       "      <td>0.252669</td>\n",
       "      <td>0.948278</td>\n",
       "      <td>0.974747</td>\n",
       "      <td>0.066667</td>\n",
       "      <td>0.0</td>\n",
       "      <td>0.391459</td>\n",
       "      <td>0.963133</td>\n",
       "      <td>0.979798</td>\n",
       "      <td>0.066667</td>\n",
       "      <td>0.0</td>\n",
       "      <td>0.277580</td>\n",
       "      <td>0.973666</td>\n",
       "      <td>0.989899</td>\n",
       "      <td>0.133333</td>\n",
       "      <td>0.0</td>\n",
       "      <td>0.430605</td>\n",
       "      <td>0.990007</td>\n",
       "      <td>0.994950</td>\n",
       "      <td>0.066667</td>\n",
       "      <td>0.0</td>\n",
       "      <td>0.263345</td>\n",
       "      <td>1.000000</td>\n",
       "      <td>1.000000</td>\n",
       "      <td>0.066667</td>\n",
       "      <td>0.0</td>\n",
       "    </tr>\n",
       "  </tbody>\n",
       "</table>\n",
       "<p>71 rows × 70 columns</p>\n",
       "</div>"
      ],
      "text/plain": [
       "    var1(t-7)  var2(t-7)  var3(t-7)  ...  var3(t+6)  var4(t+6)  var5(t+6)\n",
       "7    0.021352   0.079406   0.050505  ...   0.005051   0.000000        0.0\n",
       "8    0.003559   0.000000   0.000000  ...   0.005051   0.000000        0.0\n",
       "9    0.021352   0.079406   0.050505  ...   0.005051   0.000000        0.0\n",
       "10   0.021352   0.079406   0.050505  ...   0.010101   0.066667        0.0\n",
       "11   0.003559   0.000135   0.000000  ...   0.010101   0.000000        0.0\n",
       "..        ...        ...        ...  ...        ...        ...        ...\n",
       "73   0.672598   0.730182   0.924242  ...   0.974747   0.066667        0.0\n",
       "74   0.498221   0.749088   0.924242  ...   0.979798   0.066667        0.0\n",
       "75   0.580071   0.771101   0.939394  ...   0.989899   0.133333        0.0\n",
       "76   0.708185   0.797974   0.939394  ...   0.994950   0.066667        0.0\n",
       "77   0.544484   0.818636   0.949495  ...   1.000000   0.066667        0.0\n",
       "\n",
       "[71 rows x 70 columns]"
      ]
     },
     "execution_count": 53,
     "metadata": {
      "tags": []
     },
     "output_type": "execute_result"
    }
   ],
   "source": [
    "#col_y_need_train=X_train.columns[[35,40,45,50,55,60,65]]\n",
    "#col_y_need_test=X_test.columns[[35,40,45,50,55,60,65]]\n",
    "X_train"
   ]
  },
  {
   "cell_type": "code",
   "execution_count": 54,
   "metadata": {
    "colab": {
     "base_uri": "https://localhost:8080/",
     "height": 204
    },
    "colab_type": "code",
    "id": "q05jJm5-9Qtq",
    "outputId": "d16e011e-0bed-425f-ee03-acb34de604c5"
   },
   "outputs": [
    {
     "data": {
      "text/html": [
       "<div>\n",
       "<style scoped>\n",
       "    .dataframe tbody tr th:only-of-type {\n",
       "        vertical-align: middle;\n",
       "    }\n",
       "\n",
       "    .dataframe tbody tr th {\n",
       "        vertical-align: top;\n",
       "    }\n",
       "\n",
       "    .dataframe thead th {\n",
       "        text-align: right;\n",
       "    }\n",
       "</style>\n",
       "<table border=\"1\" class=\"dataframe\">\n",
       "  <thead>\n",
       "    <tr style=\"text-align: right;\">\n",
       "      <th></th>\n",
       "      <th>var1(t-7)</th>\n",
       "      <th>var1(t-6)</th>\n",
       "      <th>var1(t-5)</th>\n",
       "      <th>var1(t-4)</th>\n",
       "      <th>var1(t-3)</th>\n",
       "      <th>var1(t-2)</th>\n",
       "      <th>var1(t-1)</th>\n",
       "      <th>var1(t)</th>\n",
       "      <th>var1(t+1)</th>\n",
       "      <th>var1(t+2)</th>\n",
       "      <th>var1(t+3)</th>\n",
       "      <th>var1(t+4)</th>\n",
       "      <th>var1(t+5)</th>\n",
       "      <th>var1(t+6)</th>\n",
       "    </tr>\n",
       "  </thead>\n",
       "  <tbody>\n",
       "    <tr>\n",
       "      <th>7</th>\n",
       "      <td>0.021352</td>\n",
       "      <td>0.003559</td>\n",
       "      <td>0.021352</td>\n",
       "      <td>0.021352</td>\n",
       "      <td>0.003559</td>\n",
       "      <td>0.021352</td>\n",
       "      <td>0.021352</td>\n",
       "      <td>0.021352</td>\n",
       "      <td>0.021352</td>\n",
       "      <td>0.021352</td>\n",
       "      <td>0.010676</td>\n",
       "      <td>0.003559</td>\n",
       "      <td>0.003559</td>\n",
       "      <td>0.039146</td>\n",
       "    </tr>\n",
       "    <tr>\n",
       "      <th>8</th>\n",
       "      <td>0.003559</td>\n",
       "      <td>0.021352</td>\n",
       "      <td>0.021352</td>\n",
       "      <td>0.003559</td>\n",
       "      <td>0.021352</td>\n",
       "      <td>0.021352</td>\n",
       "      <td>0.021352</td>\n",
       "      <td>0.021352</td>\n",
       "      <td>0.021352</td>\n",
       "      <td>0.010676</td>\n",
       "      <td>0.003559</td>\n",
       "      <td>0.003559</td>\n",
       "      <td>0.039146</td>\n",
       "      <td>0.035587</td>\n",
       "    </tr>\n",
       "    <tr>\n",
       "      <th>9</th>\n",
       "      <td>0.021352</td>\n",
       "      <td>0.021352</td>\n",
       "      <td>0.003559</td>\n",
       "      <td>0.021352</td>\n",
       "      <td>0.021352</td>\n",
       "      <td>0.021352</td>\n",
       "      <td>0.021352</td>\n",
       "      <td>0.021352</td>\n",
       "      <td>0.010676</td>\n",
       "      <td>0.003559</td>\n",
       "      <td>0.003559</td>\n",
       "      <td>0.039146</td>\n",
       "      <td>0.035587</td>\n",
       "      <td>0.032028</td>\n",
       "    </tr>\n",
       "    <tr>\n",
       "      <th>10</th>\n",
       "      <td>0.021352</td>\n",
       "      <td>0.003559</td>\n",
       "      <td>0.021352</td>\n",
       "      <td>0.021352</td>\n",
       "      <td>0.021352</td>\n",
       "      <td>0.021352</td>\n",
       "      <td>0.021352</td>\n",
       "      <td>0.010676</td>\n",
       "      <td>0.003559</td>\n",
       "      <td>0.003559</td>\n",
       "      <td>0.039146</td>\n",
       "      <td>0.035587</td>\n",
       "      <td>0.032028</td>\n",
       "      <td>0.024911</td>\n",
       "    </tr>\n",
       "    <tr>\n",
       "      <th>11</th>\n",
       "      <td>0.003559</td>\n",
       "      <td>0.021352</td>\n",
       "      <td>0.021352</td>\n",
       "      <td>0.021352</td>\n",
       "      <td>0.021352</td>\n",
       "      <td>0.021352</td>\n",
       "      <td>0.010676</td>\n",
       "      <td>0.003559</td>\n",
       "      <td>0.003559</td>\n",
       "      <td>0.039146</td>\n",
       "      <td>0.035587</td>\n",
       "      <td>0.032028</td>\n",
       "      <td>0.024911</td>\n",
       "      <td>0.035587</td>\n",
       "    </tr>\n",
       "  </tbody>\n",
       "</table>\n",
       "</div>"
      ],
      "text/plain": [
       "    var1(t-7)  var1(t-6)  var1(t-5)  ...  var1(t+4)  var1(t+5)  var1(t+6)\n",
       "7    0.021352   0.003559   0.021352  ...   0.003559   0.003559   0.039146\n",
       "8    0.003559   0.021352   0.021352  ...   0.003559   0.039146   0.035587\n",
       "9    0.021352   0.021352   0.003559  ...   0.039146   0.035587   0.032028\n",
       "10   0.021352   0.003559   0.021352  ...   0.035587   0.032028   0.024911\n",
       "11   0.003559   0.021352   0.021352  ...   0.032028   0.024911   0.035587\n",
       "\n",
       "[5 rows x 14 columns]"
      ]
     },
     "execution_count": 54,
     "metadata": {
      "tags": []
     },
     "output_type": "execute_result"
    }
   ],
   "source": [
    "Y_train.head(5)"
   ]
  },
  {
   "cell_type": "code",
   "execution_count": 55,
   "metadata": {
    "colab": {},
    "colab_type": "code",
    "id": "MHjdzxPrIcbM"
   },
   "outputs": [],
   "source": [
    "#raise SystemExit(\"Stop right there!\")"
   ]
  },
  {
   "cell_type": "code",
   "execution_count": 56,
   "metadata": {
    "colab": {},
    "colab_type": "code",
    "id": "VHWuvjKEsO81"
   },
   "outputs": [],
   "source": [
    "# regex : var[1-i]\\(t\\-\\d{1,2}\\)$\n",
    "#i = 1 if nb_seq== 7 else 2 if nb_seq== 6 else 3 if nb_seq== 5 else 4 if nb_seq== 4 else 5 if nb_seq== 3 else 6 if nb_seq== 2 else 7 if nb_seq== 1 else 0\n",
    "col_take= 'var[1-j]\\(t\\-[1-i]\\)$'\n",
    "col_take = col_take.replace(\"i\", str(nb_seq))\n",
    "col_take = col_take.replace(\"j\", str(nb_col))\n",
    "regex_find = col_take"
   ]
  },
  {
   "cell_type": "code",
   "execution_count": 57,
   "metadata": {
    "colab": {},
    "colab_type": "code",
    "id": "uoBVVOfjcAWl"
   },
   "outputs": [],
   "source": [
    "col_x_need_train =X_train.filter(regex=regex_find,axis=1).head(1)"
   ]
  },
  {
   "cell_type": "code",
   "execution_count": 58,
   "metadata": {
    "colab": {
     "base_uri": "https://localhost:8080/",
     "height": 117
    },
    "colab_type": "code",
    "id": "5GN1s0yvickp",
    "outputId": "94765abf-d0b4-4bff-8b8b-1aaf84254161"
   },
   "outputs": [
    {
     "data": {
      "text/html": [
       "<div>\n",
       "<style scoped>\n",
       "    .dataframe tbody tr th:only-of-type {\n",
       "        vertical-align: middle;\n",
       "    }\n",
       "\n",
       "    .dataframe tbody tr th {\n",
       "        vertical-align: top;\n",
       "    }\n",
       "\n",
       "    .dataframe thead th {\n",
       "        text-align: right;\n",
       "    }\n",
       "</style>\n",
       "<table border=\"1\" class=\"dataframe\">\n",
       "  <thead>\n",
       "    <tr style=\"text-align: right;\">\n",
       "      <th></th>\n",
       "      <th>var1(t-7)</th>\n",
       "      <th>var2(t-7)</th>\n",
       "      <th>var3(t-7)</th>\n",
       "      <th>var4(t-7)</th>\n",
       "      <th>var5(t-7)</th>\n",
       "      <th>var1(t-6)</th>\n",
       "      <th>var2(t-6)</th>\n",
       "      <th>var3(t-6)</th>\n",
       "      <th>var4(t-6)</th>\n",
       "      <th>var5(t-6)</th>\n",
       "      <th>var1(t-5)</th>\n",
       "      <th>var2(t-5)</th>\n",
       "      <th>var3(t-5)</th>\n",
       "      <th>var4(t-5)</th>\n",
       "      <th>var5(t-5)</th>\n",
       "      <th>var1(t-4)</th>\n",
       "      <th>var2(t-4)</th>\n",
       "      <th>var3(t-4)</th>\n",
       "      <th>var4(t-4)</th>\n",
       "      <th>var5(t-4)</th>\n",
       "      <th>var1(t-3)</th>\n",
       "      <th>var2(t-3)</th>\n",
       "      <th>var3(t-3)</th>\n",
       "      <th>var4(t-3)</th>\n",
       "      <th>var5(t-3)</th>\n",
       "      <th>var1(t-2)</th>\n",
       "      <th>var2(t-2)</th>\n",
       "      <th>var3(t-2)</th>\n",
       "      <th>var4(t-2)</th>\n",
       "      <th>var5(t-2)</th>\n",
       "      <th>var1(t-1)</th>\n",
       "      <th>var2(t-1)</th>\n",
       "      <th>var3(t-1)</th>\n",
       "      <th>var4(t-1)</th>\n",
       "      <th>var5(t-1)</th>\n",
       "    </tr>\n",
       "  </thead>\n",
       "  <tbody>\n",
       "    <tr>\n",
       "      <th>7</th>\n",
       "      <td>0.021352</td>\n",
       "      <td>0.079406</td>\n",
       "      <td>0.050505</td>\n",
       "      <td>0.0</td>\n",
       "      <td>0.0</td>\n",
       "      <td>0.003559</td>\n",
       "      <td>0.0</td>\n",
       "      <td>0.0</td>\n",
       "      <td>0.0</td>\n",
       "      <td>0.0</td>\n",
       "      <td>0.021352</td>\n",
       "      <td>0.079406</td>\n",
       "      <td>0.050505</td>\n",
       "      <td>0.0</td>\n",
       "      <td>0.0</td>\n",
       "      <td>0.021352</td>\n",
       "      <td>0.079406</td>\n",
       "      <td>0.050505</td>\n",
       "      <td>0.0</td>\n",
       "      <td>0.0</td>\n",
       "      <td>0.003559</td>\n",
       "      <td>0.000135</td>\n",
       "      <td>0.0</td>\n",
       "      <td>0.0</td>\n",
       "      <td>0.0</td>\n",
       "      <td>0.021352</td>\n",
       "      <td>0.079406</td>\n",
       "      <td>0.050505</td>\n",
       "      <td>0.0</td>\n",
       "      <td>0.0</td>\n",
       "      <td>0.021352</td>\n",
       "      <td>0.079406</td>\n",
       "      <td>0.050505</td>\n",
       "      <td>0.0</td>\n",
       "      <td>0.0</td>\n",
       "    </tr>\n",
       "  </tbody>\n",
       "</table>\n",
       "</div>"
      ],
      "text/plain": [
       "   var1(t-7)  var2(t-7)  var3(t-7)  ...  var3(t-1)  var4(t-1)  var5(t-1)\n",
       "7   0.021352   0.079406   0.050505  ...   0.050505        0.0        0.0\n",
       "\n",
       "[1 rows x 35 columns]"
      ]
     },
     "execution_count": 58,
     "metadata": {
      "tags": []
     },
     "output_type": "execute_result"
    }
   ],
   "source": [
    "col_x_need_train"
   ]
  },
  {
   "cell_type": "code",
   "execution_count": 59,
   "metadata": {
    "colab": {
     "base_uri": "https://localhost:8080/",
     "height": 80
    },
    "colab_type": "code",
    "id": "pppynxRkncZs",
    "outputId": "23f59cba-21bd-4334-932f-8d6682fe0eef"
   },
   "outputs": [
    {
     "data": {
      "text/html": [
       "<div>\n",
       "<style scoped>\n",
       "    .dataframe tbody tr th:only-of-type {\n",
       "        vertical-align: middle;\n",
       "    }\n",
       "\n",
       "    .dataframe tbody tr th {\n",
       "        vertical-align: top;\n",
       "    }\n",
       "\n",
       "    .dataframe thead th {\n",
       "        text-align: right;\n",
       "    }\n",
       "</style>\n",
       "<table border=\"1\" class=\"dataframe\">\n",
       "  <thead>\n",
       "    <tr style=\"text-align: right;\">\n",
       "      <th></th>\n",
       "      <th>var1(t)</th>\n",
       "      <th>var1(t+1)</th>\n",
       "      <th>var1(t+2)</th>\n",
       "      <th>var1(t+3)</th>\n",
       "      <th>var1(t+4)</th>\n",
       "      <th>var1(t+5)</th>\n",
       "      <th>var1(t+6)</th>\n",
       "    </tr>\n",
       "  </thead>\n",
       "  <tbody>\n",
       "    <tr>\n",
       "      <th>7</th>\n",
       "      <td>0.021352</td>\n",
       "      <td>0.021352</td>\n",
       "      <td>0.021352</td>\n",
       "      <td>0.010676</td>\n",
       "      <td>0.003559</td>\n",
       "      <td>0.003559</td>\n",
       "      <td>0.039146</td>\n",
       "    </tr>\n",
       "  </tbody>\n",
       "</table>\n",
       "</div>"
      ],
      "text/plain": [
       "    var1(t)  var1(t+1)  var1(t+2)  var1(t+3)  var1(t+4)  var1(t+5)  var1(t+6)\n",
       "7  0.021352   0.021352   0.021352   0.010676   0.003559   0.003559   0.039146"
      ]
     },
     "execution_count": 59,
     "metadata": {
      "tags": []
     },
     "output_type": "execute_result"
    }
   ],
   "source": [
    "#col_take2= 'var[1-i](\\(t\\+\\d{1}\\)|(\\(t\\)))$'\n",
    "col_take2= 'var1(\\(t\\+\\d{1}\\)|(\\(t\\)))$'\n",
    "#col_take2 = col_take2.replace(\"i\", str(nb_seq))\n",
    "regex_find2 = col_take2\n",
    "Y_train.filter(regex=regex_find2,axis=1).head(1)"
   ]
  },
  {
   "cell_type": "code",
   "execution_count": 60,
   "metadata": {
    "colab": {},
    "colab_type": "code",
    "id": "ANB0h6aIi_US"
   },
   "outputs": [],
   "source": [
    "#raise SystemExit(\"Stop right there!\")"
   ]
  },
  {
   "cell_type": "code",
   "execution_count": 61,
   "metadata": {
    "colab": {},
    "colab_type": "code",
    "id": "1-OQ97TjJhvq"
   },
   "outputs": [],
   "source": [
    "#col_x_need_train=X_train.columns[[0,1,2,3,4,5,6,7,8,9,10,11,12,13,14,15,16,17,18,19,20,21,22,23,24,25,26,27,28,29,30,31,32,33,34]]\n",
    "#col_x_need_test=X_test.columns[[0,1,2,3,4,5,6,7,8,9,10,11,12,13,14,15,16,17,18,19,20,21,22,23,24,25,26,27,28,29,30,31,32,33,34]]"
   ]
  },
  {
   "cell_type": "code",
   "execution_count": 62,
   "metadata": {
    "colab": {},
    "colab_type": "code",
    "id": "DrNN8HnZLQHp"
   },
   "outputs": [],
   "source": [
    "#col_x_need_train"
   ]
  },
  {
   "cell_type": "code",
   "execution_count": 63,
   "metadata": {
    "colab": {
     "base_uri": "https://localhost:8080/",
     "height": 51
    },
    "colab_type": "code",
    "id": "SL10kb5XJRk3",
    "outputId": "7ee1a2e8-4a6d-4a95-85a1-437e42b36f1e"
   },
   "outputs": [
    {
     "name": "stdout",
     "output_type": "stream",
     "text": [
      "(71, 7)\n",
      "(15, 7)\n"
     ]
    }
   ],
   "source": [
    "# drop columns we don't want to predict\n",
    "Y_train = Y_train.filter(regex='var[1-7](\\(t\\+\\d{1}\\)|(\\(t\\)))$',axis=1)\n",
    "Y_test=Y_test.filter(regex='var[1-7](\\(t\\+\\d{1}\\)|(\\(t\\)))$',axis=1)\n",
    "Y_train\n",
    "print(Y_train.shape)\n",
    "print(Y_test.shape)\n"
   ]
  },
  {
   "cell_type": "code",
   "execution_count": 64,
   "metadata": {
    "colab": {
     "base_uri": "https://localhost:8080/",
     "height": 204
    },
    "colab_type": "code",
    "id": "SZUaUtU7oEfA",
    "outputId": "12b2f666-9add-4f88-9093-2d308ab8c295"
   },
   "outputs": [
    {
     "data": {
      "text/html": [
       "<div>\n",
       "<style scoped>\n",
       "    .dataframe tbody tr th:only-of-type {\n",
       "        vertical-align: middle;\n",
       "    }\n",
       "\n",
       "    .dataframe tbody tr th {\n",
       "        vertical-align: top;\n",
       "    }\n",
       "\n",
       "    .dataframe thead th {\n",
       "        text-align: right;\n",
       "    }\n",
       "</style>\n",
       "<table border=\"1\" class=\"dataframe\">\n",
       "  <thead>\n",
       "    <tr style=\"text-align: right;\">\n",
       "      <th></th>\n",
       "      <th>var1(t)</th>\n",
       "      <th>var1(t+1)</th>\n",
       "      <th>var1(t+2)</th>\n",
       "      <th>var1(t+3)</th>\n",
       "      <th>var1(t+4)</th>\n",
       "      <th>var1(t+5)</th>\n",
       "      <th>var1(t+6)</th>\n",
       "    </tr>\n",
       "  </thead>\n",
       "  <tbody>\n",
       "    <tr>\n",
       "      <th>7</th>\n",
       "      <td>0.021352</td>\n",
       "      <td>0.021352</td>\n",
       "      <td>0.021352</td>\n",
       "      <td>0.010676</td>\n",
       "      <td>0.003559</td>\n",
       "      <td>0.003559</td>\n",
       "      <td>0.039146</td>\n",
       "    </tr>\n",
       "    <tr>\n",
       "      <th>8</th>\n",
       "      <td>0.021352</td>\n",
       "      <td>0.021352</td>\n",
       "      <td>0.010676</td>\n",
       "      <td>0.003559</td>\n",
       "      <td>0.003559</td>\n",
       "      <td>0.039146</td>\n",
       "      <td>0.035587</td>\n",
       "    </tr>\n",
       "    <tr>\n",
       "      <th>9</th>\n",
       "      <td>0.021352</td>\n",
       "      <td>0.010676</td>\n",
       "      <td>0.003559</td>\n",
       "      <td>0.003559</td>\n",
       "      <td>0.039146</td>\n",
       "      <td>0.035587</td>\n",
       "      <td>0.032028</td>\n",
       "    </tr>\n",
       "    <tr>\n",
       "      <th>10</th>\n",
       "      <td>0.010676</td>\n",
       "      <td>0.003559</td>\n",
       "      <td>0.003559</td>\n",
       "      <td>0.039146</td>\n",
       "      <td>0.035587</td>\n",
       "      <td>0.032028</td>\n",
       "      <td>0.024911</td>\n",
       "    </tr>\n",
       "    <tr>\n",
       "      <th>11</th>\n",
       "      <td>0.003559</td>\n",
       "      <td>0.003559</td>\n",
       "      <td>0.039146</td>\n",
       "      <td>0.035587</td>\n",
       "      <td>0.032028</td>\n",
       "      <td>0.024911</td>\n",
       "      <td>0.035587</td>\n",
       "    </tr>\n",
       "  </tbody>\n",
       "</table>\n",
       "</div>"
      ],
      "text/plain": [
       "     var1(t)  var1(t+1)  var1(t+2)  var1(t+3)  var1(t+4)  var1(t+5)  var1(t+6)\n",
       "7   0.021352   0.021352   0.021352   0.010676   0.003559   0.003559   0.039146\n",
       "8   0.021352   0.021352   0.010676   0.003559   0.003559   0.039146   0.035587\n",
       "9   0.021352   0.010676   0.003559   0.003559   0.039146   0.035587   0.032028\n",
       "10  0.010676   0.003559   0.003559   0.039146   0.035587   0.032028   0.024911\n",
       "11  0.003559   0.003559   0.039146   0.035587   0.032028   0.024911   0.035587"
      ]
     },
     "execution_count": 64,
     "metadata": {
      "tags": []
     },
     "output_type": "execute_result"
    }
   ],
   "source": [
    "Y_train.head(5)"
   ]
  },
  {
   "cell_type": "code",
   "execution_count": 65,
   "metadata": {
    "colab": {
     "base_uri": "https://localhost:8080/",
     "height": 490
    },
    "colab_type": "code",
    "id": "aKFreTgy9Qt5",
    "outputId": "43e0a097-a88b-4b2b-873a-b99684eb6f60"
   },
   "outputs": [
    {
     "name": "stdout",
     "output_type": "stream",
     "text": [
      "(71, 35)\n",
      "(15, 35)\n"
     ]
    },
    {
     "data": {
      "text/html": [
       "<div>\n",
       "<style scoped>\n",
       "    .dataframe tbody tr th:only-of-type {\n",
       "        vertical-align: middle;\n",
       "    }\n",
       "\n",
       "    .dataframe tbody tr th {\n",
       "        vertical-align: top;\n",
       "    }\n",
       "\n",
       "    .dataframe thead th {\n",
       "        text-align: right;\n",
       "    }\n",
       "</style>\n",
       "<table border=\"1\" class=\"dataframe\">\n",
       "  <thead>\n",
       "    <tr style=\"text-align: right;\">\n",
       "      <th></th>\n",
       "      <th>var1(t-7)</th>\n",
       "      <th>var2(t-7)</th>\n",
       "      <th>var3(t-7)</th>\n",
       "      <th>var4(t-7)</th>\n",
       "      <th>var5(t-7)</th>\n",
       "      <th>var1(t-6)</th>\n",
       "      <th>var2(t-6)</th>\n",
       "      <th>var3(t-6)</th>\n",
       "      <th>var4(t-6)</th>\n",
       "      <th>var5(t-6)</th>\n",
       "      <th>var1(t-5)</th>\n",
       "      <th>var2(t-5)</th>\n",
       "      <th>var3(t-5)</th>\n",
       "      <th>var4(t-5)</th>\n",
       "      <th>var5(t-5)</th>\n",
       "      <th>var1(t-4)</th>\n",
       "      <th>var2(t-4)</th>\n",
       "      <th>var3(t-4)</th>\n",
       "      <th>var4(t-4)</th>\n",
       "      <th>var5(t-4)</th>\n",
       "      <th>var1(t-3)</th>\n",
       "      <th>var2(t-3)</th>\n",
       "      <th>var3(t-3)</th>\n",
       "      <th>var4(t-3)</th>\n",
       "      <th>var5(t-3)</th>\n",
       "      <th>var1(t-2)</th>\n",
       "      <th>var2(t-2)</th>\n",
       "      <th>var3(t-2)</th>\n",
       "      <th>var4(t-2)</th>\n",
       "      <th>var5(t-2)</th>\n",
       "      <th>var1(t-1)</th>\n",
       "      <th>var2(t-1)</th>\n",
       "      <th>var3(t-1)</th>\n",
       "      <th>var4(t-1)</th>\n",
       "      <th>var5(t-1)</th>\n",
       "    </tr>\n",
       "  </thead>\n",
       "  <tbody>\n",
       "    <tr>\n",
       "      <th>7</th>\n",
       "      <td>0.021352</td>\n",
       "      <td>0.079406</td>\n",
       "      <td>0.050505</td>\n",
       "      <td>0.000000</td>\n",
       "      <td>0.0</td>\n",
       "      <td>0.003559</td>\n",
       "      <td>0.000000</td>\n",
       "      <td>0.000000</td>\n",
       "      <td>0.000000</td>\n",
       "      <td>0.0</td>\n",
       "      <td>0.021352</td>\n",
       "      <td>0.079406</td>\n",
       "      <td>0.050505</td>\n",
       "      <td>0.000000</td>\n",
       "      <td>0.0</td>\n",
       "      <td>0.021352</td>\n",
       "      <td>0.079406</td>\n",
       "      <td>0.050505</td>\n",
       "      <td>0.000000</td>\n",
       "      <td>0.0</td>\n",
       "      <td>0.003559</td>\n",
       "      <td>0.000135</td>\n",
       "      <td>0.000000</td>\n",
       "      <td>0.000000</td>\n",
       "      <td>0.0</td>\n",
       "      <td>0.021352</td>\n",
       "      <td>0.079406</td>\n",
       "      <td>0.050505</td>\n",
       "      <td>0.000000</td>\n",
       "      <td>0.0</td>\n",
       "      <td>0.021352</td>\n",
       "      <td>0.079406</td>\n",
       "      <td>0.050505</td>\n",
       "      <td>0.000000</td>\n",
       "      <td>0.0</td>\n",
       "    </tr>\n",
       "    <tr>\n",
       "      <th>8</th>\n",
       "      <td>0.003559</td>\n",
       "      <td>0.000000</td>\n",
       "      <td>0.000000</td>\n",
       "      <td>0.000000</td>\n",
       "      <td>0.0</td>\n",
       "      <td>0.021352</td>\n",
       "      <td>0.079406</td>\n",
       "      <td>0.050505</td>\n",
       "      <td>0.000000</td>\n",
       "      <td>0.0</td>\n",
       "      <td>0.021352</td>\n",
       "      <td>0.079406</td>\n",
       "      <td>0.050505</td>\n",
       "      <td>0.000000</td>\n",
       "      <td>0.0</td>\n",
       "      <td>0.003559</td>\n",
       "      <td>0.000135</td>\n",
       "      <td>0.000000</td>\n",
       "      <td>0.000000</td>\n",
       "      <td>0.0</td>\n",
       "      <td>0.021352</td>\n",
       "      <td>0.079406</td>\n",
       "      <td>0.050505</td>\n",
       "      <td>0.000000</td>\n",
       "      <td>0.0</td>\n",
       "      <td>0.021352</td>\n",
       "      <td>0.079406</td>\n",
       "      <td>0.050505</td>\n",
       "      <td>0.000000</td>\n",
       "      <td>0.0</td>\n",
       "      <td>0.021352</td>\n",
       "      <td>0.079406</td>\n",
       "      <td>0.050505</td>\n",
       "      <td>0.000000</td>\n",
       "      <td>0.0</td>\n",
       "    </tr>\n",
       "    <tr>\n",
       "      <th>9</th>\n",
       "      <td>0.021352</td>\n",
       "      <td>0.079406</td>\n",
       "      <td>0.050505</td>\n",
       "      <td>0.000000</td>\n",
       "      <td>0.0</td>\n",
       "      <td>0.021352</td>\n",
       "      <td>0.079406</td>\n",
       "      <td>0.050505</td>\n",
       "      <td>0.000000</td>\n",
       "      <td>0.0</td>\n",
       "      <td>0.003559</td>\n",
       "      <td>0.000135</td>\n",
       "      <td>0.000000</td>\n",
       "      <td>0.000000</td>\n",
       "      <td>0.0</td>\n",
       "      <td>0.021352</td>\n",
       "      <td>0.079406</td>\n",
       "      <td>0.050505</td>\n",
       "      <td>0.000000</td>\n",
       "      <td>0.0</td>\n",
       "      <td>0.021352</td>\n",
       "      <td>0.079406</td>\n",
       "      <td>0.050505</td>\n",
       "      <td>0.000000</td>\n",
       "      <td>0.0</td>\n",
       "      <td>0.021352</td>\n",
       "      <td>0.079406</td>\n",
       "      <td>0.050505</td>\n",
       "      <td>0.000000</td>\n",
       "      <td>0.0</td>\n",
       "      <td>0.021352</td>\n",
       "      <td>0.079406</td>\n",
       "      <td>0.050505</td>\n",
       "      <td>0.000000</td>\n",
       "      <td>0.0</td>\n",
       "    </tr>\n",
       "    <tr>\n",
       "      <th>10</th>\n",
       "      <td>0.021352</td>\n",
       "      <td>0.079406</td>\n",
       "      <td>0.050505</td>\n",
       "      <td>0.000000</td>\n",
       "      <td>0.0</td>\n",
       "      <td>0.003559</td>\n",
       "      <td>0.000135</td>\n",
       "      <td>0.000000</td>\n",
       "      <td>0.000000</td>\n",
       "      <td>0.0</td>\n",
       "      <td>0.021352</td>\n",
       "      <td>0.079406</td>\n",
       "      <td>0.050505</td>\n",
       "      <td>0.000000</td>\n",
       "      <td>0.0</td>\n",
       "      <td>0.021352</td>\n",
       "      <td>0.079406</td>\n",
       "      <td>0.050505</td>\n",
       "      <td>0.000000</td>\n",
       "      <td>0.0</td>\n",
       "      <td>0.021352</td>\n",
       "      <td>0.079406</td>\n",
       "      <td>0.050505</td>\n",
       "      <td>0.000000</td>\n",
       "      <td>0.0</td>\n",
       "      <td>0.021352</td>\n",
       "      <td>0.079406</td>\n",
       "      <td>0.050505</td>\n",
       "      <td>0.000000</td>\n",
       "      <td>0.0</td>\n",
       "      <td>0.021352</td>\n",
       "      <td>0.079406</td>\n",
       "      <td>0.050505</td>\n",
       "      <td>0.000000</td>\n",
       "      <td>0.0</td>\n",
       "    </tr>\n",
       "    <tr>\n",
       "      <th>11</th>\n",
       "      <td>0.003559</td>\n",
       "      <td>0.000135</td>\n",
       "      <td>0.000000</td>\n",
       "      <td>0.000000</td>\n",
       "      <td>0.0</td>\n",
       "      <td>0.021352</td>\n",
       "      <td>0.079406</td>\n",
       "      <td>0.050505</td>\n",
       "      <td>0.000000</td>\n",
       "      <td>0.0</td>\n",
       "      <td>0.021352</td>\n",
       "      <td>0.079406</td>\n",
       "      <td>0.050505</td>\n",
       "      <td>0.000000</td>\n",
       "      <td>0.0</td>\n",
       "      <td>0.021352</td>\n",
       "      <td>0.079406</td>\n",
       "      <td>0.050505</td>\n",
       "      <td>0.000000</td>\n",
       "      <td>0.0</td>\n",
       "      <td>0.021352</td>\n",
       "      <td>0.079406</td>\n",
       "      <td>0.050505</td>\n",
       "      <td>0.000000</td>\n",
       "      <td>0.0</td>\n",
       "      <td>0.021352</td>\n",
       "      <td>0.079406</td>\n",
       "      <td>0.050505</td>\n",
       "      <td>0.000000</td>\n",
       "      <td>0.0</td>\n",
       "      <td>0.010676</td>\n",
       "      <td>0.000540</td>\n",
       "      <td>0.005051</td>\n",
       "      <td>0.066667</td>\n",
       "      <td>0.0</td>\n",
       "    </tr>\n",
       "    <tr>\n",
       "      <th>...</th>\n",
       "      <td>...</td>\n",
       "      <td>...</td>\n",
       "      <td>...</td>\n",
       "      <td>...</td>\n",
       "      <td>...</td>\n",
       "      <td>...</td>\n",
       "      <td>...</td>\n",
       "      <td>...</td>\n",
       "      <td>...</td>\n",
       "      <td>...</td>\n",
       "      <td>...</td>\n",
       "      <td>...</td>\n",
       "      <td>...</td>\n",
       "      <td>...</td>\n",
       "      <td>...</td>\n",
       "      <td>...</td>\n",
       "      <td>...</td>\n",
       "      <td>...</td>\n",
       "      <td>...</td>\n",
       "      <td>...</td>\n",
       "      <td>...</td>\n",
       "      <td>...</td>\n",
       "      <td>...</td>\n",
       "      <td>...</td>\n",
       "      <td>...</td>\n",
       "      <td>...</td>\n",
       "      <td>...</td>\n",
       "      <td>...</td>\n",
       "      <td>...</td>\n",
       "      <td>...</td>\n",
       "      <td>...</td>\n",
       "      <td>...</td>\n",
       "      <td>...</td>\n",
       "      <td>...</td>\n",
       "      <td>...</td>\n",
       "    </tr>\n",
       "    <tr>\n",
       "      <th>73</th>\n",
       "      <td>0.672598</td>\n",
       "      <td>0.730182</td>\n",
       "      <td>0.924242</td>\n",
       "      <td>0.133333</td>\n",
       "      <td>0.0</td>\n",
       "      <td>0.498221</td>\n",
       "      <td>0.749088</td>\n",
       "      <td>0.924242</td>\n",
       "      <td>0.000000</td>\n",
       "      <td>0.0</td>\n",
       "      <td>0.580071</td>\n",
       "      <td>0.771101</td>\n",
       "      <td>0.939394</td>\n",
       "      <td>0.200000</td>\n",
       "      <td>0.0</td>\n",
       "      <td>0.708185</td>\n",
       "      <td>0.797974</td>\n",
       "      <td>0.939394</td>\n",
       "      <td>0.000000</td>\n",
       "      <td>0.0</td>\n",
       "      <td>0.544484</td>\n",
       "      <td>0.818636</td>\n",
       "      <td>0.949495</td>\n",
       "      <td>0.133333</td>\n",
       "      <td>0.0</td>\n",
       "      <td>0.775801</td>\n",
       "      <td>0.848076</td>\n",
       "      <td>0.949495</td>\n",
       "      <td>0.000000</td>\n",
       "      <td>0.0</td>\n",
       "      <td>0.487544</td>\n",
       "      <td>0.866577</td>\n",
       "      <td>0.949495</td>\n",
       "      <td>0.000000</td>\n",
       "      <td>0.0</td>\n",
       "    </tr>\n",
       "    <tr>\n",
       "      <th>74</th>\n",
       "      <td>0.498221</td>\n",
       "      <td>0.749088</td>\n",
       "      <td>0.924242</td>\n",
       "      <td>0.000000</td>\n",
       "      <td>0.0</td>\n",
       "      <td>0.580071</td>\n",
       "      <td>0.771101</td>\n",
       "      <td>0.939394</td>\n",
       "      <td>0.200000</td>\n",
       "      <td>0.0</td>\n",
       "      <td>0.708185</td>\n",
       "      <td>0.797974</td>\n",
       "      <td>0.939394</td>\n",
       "      <td>0.000000</td>\n",
       "      <td>0.0</td>\n",
       "      <td>0.544484</td>\n",
       "      <td>0.818636</td>\n",
       "      <td>0.949495</td>\n",
       "      <td>0.133333</td>\n",
       "      <td>0.0</td>\n",
       "      <td>0.775801</td>\n",
       "      <td>0.848076</td>\n",
       "      <td>0.949495</td>\n",
       "      <td>0.000000</td>\n",
       "      <td>0.0</td>\n",
       "      <td>0.487544</td>\n",
       "      <td>0.866577</td>\n",
       "      <td>0.949495</td>\n",
       "      <td>0.000000</td>\n",
       "      <td>0.0</td>\n",
       "      <td>0.334520</td>\n",
       "      <td>0.879271</td>\n",
       "      <td>0.949495</td>\n",
       "      <td>0.000000</td>\n",
       "      <td>0.0</td>\n",
       "    </tr>\n",
       "    <tr>\n",
       "      <th>75</th>\n",
       "      <td>0.580071</td>\n",
       "      <td>0.771101</td>\n",
       "      <td>0.939394</td>\n",
       "      <td>0.200000</td>\n",
       "      <td>0.0</td>\n",
       "      <td>0.708185</td>\n",
       "      <td>0.797974</td>\n",
       "      <td>0.939394</td>\n",
       "      <td>0.000000</td>\n",
       "      <td>0.0</td>\n",
       "      <td>0.544484</td>\n",
       "      <td>0.818636</td>\n",
       "      <td>0.949495</td>\n",
       "      <td>0.133333</td>\n",
       "      <td>0.0</td>\n",
       "      <td>0.775801</td>\n",
       "      <td>0.848076</td>\n",
       "      <td>0.949495</td>\n",
       "      <td>0.000000</td>\n",
       "      <td>0.0</td>\n",
       "      <td>0.487544</td>\n",
       "      <td>0.866577</td>\n",
       "      <td>0.949495</td>\n",
       "      <td>0.000000</td>\n",
       "      <td>0.0</td>\n",
       "      <td>0.334520</td>\n",
       "      <td>0.879271</td>\n",
       "      <td>0.949495</td>\n",
       "      <td>0.000000</td>\n",
       "      <td>0.0</td>\n",
       "      <td>0.338078</td>\n",
       "      <td>0.892100</td>\n",
       "      <td>0.959596</td>\n",
       "      <td>0.133333</td>\n",
       "      <td>0.0</td>\n",
       "    </tr>\n",
       "    <tr>\n",
       "      <th>76</th>\n",
       "      <td>0.708185</td>\n",
       "      <td>0.797974</td>\n",
       "      <td>0.939394</td>\n",
       "      <td>0.000000</td>\n",
       "      <td>0.0</td>\n",
       "      <td>0.544484</td>\n",
       "      <td>0.818636</td>\n",
       "      <td>0.949495</td>\n",
       "      <td>0.133333</td>\n",
       "      <td>0.0</td>\n",
       "      <td>0.775801</td>\n",
       "      <td>0.848076</td>\n",
       "      <td>0.949495</td>\n",
       "      <td>0.000000</td>\n",
       "      <td>0.0</td>\n",
       "      <td>0.487544</td>\n",
       "      <td>0.866577</td>\n",
       "      <td>0.949495</td>\n",
       "      <td>0.000000</td>\n",
       "      <td>0.0</td>\n",
       "      <td>0.334520</td>\n",
       "      <td>0.879271</td>\n",
       "      <td>0.949495</td>\n",
       "      <td>0.000000</td>\n",
       "      <td>0.0</td>\n",
       "      <td>0.338078</td>\n",
       "      <td>0.892100</td>\n",
       "      <td>0.959596</td>\n",
       "      <td>0.133333</td>\n",
       "      <td>0.0</td>\n",
       "      <td>0.160142</td>\n",
       "      <td>0.898177</td>\n",
       "      <td>0.959596</td>\n",
       "      <td>0.000000</td>\n",
       "      <td>0.0</td>\n",
       "    </tr>\n",
       "    <tr>\n",
       "      <th>77</th>\n",
       "      <td>0.544484</td>\n",
       "      <td>0.818636</td>\n",
       "      <td>0.949495</td>\n",
       "      <td>0.133333</td>\n",
       "      <td>0.0</td>\n",
       "      <td>0.775801</td>\n",
       "      <td>0.848076</td>\n",
       "      <td>0.949495</td>\n",
       "      <td>0.000000</td>\n",
       "      <td>0.0</td>\n",
       "      <td>0.487544</td>\n",
       "      <td>0.866577</td>\n",
       "      <td>0.949495</td>\n",
       "      <td>0.000000</td>\n",
       "      <td>0.0</td>\n",
       "      <td>0.334520</td>\n",
       "      <td>0.879271</td>\n",
       "      <td>0.949495</td>\n",
       "      <td>0.000000</td>\n",
       "      <td>0.0</td>\n",
       "      <td>0.338078</td>\n",
       "      <td>0.892100</td>\n",
       "      <td>0.959596</td>\n",
       "      <td>0.133333</td>\n",
       "      <td>0.0</td>\n",
       "      <td>0.160142</td>\n",
       "      <td>0.898177</td>\n",
       "      <td>0.959596</td>\n",
       "      <td>0.000000</td>\n",
       "      <td>0.0</td>\n",
       "      <td>0.316726</td>\n",
       "      <td>0.910196</td>\n",
       "      <td>0.969697</td>\n",
       "      <td>0.133333</td>\n",
       "      <td>0.0</td>\n",
       "    </tr>\n",
       "  </tbody>\n",
       "</table>\n",
       "<p>71 rows × 35 columns</p>\n",
       "</div>"
      ],
      "text/plain": [
       "    var1(t-7)  var2(t-7)  var3(t-7)  ...  var3(t-1)  var4(t-1)  var5(t-1)\n",
       "7    0.021352   0.079406   0.050505  ...   0.050505   0.000000        0.0\n",
       "8    0.003559   0.000000   0.000000  ...   0.050505   0.000000        0.0\n",
       "9    0.021352   0.079406   0.050505  ...   0.050505   0.000000        0.0\n",
       "10   0.021352   0.079406   0.050505  ...   0.050505   0.000000        0.0\n",
       "11   0.003559   0.000135   0.000000  ...   0.005051   0.066667        0.0\n",
       "..        ...        ...        ...  ...        ...        ...        ...\n",
       "73   0.672598   0.730182   0.924242  ...   0.949495   0.000000        0.0\n",
       "74   0.498221   0.749088   0.924242  ...   0.949495   0.000000        0.0\n",
       "75   0.580071   0.771101   0.939394  ...   0.959596   0.133333        0.0\n",
       "76   0.708185   0.797974   0.939394  ...   0.959596   0.000000        0.0\n",
       "77   0.544484   0.818636   0.949495  ...   0.969697   0.133333        0.0\n",
       "\n",
       "[71 rows x 35 columns]"
      ]
     },
     "execution_count": 65,
     "metadata": {
      "tags": []
     },
     "output_type": "execute_result"
    }
   ],
   "source": [
    "# drop columns we don't want to predict\n",
    "X_train = X_train.filter(regex=regex_find,axis=1)\n",
    "X_test=X_test.filter(regex=regex_find,axis=1)\n",
    "print(X_train.shape)\n",
    "print(X_test.shape)\n",
    "X_train\n"
   ]
  },
  {
   "cell_type": "code",
   "execution_count": 66,
   "metadata": {
    "colab": {
     "base_uri": "https://localhost:8080/",
     "height": 551
    },
    "colab_type": "code",
    "id": "dvLCFaExBN5m",
    "outputId": "042873d3-718b-4ada-d78b-32b4490c94ea"
   },
   "outputs": [
    {
     "data": {
      "text/html": [
       "<div>\n",
       "<style scoped>\n",
       "    .dataframe tbody tr th:only-of-type {\n",
       "        vertical-align: middle;\n",
       "    }\n",
       "\n",
       "    .dataframe tbody tr th {\n",
       "        vertical-align: top;\n",
       "    }\n",
       "\n",
       "    .dataframe thead th {\n",
       "        text-align: right;\n",
       "    }\n",
       "</style>\n",
       "<table border=\"1\" class=\"dataframe\">\n",
       "  <thead>\n",
       "    <tr style=\"text-align: right;\">\n",
       "      <th></th>\n",
       "      <th>var1(t-7)</th>\n",
       "      <th>var2(t-7)</th>\n",
       "      <th>var3(t-7)</th>\n",
       "      <th>var4(t-7)</th>\n",
       "      <th>var5(t-7)</th>\n",
       "      <th>var1(t-6)</th>\n",
       "      <th>var2(t-6)</th>\n",
       "      <th>var3(t-6)</th>\n",
       "      <th>var4(t-6)</th>\n",
       "      <th>var5(t-6)</th>\n",
       "      <th>var1(t-5)</th>\n",
       "      <th>var2(t-5)</th>\n",
       "      <th>var3(t-5)</th>\n",
       "      <th>var4(t-5)</th>\n",
       "      <th>var5(t-5)</th>\n",
       "      <th>var1(t-4)</th>\n",
       "      <th>var2(t-4)</th>\n",
       "      <th>var3(t-4)</th>\n",
       "      <th>var4(t-4)</th>\n",
       "      <th>var5(t-4)</th>\n",
       "      <th>var1(t-3)</th>\n",
       "      <th>var2(t-3)</th>\n",
       "      <th>var3(t-3)</th>\n",
       "      <th>var4(t-3)</th>\n",
       "      <th>var5(t-3)</th>\n",
       "      <th>var1(t-2)</th>\n",
       "      <th>var2(t-2)</th>\n",
       "      <th>var3(t-2)</th>\n",
       "      <th>var4(t-2)</th>\n",
       "      <th>var5(t-2)</th>\n",
       "      <th>var1(t-1)</th>\n",
       "      <th>var2(t-1)</th>\n",
       "      <th>var3(t-1)</th>\n",
       "      <th>var4(t-1)</th>\n",
       "      <th>var5(t-1)</th>\n",
       "    </tr>\n",
       "  </thead>\n",
       "  <tbody>\n",
       "    <tr>\n",
       "      <th>7</th>\n",
       "      <td>0.948718</td>\n",
       "      <td>0.000000</td>\n",
       "      <td>0.000000</td>\n",
       "      <td>0.0</td>\n",
       "      <td>0.0</td>\n",
       "      <td>0.547009</td>\n",
       "      <td>0.045006</td>\n",
       "      <td>0.000000</td>\n",
       "      <td>0.0</td>\n",
       "      <td>0.0</td>\n",
       "      <td>0.452991</td>\n",
       "      <td>0.083974</td>\n",
       "      <td>0.050000</td>\n",
       "      <td>0.5</td>\n",
       "      <td>0.0</td>\n",
       "      <td>0.786325</td>\n",
       "      <td>0.144347</td>\n",
       "      <td>0.099999</td>\n",
       "      <td>0.5</td>\n",
       "      <td>0.0</td>\n",
       "      <td>0.512821</td>\n",
       "      <td>0.187157</td>\n",
       "      <td>0.200000</td>\n",
       "      <td>1.0</td>\n",
       "      <td>0.0</td>\n",
       "      <td>0.880342</td>\n",
       "      <td>0.253568</td>\n",
       "      <td>0.250000</td>\n",
       "      <td>0.5</td>\n",
       "      <td>0.0</td>\n",
       "      <td>0.478633</td>\n",
       "      <td>0.294182</td>\n",
       "      <td>0.300000</td>\n",
       "      <td>0.5</td>\n",
       "      <td>0.0</td>\n",
       "    </tr>\n",
       "    <tr>\n",
       "      <th>8</th>\n",
       "      <td>0.547009</td>\n",
       "      <td>0.045006</td>\n",
       "      <td>0.000000</td>\n",
       "      <td>0.0</td>\n",
       "      <td>0.0</td>\n",
       "      <td>0.452991</td>\n",
       "      <td>0.083974</td>\n",
       "      <td>0.050000</td>\n",
       "      <td>0.5</td>\n",
       "      <td>0.0</td>\n",
       "      <td>0.786325</td>\n",
       "      <td>0.144347</td>\n",
       "      <td>0.099999</td>\n",
       "      <td>0.5</td>\n",
       "      <td>0.0</td>\n",
       "      <td>0.512821</td>\n",
       "      <td>0.187157</td>\n",
       "      <td>0.200000</td>\n",
       "      <td>1.0</td>\n",
       "      <td>0.0</td>\n",
       "      <td>0.880342</td>\n",
       "      <td>0.253568</td>\n",
       "      <td>0.250000</td>\n",
       "      <td>0.5</td>\n",
       "      <td>0.0</td>\n",
       "      <td>0.478633</td>\n",
       "      <td>0.294182</td>\n",
       "      <td>0.300000</td>\n",
       "      <td>0.5</td>\n",
       "      <td>0.0</td>\n",
       "      <td>0.076923</td>\n",
       "      <td>0.309001</td>\n",
       "      <td>0.349999</td>\n",
       "      <td>0.5</td>\n",
       "      <td>0.0</td>\n",
       "    </tr>\n",
       "    <tr>\n",
       "      <th>9</th>\n",
       "      <td>0.452991</td>\n",
       "      <td>0.083974</td>\n",
       "      <td>0.050000</td>\n",
       "      <td>0.5</td>\n",
       "      <td>0.0</td>\n",
       "      <td>0.786325</td>\n",
       "      <td>0.144347</td>\n",
       "      <td>0.099999</td>\n",
       "      <td>0.5</td>\n",
       "      <td>0.0</td>\n",
       "      <td>0.512821</td>\n",
       "      <td>0.187157</td>\n",
       "      <td>0.200000</td>\n",
       "      <td>1.0</td>\n",
       "      <td>0.0</td>\n",
       "      <td>0.880342</td>\n",
       "      <td>0.253568</td>\n",
       "      <td>0.250000</td>\n",
       "      <td>0.5</td>\n",
       "      <td>0.0</td>\n",
       "      <td>0.478633</td>\n",
       "      <td>0.294182</td>\n",
       "      <td>0.300000</td>\n",
       "      <td>0.5</td>\n",
       "      <td>0.0</td>\n",
       "      <td>0.076923</td>\n",
       "      <td>0.309001</td>\n",
       "      <td>0.349999</td>\n",
       "      <td>0.5</td>\n",
       "      <td>0.0</td>\n",
       "      <td>0.692308</td>\n",
       "      <td>0.363337</td>\n",
       "      <td>0.400000</td>\n",
       "      <td>0.5</td>\n",
       "      <td>0.0</td>\n",
       "    </tr>\n",
       "    <tr>\n",
       "      <th>10</th>\n",
       "      <td>0.786325</td>\n",
       "      <td>0.144347</td>\n",
       "      <td>0.099999</td>\n",
       "      <td>0.5</td>\n",
       "      <td>0.0</td>\n",
       "      <td>0.512821</td>\n",
       "      <td>0.187157</td>\n",
       "      <td>0.200000</td>\n",
       "      <td>1.0</td>\n",
       "      <td>0.0</td>\n",
       "      <td>0.880342</td>\n",
       "      <td>0.253568</td>\n",
       "      <td>0.250000</td>\n",
       "      <td>0.5</td>\n",
       "      <td>0.0</td>\n",
       "      <td>0.478633</td>\n",
       "      <td>0.294182</td>\n",
       "      <td>0.300000</td>\n",
       "      <td>0.5</td>\n",
       "      <td>0.0</td>\n",
       "      <td>0.076923</td>\n",
       "      <td>0.309001</td>\n",
       "      <td>0.349999</td>\n",
       "      <td>0.5</td>\n",
       "      <td>0.0</td>\n",
       "      <td>0.692308</td>\n",
       "      <td>0.363337</td>\n",
       "      <td>0.400000</td>\n",
       "      <td>0.5</td>\n",
       "      <td>0.0</td>\n",
       "      <td>0.230769</td>\n",
       "      <td>0.388035</td>\n",
       "      <td>0.500000</td>\n",
       "      <td>1.0</td>\n",
       "      <td>0.0</td>\n",
       "    </tr>\n",
       "    <tr>\n",
       "      <th>11</th>\n",
       "      <td>0.512821</td>\n",
       "      <td>0.187157</td>\n",
       "      <td>0.200000</td>\n",
       "      <td>1.0</td>\n",
       "      <td>0.0</td>\n",
       "      <td>0.880342</td>\n",
       "      <td>0.253568</td>\n",
       "      <td>0.250000</td>\n",
       "      <td>0.5</td>\n",
       "      <td>0.0</td>\n",
       "      <td>0.478633</td>\n",
       "      <td>0.294182</td>\n",
       "      <td>0.300000</td>\n",
       "      <td>0.5</td>\n",
       "      <td>0.0</td>\n",
       "      <td>0.076923</td>\n",
       "      <td>0.309001</td>\n",
       "      <td>0.349999</td>\n",
       "      <td>0.5</td>\n",
       "      <td>0.0</td>\n",
       "      <td>0.692308</td>\n",
       "      <td>0.363337</td>\n",
       "      <td>0.400000</td>\n",
       "      <td>0.5</td>\n",
       "      <td>0.0</td>\n",
       "      <td>0.230769</td>\n",
       "      <td>0.388035</td>\n",
       "      <td>0.500000</td>\n",
       "      <td>1.0</td>\n",
       "      <td>0.0</td>\n",
       "      <td>0.051282</td>\n",
       "      <td>0.401207</td>\n",
       "      <td>0.500000</td>\n",
       "      <td>0.0</td>\n",
       "      <td>0.0</td>\n",
       "    </tr>\n",
       "    <tr>\n",
       "      <th>12</th>\n",
       "      <td>0.880342</td>\n",
       "      <td>0.253568</td>\n",
       "      <td>0.250000</td>\n",
       "      <td>0.5</td>\n",
       "      <td>0.0</td>\n",
       "      <td>0.478633</td>\n",
       "      <td>0.294182</td>\n",
       "      <td>0.300000</td>\n",
       "      <td>0.5</td>\n",
       "      <td>0.0</td>\n",
       "      <td>0.076923</td>\n",
       "      <td>0.309001</td>\n",
       "      <td>0.349999</td>\n",
       "      <td>0.5</td>\n",
       "      <td>0.0</td>\n",
       "      <td>0.692308</td>\n",
       "      <td>0.363337</td>\n",
       "      <td>0.400000</td>\n",
       "      <td>0.5</td>\n",
       "      <td>0.0</td>\n",
       "      <td>0.230769</td>\n",
       "      <td>0.388035</td>\n",
       "      <td>0.500000</td>\n",
       "      <td>1.0</td>\n",
       "      <td>0.0</td>\n",
       "      <td>0.051282</td>\n",
       "      <td>0.401207</td>\n",
       "      <td>0.500000</td>\n",
       "      <td>0.0</td>\n",
       "      <td>0.0</td>\n",
       "      <td>0.205128</td>\n",
       "      <td>0.424259</td>\n",
       "      <td>0.500000</td>\n",
       "      <td>0.0</td>\n",
       "      <td>0.0</td>\n",
       "    </tr>\n",
       "    <tr>\n",
       "      <th>13</th>\n",
       "      <td>0.478633</td>\n",
       "      <td>0.294182</td>\n",
       "      <td>0.300000</td>\n",
       "      <td>0.5</td>\n",
       "      <td>0.0</td>\n",
       "      <td>0.076923</td>\n",
       "      <td>0.309001</td>\n",
       "      <td>0.349999</td>\n",
       "      <td>0.5</td>\n",
       "      <td>0.0</td>\n",
       "      <td>0.692308</td>\n",
       "      <td>0.363337</td>\n",
       "      <td>0.400000</td>\n",
       "      <td>0.5</td>\n",
       "      <td>0.0</td>\n",
       "      <td>0.230769</td>\n",
       "      <td>0.388035</td>\n",
       "      <td>0.500000</td>\n",
       "      <td>1.0</td>\n",
       "      <td>0.0</td>\n",
       "      <td>0.051282</td>\n",
       "      <td>0.401207</td>\n",
       "      <td>0.500000</td>\n",
       "      <td>0.0</td>\n",
       "      <td>0.0</td>\n",
       "      <td>0.205128</td>\n",
       "      <td>0.424259</td>\n",
       "      <td>0.500000</td>\n",
       "      <td>0.0</td>\n",
       "      <td>0.0</td>\n",
       "      <td>0.452991</td>\n",
       "      <td>0.463227</td>\n",
       "      <td>0.500000</td>\n",
       "      <td>0.0</td>\n",
       "      <td>0.0</td>\n",
       "    </tr>\n",
       "    <tr>\n",
       "      <th>14</th>\n",
       "      <td>0.076923</td>\n",
       "      <td>0.309001</td>\n",
       "      <td>0.349999</td>\n",
       "      <td>0.5</td>\n",
       "      <td>0.0</td>\n",
       "      <td>0.692308</td>\n",
       "      <td>0.363337</td>\n",
       "      <td>0.400000</td>\n",
       "      <td>0.5</td>\n",
       "      <td>0.0</td>\n",
       "      <td>0.230769</td>\n",
       "      <td>0.388035</td>\n",
       "      <td>0.500000</td>\n",
       "      <td>1.0</td>\n",
       "      <td>0.0</td>\n",
       "      <td>0.051282</td>\n",
       "      <td>0.401207</td>\n",
       "      <td>0.500000</td>\n",
       "      <td>0.0</td>\n",
       "      <td>0.0</td>\n",
       "      <td>0.205128</td>\n",
       "      <td>0.424259</td>\n",
       "      <td>0.500000</td>\n",
       "      <td>0.0</td>\n",
       "      <td>0.0</td>\n",
       "      <td>0.452991</td>\n",
       "      <td>0.463227</td>\n",
       "      <td>0.500000</td>\n",
       "      <td>0.0</td>\n",
       "      <td>0.0</td>\n",
       "      <td>0.410256</td>\n",
       "      <td>0.499451</td>\n",
       "      <td>0.599999</td>\n",
       "      <td>1.0</td>\n",
       "      <td>0.0</td>\n",
       "    </tr>\n",
       "    <tr>\n",
       "      <th>15</th>\n",
       "      <td>0.692308</td>\n",
       "      <td>0.363337</td>\n",
       "      <td>0.400000</td>\n",
       "      <td>0.5</td>\n",
       "      <td>0.0</td>\n",
       "      <td>0.230769</td>\n",
       "      <td>0.388035</td>\n",
       "      <td>0.500000</td>\n",
       "      <td>1.0</td>\n",
       "      <td>0.0</td>\n",
       "      <td>0.051282</td>\n",
       "      <td>0.401207</td>\n",
       "      <td>0.500000</td>\n",
       "      <td>0.0</td>\n",
       "      <td>0.0</td>\n",
       "      <td>0.205128</td>\n",
       "      <td>0.424259</td>\n",
       "      <td>0.500000</td>\n",
       "      <td>0.0</td>\n",
       "      <td>0.0</td>\n",
       "      <td>0.452991</td>\n",
       "      <td>0.463227</td>\n",
       "      <td>0.500000</td>\n",
       "      <td>0.0</td>\n",
       "      <td>0.0</td>\n",
       "      <td>0.410256</td>\n",
       "      <td>0.499451</td>\n",
       "      <td>0.599999</td>\n",
       "      <td>1.0</td>\n",
       "      <td>0.0</td>\n",
       "      <td>0.076923</td>\n",
       "      <td>0.514270</td>\n",
       "      <td>0.650000</td>\n",
       "      <td>0.5</td>\n",
       "      <td>0.0</td>\n",
       "    </tr>\n",
       "    <tr>\n",
       "      <th>16</th>\n",
       "      <td>0.230769</td>\n",
       "      <td>0.388035</td>\n",
       "      <td>0.500000</td>\n",
       "      <td>1.0</td>\n",
       "      <td>0.0</td>\n",
       "      <td>0.051282</td>\n",
       "      <td>0.401207</td>\n",
       "      <td>0.500000</td>\n",
       "      <td>0.0</td>\n",
       "      <td>0.0</td>\n",
       "      <td>0.205128</td>\n",
       "      <td>0.424259</td>\n",
       "      <td>0.500000</td>\n",
       "      <td>0.0</td>\n",
       "      <td>0.0</td>\n",
       "      <td>0.452991</td>\n",
       "      <td>0.463227</td>\n",
       "      <td>0.500000</td>\n",
       "      <td>0.0</td>\n",
       "      <td>0.0</td>\n",
       "      <td>0.410256</td>\n",
       "      <td>0.499451</td>\n",
       "      <td>0.599999</td>\n",
       "      <td>1.0</td>\n",
       "      <td>0.0</td>\n",
       "      <td>0.076923</td>\n",
       "      <td>0.514270</td>\n",
       "      <td>0.650000</td>\n",
       "      <td>0.5</td>\n",
       "      <td>0.0</td>\n",
       "      <td>0.068376</td>\n",
       "      <td>0.528540</td>\n",
       "      <td>0.650000</td>\n",
       "      <td>0.0</td>\n",
       "      <td>0.0</td>\n",
       "    </tr>\n",
       "    <tr>\n",
       "      <th>17</th>\n",
       "      <td>0.051282</td>\n",
       "      <td>0.401207</td>\n",
       "      <td>0.500000</td>\n",
       "      <td>0.0</td>\n",
       "      <td>0.0</td>\n",
       "      <td>0.205128</td>\n",
       "      <td>0.424259</td>\n",
       "      <td>0.500000</td>\n",
       "      <td>0.0</td>\n",
       "      <td>0.0</td>\n",
       "      <td>0.452991</td>\n",
       "      <td>0.463227</td>\n",
       "      <td>0.500000</td>\n",
       "      <td>0.0</td>\n",
       "      <td>0.0</td>\n",
       "      <td>0.410256</td>\n",
       "      <td>0.499451</td>\n",
       "      <td>0.599999</td>\n",
       "      <td>1.0</td>\n",
       "      <td>0.0</td>\n",
       "      <td>0.076923</td>\n",
       "      <td>0.514270</td>\n",
       "      <td>0.650000</td>\n",
       "      <td>0.5</td>\n",
       "      <td>0.0</td>\n",
       "      <td>0.068376</td>\n",
       "      <td>0.528540</td>\n",
       "      <td>0.650000</td>\n",
       "      <td>0.0</td>\n",
       "      <td>0.0</td>\n",
       "      <td>0.128205</td>\n",
       "      <td>0.546652</td>\n",
       "      <td>0.700000</td>\n",
       "      <td>0.5</td>\n",
       "      <td>0.0</td>\n",
       "    </tr>\n",
       "    <tr>\n",
       "      <th>18</th>\n",
       "      <td>0.205128</td>\n",
       "      <td>0.424259</td>\n",
       "      <td>0.500000</td>\n",
       "      <td>0.0</td>\n",
       "      <td>0.0</td>\n",
       "      <td>0.452991</td>\n",
       "      <td>0.463227</td>\n",
       "      <td>0.500000</td>\n",
       "      <td>0.0</td>\n",
       "      <td>0.0</td>\n",
       "      <td>0.410256</td>\n",
       "      <td>0.499451</td>\n",
       "      <td>0.599999</td>\n",
       "      <td>1.0</td>\n",
       "      <td>0.0</td>\n",
       "      <td>0.076923</td>\n",
       "      <td>0.514270</td>\n",
       "      <td>0.650000</td>\n",
       "      <td>0.5</td>\n",
       "      <td>0.0</td>\n",
       "      <td>0.068376</td>\n",
       "      <td>0.528540</td>\n",
       "      <td>0.650000</td>\n",
       "      <td>0.0</td>\n",
       "      <td>0.0</td>\n",
       "      <td>0.128205</td>\n",
       "      <td>0.546652</td>\n",
       "      <td>0.700000</td>\n",
       "      <td>0.5</td>\n",
       "      <td>0.0</td>\n",
       "      <td>0.324786</td>\n",
       "      <td>0.577388</td>\n",
       "      <td>0.700000</td>\n",
       "      <td>0.0</td>\n",
       "      <td>0.0</td>\n",
       "    </tr>\n",
       "    <tr>\n",
       "      <th>19</th>\n",
       "      <td>0.452991</td>\n",
       "      <td>0.463227</td>\n",
       "      <td>0.500000</td>\n",
       "      <td>0.0</td>\n",
       "      <td>0.0</td>\n",
       "      <td>0.410256</td>\n",
       "      <td>0.499451</td>\n",
       "      <td>0.599999</td>\n",
       "      <td>1.0</td>\n",
       "      <td>0.0</td>\n",
       "      <td>0.076923</td>\n",
       "      <td>0.514270</td>\n",
       "      <td>0.650000</td>\n",
       "      <td>0.5</td>\n",
       "      <td>0.0</td>\n",
       "      <td>0.068376</td>\n",
       "      <td>0.528540</td>\n",
       "      <td>0.650000</td>\n",
       "      <td>0.0</td>\n",
       "      <td>0.0</td>\n",
       "      <td>0.128205</td>\n",
       "      <td>0.546652</td>\n",
       "      <td>0.700000</td>\n",
       "      <td>0.5</td>\n",
       "      <td>0.0</td>\n",
       "      <td>0.324786</td>\n",
       "      <td>0.577388</td>\n",
       "      <td>0.700000</td>\n",
       "      <td>0.0</td>\n",
       "      <td>0.0</td>\n",
       "      <td>0.538462</td>\n",
       "      <td>0.621844</td>\n",
       "      <td>0.800000</td>\n",
       "      <td>1.0</td>\n",
       "      <td>0.0</td>\n",
       "    </tr>\n",
       "    <tr>\n",
       "      <th>20</th>\n",
       "      <td>0.410256</td>\n",
       "      <td>0.499451</td>\n",
       "      <td>0.599999</td>\n",
       "      <td>1.0</td>\n",
       "      <td>0.0</td>\n",
       "      <td>0.076923</td>\n",
       "      <td>0.514270</td>\n",
       "      <td>0.650000</td>\n",
       "      <td>0.5</td>\n",
       "      <td>0.0</td>\n",
       "      <td>0.068376</td>\n",
       "      <td>0.528540</td>\n",
       "      <td>0.650000</td>\n",
       "      <td>0.0</td>\n",
       "      <td>0.0</td>\n",
       "      <td>0.128205</td>\n",
       "      <td>0.546652</td>\n",
       "      <td>0.700000</td>\n",
       "      <td>0.5</td>\n",
       "      <td>0.0</td>\n",
       "      <td>0.324786</td>\n",
       "      <td>0.577388</td>\n",
       "      <td>0.700000</td>\n",
       "      <td>0.0</td>\n",
       "      <td>0.0</td>\n",
       "      <td>0.538462</td>\n",
       "      <td>0.621844</td>\n",
       "      <td>0.800000</td>\n",
       "      <td>1.0</td>\n",
       "      <td>0.0</td>\n",
       "      <td>0.427350</td>\n",
       "      <td>0.659166</td>\n",
       "      <td>0.800000</td>\n",
       "      <td>0.0</td>\n",
       "      <td>0.0</td>\n",
       "    </tr>\n",
       "    <tr>\n",
       "      <th>21</th>\n",
       "      <td>0.076923</td>\n",
       "      <td>0.514270</td>\n",
       "      <td>0.650000</td>\n",
       "      <td>0.5</td>\n",
       "      <td>0.0</td>\n",
       "      <td>0.068376</td>\n",
       "      <td>0.528540</td>\n",
       "      <td>0.650000</td>\n",
       "      <td>0.0</td>\n",
       "      <td>0.0</td>\n",
       "      <td>0.128205</td>\n",
       "      <td>0.546652</td>\n",
       "      <td>0.700000</td>\n",
       "      <td>0.5</td>\n",
       "      <td>0.0</td>\n",
       "      <td>0.324786</td>\n",
       "      <td>0.577388</td>\n",
       "      <td>0.700000</td>\n",
       "      <td>0.0</td>\n",
       "      <td>0.0</td>\n",
       "      <td>0.538462</td>\n",
       "      <td>0.621844</td>\n",
       "      <td>0.800000</td>\n",
       "      <td>1.0</td>\n",
       "      <td>0.0</td>\n",
       "      <td>0.427350</td>\n",
       "      <td>0.659166</td>\n",
       "      <td>0.800000</td>\n",
       "      <td>0.0</td>\n",
       "      <td>0.0</td>\n",
       "      <td>0.367521</td>\n",
       "      <td>0.692646</td>\n",
       "      <td>0.800000</td>\n",
       "      <td>0.0</td>\n",
       "      <td>0.0</td>\n",
       "    </tr>\n",
       "  </tbody>\n",
       "</table>\n",
       "</div>"
      ],
      "text/plain": [
       "    var1(t-7)  var2(t-7)  var3(t-7)  ...  var3(t-1)  var4(t-1)  var5(t-1)\n",
       "7    0.948718   0.000000   0.000000  ...   0.300000        0.5        0.0\n",
       "8    0.547009   0.045006   0.000000  ...   0.349999        0.5        0.0\n",
       "9    0.452991   0.083974   0.050000  ...   0.400000        0.5        0.0\n",
       "10   0.786325   0.144347   0.099999  ...   0.500000        1.0        0.0\n",
       "11   0.512821   0.187157   0.200000  ...   0.500000        0.0        0.0\n",
       "12   0.880342   0.253568   0.250000  ...   0.500000        0.0        0.0\n",
       "13   0.478633   0.294182   0.300000  ...   0.500000        0.0        0.0\n",
       "14   0.076923   0.309001   0.349999  ...   0.599999        1.0        0.0\n",
       "15   0.692308   0.363337   0.400000  ...   0.650000        0.5        0.0\n",
       "16   0.230769   0.388035   0.500000  ...   0.650000        0.0        0.0\n",
       "17   0.051282   0.401207   0.500000  ...   0.700000        0.5        0.0\n",
       "18   0.205128   0.424259   0.500000  ...   0.700000        0.0        0.0\n",
       "19   0.452991   0.463227   0.500000  ...   0.800000        1.0        0.0\n",
       "20   0.410256   0.499451   0.599999  ...   0.800000        0.0        0.0\n",
       "21   0.076923   0.514270   0.650000  ...   0.800000        0.0        0.0\n",
       "\n",
       "[15 rows x 35 columns]"
      ]
     },
     "execution_count": 66,
     "metadata": {
      "tags": []
     },
     "output_type": "execute_result"
    }
   ],
   "source": [
    "X_test"
   ]
  },
  {
   "cell_type": "code",
   "execution_count": 67,
   "metadata": {
    "colab": {
     "base_uri": "https://localhost:8080/",
     "height": 34
    },
    "colab_type": "code",
    "id": "HLhC2Nm39QuD",
    "outputId": "a69dfa6b-7563-4355-9068-731908e47baf"
   },
   "outputs": [
    {
     "name": "stdout",
     "output_type": "stream",
     "text": [
      "(15, 35)\n"
     ]
    }
   ],
   "source": [
    "print(X_test.shape)"
   ]
  },
  {
   "cell_type": "code",
   "execution_count": 68,
   "metadata": {
    "colab": {},
    "colab_type": "code",
    "id": "Ata5gkZB9QuL"
   },
   "outputs": [],
   "source": [
    "nb_col=5"
   ]
  },
  {
   "cell_type": "code",
   "execution_count": 69,
   "metadata": {
    "colab": {
     "base_uri": "https://localhost:8080/",
     "height": 117
    },
    "colab_type": "code",
    "id": "CeszEGTM_qcH",
    "outputId": "de58c369-f9d8-4599-e602-0346f865602a"
   },
   "outputs": [
    {
     "data": {
      "text/html": [
       "<div>\n",
       "<style scoped>\n",
       "    .dataframe tbody tr th:only-of-type {\n",
       "        vertical-align: middle;\n",
       "    }\n",
       "\n",
       "    .dataframe tbody tr th {\n",
       "        vertical-align: top;\n",
       "    }\n",
       "\n",
       "    .dataframe thead th {\n",
       "        text-align: right;\n",
       "    }\n",
       "</style>\n",
       "<table border=\"1\" class=\"dataframe\">\n",
       "  <thead>\n",
       "    <tr style=\"text-align: right;\">\n",
       "      <th></th>\n",
       "      <th>var1(t-7)</th>\n",
       "      <th>var2(t-7)</th>\n",
       "      <th>var3(t-7)</th>\n",
       "      <th>var4(t-7)</th>\n",
       "      <th>var5(t-7)</th>\n",
       "      <th>var1(t-6)</th>\n",
       "      <th>var2(t-6)</th>\n",
       "      <th>var3(t-6)</th>\n",
       "      <th>var4(t-6)</th>\n",
       "      <th>var5(t-6)</th>\n",
       "      <th>var1(t-5)</th>\n",
       "      <th>var2(t-5)</th>\n",
       "      <th>var3(t-5)</th>\n",
       "      <th>var4(t-5)</th>\n",
       "      <th>var5(t-5)</th>\n",
       "      <th>var1(t-4)</th>\n",
       "      <th>var2(t-4)</th>\n",
       "      <th>var3(t-4)</th>\n",
       "      <th>var4(t-4)</th>\n",
       "      <th>var5(t-4)</th>\n",
       "      <th>var1(t-3)</th>\n",
       "      <th>var2(t-3)</th>\n",
       "      <th>var3(t-3)</th>\n",
       "      <th>var4(t-3)</th>\n",
       "      <th>var5(t-3)</th>\n",
       "      <th>var1(t-2)</th>\n",
       "      <th>var2(t-2)</th>\n",
       "      <th>var3(t-2)</th>\n",
       "      <th>var4(t-2)</th>\n",
       "      <th>var5(t-2)</th>\n",
       "      <th>var1(t-1)</th>\n",
       "      <th>var2(t-1)</th>\n",
       "      <th>var3(t-1)</th>\n",
       "      <th>var4(t-1)</th>\n",
       "      <th>var5(t-1)</th>\n",
       "    </tr>\n",
       "  </thead>\n",
       "  <tbody>\n",
       "    <tr>\n",
       "      <th>7</th>\n",
       "      <td>0.948718</td>\n",
       "      <td>0.0</td>\n",
       "      <td>0.0</td>\n",
       "      <td>0.0</td>\n",
       "      <td>0.0</td>\n",
       "      <td>0.547009</td>\n",
       "      <td>0.045006</td>\n",
       "      <td>0.0</td>\n",
       "      <td>0.0</td>\n",
       "      <td>0.0</td>\n",
       "      <td>0.452991</td>\n",
       "      <td>0.083974</td>\n",
       "      <td>0.05</td>\n",
       "      <td>0.5</td>\n",
       "      <td>0.0</td>\n",
       "      <td>0.786325</td>\n",
       "      <td>0.144347</td>\n",
       "      <td>0.099999</td>\n",
       "      <td>0.5</td>\n",
       "      <td>0.0</td>\n",
       "      <td>0.512821</td>\n",
       "      <td>0.187157</td>\n",
       "      <td>0.2</td>\n",
       "      <td>1.0</td>\n",
       "      <td>0.0</td>\n",
       "      <td>0.880342</td>\n",
       "      <td>0.253568</td>\n",
       "      <td>0.25</td>\n",
       "      <td>0.5</td>\n",
       "      <td>0.0</td>\n",
       "      <td>0.478633</td>\n",
       "      <td>0.294182</td>\n",
       "      <td>0.3</td>\n",
       "      <td>0.5</td>\n",
       "      <td>0.0</td>\n",
       "    </tr>\n",
       "  </tbody>\n",
       "</table>\n",
       "</div>"
      ],
      "text/plain": [
       "   var1(t-7)  var2(t-7)  var3(t-7)  ...  var3(t-1)  var4(t-1)  var5(t-1)\n",
       "7   0.948718        0.0        0.0  ...        0.3        0.5        0.0\n",
       "\n",
       "[1 rows x 35 columns]"
      ]
     },
     "execution_count": 69,
     "metadata": {
      "tags": []
     },
     "output_type": "execute_result"
    }
   ],
   "source": [
    "X_test.head(1)"
   ]
  },
  {
   "cell_type": "code",
   "execution_count": 70,
   "metadata": {
    "colab": {
     "base_uri": "https://localhost:8080/",
     "height": 514
    },
    "colab_type": "code",
    "id": "wRQ4QzRI82xU",
    "outputId": "d4f40c56-4553-4f57-d318-5af6c4dac4c9"
   },
   "outputs": [
    {
     "data": {
      "text/html": [
       "<div>\n",
       "<style scoped>\n",
       "    .dataframe tbody tr th:only-of-type {\n",
       "        vertical-align: middle;\n",
       "    }\n",
       "\n",
       "    .dataframe tbody tr th {\n",
       "        vertical-align: top;\n",
       "    }\n",
       "\n",
       "    .dataframe thead th {\n",
       "        text-align: right;\n",
       "    }\n",
       "</style>\n",
       "<table border=\"1\" class=\"dataframe\">\n",
       "  <thead>\n",
       "    <tr style=\"text-align: right;\">\n",
       "      <th></th>\n",
       "      <th>var1(t)</th>\n",
       "      <th>var1(t+1)</th>\n",
       "      <th>var1(t+2)</th>\n",
       "      <th>var1(t+3)</th>\n",
       "      <th>var1(t+4)</th>\n",
       "      <th>var1(t+5)</th>\n",
       "      <th>var1(t+6)</th>\n",
       "    </tr>\n",
       "  </thead>\n",
       "  <tbody>\n",
       "    <tr>\n",
       "      <th>7</th>\n",
       "      <td>0.076923</td>\n",
       "      <td>0.692308</td>\n",
       "      <td>0.230769</td>\n",
       "      <td>0.051282</td>\n",
       "      <td>0.205128</td>\n",
       "      <td>0.452991</td>\n",
       "      <td>0.410256</td>\n",
       "    </tr>\n",
       "    <tr>\n",
       "      <th>8</th>\n",
       "      <td>0.692308</td>\n",
       "      <td>0.230769</td>\n",
       "      <td>0.051282</td>\n",
       "      <td>0.205128</td>\n",
       "      <td>0.452991</td>\n",
       "      <td>0.410256</td>\n",
       "      <td>0.076923</td>\n",
       "    </tr>\n",
       "    <tr>\n",
       "      <th>9</th>\n",
       "      <td>0.230769</td>\n",
       "      <td>0.051282</td>\n",
       "      <td>0.205128</td>\n",
       "      <td>0.452991</td>\n",
       "      <td>0.410256</td>\n",
       "      <td>0.076923</td>\n",
       "      <td>0.068376</td>\n",
       "    </tr>\n",
       "    <tr>\n",
       "      <th>10</th>\n",
       "      <td>0.051282</td>\n",
       "      <td>0.205128</td>\n",
       "      <td>0.452991</td>\n",
       "      <td>0.410256</td>\n",
       "      <td>0.076923</td>\n",
       "      <td>0.068376</td>\n",
       "      <td>0.128205</td>\n",
       "    </tr>\n",
       "    <tr>\n",
       "      <th>11</th>\n",
       "      <td>0.205128</td>\n",
       "      <td>0.452991</td>\n",
       "      <td>0.410256</td>\n",
       "      <td>0.076923</td>\n",
       "      <td>0.068376</td>\n",
       "      <td>0.128205</td>\n",
       "      <td>0.324786</td>\n",
       "    </tr>\n",
       "    <tr>\n",
       "      <th>12</th>\n",
       "      <td>0.452991</td>\n",
       "      <td>0.410256</td>\n",
       "      <td>0.076923</td>\n",
       "      <td>0.068376</td>\n",
       "      <td>0.128205</td>\n",
       "      <td>0.324786</td>\n",
       "      <td>0.538462</td>\n",
       "    </tr>\n",
       "    <tr>\n",
       "      <th>13</th>\n",
       "      <td>0.410256</td>\n",
       "      <td>0.076923</td>\n",
       "      <td>0.068376</td>\n",
       "      <td>0.128205</td>\n",
       "      <td>0.324786</td>\n",
       "      <td>0.538462</td>\n",
       "      <td>0.427350</td>\n",
       "    </tr>\n",
       "    <tr>\n",
       "      <th>14</th>\n",
       "      <td>0.076923</td>\n",
       "      <td>0.068376</td>\n",
       "      <td>0.128205</td>\n",
       "      <td>0.324786</td>\n",
       "      <td>0.538462</td>\n",
       "      <td>0.427350</td>\n",
       "      <td>0.367521</td>\n",
       "    </tr>\n",
       "    <tr>\n",
       "      <th>15</th>\n",
       "      <td>0.068376</td>\n",
       "      <td>0.128205</td>\n",
       "      <td>0.324786</td>\n",
       "      <td>0.538462</td>\n",
       "      <td>0.427350</td>\n",
       "      <td>0.367521</td>\n",
       "      <td>0.632479</td>\n",
       "    </tr>\n",
       "    <tr>\n",
       "      <th>16</th>\n",
       "      <td>0.128205</td>\n",
       "      <td>0.324786</td>\n",
       "      <td>0.538462</td>\n",
       "      <td>0.427350</td>\n",
       "      <td>0.367521</td>\n",
       "      <td>0.632479</td>\n",
       "      <td>0.512821</td>\n",
       "    </tr>\n",
       "    <tr>\n",
       "      <th>17</th>\n",
       "      <td>0.324786</td>\n",
       "      <td>0.538462</td>\n",
       "      <td>0.427350</td>\n",
       "      <td>0.367521</td>\n",
       "      <td>0.632479</td>\n",
       "      <td>0.512821</td>\n",
       "      <td>1.000000</td>\n",
       "    </tr>\n",
       "    <tr>\n",
       "      <th>18</th>\n",
       "      <td>0.538462</td>\n",
       "      <td>0.427350</td>\n",
       "      <td>0.367521</td>\n",
       "      <td>0.632479</td>\n",
       "      <td>0.512821</td>\n",
       "      <td>1.000000</td>\n",
       "      <td>0.000000</td>\n",
       "    </tr>\n",
       "    <tr>\n",
       "      <th>19</th>\n",
       "      <td>0.427350</td>\n",
       "      <td>0.367521</td>\n",
       "      <td>0.632479</td>\n",
       "      <td>0.512821</td>\n",
       "      <td>1.000000</td>\n",
       "      <td>0.000000</td>\n",
       "      <td>0.547009</td>\n",
       "    </tr>\n",
       "    <tr>\n",
       "      <th>20</th>\n",
       "      <td>0.367521</td>\n",
       "      <td>0.632479</td>\n",
       "      <td>0.512821</td>\n",
       "      <td>1.000000</td>\n",
       "      <td>0.000000</td>\n",
       "      <td>0.547009</td>\n",
       "      <td>0.470086</td>\n",
       "    </tr>\n",
       "    <tr>\n",
       "      <th>21</th>\n",
       "      <td>0.632479</td>\n",
       "      <td>0.512821</td>\n",
       "      <td>1.000000</td>\n",
       "      <td>0.000000</td>\n",
       "      <td>0.547009</td>\n",
       "      <td>0.470086</td>\n",
       "      <td>0.547009</td>\n",
       "    </tr>\n",
       "  </tbody>\n",
       "</table>\n",
       "</div>"
      ],
      "text/plain": [
       "     var1(t)  var1(t+1)  var1(t+2)  var1(t+3)  var1(t+4)  var1(t+5)  var1(t+6)\n",
       "7   0.076923   0.692308   0.230769   0.051282   0.205128   0.452991   0.410256\n",
       "8   0.692308   0.230769   0.051282   0.205128   0.452991   0.410256   0.076923\n",
       "9   0.230769   0.051282   0.205128   0.452991   0.410256   0.076923   0.068376\n",
       "10  0.051282   0.205128   0.452991   0.410256   0.076923   0.068376   0.128205\n",
       "11  0.205128   0.452991   0.410256   0.076923   0.068376   0.128205   0.324786\n",
       "12  0.452991   0.410256   0.076923   0.068376   0.128205   0.324786   0.538462\n",
       "13  0.410256   0.076923   0.068376   0.128205   0.324786   0.538462   0.427350\n",
       "14  0.076923   0.068376   0.128205   0.324786   0.538462   0.427350   0.367521\n",
       "15  0.068376   0.128205   0.324786   0.538462   0.427350   0.367521   0.632479\n",
       "16  0.128205   0.324786   0.538462   0.427350   0.367521   0.632479   0.512821\n",
       "17  0.324786   0.538462   0.427350   0.367521   0.632479   0.512821   1.000000\n",
       "18  0.538462   0.427350   0.367521   0.632479   0.512821   1.000000   0.000000\n",
       "19  0.427350   0.367521   0.632479   0.512821   1.000000   0.000000   0.547009\n",
       "20  0.367521   0.632479   0.512821   1.000000   0.000000   0.547009   0.470086\n",
       "21  0.632479   0.512821   1.000000   0.000000   0.547009   0.470086   0.547009"
      ]
     },
     "execution_count": 70,
     "metadata": {
      "tags": []
     },
     "output_type": "execute_result"
    }
   ],
   "source": [
    "Y_test"
   ]
  },
  {
   "cell_type": "code",
   "execution_count": 71,
   "metadata": {
    "colab": {
     "base_uri": "https://localhost:8080/",
     "height": 34
    },
    "colab_type": "code",
    "id": "07DmJEff9QuR",
    "outputId": "4b3d5f91-fa41-4721-de80-d969011c1f1c"
   },
   "outputs": [
    {
     "name": "stdout",
     "output_type": "stream",
     "text": [
      "(15, 1, 35) (15, 7) (71, 1, 35) (71, 7)\n"
     ]
    }
   ],
   "source": [
    "\n",
    "X_train=X_train.values\n",
    "X_test=X_test.values\n",
    "\n",
    "Y_train=Y_train.values\n",
    "Y_test=Y_test.values\n",
    "\n",
    "# reshape input to be 3D [samples, timesteps, features]\n",
    "X_test = X_test.reshape(X_test.shape[0], 1, X_test.shape[1])\n",
    "X_train = X_train.reshape(X_train.shape[0], 1, X_train.shape[1])\n",
    "\n",
    "print(X_test.shape, Y_test.shape, X_train.shape, Y_train.shape)\n"
   ]
  },
  {
   "cell_type": "code",
   "execution_count": 72,
   "metadata": {
    "colab": {
     "base_uri": "https://localhost:8080/",
     "height": 34
    },
    "colab_type": "code",
    "id": "eJREoCRk9QuY",
    "outputId": "1d3cec0c-69fb-4418-957b-c6cbd29b4001"
   },
   "outputs": [
    {
     "name": "stdout",
     "output_type": "stream",
     "text": [
      "(15, 1, 35) (15, 7) (71, 1, 35) (71, 7)\n"
     ]
    }
   ],
   "source": [
    "\n",
    "n_input = X_train.shape[1] * X_train.shape[2]\n",
    "X_train= X_train.reshape((X_train.shape[0], n_input))\n",
    "n_input2 = X_test.shape[1] * X_test.shape[2]\n",
    "X_test= X_test.reshape((X_test.shape[0], n_input2))\n",
    "\n",
    "print(X_test.shape, Y_test.shape, X_train.shape, Y_train.shape)"
   ]
  },
  {
   "cell_type": "code",
   "execution_count": 73,
   "metadata": {
    "colab": {},
    "colab_type": "code",
    "id": "ub47_80krKWx"
   },
   "outputs": [],
   "source": [
    "# evaluate one or more weekly forecasts against expected values\n",
    "def evaluate_forecasts(actual, predicted):\n",
    "\tscores = list()\n",
    "\t# calculate an RMSE score for each day\n",
    "\tfor i in range(actual.shape[1]):\n",
    "\t\t# calculate mse\n",
    "\t\tmse = mean_squared_error(actual[:, i], predicted[:, i])\n",
    "\t\t# calculate rmse\n",
    "\t\trmse = sqrt(mse)\n",
    "\t\t# store\n",
    "\t\tscores.append(rmse)\n",
    "\t# calculate overall RMSE\n",
    "\ts = 0\n",
    "\tfor row in range(actual.shape[0]):\n",
    "\t\tfor col in range(actual.shape[1]):\n",
    "\t\t\ts += (actual[row, col] - predicted[row, col])**2\n",
    "\tscore = sqrt(s / (actual.shape[0] * actual.shape[1]))\n",
    "\treturn score, scores"
   ]
  },
  {
   "cell_type": "code",
   "execution_count": 74,
   "metadata": {
    "colab": {},
    "colab_type": "code",
    "id": "NB-CCOIZrapK"
   },
   "outputs": [],
   "source": [
    "# summarize scores\n",
    "def summarize_scores(name, score, scores):\n",
    "\ts_scores = ', '.join(['%.1f' % s for s in scores])\n",
    "\tprint('%s: [%.3f] %s' % (name, score, s_scores))"
   ]
  },
  {
   "cell_type": "code",
   "execution_count": 75,
   "metadata": {
    "colab": {
     "base_uri": "https://localhost:8080/",
     "height": 51
    },
    "colab_type": "code",
    "id": "ZHOezS_-j1ZK",
    "outputId": "534b4398-219f-47d2-fff2-0f847631fae4"
   },
   "outputs": [
    {
     "data": {
      "text/plain": [
       "array([0.07692309, 0.6923078 , 0.23076923, 0.05128206, 0.20512821,\n",
       "       0.4529915 , 0.41025645], dtype=float32)"
      ]
     },
     "execution_count": 75,
     "metadata": {
      "tags": []
     },
     "output_type": "execute_result"
    }
   ],
   "source": [
    "Y_test[0]"
   ]
  },
  {
   "cell_type": "code",
   "execution_count": 76,
   "metadata": {
    "colab": {
     "base_uri": "https://localhost:8080/",
     "height": 153
    },
    "colab_type": "code",
    "id": "Wow-x_Bi_i7k",
    "outputId": "a071e5be-118f-4337-e3c4-8b60b24066e0"
   },
   "outputs": [
    {
     "data": {
      "text/plain": [
       "array([[0.07692309, 0.30900097, 0.34999943, 0.5       , 0.        ,\n",
       "        0.6923078 , 0.36333704, 0.39999962, 0.5       , 0.        ,\n",
       "        0.23076923, 0.3880353 , 0.5       , 1.        , 0.        ,\n",
       "        0.05128206, 0.40120745, 0.5       , 0.        , 0.        ,\n",
       "        0.20512821, 0.4242592 , 0.5       , 0.        , 0.        ,\n",
       "        0.4529915 , 0.46322727, 0.5       , 0.        , 0.        ,\n",
       "        0.41025645, 0.49945116, 0.5999994 , 1.        , 0.        ]],\n",
       "      dtype=float32)"
      ]
     },
     "execution_count": 76,
     "metadata": {
      "tags": []
     },
     "output_type": "execute_result"
    }
   ],
   "source": [
    "X_test[7]"
   ]
  },
  {
   "cell_type": "code",
   "execution_count": null,
   "metadata": {},
   "outputs": [],
   "source": [
    "# IMPORT ML Regressor\n",
    "from sklearn.linear_model import LinearRegression # Linear regression\n",
    "from sklearn.ensemble import RandomForestRegressor # random forest regression\n",
    "from sklearn.neural_network import MLPRegressor # neural network regression\n",
    "from sklearn.svm import SVR # support vector regression"
   ]
  },
  {
   "cell_type": "code",
   "execution_count": null,
   "metadata": {},
   "outputs": [],
   "source": []
  },
  {
   "cell_type": "code",
   "execution_count": 405,
   "metadata": {
    "colab": {
     "base_uri": "https://localhost:8080/",
     "height": 1000
    },
    "colab_type": "code",
    "id": "FPUs6FDUj-kn",
    "outputId": "150599fb-1448-4dfe-ee3c-1c5410af5fd1"
   },
   "outputs": [
    {
     "name": "stdout",
     "output_type": "stream",
     "text": [
      "(71, 1, 35)\n",
      "Epoch 1/1000\n",
      "71/71 [==============================] - 1s 8ms/step - loss: 0.1066 - val_loss: 0.0599\n",
      "Epoch 2/1000\n",
      "71/71 [==============================] - 0s 3ms/step - loss: 0.0385 - val_loss: 0.0697\n",
      "Epoch 3/1000\n",
      "71/71 [==============================] - 0s 3ms/step - loss: 0.0297 - val_loss: 0.0738\n",
      "Epoch 4/1000\n",
      "71/71 [==============================] - 0s 3ms/step - loss: 0.0283 - val_loss: 0.0707\n",
      "Epoch 5/1000\n",
      "71/71 [==============================] - 0s 3ms/step - loss: 0.0288 - val_loss: 0.0641\n",
      "Epoch 6/1000\n",
      "71/71 [==============================] - 0s 2ms/step - loss: 0.0287 - val_loss: 0.0669\n",
      "Epoch 7/1000\n",
      "71/71 [==============================] - 0s 3ms/step - loss: 0.0267 - val_loss: 0.0615\n",
      "Epoch 8/1000\n",
      "71/71 [==============================] - 0s 3ms/step - loss: 0.0263 - val_loss: 0.0603\n",
      "Epoch 9/1000\n",
      "71/71 [==============================] - 0s 3ms/step - loss: 0.0263 - val_loss: 0.0590\n",
      "Epoch 10/1000\n",
      "71/71 [==============================] - 0s 3ms/step - loss: 0.0255 - val_loss: 0.0669\n",
      "Epoch 11/1000\n",
      "71/71 [==============================] - 0s 3ms/step - loss: 0.0242 - val_loss: 0.0585\n",
      "Epoch 12/1000\n",
      "71/71 [==============================] - 0s 3ms/step - loss: 0.0237 - val_loss: 0.0687\n",
      "Epoch 13/1000\n",
      "71/71 [==============================] - 0s 3ms/step - loss: 0.0236 - val_loss: 0.0564\n",
      "Epoch 14/1000\n",
      "71/71 [==============================] - 0s 3ms/step - loss: 0.0237 - val_loss: 0.0664\n",
      "Epoch 15/1000\n",
      "71/71 [==============================] - 0s 3ms/step - loss: 0.0227 - val_loss: 0.0544\n",
      "Epoch 16/1000\n",
      "71/71 [==============================] - 0s 3ms/step - loss: 0.0219 - val_loss: 0.0529\n",
      "Epoch 17/1000\n",
      "71/71 [==============================] - 0s 2ms/step - loss: 0.0227 - val_loss: 0.0557\n",
      "Epoch 18/1000\n",
      "71/71 [==============================] - 0s 2ms/step - loss: 0.0204 - val_loss: 0.0688\n",
      "Epoch 19/1000\n",
      "71/71 [==============================] - 0s 3ms/step - loss: 0.0205 - val_loss: 0.0552\n",
      "Epoch 20/1000\n",
      "71/71 [==============================] - 0s 3ms/step - loss: 0.0200 - val_loss: 0.0764\n",
      "Epoch 21/1000\n",
      "71/71 [==============================] - 0s 2ms/step - loss: 0.0201 - val_loss: 0.0600\n",
      "Epoch 22/1000\n",
      "71/71 [==============================] - 0s 3ms/step - loss: 0.0195 - val_loss: 0.0629\n",
      "Epoch 23/1000\n",
      "71/71 [==============================] - 0s 3ms/step - loss: 0.0190 - val_loss: 0.0689\n",
      "Epoch 24/1000\n",
      "71/71 [==============================] - 0s 3ms/step - loss: 0.0185 - val_loss: 0.0768\n",
      "Epoch 25/1000\n",
      "71/71 [==============================] - 0s 3ms/step - loss: 0.0193 - val_loss: 0.0537\n",
      "Epoch 26/1000\n",
      "71/71 [==============================] - 0s 3ms/step - loss: 0.0188 - val_loss: 0.0589\n",
      "Epoch 27/1000\n",
      "71/71 [==============================] - 0s 3ms/step - loss: 0.0180 - val_loss: 0.0669\n",
      "Epoch 28/1000\n",
      "71/71 [==============================] - 0s 3ms/step - loss: 0.0178 - val_loss: 0.0686\n",
      "Epoch 29/1000\n",
      "71/71 [==============================] - 0s 3ms/step - loss: 0.0176 - val_loss: 0.0781\n",
      "Epoch 30/1000\n",
      "71/71 [==============================] - 0s 3ms/step - loss: 0.0171 - val_loss: 0.0674\n",
      "Epoch 31/1000\n",
      "71/71 [==============================] - 0s 3ms/step - loss: 0.0172 - val_loss: 0.0726\n",
      "Epoch 32/1000\n",
      "71/71 [==============================] - 0s 2ms/step - loss: 0.0164 - val_loss: 0.0601\n",
      "Epoch 33/1000\n",
      "71/71 [==============================] - 0s 2ms/step - loss: 0.0168 - val_loss: 0.0799\n",
      "Epoch 34/1000\n",
      "71/71 [==============================] - 0s 3ms/step - loss: 0.0164 - val_loss: 0.0785\n",
      "Epoch 35/1000\n",
      "71/71 [==============================] - 0s 3ms/step - loss: 0.0160 - val_loss: 0.0826\n",
      "Epoch 36/1000\n",
      "71/71 [==============================] - 0s 3ms/step - loss: 0.0162 - val_loss: 0.0758\n",
      "Model: \"sequential_8\"\n",
      "_________________________________________________________________\n",
      "Layer (type)                 Output Shape              Param #   \n",
      "=================================================================\n",
      "lstm_16 (LSTM)               (None, 1, 100)            54400     \n",
      "_________________________________________________________________\n",
      "lstm_17 (LSTM)               (None, 100)               80400     \n",
      "_________________________________________________________________\n",
      "dense_8 (Dense)              (None, 7)                 707       \n",
      "=================================================================\n",
      "Total params: 135,507\n",
      "Trainable params: 135,507\n",
      "Non-trainable params: 0\n",
      "_________________________________________________________________\n"
     ]
    },
    {
     "data": {
      "image/png": "[encoded data removed]",
      "text/plain": [
       "<Figure size 432x288 with 1 Axes>"
      ]
     },
     "metadata": {
      "needs_background": "light",
      "tags": []
     },
     "output_type": "display_data"
    },
    {
     "name": "stdout",
     "output_type": "stream",
     "text": [
      "(71, 7)\n",
      "(71, 7)\n",
      "(71, 7)\n",
      "score_train: [14.228] 14.8, 15.2, 14.5, 15.0, 14.4, 12.6, 12.7\n",
      "(15, 1, 35)\n",
      "score_test: [32.222] 29.3, 40.5, 30.7, 47.3, 12.0, 29.6, 24.0\n"
     ]
    }
   ],
   "source": [
    "from tensorflow.keras.callbacks import EarlyStopping\n",
    "\n",
    "print(X_train.shape)\n",
    "model = keras.Sequential()  \n",
    "model.add(LSTM(100, activation='relu',return_sequences=True, input_shape=(X_train.shape[1], X_train.shape[2])))\n",
    "model.add(LSTM(100, activation='relu'))\n",
    "#model.add(Dropout(0.2))\n",
    "model.add(Dense(n_out))\n",
    "model.compile(optimizer='adam', loss='mse')\n",
    "\n",
    "history = model.fit(X_train, Y_train, epochs=1000,batch_size=1, validation_data=(X_test[[0,7,14]], Y_test[[0,7,14]]), \n",
    "                callbacks=[EarlyStopping(monitor='val_loss', patience=20)], verbose=1)\n",
    "model.summary()\n",
    "# plot history\n",
    "pyplot.plot(history.history['loss'], label='train')\n",
    "pyplot.plot(history.history['val_loss'], label='test')\n",
    "pyplot.legend()\n",
    "pyplot.show()\n",
    "\n",
    "pred_train = model.predict(X_train)\n",
    "print(pred_train.shape)\n",
    "pred_train = pred_train.reshape(-1,n_out)\n",
    "\n",
    "print(Y_train.shape)\n",
    "print(pred_train.shape)\n",
    "score_train ,scores_train = evaluate_forecasts(scaler2.inverse_transform(Y_train) ,scaler2.inverse_transform(pred_train))\n",
    "summarize_scores('score_train', score_train, scores_train) \n",
    "\n",
    "print(X_test.shape)\n",
    "prediction = model.predict(X_test) \n",
    "prediction = prediction.reshape(-1, n_out)\n",
    "\n",
    "\n",
    "score_test ,scores_test = evaluate_forecasts(scaler2.inverse_transform(Y_test[[0,7,14]]) ,scaler2.inverse_transform(prediction[[0,7,14]]))\n",
    "summarize_scores('score_test', score_test, scores_test) \n"
   ]
  },
  {
   "cell_type": "code",
   "execution_count": 406,
   "metadata": {
    "colab": {
     "base_uri": "https://localhost:8080/",
     "height": 255
    },
    "colab_type": "code",
    "id": "O0JXetbKkUyO",
    "outputId": "ce1318d3-b517-49d3-a1fe-bda1c389cff7"
   },
   "outputs": [
    {
     "name": "stdout",
     "output_type": "stream",
     "text": [
      "Model: \"sequential_8\"\n",
      "_________________________________________________________________\n",
      "Layer (type)                 Output Shape              Param #   \n",
      "=================================================================\n",
      "lstm_16 (LSTM)               (None, 1, 100)            54400     \n",
      "_________________________________________________________________\n",
      "lstm_17 (LSTM)               (None, 100)               80400     \n",
      "_________________________________________________________________\n",
      "dense_8 (Dense)              (None, 7)                 707       \n",
      "=================================================================\n",
      "Total params: 135,507\n",
      "Trainable params: 135,507\n",
      "Non-trainable params: 0\n",
      "_________________________________________________________________\n"
     ]
    }
   ],
   "source": [
    "model.summary()"
   ]
  },
  {
   "cell_type": "code",
   "execution_count": 407,
   "metadata": {
    "colab": {
     "base_uri": "https://localhost:8080/",
     "height": 34
    },
    "colab_type": "code",
    "id": "o6Rka0jF9Qun",
    "outputId": "b78ea6e0-8cd1-4e12-aea4-43b8f8334829"
   },
   "outputs": [
    {
     "data": {
      "text/plain": [
       "(3, 7)"
      ]
     },
     "execution_count": 407,
     "metadata": {
      "tags": []
     },
     "output_type": "execute_result"
    }
   ],
   "source": [
    "from sklearn.metrics import mean_squared_error\n",
    "from sklearn.metrics import mean_absolute_error\n",
    "\n",
    "\n",
    "# make a prediction\n",
    "yhat = model.predict(X_test[[0,7,14]])\n",
    "yhat.shape "
   ]
  },
  {
   "cell_type": "code",
   "execution_count": 408,
   "metadata": {
    "colab": {},
    "colab_type": "code",
    "id": "CY6FfnRNkQEd"
   },
   "outputs": [],
   "source": [
    "yhat = yhat.reshape(-1, yhat.shape[-1])"
   ]
  },
  {
   "cell_type": "code",
   "execution_count": 409,
   "metadata": {
    "colab": {},
    "colab_type": "code",
    "id": "ATgV091YkhFP"
   },
   "outputs": [],
   "source": [
    "#yhat"
   ]
  },
  {
   "cell_type": "code",
   "execution_count": 410,
   "metadata": {
    "colab": {},
    "colab_type": "code",
    "id": "bRqbH081j3q4"
   },
   "outputs": [],
   "source": [
    "# invert scaling for forecast\n",
    "y_test_pred = scaler2.inverse_transform(yhat)\n",
    "#print(inv_yhat)\n",
    "# invert scaling for actual\n",
    "Y_test_true =Y_test[[0,7,14]]\n",
    "Y_test_true = Y_test_true.reshape(-1, Y_test_true.shape[-1])\n",
    "y_test_true= scaler2.inverse_transform(Y_test_true)\n",
    "#print(inv_y)"
   ]
  },
  {
   "cell_type": "code",
   "execution_count": 411,
   "metadata": {
    "colab": {
     "base_uri": "https://localhost:8080/",
     "height": 136
    },
    "colab_type": "code",
    "id": "EdfBSFCL6bR_",
    "outputId": "1271c93b-c3d4-4464-c2ca-2677b70a0d0d"
   },
   "outputs": [
    {
     "data": {
      "text/plain": [
       "DatetimeIndex(['2020-05-25', '2020-05-26', '2020-05-27', '2020-05-28',\n",
       "               '2020-05-29', '2020-05-30', '2020-05-31', '2020-06-01',\n",
       "               '2020-06-02', '2020-06-03', '2020-06-04', '2020-06-05',\n",
       "               '2020-06-06', '2020-06-07', '2020-06-08', '2020-06-09',\n",
       "               '2020-06-10', '2020-06-11', '2020-06-12', '2020-06-13',\n",
       "               '2020-06-14'],\n",
       "              dtype='datetime64[ns]', name='timestamp', freq=None)"
      ]
     },
     "execution_count": 411,
     "metadata": {
      "tags": []
     },
     "output_type": "execute_result"
    }
   ],
   "source": [
    "days"
   ]
  },
  {
   "cell_type": "code",
   "execution_count": 412,
   "metadata": {
    "colab": {},
    "colab_type": "code",
    "id": "4M0t6w-y9Qu1"
   },
   "outputs": [],
   "source": [
    "test_res=pd.DataFrame()\n",
    "test_res['Prediction']=y_test_pred.flatten()[0:21]\n",
    "test_res['real']=y_test_true.flatten()[0:21]\n",
    "test_res.set_index(days,inplace=True)"
   ]
  },
  {
   "cell_type": "code",
   "execution_count": 413,
   "metadata": {
    "colab": {
     "base_uri": "https://localhost:8080/",
     "height": 731
    },
    "colab_type": "code",
    "id": "WA9i7Thc9Qu6",
    "outputId": "8c2d4298-0f6c-437b-d7fc-523b6c9b6aa6"
   },
   "outputs": [
    {
     "data": {
      "text/html": [
       "<div>\n",
       "<style scoped>\n",
       "    .dataframe tbody tr th:only-of-type {\n",
       "        vertical-align: middle;\n",
       "    }\n",
       "\n",
       "    .dataframe tbody tr th {\n",
       "        vertical-align: top;\n",
       "    }\n",
       "\n",
       "    .dataframe thead th {\n",
       "        text-align: right;\n",
       "    }\n",
       "</style>\n",
       "<table border=\"1\" class=\"dataframe\">\n",
       "  <thead>\n",
       "    <tr style=\"text-align: right;\">\n",
       "      <th></th>\n",
       "      <th>Prediction</th>\n",
       "      <th>real</th>\n",
       "    </tr>\n",
       "    <tr>\n",
       "      <th>timestamp</th>\n",
       "      <th></th>\n",
       "      <th></th>\n",
       "    </tr>\n",
       "  </thead>\n",
       "  <tbody>\n",
       "    <tr>\n",
       "      <th>2020-05-25</th>\n",
       "      <td>60.819275</td>\n",
       "      <td>27.0</td>\n",
       "    </tr>\n",
       "    <tr>\n",
       "      <th>2020-05-26</th>\n",
       "      <td>52.204041</td>\n",
       "      <td>99.0</td>\n",
       "    </tr>\n",
       "    <tr>\n",
       "      <th>2020-05-27</th>\n",
       "      <td>36.361649</td>\n",
       "      <td>45.0</td>\n",
       "    </tr>\n",
       "    <tr>\n",
       "      <th>2020-05-28</th>\n",
       "      <td>9.209795</td>\n",
       "      <td>24.0</td>\n",
       "    </tr>\n",
       "    <tr>\n",
       "      <th>2020-05-29</th>\n",
       "      <td>39.487926</td>\n",
       "      <td>42.0</td>\n",
       "    </tr>\n",
       "    <tr>\n",
       "      <th>2020-05-30</th>\n",
       "      <td>105.498817</td>\n",
       "      <td>71.0</td>\n",
       "    </tr>\n",
       "    <tr>\n",
       "      <th>2020-05-31</th>\n",
       "      <td>91.993652</td>\n",
       "      <td>66.0</td>\n",
       "    </tr>\n",
       "    <tr>\n",
       "      <th>2020-06-01</th>\n",
       "      <td>63.672100</td>\n",
       "      <td>27.0</td>\n",
       "    </tr>\n",
       "    <tr>\n",
       "      <th>2020-06-02</th>\n",
       "      <td>69.910637</td>\n",
       "      <td>26.0</td>\n",
       "    </tr>\n",
       "    <tr>\n",
       "      <th>2020-06-03</th>\n",
       "      <td>72.228546</td>\n",
       "      <td>33.0</td>\n",
       "    </tr>\n",
       "    <tr>\n",
       "      <th>2020-06-04</th>\n",
       "      <td>75.942505</td>\n",
       "      <td>56.0</td>\n",
       "    </tr>\n",
       "    <tr>\n",
       "      <th>2020-06-05</th>\n",
       "      <td>82.770004</td>\n",
       "      <td>81.0</td>\n",
       "    </tr>\n",
       "    <tr>\n",
       "      <th>2020-06-06</th>\n",
       "      <td>89.986382</td>\n",
       "      <td>68.0</td>\n",
       "    </tr>\n",
       "    <tr>\n",
       "      <th>2020-06-07</th>\n",
       "      <td>88.795227</td>\n",
       "      <td>61.0</td>\n",
       "    </tr>\n",
       "    <tr>\n",
       "      <th>2020-06-08</th>\n",
       "      <td>101.408142</td>\n",
       "      <td>92.0</td>\n",
       "    </tr>\n",
       "    <tr>\n",
       "      <th>2020-06-09</th>\n",
       "      <td>106.172676</td>\n",
       "      <td>78.0</td>\n",
       "    </tr>\n",
       "    <tr>\n",
       "      <th>2020-06-10</th>\n",
       "      <td>100.214363</td>\n",
       "      <td>135.0</td>\n",
       "    </tr>\n",
       "    <tr>\n",
       "      <th>2020-06-11</th>\n",
       "      <td>96.028786</td>\n",
       "      <td>18.0</td>\n",
       "    </tr>\n",
       "    <tr>\n",
       "      <th>2020-06-12</th>\n",
       "      <td>102.557671</td>\n",
       "      <td>82.0</td>\n",
       "    </tr>\n",
       "    <tr>\n",
       "      <th>2020-06-13</th>\n",
       "      <td>103.760963</td>\n",
       "      <td>73.0</td>\n",
       "    </tr>\n",
       "    <tr>\n",
       "      <th>2020-06-14</th>\n",
       "      <td>98.928391</td>\n",
       "      <td>82.0</td>\n",
       "    </tr>\n",
       "  </tbody>\n",
       "</table>\n",
       "</div>"
      ],
      "text/plain": [
       "            Prediction   real\n",
       "timestamp                    \n",
       "2020-05-25   60.819275   27.0\n",
       "2020-05-26   52.204041   99.0\n",
       "2020-05-27   36.361649   45.0\n",
       "2020-05-28    9.209795   24.0\n",
       "2020-05-29   39.487926   42.0\n",
       "2020-05-30  105.498817   71.0\n",
       "2020-05-31   91.993652   66.0\n",
       "2020-06-01   63.672100   27.0\n",
       "2020-06-02   69.910637   26.0\n",
       "2020-06-03   72.228546   33.0\n",
       "2020-06-04   75.942505   56.0\n",
       "2020-06-05   82.770004   81.0\n",
       "2020-06-06   89.986382   68.0\n",
       "2020-06-07   88.795227   61.0\n",
       "2020-06-08  101.408142   92.0\n",
       "2020-06-09  106.172676   78.0\n",
       "2020-06-10  100.214363  135.0\n",
       "2020-06-11   96.028786   18.0\n",
       "2020-06-12  102.557671   82.0\n",
       "2020-06-13  103.760963   73.0\n",
       "2020-06-14   98.928391   82.0"
      ]
     },
     "execution_count": 413,
     "metadata": {
      "tags": []
     },
     "output_type": "execute_result"
    }
   ],
   "source": [
    "test_res"
   ]
  },
  {
   "cell_type": "code",
   "execution_count": 414,
   "metadata": {
    "colab": {
     "base_uri": "https://localhost:8080/",
     "height": 419
    },
    "colab_type": "code",
    "id": "d1pT_ju99QvG",
    "outputId": "954ba31d-cfb5-4462-98f7-11b88b02c417"
   },
   "outputs": [
    {
     "data": {
      "image/png": "[encoded data removed]",
      "text/plain": [
       "<Figure size 1080x504 with 1 Axes>"
      ]
     },
     "metadata": {
      "needs_background": "light",
      "tags": []
     },
     "output_type": "display_data"
    }
   ],
   "source": [
    "\n",
    "import pandas as pd\n",
    "import numpy as np; np.random.seed(1)\n",
    "import matplotlib.pyplot as plt\n",
    "\n",
    "fig, ax = plt.subplots(figsize=(15,7))\n",
    "plt.plot(test_res.index, test_res['real'],  label='Actual Values')\n",
    "plt.plot(test_res.index, test_res['Prediction'], label='Predicted Values')\n",
    "# If you don't like the break in the graph, change 90 to 89 in the above line\n",
    "plt.gcf().autofmt_xdate()\n",
    "plt.legend()\n",
    "plt.show()\n",
    "\n",
    "\n"
   ]
  },
  {
   "cell_type": "code",
   "execution_count": 415,
   "metadata": {
    "colab": {
     "base_uri": "https://localhost:8080/",
     "height": 119
    },
    "colab_type": "code",
    "id": "Yinhn68bce83",
    "outputId": "d2d125fc-d736-4e5e-ae67-82f832f65afc"
   },
   "outputs": [
    {
     "name": "stdout",
     "output_type": "stream",
     "text": [
      "Test Metrics\n",
      "MSE: 1038.28\n",
      "RMSE: 32.22\n",
      "MAE: 27.48\n",
      "R Squared: -0.21\n",
      "Max Error: 78.03\n"
     ]
    }
   ],
   "source": [
    "import numpy as np \n",
    "from sklearn import metrics\n",
    "print('Test Metrics')\n",
    "print('MSE:', round(metrics.mean_squared_error(test_res['real'], test_res['Prediction']), 2))\n",
    "print('RMSE:',round( np.sqrt(metrics.mean_squared_error(test_res['real'], test_res['Prediction'])), 2))\n",
    "print('MAE:', round(metrics.mean_absolute_error(test_res['real'], test_res['Prediction']), 2))\n",
    "print('R Squared:', round( metrics.r2_score(test_res['real'], test_res['Prediction']), 2))\n",
    "print('Max Error:',round(  metrics.max_error(test_res['real'], test_res['Prediction']), 2))\n"
   ]
  },
  {
   "cell_type": "code",
   "execution_count": 416,
   "metadata": {
    "colab": {
     "base_uri": "https://localhost:8080/",
     "height": 34
    },
    "colab_type": "code",
    "id": "7ar1xh7-3-Oa",
    "outputId": "8f443a5c-e1af-414c-8e2a-a6b4d4d38e77"
   },
   "outputs": [
    {
     "data": {
      "text/plain": [
       "(71, 7)"
      ]
     },
     "execution_count": 416,
     "metadata": {
      "tags": []
     },
     "output_type": "execute_result"
    }
   ],
   "source": [
    "# make a prediction\n",
    "y_train_pred = model.predict(X_train)\n",
    "y_train_pred .shape"
   ]
  },
  {
   "cell_type": "code",
   "execution_count": 417,
   "metadata": {
    "colab": {
     "base_uri": "https://localhost:8080/",
     "height": 34
    },
    "colab_type": "code",
    "id": "2bt8X-nT4UPx",
    "outputId": "b0e848ca-ec6b-4d1c-f97f-cf895bb10c3e"
   },
   "outputs": [
    {
     "data": {
      "text/plain": [
       "(71, 7)"
      ]
     },
     "execution_count": 417,
     "metadata": {
      "tags": []
     },
     "output_type": "execute_result"
    }
   ],
   "source": [
    "y_train_pred = y_train_pred.reshape(y_train_pred.shape[0], y_train_pred.shape[1])\n",
    "y_train_pred.shape"
   ]
  },
  {
   "cell_type": "code",
   "execution_count": 418,
   "metadata": {
    "colab": {},
    "colab_type": "code",
    "id": "8fqgcl4LaD3K"
   },
   "outputs": [],
   "source": [
    "\n",
    "# invert scaling for forecast\n",
    "\n",
    "y_train_pred = scaler2.inverse_transform(y_train_pred)\n",
    "Y_train_true = Y_train.reshape((len(Y_train), n_out))\n",
    "\n",
    "y_train_real = scaler2.inverse_transform(Y_train_true )"
   ]
  },
  {
   "cell_type": "code",
   "execution_count": 419,
   "metadata": {
    "colab": {},
    "colab_type": "code",
    "id": "gMyemZvlBLLR"
   },
   "outputs": [],
   "source": [
    "\n",
    "# Flatten for final errors\n",
    "Y_train_pred_bis = y_train_pred.flatten()\n",
    "Y_train_real_bis = y_train_real.flatten()"
   ]
  },
  {
   "cell_type": "code",
   "execution_count": 420,
   "metadata": {
    "colab": {
     "base_uri": "https://localhost:8080/",
     "height": 51
    },
    "colab_type": "code",
    "id": "iASDypR9BjEx",
    "outputId": "09a3fe67-933f-4e19-8d70-d4ca4b9cd764"
   },
   "outputs": [
    {
     "data": {
      "text/plain": [
       "array([23.25629 , 22.734936, 22.70877 , 23.89793 , 25.731447, 24.190193,\n",
       "       26.796167], dtype=float32)"
      ]
     },
     "execution_count": 420,
     "metadata": {
      "tags": []
     },
     "output_type": "execute_result"
    }
   ],
   "source": [
    "y_train_pred[0]"
   ]
  },
  {
   "cell_type": "code",
   "execution_count": 421,
   "metadata": {
    "colab": {},
    "colab_type": "code",
    "id": "d8xsDUPiBQZw"
   },
   "outputs": [],
   "source": [
    "#For plot \n",
    "filter_indices = [0,5,11,17,23,29,35,41,47,53,59]\n",
    "y_train_pred = y_train_pred [filter_indices ]"
   ]
  },
  {
   "cell_type": "code",
   "execution_count": 422,
   "metadata": {
    "colab": {},
    "colab_type": "code",
    "id": "vlpVvivQBNIj"
   },
   "outputs": [],
   "source": [
    "# Part of train dataset\n",
    "y_train_real= y_train_real[filter_indices]\n",
    "Y_train_pred = y_train_pred.flatten()\n",
    "Y_train_real = y_train_real.flatten()"
   ]
  },
  {
   "cell_type": "code",
   "execution_count": 423,
   "metadata": {
    "colab": {
     "base_uri": "https://localhost:8080/",
     "height": 34
    },
    "colab_type": "code",
    "id": "wVL4cb5FbOYU",
    "outputId": "32eff3af-2c23-4eef-d4fd-83514060a92b"
   },
   "outputs": [
    {
     "data": {
      "text/plain": [
       "(71, 1, 35)"
      ]
     },
     "execution_count": 423,
     "metadata": {
      "tags": []
     },
     "output_type": "execute_result"
    }
   ],
   "source": [
    "mask = (df['date'] >= start_date) & (df['date'] <= end_date) &  (df['location'].isin(['Morocco']))\n",
    "date_train = df.loc[mask].date.sort_index(axis = 0) \n",
    "X_train.shape"
   ]
  },
  {
   "cell_type": "code",
   "execution_count": 424,
   "metadata": {
    "colab": {
     "base_uri": "https://localhost:8080/",
     "height": 153
    },
    "colab_type": "code",
    "id": "BVGITNMNCkOx",
    "outputId": "70dffe1d-86f8-4b5f-ed9e-84958ad81044"
   },
   "outputs": [
    {
     "data": {
      "text/plain": [
       "22661   2020-03-02\n",
       "22662   2020-03-03\n",
       "22663   2020-03-04\n",
       "22664   2020-03-05\n",
       "22665   2020-03-06\n",
       "22666   2020-03-07\n",
       "22667   2020-03-08\n",
       "Name: date, dtype: datetime64[ns]"
      ]
     },
     "execution_count": 424,
     "metadata": {
      "tags": []
     },
     "output_type": "execute_result"
    }
   ],
   "source": [
    "date_train.head(7)"
   ]
  },
  {
   "cell_type": "code",
   "execution_count": 425,
   "metadata": {
    "colab": {
     "base_uri": "https://localhost:8080/",
     "height": 34
    },
    "colab_type": "code",
    "id": "p4vhRCj1dp_d",
    "outputId": "cdebc70a-77da-4da4-8318-20325d691ea7"
   },
   "outputs": [
    {
     "data": {
      "text/plain": [
       "77"
      ]
     },
     "execution_count": 425,
     "metadata": {
      "tags": []
     },
     "output_type": "execute_result"
    }
   ],
   "source": [
    "taille_x = date_train.shape[0] - nb_seq\n",
    "taille_x "
   ]
  },
  {
   "cell_type": "code",
   "execution_count": 426,
   "metadata": {
    "colab": {},
    "colab_type": "code",
    "id": "RyiMOEmybx2V"
   },
   "outputs": [],
   "source": [
    "date_train = date_train.values.flatten()"
   ]
  },
  {
   "cell_type": "code",
   "execution_count": 427,
   "metadata": {
    "colab": {},
    "colab_type": "code",
    "id": "Gxq3TvRLcFSh"
   },
   "outputs": [],
   "source": [
    "prediction_train = pd.DataFrame(columns=['date_to_prediction','true_value','predict'])"
   ]
  },
  {
   "cell_type": "code",
   "execution_count": 428,
   "metadata": {
    "colab": {
     "base_uri": "https://localhost:8080/",
     "height": 34
    },
    "colab_type": "code",
    "id": "eiKGrG4Ii6en",
    "outputId": "c471a310-cce7-45ec-8b4f-467cbc016802"
   },
   "outputs": [
    {
     "data": {
      "text/plain": [
       "(77,)"
      ]
     },
     "execution_count": 428,
     "metadata": {
      "tags": []
     },
     "output_type": "execute_result"
    }
   ],
   "source": [
    "Y_train_pred.shape"
   ]
  },
  {
   "cell_type": "code",
   "execution_count": 429,
   "metadata": {
    "colab": {
     "base_uri": "https://localhost:8080/",
     "height": 34
    },
    "colab_type": "code",
    "id": "0LQJBwfPjN_2",
    "outputId": "0b72a024-d91f-49c1-bb68-c9e7b54a69b2"
   },
   "outputs": [
    {
     "data": {
      "text/plain": [
       "(77,)"
      ]
     },
     "execution_count": 429,
     "metadata": {
      "tags": []
     },
     "output_type": "execute_result"
    }
   ],
   "source": [
    "Y_train_real.shape"
   ]
  },
  {
   "cell_type": "code",
   "execution_count": 430,
   "metadata": {
    "colab": {
     "base_uri": "https://localhost:8080/",
     "height": 34
    },
    "colab_type": "code",
    "id": "uycdPz5Yjevr",
    "outputId": "0992979f-f9fe-4b3b-d66f-5f761691ce5d"
   },
   "outputs": [
    {
     "data": {
      "text/plain": [
       "(84,)"
      ]
     },
     "execution_count": 430,
     "metadata": {
      "tags": []
     },
     "output_type": "execute_result"
    }
   ],
   "source": [
    "date_train.shape"
   ]
  },
  {
   "cell_type": "code",
   "execution_count": 431,
   "metadata": {
    "colab": {
     "base_uri": "https://localhost:8080/",
     "height": 34
    },
    "colab_type": "code",
    "id": "73zLQfJI8gJS",
    "outputId": "bd092c1d-e5c4-431a-f266-506e1c658879"
   },
   "outputs": [
    {
     "data": {
      "text/plain": [
       "(77,)"
      ]
     },
     "execution_count": 431,
     "metadata": {
      "tags": []
     },
     "output_type": "execute_result"
    }
   ],
   "source": [
    "date_train[nb_seq:].shape"
   ]
  },
  {
   "cell_type": "code",
   "execution_count": 432,
   "metadata": {
    "colab": {
     "base_uri": "https://localhost:8080/",
     "height": 34
    },
    "colab_type": "code",
    "id": "Qwj36E7E1UdD",
    "outputId": "a7b9f76b-3446-4118-9ee5-dd10b83a57ef"
   },
   "outputs": [
    {
     "data": {
      "text/plain": [
       "0"
      ]
     },
     "execution_count": 432,
     "metadata": {
      "tags": []
     },
     "output_type": "execute_result"
    }
   ],
   "source": [
    "suite_size = Y_train_real.shape[0]- date_train[nb_seq:].shape[0]\n",
    "suite_size "
   ]
  },
  {
   "cell_type": "code",
   "execution_count": 433,
   "metadata": {
    "colab": {
     "base_uri": "https://localhost:8080/",
     "height": 34
    },
    "colab_type": "code",
    "id": "Mazim5ta2d0m",
    "outputId": "cdc30130-0e5f-492b-ffb5-a296f731091b"
   },
   "outputs": [
    {
     "data": {
      "text/plain": [
       "(0,)"
      ]
     },
     "execution_count": 433,
     "metadata": {
      "tags": []
     },
     "output_type": "execute_result"
    }
   ],
   "source": [
    "Y_train_real[:-suite_size].shape"
   ]
  },
  {
   "cell_type": "code",
   "execution_count": 434,
   "metadata": {
    "colab": {
     "base_uri": "https://localhost:8080/",
     "height": 34
    },
    "colab_type": "code",
    "id": "KZdJEoPB61IL",
    "outputId": "e35f008f-da64-4af2-a451-450c639baf6d"
   },
   "outputs": [
    {
     "data": {
      "text/plain": [
       "(77,)"
      ]
     },
     "execution_count": 434,
     "metadata": {
      "tags": []
     },
     "output_type": "execute_result"
    }
   ],
   "source": [
    "date_train[nb_seq:].shape"
   ]
  },
  {
   "cell_type": "code",
   "execution_count": 435,
   "metadata": {
    "colab": {
     "base_uri": "https://localhost:8080/",
     "height": 34
    },
    "colab_type": "code",
    "id": "TAxKWC6-66LL",
    "outputId": "760608b0-3a85-4060-b72d-305d7f143bc2"
   },
   "outputs": [
    {
     "data": {
      "text/plain": [
       "(0,)"
      ]
     },
     "execution_count": 435,
     "metadata": {
      "tags": []
     },
     "output_type": "execute_result"
    }
   ],
   "source": [
    "Y_train_pred[:-suite_size].shape"
   ]
  },
  {
   "cell_type": "code",
   "execution_count": 436,
   "metadata": {
    "colab": {
     "base_uri": "https://localhost:8080/",
     "height": 34
    },
    "colab_type": "code",
    "id": "o--CWWcb69x4",
    "outputId": "edf2dcdd-3200-4078-891a-81acf6dbc840"
   },
   "outputs": [
    {
     "data": {
      "text/plain": [
       "(0,)"
      ]
     },
     "execution_count": 436,
     "metadata": {
      "tags": []
     },
     "output_type": "execute_result"
    }
   ],
   "source": [
    "Y_train_real[:-suite_size].shape"
   ]
  },
  {
   "cell_type": "code",
   "execution_count": 437,
   "metadata": {
    "colab": {},
    "colab_type": "code",
    "id": "QjaDIQYGTMOh"
   },
   "outputs": [],
   "source": [
    "date_trainX = date_train[nb_seq:]"
   ]
  },
  {
   "cell_type": "code",
   "execution_count": 438,
   "metadata": {
    "colab": {
     "base_uri": "https://localhost:8080/",
     "height": 34
    },
    "colab_type": "code",
    "id": "4POl8PunTixf",
    "outputId": "3a8af9fc-a265-438f-ae3b-751b92c360ba"
   },
   "outputs": [
    {
     "data": {
      "text/plain": [
       "(77,)"
      ]
     },
     "execution_count": 438,
     "metadata": {
      "tags": []
     },
     "output_type": "execute_result"
    }
   ],
   "source": [
    "date_trainX[0:Y_train_pred.shape[0]].shape"
   ]
  },
  {
   "cell_type": "code",
   "execution_count": 439,
   "metadata": {
    "colab": {},
    "colab_type": "code",
    "id": "qTkkDa2AZC9n"
   },
   "outputs": [],
   "source": [
    "prediction_train['date_to_prediction'] = date_trainX[0:Y_train_pred.shape[0]]\n",
    "prediction_train['predict'] = Y_train_pred\n",
    "prediction_train['true_value'] = Y_train_real\n"
   ]
  },
  {
   "cell_type": "code",
   "execution_count": 440,
   "metadata": {
    "colab": {},
    "colab_type": "code",
    "id": "BGidw3_SgNwa"
   },
   "outputs": [],
   "source": [
    "prediction_train['date_to_prediction'] = pd.to_datetime(prediction_train['date_to_prediction'], infer_datetime_format=True)"
   ]
  },
  {
   "cell_type": "code",
   "execution_count": 441,
   "metadata": {
    "colab": {},
    "colab_type": "code",
    "id": "-ZPGwmwagGDF"
   },
   "outputs": [],
   "source": [
    "prediction_train.set_index('date_to_prediction',inplace=True)"
   ]
  },
  {
   "cell_type": "code",
   "execution_count": 442,
   "metadata": {
    "colab": {
     "base_uri": "https://localhost:8080/",
     "height": 700
    },
    "colab_type": "code",
    "id": "dkR4xh_Wfr4z",
    "outputId": "9c85d2a7-1582-4e99-8255-bdf19d0fd868"
   },
   "outputs": [
    {
     "data": {
      "text/html": [
       "<div>\n",
       "<style scoped>\n",
       "    .dataframe tbody tr th:only-of-type {\n",
       "        vertical-align: middle;\n",
       "    }\n",
       "\n",
       "    .dataframe tbody tr th {\n",
       "        vertical-align: top;\n",
       "    }\n",
       "\n",
       "    .dataframe thead th {\n",
       "        text-align: right;\n",
       "    }\n",
       "</style>\n",
       "<table border=\"1\" class=\"dataframe\">\n",
       "  <thead>\n",
       "    <tr style=\"text-align: right;\">\n",
       "      <th></th>\n",
       "      <th>true_value</th>\n",
       "      <th>predict</th>\n",
       "    </tr>\n",
       "    <tr>\n",
       "      <th>date_to_prediction</th>\n",
       "      <th></th>\n",
       "      <th></th>\n",
       "    </tr>\n",
       "  </thead>\n",
       "  <tbody>\n",
       "    <tr>\n",
       "      <th>2020-03-09</th>\n",
       "      <td>20.498219</td>\n",
       "      <td>23.256290</td>\n",
       "    </tr>\n",
       "    <tr>\n",
       "      <th>2020-03-10</th>\n",
       "      <td>20.498219</td>\n",
       "      <td>22.734936</td>\n",
       "    </tr>\n",
       "    <tr>\n",
       "      <th>2020-03-11</th>\n",
       "      <td>20.498219</td>\n",
       "      <td>22.708771</td>\n",
       "    </tr>\n",
       "    <tr>\n",
       "      <th>2020-03-12</th>\n",
       "      <td>19.249111</td>\n",
       "      <td>23.897930</td>\n",
       "    </tr>\n",
       "    <tr>\n",
       "      <th>2020-03-13</th>\n",
       "      <td>18.416370</td>\n",
       "      <td>25.731447</td>\n",
       "    </tr>\n",
       "    <tr>\n",
       "      <th>2020-03-14</th>\n",
       "      <td>18.416370</td>\n",
       "      <td>24.190193</td>\n",
       "    </tr>\n",
       "    <tr>\n",
       "      <th>2020-03-15</th>\n",
       "      <td>22.580070</td>\n",
       "      <td>26.796167</td>\n",
       "    </tr>\n",
       "    <tr>\n",
       "      <th>2020-03-16</th>\n",
       "      <td>18.416370</td>\n",
       "      <td>23.257206</td>\n",
       "    </tr>\n",
       "    <tr>\n",
       "      <th>2020-03-17</th>\n",
       "      <td>22.580070</td>\n",
       "      <td>22.798672</td>\n",
       "    </tr>\n",
       "    <tr>\n",
       "      <th>2020-03-18</th>\n",
       "      <td>22.163700</td>\n",
       "      <td>22.689739</td>\n",
       "    </tr>\n",
       "    <tr>\n",
       "      <th>2020-03-19</th>\n",
       "      <td>21.747330</td>\n",
       "      <td>23.984470</td>\n",
       "    </tr>\n",
       "    <tr>\n",
       "      <th>2020-03-20</th>\n",
       "      <td>20.914591</td>\n",
       "      <td>25.751986</td>\n",
       "    </tr>\n",
       "    <tr>\n",
       "      <th>2020-03-21</th>\n",
       "      <td>22.163700</td>\n",
       "      <td>24.299025</td>\n",
       "    </tr>\n",
       "    <tr>\n",
       "      <th>2020-03-22</th>\n",
       "      <td>21.747330</td>\n",
       "      <td>26.860027</td>\n",
       "    </tr>\n",
       "    <tr>\n",
       "      <th>2020-03-23</th>\n",
       "      <td>21.747330</td>\n",
       "      <td>26.296200</td>\n",
       "    </tr>\n",
       "    <tr>\n",
       "      <th>2020-03-24</th>\n",
       "      <td>27.576513</td>\n",
       "      <td>27.365017</td>\n",
       "    </tr>\n",
       "    <tr>\n",
       "      <th>2020-03-25</th>\n",
       "      <td>22.163700</td>\n",
       "      <td>27.867340</td>\n",
       "    </tr>\n",
       "    <tr>\n",
       "      <th>2020-03-26</th>\n",
       "      <td>25.911032</td>\n",
       "      <td>27.826309</td>\n",
       "    </tr>\n",
       "    <tr>\n",
       "      <th>2020-03-27</th>\n",
       "      <td>25.911032</td>\n",
       "      <td>30.299030</td>\n",
       "    </tr>\n",
       "    <tr>\n",
       "      <th>2020-03-28</th>\n",
       "      <td>32.989323</td>\n",
       "      <td>33.560509</td>\n",
       "    </tr>\n",
       "  </tbody>\n",
       "</table>\n",
       "</div>"
      ],
      "text/plain": [
       "                    true_value    predict\n",
       "date_to_prediction                       \n",
       "2020-03-09           20.498219  23.256290\n",
       "2020-03-10           20.498219  22.734936\n",
       "2020-03-11           20.498219  22.708771\n",
       "2020-03-12           19.249111  23.897930\n",
       "2020-03-13           18.416370  25.731447\n",
       "2020-03-14           18.416370  24.190193\n",
       "2020-03-15           22.580070  26.796167\n",
       "2020-03-16           18.416370  23.257206\n",
       "2020-03-17           22.580070  22.798672\n",
       "2020-03-18           22.163700  22.689739\n",
       "2020-03-19           21.747330  23.984470\n",
       "2020-03-20           20.914591  25.751986\n",
       "2020-03-21           22.163700  24.299025\n",
       "2020-03-22           21.747330  26.860027\n",
       "2020-03-23           21.747330  26.296200\n",
       "2020-03-24           27.576513  27.365017\n",
       "2020-03-25           22.163700  27.867340\n",
       "2020-03-26           25.911032  27.826309\n",
       "2020-03-27           25.911032  30.299030\n",
       "2020-03-28           32.989323  33.560509"
      ]
     },
     "execution_count": 442,
     "metadata": {
      "tags": []
     },
     "output_type": "execute_result"
    }
   ],
   "source": [
    "prediction_train.head(20)"
   ]
  },
  {
   "cell_type": "code",
   "execution_count": 443,
   "metadata": {
    "colab": {
     "base_uri": "https://localhost:8080/",
     "height": 390
    },
    "colab_type": "code",
    "id": "qrAAcYr1kJDS",
    "outputId": "c1f7577b-4ac3-4b29-880b-dea5bc04338d"
   },
   "outputs": [
    {
     "data": {
      "text/html": [
       "<div>\n",
       "<style scoped>\n",
       "    .dataframe tbody tr th:only-of-type {\n",
       "        vertical-align: middle;\n",
       "    }\n",
       "\n",
       "    .dataframe tbody tr th {\n",
       "        vertical-align: top;\n",
       "    }\n",
       "\n",
       "    .dataframe thead th {\n",
       "        text-align: right;\n",
       "    }\n",
       "</style>\n",
       "<table border=\"1\" class=\"dataframe\">\n",
       "  <thead>\n",
       "    <tr style=\"text-align: right;\">\n",
       "      <th></th>\n",
       "      <th>true_value</th>\n",
       "      <th>predict</th>\n",
       "    </tr>\n",
       "    <tr>\n",
       "      <th>date_to_prediction</th>\n",
       "      <th></th>\n",
       "      <th></th>\n",
       "    </tr>\n",
       "  </thead>\n",
       "  <tbody>\n",
       "    <tr>\n",
       "      <th>2020-05-15</th>\n",
       "      <td>76.291809</td>\n",
       "      <td>78.924232</td>\n",
       "    </tr>\n",
       "    <tr>\n",
       "      <th>2020-05-16</th>\n",
       "      <td>91.281128</td>\n",
       "      <td>81.375511</td>\n",
       "    </tr>\n",
       "    <tr>\n",
       "      <th>2020-05-17</th>\n",
       "      <td>96.693947</td>\n",
       "      <td>78.931480</td>\n",
       "    </tr>\n",
       "    <tr>\n",
       "      <th>2020-05-18</th>\n",
       "      <td>96.693947</td>\n",
       "      <td>87.287819</td>\n",
       "    </tr>\n",
       "    <tr>\n",
       "      <th>2020-05-19</th>\n",
       "      <td>76.291809</td>\n",
       "      <td>92.195770</td>\n",
       "    </tr>\n",
       "    <tr>\n",
       "      <th>2020-05-20</th>\n",
       "      <td>85.868317</td>\n",
       "      <td>87.219193</td>\n",
       "    </tr>\n",
       "    <tr>\n",
       "      <th>2020-05-21</th>\n",
       "      <td>100.857651</td>\n",
       "      <td>81.190071</td>\n",
       "    </tr>\n",
       "    <tr>\n",
       "      <th>2020-05-22</th>\n",
       "      <td>81.704620</td>\n",
       "      <td>83.865173</td>\n",
       "    </tr>\n",
       "    <tr>\n",
       "      <th>2020-05-23</th>\n",
       "      <td>108.768677</td>\n",
       "      <td>86.195969</td>\n",
       "    </tr>\n",
       "    <tr>\n",
       "      <th>2020-05-24</th>\n",
       "      <td>75.042702</td>\n",
       "      <td>81.591316</td>\n",
       "    </tr>\n",
       "  </tbody>\n",
       "</table>\n",
       "</div>"
      ],
      "text/plain": [
       "                    true_value    predict\n",
       "date_to_prediction                       \n",
       "2020-05-15           76.291809  78.924232\n",
       "2020-05-16           91.281128  81.375511\n",
       "2020-05-17           96.693947  78.931480\n",
       "2020-05-18           96.693947  87.287819\n",
       "2020-05-19           76.291809  92.195770\n",
       "2020-05-20           85.868317  87.219193\n",
       "2020-05-21          100.857651  81.190071\n",
       "2020-05-22           81.704620  83.865173\n",
       "2020-05-23          108.768677  86.195969\n",
       "2020-05-24           75.042702  81.591316"
      ]
     },
     "execution_count": 443,
     "metadata": {
      "tags": []
     },
     "output_type": "execute_result"
    }
   ],
   "source": [
    "prediction_train.tail(10)"
   ]
  },
  {
   "cell_type": "code",
   "execution_count": 444,
   "metadata": {
    "colab": {
     "base_uri": "https://localhost:8080/",
     "height": 407
    },
    "colab_type": "code",
    "id": "DmuakLBwcSGK",
    "outputId": "48c80333-c5e9-4c58-fe59-1dfcd72795b1"
   },
   "outputs": [
    {
     "data": {
      "application/vnd.google.colaboratory.intrinsic+json": {
       "type": "string"
      },
      "text/plain": [
       "\"\\nfig, ax = plt.subplots(figsize=(15,7))\\nplt.plot(test_res.index, test_res['real'],  label='Actual Values')\\nplt.plot(test_res.index, test_res['Prediction'], label='Predicted Values')\\n# If you don't like the break in the graph, change 90 to 89 in the above line\\nplt.gcf().autofmt_xdate()\\nplt.legend()\\nplt.show()\\n\""
      ]
     },
     "execution_count": 444,
     "metadata": {
      "tags": []
     },
     "output_type": "execute_result"
    },
    {
     "data": {
      "image/png": "[encoded data removed]",
      "text/plain": [
       "<Figure size 1080x360 with 1 Axes>"
      ]
     },
     "metadata": {
      "needs_background": "light",
      "tags": []
     },
     "output_type": "display_data"
    }
   ],
   "source": [
    "# Prédiction du train vs la réalité \n",
    "prediction_train.plot(figsize=(15,5))\n",
    "'''\n",
    "fig, ax = plt.subplots(figsize=(15,7))\n",
    "plt.plot(test_res.index, test_res['real'],  label='Actual Values')\n",
    "plt.plot(test_res.index, test_res['Prediction'], label='Predicted Values')\n",
    "# If you don't like the break in the graph, change 90 to 89 in the above line\n",
    "plt.gcf().autofmt_xdate()\n",
    "plt.legend()\n",
    "plt.show()\n",
    "'''"
   ]
  },
  {
   "cell_type": "code",
   "execution_count": 445,
   "metadata": {
    "colab": {
     "base_uri": "https://localhost:8080/",
     "height": 119
    },
    "colab_type": "code",
    "id": "sRONIqi8cTFb",
    "outputId": "17309eb7-9b87-49aa-feee-e0dad73e45de"
   },
   "outputs": [
    {
     "name": "stdout",
     "output_type": "stream",
     "text": [
      "Trains Metrics\n",
      "MSE 202.45\n",
      "RMSE 14.23\n",
      "MAE 10.22\n",
      "R2 0.75\n",
      "maxError 53.28\n"
     ]
    }
   ],
   "source": [
    "print('Trains Metrics')\n",
    "loss = tf.keras.losses.mean_squared_error(Y_train_real_bis, Y_train_pred_bis )\n",
    "print('MSE',\"{:.2f}\".format(loss))\n",
    "rmse = tf.sqrt(tf.losses.mean_squared_error(Y_train_real_bis, Y_train_pred_bis ))\n",
    "print('RMSE',\"{:.2f}\".format(rmse))\n",
    "loss2 = tf.keras.losses.MAE(Y_train_real_bis, Y_train_pred_bis )\n",
    "print('MAE',\"{:.2f}\".format(loss2))\n",
    "r2 =r2_score(Y_train_real_bis, Y_train_pred_bis )\n",
    "print('R2',\"{:.2f}\".format(r2))\n",
    "maxerror=max_error(Y_train_real_bis, Y_train_pred_bis )\n",
    "print('maxError',\"{:.2f}\".format(maxerror))"
   ]
  }
 ],
 "metadata": {
  "colab": {
   "collapsed_sections": [],
   "name": "LSTM-covid-7-7-confinement.ipynb",
   "provenance": []
  },
  "kernelspec": {
   "display_name": "Python 3",
   "language": "python",
   "name": "python3"
  },
  "language_info": {
   "codemirror_mode": {
    "name": "ipython",
    "version": 3
   },
   "file_extension": ".py",
   "mimetype": "text/x-python",
   "name": "python",
   "nbconvert_exporter": "python",
   "pygments_lexer": "ipython3",
   "version": "3.7.6"
  }
 },
 "nbformat": 4,
 "nbformat_minor": 1
}
