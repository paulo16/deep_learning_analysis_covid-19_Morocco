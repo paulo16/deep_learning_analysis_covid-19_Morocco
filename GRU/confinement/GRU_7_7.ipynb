{
 "cells": [
  {
   "cell_type": "code",
   "execution_count": 1,
   "metadata": {
    "colab": {},
    "colab_type": "code",
    "id": "KTuU01uk9xMT"
   },
   "outputs": [],
   "source": [
    "import os\n",
    "import pandas as pd\n",
    "import numpy as np\n",
    "from sklearn.utils import shuffle\n",
    "from scipy import stats \n",
    "import matplotlib.pyplot as plt \n",
    "from sklearn.model_selection import train_test_split\n",
    "from sklearn.preprocessing import MinMaxScaler\n",
    "from tensorflow import keras\n",
    "import tensorflow as tf\n",
    "from tensorflow.keras.preprocessing.sequence import pad_sequences\n",
    "from tensorflow.keras.preprocessing.text import Tokenizer\n",
    "from tensorflow.keras.layers import Dense, Input, LSTM, GRU, Embedding, Dropout, Activation\n",
    "from tensorflow.keras.layers import Bidirectional, GlobalMaxPool1D\n",
    "from tensorflow.keras.models import Model, Sequential\n",
    "from tensorflow.compat.v1.keras.layers import CuDNNLSTM\n",
    "from tensorflow.keras.layers import RepeatVector\n",
    "from tensorflow.keras.layers import TimeDistributed\n",
    "from tensorflow.keras import layers\n",
    "from sklearn.metrics import accuracy_score\n",
    "from sklearn.metrics import precision_score\n",
    "from sklearn.metrics import recall_score\n",
    "from sklearn.metrics import f1_score\n",
    "from sklearn.metrics import cohen_kappa_score\n",
    "from sklearn.metrics import mean_squared_error\n",
    "from tensorflow.keras.utils import plot_model\n",
    "from sklearn.impute import KNNImputer\n",
    "from sklearn.metrics import r2_score\n",
    "from sklearn.metrics import max_error\n",
    "from deap import base, creator, tools, algorithms\n",
    "from scipy.stats import bernoulli\n",
    "from bitstring import BitArray\n",
    "from scipy.interpolate import CubicSpline      # for warping\n",
    "from transforms3d.axangles import axangle2mat  # for rotation\n",
    "from tsaug import TimeWarp, Crop, Quantize, Drift, Reverse\n",
    "\n",
    "from math import sqrt\n",
    "from matplotlib import pyplot\n",
    "from sklearn.preprocessing import LabelEncoder"
   ]
  },
  {
   "cell_type": "code",
   "execution_count": 2,
   "metadata": {
    "colab": {},
    "colab_type": "code",
    "id": "eK4anJP1-Nh3"
   },
   "outputs": [],
   "source": [
    "df = pd.read_csv('owid-covid-data.csv') # having First.csv zipped file."
   ]
  },
  {
   "cell_type": "code",
   "execution_count": 3,
   "metadata": {
    "colab": {},
    "colab_type": "code",
    "id": "1dXM84j99Qo-"
   },
   "outputs": [],
   "source": [
    "df.date= pd.to_datetime(df['date'],format='%Y-%m-%d')"
   ]
  },
  {
   "cell_type": "code",
   "execution_count": 4,
   "metadata": {
    "colab": {},
    "colab_type": "code",
    "id": "ZmJozDDA9Qpf"
   },
   "outputs": [],
   "source": [
    "df=df[['new_cases','total_cases','total_deaths','new_deaths', 'population','date','location']]\n"
   ]
  },
  {
   "cell_type": "code",
   "execution_count": 5,
   "metadata": {
    "colab": {},
    "colab_type": "code",
    "id": "pEelLZEx9Qp3"
   },
   "outputs": [],
   "source": [
    "df = df.fillna(df.median())"
   ]
  },
  {
   "cell_type": "code",
   "execution_count": 6,
   "metadata": {
    "colab": {
     "base_uri": "https://localhost:8080/",
     "height": 359
    },
    "colab_type": "code",
    "id": "GkzzotM4FzrD",
    "outputId": "86c4cfc8-1daf-4c01-a14e-ecec01674e10"
   },
   "outputs": [
    {
     "data": {
      "text/html": [
       "<div>\n",
       "<style scoped>\n",
       "    .dataframe tbody tr th:only-of-type {\n",
       "        vertical-align: middle;\n",
       "    }\n",
       "\n",
       "    .dataframe tbody tr th {\n",
       "        vertical-align: top;\n",
       "    }\n",
       "\n",
       "    .dataframe thead th {\n",
       "        text-align: right;\n",
       "    }\n",
       "</style>\n",
       "<table border=\"1\" class=\"dataframe\">\n",
       "  <thead>\n",
       "    <tr style=\"text-align: right;\">\n",
       "      <th></th>\n",
       "      <th>new_cases</th>\n",
       "      <th>total_cases</th>\n",
       "      <th>total_deaths</th>\n",
       "      <th>new_deaths</th>\n",
       "      <th>population</th>\n",
       "      <th>date</th>\n",
       "      <th>location</th>\n",
       "    </tr>\n",
       "  </thead>\n",
       "  <tbody>\n",
       "    <tr>\n",
       "      <th>23085</th>\n",
       "      <td>1283.0</td>\n",
       "      <td>28500.0</td>\n",
       "      <td>435.0</td>\n",
       "      <td>18.0</td>\n",
       "      <td>36910558.0</td>\n",
       "      <td>2020-08-06</td>\n",
       "      <td>Morocco</td>\n",
       "    </tr>\n",
       "    <tr>\n",
       "      <th>23086</th>\n",
       "      <td>1144.0</td>\n",
       "      <td>29644.0</td>\n",
       "      <td>449.0</td>\n",
       "      <td>14.0</td>\n",
       "      <td>36910558.0</td>\n",
       "      <td>2020-08-07</td>\n",
       "      <td>Morocco</td>\n",
       "    </tr>\n",
       "    <tr>\n",
       "      <th>23087</th>\n",
       "      <td>1018.0</td>\n",
       "      <td>30662.0</td>\n",
       "      <td>461.0</td>\n",
       "      <td>12.0</td>\n",
       "      <td>36910558.0</td>\n",
       "      <td>2020-08-08</td>\n",
       "      <td>Morocco</td>\n",
       "    </tr>\n",
       "    <tr>\n",
       "      <th>23088</th>\n",
       "      <td>1345.0</td>\n",
       "      <td>32007.0</td>\n",
       "      <td>480.0</td>\n",
       "      <td>19.0</td>\n",
       "      <td>36910558.0</td>\n",
       "      <td>2020-08-09</td>\n",
       "      <td>Morocco</td>\n",
       "    </tr>\n",
       "    <tr>\n",
       "      <th>23089</th>\n",
       "      <td>1230.0</td>\n",
       "      <td>33237.0</td>\n",
       "      <td>498.0</td>\n",
       "      <td>18.0</td>\n",
       "      <td>36910558.0</td>\n",
       "      <td>2020-08-10</td>\n",
       "      <td>Morocco</td>\n",
       "    </tr>\n",
       "    <tr>\n",
       "      <th>23090</th>\n",
       "      <td>826.0</td>\n",
       "      <td>34063.0</td>\n",
       "      <td>516.0</td>\n",
       "      <td>18.0</td>\n",
       "      <td>36910558.0</td>\n",
       "      <td>2020-08-11</td>\n",
       "      <td>Morocco</td>\n",
       "    </tr>\n",
       "    <tr>\n",
       "      <th>23091</th>\n",
       "      <td>1132.0</td>\n",
       "      <td>35195.0</td>\n",
       "      <td>533.0</td>\n",
       "      <td>17.0</td>\n",
       "      <td>36910558.0</td>\n",
       "      <td>2020-08-12</td>\n",
       "      <td>Morocco</td>\n",
       "    </tr>\n",
       "    <tr>\n",
       "      <th>23092</th>\n",
       "      <td>1499.0</td>\n",
       "      <td>36694.0</td>\n",
       "      <td>556.0</td>\n",
       "      <td>23.0</td>\n",
       "      <td>36910558.0</td>\n",
       "      <td>2020-08-13</td>\n",
       "      <td>Morocco</td>\n",
       "    </tr>\n",
       "    <tr>\n",
       "      <th>23093</th>\n",
       "      <td>1241.0</td>\n",
       "      <td>37935.0</td>\n",
       "      <td>584.0</td>\n",
       "      <td>28.0</td>\n",
       "      <td>36910558.0</td>\n",
       "      <td>2020-08-14</td>\n",
       "      <td>Morocco</td>\n",
       "    </tr>\n",
       "    <tr>\n",
       "      <th>23094</th>\n",
       "      <td>1306.0</td>\n",
       "      <td>39241.0</td>\n",
       "      <td>611.0</td>\n",
       "      <td>27.0</td>\n",
       "      <td>36910558.0</td>\n",
       "      <td>2020-08-15</td>\n",
       "      <td>Morocco</td>\n",
       "    </tr>\n",
       "  </tbody>\n",
       "</table>\n",
       "</div>"
      ],
      "text/plain": [
       "       new_cases  total_cases  total_deaths  new_deaths  population  \\\n",
       "23085     1283.0      28500.0         435.0        18.0  36910558.0   \n",
       "23086     1144.0      29644.0         449.0        14.0  36910558.0   \n",
       "23087     1018.0      30662.0         461.0        12.0  36910558.0   \n",
       "23088     1345.0      32007.0         480.0        19.0  36910558.0   \n",
       "23089     1230.0      33237.0         498.0        18.0  36910558.0   \n",
       "23090      826.0      34063.0         516.0        18.0  36910558.0   \n",
       "23091     1132.0      35195.0         533.0        17.0  36910558.0   \n",
       "23092     1499.0      36694.0         556.0        23.0  36910558.0   \n",
       "23093     1241.0      37935.0         584.0        28.0  36910558.0   \n",
       "23094     1306.0      39241.0         611.0        27.0  36910558.0   \n",
       "\n",
       "            date location  \n",
       "23085 2020-08-06  Morocco  \n",
       "23086 2020-08-07  Morocco  \n",
       "23087 2020-08-08  Morocco  \n",
       "23088 2020-08-09  Morocco  \n",
       "23089 2020-08-10  Morocco  \n",
       "23090 2020-08-11  Morocco  \n",
       "23091 2020-08-12  Morocco  \n",
       "23092 2020-08-13  Morocco  \n",
       "23093 2020-08-14  Morocco  \n",
       "23094 2020-08-15  Morocco  "
      ]
     },
     "execution_count": 6,
     "metadata": {},
     "output_type": "execute_result"
    }
   ],
   "source": [
    "df[(df.location  == 'Morocco')].tail(10)"
   ]
  },
  {
   "cell_type": "code",
   "execution_count": 7,
   "metadata": {
    "colab": {},
    "colab_type": "code",
    "id": "STWuqUsvzEO1"
   },
   "outputs": [],
   "source": [
    "def DA_Jitter(X, sigma=0.05):\n",
    "    myNoise = np.random.normal(loc=0, scale=sigma, size=X.shape)\n",
    "    myNoise =  np.add(myNoise,abs(np.min(myNoise)))\n",
    "    return X+myNoise"
   ]
  },
  {
   "cell_type": "code",
   "execution_count": 8,
   "metadata": {
    "colab": {},
    "colab_type": "code",
    "id": "tmHxUA7xzE3b"
   },
   "outputs": [],
   "source": [
    "def DA_Scaling(X, sigma=0.1):\n",
    "    scalingFactor = np.random.normal(loc=1.0, scale=sigma, size=(1,X.shape[1])) # shape=(1,3)\n",
    "    scalingFactor = np.add(scalingFactor,abs(np.min(scalingFactor)))\n",
    "    myNoise = np.matmul(np.ones((X.shape[0],1)), scalingFactor)\n",
    "    return X*myNoise"
   ]
  },
  {
   "cell_type": "code",
   "execution_count": 9,
   "metadata": {
    "colab": {},
    "colab_type": "code",
    "id": "z_9FeasYzJTF"
   },
   "outputs": [],
   "source": [
    "def DA_Rotation(X):\n",
    "    axis = np.random.uniform(low=-1, high=1, size=X.shape[1])\n",
    "    angle = np.random.uniform(low=-np.pi, high=np.pi)\n",
    "    return np.matmul(X , axangle2mat(axis,angle))"
   ]
  },
  {
   "cell_type": "code",
   "execution_count": 10,
   "metadata": {
    "colab": {},
    "colab_type": "code",
    "id": "5RKSEnq19QqL"
   },
   "outputs": [],
   "source": [
    "#df['month'] = df['date'].dt.month"
   ]
  },
  {
   "cell_type": "code",
   "execution_count": 11,
   "metadata": {
    "colab": {},
    "colab_type": "code",
    "id": "mTTUrl4k9Qqk"
   },
   "outputs": [],
   "source": [
    "# Parametrages sequences \n",
    "nb_seq=7\n",
    "n_out=7\n",
    "nb_col=5"
   ]
  },
  {
   "cell_type": "code",
   "execution_count": 12,
   "metadata": {
    "colab": {},
    "colab_type": "code",
    "id": "c1AqqQNO9Qq2"
   },
   "outputs": [],
   "source": [
    "start_date = '2020-03-02'\n",
    "end_date = '2020-05-24'\n",
    "start_date2 = '2020-05-25'\n",
    "end_date2 = '2020-06-14'"
   ]
  },
  {
   "cell_type": "code",
   "execution_count": 13,
   "metadata": {
    "colab": {},
    "colab_type": "code",
    "id": "iFFh1aOJ9QrD"
   },
   "outputs": [],
   "source": [
    "#mask = (covid_data['date'] >= start_date) & (covid_data['date'] <= end_date) &  (covid_data['location'].isin(['Morocco']))\n",
    "mask1 = (df['date'] >= start_date) & (df['date'] <= end_date) &  (df['location'].isin(['Morocco']))"
   ]
  },
  {
   "cell_type": "code",
   "execution_count": 14,
   "metadata": {
    "colab": {},
    "colab_type": "code",
    "id": "BNajSp2E9QrU"
   },
   "outputs": [],
   "source": [
    "mask2 = (df['date'] >= start_date2) & (df['date'] <= end_date2) &  (df['location'].isin(['Morocco']))"
   ]
  },
  {
   "cell_type": "code",
   "execution_count": 15,
   "metadata": {
    "colab": {},
    "colab_type": "code",
    "id": "WSAgg6em9Qrk"
   },
   "outputs": [],
   "source": [
    "df.sort_values(by=['location'], inplace=True)\n"
   ]
  },
  {
   "cell_type": "code",
   "execution_count": 16,
   "metadata": {
    "colab": {
     "base_uri": "https://localhost:8080/",
     "height": 34
    },
    "colab_type": "code",
    "id": "ueK-y_mU9Qr0",
    "outputId": "2ea53927-44ba-4d3c-bfc4-9b9b59eaa3fb"
   },
   "outputs": [
    {
     "data": {
      "text/plain": [
       "(84, 7)"
      ]
     },
     "execution_count": 16,
     "metadata": {},
     "output_type": "execute_result"
    }
   ],
   "source": [
    "X_train = df.loc[mask1].sort_index(axis = 0) \n",
    "X_train.shape"
   ]
  },
  {
   "cell_type": "code",
   "execution_count": 17,
   "metadata": {
    "colab": {
     "base_uri": "https://localhost:8080/",
     "height": 204
    },
    "colab_type": "code",
    "id": "DsiCWFbe32Ej",
    "outputId": "4758bd54-3b1c-4ec2-e4c4-35fa5f530b68"
   },
   "outputs": [
    {
     "data": {
      "text/html": [
       "<div>\n",
       "<style scoped>\n",
       "    .dataframe tbody tr th:only-of-type {\n",
       "        vertical-align: middle;\n",
       "    }\n",
       "\n",
       "    .dataframe tbody tr th {\n",
       "        vertical-align: top;\n",
       "    }\n",
       "\n",
       "    .dataframe thead th {\n",
       "        text-align: right;\n",
       "    }\n",
       "</style>\n",
       "<table border=\"1\" class=\"dataframe\">\n",
       "  <thead>\n",
       "    <tr style=\"text-align: right;\">\n",
       "      <th></th>\n",
       "      <th>new_cases</th>\n",
       "      <th>total_cases</th>\n",
       "      <th>total_deaths</th>\n",
       "      <th>new_deaths</th>\n",
       "      <th>population</th>\n",
       "      <th>date</th>\n",
       "      <th>location</th>\n",
       "    </tr>\n",
       "  </thead>\n",
       "  <tbody>\n",
       "    <tr>\n",
       "      <th>22928</th>\n",
       "      <td>7.0</td>\n",
       "      <td>615.0</td>\n",
       "      <td>10.0</td>\n",
       "      <td>0.0</td>\n",
       "      <td>36910558.0</td>\n",
       "      <td>2020-03-02</td>\n",
       "      <td>Morocco</td>\n",
       "    </tr>\n",
       "    <tr>\n",
       "      <th>22929</th>\n",
       "      <td>1.0</td>\n",
       "      <td>1.0</td>\n",
       "      <td>0.0</td>\n",
       "      <td>0.0</td>\n",
       "      <td>36910558.0</td>\n",
       "      <td>2020-03-03</td>\n",
       "      <td>Morocco</td>\n",
       "    </tr>\n",
       "    <tr>\n",
       "      <th>22930</th>\n",
       "      <td>7.0</td>\n",
       "      <td>615.0</td>\n",
       "      <td>10.0</td>\n",
       "      <td>0.0</td>\n",
       "      <td>36910558.0</td>\n",
       "      <td>2020-03-04</td>\n",
       "      <td>Morocco</td>\n",
       "    </tr>\n",
       "    <tr>\n",
       "      <th>22931</th>\n",
       "      <td>7.0</td>\n",
       "      <td>615.0</td>\n",
       "      <td>10.0</td>\n",
       "      <td>0.0</td>\n",
       "      <td>36910558.0</td>\n",
       "      <td>2020-03-05</td>\n",
       "      <td>Morocco</td>\n",
       "    </tr>\n",
       "    <tr>\n",
       "      <th>22932</th>\n",
       "      <td>1.0</td>\n",
       "      <td>2.0</td>\n",
       "      <td>0.0</td>\n",
       "      <td>0.0</td>\n",
       "      <td>36910558.0</td>\n",
       "      <td>2020-03-06</td>\n",
       "      <td>Morocco</td>\n",
       "    </tr>\n",
       "  </tbody>\n",
       "</table>\n",
       "</div>"
      ],
      "text/plain": [
       "       new_cases  total_cases  total_deaths  new_deaths  population  \\\n",
       "22928        7.0        615.0          10.0         0.0  36910558.0   \n",
       "22929        1.0          1.0           0.0         0.0  36910558.0   \n",
       "22930        7.0        615.0          10.0         0.0  36910558.0   \n",
       "22931        7.0        615.0          10.0         0.0  36910558.0   \n",
       "22932        1.0          2.0           0.0         0.0  36910558.0   \n",
       "\n",
       "            date location  \n",
       "22928 2020-03-02  Morocco  \n",
       "22929 2020-03-03  Morocco  \n",
       "22930 2020-03-04  Morocco  \n",
       "22931 2020-03-05  Morocco  \n",
       "22932 2020-03-06  Morocco  "
      ]
     },
     "execution_count": 17,
     "metadata": {},
     "output_type": "execute_result"
    }
   ],
   "source": [
    "X_train.head(5)"
   ]
  },
  {
   "cell_type": "code",
   "execution_count": 18,
   "metadata": {
    "colab": {
     "base_uri": "https://localhost:8080/",
     "height": 204
    },
    "colab_type": "code",
    "id": "5Lhcdb3Qh1vH",
    "outputId": "ff0a5f1d-33f6-4b71-85a4-3590b736cc84"
   },
   "outputs": [
    {
     "data": {
      "text/html": [
       "<div>\n",
       "<style scoped>\n",
       "    .dataframe tbody tr th:only-of-type {\n",
       "        vertical-align: middle;\n",
       "    }\n",
       "\n",
       "    .dataframe tbody tr th {\n",
       "        vertical-align: top;\n",
       "    }\n",
       "\n",
       "    .dataframe thead th {\n",
       "        text-align: right;\n",
       "    }\n",
       "</style>\n",
       "<table border=\"1\" class=\"dataframe\">\n",
       "  <thead>\n",
       "    <tr style=\"text-align: right;\">\n",
       "      <th></th>\n",
       "      <th>new_cases</th>\n",
       "      <th>total_cases</th>\n",
       "      <th>total_deaths</th>\n",
       "      <th>new_deaths</th>\n",
       "      <th>population</th>\n",
       "      <th>date</th>\n",
       "      <th>location</th>\n",
       "    </tr>\n",
       "  </thead>\n",
       "  <tbody>\n",
       "    <tr>\n",
       "      <th>23007</th>\n",
       "      <td>71.0</td>\n",
       "      <td>7023.0</td>\n",
       "      <td>193.0</td>\n",
       "      <td>1.0</td>\n",
       "      <td>36910558.0</td>\n",
       "      <td>2020-05-20</td>\n",
       "      <td>Morocco</td>\n",
       "    </tr>\n",
       "    <tr>\n",
       "      <th>23008</th>\n",
       "      <td>110.0</td>\n",
       "      <td>7133.0</td>\n",
       "      <td>194.0</td>\n",
       "      <td>1.0</td>\n",
       "      <td>36910558.0</td>\n",
       "      <td>2020-05-21</td>\n",
       "      <td>Morocco</td>\n",
       "    </tr>\n",
       "    <tr>\n",
       "      <th>23009</th>\n",
       "      <td>78.0</td>\n",
       "      <td>7211.0</td>\n",
       "      <td>196.0</td>\n",
       "      <td>2.0</td>\n",
       "      <td>36910558.0</td>\n",
       "      <td>2020-05-22</td>\n",
       "      <td>Morocco</td>\n",
       "    </tr>\n",
       "    <tr>\n",
       "      <th>23010</th>\n",
       "      <td>121.0</td>\n",
       "      <td>7332.0</td>\n",
       "      <td>197.0</td>\n",
       "      <td>1.0</td>\n",
       "      <td>36910558.0</td>\n",
       "      <td>2020-05-23</td>\n",
       "      <td>Morocco</td>\n",
       "    </tr>\n",
       "    <tr>\n",
       "      <th>23011</th>\n",
       "      <td>74.0</td>\n",
       "      <td>7406.0</td>\n",
       "      <td>198.0</td>\n",
       "      <td>1.0</td>\n",
       "      <td>36910558.0</td>\n",
       "      <td>2020-05-24</td>\n",
       "      <td>Morocco</td>\n",
       "    </tr>\n",
       "  </tbody>\n",
       "</table>\n",
       "</div>"
      ],
      "text/plain": [
       "       new_cases  total_cases  total_deaths  new_deaths  population  \\\n",
       "23007       71.0       7023.0         193.0         1.0  36910558.0   \n",
       "23008      110.0       7133.0         194.0         1.0  36910558.0   \n",
       "23009       78.0       7211.0         196.0         2.0  36910558.0   \n",
       "23010      121.0       7332.0         197.0         1.0  36910558.0   \n",
       "23011       74.0       7406.0         198.0         1.0  36910558.0   \n",
       "\n",
       "            date location  \n",
       "23007 2020-05-20  Morocco  \n",
       "23008 2020-05-21  Morocco  \n",
       "23009 2020-05-22  Morocco  \n",
       "23010 2020-05-23  Morocco  \n",
       "23011 2020-05-24  Morocco  "
      ]
     },
     "execution_count": 18,
     "metadata": {},
     "output_type": "execute_result"
    }
   ],
   "source": [
    "X_train.tail(5)"
   ]
  },
  {
   "cell_type": "code",
   "execution_count": 19,
   "metadata": {
    "colab": {},
    "colab_type": "code",
    "id": "KEaisHeXpMbA"
   },
   "outputs": [],
   "source": [
    "#Date to add test set \n",
    "data_add_test = X_train[X_train.location =='Morocco'].tail(nb_seq)"
   ]
  },
  {
   "cell_type": "code",
   "execution_count": 20,
   "metadata": {
    "colab": {
     "base_uri": "https://localhost:8080/",
     "height": 34
    },
    "colab_type": "code",
    "id": "8BNVbElqyyTQ",
    "outputId": "06582dd4-b21e-4b7c-8745-aa1db3e89d43"
   },
   "outputs": [
    {
     "data": {
      "text/plain": [
       "(84, 7)"
      ]
     },
     "execution_count": 20,
     "metadata": {},
     "output_type": "execute_result"
    }
   ],
   "source": [
    "X_train.shape"
   ]
  },
  {
   "cell_type": "code",
   "execution_count": 21,
   "metadata": {
    "colab": {
     "base_uri": "https://localhost:8080/",
     "height": 359
    },
    "colab_type": "code",
    "id": "MJCEETGWvFsw",
    "outputId": "b1ef9e39-b8ae-4f1c-c5af-25eaf8684154"
   },
   "outputs": [
    {
     "data": {
      "text/html": [
       "<div>\n",
       "<style scoped>\n",
       "    .dataframe tbody tr th:only-of-type {\n",
       "        vertical-align: middle;\n",
       "    }\n",
       "\n",
       "    .dataframe tbody tr th {\n",
       "        vertical-align: top;\n",
       "    }\n",
       "\n",
       "    .dataframe thead th {\n",
       "        text-align: right;\n",
       "    }\n",
       "</style>\n",
       "<table border=\"1\" class=\"dataframe\">\n",
       "  <thead>\n",
       "    <tr style=\"text-align: right;\">\n",
       "      <th></th>\n",
       "      <th>new_cases</th>\n",
       "      <th>total_cases</th>\n",
       "      <th>total_deaths</th>\n",
       "      <th>new_deaths</th>\n",
       "      <th>population</th>\n",
       "      <th>date</th>\n",
       "      <th>location</th>\n",
       "    </tr>\n",
       "  </thead>\n",
       "  <tbody>\n",
       "    <tr>\n",
       "      <th>22928</th>\n",
       "      <td>7.0</td>\n",
       "      <td>615.0</td>\n",
       "      <td>10.0</td>\n",
       "      <td>0.0</td>\n",
       "      <td>36910558.0</td>\n",
       "      <td>2020-03-02</td>\n",
       "      <td>Morocco</td>\n",
       "    </tr>\n",
       "    <tr>\n",
       "      <th>22929</th>\n",
       "      <td>1.0</td>\n",
       "      <td>1.0</td>\n",
       "      <td>0.0</td>\n",
       "      <td>0.0</td>\n",
       "      <td>36910558.0</td>\n",
       "      <td>2020-03-03</td>\n",
       "      <td>Morocco</td>\n",
       "    </tr>\n",
       "    <tr>\n",
       "      <th>22930</th>\n",
       "      <td>7.0</td>\n",
       "      <td>615.0</td>\n",
       "      <td>10.0</td>\n",
       "      <td>0.0</td>\n",
       "      <td>36910558.0</td>\n",
       "      <td>2020-03-04</td>\n",
       "      <td>Morocco</td>\n",
       "    </tr>\n",
       "    <tr>\n",
       "      <th>22931</th>\n",
       "      <td>7.0</td>\n",
       "      <td>615.0</td>\n",
       "      <td>10.0</td>\n",
       "      <td>0.0</td>\n",
       "      <td>36910558.0</td>\n",
       "      <td>2020-03-05</td>\n",
       "      <td>Morocco</td>\n",
       "    </tr>\n",
       "    <tr>\n",
       "      <th>22932</th>\n",
       "      <td>1.0</td>\n",
       "      <td>2.0</td>\n",
       "      <td>0.0</td>\n",
       "      <td>0.0</td>\n",
       "      <td>36910558.0</td>\n",
       "      <td>2020-03-06</td>\n",
       "      <td>Morocco</td>\n",
       "    </tr>\n",
       "    <tr>\n",
       "      <th>22933</th>\n",
       "      <td>7.0</td>\n",
       "      <td>615.0</td>\n",
       "      <td>10.0</td>\n",
       "      <td>0.0</td>\n",
       "      <td>36910558.0</td>\n",
       "      <td>2020-03-07</td>\n",
       "      <td>Morocco</td>\n",
       "    </tr>\n",
       "    <tr>\n",
       "      <th>22934</th>\n",
       "      <td>7.0</td>\n",
       "      <td>615.0</td>\n",
       "      <td>10.0</td>\n",
       "      <td>0.0</td>\n",
       "      <td>36910558.0</td>\n",
       "      <td>2020-03-08</td>\n",
       "      <td>Morocco</td>\n",
       "    </tr>\n",
       "    <tr>\n",
       "      <th>22935</th>\n",
       "      <td>7.0</td>\n",
       "      <td>615.0</td>\n",
       "      <td>10.0</td>\n",
       "      <td>0.0</td>\n",
       "      <td>36910558.0</td>\n",
       "      <td>2020-03-09</td>\n",
       "      <td>Morocco</td>\n",
       "    </tr>\n",
       "    <tr>\n",
       "      <th>22936</th>\n",
       "      <td>7.0</td>\n",
       "      <td>615.0</td>\n",
       "      <td>10.0</td>\n",
       "      <td>0.0</td>\n",
       "      <td>36910558.0</td>\n",
       "      <td>2020-03-10</td>\n",
       "      <td>Morocco</td>\n",
       "    </tr>\n",
       "    <tr>\n",
       "      <th>22937</th>\n",
       "      <td>7.0</td>\n",
       "      <td>615.0</td>\n",
       "      <td>10.0</td>\n",
       "      <td>0.0</td>\n",
       "      <td>36910558.0</td>\n",
       "      <td>2020-03-11</td>\n",
       "      <td>Morocco</td>\n",
       "    </tr>\n",
       "  </tbody>\n",
       "</table>\n",
       "</div>"
      ],
      "text/plain": [
       "       new_cases  total_cases  total_deaths  new_deaths  population  \\\n",
       "22928        7.0        615.0          10.0         0.0  36910558.0   \n",
       "22929        1.0          1.0           0.0         0.0  36910558.0   \n",
       "22930        7.0        615.0          10.0         0.0  36910558.0   \n",
       "22931        7.0        615.0          10.0         0.0  36910558.0   \n",
       "22932        1.0          2.0           0.0         0.0  36910558.0   \n",
       "22933        7.0        615.0          10.0         0.0  36910558.0   \n",
       "22934        7.0        615.0          10.0         0.0  36910558.0   \n",
       "22935        7.0        615.0          10.0         0.0  36910558.0   \n",
       "22936        7.0        615.0          10.0         0.0  36910558.0   \n",
       "22937        7.0        615.0          10.0         0.0  36910558.0   \n",
       "\n",
       "            date location  \n",
       "22928 2020-03-02  Morocco  \n",
       "22929 2020-03-03  Morocco  \n",
       "22930 2020-03-04  Morocco  \n",
       "22931 2020-03-05  Morocco  \n",
       "22932 2020-03-06  Morocco  \n",
       "22933 2020-03-07  Morocco  \n",
       "22934 2020-03-08  Morocco  \n",
       "22935 2020-03-09  Morocco  \n",
       "22936 2020-03-10  Morocco  \n",
       "22937 2020-03-11  Morocco  "
      ]
     },
     "execution_count": 21,
     "metadata": {},
     "output_type": "execute_result"
    }
   ],
   "source": [
    "X_train.head(10)"
   ]
  },
  {
   "cell_type": "code",
   "execution_count": 22,
   "metadata": {
    "colab": {
     "base_uri": "https://localhost:8080/",
     "height": 359
    },
    "colab_type": "code",
    "id": "KWOBTgcGvLwG",
    "outputId": "be87a759-e356-4388-ed1d-1a352cb9faa3"
   },
   "outputs": [
    {
     "data": {
      "text/html": [
       "<div>\n",
       "<style scoped>\n",
       "    .dataframe tbody tr th:only-of-type {\n",
       "        vertical-align: middle;\n",
       "    }\n",
       "\n",
       "    .dataframe tbody tr th {\n",
       "        vertical-align: top;\n",
       "    }\n",
       "\n",
       "    .dataframe thead th {\n",
       "        text-align: right;\n",
       "    }\n",
       "</style>\n",
       "<table border=\"1\" class=\"dataframe\">\n",
       "  <thead>\n",
       "    <tr style=\"text-align: right;\">\n",
       "      <th></th>\n",
       "      <th>new_cases</th>\n",
       "      <th>total_cases</th>\n",
       "      <th>total_deaths</th>\n",
       "      <th>new_deaths</th>\n",
       "      <th>population</th>\n",
       "      <th>date</th>\n",
       "      <th>location</th>\n",
       "    </tr>\n",
       "  </thead>\n",
       "  <tbody>\n",
       "    <tr>\n",
       "      <th>23002</th>\n",
       "      <td>95.0</td>\n",
       "      <td>6607.0</td>\n",
       "      <td>190.0</td>\n",
       "      <td>2.0</td>\n",
       "      <td>36910558.0</td>\n",
       "      <td>2020-05-15</td>\n",
       "      <td>Morocco</td>\n",
       "    </tr>\n",
       "    <tr>\n",
       "      <th>23003</th>\n",
       "      <td>45.0</td>\n",
       "      <td>6652.0</td>\n",
       "      <td>190.0</td>\n",
       "      <td>0.0</td>\n",
       "      <td>36910558.0</td>\n",
       "      <td>2020-05-16</td>\n",
       "      <td>Morocco</td>\n",
       "    </tr>\n",
       "    <tr>\n",
       "      <th>23004</th>\n",
       "      <td>89.0</td>\n",
       "      <td>6741.0</td>\n",
       "      <td>192.0</td>\n",
       "      <td>2.0</td>\n",
       "      <td>36910558.0</td>\n",
       "      <td>2020-05-17</td>\n",
       "      <td>Morocco</td>\n",
       "    </tr>\n",
       "    <tr>\n",
       "      <th>23005</th>\n",
       "      <td>129.0</td>\n",
       "      <td>6870.0</td>\n",
       "      <td>192.0</td>\n",
       "      <td>0.0</td>\n",
       "      <td>36910558.0</td>\n",
       "      <td>2020-05-18</td>\n",
       "      <td>Morocco</td>\n",
       "    </tr>\n",
       "    <tr>\n",
       "      <th>23006</th>\n",
       "      <td>82.0</td>\n",
       "      <td>6952.0</td>\n",
       "      <td>192.0</td>\n",
       "      <td>0.0</td>\n",
       "      <td>36910558.0</td>\n",
       "      <td>2020-05-19</td>\n",
       "      <td>Morocco</td>\n",
       "    </tr>\n",
       "    <tr>\n",
       "      <th>23007</th>\n",
       "      <td>71.0</td>\n",
       "      <td>7023.0</td>\n",
       "      <td>193.0</td>\n",
       "      <td>1.0</td>\n",
       "      <td>36910558.0</td>\n",
       "      <td>2020-05-20</td>\n",
       "      <td>Morocco</td>\n",
       "    </tr>\n",
       "    <tr>\n",
       "      <th>23008</th>\n",
       "      <td>110.0</td>\n",
       "      <td>7133.0</td>\n",
       "      <td>194.0</td>\n",
       "      <td>1.0</td>\n",
       "      <td>36910558.0</td>\n",
       "      <td>2020-05-21</td>\n",
       "      <td>Morocco</td>\n",
       "    </tr>\n",
       "    <tr>\n",
       "      <th>23009</th>\n",
       "      <td>78.0</td>\n",
       "      <td>7211.0</td>\n",
       "      <td>196.0</td>\n",
       "      <td>2.0</td>\n",
       "      <td>36910558.0</td>\n",
       "      <td>2020-05-22</td>\n",
       "      <td>Morocco</td>\n",
       "    </tr>\n",
       "    <tr>\n",
       "      <th>23010</th>\n",
       "      <td>121.0</td>\n",
       "      <td>7332.0</td>\n",
       "      <td>197.0</td>\n",
       "      <td>1.0</td>\n",
       "      <td>36910558.0</td>\n",
       "      <td>2020-05-23</td>\n",
       "      <td>Morocco</td>\n",
       "    </tr>\n",
       "    <tr>\n",
       "      <th>23011</th>\n",
       "      <td>74.0</td>\n",
       "      <td>7406.0</td>\n",
       "      <td>198.0</td>\n",
       "      <td>1.0</td>\n",
       "      <td>36910558.0</td>\n",
       "      <td>2020-05-24</td>\n",
       "      <td>Morocco</td>\n",
       "    </tr>\n",
       "  </tbody>\n",
       "</table>\n",
       "</div>"
      ],
      "text/plain": [
       "       new_cases  total_cases  total_deaths  new_deaths  population  \\\n",
       "23002       95.0       6607.0         190.0         2.0  36910558.0   \n",
       "23003       45.0       6652.0         190.0         0.0  36910558.0   \n",
       "23004       89.0       6741.0         192.0         2.0  36910558.0   \n",
       "23005      129.0       6870.0         192.0         0.0  36910558.0   \n",
       "23006       82.0       6952.0         192.0         0.0  36910558.0   \n",
       "23007       71.0       7023.0         193.0         1.0  36910558.0   \n",
       "23008      110.0       7133.0         194.0         1.0  36910558.0   \n",
       "23009       78.0       7211.0         196.0         2.0  36910558.0   \n",
       "23010      121.0       7332.0         197.0         1.0  36910558.0   \n",
       "23011       74.0       7406.0         198.0         1.0  36910558.0   \n",
       "\n",
       "            date location  \n",
       "23002 2020-05-15  Morocco  \n",
       "23003 2020-05-16  Morocco  \n",
       "23004 2020-05-17  Morocco  \n",
       "23005 2020-05-18  Morocco  \n",
       "23006 2020-05-19  Morocco  \n",
       "23007 2020-05-20  Morocco  \n",
       "23008 2020-05-21  Morocco  \n",
       "23009 2020-05-22  Morocco  \n",
       "23010 2020-05-23  Morocco  \n",
       "23011 2020-05-24  Morocco  "
      ]
     },
     "execution_count": 22,
     "metadata": {},
     "output_type": "execute_result"
    }
   ],
   "source": [
    "X_train.tail(10)"
   ]
  },
  {
   "cell_type": "code",
   "execution_count": 23,
   "metadata": {
    "colab": {
     "base_uri": "https://localhost:8080/",
     "height": 34
    },
    "colab_type": "code",
    "id": "-2jZ7FV29QsE",
    "outputId": "cf298e4f-e171-4def-df9b-cb1b220a8e8b"
   },
   "outputs": [
    {
     "data": {
      "text/plain": [
       "(21, 7)"
      ]
     },
     "execution_count": 23,
     "metadata": {},
     "output_type": "execute_result"
    }
   ],
   "source": [
    "X_test = df.loc[mask2].sort_index(axis = 0) \n",
    "\n",
    "X_test.shape"
   ]
  },
  {
   "cell_type": "code",
   "execution_count": 24,
   "metadata": {
    "colab": {},
    "colab_type": "code",
    "id": "TT0yYI-dppyl"
   },
   "outputs": [],
   "source": [
    "X_test = pd.concat([pd.DataFrame(data_add_test),X_test], ignore_index=True)\n",
    "X_test = X_test.sort_index(axis = 0)"
   ]
  },
  {
   "cell_type": "code",
   "execution_count": 25,
   "metadata": {
    "colab": {
     "base_uri": "https://localhost:8080/",
     "height": 917
    },
    "colab_type": "code",
    "id": "fBFYIySlvQHt",
    "outputId": "42538ca9-7914-4d52-e957-b21f06af7434"
   },
   "outputs": [
    {
     "data": {
      "text/html": [
       "<div>\n",
       "<style scoped>\n",
       "    .dataframe tbody tr th:only-of-type {\n",
       "        vertical-align: middle;\n",
       "    }\n",
       "\n",
       "    .dataframe tbody tr th {\n",
       "        vertical-align: top;\n",
       "    }\n",
       "\n",
       "    .dataframe thead th {\n",
       "        text-align: right;\n",
       "    }\n",
       "</style>\n",
       "<table border=\"1\" class=\"dataframe\">\n",
       "  <thead>\n",
       "    <tr style=\"text-align: right;\">\n",
       "      <th></th>\n",
       "      <th>new_cases</th>\n",
       "      <th>total_cases</th>\n",
       "      <th>total_deaths</th>\n",
       "      <th>new_deaths</th>\n",
       "      <th>population</th>\n",
       "      <th>date</th>\n",
       "      <th>location</th>\n",
       "    </tr>\n",
       "  </thead>\n",
       "  <tbody>\n",
       "    <tr>\n",
       "      <th>0</th>\n",
       "      <td>129.0</td>\n",
       "      <td>6870.0</td>\n",
       "      <td>192.0</td>\n",
       "      <td>0.0</td>\n",
       "      <td>36910558.0</td>\n",
       "      <td>2020-05-18</td>\n",
       "      <td>Morocco</td>\n",
       "    </tr>\n",
       "    <tr>\n",
       "      <th>1</th>\n",
       "      <td>82.0</td>\n",
       "      <td>6952.0</td>\n",
       "      <td>192.0</td>\n",
       "      <td>0.0</td>\n",
       "      <td>36910558.0</td>\n",
       "      <td>2020-05-19</td>\n",
       "      <td>Morocco</td>\n",
       "    </tr>\n",
       "    <tr>\n",
       "      <th>2</th>\n",
       "      <td>71.0</td>\n",
       "      <td>7023.0</td>\n",
       "      <td>193.0</td>\n",
       "      <td>1.0</td>\n",
       "      <td>36910558.0</td>\n",
       "      <td>2020-05-20</td>\n",
       "      <td>Morocco</td>\n",
       "    </tr>\n",
       "    <tr>\n",
       "      <th>3</th>\n",
       "      <td>110.0</td>\n",
       "      <td>7133.0</td>\n",
       "      <td>194.0</td>\n",
       "      <td>1.0</td>\n",
       "      <td>36910558.0</td>\n",
       "      <td>2020-05-21</td>\n",
       "      <td>Morocco</td>\n",
       "    </tr>\n",
       "    <tr>\n",
       "      <th>4</th>\n",
       "      <td>78.0</td>\n",
       "      <td>7211.0</td>\n",
       "      <td>196.0</td>\n",
       "      <td>2.0</td>\n",
       "      <td>36910558.0</td>\n",
       "      <td>2020-05-22</td>\n",
       "      <td>Morocco</td>\n",
       "    </tr>\n",
       "    <tr>\n",
       "      <th>5</th>\n",
       "      <td>121.0</td>\n",
       "      <td>7332.0</td>\n",
       "      <td>197.0</td>\n",
       "      <td>1.0</td>\n",
       "      <td>36910558.0</td>\n",
       "      <td>2020-05-23</td>\n",
       "      <td>Morocco</td>\n",
       "    </tr>\n",
       "    <tr>\n",
       "      <th>6</th>\n",
       "      <td>74.0</td>\n",
       "      <td>7406.0</td>\n",
       "      <td>198.0</td>\n",
       "      <td>1.0</td>\n",
       "      <td>36910558.0</td>\n",
       "      <td>2020-05-24</td>\n",
       "      <td>Morocco</td>\n",
       "    </tr>\n",
       "    <tr>\n",
       "      <th>7</th>\n",
       "      <td>27.0</td>\n",
       "      <td>7433.0</td>\n",
       "      <td>199.0</td>\n",
       "      <td>1.0</td>\n",
       "      <td>36910558.0</td>\n",
       "      <td>2020-05-25</td>\n",
       "      <td>Morocco</td>\n",
       "    </tr>\n",
       "    <tr>\n",
       "      <th>8</th>\n",
       "      <td>99.0</td>\n",
       "      <td>7532.0</td>\n",
       "      <td>200.0</td>\n",
       "      <td>1.0</td>\n",
       "      <td>36910558.0</td>\n",
       "      <td>2020-05-26</td>\n",
       "      <td>Morocco</td>\n",
       "    </tr>\n",
       "    <tr>\n",
       "      <th>9</th>\n",
       "      <td>45.0</td>\n",
       "      <td>7577.0</td>\n",
       "      <td>202.0</td>\n",
       "      <td>2.0</td>\n",
       "      <td>36910558.0</td>\n",
       "      <td>2020-05-27</td>\n",
       "      <td>Morocco</td>\n",
       "    </tr>\n",
       "    <tr>\n",
       "      <th>10</th>\n",
       "      <td>24.0</td>\n",
       "      <td>7601.0</td>\n",
       "      <td>202.0</td>\n",
       "      <td>0.0</td>\n",
       "      <td>36910558.0</td>\n",
       "      <td>2020-05-28</td>\n",
       "      <td>Morocco</td>\n",
       "    </tr>\n",
       "    <tr>\n",
       "      <th>11</th>\n",
       "      <td>42.0</td>\n",
       "      <td>7643.0</td>\n",
       "      <td>202.0</td>\n",
       "      <td>0.0</td>\n",
       "      <td>36910558.0</td>\n",
       "      <td>2020-05-29</td>\n",
       "      <td>Morocco</td>\n",
       "    </tr>\n",
       "    <tr>\n",
       "      <th>12</th>\n",
       "      <td>71.0</td>\n",
       "      <td>7714.0</td>\n",
       "      <td>202.0</td>\n",
       "      <td>0.0</td>\n",
       "      <td>36910558.0</td>\n",
       "      <td>2020-05-30</td>\n",
       "      <td>Morocco</td>\n",
       "    </tr>\n",
       "    <tr>\n",
       "      <th>13</th>\n",
       "      <td>66.0</td>\n",
       "      <td>7780.0</td>\n",
       "      <td>204.0</td>\n",
       "      <td>2.0</td>\n",
       "      <td>36910558.0</td>\n",
       "      <td>2020-05-31</td>\n",
       "      <td>Morocco</td>\n",
       "    </tr>\n",
       "    <tr>\n",
       "      <th>14</th>\n",
       "      <td>27.0</td>\n",
       "      <td>7807.0</td>\n",
       "      <td>205.0</td>\n",
       "      <td>1.0</td>\n",
       "      <td>36910558.0</td>\n",
       "      <td>2020-06-01</td>\n",
       "      <td>Morocco</td>\n",
       "    </tr>\n",
       "    <tr>\n",
       "      <th>15</th>\n",
       "      <td>26.0</td>\n",
       "      <td>7833.0</td>\n",
       "      <td>205.0</td>\n",
       "      <td>0.0</td>\n",
       "      <td>36910558.0</td>\n",
       "      <td>2020-06-02</td>\n",
       "      <td>Morocco</td>\n",
       "    </tr>\n",
       "    <tr>\n",
       "      <th>16</th>\n",
       "      <td>33.0</td>\n",
       "      <td>7866.0</td>\n",
       "      <td>206.0</td>\n",
       "      <td>1.0</td>\n",
       "      <td>36910558.0</td>\n",
       "      <td>2020-06-03</td>\n",
       "      <td>Morocco</td>\n",
       "    </tr>\n",
       "    <tr>\n",
       "      <th>17</th>\n",
       "      <td>56.0</td>\n",
       "      <td>7922.0</td>\n",
       "      <td>206.0</td>\n",
       "      <td>0.0</td>\n",
       "      <td>36910558.0</td>\n",
       "      <td>2020-06-04</td>\n",
       "      <td>Morocco</td>\n",
       "    </tr>\n",
       "    <tr>\n",
       "      <th>18</th>\n",
       "      <td>81.0</td>\n",
       "      <td>8003.0</td>\n",
       "      <td>208.0</td>\n",
       "      <td>2.0</td>\n",
       "      <td>36910558.0</td>\n",
       "      <td>2020-06-05</td>\n",
       "      <td>Morocco</td>\n",
       "    </tr>\n",
       "    <tr>\n",
       "      <th>19</th>\n",
       "      <td>68.0</td>\n",
       "      <td>8071.0</td>\n",
       "      <td>208.0</td>\n",
       "      <td>0.0</td>\n",
       "      <td>36910558.0</td>\n",
       "      <td>2020-06-06</td>\n",
       "      <td>Morocco</td>\n",
       "    </tr>\n",
       "    <tr>\n",
       "      <th>20</th>\n",
       "      <td>61.0</td>\n",
       "      <td>8132.0</td>\n",
       "      <td>208.0</td>\n",
       "      <td>0.0</td>\n",
       "      <td>36910558.0</td>\n",
       "      <td>2020-06-07</td>\n",
       "      <td>Morocco</td>\n",
       "    </tr>\n",
       "    <tr>\n",
       "      <th>21</th>\n",
       "      <td>92.0</td>\n",
       "      <td>8224.0</td>\n",
       "      <td>208.0</td>\n",
       "      <td>0.0</td>\n",
       "      <td>36910558.0</td>\n",
       "      <td>2020-06-08</td>\n",
       "      <td>Morocco</td>\n",
       "    </tr>\n",
       "    <tr>\n",
       "      <th>22</th>\n",
       "      <td>78.0</td>\n",
       "      <td>8302.0</td>\n",
       "      <td>208.0</td>\n",
       "      <td>0.0</td>\n",
       "      <td>36910558.0</td>\n",
       "      <td>2020-06-09</td>\n",
       "      <td>Morocco</td>\n",
       "    </tr>\n",
       "    <tr>\n",
       "      <th>23</th>\n",
       "      <td>135.0</td>\n",
       "      <td>8437.0</td>\n",
       "      <td>210.0</td>\n",
       "      <td>2.0</td>\n",
       "      <td>36910558.0</td>\n",
       "      <td>2020-06-10</td>\n",
       "      <td>Morocco</td>\n",
       "    </tr>\n",
       "    <tr>\n",
       "      <th>24</th>\n",
       "      <td>18.0</td>\n",
       "      <td>8455.0</td>\n",
       "      <td>210.0</td>\n",
       "      <td>0.0</td>\n",
       "      <td>36910558.0</td>\n",
       "      <td>2020-06-11</td>\n",
       "      <td>Morocco</td>\n",
       "    </tr>\n",
       "    <tr>\n",
       "      <th>25</th>\n",
       "      <td>82.0</td>\n",
       "      <td>8537.0</td>\n",
       "      <td>211.0</td>\n",
       "      <td>1.0</td>\n",
       "      <td>36910558.0</td>\n",
       "      <td>2020-06-12</td>\n",
       "      <td>Morocco</td>\n",
       "    </tr>\n",
       "    <tr>\n",
       "      <th>26</th>\n",
       "      <td>73.0</td>\n",
       "      <td>8610.0</td>\n",
       "      <td>212.0</td>\n",
       "      <td>1.0</td>\n",
       "      <td>36910558.0</td>\n",
       "      <td>2020-06-13</td>\n",
       "      <td>Morocco</td>\n",
       "    </tr>\n",
       "    <tr>\n",
       "      <th>27</th>\n",
       "      <td>82.0</td>\n",
       "      <td>8692.0</td>\n",
       "      <td>212.0</td>\n",
       "      <td>0.0</td>\n",
       "      <td>36910558.0</td>\n",
       "      <td>2020-06-14</td>\n",
       "      <td>Morocco</td>\n",
       "    </tr>\n",
       "  </tbody>\n",
       "</table>\n",
       "</div>"
      ],
      "text/plain": [
       "    new_cases  total_cases  total_deaths  new_deaths  population       date  \\\n",
       "0       129.0       6870.0         192.0         0.0  36910558.0 2020-05-18   \n",
       "1        82.0       6952.0         192.0         0.0  36910558.0 2020-05-19   \n",
       "2        71.0       7023.0         193.0         1.0  36910558.0 2020-05-20   \n",
       "3       110.0       7133.0         194.0         1.0  36910558.0 2020-05-21   \n",
       "4        78.0       7211.0         196.0         2.0  36910558.0 2020-05-22   \n",
       "5       121.0       7332.0         197.0         1.0  36910558.0 2020-05-23   \n",
       "6        74.0       7406.0         198.0         1.0  36910558.0 2020-05-24   \n",
       "7        27.0       7433.0         199.0         1.0  36910558.0 2020-05-25   \n",
       "8        99.0       7532.0         200.0         1.0  36910558.0 2020-05-26   \n",
       "9        45.0       7577.0         202.0         2.0  36910558.0 2020-05-27   \n",
       "10       24.0       7601.0         202.0         0.0  36910558.0 2020-05-28   \n",
       "11       42.0       7643.0         202.0         0.0  36910558.0 2020-05-29   \n",
       "12       71.0       7714.0         202.0         0.0  36910558.0 2020-05-30   \n",
       "13       66.0       7780.0         204.0         2.0  36910558.0 2020-05-31   \n",
       "14       27.0       7807.0         205.0         1.0  36910558.0 2020-06-01   \n",
       "15       26.0       7833.0         205.0         0.0  36910558.0 2020-06-02   \n",
       "16       33.0       7866.0         206.0         1.0  36910558.0 2020-06-03   \n",
       "17       56.0       7922.0         206.0         0.0  36910558.0 2020-06-04   \n",
       "18       81.0       8003.0         208.0         2.0  36910558.0 2020-06-05   \n",
       "19       68.0       8071.0         208.0         0.0  36910558.0 2020-06-06   \n",
       "20       61.0       8132.0         208.0         0.0  36910558.0 2020-06-07   \n",
       "21       92.0       8224.0         208.0         0.0  36910558.0 2020-06-08   \n",
       "22       78.0       8302.0         208.0         0.0  36910558.0 2020-06-09   \n",
       "23      135.0       8437.0         210.0         2.0  36910558.0 2020-06-10   \n",
       "24       18.0       8455.0         210.0         0.0  36910558.0 2020-06-11   \n",
       "25       82.0       8537.0         211.0         1.0  36910558.0 2020-06-12   \n",
       "26       73.0       8610.0         212.0         1.0  36910558.0 2020-06-13   \n",
       "27       82.0       8692.0         212.0         0.0  36910558.0 2020-06-14   \n",
       "\n",
       "   location  \n",
       "0   Morocco  \n",
       "1   Morocco  \n",
       "2   Morocco  \n",
       "3   Morocco  \n",
       "4   Morocco  \n",
       "5   Morocco  \n",
       "6   Morocco  \n",
       "7   Morocco  \n",
       "8   Morocco  \n",
       "9   Morocco  \n",
       "10  Morocco  \n",
       "11  Morocco  \n",
       "12  Morocco  \n",
       "13  Morocco  \n",
       "14  Morocco  \n",
       "15  Morocco  \n",
       "16  Morocco  \n",
       "17  Morocco  \n",
       "18  Morocco  \n",
       "19  Morocco  \n",
       "20  Morocco  \n",
       "21  Morocco  \n",
       "22  Morocco  \n",
       "23  Morocco  \n",
       "24  Morocco  \n",
       "25  Morocco  \n",
       "26  Morocco  \n",
       "27  Morocco  "
      ]
     },
     "execution_count": 25,
     "metadata": {},
     "output_type": "execute_result"
    }
   ],
   "source": [
    "X_test"
   ]
  },
  {
   "cell_type": "code",
   "execution_count": 26,
   "metadata": {
    "colab": {},
    "colab_type": "code",
    "id": "3rrEQ5Gl9QsT"
   },
   "outputs": [],
   "source": [
    "X_test['timestamp'] = pd.to_datetime(X_test['date'], infer_datetime_format=True)\n",
    "X_test.set_index('timestamp', inplace=True)\n",
    "\n",
    "X_train['timestamp'] = pd.to_datetime(X_train['date'], infer_datetime_format=True)\n",
    "X_train.set_index('timestamp', inplace=True)"
   ]
  },
  {
   "cell_type": "code",
   "execution_count": 27,
   "metadata": {
    "colab": {},
    "colab_type": "code",
    "id": "RDMJvlLt9Qsi"
   },
   "outputs": [],
   "source": [
    "X_train=X_train[['new_cases','total_cases','total_deaths', 'new_deaths', 'population']]\n",
    "\n",
    "X_test=X_test[['new_cases','total_cases','total_deaths', 'new_deaths', 'population']]\n",
    "Y_test=X_test[['new_cases']]\n",
    "\n",
    "Y_train=X_train[['new_cases']]"
   ]
  },
  {
   "cell_type": "code",
   "execution_count": 28,
   "metadata": {
    "colab": {},
    "colab_type": "code",
    "id": "0omRI18IzoLI"
   },
   "outputs": [],
   "source": [
    "days=X_test[nb_seq:].index\n",
    "days=days.sort_values()"
   ]
  },
  {
   "cell_type": "code",
   "execution_count": 29,
   "metadata": {
    "colab": {},
    "colab_type": "code",
    "id": "zxU8sOHz9Qs2"
   },
   "outputs": [],
   "source": [
    "#days=days[nb_seq:]"
   ]
  },
  {
   "cell_type": "code",
   "execution_count": 30,
   "metadata": {
    "colab": {
     "base_uri": "https://localhost:8080/",
     "height": 85
    },
    "colab_type": "code",
    "id": "jZPsUAAk9QtA",
    "outputId": "8e24a925-0406-4fba-e3da-ae5740e51d36"
   },
   "outputs": [
    {
     "name": "stdout",
     "output_type": "stream",
     "text": [
      "(84, 5)\n",
      "(84, 1)\n",
      "(28, 5)\n",
      "(28, 1)\n"
     ]
    }
   ],
   "source": [
    "print(X_train.shape)\n",
    "print(Y_train.shape)\n",
    "print(X_test.shape)\n",
    "print(Y_test.shape)"
   ]
  },
  {
   "cell_type": "code",
   "execution_count": 31,
   "metadata": {
    "colab": {},
    "colab_type": "code",
    "id": "9aEHENxE9QtJ"
   },
   "outputs": [],
   "source": [
    "from sklearn.preprocessing import MinMaxScaler\n",
    "\n",
    "scaler = MinMaxScaler(feature_range=(0, 1))\n",
    "scaler2= MinMaxScaler(feature_range=(0, 1))"
   ]
  },
  {
   "cell_type": "code",
   "execution_count": 32,
   "metadata": {
    "colab": {},
    "colab_type": "code",
    "id": "rd2PWxHzdHk-"
   },
   "outputs": [],
   "source": [
    "# convert series to supervised learning\n",
    "def series_to_supervised(data, n_in=1, n_out=1, dropnan=True):\n",
    "    n_vars = 1 if type(data) is list else data.shape[1]\n",
    "    df = pd.DataFrame(data)\n",
    "    cols, names = list(), list()\n",
    "    # input sequence (t-n, ... t-1)\n",
    "    for i in range(n_in, 0, -1):\n",
    "        cols.append(df.shift(i))\n",
    "        names += [('var%d(t-%d)' % (j+1, i)) for j in range(n_vars)]\n",
    "    # forecast sequence (t, t+1, ... t+n)\n",
    "    for i in range(0, n_out):\n",
    "        cols.append(df.shift(-i))\n",
    "        if i == 0:\n",
    "            names += [('var%d(t)' % (j+1)) for j in range(n_vars)]\n",
    "        else:\n",
    "            names += [('var%d(t+%d)' % (j+1, i)) for j in range(n_vars)]\n",
    "    # put it all together\n",
    "    agg = pd.concat(cols, axis=1)\n",
    "    agg.columns = names\n",
    "    # drop rows with NaN values\n",
    "    if dropnan:\n",
    "        agg.dropna(inplace=True)\n",
    "    return agg"
   ]
  },
  {
   "cell_type": "code",
   "execution_count": 33,
   "metadata": {
    "colab": {
     "base_uri": "https://localhost:8080/",
     "height": 323
    },
    "colab_type": "code",
    "id": "W2TLWcHE9QtP",
    "outputId": "349fc89e-3102-44f3-9e90-3c70605a690a"
   },
   "outputs": [
    {
     "name": "stdout",
     "output_type": "stream",
     "text": [
      "    var1(t-7)  var2(t-7)  var3(t-7)  var4(t-7)  var5(t-7)  var1(t-6)  \\\n",
      "7    0.024911   0.082917   0.050505   0.000000        0.0   0.003559   \n",
      "8    0.003559   0.000000   0.000000   0.000000        0.0   0.024911   \n",
      "9    0.024911   0.082917   0.050505   0.000000        0.0   0.024911   \n",
      "10   0.024911   0.082917   0.050505   0.000000        0.0   0.003559   \n",
      "11   0.003559   0.000135   0.000000   0.000000        0.0   0.024911   \n",
      "..        ...        ...        ...        ...        ...        ...   \n",
      "73   0.672598   0.730182   0.924242   0.133333        0.0   0.498221   \n",
      "74   0.498221   0.749088   0.924242   0.000000        0.0   0.580071   \n",
      "75   0.580071   0.771101   0.939394   0.200000        0.0   0.708185   \n",
      "76   0.708185   0.797974   0.939394   0.000000        0.0   0.544484   \n",
      "77   0.544484   0.818636   0.949495   0.133333        0.0   0.775801   \n",
      "\n",
      "    var2(t-6)  var3(t-6)  var4(t-6)  var5(t-6)  ...  var1(t+5)  var2(t+5)  \\\n",
      "7    0.000000   0.000000   0.000000        0.0  ...   0.003559   0.000810   \n",
      "8    0.082917   0.050505   0.000000        0.0  ...   0.039146   0.002296   \n",
      "9    0.082917   0.050505   0.000000        0.0  ...   0.035587   0.003646   \n",
      "10   0.000135   0.000000   0.000000        0.0  ...   0.032028   0.004862   \n",
      "11   0.082917   0.050505   0.000000        0.0  ...   0.024911   0.005807   \n",
      "..        ...        ...        ...        ...  ...        ...        ...   \n",
      "73   0.749088   0.924242   0.000000        0.0  ...   0.291815   0.938690   \n",
      "74   0.771101   0.939394   0.200000        0.0  ...   0.252669   0.948278   \n",
      "75   0.797974   0.939394   0.000000        0.0  ...   0.391459   0.963133   \n",
      "76   0.818636   0.949495   0.133333        0.0  ...   0.277580   0.973666   \n",
      "77   0.848076   0.949495   0.000000        0.0  ...   0.430605   0.990007   \n",
      "\n",
      "    var3(t+5)  var4(t+5)  var5(t+5)  var1(t+6)  var2(t+6)  var3(t+6)  \\\n",
      "7    0.005051   0.000000        0.0   0.039146   0.002296   0.005051   \n",
      "8    0.005051   0.000000        0.0   0.035587   0.003646   0.005051   \n",
      "9    0.005051   0.000000        0.0   0.032028   0.004862   0.005051   \n",
      "10   0.005051   0.000000        0.0   0.024911   0.005807   0.010101   \n",
      "11   0.010101   0.066667        0.0   0.035587   0.007157   0.010101   \n",
      "..        ...        ...        ...        ...        ...        ...   \n",
      "73   0.969697   0.000000        0.0   0.252669   0.948278   0.974747   \n",
      "74   0.974747   0.066667        0.0   0.391459   0.963133   0.979798   \n",
      "75   0.979798   0.066667        0.0   0.277580   0.973666   0.989899   \n",
      "76   0.989899   0.133333        0.0   0.430605   0.990007   0.994950   \n",
      "77   0.994950   0.066667        0.0   0.263345   1.000000   1.000000   \n",
      "\n",
      "    var4(t+6)  var5(t+6)  \n",
      "7    0.000000        0.0  \n",
      "8    0.000000        0.0  \n",
      "9    0.000000        0.0  \n",
      "10   0.066667        0.0  \n",
      "11   0.000000        0.0  \n",
      "..        ...        ...  \n",
      "73   0.066667        0.0  \n",
      "74   0.066667        0.0  \n",
      "75   0.133333        0.0  \n",
      "76   0.066667        0.0  \n",
      "77   0.066667        0.0  \n",
      "\n",
      "[71 rows x 70 columns]\n",
      "(71, 70)\n",
      "(15, 70)\n",
      "(71, 14)\n",
      "(15, 14)\n"
     ]
    }
   ],
   "source": [
    "\n",
    "X_train=X_train\n",
    "X_test=X_test\n",
    "Y_train=Y_train\n",
    "Y_test=Y_test\n",
    "\n",
    "# ensure all data is float\n",
    "X_train = X_train.astype('float32')\n",
    "# ensure all data is float\n",
    "X_test = X_test.astype('float32')\n",
    "# ensure all data is float\n",
    "Y_test = Y_test.astype('float32')\n",
    "# ensure all data is float\n",
    "Y_train = Y_train.astype('float32')\n",
    "\n",
    "# normalize features\n",
    "\n",
    "X_train= scaler.fit_transform(X_train)\n",
    "X_test= scaler.fit_transform(X_test)\n",
    "Y_train= scaler2.fit_transform(Y_train)\n",
    "Y_test= scaler2.fit_transform(Y_test)\n",
    "\n",
    "# reframe as supervised learning\n",
    "# on doit toujours vers une conversion vers n_out ensuite con choisit le nombre de colonnes dont nous avons besoins\n",
    "X_train = series_to_supervised(X_train, nb_seq, n_out)\n",
    "X_test = series_to_supervised(X_test, nb_seq, n_out)\n",
    "print(X_train)\n",
    "print(X_train.shape)\n",
    "print(X_test.shape)\n",
    "Y_train = series_to_supervised(Y_train, nb_seq, n_out)\n",
    "Y_test = series_to_supervised(Y_test, nb_seq, n_out)\n",
    "print(Y_train.shape)\n",
    "print(Y_test.shape)\n"
   ]
  },
  {
   "cell_type": "code",
   "execution_count": 34,
   "metadata": {
    "colab": {
     "base_uri": "https://localhost:8080/",
     "height": 323
    },
    "colab_type": "code",
    "id": "cYXt69kl_9da",
    "outputId": "a70e1356-4d78-46a7-a572-fbb473de3fdc"
   },
   "outputs": [
    {
     "name": "stdout",
     "output_type": "stream",
     "text": [
      "    var1(t-7)  var2(t-7)  var3(t-7)  var4(t-7)  var5(t-7)  var1(t-6)  \\\n",
      "7    0.948718   0.000000   0.000000        0.0        0.0   0.547009   \n",
      "8    0.547009   0.045006   0.000000        0.0        0.0   0.452991   \n",
      "9    0.452991   0.083974   0.050000        0.5        0.0   0.786325   \n",
      "10   0.786325   0.144347   0.099999        0.5        0.0   0.512821   \n",
      "11   0.512821   0.187157   0.200000        1.0        0.0   0.880342   \n",
      "12   0.880342   0.253568   0.250000        0.5        0.0   0.478633   \n",
      "13   0.478633   0.294182   0.300000        0.5        0.0   0.076923   \n",
      "14   0.076923   0.309001   0.349999        0.5        0.0   0.692308   \n",
      "15   0.692308   0.363337   0.400000        0.5        0.0   0.230769   \n",
      "16   0.230769   0.388035   0.500000        1.0        0.0   0.051282   \n",
      "17   0.051282   0.401207   0.500000        0.0        0.0   0.205128   \n",
      "18   0.205128   0.424259   0.500000        0.0        0.0   0.452991   \n",
      "19   0.452991   0.463227   0.500000        0.0        0.0   0.410256   \n",
      "20   0.410256   0.499451   0.599999        1.0        0.0   0.076923   \n",
      "21   0.076923   0.514270   0.650000        0.5        0.0   0.068376   \n",
      "\n",
      "    var2(t-6)  var3(t-6)  var4(t-6)  var5(t-6)  ...  var1(t+5)  var2(t+5)  \\\n",
      "7    0.045006   0.000000        0.0        0.0  ...   0.452991   0.463227   \n",
      "8    0.083974   0.050000        0.5        0.0  ...   0.410256   0.499451   \n",
      "9    0.144347   0.099999        0.5        0.0  ...   0.076923   0.514270   \n",
      "10   0.187157   0.200000        1.0        0.0  ...   0.068376   0.528540   \n",
      "11   0.253568   0.250000        0.5        0.0  ...   0.128205   0.546652   \n",
      "12   0.294182   0.300000        0.5        0.0  ...   0.324786   0.577388   \n",
      "13   0.309001   0.349999        0.5        0.0  ...   0.538462   0.621844   \n",
      "14   0.363337   0.400000        0.5        0.0  ...   0.427350   0.659166   \n",
      "15   0.388035   0.500000        1.0        0.0  ...   0.367521   0.692646   \n",
      "16   0.401207   0.500000        0.0        0.0  ...   0.632479   0.743140   \n",
      "17   0.424259   0.500000        0.0        0.0  ...   0.512821   0.785950   \n",
      "18   0.463227   0.500000        0.0        0.0  ...   1.000000   0.860044   \n",
      "19   0.499451   0.599999        1.0        0.0  ...   0.000000   0.869923   \n",
      "20   0.514270   0.650000        0.5        0.0  ...   0.547009   0.914929   \n",
      "21   0.528540   0.650000        0.0        0.0  ...   0.470086   0.954995   \n",
      "\n",
      "    var3(t+5)  var4(t+5)  var5(t+5)  var1(t+6)  var2(t+6)  var3(t+6)  \\\n",
      "7    0.500000        0.0        0.0   0.410256   0.499451   0.599999   \n",
      "8    0.599999        1.0        0.0   0.076923   0.514270   0.650000   \n",
      "9    0.650000        0.5        0.0   0.068376   0.528540   0.650000   \n",
      "10   0.650000        0.0        0.0   0.128205   0.546652   0.700000   \n",
      "11   0.700000        0.5        0.0   0.324786   0.577388   0.700000   \n",
      "12   0.700000        0.0        0.0   0.538462   0.621844   0.800000   \n",
      "13   0.800000        1.0        0.0   0.427350   0.659166   0.800000   \n",
      "14   0.800000        0.0        0.0   0.367521   0.692646   0.800000   \n",
      "15   0.800000        0.0        0.0   0.632479   0.743140   0.800000   \n",
      "16   0.800000        0.0        0.0   0.512821   0.785950   0.800000   \n",
      "17   0.800000        0.0        0.0   1.000000   0.860044   0.900000   \n",
      "18   0.900000        1.0        0.0   0.000000   0.869923   0.900000   \n",
      "19   0.900000        0.0        0.0   0.547009   0.914929   0.950000   \n",
      "20   0.950000        0.5        0.0   0.470086   0.954995   1.000000   \n",
      "21   1.000000        0.5        0.0   0.547009   1.000000   1.000000   \n",
      "\n",
      "    var4(t+6)  var5(t+6)  \n",
      "7         1.0        0.0  \n",
      "8         0.5        0.0  \n",
      "9         0.0        0.0  \n",
      "10        0.5        0.0  \n",
      "11        0.0        0.0  \n",
      "12        1.0        0.0  \n",
      "13        0.0        0.0  \n",
      "14        0.0        0.0  \n",
      "15        0.0        0.0  \n",
      "16        0.0        0.0  \n",
      "17        1.0        0.0  \n",
      "18        0.0        0.0  \n",
      "19        0.5        0.0  \n",
      "20        0.5        0.0  \n",
      "21        0.0        0.0  \n",
      "\n",
      "[15 rows x 70 columns]\n"
     ]
    }
   ],
   "source": [
    "print(X_test)"
   ]
  },
  {
   "cell_type": "code",
   "execution_count": 35,
   "metadata": {
    "colab": {},
    "colab_type": "code",
    "id": "8Dcz-maG0iU6"
   },
   "outputs": [],
   "source": [
    "#col_y_need_train = df.filter(regex=(\"d.*\"))"
   ]
  },
  {
   "cell_type": "code",
   "execution_count": 36,
   "metadata": {
    "colab": {
     "base_uri": "https://localhost:8080/",
     "height": 456
    },
    "colab_type": "code",
    "id": "HbSgu1Up9QtY",
    "outputId": "df6dac52-4e48-4c6a-d813-b1682d6a48df"
   },
   "outputs": [
    {
     "data": {
      "text/html": [
       "<div>\n",
       "<style scoped>\n",
       "    .dataframe tbody tr th:only-of-type {\n",
       "        vertical-align: middle;\n",
       "    }\n",
       "\n",
       "    .dataframe tbody tr th {\n",
       "        vertical-align: top;\n",
       "    }\n",
       "\n",
       "    .dataframe thead th {\n",
       "        text-align: right;\n",
       "    }\n",
       "</style>\n",
       "<table border=\"1\" class=\"dataframe\">\n",
       "  <thead>\n",
       "    <tr style=\"text-align: right;\">\n",
       "      <th></th>\n",
       "      <th>var1(t-7)</th>\n",
       "      <th>var2(t-7)</th>\n",
       "      <th>var3(t-7)</th>\n",
       "      <th>var4(t-7)</th>\n",
       "      <th>var5(t-7)</th>\n",
       "      <th>var1(t-6)</th>\n",
       "      <th>var2(t-6)</th>\n",
       "      <th>var3(t-6)</th>\n",
       "      <th>var4(t-6)</th>\n",
       "      <th>var5(t-6)</th>\n",
       "      <th>...</th>\n",
       "      <th>var1(t+5)</th>\n",
       "      <th>var2(t+5)</th>\n",
       "      <th>var3(t+5)</th>\n",
       "      <th>var4(t+5)</th>\n",
       "      <th>var5(t+5)</th>\n",
       "      <th>var1(t+6)</th>\n",
       "      <th>var2(t+6)</th>\n",
       "      <th>var3(t+6)</th>\n",
       "      <th>var4(t+6)</th>\n",
       "      <th>var5(t+6)</th>\n",
       "    </tr>\n",
       "  </thead>\n",
       "  <tbody>\n",
       "    <tr>\n",
       "      <th>7</th>\n",
       "      <td>0.024911</td>\n",
       "      <td>0.082917</td>\n",
       "      <td>0.050505</td>\n",
       "      <td>0.000000</td>\n",
       "      <td>0.0</td>\n",
       "      <td>0.003559</td>\n",
       "      <td>0.000000</td>\n",
       "      <td>0.000000</td>\n",
       "      <td>0.000000</td>\n",
       "      <td>0.0</td>\n",
       "      <td>...</td>\n",
       "      <td>0.003559</td>\n",
       "      <td>0.000810</td>\n",
       "      <td>0.005051</td>\n",
       "      <td>0.000000</td>\n",
       "      <td>0.0</td>\n",
       "      <td>0.039146</td>\n",
       "      <td>0.002296</td>\n",
       "      <td>0.005051</td>\n",
       "      <td>0.000000</td>\n",
       "      <td>0.0</td>\n",
       "    </tr>\n",
       "    <tr>\n",
       "      <th>8</th>\n",
       "      <td>0.003559</td>\n",
       "      <td>0.000000</td>\n",
       "      <td>0.000000</td>\n",
       "      <td>0.000000</td>\n",
       "      <td>0.0</td>\n",
       "      <td>0.024911</td>\n",
       "      <td>0.082917</td>\n",
       "      <td>0.050505</td>\n",
       "      <td>0.000000</td>\n",
       "      <td>0.0</td>\n",
       "      <td>...</td>\n",
       "      <td>0.039146</td>\n",
       "      <td>0.002296</td>\n",
       "      <td>0.005051</td>\n",
       "      <td>0.000000</td>\n",
       "      <td>0.0</td>\n",
       "      <td>0.035587</td>\n",
       "      <td>0.003646</td>\n",
       "      <td>0.005051</td>\n",
       "      <td>0.000000</td>\n",
       "      <td>0.0</td>\n",
       "    </tr>\n",
       "    <tr>\n",
       "      <th>9</th>\n",
       "      <td>0.024911</td>\n",
       "      <td>0.082917</td>\n",
       "      <td>0.050505</td>\n",
       "      <td>0.000000</td>\n",
       "      <td>0.0</td>\n",
       "      <td>0.024911</td>\n",
       "      <td>0.082917</td>\n",
       "      <td>0.050505</td>\n",
       "      <td>0.000000</td>\n",
       "      <td>0.0</td>\n",
       "      <td>...</td>\n",
       "      <td>0.035587</td>\n",
       "      <td>0.003646</td>\n",
       "      <td>0.005051</td>\n",
       "      <td>0.000000</td>\n",
       "      <td>0.0</td>\n",
       "      <td>0.032028</td>\n",
       "      <td>0.004862</td>\n",
       "      <td>0.005051</td>\n",
       "      <td>0.000000</td>\n",
       "      <td>0.0</td>\n",
       "    </tr>\n",
       "    <tr>\n",
       "      <th>10</th>\n",
       "      <td>0.024911</td>\n",
       "      <td>0.082917</td>\n",
       "      <td>0.050505</td>\n",
       "      <td>0.000000</td>\n",
       "      <td>0.0</td>\n",
       "      <td>0.003559</td>\n",
       "      <td>0.000135</td>\n",
       "      <td>0.000000</td>\n",
       "      <td>0.000000</td>\n",
       "      <td>0.0</td>\n",
       "      <td>...</td>\n",
       "      <td>0.032028</td>\n",
       "      <td>0.004862</td>\n",
       "      <td>0.005051</td>\n",
       "      <td>0.000000</td>\n",
       "      <td>0.0</td>\n",
       "      <td>0.024911</td>\n",
       "      <td>0.005807</td>\n",
       "      <td>0.010101</td>\n",
       "      <td>0.066667</td>\n",
       "      <td>0.0</td>\n",
       "    </tr>\n",
       "    <tr>\n",
       "      <th>11</th>\n",
       "      <td>0.003559</td>\n",
       "      <td>0.000135</td>\n",
       "      <td>0.000000</td>\n",
       "      <td>0.000000</td>\n",
       "      <td>0.0</td>\n",
       "      <td>0.024911</td>\n",
       "      <td>0.082917</td>\n",
       "      <td>0.050505</td>\n",
       "      <td>0.000000</td>\n",
       "      <td>0.0</td>\n",
       "      <td>...</td>\n",
       "      <td>0.024911</td>\n",
       "      <td>0.005807</td>\n",
       "      <td>0.010101</td>\n",
       "      <td>0.066667</td>\n",
       "      <td>0.0</td>\n",
       "      <td>0.035587</td>\n",
       "      <td>0.007157</td>\n",
       "      <td>0.010101</td>\n",
       "      <td>0.000000</td>\n",
       "      <td>0.0</td>\n",
       "    </tr>\n",
       "    <tr>\n",
       "      <th>...</th>\n",
       "      <td>...</td>\n",
       "      <td>...</td>\n",
       "      <td>...</td>\n",
       "      <td>...</td>\n",
       "      <td>...</td>\n",
       "      <td>...</td>\n",
       "      <td>...</td>\n",
       "      <td>...</td>\n",
       "      <td>...</td>\n",
       "      <td>...</td>\n",
       "      <td>...</td>\n",
       "      <td>...</td>\n",
       "      <td>...</td>\n",
       "      <td>...</td>\n",
       "      <td>...</td>\n",
       "      <td>...</td>\n",
       "      <td>...</td>\n",
       "      <td>...</td>\n",
       "      <td>...</td>\n",
       "      <td>...</td>\n",
       "      <td>...</td>\n",
       "    </tr>\n",
       "    <tr>\n",
       "      <th>73</th>\n",
       "      <td>0.672598</td>\n",
       "      <td>0.730182</td>\n",
       "      <td>0.924242</td>\n",
       "      <td>0.133333</td>\n",
       "      <td>0.0</td>\n",
       "      <td>0.498221</td>\n",
       "      <td>0.749088</td>\n",
       "      <td>0.924242</td>\n",
       "      <td>0.000000</td>\n",
       "      <td>0.0</td>\n",
       "      <td>...</td>\n",
       "      <td>0.291815</td>\n",
       "      <td>0.938690</td>\n",
       "      <td>0.969697</td>\n",
       "      <td>0.000000</td>\n",
       "      <td>0.0</td>\n",
       "      <td>0.252669</td>\n",
       "      <td>0.948278</td>\n",
       "      <td>0.974747</td>\n",
       "      <td>0.066667</td>\n",
       "      <td>0.0</td>\n",
       "    </tr>\n",
       "    <tr>\n",
       "      <th>74</th>\n",
       "      <td>0.498221</td>\n",
       "      <td>0.749088</td>\n",
       "      <td>0.924242</td>\n",
       "      <td>0.000000</td>\n",
       "      <td>0.0</td>\n",
       "      <td>0.580071</td>\n",
       "      <td>0.771101</td>\n",
       "      <td>0.939394</td>\n",
       "      <td>0.200000</td>\n",
       "      <td>0.0</td>\n",
       "      <td>...</td>\n",
       "      <td>0.252669</td>\n",
       "      <td>0.948278</td>\n",
       "      <td>0.974747</td>\n",
       "      <td>0.066667</td>\n",
       "      <td>0.0</td>\n",
       "      <td>0.391459</td>\n",
       "      <td>0.963133</td>\n",
       "      <td>0.979798</td>\n",
       "      <td>0.066667</td>\n",
       "      <td>0.0</td>\n",
       "    </tr>\n",
       "    <tr>\n",
       "      <th>75</th>\n",
       "      <td>0.580071</td>\n",
       "      <td>0.771101</td>\n",
       "      <td>0.939394</td>\n",
       "      <td>0.200000</td>\n",
       "      <td>0.0</td>\n",
       "      <td>0.708185</td>\n",
       "      <td>0.797974</td>\n",
       "      <td>0.939394</td>\n",
       "      <td>0.000000</td>\n",
       "      <td>0.0</td>\n",
       "      <td>...</td>\n",
       "      <td>0.391459</td>\n",
       "      <td>0.963133</td>\n",
       "      <td>0.979798</td>\n",
       "      <td>0.066667</td>\n",
       "      <td>0.0</td>\n",
       "      <td>0.277580</td>\n",
       "      <td>0.973666</td>\n",
       "      <td>0.989899</td>\n",
       "      <td>0.133333</td>\n",
       "      <td>0.0</td>\n",
       "    </tr>\n",
       "    <tr>\n",
       "      <th>76</th>\n",
       "      <td>0.708185</td>\n",
       "      <td>0.797974</td>\n",
       "      <td>0.939394</td>\n",
       "      <td>0.000000</td>\n",
       "      <td>0.0</td>\n",
       "      <td>0.544484</td>\n",
       "      <td>0.818636</td>\n",
       "      <td>0.949495</td>\n",
       "      <td>0.133333</td>\n",
       "      <td>0.0</td>\n",
       "      <td>...</td>\n",
       "      <td>0.277580</td>\n",
       "      <td>0.973666</td>\n",
       "      <td>0.989899</td>\n",
       "      <td>0.133333</td>\n",
       "      <td>0.0</td>\n",
       "      <td>0.430605</td>\n",
       "      <td>0.990007</td>\n",
       "      <td>0.994950</td>\n",
       "      <td>0.066667</td>\n",
       "      <td>0.0</td>\n",
       "    </tr>\n",
       "    <tr>\n",
       "      <th>77</th>\n",
       "      <td>0.544484</td>\n",
       "      <td>0.818636</td>\n",
       "      <td>0.949495</td>\n",
       "      <td>0.133333</td>\n",
       "      <td>0.0</td>\n",
       "      <td>0.775801</td>\n",
       "      <td>0.848076</td>\n",
       "      <td>0.949495</td>\n",
       "      <td>0.000000</td>\n",
       "      <td>0.0</td>\n",
       "      <td>...</td>\n",
       "      <td>0.430605</td>\n",
       "      <td>0.990007</td>\n",
       "      <td>0.994950</td>\n",
       "      <td>0.066667</td>\n",
       "      <td>0.0</td>\n",
       "      <td>0.263345</td>\n",
       "      <td>1.000000</td>\n",
       "      <td>1.000000</td>\n",
       "      <td>0.066667</td>\n",
       "      <td>0.0</td>\n",
       "    </tr>\n",
       "  </tbody>\n",
       "</table>\n",
       "<p>71 rows × 70 columns</p>\n",
       "</div>"
      ],
      "text/plain": [
       "    var1(t-7)  var2(t-7)  var3(t-7)  var4(t-7)  var5(t-7)  var1(t-6)  \\\n",
       "7    0.024911   0.082917   0.050505   0.000000        0.0   0.003559   \n",
       "8    0.003559   0.000000   0.000000   0.000000        0.0   0.024911   \n",
       "9    0.024911   0.082917   0.050505   0.000000        0.0   0.024911   \n",
       "10   0.024911   0.082917   0.050505   0.000000        0.0   0.003559   \n",
       "11   0.003559   0.000135   0.000000   0.000000        0.0   0.024911   \n",
       "..        ...        ...        ...        ...        ...        ...   \n",
       "73   0.672598   0.730182   0.924242   0.133333        0.0   0.498221   \n",
       "74   0.498221   0.749088   0.924242   0.000000        0.0   0.580071   \n",
       "75   0.580071   0.771101   0.939394   0.200000        0.0   0.708185   \n",
       "76   0.708185   0.797974   0.939394   0.000000        0.0   0.544484   \n",
       "77   0.544484   0.818636   0.949495   0.133333        0.0   0.775801   \n",
       "\n",
       "    var2(t-6)  var3(t-6)  var4(t-6)  var5(t-6)  ...  var1(t+5)  var2(t+5)  \\\n",
       "7    0.000000   0.000000   0.000000        0.0  ...   0.003559   0.000810   \n",
       "8    0.082917   0.050505   0.000000        0.0  ...   0.039146   0.002296   \n",
       "9    0.082917   0.050505   0.000000        0.0  ...   0.035587   0.003646   \n",
       "10   0.000135   0.000000   0.000000        0.0  ...   0.032028   0.004862   \n",
       "11   0.082917   0.050505   0.000000        0.0  ...   0.024911   0.005807   \n",
       "..        ...        ...        ...        ...  ...        ...        ...   \n",
       "73   0.749088   0.924242   0.000000        0.0  ...   0.291815   0.938690   \n",
       "74   0.771101   0.939394   0.200000        0.0  ...   0.252669   0.948278   \n",
       "75   0.797974   0.939394   0.000000        0.0  ...   0.391459   0.963133   \n",
       "76   0.818636   0.949495   0.133333        0.0  ...   0.277580   0.973666   \n",
       "77   0.848076   0.949495   0.000000        0.0  ...   0.430605   0.990007   \n",
       "\n",
       "    var3(t+5)  var4(t+5)  var5(t+5)  var1(t+6)  var2(t+6)  var3(t+6)  \\\n",
       "7    0.005051   0.000000        0.0   0.039146   0.002296   0.005051   \n",
       "8    0.005051   0.000000        0.0   0.035587   0.003646   0.005051   \n",
       "9    0.005051   0.000000        0.0   0.032028   0.004862   0.005051   \n",
       "10   0.005051   0.000000        0.0   0.024911   0.005807   0.010101   \n",
       "11   0.010101   0.066667        0.0   0.035587   0.007157   0.010101   \n",
       "..        ...        ...        ...        ...        ...        ...   \n",
       "73   0.969697   0.000000        0.0   0.252669   0.948278   0.974747   \n",
       "74   0.974747   0.066667        0.0   0.391459   0.963133   0.979798   \n",
       "75   0.979798   0.066667        0.0   0.277580   0.973666   0.989899   \n",
       "76   0.989899   0.133333        0.0   0.430605   0.990007   0.994950   \n",
       "77   0.994950   0.066667        0.0   0.263345   1.000000   1.000000   \n",
       "\n",
       "    var4(t+6)  var5(t+6)  \n",
       "7    0.000000        0.0  \n",
       "8    0.000000        0.0  \n",
       "9    0.000000        0.0  \n",
       "10   0.066667        0.0  \n",
       "11   0.000000        0.0  \n",
       "..        ...        ...  \n",
       "73   0.066667        0.0  \n",
       "74   0.066667        0.0  \n",
       "75   0.133333        0.0  \n",
       "76   0.066667        0.0  \n",
       "77   0.066667        0.0  \n",
       "\n",
       "[71 rows x 70 columns]"
      ]
     },
     "execution_count": 36,
     "metadata": {},
     "output_type": "execute_result"
    }
   ],
   "source": [
    "#col_y_need_train=X_train.columns[[35,40,45,50,55,60,65]]\n",
    "#col_y_need_test=X_test.columns[[35,40,45,50,55,60,65]]\n",
    "X_train"
   ]
  },
  {
   "cell_type": "code",
   "execution_count": 37,
   "metadata": {
    "colab": {
     "base_uri": "https://localhost:8080/",
     "height": 204
    },
    "colab_type": "code",
    "id": "q05jJm5-9Qtq",
    "outputId": "d16e011e-0bed-425f-ee03-acb34de604c5"
   },
   "outputs": [
    {
     "data": {
      "text/html": [
       "<div>\n",
       "<style scoped>\n",
       "    .dataframe tbody tr th:only-of-type {\n",
       "        vertical-align: middle;\n",
       "    }\n",
       "\n",
       "    .dataframe tbody tr th {\n",
       "        vertical-align: top;\n",
       "    }\n",
       "\n",
       "    .dataframe thead th {\n",
       "        text-align: right;\n",
       "    }\n",
       "</style>\n",
       "<table border=\"1\" class=\"dataframe\">\n",
       "  <thead>\n",
       "    <tr style=\"text-align: right;\">\n",
       "      <th></th>\n",
       "      <th>var1(t-7)</th>\n",
       "      <th>var1(t-6)</th>\n",
       "      <th>var1(t-5)</th>\n",
       "      <th>var1(t-4)</th>\n",
       "      <th>var1(t-3)</th>\n",
       "      <th>var1(t-2)</th>\n",
       "      <th>var1(t-1)</th>\n",
       "      <th>var1(t)</th>\n",
       "      <th>var1(t+1)</th>\n",
       "      <th>var1(t+2)</th>\n",
       "      <th>var1(t+3)</th>\n",
       "      <th>var1(t+4)</th>\n",
       "      <th>var1(t+5)</th>\n",
       "      <th>var1(t+6)</th>\n",
       "    </tr>\n",
       "  </thead>\n",
       "  <tbody>\n",
       "    <tr>\n",
       "      <th>7</th>\n",
       "      <td>0.024911</td>\n",
       "      <td>0.003559</td>\n",
       "      <td>0.024911</td>\n",
       "      <td>0.024911</td>\n",
       "      <td>0.003559</td>\n",
       "      <td>0.024911</td>\n",
       "      <td>0.024911</td>\n",
       "      <td>0.024911</td>\n",
       "      <td>0.024911</td>\n",
       "      <td>0.024911</td>\n",
       "      <td>0.010676</td>\n",
       "      <td>0.003559</td>\n",
       "      <td>0.003559</td>\n",
       "      <td>0.039146</td>\n",
       "    </tr>\n",
       "    <tr>\n",
       "      <th>8</th>\n",
       "      <td>0.003559</td>\n",
       "      <td>0.024911</td>\n",
       "      <td>0.024911</td>\n",
       "      <td>0.003559</td>\n",
       "      <td>0.024911</td>\n",
       "      <td>0.024911</td>\n",
       "      <td>0.024911</td>\n",
       "      <td>0.024911</td>\n",
       "      <td>0.024911</td>\n",
       "      <td>0.010676</td>\n",
       "      <td>0.003559</td>\n",
       "      <td>0.003559</td>\n",
       "      <td>0.039146</td>\n",
       "      <td>0.035587</td>\n",
       "    </tr>\n",
       "    <tr>\n",
       "      <th>9</th>\n",
       "      <td>0.024911</td>\n",
       "      <td>0.024911</td>\n",
       "      <td>0.003559</td>\n",
       "      <td>0.024911</td>\n",
       "      <td>0.024911</td>\n",
       "      <td>0.024911</td>\n",
       "      <td>0.024911</td>\n",
       "      <td>0.024911</td>\n",
       "      <td>0.010676</td>\n",
       "      <td>0.003559</td>\n",
       "      <td>0.003559</td>\n",
       "      <td>0.039146</td>\n",
       "      <td>0.035587</td>\n",
       "      <td>0.032028</td>\n",
       "    </tr>\n",
       "    <tr>\n",
       "      <th>10</th>\n",
       "      <td>0.024911</td>\n",
       "      <td>0.003559</td>\n",
       "      <td>0.024911</td>\n",
       "      <td>0.024911</td>\n",
       "      <td>0.024911</td>\n",
       "      <td>0.024911</td>\n",
       "      <td>0.024911</td>\n",
       "      <td>0.010676</td>\n",
       "      <td>0.003559</td>\n",
       "      <td>0.003559</td>\n",
       "      <td>0.039146</td>\n",
       "      <td>0.035587</td>\n",
       "      <td>0.032028</td>\n",
       "      <td>0.024911</td>\n",
       "    </tr>\n",
       "    <tr>\n",
       "      <th>11</th>\n",
       "      <td>0.003559</td>\n",
       "      <td>0.024911</td>\n",
       "      <td>0.024911</td>\n",
       "      <td>0.024911</td>\n",
       "      <td>0.024911</td>\n",
       "      <td>0.024911</td>\n",
       "      <td>0.010676</td>\n",
       "      <td>0.003559</td>\n",
       "      <td>0.003559</td>\n",
       "      <td>0.039146</td>\n",
       "      <td>0.035587</td>\n",
       "      <td>0.032028</td>\n",
       "      <td>0.024911</td>\n",
       "      <td>0.035587</td>\n",
       "    </tr>\n",
       "  </tbody>\n",
       "</table>\n",
       "</div>"
      ],
      "text/plain": [
       "    var1(t-7)  var1(t-6)  var1(t-5)  var1(t-4)  var1(t-3)  var1(t-2)  \\\n",
       "7    0.024911   0.003559   0.024911   0.024911   0.003559   0.024911   \n",
       "8    0.003559   0.024911   0.024911   0.003559   0.024911   0.024911   \n",
       "9    0.024911   0.024911   0.003559   0.024911   0.024911   0.024911   \n",
       "10   0.024911   0.003559   0.024911   0.024911   0.024911   0.024911   \n",
       "11   0.003559   0.024911   0.024911   0.024911   0.024911   0.024911   \n",
       "\n",
       "    var1(t-1)   var1(t)  var1(t+1)  var1(t+2)  var1(t+3)  var1(t+4)  \\\n",
       "7    0.024911  0.024911   0.024911   0.024911   0.010676   0.003559   \n",
       "8    0.024911  0.024911   0.024911   0.010676   0.003559   0.003559   \n",
       "9    0.024911  0.024911   0.010676   0.003559   0.003559   0.039146   \n",
       "10   0.024911  0.010676   0.003559   0.003559   0.039146   0.035587   \n",
       "11   0.010676  0.003559   0.003559   0.039146   0.035587   0.032028   \n",
       "\n",
       "    var1(t+5)  var1(t+6)  \n",
       "7    0.003559   0.039146  \n",
       "8    0.039146   0.035587  \n",
       "9    0.035587   0.032028  \n",
       "10   0.032028   0.024911  \n",
       "11   0.024911   0.035587  "
      ]
     },
     "execution_count": 37,
     "metadata": {},
     "output_type": "execute_result"
    }
   ],
   "source": [
    "Y_train.head(5)"
   ]
  },
  {
   "cell_type": "code",
   "execution_count": 38,
   "metadata": {
    "colab": {},
    "colab_type": "code",
    "id": "MHjdzxPrIcbM"
   },
   "outputs": [],
   "source": [
    "#raise SystemExit(\"Stop right there!\")"
   ]
  },
  {
   "cell_type": "code",
   "execution_count": 39,
   "metadata": {
    "colab": {},
    "colab_type": "code",
    "id": "VHWuvjKEsO81"
   },
   "outputs": [],
   "source": [
    "# regex : var[1-i]\\(t\\-\\d{1,2}\\)$\n",
    "#i = 1 if nb_seq== 7 else 2 if nb_seq== 6 else 3 if nb_seq== 5 else 4 if nb_seq== 4 else 5 if nb_seq== 3 else 6 if nb_seq== 2 else 7 if nb_seq== 1 else 0\n",
    "col_take= 'var[1-j]\\(t\\-[1-i]\\)$'\n",
    "col_take = col_take.replace(\"i\", str(nb_seq))\n",
    "col_take = col_take.replace(\"j\", str(nb_col))\n",
    "regex_find = col_take"
   ]
  },
  {
   "cell_type": "code",
   "execution_count": 40,
   "metadata": {
    "colab": {},
    "colab_type": "code",
    "id": "uoBVVOfjcAWl"
   },
   "outputs": [],
   "source": [
    "col_x_need_train =X_train.filter(regex=regex_find,axis=1).head(1)"
   ]
  },
  {
   "cell_type": "code",
   "execution_count": 41,
   "metadata": {
    "colab": {
     "base_uri": "https://localhost:8080/",
     "height": 117
    },
    "colab_type": "code",
    "id": "5GN1s0yvickp",
    "outputId": "94765abf-d0b4-4bff-8b8b-1aaf84254161"
   },
   "outputs": [
    {
     "data": {
      "text/html": [
       "<div>\n",
       "<style scoped>\n",
       "    .dataframe tbody tr th:only-of-type {\n",
       "        vertical-align: middle;\n",
       "    }\n",
       "\n",
       "    .dataframe tbody tr th {\n",
       "        vertical-align: top;\n",
       "    }\n",
       "\n",
       "    .dataframe thead th {\n",
       "        text-align: right;\n",
       "    }\n",
       "</style>\n",
       "<table border=\"1\" class=\"dataframe\">\n",
       "  <thead>\n",
       "    <tr style=\"text-align: right;\">\n",
       "      <th></th>\n",
       "      <th>var1(t-7)</th>\n",
       "      <th>var2(t-7)</th>\n",
       "      <th>var3(t-7)</th>\n",
       "      <th>var4(t-7)</th>\n",
       "      <th>var5(t-7)</th>\n",
       "      <th>var1(t-6)</th>\n",
       "      <th>var2(t-6)</th>\n",
       "      <th>var3(t-6)</th>\n",
       "      <th>var4(t-6)</th>\n",
       "      <th>var5(t-6)</th>\n",
       "      <th>...</th>\n",
       "      <th>var1(t-2)</th>\n",
       "      <th>var2(t-2)</th>\n",
       "      <th>var3(t-2)</th>\n",
       "      <th>var4(t-2)</th>\n",
       "      <th>var5(t-2)</th>\n",
       "      <th>var1(t-1)</th>\n",
       "      <th>var2(t-1)</th>\n",
       "      <th>var3(t-1)</th>\n",
       "      <th>var4(t-1)</th>\n",
       "      <th>var5(t-1)</th>\n",
       "    </tr>\n",
       "  </thead>\n",
       "  <tbody>\n",
       "    <tr>\n",
       "      <th>7</th>\n",
       "      <td>0.024911</td>\n",
       "      <td>0.082917</td>\n",
       "      <td>0.050505</td>\n",
       "      <td>0.0</td>\n",
       "      <td>0.0</td>\n",
       "      <td>0.003559</td>\n",
       "      <td>0.0</td>\n",
       "      <td>0.0</td>\n",
       "      <td>0.0</td>\n",
       "      <td>0.0</td>\n",
       "      <td>...</td>\n",
       "      <td>0.024911</td>\n",
       "      <td>0.082917</td>\n",
       "      <td>0.050505</td>\n",
       "      <td>0.0</td>\n",
       "      <td>0.0</td>\n",
       "      <td>0.024911</td>\n",
       "      <td>0.082917</td>\n",
       "      <td>0.050505</td>\n",
       "      <td>0.0</td>\n",
       "      <td>0.0</td>\n",
       "    </tr>\n",
       "  </tbody>\n",
       "</table>\n",
       "<p>1 rows × 35 columns</p>\n",
       "</div>"
      ],
      "text/plain": [
       "   var1(t-7)  var2(t-7)  var3(t-7)  var4(t-7)  var5(t-7)  var1(t-6)  \\\n",
       "7   0.024911   0.082917   0.050505        0.0        0.0   0.003559   \n",
       "\n",
       "   var2(t-6)  var3(t-6)  var4(t-6)  var5(t-6)  ...  var1(t-2)  var2(t-2)  \\\n",
       "7        0.0        0.0        0.0        0.0  ...   0.024911   0.082917   \n",
       "\n",
       "   var3(t-2)  var4(t-2)  var5(t-2)  var1(t-1)  var2(t-1)  var3(t-1)  \\\n",
       "7   0.050505        0.0        0.0   0.024911   0.082917   0.050505   \n",
       "\n",
       "   var4(t-1)  var5(t-1)  \n",
       "7        0.0        0.0  \n",
       "\n",
       "[1 rows x 35 columns]"
      ]
     },
     "execution_count": 41,
     "metadata": {},
     "output_type": "execute_result"
    }
   ],
   "source": [
    "col_x_need_train"
   ]
  },
  {
   "cell_type": "code",
   "execution_count": 42,
   "metadata": {
    "colab": {
     "base_uri": "https://localhost:8080/",
     "height": 80
    },
    "colab_type": "code",
    "id": "pppynxRkncZs",
    "outputId": "23f59cba-21bd-4334-932f-8d6682fe0eef"
   },
   "outputs": [
    {
     "data": {
      "text/html": [
       "<div>\n",
       "<style scoped>\n",
       "    .dataframe tbody tr th:only-of-type {\n",
       "        vertical-align: middle;\n",
       "    }\n",
       "\n",
       "    .dataframe tbody tr th {\n",
       "        vertical-align: top;\n",
       "    }\n",
       "\n",
       "    .dataframe thead th {\n",
       "        text-align: right;\n",
       "    }\n",
       "</style>\n",
       "<table border=\"1\" class=\"dataframe\">\n",
       "  <thead>\n",
       "    <tr style=\"text-align: right;\">\n",
       "      <th></th>\n",
       "      <th>var1(t)</th>\n",
       "      <th>var1(t+1)</th>\n",
       "      <th>var1(t+2)</th>\n",
       "      <th>var1(t+3)</th>\n",
       "      <th>var1(t+4)</th>\n",
       "      <th>var1(t+5)</th>\n",
       "      <th>var1(t+6)</th>\n",
       "    </tr>\n",
       "  </thead>\n",
       "  <tbody>\n",
       "    <tr>\n",
       "      <th>7</th>\n",
       "      <td>0.024911</td>\n",
       "      <td>0.024911</td>\n",
       "      <td>0.024911</td>\n",
       "      <td>0.010676</td>\n",
       "      <td>0.003559</td>\n",
       "      <td>0.003559</td>\n",
       "      <td>0.039146</td>\n",
       "    </tr>\n",
       "  </tbody>\n",
       "</table>\n",
       "</div>"
      ],
      "text/plain": [
       "    var1(t)  var1(t+1)  var1(t+2)  var1(t+3)  var1(t+4)  var1(t+5)  var1(t+6)\n",
       "7  0.024911   0.024911   0.024911   0.010676   0.003559   0.003559   0.039146"
      ]
     },
     "execution_count": 42,
     "metadata": {},
     "output_type": "execute_result"
    }
   ],
   "source": [
    "#col_take2= 'var[1-i](\\(t\\+\\d{1}\\)|(\\(t\\)))$'\n",
    "col_take2= 'var1(\\(t\\+\\d{1}\\)|(\\(t\\)))$'\n",
    "#col_take2 = col_take2.replace(\"i\", str(nb_seq))\n",
    "regex_find2 = col_take2\n",
    "Y_train.filter(regex=regex_find2,axis=1).head(1)"
   ]
  },
  {
   "cell_type": "code",
   "execution_count": 43,
   "metadata": {
    "colab": {},
    "colab_type": "code",
    "id": "ANB0h6aIi_US"
   },
   "outputs": [],
   "source": [
    "#raise SystemExit(\"Stop right there!\")"
   ]
  },
  {
   "cell_type": "code",
   "execution_count": 44,
   "metadata": {
    "colab": {},
    "colab_type": "code",
    "id": "1-OQ97TjJhvq"
   },
   "outputs": [],
   "source": [
    "#col_x_need_train=X_train.columns[[0,1,2,3,4,5,6,7,8,9,10,11,12,13,14,15,16,17,18,19,20,21,22,23,24,25,26,27,28,29,30,31,32,33,34]]\n",
    "#col_x_need_test=X_test.columns[[0,1,2,3,4,5,6,7,8,9,10,11,12,13,14,15,16,17,18,19,20,21,22,23,24,25,26,27,28,29,30,31,32,33,34]]"
   ]
  },
  {
   "cell_type": "code",
   "execution_count": 45,
   "metadata": {
    "colab": {},
    "colab_type": "code",
    "id": "DrNN8HnZLQHp"
   },
   "outputs": [],
   "source": [
    "#col_x_need_train"
   ]
  },
  {
   "cell_type": "code",
   "execution_count": 46,
   "metadata": {
    "colab": {
     "base_uri": "https://localhost:8080/",
     "height": 51
    },
    "colab_type": "code",
    "id": "SL10kb5XJRk3",
    "outputId": "7ee1a2e8-4a6d-4a95-85a1-437e42b36f1e"
   },
   "outputs": [
    {
     "name": "stdout",
     "output_type": "stream",
     "text": [
      "(71, 7)\n",
      "(15, 7)\n"
     ]
    }
   ],
   "source": [
    "# drop columns we don't want to predict\n",
    "Y_train = Y_train.filter(regex='var[1-7](\\(t\\+\\d{1}\\)|(\\(t\\)))$',axis=1)\n",
    "Y_test=Y_test.filter(regex='var[1-7](\\(t\\+\\d{1}\\)|(\\(t\\)))$',axis=1)\n",
    "Y_train\n",
    "print(Y_train.shape)\n",
    "print(Y_test.shape)\n"
   ]
  },
  {
   "cell_type": "code",
   "execution_count": 47,
   "metadata": {
    "colab": {
     "base_uri": "https://localhost:8080/",
     "height": 204
    },
    "colab_type": "code",
    "id": "SZUaUtU7oEfA",
    "outputId": "12b2f666-9add-4f88-9093-2d308ab8c295"
   },
   "outputs": [
    {
     "data": {
      "text/html": [
       "<div>\n",
       "<style scoped>\n",
       "    .dataframe tbody tr th:only-of-type {\n",
       "        vertical-align: middle;\n",
       "    }\n",
       "\n",
       "    .dataframe tbody tr th {\n",
       "        vertical-align: top;\n",
       "    }\n",
       "\n",
       "    .dataframe thead th {\n",
       "        text-align: right;\n",
       "    }\n",
       "</style>\n",
       "<table border=\"1\" class=\"dataframe\">\n",
       "  <thead>\n",
       "    <tr style=\"text-align: right;\">\n",
       "      <th></th>\n",
       "      <th>var1(t)</th>\n",
       "      <th>var1(t+1)</th>\n",
       "      <th>var1(t+2)</th>\n",
       "      <th>var1(t+3)</th>\n",
       "      <th>var1(t+4)</th>\n",
       "      <th>var1(t+5)</th>\n",
       "      <th>var1(t+6)</th>\n",
       "    </tr>\n",
       "  </thead>\n",
       "  <tbody>\n",
       "    <tr>\n",
       "      <th>7</th>\n",
       "      <td>0.024911</td>\n",
       "      <td>0.024911</td>\n",
       "      <td>0.024911</td>\n",
       "      <td>0.010676</td>\n",
       "      <td>0.003559</td>\n",
       "      <td>0.003559</td>\n",
       "      <td>0.039146</td>\n",
       "    </tr>\n",
       "    <tr>\n",
       "      <th>8</th>\n",
       "      <td>0.024911</td>\n",
       "      <td>0.024911</td>\n",
       "      <td>0.010676</td>\n",
       "      <td>0.003559</td>\n",
       "      <td>0.003559</td>\n",
       "      <td>0.039146</td>\n",
       "      <td>0.035587</td>\n",
       "    </tr>\n",
       "    <tr>\n",
       "      <th>9</th>\n",
       "      <td>0.024911</td>\n",
       "      <td>0.010676</td>\n",
       "      <td>0.003559</td>\n",
       "      <td>0.003559</td>\n",
       "      <td>0.039146</td>\n",
       "      <td>0.035587</td>\n",
       "      <td>0.032028</td>\n",
       "    </tr>\n",
       "    <tr>\n",
       "      <th>10</th>\n",
       "      <td>0.010676</td>\n",
       "      <td>0.003559</td>\n",
       "      <td>0.003559</td>\n",
       "      <td>0.039146</td>\n",
       "      <td>0.035587</td>\n",
       "      <td>0.032028</td>\n",
       "      <td>0.024911</td>\n",
       "    </tr>\n",
       "    <tr>\n",
       "      <th>11</th>\n",
       "      <td>0.003559</td>\n",
       "      <td>0.003559</td>\n",
       "      <td>0.039146</td>\n",
       "      <td>0.035587</td>\n",
       "      <td>0.032028</td>\n",
       "      <td>0.024911</td>\n",
       "      <td>0.035587</td>\n",
       "    </tr>\n",
       "  </tbody>\n",
       "</table>\n",
       "</div>"
      ],
      "text/plain": [
       "     var1(t)  var1(t+1)  var1(t+2)  var1(t+3)  var1(t+4)  var1(t+5)  var1(t+6)\n",
       "7   0.024911   0.024911   0.024911   0.010676   0.003559   0.003559   0.039146\n",
       "8   0.024911   0.024911   0.010676   0.003559   0.003559   0.039146   0.035587\n",
       "9   0.024911   0.010676   0.003559   0.003559   0.039146   0.035587   0.032028\n",
       "10  0.010676   0.003559   0.003559   0.039146   0.035587   0.032028   0.024911\n",
       "11  0.003559   0.003559   0.039146   0.035587   0.032028   0.024911   0.035587"
      ]
     },
     "execution_count": 47,
     "metadata": {},
     "output_type": "execute_result"
    }
   ],
   "source": [
    "Y_train.head(5)"
   ]
  },
  {
   "cell_type": "code",
   "execution_count": 48,
   "metadata": {
    "colab": {
     "base_uri": "https://localhost:8080/",
     "height": 490
    },
    "colab_type": "code",
    "id": "aKFreTgy9Qt5",
    "outputId": "43e0a097-a88b-4b2b-873a-b99684eb6f60"
   },
   "outputs": [
    {
     "name": "stdout",
     "output_type": "stream",
     "text": [
      "(71, 35)\n",
      "(15, 35)\n"
     ]
    },
    {
     "data": {
      "text/html": [
       "<div>\n",
       "<style scoped>\n",
       "    .dataframe tbody tr th:only-of-type {\n",
       "        vertical-align: middle;\n",
       "    }\n",
       "\n",
       "    .dataframe tbody tr th {\n",
       "        vertical-align: top;\n",
       "    }\n",
       "\n",
       "    .dataframe thead th {\n",
       "        text-align: right;\n",
       "    }\n",
       "</style>\n",
       "<table border=\"1\" class=\"dataframe\">\n",
       "  <thead>\n",
       "    <tr style=\"text-align: right;\">\n",
       "      <th></th>\n",
       "      <th>var1(t-7)</th>\n",
       "      <th>var2(t-7)</th>\n",
       "      <th>var3(t-7)</th>\n",
       "      <th>var4(t-7)</th>\n",
       "      <th>var5(t-7)</th>\n",
       "      <th>var1(t-6)</th>\n",
       "      <th>var2(t-6)</th>\n",
       "      <th>var3(t-6)</th>\n",
       "      <th>var4(t-6)</th>\n",
       "      <th>var5(t-6)</th>\n",
       "      <th>...</th>\n",
       "      <th>var1(t-2)</th>\n",
       "      <th>var2(t-2)</th>\n",
       "      <th>var3(t-2)</th>\n",
       "      <th>var4(t-2)</th>\n",
       "      <th>var5(t-2)</th>\n",
       "      <th>var1(t-1)</th>\n",
       "      <th>var2(t-1)</th>\n",
       "      <th>var3(t-1)</th>\n",
       "      <th>var4(t-1)</th>\n",
       "      <th>var5(t-1)</th>\n",
       "    </tr>\n",
       "  </thead>\n",
       "  <tbody>\n",
       "    <tr>\n",
       "      <th>7</th>\n",
       "      <td>0.024911</td>\n",
       "      <td>0.082917</td>\n",
       "      <td>0.050505</td>\n",
       "      <td>0.000000</td>\n",
       "      <td>0.0</td>\n",
       "      <td>0.003559</td>\n",
       "      <td>0.000000</td>\n",
       "      <td>0.000000</td>\n",
       "      <td>0.000000</td>\n",
       "      <td>0.0</td>\n",
       "      <td>...</td>\n",
       "      <td>0.024911</td>\n",
       "      <td>0.082917</td>\n",
       "      <td>0.050505</td>\n",
       "      <td>0.000000</td>\n",
       "      <td>0.0</td>\n",
       "      <td>0.024911</td>\n",
       "      <td>0.082917</td>\n",
       "      <td>0.050505</td>\n",
       "      <td>0.000000</td>\n",
       "      <td>0.0</td>\n",
       "    </tr>\n",
       "    <tr>\n",
       "      <th>8</th>\n",
       "      <td>0.003559</td>\n",
       "      <td>0.000000</td>\n",
       "      <td>0.000000</td>\n",
       "      <td>0.000000</td>\n",
       "      <td>0.0</td>\n",
       "      <td>0.024911</td>\n",
       "      <td>0.082917</td>\n",
       "      <td>0.050505</td>\n",
       "      <td>0.000000</td>\n",
       "      <td>0.0</td>\n",
       "      <td>...</td>\n",
       "      <td>0.024911</td>\n",
       "      <td>0.082917</td>\n",
       "      <td>0.050505</td>\n",
       "      <td>0.000000</td>\n",
       "      <td>0.0</td>\n",
       "      <td>0.024911</td>\n",
       "      <td>0.082917</td>\n",
       "      <td>0.050505</td>\n",
       "      <td>0.000000</td>\n",
       "      <td>0.0</td>\n",
       "    </tr>\n",
       "    <tr>\n",
       "      <th>9</th>\n",
       "      <td>0.024911</td>\n",
       "      <td>0.082917</td>\n",
       "      <td>0.050505</td>\n",
       "      <td>0.000000</td>\n",
       "      <td>0.0</td>\n",
       "      <td>0.024911</td>\n",
       "      <td>0.082917</td>\n",
       "      <td>0.050505</td>\n",
       "      <td>0.000000</td>\n",
       "      <td>0.0</td>\n",
       "      <td>...</td>\n",
       "      <td>0.024911</td>\n",
       "      <td>0.082917</td>\n",
       "      <td>0.050505</td>\n",
       "      <td>0.000000</td>\n",
       "      <td>0.0</td>\n",
       "      <td>0.024911</td>\n",
       "      <td>0.082917</td>\n",
       "      <td>0.050505</td>\n",
       "      <td>0.000000</td>\n",
       "      <td>0.0</td>\n",
       "    </tr>\n",
       "    <tr>\n",
       "      <th>10</th>\n",
       "      <td>0.024911</td>\n",
       "      <td>0.082917</td>\n",
       "      <td>0.050505</td>\n",
       "      <td>0.000000</td>\n",
       "      <td>0.0</td>\n",
       "      <td>0.003559</td>\n",
       "      <td>0.000135</td>\n",
       "      <td>0.000000</td>\n",
       "      <td>0.000000</td>\n",
       "      <td>0.0</td>\n",
       "      <td>...</td>\n",
       "      <td>0.024911</td>\n",
       "      <td>0.082917</td>\n",
       "      <td>0.050505</td>\n",
       "      <td>0.000000</td>\n",
       "      <td>0.0</td>\n",
       "      <td>0.024911</td>\n",
       "      <td>0.082917</td>\n",
       "      <td>0.050505</td>\n",
       "      <td>0.000000</td>\n",
       "      <td>0.0</td>\n",
       "    </tr>\n",
       "    <tr>\n",
       "      <th>11</th>\n",
       "      <td>0.003559</td>\n",
       "      <td>0.000135</td>\n",
       "      <td>0.000000</td>\n",
       "      <td>0.000000</td>\n",
       "      <td>0.0</td>\n",
       "      <td>0.024911</td>\n",
       "      <td>0.082917</td>\n",
       "      <td>0.050505</td>\n",
       "      <td>0.000000</td>\n",
       "      <td>0.0</td>\n",
       "      <td>...</td>\n",
       "      <td>0.024911</td>\n",
       "      <td>0.082917</td>\n",
       "      <td>0.050505</td>\n",
       "      <td>0.000000</td>\n",
       "      <td>0.0</td>\n",
       "      <td>0.010676</td>\n",
       "      <td>0.000540</td>\n",
       "      <td>0.005051</td>\n",
       "      <td>0.066667</td>\n",
       "      <td>0.0</td>\n",
       "    </tr>\n",
       "    <tr>\n",
       "      <th>...</th>\n",
       "      <td>...</td>\n",
       "      <td>...</td>\n",
       "      <td>...</td>\n",
       "      <td>...</td>\n",
       "      <td>...</td>\n",
       "      <td>...</td>\n",
       "      <td>...</td>\n",
       "      <td>...</td>\n",
       "      <td>...</td>\n",
       "      <td>...</td>\n",
       "      <td>...</td>\n",
       "      <td>...</td>\n",
       "      <td>...</td>\n",
       "      <td>...</td>\n",
       "      <td>...</td>\n",
       "      <td>...</td>\n",
       "      <td>...</td>\n",
       "      <td>...</td>\n",
       "      <td>...</td>\n",
       "      <td>...</td>\n",
       "      <td>...</td>\n",
       "    </tr>\n",
       "    <tr>\n",
       "      <th>73</th>\n",
       "      <td>0.672598</td>\n",
       "      <td>0.730182</td>\n",
       "      <td>0.924242</td>\n",
       "      <td>0.133333</td>\n",
       "      <td>0.0</td>\n",
       "      <td>0.498221</td>\n",
       "      <td>0.749088</td>\n",
       "      <td>0.924242</td>\n",
       "      <td>0.000000</td>\n",
       "      <td>0.0</td>\n",
       "      <td>...</td>\n",
       "      <td>0.775801</td>\n",
       "      <td>0.848076</td>\n",
       "      <td>0.949495</td>\n",
       "      <td>0.000000</td>\n",
       "      <td>0.0</td>\n",
       "      <td>0.487544</td>\n",
       "      <td>0.866577</td>\n",
       "      <td>0.949495</td>\n",
       "      <td>0.000000</td>\n",
       "      <td>0.0</td>\n",
       "    </tr>\n",
       "    <tr>\n",
       "      <th>74</th>\n",
       "      <td>0.498221</td>\n",
       "      <td>0.749088</td>\n",
       "      <td>0.924242</td>\n",
       "      <td>0.000000</td>\n",
       "      <td>0.0</td>\n",
       "      <td>0.580071</td>\n",
       "      <td>0.771101</td>\n",
       "      <td>0.939394</td>\n",
       "      <td>0.200000</td>\n",
       "      <td>0.0</td>\n",
       "      <td>...</td>\n",
       "      <td>0.487544</td>\n",
       "      <td>0.866577</td>\n",
       "      <td>0.949495</td>\n",
       "      <td>0.000000</td>\n",
       "      <td>0.0</td>\n",
       "      <td>0.334520</td>\n",
       "      <td>0.879271</td>\n",
       "      <td>0.949495</td>\n",
       "      <td>0.000000</td>\n",
       "      <td>0.0</td>\n",
       "    </tr>\n",
       "    <tr>\n",
       "      <th>75</th>\n",
       "      <td>0.580071</td>\n",
       "      <td>0.771101</td>\n",
       "      <td>0.939394</td>\n",
       "      <td>0.200000</td>\n",
       "      <td>0.0</td>\n",
       "      <td>0.708185</td>\n",
       "      <td>0.797974</td>\n",
       "      <td>0.939394</td>\n",
       "      <td>0.000000</td>\n",
       "      <td>0.0</td>\n",
       "      <td>...</td>\n",
       "      <td>0.334520</td>\n",
       "      <td>0.879271</td>\n",
       "      <td>0.949495</td>\n",
       "      <td>0.000000</td>\n",
       "      <td>0.0</td>\n",
       "      <td>0.338078</td>\n",
       "      <td>0.892100</td>\n",
       "      <td>0.959596</td>\n",
       "      <td>0.133333</td>\n",
       "      <td>0.0</td>\n",
       "    </tr>\n",
       "    <tr>\n",
       "      <th>76</th>\n",
       "      <td>0.708185</td>\n",
       "      <td>0.797974</td>\n",
       "      <td>0.939394</td>\n",
       "      <td>0.000000</td>\n",
       "      <td>0.0</td>\n",
       "      <td>0.544484</td>\n",
       "      <td>0.818636</td>\n",
       "      <td>0.949495</td>\n",
       "      <td>0.133333</td>\n",
       "      <td>0.0</td>\n",
       "      <td>...</td>\n",
       "      <td>0.338078</td>\n",
       "      <td>0.892100</td>\n",
       "      <td>0.959596</td>\n",
       "      <td>0.133333</td>\n",
       "      <td>0.0</td>\n",
       "      <td>0.160142</td>\n",
       "      <td>0.898177</td>\n",
       "      <td>0.959596</td>\n",
       "      <td>0.000000</td>\n",
       "      <td>0.0</td>\n",
       "    </tr>\n",
       "    <tr>\n",
       "      <th>77</th>\n",
       "      <td>0.544484</td>\n",
       "      <td>0.818636</td>\n",
       "      <td>0.949495</td>\n",
       "      <td>0.133333</td>\n",
       "      <td>0.0</td>\n",
       "      <td>0.775801</td>\n",
       "      <td>0.848076</td>\n",
       "      <td>0.949495</td>\n",
       "      <td>0.000000</td>\n",
       "      <td>0.0</td>\n",
       "      <td>...</td>\n",
       "      <td>0.160142</td>\n",
       "      <td>0.898177</td>\n",
       "      <td>0.959596</td>\n",
       "      <td>0.000000</td>\n",
       "      <td>0.0</td>\n",
       "      <td>0.316726</td>\n",
       "      <td>0.910196</td>\n",
       "      <td>0.969697</td>\n",
       "      <td>0.133333</td>\n",
       "      <td>0.0</td>\n",
       "    </tr>\n",
       "  </tbody>\n",
       "</table>\n",
       "<p>71 rows × 35 columns</p>\n",
       "</div>"
      ],
      "text/plain": [
       "    var1(t-7)  var2(t-7)  var3(t-7)  var4(t-7)  var5(t-7)  var1(t-6)  \\\n",
       "7    0.024911   0.082917   0.050505   0.000000        0.0   0.003559   \n",
       "8    0.003559   0.000000   0.000000   0.000000        0.0   0.024911   \n",
       "9    0.024911   0.082917   0.050505   0.000000        0.0   0.024911   \n",
       "10   0.024911   0.082917   0.050505   0.000000        0.0   0.003559   \n",
       "11   0.003559   0.000135   0.000000   0.000000        0.0   0.024911   \n",
       "..        ...        ...        ...        ...        ...        ...   \n",
       "73   0.672598   0.730182   0.924242   0.133333        0.0   0.498221   \n",
       "74   0.498221   0.749088   0.924242   0.000000        0.0   0.580071   \n",
       "75   0.580071   0.771101   0.939394   0.200000        0.0   0.708185   \n",
       "76   0.708185   0.797974   0.939394   0.000000        0.0   0.544484   \n",
       "77   0.544484   0.818636   0.949495   0.133333        0.0   0.775801   \n",
       "\n",
       "    var2(t-6)  var3(t-6)  var4(t-6)  var5(t-6)  ...  var1(t-2)  var2(t-2)  \\\n",
       "7    0.000000   0.000000   0.000000        0.0  ...   0.024911   0.082917   \n",
       "8    0.082917   0.050505   0.000000        0.0  ...   0.024911   0.082917   \n",
       "9    0.082917   0.050505   0.000000        0.0  ...   0.024911   0.082917   \n",
       "10   0.000135   0.000000   0.000000        0.0  ...   0.024911   0.082917   \n",
       "11   0.082917   0.050505   0.000000        0.0  ...   0.024911   0.082917   \n",
       "..        ...        ...        ...        ...  ...        ...        ...   \n",
       "73   0.749088   0.924242   0.000000        0.0  ...   0.775801   0.848076   \n",
       "74   0.771101   0.939394   0.200000        0.0  ...   0.487544   0.866577   \n",
       "75   0.797974   0.939394   0.000000        0.0  ...   0.334520   0.879271   \n",
       "76   0.818636   0.949495   0.133333        0.0  ...   0.338078   0.892100   \n",
       "77   0.848076   0.949495   0.000000        0.0  ...   0.160142   0.898177   \n",
       "\n",
       "    var3(t-2)  var4(t-2)  var5(t-2)  var1(t-1)  var2(t-1)  var3(t-1)  \\\n",
       "7    0.050505   0.000000        0.0   0.024911   0.082917   0.050505   \n",
       "8    0.050505   0.000000        0.0   0.024911   0.082917   0.050505   \n",
       "9    0.050505   0.000000        0.0   0.024911   0.082917   0.050505   \n",
       "10   0.050505   0.000000        0.0   0.024911   0.082917   0.050505   \n",
       "11   0.050505   0.000000        0.0   0.010676   0.000540   0.005051   \n",
       "..        ...        ...        ...        ...        ...        ...   \n",
       "73   0.949495   0.000000        0.0   0.487544   0.866577   0.949495   \n",
       "74   0.949495   0.000000        0.0   0.334520   0.879271   0.949495   \n",
       "75   0.949495   0.000000        0.0   0.338078   0.892100   0.959596   \n",
       "76   0.959596   0.133333        0.0   0.160142   0.898177   0.959596   \n",
       "77   0.959596   0.000000        0.0   0.316726   0.910196   0.969697   \n",
       "\n",
       "    var4(t-1)  var5(t-1)  \n",
       "7    0.000000        0.0  \n",
       "8    0.000000        0.0  \n",
       "9    0.000000        0.0  \n",
       "10   0.000000        0.0  \n",
       "11   0.066667        0.0  \n",
       "..        ...        ...  \n",
       "73   0.000000        0.0  \n",
       "74   0.000000        0.0  \n",
       "75   0.133333        0.0  \n",
       "76   0.000000        0.0  \n",
       "77   0.133333        0.0  \n",
       "\n",
       "[71 rows x 35 columns]"
      ]
     },
     "execution_count": 48,
     "metadata": {},
     "output_type": "execute_result"
    }
   ],
   "source": [
    "# drop columns we don't want to predict\n",
    "X_train = X_train.filter(regex=regex_find,axis=1)\n",
    "X_test=X_test.filter(regex=regex_find,axis=1)\n",
    "print(X_train.shape)\n",
    "print(X_test.shape)\n",
    "X_train\n"
   ]
  },
  {
   "cell_type": "code",
   "execution_count": 49,
   "metadata": {
    "colab": {
     "base_uri": "https://localhost:8080/",
     "height": 551
    },
    "colab_type": "code",
    "id": "dvLCFaExBN5m",
    "outputId": "042873d3-718b-4ada-d78b-32b4490c94ea"
   },
   "outputs": [
    {
     "data": {
      "text/html": [
       "<div>\n",
       "<style scoped>\n",
       "    .dataframe tbody tr th:only-of-type {\n",
       "        vertical-align: middle;\n",
       "    }\n",
       "\n",
       "    .dataframe tbody tr th {\n",
       "        vertical-align: top;\n",
       "    }\n",
       "\n",
       "    .dataframe thead th {\n",
       "        text-align: right;\n",
       "    }\n",
       "</style>\n",
       "<table border=\"1\" class=\"dataframe\">\n",
       "  <thead>\n",
       "    <tr style=\"text-align: right;\">\n",
       "      <th></th>\n",
       "      <th>var1(t-7)</th>\n",
       "      <th>var2(t-7)</th>\n",
       "      <th>var3(t-7)</th>\n",
       "      <th>var4(t-7)</th>\n",
       "      <th>var5(t-7)</th>\n",
       "      <th>var1(t-6)</th>\n",
       "      <th>var2(t-6)</th>\n",
       "      <th>var3(t-6)</th>\n",
       "      <th>var4(t-6)</th>\n",
       "      <th>var5(t-6)</th>\n",
       "      <th>...</th>\n",
       "      <th>var1(t-2)</th>\n",
       "      <th>var2(t-2)</th>\n",
       "      <th>var3(t-2)</th>\n",
       "      <th>var4(t-2)</th>\n",
       "      <th>var5(t-2)</th>\n",
       "      <th>var1(t-1)</th>\n",
       "      <th>var2(t-1)</th>\n",
       "      <th>var3(t-1)</th>\n",
       "      <th>var4(t-1)</th>\n",
       "      <th>var5(t-1)</th>\n",
       "    </tr>\n",
       "  </thead>\n",
       "  <tbody>\n",
       "    <tr>\n",
       "      <th>7</th>\n",
       "      <td>0.948718</td>\n",
       "      <td>0.000000</td>\n",
       "      <td>0.000000</td>\n",
       "      <td>0.0</td>\n",
       "      <td>0.0</td>\n",
       "      <td>0.547009</td>\n",
       "      <td>0.045006</td>\n",
       "      <td>0.000000</td>\n",
       "      <td>0.0</td>\n",
       "      <td>0.0</td>\n",
       "      <td>...</td>\n",
       "      <td>0.880342</td>\n",
       "      <td>0.253568</td>\n",
       "      <td>0.250000</td>\n",
       "      <td>0.5</td>\n",
       "      <td>0.0</td>\n",
       "      <td>0.478633</td>\n",
       "      <td>0.294182</td>\n",
       "      <td>0.300000</td>\n",
       "      <td>0.5</td>\n",
       "      <td>0.0</td>\n",
       "    </tr>\n",
       "    <tr>\n",
       "      <th>8</th>\n",
       "      <td>0.547009</td>\n",
       "      <td>0.045006</td>\n",
       "      <td>0.000000</td>\n",
       "      <td>0.0</td>\n",
       "      <td>0.0</td>\n",
       "      <td>0.452991</td>\n",
       "      <td>0.083974</td>\n",
       "      <td>0.050000</td>\n",
       "      <td>0.5</td>\n",
       "      <td>0.0</td>\n",
       "      <td>...</td>\n",
       "      <td>0.478633</td>\n",
       "      <td>0.294182</td>\n",
       "      <td>0.300000</td>\n",
       "      <td>0.5</td>\n",
       "      <td>0.0</td>\n",
       "      <td>0.076923</td>\n",
       "      <td>0.309001</td>\n",
       "      <td>0.349999</td>\n",
       "      <td>0.5</td>\n",
       "      <td>0.0</td>\n",
       "    </tr>\n",
       "    <tr>\n",
       "      <th>9</th>\n",
       "      <td>0.452991</td>\n",
       "      <td>0.083974</td>\n",
       "      <td>0.050000</td>\n",
       "      <td>0.5</td>\n",
       "      <td>0.0</td>\n",
       "      <td>0.786325</td>\n",
       "      <td>0.144347</td>\n",
       "      <td>0.099999</td>\n",
       "      <td>0.5</td>\n",
       "      <td>0.0</td>\n",
       "      <td>...</td>\n",
       "      <td>0.076923</td>\n",
       "      <td>0.309001</td>\n",
       "      <td>0.349999</td>\n",
       "      <td>0.5</td>\n",
       "      <td>0.0</td>\n",
       "      <td>0.692308</td>\n",
       "      <td>0.363337</td>\n",
       "      <td>0.400000</td>\n",
       "      <td>0.5</td>\n",
       "      <td>0.0</td>\n",
       "    </tr>\n",
       "    <tr>\n",
       "      <th>10</th>\n",
       "      <td>0.786325</td>\n",
       "      <td>0.144347</td>\n",
       "      <td>0.099999</td>\n",
       "      <td>0.5</td>\n",
       "      <td>0.0</td>\n",
       "      <td>0.512821</td>\n",
       "      <td>0.187157</td>\n",
       "      <td>0.200000</td>\n",
       "      <td>1.0</td>\n",
       "      <td>0.0</td>\n",
       "      <td>...</td>\n",
       "      <td>0.692308</td>\n",
       "      <td>0.363337</td>\n",
       "      <td>0.400000</td>\n",
       "      <td>0.5</td>\n",
       "      <td>0.0</td>\n",
       "      <td>0.230769</td>\n",
       "      <td>0.388035</td>\n",
       "      <td>0.500000</td>\n",
       "      <td>1.0</td>\n",
       "      <td>0.0</td>\n",
       "    </tr>\n",
       "    <tr>\n",
       "      <th>11</th>\n",
       "      <td>0.512821</td>\n",
       "      <td>0.187157</td>\n",
       "      <td>0.200000</td>\n",
       "      <td>1.0</td>\n",
       "      <td>0.0</td>\n",
       "      <td>0.880342</td>\n",
       "      <td>0.253568</td>\n",
       "      <td>0.250000</td>\n",
       "      <td>0.5</td>\n",
       "      <td>0.0</td>\n",
       "      <td>...</td>\n",
       "      <td>0.230769</td>\n",
       "      <td>0.388035</td>\n",
       "      <td>0.500000</td>\n",
       "      <td>1.0</td>\n",
       "      <td>0.0</td>\n",
       "      <td>0.051282</td>\n",
       "      <td>0.401207</td>\n",
       "      <td>0.500000</td>\n",
       "      <td>0.0</td>\n",
       "      <td>0.0</td>\n",
       "    </tr>\n",
       "    <tr>\n",
       "      <th>12</th>\n",
       "      <td>0.880342</td>\n",
       "      <td>0.253568</td>\n",
       "      <td>0.250000</td>\n",
       "      <td>0.5</td>\n",
       "      <td>0.0</td>\n",
       "      <td>0.478633</td>\n",
       "      <td>0.294182</td>\n",
       "      <td>0.300000</td>\n",
       "      <td>0.5</td>\n",
       "      <td>0.0</td>\n",
       "      <td>...</td>\n",
       "      <td>0.051282</td>\n",
       "      <td>0.401207</td>\n",
       "      <td>0.500000</td>\n",
       "      <td>0.0</td>\n",
       "      <td>0.0</td>\n",
       "      <td>0.205128</td>\n",
       "      <td>0.424259</td>\n",
       "      <td>0.500000</td>\n",
       "      <td>0.0</td>\n",
       "      <td>0.0</td>\n",
       "    </tr>\n",
       "    <tr>\n",
       "      <th>13</th>\n",
       "      <td>0.478633</td>\n",
       "      <td>0.294182</td>\n",
       "      <td>0.300000</td>\n",
       "      <td>0.5</td>\n",
       "      <td>0.0</td>\n",
       "      <td>0.076923</td>\n",
       "      <td>0.309001</td>\n",
       "      <td>0.349999</td>\n",
       "      <td>0.5</td>\n",
       "      <td>0.0</td>\n",
       "      <td>...</td>\n",
       "      <td>0.205128</td>\n",
       "      <td>0.424259</td>\n",
       "      <td>0.500000</td>\n",
       "      <td>0.0</td>\n",
       "      <td>0.0</td>\n",
       "      <td>0.452991</td>\n",
       "      <td>0.463227</td>\n",
       "      <td>0.500000</td>\n",
       "      <td>0.0</td>\n",
       "      <td>0.0</td>\n",
       "    </tr>\n",
       "    <tr>\n",
       "      <th>14</th>\n",
       "      <td>0.076923</td>\n",
       "      <td>0.309001</td>\n",
       "      <td>0.349999</td>\n",
       "      <td>0.5</td>\n",
       "      <td>0.0</td>\n",
       "      <td>0.692308</td>\n",
       "      <td>0.363337</td>\n",
       "      <td>0.400000</td>\n",
       "      <td>0.5</td>\n",
       "      <td>0.0</td>\n",
       "      <td>...</td>\n",
       "      <td>0.452991</td>\n",
       "      <td>0.463227</td>\n",
       "      <td>0.500000</td>\n",
       "      <td>0.0</td>\n",
       "      <td>0.0</td>\n",
       "      <td>0.410256</td>\n",
       "      <td>0.499451</td>\n",
       "      <td>0.599999</td>\n",
       "      <td>1.0</td>\n",
       "      <td>0.0</td>\n",
       "    </tr>\n",
       "    <tr>\n",
       "      <th>15</th>\n",
       "      <td>0.692308</td>\n",
       "      <td>0.363337</td>\n",
       "      <td>0.400000</td>\n",
       "      <td>0.5</td>\n",
       "      <td>0.0</td>\n",
       "      <td>0.230769</td>\n",
       "      <td>0.388035</td>\n",
       "      <td>0.500000</td>\n",
       "      <td>1.0</td>\n",
       "      <td>0.0</td>\n",
       "      <td>...</td>\n",
       "      <td>0.410256</td>\n",
       "      <td>0.499451</td>\n",
       "      <td>0.599999</td>\n",
       "      <td>1.0</td>\n",
       "      <td>0.0</td>\n",
       "      <td>0.076923</td>\n",
       "      <td>0.514270</td>\n",
       "      <td>0.650000</td>\n",
       "      <td>0.5</td>\n",
       "      <td>0.0</td>\n",
       "    </tr>\n",
       "    <tr>\n",
       "      <th>16</th>\n",
       "      <td>0.230769</td>\n",
       "      <td>0.388035</td>\n",
       "      <td>0.500000</td>\n",
       "      <td>1.0</td>\n",
       "      <td>0.0</td>\n",
       "      <td>0.051282</td>\n",
       "      <td>0.401207</td>\n",
       "      <td>0.500000</td>\n",
       "      <td>0.0</td>\n",
       "      <td>0.0</td>\n",
       "      <td>...</td>\n",
       "      <td>0.076923</td>\n",
       "      <td>0.514270</td>\n",
       "      <td>0.650000</td>\n",
       "      <td>0.5</td>\n",
       "      <td>0.0</td>\n",
       "      <td>0.068376</td>\n",
       "      <td>0.528540</td>\n",
       "      <td>0.650000</td>\n",
       "      <td>0.0</td>\n",
       "      <td>0.0</td>\n",
       "    </tr>\n",
       "    <tr>\n",
       "      <th>17</th>\n",
       "      <td>0.051282</td>\n",
       "      <td>0.401207</td>\n",
       "      <td>0.500000</td>\n",
       "      <td>0.0</td>\n",
       "      <td>0.0</td>\n",
       "      <td>0.205128</td>\n",
       "      <td>0.424259</td>\n",
       "      <td>0.500000</td>\n",
       "      <td>0.0</td>\n",
       "      <td>0.0</td>\n",
       "      <td>...</td>\n",
       "      <td>0.068376</td>\n",
       "      <td>0.528540</td>\n",
       "      <td>0.650000</td>\n",
       "      <td>0.0</td>\n",
       "      <td>0.0</td>\n",
       "      <td>0.128205</td>\n",
       "      <td>0.546652</td>\n",
       "      <td>0.700000</td>\n",
       "      <td>0.5</td>\n",
       "      <td>0.0</td>\n",
       "    </tr>\n",
       "    <tr>\n",
       "      <th>18</th>\n",
       "      <td>0.205128</td>\n",
       "      <td>0.424259</td>\n",
       "      <td>0.500000</td>\n",
       "      <td>0.0</td>\n",
       "      <td>0.0</td>\n",
       "      <td>0.452991</td>\n",
       "      <td>0.463227</td>\n",
       "      <td>0.500000</td>\n",
       "      <td>0.0</td>\n",
       "      <td>0.0</td>\n",
       "      <td>...</td>\n",
       "      <td>0.128205</td>\n",
       "      <td>0.546652</td>\n",
       "      <td>0.700000</td>\n",
       "      <td>0.5</td>\n",
       "      <td>0.0</td>\n",
       "      <td>0.324786</td>\n",
       "      <td>0.577388</td>\n",
       "      <td>0.700000</td>\n",
       "      <td>0.0</td>\n",
       "      <td>0.0</td>\n",
       "    </tr>\n",
       "    <tr>\n",
       "      <th>19</th>\n",
       "      <td>0.452991</td>\n",
       "      <td>0.463227</td>\n",
       "      <td>0.500000</td>\n",
       "      <td>0.0</td>\n",
       "      <td>0.0</td>\n",
       "      <td>0.410256</td>\n",
       "      <td>0.499451</td>\n",
       "      <td>0.599999</td>\n",
       "      <td>1.0</td>\n",
       "      <td>0.0</td>\n",
       "      <td>...</td>\n",
       "      <td>0.324786</td>\n",
       "      <td>0.577388</td>\n",
       "      <td>0.700000</td>\n",
       "      <td>0.0</td>\n",
       "      <td>0.0</td>\n",
       "      <td>0.538462</td>\n",
       "      <td>0.621844</td>\n",
       "      <td>0.800000</td>\n",
       "      <td>1.0</td>\n",
       "      <td>0.0</td>\n",
       "    </tr>\n",
       "    <tr>\n",
       "      <th>20</th>\n",
       "      <td>0.410256</td>\n",
       "      <td>0.499451</td>\n",
       "      <td>0.599999</td>\n",
       "      <td>1.0</td>\n",
       "      <td>0.0</td>\n",
       "      <td>0.076923</td>\n",
       "      <td>0.514270</td>\n",
       "      <td>0.650000</td>\n",
       "      <td>0.5</td>\n",
       "      <td>0.0</td>\n",
       "      <td>...</td>\n",
       "      <td>0.538462</td>\n",
       "      <td>0.621844</td>\n",
       "      <td>0.800000</td>\n",
       "      <td>1.0</td>\n",
       "      <td>0.0</td>\n",
       "      <td>0.427350</td>\n",
       "      <td>0.659166</td>\n",
       "      <td>0.800000</td>\n",
       "      <td>0.0</td>\n",
       "      <td>0.0</td>\n",
       "    </tr>\n",
       "    <tr>\n",
       "      <th>21</th>\n",
       "      <td>0.076923</td>\n",
       "      <td>0.514270</td>\n",
       "      <td>0.650000</td>\n",
       "      <td>0.5</td>\n",
       "      <td>0.0</td>\n",
       "      <td>0.068376</td>\n",
       "      <td>0.528540</td>\n",
       "      <td>0.650000</td>\n",
       "      <td>0.0</td>\n",
       "      <td>0.0</td>\n",
       "      <td>...</td>\n",
       "      <td>0.427350</td>\n",
       "      <td>0.659166</td>\n",
       "      <td>0.800000</td>\n",
       "      <td>0.0</td>\n",
       "      <td>0.0</td>\n",
       "      <td>0.367521</td>\n",
       "      <td>0.692646</td>\n",
       "      <td>0.800000</td>\n",
       "      <td>0.0</td>\n",
       "      <td>0.0</td>\n",
       "    </tr>\n",
       "  </tbody>\n",
       "</table>\n",
       "<p>15 rows × 35 columns</p>\n",
       "</div>"
      ],
      "text/plain": [
       "    var1(t-7)  var2(t-7)  var3(t-7)  var4(t-7)  var5(t-7)  var1(t-6)  \\\n",
       "7    0.948718   0.000000   0.000000        0.0        0.0   0.547009   \n",
       "8    0.547009   0.045006   0.000000        0.0        0.0   0.452991   \n",
       "9    0.452991   0.083974   0.050000        0.5        0.0   0.786325   \n",
       "10   0.786325   0.144347   0.099999        0.5        0.0   0.512821   \n",
       "11   0.512821   0.187157   0.200000        1.0        0.0   0.880342   \n",
       "12   0.880342   0.253568   0.250000        0.5        0.0   0.478633   \n",
       "13   0.478633   0.294182   0.300000        0.5        0.0   0.076923   \n",
       "14   0.076923   0.309001   0.349999        0.5        0.0   0.692308   \n",
       "15   0.692308   0.363337   0.400000        0.5        0.0   0.230769   \n",
       "16   0.230769   0.388035   0.500000        1.0        0.0   0.051282   \n",
       "17   0.051282   0.401207   0.500000        0.0        0.0   0.205128   \n",
       "18   0.205128   0.424259   0.500000        0.0        0.0   0.452991   \n",
       "19   0.452991   0.463227   0.500000        0.0        0.0   0.410256   \n",
       "20   0.410256   0.499451   0.599999        1.0        0.0   0.076923   \n",
       "21   0.076923   0.514270   0.650000        0.5        0.0   0.068376   \n",
       "\n",
       "    var2(t-6)  var3(t-6)  var4(t-6)  var5(t-6)  ...  var1(t-2)  var2(t-2)  \\\n",
       "7    0.045006   0.000000        0.0        0.0  ...   0.880342   0.253568   \n",
       "8    0.083974   0.050000        0.5        0.0  ...   0.478633   0.294182   \n",
       "9    0.144347   0.099999        0.5        0.0  ...   0.076923   0.309001   \n",
       "10   0.187157   0.200000        1.0        0.0  ...   0.692308   0.363337   \n",
       "11   0.253568   0.250000        0.5        0.0  ...   0.230769   0.388035   \n",
       "12   0.294182   0.300000        0.5        0.0  ...   0.051282   0.401207   \n",
       "13   0.309001   0.349999        0.5        0.0  ...   0.205128   0.424259   \n",
       "14   0.363337   0.400000        0.5        0.0  ...   0.452991   0.463227   \n",
       "15   0.388035   0.500000        1.0        0.0  ...   0.410256   0.499451   \n",
       "16   0.401207   0.500000        0.0        0.0  ...   0.076923   0.514270   \n",
       "17   0.424259   0.500000        0.0        0.0  ...   0.068376   0.528540   \n",
       "18   0.463227   0.500000        0.0        0.0  ...   0.128205   0.546652   \n",
       "19   0.499451   0.599999        1.0        0.0  ...   0.324786   0.577388   \n",
       "20   0.514270   0.650000        0.5        0.0  ...   0.538462   0.621844   \n",
       "21   0.528540   0.650000        0.0        0.0  ...   0.427350   0.659166   \n",
       "\n",
       "    var3(t-2)  var4(t-2)  var5(t-2)  var1(t-1)  var2(t-1)  var3(t-1)  \\\n",
       "7    0.250000        0.5        0.0   0.478633   0.294182   0.300000   \n",
       "8    0.300000        0.5        0.0   0.076923   0.309001   0.349999   \n",
       "9    0.349999        0.5        0.0   0.692308   0.363337   0.400000   \n",
       "10   0.400000        0.5        0.0   0.230769   0.388035   0.500000   \n",
       "11   0.500000        1.0        0.0   0.051282   0.401207   0.500000   \n",
       "12   0.500000        0.0        0.0   0.205128   0.424259   0.500000   \n",
       "13   0.500000        0.0        0.0   0.452991   0.463227   0.500000   \n",
       "14   0.500000        0.0        0.0   0.410256   0.499451   0.599999   \n",
       "15   0.599999        1.0        0.0   0.076923   0.514270   0.650000   \n",
       "16   0.650000        0.5        0.0   0.068376   0.528540   0.650000   \n",
       "17   0.650000        0.0        0.0   0.128205   0.546652   0.700000   \n",
       "18   0.700000        0.5        0.0   0.324786   0.577388   0.700000   \n",
       "19   0.700000        0.0        0.0   0.538462   0.621844   0.800000   \n",
       "20   0.800000        1.0        0.0   0.427350   0.659166   0.800000   \n",
       "21   0.800000        0.0        0.0   0.367521   0.692646   0.800000   \n",
       "\n",
       "    var4(t-1)  var5(t-1)  \n",
       "7         0.5        0.0  \n",
       "8         0.5        0.0  \n",
       "9         0.5        0.0  \n",
       "10        1.0        0.0  \n",
       "11        0.0        0.0  \n",
       "12        0.0        0.0  \n",
       "13        0.0        0.0  \n",
       "14        1.0        0.0  \n",
       "15        0.5        0.0  \n",
       "16        0.0        0.0  \n",
       "17        0.5        0.0  \n",
       "18        0.0        0.0  \n",
       "19        1.0        0.0  \n",
       "20        0.0        0.0  \n",
       "21        0.0        0.0  \n",
       "\n",
       "[15 rows x 35 columns]"
      ]
     },
     "execution_count": 49,
     "metadata": {},
     "output_type": "execute_result"
    }
   ],
   "source": [
    "X_test"
   ]
  },
  {
   "cell_type": "code",
   "execution_count": 50,
   "metadata": {
    "colab": {
     "base_uri": "https://localhost:8080/",
     "height": 34
    },
    "colab_type": "code",
    "id": "HLhC2Nm39QuD",
    "outputId": "a69dfa6b-7563-4355-9068-731908e47baf"
   },
   "outputs": [
    {
     "name": "stdout",
     "output_type": "stream",
     "text": [
      "(15, 35)\n"
     ]
    }
   ],
   "source": [
    "print(X_test.shape)"
   ]
  },
  {
   "cell_type": "code",
   "execution_count": 51,
   "metadata": {
    "colab": {},
    "colab_type": "code",
    "id": "Ata5gkZB9QuL"
   },
   "outputs": [],
   "source": [
    "nb_col=5"
   ]
  },
  {
   "cell_type": "code",
   "execution_count": 52,
   "metadata": {
    "colab": {
     "base_uri": "https://localhost:8080/",
     "height": 117
    },
    "colab_type": "code",
    "id": "CeszEGTM_qcH",
    "outputId": "de58c369-f9d8-4599-e602-0346f865602a"
   },
   "outputs": [
    {
     "data": {
      "text/html": [
       "<div>\n",
       "<style scoped>\n",
       "    .dataframe tbody tr th:only-of-type {\n",
       "        vertical-align: middle;\n",
       "    }\n",
       "\n",
       "    .dataframe tbody tr th {\n",
       "        vertical-align: top;\n",
       "    }\n",
       "\n",
       "    .dataframe thead th {\n",
       "        text-align: right;\n",
       "    }\n",
       "</style>\n",
       "<table border=\"1\" class=\"dataframe\">\n",
       "  <thead>\n",
       "    <tr style=\"text-align: right;\">\n",
       "      <th></th>\n",
       "      <th>var1(t-7)</th>\n",
       "      <th>var2(t-7)</th>\n",
       "      <th>var3(t-7)</th>\n",
       "      <th>var4(t-7)</th>\n",
       "      <th>var5(t-7)</th>\n",
       "      <th>var1(t-6)</th>\n",
       "      <th>var2(t-6)</th>\n",
       "      <th>var3(t-6)</th>\n",
       "      <th>var4(t-6)</th>\n",
       "      <th>var5(t-6)</th>\n",
       "      <th>...</th>\n",
       "      <th>var1(t-2)</th>\n",
       "      <th>var2(t-2)</th>\n",
       "      <th>var3(t-2)</th>\n",
       "      <th>var4(t-2)</th>\n",
       "      <th>var5(t-2)</th>\n",
       "      <th>var1(t-1)</th>\n",
       "      <th>var2(t-1)</th>\n",
       "      <th>var3(t-1)</th>\n",
       "      <th>var4(t-1)</th>\n",
       "      <th>var5(t-1)</th>\n",
       "    </tr>\n",
       "  </thead>\n",
       "  <tbody>\n",
       "    <tr>\n",
       "      <th>7</th>\n",
       "      <td>0.948718</td>\n",
       "      <td>0.0</td>\n",
       "      <td>0.0</td>\n",
       "      <td>0.0</td>\n",
       "      <td>0.0</td>\n",
       "      <td>0.547009</td>\n",
       "      <td>0.045006</td>\n",
       "      <td>0.0</td>\n",
       "      <td>0.0</td>\n",
       "      <td>0.0</td>\n",
       "      <td>...</td>\n",
       "      <td>0.880342</td>\n",
       "      <td>0.253568</td>\n",
       "      <td>0.25</td>\n",
       "      <td>0.5</td>\n",
       "      <td>0.0</td>\n",
       "      <td>0.478633</td>\n",
       "      <td>0.294182</td>\n",
       "      <td>0.3</td>\n",
       "      <td>0.5</td>\n",
       "      <td>0.0</td>\n",
       "    </tr>\n",
       "  </tbody>\n",
       "</table>\n",
       "<p>1 rows × 35 columns</p>\n",
       "</div>"
      ],
      "text/plain": [
       "   var1(t-7)  var2(t-7)  var3(t-7)  var4(t-7)  var5(t-7)  var1(t-6)  \\\n",
       "7   0.948718        0.0        0.0        0.0        0.0   0.547009   \n",
       "\n",
       "   var2(t-6)  var3(t-6)  var4(t-6)  var5(t-6)  ...  var1(t-2)  var2(t-2)  \\\n",
       "7   0.045006        0.0        0.0        0.0  ...   0.880342   0.253568   \n",
       "\n",
       "   var3(t-2)  var4(t-2)  var5(t-2)  var1(t-1)  var2(t-1)  var3(t-1)  \\\n",
       "7       0.25        0.5        0.0   0.478633   0.294182        0.3   \n",
       "\n",
       "   var4(t-1)  var5(t-1)  \n",
       "7        0.5        0.0  \n",
       "\n",
       "[1 rows x 35 columns]"
      ]
     },
     "execution_count": 52,
     "metadata": {},
     "output_type": "execute_result"
    }
   ],
   "source": [
    "X_test.head(1)"
   ]
  },
  {
   "cell_type": "code",
   "execution_count": 53,
   "metadata": {
    "colab": {
     "base_uri": "https://localhost:8080/",
     "height": 514
    },
    "colab_type": "code",
    "id": "wRQ4QzRI82xU",
    "outputId": "d4f40c56-4553-4f57-d318-5af6c4dac4c9"
   },
   "outputs": [
    {
     "data": {
      "text/html": [
       "<div>\n",
       "<style scoped>\n",
       "    .dataframe tbody tr th:only-of-type {\n",
       "        vertical-align: middle;\n",
       "    }\n",
       "\n",
       "    .dataframe tbody tr th {\n",
       "        vertical-align: top;\n",
       "    }\n",
       "\n",
       "    .dataframe thead th {\n",
       "        text-align: right;\n",
       "    }\n",
       "</style>\n",
       "<table border=\"1\" class=\"dataframe\">\n",
       "  <thead>\n",
       "    <tr style=\"text-align: right;\">\n",
       "      <th></th>\n",
       "      <th>var1(t)</th>\n",
       "      <th>var1(t+1)</th>\n",
       "      <th>var1(t+2)</th>\n",
       "      <th>var1(t+3)</th>\n",
       "      <th>var1(t+4)</th>\n",
       "      <th>var1(t+5)</th>\n",
       "      <th>var1(t+6)</th>\n",
       "    </tr>\n",
       "  </thead>\n",
       "  <tbody>\n",
       "    <tr>\n",
       "      <th>7</th>\n",
       "      <td>0.076923</td>\n",
       "      <td>0.692308</td>\n",
       "      <td>0.230769</td>\n",
       "      <td>0.051282</td>\n",
       "      <td>0.205128</td>\n",
       "      <td>0.452991</td>\n",
       "      <td>0.410256</td>\n",
       "    </tr>\n",
       "    <tr>\n",
       "      <th>8</th>\n",
       "      <td>0.692308</td>\n",
       "      <td>0.230769</td>\n",
       "      <td>0.051282</td>\n",
       "      <td>0.205128</td>\n",
       "      <td>0.452991</td>\n",
       "      <td>0.410256</td>\n",
       "      <td>0.076923</td>\n",
       "    </tr>\n",
       "    <tr>\n",
       "      <th>9</th>\n",
       "      <td>0.230769</td>\n",
       "      <td>0.051282</td>\n",
       "      <td>0.205128</td>\n",
       "      <td>0.452991</td>\n",
       "      <td>0.410256</td>\n",
       "      <td>0.076923</td>\n",
       "      <td>0.068376</td>\n",
       "    </tr>\n",
       "    <tr>\n",
       "      <th>10</th>\n",
       "      <td>0.051282</td>\n",
       "      <td>0.205128</td>\n",
       "      <td>0.452991</td>\n",
       "      <td>0.410256</td>\n",
       "      <td>0.076923</td>\n",
       "      <td>0.068376</td>\n",
       "      <td>0.128205</td>\n",
       "    </tr>\n",
       "    <tr>\n",
       "      <th>11</th>\n",
       "      <td>0.205128</td>\n",
       "      <td>0.452991</td>\n",
       "      <td>0.410256</td>\n",
       "      <td>0.076923</td>\n",
       "      <td>0.068376</td>\n",
       "      <td>0.128205</td>\n",
       "      <td>0.324786</td>\n",
       "    </tr>\n",
       "    <tr>\n",
       "      <th>12</th>\n",
       "      <td>0.452991</td>\n",
       "      <td>0.410256</td>\n",
       "      <td>0.076923</td>\n",
       "      <td>0.068376</td>\n",
       "      <td>0.128205</td>\n",
       "      <td>0.324786</td>\n",
       "      <td>0.538462</td>\n",
       "    </tr>\n",
       "    <tr>\n",
       "      <th>13</th>\n",
       "      <td>0.410256</td>\n",
       "      <td>0.076923</td>\n",
       "      <td>0.068376</td>\n",
       "      <td>0.128205</td>\n",
       "      <td>0.324786</td>\n",
       "      <td>0.538462</td>\n",
       "      <td>0.427350</td>\n",
       "    </tr>\n",
       "    <tr>\n",
       "      <th>14</th>\n",
       "      <td>0.076923</td>\n",
       "      <td>0.068376</td>\n",
       "      <td>0.128205</td>\n",
       "      <td>0.324786</td>\n",
       "      <td>0.538462</td>\n",
       "      <td>0.427350</td>\n",
       "      <td>0.367521</td>\n",
       "    </tr>\n",
       "    <tr>\n",
       "      <th>15</th>\n",
       "      <td>0.068376</td>\n",
       "      <td>0.128205</td>\n",
       "      <td>0.324786</td>\n",
       "      <td>0.538462</td>\n",
       "      <td>0.427350</td>\n",
       "      <td>0.367521</td>\n",
       "      <td>0.632479</td>\n",
       "    </tr>\n",
       "    <tr>\n",
       "      <th>16</th>\n",
       "      <td>0.128205</td>\n",
       "      <td>0.324786</td>\n",
       "      <td>0.538462</td>\n",
       "      <td>0.427350</td>\n",
       "      <td>0.367521</td>\n",
       "      <td>0.632479</td>\n",
       "      <td>0.512821</td>\n",
       "    </tr>\n",
       "    <tr>\n",
       "      <th>17</th>\n",
       "      <td>0.324786</td>\n",
       "      <td>0.538462</td>\n",
       "      <td>0.427350</td>\n",
       "      <td>0.367521</td>\n",
       "      <td>0.632479</td>\n",
       "      <td>0.512821</td>\n",
       "      <td>1.000000</td>\n",
       "    </tr>\n",
       "    <tr>\n",
       "      <th>18</th>\n",
       "      <td>0.538462</td>\n",
       "      <td>0.427350</td>\n",
       "      <td>0.367521</td>\n",
       "      <td>0.632479</td>\n",
       "      <td>0.512821</td>\n",
       "      <td>1.000000</td>\n",
       "      <td>0.000000</td>\n",
       "    </tr>\n",
       "    <tr>\n",
       "      <th>19</th>\n",
       "      <td>0.427350</td>\n",
       "      <td>0.367521</td>\n",
       "      <td>0.632479</td>\n",
       "      <td>0.512821</td>\n",
       "      <td>1.000000</td>\n",
       "      <td>0.000000</td>\n",
       "      <td>0.547009</td>\n",
       "    </tr>\n",
       "    <tr>\n",
       "      <th>20</th>\n",
       "      <td>0.367521</td>\n",
       "      <td>0.632479</td>\n",
       "      <td>0.512821</td>\n",
       "      <td>1.000000</td>\n",
       "      <td>0.000000</td>\n",
       "      <td>0.547009</td>\n",
       "      <td>0.470086</td>\n",
       "    </tr>\n",
       "    <tr>\n",
       "      <th>21</th>\n",
       "      <td>0.632479</td>\n",
       "      <td>0.512821</td>\n",
       "      <td>1.000000</td>\n",
       "      <td>0.000000</td>\n",
       "      <td>0.547009</td>\n",
       "      <td>0.470086</td>\n",
       "      <td>0.547009</td>\n",
       "    </tr>\n",
       "  </tbody>\n",
       "</table>\n",
       "</div>"
      ],
      "text/plain": [
       "     var1(t)  var1(t+1)  var1(t+2)  var1(t+3)  var1(t+4)  var1(t+5)  var1(t+6)\n",
       "7   0.076923   0.692308   0.230769   0.051282   0.205128   0.452991   0.410256\n",
       "8   0.692308   0.230769   0.051282   0.205128   0.452991   0.410256   0.076923\n",
       "9   0.230769   0.051282   0.205128   0.452991   0.410256   0.076923   0.068376\n",
       "10  0.051282   0.205128   0.452991   0.410256   0.076923   0.068376   0.128205\n",
       "11  0.205128   0.452991   0.410256   0.076923   0.068376   0.128205   0.324786\n",
       "12  0.452991   0.410256   0.076923   0.068376   0.128205   0.324786   0.538462\n",
       "13  0.410256   0.076923   0.068376   0.128205   0.324786   0.538462   0.427350\n",
       "14  0.076923   0.068376   0.128205   0.324786   0.538462   0.427350   0.367521\n",
       "15  0.068376   0.128205   0.324786   0.538462   0.427350   0.367521   0.632479\n",
       "16  0.128205   0.324786   0.538462   0.427350   0.367521   0.632479   0.512821\n",
       "17  0.324786   0.538462   0.427350   0.367521   0.632479   0.512821   1.000000\n",
       "18  0.538462   0.427350   0.367521   0.632479   0.512821   1.000000   0.000000\n",
       "19  0.427350   0.367521   0.632479   0.512821   1.000000   0.000000   0.547009\n",
       "20  0.367521   0.632479   0.512821   1.000000   0.000000   0.547009   0.470086\n",
       "21  0.632479   0.512821   1.000000   0.000000   0.547009   0.470086   0.547009"
      ]
     },
     "execution_count": 53,
     "metadata": {},
     "output_type": "execute_result"
    }
   ],
   "source": [
    "Y_test"
   ]
  },
  {
   "cell_type": "code",
   "execution_count": 54,
   "metadata": {
    "colab": {
     "base_uri": "https://localhost:8080/",
     "height": 34
    },
    "colab_type": "code",
    "id": "07DmJEff9QuR",
    "outputId": "4b3d5f91-fa41-4721-de80-d969011c1f1c"
   },
   "outputs": [
    {
     "name": "stdout",
     "output_type": "stream",
     "text": [
      "(15, 1, 35) (15, 7) (71, 1, 35) (71, 7)\n"
     ]
    }
   ],
   "source": [
    "\n",
    "X_train=X_train.values\n",
    "X_test=X_test.values\n",
    "\n",
    "Y_train=Y_train.values\n",
    "Y_test=Y_test.values\n",
    "\n",
    "# reshape input to be 3D [samples, timesteps, features]\n",
    "X_test = X_test.reshape(X_test.shape[0], 1, X_test.shape[1])\n",
    "X_train = X_train.reshape(X_train.shape[0], 1, X_train.shape[1])\n",
    "\n",
    "print(X_test.shape, Y_test.shape, X_train.shape, Y_train.shape)\n"
   ]
  },
  {
   "cell_type": "code",
   "execution_count": 55,
   "metadata": {
    "colab": {
     "base_uri": "https://localhost:8080/",
     "height": 34
    },
    "colab_type": "code",
    "id": "eJREoCRk9QuY",
    "outputId": "1d3cec0c-69fb-4418-957b-c6cbd29b4001"
   },
   "outputs": [
    {
     "name": "stdout",
     "output_type": "stream",
     "text": [
      "(15, 1, 35) (15, 7) (71, 1, 35) (71, 7)\n"
     ]
    }
   ],
   "source": [
    "'''\n",
    "n_input = X_train.shape[1] * X_train.shape[2]\n",
    "X_train= X_train.reshape((X_train.shape[0], n_input))\n",
    "n_input2 = X_test.shape[1] * X_test.shape[2]\n",
    "X_test= X_test.reshape((X_test.shape[0], n_input2))\n",
    "'''\n",
    "print(X_test.shape, Y_test.shape, X_train.shape, Y_train.shape)"
   ]
  },
  {
   "cell_type": "code",
   "execution_count": 56,
   "metadata": {
    "colab": {},
    "colab_type": "code",
    "id": "ub47_80krKWx"
   },
   "outputs": [],
   "source": [
    "# evaluate one or more weekly forecasts against expected values\n",
    "def evaluate_forecasts(actual, predicted):\n",
    "\tscores = list()\n",
    "\t# calculate an RMSE score for each day\n",
    "\tfor i in range(actual.shape[1]):\n",
    "\t\t# calculate mse\n",
    "\t\tmse = mean_squared_error(actual[:, i], predicted[:, i])\n",
    "\t\t# calculate rmse\n",
    "\t\trmse = sqrt(mse)\n",
    "\t\t# store\n",
    "\t\tscores.append(rmse)\n",
    "\t# calculate overall RMSE\n",
    "\ts = 0\n",
    "\tfor row in range(actual.shape[0]):\n",
    "\t\tfor col in range(actual.shape[1]):\n",
    "\t\t\ts += (actual[row, col] - predicted[row, col])**2\n",
    "\tscore = sqrt(s / (actual.shape[0] * actual.shape[1]))\n",
    "\treturn score, scores"
   ]
  },
  {
   "cell_type": "code",
   "execution_count": 57,
   "metadata": {
    "colab": {},
    "colab_type": "code",
    "id": "NB-CCOIZrapK"
   },
   "outputs": [],
   "source": [
    "# summarize scores\n",
    "def summarize_scores(name, score, scores):\n",
    "\ts_scores = ', '.join(['%.1f' % s for s in scores])\n",
    "\tprint('%s: [%.3f] %s' % (name, score, s_scores))"
   ]
  },
  {
   "cell_type": "code",
   "execution_count": 58,
   "metadata": {
    "colab": {
     "base_uri": "https://localhost:8080/",
     "height": 51
    },
    "colab_type": "code",
    "id": "ZHOezS_-j1ZK",
    "outputId": "534b4398-219f-47d2-fff2-0f847631fae4"
   },
   "outputs": [
    {
     "data": {
      "text/plain": [
       "array([0.07692309, 0.6923078 , 0.23076923, 0.05128206, 0.20512821,\n",
       "       0.4529915 , 0.41025645], dtype=float32)"
      ]
     },
     "execution_count": 58,
     "metadata": {},
     "output_type": "execute_result"
    }
   ],
   "source": [
    "Y_test[0]"
   ]
  },
  {
   "cell_type": "code",
   "execution_count": 59,
   "metadata": {
    "colab": {
     "base_uri": "https://localhost:8080/",
     "height": 153
    },
    "colab_type": "code",
    "id": "Wow-x_Bi_i7k",
    "outputId": "a071e5be-118f-4337-e3c4-8b60b24066e0"
   },
   "outputs": [
    {
     "data": {
      "text/plain": [
       "array([[0.07692309, 0.30900097, 0.34999943, 0.5       , 0.        ,\n",
       "        0.6923078 , 0.36333704, 0.39999962, 0.5       , 0.        ,\n",
       "        0.23076923, 0.3880353 , 0.5       , 1.        , 0.        ,\n",
       "        0.05128206, 0.40120745, 0.5       , 0.        , 0.        ,\n",
       "        0.20512821, 0.4242592 , 0.5       , 0.        , 0.        ,\n",
       "        0.4529915 , 0.46322727, 0.5       , 0.        , 0.        ,\n",
       "        0.41025645, 0.49945116, 0.5999994 , 1.        , 0.        ]],\n",
       "      dtype=float32)"
      ]
     },
     "execution_count": 59,
     "metadata": {},
     "output_type": "execute_result"
    }
   ],
   "source": [
    "X_test[7]"
   ]
  },
  {
   "cell_type": "code",
   "execution_count": 102,
   "metadata": {
    "colab": {
     "base_uri": "https://localhost:8080/",
     "height": 1000
    },
    "colab_type": "code",
    "id": "FPUs6FDUj-kn",
    "outputId": "150599fb-1448-4dfe-ee3c-1c5410af5fd1"
   },
   "outputs": [
    {
     "name": "stdout",
     "output_type": "stream",
     "text": [
      "(71, 1, 35)\n",
      "Model: \"sequential_2\"\n",
      "_________________________________________________________________\n",
      "Layer (type)                 Output Shape              Param #   \n",
      "=================================================================\n",
      "gru_4 (GRU)                  (None, 1, 65)             19890     \n",
      "_________________________________________________________________\n",
      "gru_5 (GRU)                  (None, 55)                20130     \n",
      "_________________________________________________________________\n",
      "dropout_2 (Dropout)          (None, 55)                0         \n",
      "_________________________________________________________________\n",
      "dense_2 (Dense)              (None, 7)                 392       \n",
      "=================================================================\n",
      "Total params: 40,412\n",
      "Trainable params: 40,412\n",
      "Non-trainable params: 0\n",
      "_________________________________________________________________\n"
     ]
    },
    {
     "data": {
      "image/png": "[encoded data removed]",
      "text/plain": [
       "<Figure size 432x288 with 1 Axes>"
      ]
     },
     "metadata": {
      "needs_background": "light"
     },
     "output_type": "display_data"
    },
    {
     "name": "stdout",
     "output_type": "stream",
     "text": [
      "(71, 7)\n",
      "(71, 7)\n",
      "(71, 7)\n",
      "score_train: [22.256] 21.4, 21.6, 23.0, 21.4, 22.4, 23.1, 22.8\n",
      "(15, 1, 35)\n",
      "score_test: [28.253] 32.2, 33.8, 39.8, 39.8, 8.8, 10.4, 7.5\n"
     ]
    }
   ],
   "source": [
    "from tensorflow.keras.callbacks import EarlyStopping\n",
    "\n",
    "print(X_train.shape)\n",
    "model = keras.Sequential()  \n",
    "model.add(GRU(65, activation='tanh',return_sequences=True, input_shape=(X_train.shape[1], X_train.shape[2])))\n",
    "\n",
    "model.add(GRU(55, activation='tanh'))\n",
    "model.add(Dropout(0.2))\n",
    "model.add(Dense(n_out))\n",
    "model.compile(optimizer='adam', loss='mse')\n",
    "\n",
    "history = model.fit(X_train, Y_train, epochs=20,batch_size=64, validation_data=(X_test[[0,7,14]], Y_test[[0,7,14]]), \n",
    "                callbacks=[EarlyStopping(monitor='val_loss', patience=2)], verbose=0)\n",
    "model.summary()\n",
    "# plot history\n",
    "pyplot.plot(history.history['loss'], label='train')\n",
    "pyplot.plot(history.history['val_loss'], label='test')\n",
    "pyplot.legend()\n",
    "pyplot.show()\n",
    "\n",
    "pred_train = model.predict(X_train)\n",
    "print(pred_train.shape)\n",
    "pred_train = pred_train.reshape(-1,n_out)\n",
    "\n",
    "print(Y_train.shape)\n",
    "print(pred_train.shape)\n",
    "score_train ,scores_train = evaluate_forecasts(scaler2.inverse_transform(Y_train) ,scaler2.inverse_transform(pred_train))\n",
    "summarize_scores('score_train', score_train, scores_train) \n",
    "\n",
    "print(X_test.shape)\n",
    "prediction = model.predict(X_test) \n",
    "prediction = prediction.reshape(-1, n_out)\n",
    "\n",
    "\n",
    "score_test ,scores_test = evaluate_forecasts(scaler2.inverse_transform(Y_test[[0,7,14]]) ,scaler2.inverse_transform(prediction[[0,7,14]]))\n",
    "summarize_scores('score_test', score_test, scores_test) \n"
   ]
  },
  {
   "cell_type": "code",
   "execution_count": 103,
   "metadata": {
    "colab": {
     "base_uri": "https://localhost:8080/",
     "height": 34
    },
    "colab_type": "code",
    "id": "o6Rka0jF9Qun",
    "outputId": "b78ea6e0-8cd1-4e12-aea4-43b8f8334829"
   },
   "outputs": [
    {
     "data": {
      "text/plain": [
       "(3, 7)"
      ]
     },
     "execution_count": 103,
     "metadata": {},
     "output_type": "execute_result"
    }
   ],
   "source": [
    "from sklearn.metrics import mean_squared_error\n",
    "from sklearn.metrics import mean_absolute_error\n",
    "\n",
    "\n",
    "# make a prediction\n",
    "yhat = model.predict(X_test[[0,7,14]])\n",
    "yhat.shape "
   ]
  },
  {
   "cell_type": "code",
   "execution_count": 104,
   "metadata": {
    "colab": {},
    "colab_type": "code",
    "id": "CY6FfnRNkQEd"
   },
   "outputs": [],
   "source": [
    "yhat = yhat.reshape(-1, yhat.shape[-1])"
   ]
  },
  {
   "cell_type": "code",
   "execution_count": 105,
   "metadata": {
    "colab": {},
    "colab_type": "code",
    "id": "ATgV091YkhFP"
   },
   "outputs": [],
   "source": [
    "#yhat"
   ]
  },
  {
   "cell_type": "code",
   "execution_count": 106,
   "metadata": {
    "colab": {},
    "colab_type": "code",
    "id": "bRqbH081j3q4"
   },
   "outputs": [],
   "source": [
    "# invert scaling for forecast\n",
    "y_test_pred = scaler2.inverse_transform(yhat)\n",
    "#print(inv_yhat)\n",
    "# invert scaling for actual\n",
    "Y_test_true =Y_test[[0,7,14]]\n",
    "Y_test_true = Y_test_true.reshape(-1, Y_test_true.shape[-1])\n",
    "y_test_true= scaler2.inverse_transform(Y_test_true)\n",
    "#print(inv_y)"
   ]
  },
  {
   "cell_type": "code",
   "execution_count": 107,
   "metadata": {
    "colab": {
     "base_uri": "https://localhost:8080/",
     "height": 136
    },
    "colab_type": "code",
    "id": "EdfBSFCL6bR_",
    "outputId": "1271c93b-c3d4-4464-c2ca-2677b70a0d0d"
   },
   "outputs": [
    {
     "data": {
      "text/plain": [
       "DatetimeIndex(['2020-05-25', '2020-05-26', '2020-05-27', '2020-05-28',\n",
       "               '2020-05-29', '2020-05-30', '2020-05-31', '2020-06-01',\n",
       "               '2020-06-02', '2020-06-03', '2020-06-04', '2020-06-05',\n",
       "               '2020-06-06', '2020-06-07', '2020-06-08', '2020-06-09',\n",
       "               '2020-06-10', '2020-06-11', '2020-06-12', '2020-06-13',\n",
       "               '2020-06-14'],\n",
       "              dtype='datetime64[ns]', name='timestamp', freq=None)"
      ]
     },
     "execution_count": 107,
     "metadata": {},
     "output_type": "execute_result"
    }
   ],
   "source": [
    "days"
   ]
  },
  {
   "cell_type": "code",
   "execution_count": 108,
   "metadata": {
    "colab": {},
    "colab_type": "code",
    "id": "4M0t6w-y9Qu1"
   },
   "outputs": [],
   "source": [
    "test_res=pd.DataFrame()\n",
    "test_res['Prediction']=y_test_pred.flatten()[0:21]\n",
    "test_res['real']=y_test_true.flatten()[0:21]\n",
    "test_res.set_index(days,inplace=True)"
   ]
  },
  {
   "cell_type": "code",
   "execution_count": 109,
   "metadata": {
    "colab": {
     "base_uri": "https://localhost:8080/",
     "height": 731
    },
    "colab_type": "code",
    "id": "WA9i7Thc9Qu6",
    "outputId": "8c2d4298-0f6c-437b-d7fc-523b6c9b6aa6",
    "scrolled": true
   },
   "outputs": [
    {
     "data": {
      "text/html": [
       "<div>\n",
       "<style scoped>\n",
       "    .dataframe tbody tr th:only-of-type {\n",
       "        vertical-align: middle;\n",
       "    }\n",
       "\n",
       "    .dataframe tbody tr th {\n",
       "        vertical-align: top;\n",
       "    }\n",
       "\n",
       "    .dataframe thead th {\n",
       "        text-align: right;\n",
       "    }\n",
       "</style>\n",
       "<table border=\"1\" class=\"dataframe\">\n",
       "  <thead>\n",
       "    <tr style=\"text-align: right;\">\n",
       "      <th></th>\n",
       "      <th>Prediction</th>\n",
       "      <th>real</th>\n",
       "    </tr>\n",
       "    <tr>\n",
       "      <th>timestamp</th>\n",
       "      <th></th>\n",
       "      <th></th>\n",
       "    </tr>\n",
       "  </thead>\n",
       "  <tbody>\n",
       "    <tr>\n",
       "      <th>2020-05-25</th>\n",
       "      <td>61.539391</td>\n",
       "      <td>27.0</td>\n",
       "    </tr>\n",
       "    <tr>\n",
       "      <th>2020-05-26</th>\n",
       "      <td>60.839764</td>\n",
       "      <td>99.0</td>\n",
       "    </tr>\n",
       "    <tr>\n",
       "      <th>2020-05-27</th>\n",
       "      <td>39.482685</td>\n",
       "      <td>45.0</td>\n",
       "    </tr>\n",
       "    <tr>\n",
       "      <th>2020-05-28</th>\n",
       "      <td>55.560528</td>\n",
       "      <td>24.0</td>\n",
       "    </tr>\n",
       "    <tr>\n",
       "      <th>2020-05-29</th>\n",
       "      <td>55.967915</td>\n",
       "      <td>42.0</td>\n",
       "    </tr>\n",
       "    <tr>\n",
       "      <th>2020-05-30</th>\n",
       "      <td>63.907494</td>\n",
       "      <td>71.0</td>\n",
       "    </tr>\n",
       "    <tr>\n",
       "      <th>2020-05-31</th>\n",
       "      <td>67.104393</td>\n",
       "      <td>66.0</td>\n",
       "    </tr>\n",
       "    <tr>\n",
       "      <th>2020-06-01</th>\n",
       "      <td>70.393471</td>\n",
       "      <td>27.0</td>\n",
       "    </tr>\n",
       "    <tr>\n",
       "      <th>2020-06-02</th>\n",
       "      <td>70.222885</td>\n",
       "      <td>26.0</td>\n",
       "    </tr>\n",
       "    <tr>\n",
       "      <th>2020-06-03</th>\n",
       "      <td>60.091969</td>\n",
       "      <td>33.0</td>\n",
       "    </tr>\n",
       "    <tr>\n",
       "      <th>2020-06-04</th>\n",
       "      <td>71.148750</td>\n",
       "      <td>56.0</td>\n",
       "    </tr>\n",
       "    <tr>\n",
       "      <th>2020-06-05</th>\n",
       "      <td>75.070183</td>\n",
       "      <td>81.0</td>\n",
       "    </tr>\n",
       "    <tr>\n",
       "      <th>2020-06-06</th>\n",
       "      <td>76.259247</td>\n",
       "      <td>68.0</td>\n",
       "    </tr>\n",
       "    <tr>\n",
       "      <th>2020-06-07</th>\n",
       "      <td>71.897224</td>\n",
       "      <td>61.0</td>\n",
       "    </tr>\n",
       "    <tr>\n",
       "      <th>2020-06-08</th>\n",
       "      <td>86.213303</td>\n",
       "      <td>92.0</td>\n",
       "    </tr>\n",
       "    <tr>\n",
       "      <th>2020-06-09</th>\n",
       "      <td>81.566879</td>\n",
       "      <td>78.0</td>\n",
       "    </tr>\n",
       "    <tr>\n",
       "      <th>2020-06-10</th>\n",
       "      <td>71.908875</td>\n",
       "      <td>135.0</td>\n",
       "    </tr>\n",
       "    <tr>\n",
       "      <th>2020-06-11</th>\n",
       "      <td>77.416389</td>\n",
       "      <td>18.0</td>\n",
       "    </tr>\n",
       "    <tr>\n",
       "      <th>2020-06-12</th>\n",
       "      <td>79.911560</td>\n",
       "      <td>82.0</td>\n",
       "    </tr>\n",
       "    <tr>\n",
       "      <th>2020-06-13</th>\n",
       "      <td>87.379433</td>\n",
       "      <td>73.0</td>\n",
       "    </tr>\n",
       "    <tr>\n",
       "      <th>2020-06-14</th>\n",
       "      <td>75.065834</td>\n",
       "      <td>82.0</td>\n",
       "    </tr>\n",
       "  </tbody>\n",
       "</table>\n",
       "</div>"
      ],
      "text/plain": [
       "            Prediction   real\n",
       "timestamp                    \n",
       "2020-05-25   61.539391   27.0\n",
       "2020-05-26   60.839764   99.0\n",
       "2020-05-27   39.482685   45.0\n",
       "2020-05-28   55.560528   24.0\n",
       "2020-05-29   55.967915   42.0\n",
       "2020-05-30   63.907494   71.0\n",
       "2020-05-31   67.104393   66.0\n",
       "2020-06-01   70.393471   27.0\n",
       "2020-06-02   70.222885   26.0\n",
       "2020-06-03   60.091969   33.0\n",
       "2020-06-04   71.148750   56.0\n",
       "2020-06-05   75.070183   81.0\n",
       "2020-06-06   76.259247   68.0\n",
       "2020-06-07   71.897224   61.0\n",
       "2020-06-08   86.213303   92.0\n",
       "2020-06-09   81.566879   78.0\n",
       "2020-06-10   71.908875  135.0\n",
       "2020-06-11   77.416389   18.0\n",
       "2020-06-12   79.911560   82.0\n",
       "2020-06-13   87.379433   73.0\n",
       "2020-06-14   75.065834   82.0"
      ]
     },
     "execution_count": 109,
     "metadata": {},
     "output_type": "execute_result"
    }
   ],
   "source": [
    "test_res"
   ]
  },
  {
   "cell_type": "code",
   "execution_count": 110,
   "metadata": {
    "colab": {
     "base_uri": "https://localhost:8080/",
     "height": 419
    },
    "colab_type": "code",
    "id": "d1pT_ju99QvG",
    "outputId": "954ba31d-cfb5-4462-98f7-11b88b02c417",
    "scrolled": true
   },
   "outputs": [
    {
     "data": {
      "image/png": "[encoded data removed]",
      "text/plain": [
       "<Figure size 1080x504 with 1 Axes>"
      ]
     },
     "metadata": {
      "needs_background": "light"
     },
     "output_type": "display_data"
    }
   ],
   "source": [
    "\n",
    "import pandas as pd\n",
    "import numpy as np; np.random.seed(1)\n",
    "import matplotlib.pyplot as plt\n",
    "\n",
    "fig, ax = plt.subplots(figsize=(15,7))\n",
    "plt.plot(test_res.index, test_res['real'],  label='Actual Values')\n",
    "plt.plot(test_res.index, test_res['Prediction'], label='Predicted Values')\n",
    "# If you don't like the break in the graph, change 90 to 89 in the above line\n",
    "plt.gcf().autofmt_xdate()\n",
    "plt.legend()\n",
    "plt.show()\n",
    "\n",
    "\n"
   ]
  },
  {
   "cell_type": "code",
   "execution_count": 111,
   "metadata": {
    "colab": {
     "base_uri": "https://localhost:8080/",
     "height": 119
    },
    "colab_type": "code",
    "id": "Yinhn68bce83",
    "outputId": "d2d125fc-d736-4e5e-ae67-82f832f65afc"
   },
   "outputs": [
    {
     "name": "stdout",
     "output_type": "stream",
     "text": [
      "Test Metrics\n",
      "MSE: 798.23\n",
      "RMSE: 28.25\n",
      "MAE: 21.05\n",
      "R Squared: 0.07\n",
      "Max Error: 63.09\n"
     ]
    }
   ],
   "source": [
    "import numpy as np \n",
    "from sklearn import metrics\n",
    "print('Test Metrics')\n",
    "print('MSE:', round(metrics.mean_squared_error(test_res['real'], test_res['Prediction']), 2))\n",
    "print('RMSE:',round( np.sqrt(metrics.mean_squared_error(test_res['real'], test_res['Prediction'])), 2))\n",
    "print('MAE:', round(metrics.mean_absolute_error(test_res['real'], test_res['Prediction']), 2))\n",
    "print('R Squared:', round( metrics.r2_score(test_res['real'], test_res['Prediction']), 2))\n",
    "print('Max Error:',round(  metrics.max_error(test_res['real'], test_res['Prediction']), 2))\n"
   ]
  },
  {
   "cell_type": "code",
   "execution_count": 112,
   "metadata": {
    "colab": {
     "base_uri": "https://localhost:8080/",
     "height": 34
    },
    "colab_type": "code",
    "id": "7ar1xh7-3-Oa",
    "outputId": "8f443a5c-e1af-414c-8e2a-a6b4d4d38e77"
   },
   "outputs": [
    {
     "data": {
      "text/plain": [
       "(71, 7)"
      ]
     },
     "execution_count": 112,
     "metadata": {},
     "output_type": "execute_result"
    }
   ],
   "source": [
    "# make a prediction\n",
    "y_train_pred = model.predict(X_train)\n",
    "y_train_pred .shape"
   ]
  },
  {
   "cell_type": "code",
   "execution_count": 113,
   "metadata": {
    "colab": {
     "base_uri": "https://localhost:8080/",
     "height": 34
    },
    "colab_type": "code",
    "id": "2bt8X-nT4UPx",
    "outputId": "b0e848ca-ec6b-4d1c-f97f-cf895bb10c3e"
   },
   "outputs": [
    {
     "data": {
      "text/plain": [
       "(71, 7)"
      ]
     },
     "execution_count": 113,
     "metadata": {},
     "output_type": "execute_result"
    }
   ],
   "source": [
    "y_train_pred = y_train_pred.reshape(y_train_pred.shape[0], y_train_pred.shape[1])\n",
    "y_train_pred.shape"
   ]
  },
  {
   "cell_type": "code",
   "execution_count": 114,
   "metadata": {
    "colab": {},
    "colab_type": "code",
    "id": "8fqgcl4LaD3K"
   },
   "outputs": [],
   "source": [
    "\n",
    "# invert scaling for forecast\n",
    "\n",
    "y_train_pred = scaler2.inverse_transform(y_train_pred)\n",
    "Y_train_true = Y_train.reshape((len(Y_train), n_out))\n",
    "\n",
    "y_train_real = scaler2.inverse_transform(Y_train_true )"
   ]
  },
  {
   "cell_type": "code",
   "execution_count": 115,
   "metadata": {
    "colab": {},
    "colab_type": "code",
    "id": "gMyemZvlBLLR"
   },
   "outputs": [],
   "source": [
    "\n",
    "# Flatten for final errors\n",
    "Y_train_pred_bis = y_train_pred.flatten()\n",
    "Y_train_real_bis = y_train_real.flatten()"
   ]
  },
  {
   "cell_type": "code",
   "execution_count": 116,
   "metadata": {
    "colab": {
     "base_uri": "https://localhost:8080/",
     "height": 51
    },
    "colab_type": "code",
    "id": "iASDypR9BjEx",
    "outputId": "09a3fe67-933f-4e19-8d70-d4ca4b9cd764"
   },
   "outputs": [
    {
     "data": {
      "text/plain": [
       "array([31.873566, 30.976686, 28.592852, 30.500195, 31.10947 , 34.023144,\n",
       "       32.40123 ], dtype=float32)"
      ]
     },
     "execution_count": 116,
     "metadata": {},
     "output_type": "execute_result"
    }
   ],
   "source": [
    "y_train_pred[0]"
   ]
  },
  {
   "cell_type": "code",
   "execution_count": 117,
   "metadata": {
    "colab": {},
    "colab_type": "code",
    "id": "d8xsDUPiBQZw"
   },
   "outputs": [],
   "source": [
    "#For plot \n",
    "filter_indices = [0,5,11,17,23,29,35,41,47,53,59]\n",
    "y_train_pred = y_train_pred [filter_indices ]"
   ]
  },
  {
   "cell_type": "code",
   "execution_count": 118,
   "metadata": {
    "colab": {},
    "colab_type": "code",
    "id": "vlpVvivQBNIj"
   },
   "outputs": [],
   "source": [
    "# Part of train dataset\n",
    "y_train_real= y_train_real[filter_indices]\n",
    "Y_train_pred = y_train_pred.flatten()\n",
    "Y_train_real = y_train_real.flatten()"
   ]
  },
  {
   "cell_type": "code",
   "execution_count": 119,
   "metadata": {
    "colab": {
     "base_uri": "https://localhost:8080/",
     "height": 34
    },
    "colab_type": "code",
    "id": "wVL4cb5FbOYU",
    "outputId": "32eff3af-2c23-4eef-d4fd-83514060a92b"
   },
   "outputs": [
    {
     "data": {
      "text/plain": [
       "(71, 1, 35)"
      ]
     },
     "execution_count": 119,
     "metadata": {},
     "output_type": "execute_result"
    }
   ],
   "source": [
    "mask = (df['date'] >= start_date) & (df['date'] <= end_date) &  (df['location'].isin(['Morocco']))\n",
    "date_train = df.loc[mask].date.sort_index(axis = 0) \n",
    "X_train.shape"
   ]
  },
  {
   "cell_type": "code",
   "execution_count": 120,
   "metadata": {
    "colab": {
     "base_uri": "https://localhost:8080/",
     "height": 153
    },
    "colab_type": "code",
    "id": "BVGITNMNCkOx",
    "outputId": "70dffe1d-86f8-4b5f-ed9e-84958ad81044"
   },
   "outputs": [
    {
     "data": {
      "text/plain": [
       "22928   2020-03-02\n",
       "22929   2020-03-03\n",
       "22930   2020-03-04\n",
       "22931   2020-03-05\n",
       "22932   2020-03-06\n",
       "22933   2020-03-07\n",
       "22934   2020-03-08\n",
       "Name: date, dtype: datetime64[ns]"
      ]
     },
     "execution_count": 120,
     "metadata": {},
     "output_type": "execute_result"
    }
   ],
   "source": [
    "date_train.head(7)"
   ]
  },
  {
   "cell_type": "code",
   "execution_count": 121,
   "metadata": {
    "colab": {
     "base_uri": "https://localhost:8080/",
     "height": 34
    },
    "colab_type": "code",
    "id": "p4vhRCj1dp_d",
    "outputId": "cdebc70a-77da-4da4-8318-20325d691ea7"
   },
   "outputs": [
    {
     "data": {
      "text/plain": [
       "77"
      ]
     },
     "execution_count": 121,
     "metadata": {},
     "output_type": "execute_result"
    }
   ],
   "source": [
    "taille_x = date_train.shape[0] - nb_seq\n",
    "taille_x "
   ]
  },
  {
   "cell_type": "code",
   "execution_count": 122,
   "metadata": {
    "colab": {},
    "colab_type": "code",
    "id": "RyiMOEmybx2V"
   },
   "outputs": [],
   "source": [
    "date_train = date_train.values.flatten()"
   ]
  },
  {
   "cell_type": "code",
   "execution_count": 123,
   "metadata": {
    "colab": {},
    "colab_type": "code",
    "id": "Gxq3TvRLcFSh"
   },
   "outputs": [],
   "source": [
    "prediction_train = pd.DataFrame(columns=['date_to_prediction','true_value','predict'])"
   ]
  },
  {
   "cell_type": "code",
   "execution_count": 124,
   "metadata": {
    "colab": {
     "base_uri": "https://localhost:8080/",
     "height": 34
    },
    "colab_type": "code",
    "id": "eiKGrG4Ii6en",
    "outputId": "c471a310-cce7-45ec-8b4f-467cbc016802"
   },
   "outputs": [
    {
     "data": {
      "text/plain": [
       "(77,)"
      ]
     },
     "execution_count": 124,
     "metadata": {},
     "output_type": "execute_result"
    }
   ],
   "source": [
    "Y_train_pred.shape"
   ]
  },
  {
   "cell_type": "code",
   "execution_count": 125,
   "metadata": {
    "colab": {
     "base_uri": "https://localhost:8080/",
     "height": 34
    },
    "colab_type": "code",
    "id": "0LQJBwfPjN_2",
    "outputId": "0b72a024-d91f-49c1-bb68-c9e7b54a69b2"
   },
   "outputs": [
    {
     "data": {
      "text/plain": [
       "(77,)"
      ]
     },
     "execution_count": 125,
     "metadata": {},
     "output_type": "execute_result"
    }
   ],
   "source": [
    "Y_train_real.shape"
   ]
  },
  {
   "cell_type": "code",
   "execution_count": 126,
   "metadata": {
    "colab": {
     "base_uri": "https://localhost:8080/",
     "height": 34
    },
    "colab_type": "code",
    "id": "uycdPz5Yjevr",
    "outputId": "0992979f-f9fe-4b3b-d66f-5f761691ce5d"
   },
   "outputs": [
    {
     "data": {
      "text/plain": [
       "(84,)"
      ]
     },
     "execution_count": 126,
     "metadata": {},
     "output_type": "execute_result"
    }
   ],
   "source": [
    "date_train.shape"
   ]
  },
  {
   "cell_type": "code",
   "execution_count": 127,
   "metadata": {
    "colab": {
     "base_uri": "https://localhost:8080/",
     "height": 34
    },
    "colab_type": "code",
    "id": "73zLQfJI8gJS",
    "outputId": "bd092c1d-e5c4-431a-f266-506e1c658879"
   },
   "outputs": [
    {
     "data": {
      "text/plain": [
       "(77,)"
      ]
     },
     "execution_count": 127,
     "metadata": {},
     "output_type": "execute_result"
    }
   ],
   "source": [
    "date_train[nb_seq:].shape"
   ]
  },
  {
   "cell_type": "code",
   "execution_count": 128,
   "metadata": {
    "colab": {
     "base_uri": "https://localhost:8080/",
     "height": 34
    },
    "colab_type": "code",
    "id": "Qwj36E7E1UdD",
    "outputId": "a7b9f76b-3446-4118-9ee5-dd10b83a57ef"
   },
   "outputs": [
    {
     "data": {
      "text/plain": [
       "0"
      ]
     },
     "execution_count": 128,
     "metadata": {},
     "output_type": "execute_result"
    }
   ],
   "source": [
    "suite_size = Y_train_real.shape[0]- date_train[nb_seq:].shape[0]\n",
    "suite_size "
   ]
  },
  {
   "cell_type": "code",
   "execution_count": 129,
   "metadata": {
    "colab": {
     "base_uri": "https://localhost:8080/",
     "height": 34
    },
    "colab_type": "code",
    "id": "Mazim5ta2d0m",
    "outputId": "cdc30130-0e5f-492b-ffb5-a296f731091b"
   },
   "outputs": [
    {
     "data": {
      "text/plain": [
       "(0,)"
      ]
     },
     "execution_count": 129,
     "metadata": {},
     "output_type": "execute_result"
    }
   ],
   "source": [
    "Y_train_real[:-suite_size].shape"
   ]
  },
  {
   "cell_type": "code",
   "execution_count": 130,
   "metadata": {
    "colab": {
     "base_uri": "https://localhost:8080/",
     "height": 34
    },
    "colab_type": "code",
    "id": "KZdJEoPB61IL",
    "outputId": "e35f008f-da64-4af2-a451-450c639baf6d"
   },
   "outputs": [
    {
     "data": {
      "text/plain": [
       "(77,)"
      ]
     },
     "execution_count": 130,
     "metadata": {},
     "output_type": "execute_result"
    }
   ],
   "source": [
    "date_train[nb_seq:].shape"
   ]
  },
  {
   "cell_type": "code",
   "execution_count": 131,
   "metadata": {
    "colab": {
     "base_uri": "https://localhost:8080/",
     "height": 34
    },
    "colab_type": "code",
    "id": "TAxKWC6-66LL",
    "outputId": "760608b0-3a85-4060-b72d-305d7f143bc2"
   },
   "outputs": [
    {
     "data": {
      "text/plain": [
       "(0,)"
      ]
     },
     "execution_count": 131,
     "metadata": {},
     "output_type": "execute_result"
    }
   ],
   "source": [
    "Y_train_pred[:-suite_size].shape"
   ]
  },
  {
   "cell_type": "code",
   "execution_count": 132,
   "metadata": {
    "colab": {
     "base_uri": "https://localhost:8080/",
     "height": 34
    },
    "colab_type": "code",
    "id": "o--CWWcb69x4",
    "outputId": "edf2dcdd-3200-4078-891a-81acf6dbc840"
   },
   "outputs": [
    {
     "data": {
      "text/plain": [
       "(0,)"
      ]
     },
     "execution_count": 132,
     "metadata": {},
     "output_type": "execute_result"
    }
   ],
   "source": [
    "Y_train_real[:-suite_size].shape"
   ]
  },
  {
   "cell_type": "code",
   "execution_count": 133,
   "metadata": {
    "colab": {},
    "colab_type": "code",
    "id": "QjaDIQYGTMOh"
   },
   "outputs": [],
   "source": [
    "date_trainX = date_train[nb_seq:]"
   ]
  },
  {
   "cell_type": "code",
   "execution_count": 134,
   "metadata": {
    "colab": {
     "base_uri": "https://localhost:8080/",
     "height": 34
    },
    "colab_type": "code",
    "id": "4POl8PunTixf",
    "outputId": "3a8af9fc-a265-438f-ae3b-751b92c360ba"
   },
   "outputs": [
    {
     "data": {
      "text/plain": [
       "(77,)"
      ]
     },
     "execution_count": 134,
     "metadata": {},
     "output_type": "execute_result"
    }
   ],
   "source": [
    "date_trainX[0:Y_train_pred.shape[0]].shape"
   ]
  },
  {
   "cell_type": "code",
   "execution_count": 135,
   "metadata": {
    "colab": {},
    "colab_type": "code",
    "id": "qTkkDa2AZC9n"
   },
   "outputs": [],
   "source": [
    "prediction_train['date_to_prediction'] = date_trainX[0:Y_train_pred.shape[0]]\n",
    "prediction_train['predict'] = Y_train_pred\n",
    "prediction_train['true_value'] = Y_train_real\n"
   ]
  },
  {
   "cell_type": "code",
   "execution_count": 136,
   "metadata": {
    "colab": {},
    "colab_type": "code",
    "id": "BGidw3_SgNwa"
   },
   "outputs": [],
   "source": [
    "prediction_train['date_to_prediction'] = pd.to_datetime(prediction_train['date_to_prediction'], infer_datetime_format=True)"
   ]
  },
  {
   "cell_type": "code",
   "execution_count": 137,
   "metadata": {
    "colab": {},
    "colab_type": "code",
    "id": "-ZPGwmwagGDF"
   },
   "outputs": [],
   "source": [
    "prediction_train.set_index('date_to_prediction',inplace=True)"
   ]
  },
  {
   "cell_type": "code",
   "execution_count": 138,
   "metadata": {
    "colab": {
     "base_uri": "https://localhost:8080/",
     "height": 700
    },
    "colab_type": "code",
    "id": "dkR4xh_Wfr4z",
    "outputId": "9c85d2a7-1582-4e99-8255-bdf19d0fd868"
   },
   "outputs": [
    {
     "data": {
      "text/html": [
       "<div>\n",
       "<style scoped>\n",
       "    .dataframe tbody tr th:only-of-type {\n",
       "        vertical-align: middle;\n",
       "    }\n",
       "\n",
       "    .dataframe tbody tr th {\n",
       "        vertical-align: top;\n",
       "    }\n",
       "\n",
       "    .dataframe thead th {\n",
       "        text-align: right;\n",
       "    }\n",
       "</style>\n",
       "<table border=\"1\" class=\"dataframe\">\n",
       "  <thead>\n",
       "    <tr style=\"text-align: right;\">\n",
       "      <th></th>\n",
       "      <th>true_value</th>\n",
       "      <th>predict</th>\n",
       "    </tr>\n",
       "    <tr>\n",
       "      <th>date_to_prediction</th>\n",
       "      <th></th>\n",
       "      <th></th>\n",
       "    </tr>\n",
       "  </thead>\n",
       "  <tbody>\n",
       "    <tr>\n",
       "      <th>2020-03-09</th>\n",
       "      <td>20.914591</td>\n",
       "      <td>31.873566</td>\n",
       "    </tr>\n",
       "    <tr>\n",
       "      <th>2020-03-10</th>\n",
       "      <td>20.914591</td>\n",
       "      <td>30.976686</td>\n",
       "    </tr>\n",
       "    <tr>\n",
       "      <th>2020-03-11</th>\n",
       "      <td>20.914591</td>\n",
       "      <td>28.592852</td>\n",
       "    </tr>\n",
       "    <tr>\n",
       "      <th>2020-03-12</th>\n",
       "      <td>19.249111</td>\n",
       "      <td>30.500195</td>\n",
       "    </tr>\n",
       "    <tr>\n",
       "      <th>2020-03-13</th>\n",
       "      <td>18.416370</td>\n",
       "      <td>31.109470</td>\n",
       "    </tr>\n",
       "    <tr>\n",
       "      <th>2020-03-14</th>\n",
       "      <td>18.416370</td>\n",
       "      <td>34.023144</td>\n",
       "    </tr>\n",
       "    <tr>\n",
       "      <th>2020-03-15</th>\n",
       "      <td>22.580070</td>\n",
       "      <td>32.401230</td>\n",
       "    </tr>\n",
       "    <tr>\n",
       "      <th>2020-03-16</th>\n",
       "      <td>18.416370</td>\n",
       "      <td>33.029427</td>\n",
       "    </tr>\n",
       "    <tr>\n",
       "      <th>2020-03-17</th>\n",
       "      <td>22.580070</td>\n",
       "      <td>31.845549</td>\n",
       "    </tr>\n",
       "    <tr>\n",
       "      <th>2020-03-18</th>\n",
       "      <td>22.163700</td>\n",
       "      <td>29.774881</td>\n",
       "    </tr>\n",
       "    <tr>\n",
       "      <th>2020-03-19</th>\n",
       "      <td>21.747330</td>\n",
       "      <td>29.787867</td>\n",
       "    </tr>\n",
       "    <tr>\n",
       "      <th>2020-03-20</th>\n",
       "      <td>20.914591</td>\n",
       "      <td>31.510889</td>\n",
       "    </tr>\n",
       "    <tr>\n",
       "      <th>2020-03-21</th>\n",
       "      <td>22.163700</td>\n",
       "      <td>33.686722</td>\n",
       "    </tr>\n",
       "    <tr>\n",
       "      <th>2020-03-22</th>\n",
       "      <td>21.747330</td>\n",
       "      <td>31.998016</td>\n",
       "    </tr>\n",
       "    <tr>\n",
       "      <th>2020-03-23</th>\n",
       "      <td>21.747330</td>\n",
       "      <td>29.885025</td>\n",
       "    </tr>\n",
       "    <tr>\n",
       "      <th>2020-03-24</th>\n",
       "      <td>27.576513</td>\n",
       "      <td>28.246611</td>\n",
       "    </tr>\n",
       "    <tr>\n",
       "      <th>2020-03-25</th>\n",
       "      <td>22.163700</td>\n",
       "      <td>26.842310</td>\n",
       "    </tr>\n",
       "    <tr>\n",
       "      <th>2020-03-26</th>\n",
       "      <td>25.911032</td>\n",
       "      <td>29.024916</td>\n",
       "    </tr>\n",
       "    <tr>\n",
       "      <th>2020-03-27</th>\n",
       "      <td>25.911032</td>\n",
       "      <td>29.337334</td>\n",
       "    </tr>\n",
       "    <tr>\n",
       "      <th>2020-03-28</th>\n",
       "      <td>32.989323</td>\n",
       "      <td>31.169184</td>\n",
       "    </tr>\n",
       "  </tbody>\n",
       "</table>\n",
       "</div>"
      ],
      "text/plain": [
       "                    true_value    predict\n",
       "date_to_prediction                       \n",
       "2020-03-09           20.914591  31.873566\n",
       "2020-03-10           20.914591  30.976686\n",
       "2020-03-11           20.914591  28.592852\n",
       "2020-03-12           19.249111  30.500195\n",
       "2020-03-13           18.416370  31.109470\n",
       "2020-03-14           18.416370  34.023144\n",
       "2020-03-15           22.580070  32.401230\n",
       "2020-03-16           18.416370  33.029427\n",
       "2020-03-17           22.580070  31.845549\n",
       "2020-03-18           22.163700  29.774881\n",
       "2020-03-19           21.747330  29.787867\n",
       "2020-03-20           20.914591  31.510889\n",
       "2020-03-21           22.163700  33.686722\n",
       "2020-03-22           21.747330  31.998016\n",
       "2020-03-23           21.747330  29.885025\n",
       "2020-03-24           27.576513  28.246611\n",
       "2020-03-25           22.163700  26.842310\n",
       "2020-03-26           25.911032  29.024916\n",
       "2020-03-27           25.911032  29.337334\n",
       "2020-03-28           32.989323  31.169184"
      ]
     },
     "execution_count": 138,
     "metadata": {},
     "output_type": "execute_result"
    }
   ],
   "source": [
    "prediction_train.head(20)"
   ]
  },
  {
   "cell_type": "code",
   "execution_count": 139,
   "metadata": {
    "colab": {
     "base_uri": "https://localhost:8080/",
     "height": 390
    },
    "colab_type": "code",
    "id": "qrAAcYr1kJDS",
    "outputId": "c1f7577b-4ac3-4b29-880b-dea5bc04338d"
   },
   "outputs": [
    {
     "data": {
      "text/html": [
       "<div>\n",
       "<style scoped>\n",
       "    .dataframe tbody tr th:only-of-type {\n",
       "        vertical-align: middle;\n",
       "    }\n",
       "\n",
       "    .dataframe tbody tr th {\n",
       "        vertical-align: top;\n",
       "    }\n",
       "\n",
       "    .dataframe thead th {\n",
       "        text-align: right;\n",
       "    }\n",
       "</style>\n",
       "<table border=\"1\" class=\"dataframe\">\n",
       "  <thead>\n",
       "    <tr style=\"text-align: right;\">\n",
       "      <th></th>\n",
       "      <th>true_value</th>\n",
       "      <th>predict</th>\n",
       "    </tr>\n",
       "    <tr>\n",
       "      <th>date_to_prediction</th>\n",
       "      <th></th>\n",
       "      <th></th>\n",
       "    </tr>\n",
       "  </thead>\n",
       "  <tbody>\n",
       "    <tr>\n",
       "      <th>2020-05-15</th>\n",
       "      <td>76.291809</td>\n",
       "      <td>81.187721</td>\n",
       "    </tr>\n",
       "    <tr>\n",
       "      <th>2020-05-16</th>\n",
       "      <td>91.281128</td>\n",
       "      <td>87.202538</td>\n",
       "    </tr>\n",
       "    <tr>\n",
       "      <th>2020-05-17</th>\n",
       "      <td>96.693947</td>\n",
       "      <td>81.092468</td>\n",
       "    </tr>\n",
       "    <tr>\n",
       "      <th>2020-05-18</th>\n",
       "      <td>96.693947</td>\n",
       "      <td>93.036995</td>\n",
       "    </tr>\n",
       "    <tr>\n",
       "      <th>2020-05-19</th>\n",
       "      <td>76.291809</td>\n",
       "      <td>87.538559</td>\n",
       "    </tr>\n",
       "    <tr>\n",
       "      <th>2020-05-20</th>\n",
       "      <td>85.868317</td>\n",
       "      <td>75.827827</td>\n",
       "    </tr>\n",
       "    <tr>\n",
       "      <th>2020-05-21</th>\n",
       "      <td>100.857651</td>\n",
       "      <td>83.642189</td>\n",
       "    </tr>\n",
       "    <tr>\n",
       "      <th>2020-05-22</th>\n",
       "      <td>81.704620</td>\n",
       "      <td>88.182854</td>\n",
       "    </tr>\n",
       "    <tr>\n",
       "      <th>2020-05-23</th>\n",
       "      <td>108.768677</td>\n",
       "      <td>89.903252</td>\n",
       "    </tr>\n",
       "    <tr>\n",
       "      <th>2020-05-24</th>\n",
       "      <td>75.042702</td>\n",
       "      <td>83.975838</td>\n",
       "    </tr>\n",
       "  </tbody>\n",
       "</table>\n",
       "</div>"
      ],
      "text/plain": [
       "                    true_value    predict\n",
       "date_to_prediction                       \n",
       "2020-05-15           76.291809  81.187721\n",
       "2020-05-16           91.281128  87.202538\n",
       "2020-05-17           96.693947  81.092468\n",
       "2020-05-18           96.693947  93.036995\n",
       "2020-05-19           76.291809  87.538559\n",
       "2020-05-20           85.868317  75.827827\n",
       "2020-05-21          100.857651  83.642189\n",
       "2020-05-22           81.704620  88.182854\n",
       "2020-05-23          108.768677  89.903252\n",
       "2020-05-24           75.042702  83.975838"
      ]
     },
     "execution_count": 139,
     "metadata": {},
     "output_type": "execute_result"
    }
   ],
   "source": [
    "prediction_train.tail(10)"
   ]
  },
  {
   "cell_type": "code",
   "execution_count": 140,
   "metadata": {
    "colab": {
     "base_uri": "https://localhost:8080/",
     "height": 407
    },
    "colab_type": "code",
    "id": "DmuakLBwcSGK",
    "outputId": "48c80333-c5e9-4c58-fe59-1dfcd72795b1"
   },
   "outputs": [
    {
     "data": {
      "text/plain": [
       "\"\\nfig, ax = plt.subplots(figsize=(15,7))\\nplt.plot(test_res.index, test_res['real'],  label='Actual Values')\\nplt.plot(test_res.index, test_res['Prediction'], label='Predicted Values')\\n# If you don't like the break in the graph, change 90 to 89 in the above line\\nplt.gcf().autofmt_xdate()\\nplt.legend()\\nplt.show()\\n\""
      ]
     },
     "execution_count": 140,
     "metadata": {},
     "output_type": "execute_result"
    },
    {
     "data": {
      "image/png": "[encoded data removed]",
      "text/plain": [
       "<Figure size 1080x360 with 1 Axes>"
      ]
     },
     "metadata": {
      "needs_background": "light"
     },
     "output_type": "display_data"
    }
   ],
   "source": [
    "# Prédiction du train vs la réalité \n",
    "prediction_train.plot(figsize=(15,5))\n",
    "'''\n",
    "fig, ax = plt.subplots(figsize=(15,7))\n",
    "plt.plot(test_res.index, test_res['real'],  label='Actual Values')\n",
    "plt.plot(test_res.index, test_res['Prediction'], label='Predicted Values')\n",
    "# If you don't like the break in the graph, change 90 to 89 in the above line\n",
    "plt.gcf().autofmt_xdate()\n",
    "plt.legend()\n",
    "plt.show()\n",
    "'''"
   ]
  },
  {
   "cell_type": "code",
   "execution_count": 141,
   "metadata": {
    "colab": {
     "base_uri": "https://localhost:8080/",
     "height": 119
    },
    "colab_type": "code",
    "id": "sRONIqi8cTFb",
    "outputId": "17309eb7-9b87-49aa-feee-e0dad73e45de"
   },
   "outputs": [
    {
     "name": "stdout",
     "output_type": "stream",
     "text": [
      "Trains Metrics\n",
      "MSE 495.31\n",
      "RMSE 22.26\n",
      "MAE 16.25\n",
      "R2 0.38\n",
      "maxError 77.06\n"
     ]
    }
   ],
   "source": [
    "print('Trains Metrics')\n",
    "loss = tf.keras.losses.mean_squared_error(Y_train_real_bis, Y_train_pred_bis )\n",
    "print('MSE',\"{:.2f}\".format(loss))\n",
    "rmse = tf.sqrt(tf.losses.mean_squared_error(Y_train_real_bis, Y_train_pred_bis ))\n",
    "print('RMSE',\"{:.2f}\".format(rmse))\n",
    "loss2 = tf.keras.losses.MAE(Y_train_real_bis, Y_train_pred_bis )\n",
    "print('MAE',\"{:.2f}\".format(loss2))\n",
    "r2 =r2_score(Y_train_real_bis, Y_train_pred_bis )\n",
    "print('R2',\"{:.2f}\".format(r2))\n",
    "maxerror=max_error(Y_train_real_bis, Y_train_pred_bis )\n",
    "print('maxError',\"{:.2f}\".format(maxerror))"
   ]
  },
  {
   "cell_type": "code",
   "execution_count": 143,
   "metadata": {},
   "outputs": [],
   "source": [
    "test_res.to_csv('GRU_res7.csv')"
   ]
  },
  {
   "cell_type": "code",
   "execution_count": null,
   "metadata": {},
   "outputs": [],
   "source": []
  },
  {
   "cell_type": "code",
   "execution_count": null,
   "metadata": {},
   "outputs": [],
   "source": []
  },
  {
   "cell_type": "code",
   "execution_count": null,
   "metadata": {},
   "outputs": [],
   "source": []
  },
  {
   "cell_type": "code",
   "execution_count": null,
   "metadata": {},
   "outputs": [],
   "source": []
  },
  {
   "cell_type": "code",
   "execution_count": null,
   "metadata": {},
   "outputs": [],
   "source": []
  },
  {
   "cell_type": "code",
   "execution_count": null,
   "metadata": {},
   "outputs": [],
   "source": []
  },
  {
   "cell_type": "code",
   "execution_count": null,
   "metadata": {},
   "outputs": [],
   "source": []
  },
  {
   "cell_type": "code",
   "execution_count": null,
   "metadata": {},
   "outputs": [],
   "source": []
  }
 ],
 "metadata": {
  "colab": {
   "collapsed_sections": [],
   "name": "LSTM-covid-7-7-confinement.ipynb",
   "provenance": []
  },
  "kernelspec": {
   "display_name": "Python 3",
   "language": "python",
   "name": "python3"
  },
  "language_info": {
   "codemirror_mode": {
    "name": "ipython",
    "version": 3
   },
   "file_extension": ".py",
   "mimetype": "text/x-python",
   "name": "python",
   "nbconvert_exporter": "python",
   "pygments_lexer": "ipython3",
   "version": "3.7.6"
  }
 },
 "nbformat": 4,
 "nbformat_minor": 1
}
